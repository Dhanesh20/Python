{
 "cells": [
  {
   "cell_type": "code",
   "execution_count": 1,
   "metadata": {},
   "outputs": [],
   "source": [
    "import pandas as pd\n",
    "import numpy as np\n",
    "\n"
   ]
  },
  {
   "cell_type": "code",
   "execution_count": 2,
   "metadata": {},
   "outputs": [],
   "source": [
    "df=pd.read_csv(r\"C:\\Users\\prashant\\Downloads\\Employees.csv\")"
   ]
  },
  {
   "cell_type": "code",
   "execution_count": 3,
   "metadata": {},
   "outputs": [
    {
     "data": {
      "text/html": [
       "<div>\n",
       "<style scoped>\n",
       "    .dataframe tbody tr th:only-of-type {\n",
       "        vertical-align: middle;\n",
       "    }\n",
       "\n",
       "    .dataframe tbody tr th {\n",
       "        vertical-align: top;\n",
       "    }\n",
       "\n",
       "    .dataframe thead th {\n",
       "        text-align: right;\n",
       "    }\n",
       "</style>\n",
       "<table border=\"1\" class=\"dataframe\">\n",
       "  <thead>\n",
       "    <tr style=\"text-align: right;\">\n",
       "      <th></th>\n",
       "      <th>Id</th>\n",
       "      <th>Name</th>\n",
       "      <th>Age</th>\n",
       "      <th>Base Pay</th>\n",
       "      <th>OverTime Pay</th>\n",
       "      <th>Benefits</th>\n",
       "      <th>Total Pay benefits</th>\n",
       "      <th>Loan</th>\n",
       "      <th>Department</th>\n",
       "      <th>Duration</th>\n",
       "      <th>Rating</th>\n",
       "      <th>Email</th>\n",
       "      <th>State</th>\n",
       "      <th>Country</th>\n",
       "    </tr>\n",
       "  </thead>\n",
       "  <tbody>\n",
       "    <tr>\n",
       "      <th>0</th>\n",
       "      <td>1</td>\n",
       "      <td>Marcia Stephens</td>\n",
       "      <td>22</td>\n",
       "      <td>120000</td>\n",
       "      <td>60000.0</td>\n",
       "      <td>15000.0</td>\n",
       "      <td>195000.0</td>\n",
       "      <td>No</td>\n",
       "      <td>SDE</td>\n",
       "      <td>7</td>\n",
       "      <td>8.2</td>\n",
       "      <td>['marcia.stephens@reddit.com']</td>\n",
       "      <td>colarado</td>\n",
       "      <td>USA</td>\n",
       "    </tr>\n",
       "    <tr>\n",
       "      <th>1</th>\n",
       "      <td>2</td>\n",
       "      <td>Karen Lopez</td>\n",
       "      <td>22</td>\n",
       "      <td>120000</td>\n",
       "      <td>60000.0</td>\n",
       "      <td>15000.0</td>\n",
       "      <td>195000.0</td>\n",
       "      <td>No</td>\n",
       "      <td>SDE-T</td>\n",
       "      <td>6</td>\n",
       "      <td>9.3</td>\n",
       "      <td>['karen.lopez@gmail.com']</td>\n",
       "      <td>taxes</td>\n",
       "      <td>USA</td>\n",
       "    </tr>\n",
       "    <tr>\n",
       "      <th>2</th>\n",
       "      <td>3</td>\n",
       "      <td>Heather Reilly</td>\n",
       "      <td>22</td>\n",
       "      <td>60000</td>\n",
       "      <td>30000.0</td>\n",
       "      <td>7500.0</td>\n",
       "      <td>97500.0</td>\n",
       "      <td>No</td>\n",
       "      <td>SDE</td>\n",
       "      <td>5</td>\n",
       "      <td>6.6</td>\n",
       "      <td>['heather.reilly@hotmail.com']</td>\n",
       "      <td>NewBrunswick</td>\n",
       "      <td>Canada</td>\n",
       "    </tr>\n",
       "    <tr>\n",
       "      <th>3</th>\n",
       "      <td>4</td>\n",
       "      <td>Cindy Leblanc</td>\n",
       "      <td>32</td>\n",
       "      <td>70000</td>\n",
       "      <td>35000.0</td>\n",
       "      <td>8750.0</td>\n",
       "      <td>113750.0</td>\n",
       "      <td>No</td>\n",
       "      <td>Admin</td>\n",
       "      <td>1</td>\n",
       "      <td>8.0</td>\n",
       "      <td>['cindy.leblanc@hotmail.com']</td>\n",
       "      <td>colarado</td>\n",
       "      <td>USA</td>\n",
       "    </tr>\n",
       "    <tr>\n",
       "      <th>4</th>\n",
       "      <td>5</td>\n",
       "      <td>Colin Richardson</td>\n",
       "      <td>22</td>\n",
       "      <td>120000</td>\n",
       "      <td>60000.0</td>\n",
       "      <td>15000.0</td>\n",
       "      <td>195000.0</td>\n",
       "      <td>Yes</td>\n",
       "      <td>SDE</td>\n",
       "      <td>3</td>\n",
       "      <td>5.7</td>\n",
       "      <td>['colin.richardson@yahoo.com']</td>\n",
       "      <td>altai</td>\n",
       "      <td>Russia</td>\n",
       "    </tr>\n",
       "    <tr>\n",
       "      <th>...</th>\n",
       "      <td>...</td>\n",
       "      <td>...</td>\n",
       "      <td>...</td>\n",
       "      <td>...</td>\n",
       "      <td>...</td>\n",
       "      <td>...</td>\n",
       "      <td>...</td>\n",
       "      <td>...</td>\n",
       "      <td>...</td>\n",
       "      <td>...</td>\n",
       "      <td>...</td>\n",
       "      <td>...</td>\n",
       "      <td>...</td>\n",
       "      <td>...</td>\n",
       "    </tr>\n",
       "    <tr>\n",
       "      <th>995</th>\n",
       "      <td>996</td>\n",
       "      <td>Douglas English</td>\n",
       "      <td>32</td>\n",
       "      <td>110000</td>\n",
       "      <td>55000.0</td>\n",
       "      <td>13750.0</td>\n",
       "      <td>178750.0</td>\n",
       "      <td>No</td>\n",
       "      <td>SDE-T</td>\n",
       "      <td>5</td>\n",
       "      <td>9.3</td>\n",
       "      <td>['douglas.english@hotmail.com']</td>\n",
       "      <td>NewBrunswick</td>\n",
       "      <td>Canada</td>\n",
       "    </tr>\n",
       "    <tr>\n",
       "      <th>996</th>\n",
       "      <td>997</td>\n",
       "      <td>Michael Berger</td>\n",
       "      <td>27</td>\n",
       "      <td>120000</td>\n",
       "      <td>60000.0</td>\n",
       "      <td>15000.0</td>\n",
       "      <td>195000.0</td>\n",
       "      <td>No</td>\n",
       "      <td>SDE</td>\n",
       "      <td>4</td>\n",
       "      <td>9.3</td>\n",
       "      <td>['michael.berger@outlook.com']</td>\n",
       "      <td>chechnya</td>\n",
       "      <td>Russia</td>\n",
       "    </tr>\n",
       "    <tr>\n",
       "      <th>997</th>\n",
       "      <td>998</td>\n",
       "      <td>Theodore Robinson</td>\n",
       "      <td>22</td>\n",
       "      <td>96000</td>\n",
       "      <td>48000.0</td>\n",
       "      <td>12000.0</td>\n",
       "      <td>156000.0</td>\n",
       "      <td>Yes</td>\n",
       "      <td>Hr</td>\n",
       "      <td>3</td>\n",
       "      <td>9.3</td>\n",
       "      <td>['theodore.robinson@reddit.com']</td>\n",
       "      <td>adygea</td>\n",
       "      <td>Russia</td>\n",
       "    </tr>\n",
       "    <tr>\n",
       "      <th>998</th>\n",
       "      <td>999</td>\n",
       "      <td>Cindy Knox</td>\n",
       "      <td>48</td>\n",
       "      <td>80000</td>\n",
       "      <td>40000.0</td>\n",
       "      <td>10000.0</td>\n",
       "      <td>130000.0</td>\n",
       "      <td>Yes</td>\n",
       "      <td>SDE</td>\n",
       "      <td>7</td>\n",
       "      <td>6.6</td>\n",
       "      <td>['cindy.knox@hotmail.com']</td>\n",
       "      <td>Ontario</td>\n",
       "      <td>Canada</td>\n",
       "    </tr>\n",
       "    <tr>\n",
       "      <th>999</th>\n",
       "      <td>1000</td>\n",
       "      <td>Katherine Keith</td>\n",
       "      <td>30</td>\n",
       "      <td>96000</td>\n",
       "      <td>48000.0</td>\n",
       "      <td>12000.0</td>\n",
       "      <td>156000.0</td>\n",
       "      <td>No</td>\n",
       "      <td>SDE</td>\n",
       "      <td>2</td>\n",
       "      <td>8.2</td>\n",
       "      <td>['katherine.keith@hotmail.com']</td>\n",
       "      <td>NewBrunswick</td>\n",
       "      <td>Canada</td>\n",
       "    </tr>\n",
       "  </tbody>\n",
       "</table>\n",
       "<p>1000 rows × 14 columns</p>\n",
       "</div>"
      ],
      "text/plain": [
       "       Id               Name  Age  Base Pay  OverTime Pay  Benefits  \\\n",
       "0       1    Marcia Stephens   22    120000       60000.0   15000.0   \n",
       "1       2        Karen Lopez   22    120000       60000.0   15000.0   \n",
       "2       3     Heather Reilly   22     60000       30000.0    7500.0   \n",
       "3       4      Cindy Leblanc   32     70000       35000.0    8750.0   \n",
       "4       5   Colin Richardson   22    120000       60000.0   15000.0   \n",
       "..    ...                ...  ...       ...           ...       ...   \n",
       "995   996    Douglas English   32    110000       55000.0   13750.0   \n",
       "996   997     Michael Berger   27    120000       60000.0   15000.0   \n",
       "997   998  Theodore Robinson   22     96000       48000.0   12000.0   \n",
       "998   999         Cindy Knox   48     80000       40000.0   10000.0   \n",
       "999  1000    Katherine Keith   30     96000       48000.0   12000.0   \n",
       "\n",
       "     Total Pay benefits Loan Department  Duration  Rating  \\\n",
       "0              195000.0   No        SDE         7     8.2   \n",
       "1              195000.0   No      SDE-T         6     9.3   \n",
       "2               97500.0   No        SDE         5     6.6   \n",
       "3              113750.0   No      Admin         1     8.0   \n",
       "4              195000.0  Yes        SDE         3     5.7   \n",
       "..                  ...  ...        ...       ...     ...   \n",
       "995            178750.0   No      SDE-T         5     9.3   \n",
       "996            195000.0   No        SDE         4     9.3   \n",
       "997            156000.0  Yes         Hr         3     9.3   \n",
       "998            130000.0  Yes        SDE         7     6.6   \n",
       "999            156000.0   No        SDE         2     8.2   \n",
       "\n",
       "                                Email         State Country  \n",
       "0      ['marcia.stephens@reddit.com']      colarado     USA  \n",
       "1           ['karen.lopez@gmail.com']         taxes     USA  \n",
       "2      ['heather.reilly@hotmail.com']  NewBrunswick  Canada  \n",
       "3       ['cindy.leblanc@hotmail.com']      colarado     USA  \n",
       "4      ['colin.richardson@yahoo.com']         altai  Russia  \n",
       "..                                ...           ...     ...  \n",
       "995   ['douglas.english@hotmail.com']  NewBrunswick  Canada  \n",
       "996    ['michael.berger@outlook.com']      chechnya  Russia  \n",
       "997  ['theodore.robinson@reddit.com']        adygea  Russia  \n",
       "998        ['cindy.knox@hotmail.com']       Ontario  Canada  \n",
       "999   ['katherine.keith@hotmail.com']  NewBrunswick  Canada  \n",
       "\n",
       "[1000 rows x 14 columns]"
      ]
     },
     "execution_count": 3,
     "metadata": {},
     "output_type": "execute_result"
    }
   ],
   "source": [
    "df"
   ]
  },
  {
   "cell_type": "code",
   "execution_count": 4,
   "metadata": {},
   "outputs": [
    {
     "data": {
      "text/plain": [
       "Id                    0\n",
       "Name                  0\n",
       "Age                   0\n",
       "Base Pay              0\n",
       "OverTime Pay          0\n",
       "Benefits              0\n",
       "Total Pay benefits    0\n",
       "Loan                  0\n",
       "Department            0\n",
       "Duration              0\n",
       "Rating                0\n",
       "Email                 0\n",
       "State                 0\n",
       "Country               0\n",
       "dtype: int64"
      ]
     },
     "execution_count": 4,
     "metadata": {},
     "output_type": "execute_result"
    }
   ],
   "source": [
    "df.isna().sum()"
   ]
  },
  {
   "cell_type": "code",
   "execution_count": 5,
   "metadata": {},
   "outputs": [
    {
     "data": {
      "text/plain": [
       "31.836"
      ]
     },
     "execution_count": 5,
     "metadata": {},
     "output_type": "execute_result"
    }
   ],
   "source": [
    "df['Age'].mean()"
   ]
  },
  {
   "cell_type": "code",
   "execution_count": 6,
   "metadata": {},
   "outputs": [
    {
     "data": {
      "text/plain": [
       "30.0"
      ]
     },
     "execution_count": 6,
     "metadata": {},
     "output_type": "execute_result"
    }
   ],
   "source": [
    "df['Age'].median()"
   ]
  },
  {
   "cell_type": "code",
   "execution_count": 7,
   "metadata": {},
   "outputs": [],
   "source": [
    "accounts_df = df[df['Department'] == 'Accounts']"
   ]
  },
  {
   "cell_type": "code",
   "execution_count": 8,
   "metadata": {},
   "outputs": [
    {
     "data": {
      "text/plain": [
       "31.23076923076923"
      ]
     },
     "execution_count": 8,
     "metadata": {},
     "output_type": "execute_result"
    }
   ],
   "source": [
    "accounts_df['Age'].mean()"
   ]
  },
  {
   "cell_type": "code",
   "execution_count": 9,
   "metadata": {},
   "outputs": [],
   "source": [
    "Hr_df = df[df['Department'] == 'Hr']"
   ]
  },
  {
   "cell_type": "code",
   "execution_count": 10,
   "metadata": {},
   "outputs": [
    {
     "data": {
      "text/plain": [
       "31.28846153846154"
      ]
     },
     "execution_count": 10,
     "metadata": {},
     "output_type": "execute_result"
    }
   ],
   "source": [
    "Hr_df['Age'].mean()"
   ]
  },
  {
   "cell_type": "code",
   "execution_count": 11,
   "metadata": {},
   "outputs": [
    {
     "name": "stdout",
     "output_type": "stream",
     "text": [
      "22\n",
      "55\n"
     ]
    }
   ],
   "source": [
    "print(df['Age'].min())\n",
    "print(df['Age'].max())"
   ]
  },
  {
   "cell_type": "code",
   "execution_count": 12,
   "metadata": {},
   "outputs": [],
   "source": [
    "SDE_df = df[(df['Department'] == 'SDE') & (df['Country'] == 'USA')]"
   ]
  },
  {
   "cell_type": "code",
   "execution_count": 13,
   "metadata": {},
   "outputs": [
    {
     "data": {
      "text/plain": [
       "32.14393939393939"
      ]
     },
     "execution_count": 13,
     "metadata": {},
     "output_type": "execute_result"
    }
   ],
   "source": [
    "SDE_df['Age'].mean()"
   ]
  },
  {
   "cell_type": "code",
   "execution_count": 14,
   "metadata": {},
   "outputs": [
    {
     "data": {
      "text/plain": [
       "32.18181818181818"
      ]
     },
     "execution_count": 14,
     "metadata": {},
     "output_type": "execute_result"
    }
   ],
   "source": [
    "Admin_df = df[(df['Department'] == 'Admin') & (df['Country'] == 'Canada')]\n",
    "Admin_df['Age'].mean()"
   ]
  },
  {
   "cell_type": "code",
   "execution_count": 15,
   "metadata": {},
   "outputs": [
    {
     "data": {
      "text/plain": [
       "'Karen White'"
      ]
     },
     "execution_count": 15,
     "metadata": {},
     "output_type": "execute_result"
    }
   ],
   "source": [
    "sorted_employees = df.sort_values('Age', ascending=False)\n",
    "sorted_employees.iloc[0]['Name']"
   ]
  },
  {
   "cell_type": "code",
   "execution_count": 16,
   "metadata": {},
   "outputs": [
    {
     "data": {
      "text/plain": [
       "'Marcia Stephens'"
      ]
     },
     "execution_count": 16,
     "metadata": {},
     "output_type": "execute_result"
    }
   ],
   "source": [
    "sorted_employees = df.sort_values('Duration', ascending=False)\n",
    "sorted_employees.iloc[0]['Name']"
   ]
  },
  {
   "cell_type": "code",
   "execution_count": 17,
   "metadata": {},
   "outputs": [
    {
     "data": {
      "text/plain": [
       "808    96000\n",
       "Name: Base Pay, dtype: int64"
      ]
     },
     "execution_count": 17,
     "metadata": {},
     "output_type": "execute_result"
    }
   ],
   "source": [
    "sal = df[df['Name'] == 'Maria Williams']\n",
    "sal['Base Pay']"
   ]
  },
  {
   "cell_type": "code",
   "execution_count": 18,
   "metadata": {},
   "outputs": [
    {
     "data": {
      "text/plain": [
       "406    120000\n",
       "Name: Base Pay, dtype: int64"
      ]
     },
     "execution_count": 18,
     "metadata": {},
     "output_type": "execute_result"
    }
   ],
   "source": [
    "sal=df[(df['Name'] == 'Virginia Hogan') & (df['Age']==30)]\n",
    "sal['Base Pay']"
   ]
  },
  {
   "cell_type": "code",
   "execution_count": 19,
   "metadata": {},
   "outputs": [
    {
     "data": {
      "text/plain": [
       "SDE          497\n",
       "SDE-T        175\n",
       "Logistics    158\n",
       "Accounts      65\n",
       "Admin         53\n",
       "Hr            52\n",
       "Name: Department, dtype: int64"
      ]
     },
     "execution_count": 19,
     "metadata": {},
     "output_type": "execute_result"
    }
   ],
   "source": [
    "df['Department'].value_counts()"
   ]
  },
  {
   "cell_type": "code",
   "execution_count": 20,
   "metadata": {},
   "outputs": [
    {
     "data": {
      "text/plain": [
       "1    49.7\n",
       "dtype: float64"
      ]
     },
     "execution_count": 20,
     "metadata": {},
     "output_type": "execute_result"
    }
   ],
   "source": [
    "SDE_df=df[df['Department']=='SDE'].value_counts()\n",
    "counts=SDE_df.value_counts()/1000*100\n",
    "counts"
   ]
  },
  {
   "cell_type": "code",
   "execution_count": 21,
   "metadata": {},
   "outputs": [
    {
     "data": {
      "text/plain": [
       "Department\n",
       "Accounts     7.750769\n",
       "Admin        8.060377\n",
       "Hr           8.150000\n",
       "Logistics    7.955063\n",
       "SDE          7.894769\n",
       "SDE-T        7.652571\n",
       "Name: Rating, dtype: float64"
      ]
     },
     "execution_count": 21,
     "metadata": {},
     "output_type": "execute_result"
    }
   ],
   "source": [
    "df.groupby('Department')['Rating'].mean()"
   ]
  },
  {
   "cell_type": "code",
   "execution_count": 22,
   "metadata": {},
   "outputs": [
    {
     "data": {
      "text/plain": [
       "Country\n",
       "Canada            92894.308943\n",
       "Russia            92588.235294\n",
       "USA               93393.939394\n",
       "United Kingdom    95788.617886\n",
       "Name: Base Pay, dtype: float64"
      ]
     },
     "execution_count": 22,
     "metadata": {},
     "output_type": "execute_result"
    }
   ],
   "source": [
    "df[df['Department'] == 'SDE'].groupby('Country')['Base Pay'].mean()"
   ]
  },
  {
   "cell_type": "code",
   "execution_count": 23,
   "metadata": {},
   "outputs": [
    {
     "data": {
      "text/plain": [
       "93478.5100286533"
      ]
     },
     "execution_count": 23,
     "metadata": {},
     "output_type": "execute_result"
    }
   ],
   "source": [
    "loan_people=df[df['Loan'] =='Yes']\n",
    "loan_people['Base Pay'].mean()"
   ]
  },
  {
   "cell_type": "code",
   "execution_count": 24,
   "metadata": {},
   "outputs": [
    {
     "data": {
      "text/plain": [
       "outlook.com']    213\n",
       "hotmail.com']    205\n",
       "yahoo.com']      205\n",
       "gmail.com']      198\n",
       "reddit.com']     179\n",
       "Name: Domain, dtype: int64"
      ]
     },
     "execution_count": 24,
     "metadata": {},
     "output_type": "execute_result"
    }
   ],
   "source": [
    "df['Domain'] = df['Email'].str.split('@').str[1]\n",
    "domain_counts = df['Domain'].value_counts()\n",
    "domain_counts.head(5)"
   ]
  },
  {
   "cell_type": "code",
   "execution_count": null,
   "metadata": {},
   "outputs": [],
   "source": []
  }
 ],
 "metadata": {
  "kernelspec": {
   "display_name": "Python 3",
   "language": "python",
   "name": "python3"
  },
  "language_info": {
   "codemirror_mode": {
    "name": "ipython",
    "version": 3
   },
   "file_extension": ".py",
   "mimetype": "text/x-python",
   "name": "python",
   "nbconvert_exporter": "python",
   "pygments_lexer": "ipython3",
   "version": "3.11.3"
  },
  "orig_nbformat": 4
 },
 "nbformat": 4,
 "nbformat_minor": 2
}
