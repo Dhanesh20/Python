{
 "cells": [
  {
   "attachments": {},
   "cell_type": "markdown",
   "metadata": {},
   "source": [
    "#### Palindrome: Write a program that checks if a given string is a palindrome or not."
   ]
  },
  {
   "cell_type": "code",
   "execution_count": 1,
   "metadata": {},
   "outputs": [
    {
     "name": "stdout",
     "output_type": "stream",
     "text": [
      "True\n",
      "True\n"
     ]
    }
   ],
   "source": [
    "def is_palindrome(s):\n",
    "    s = s.lower() # Convert to lowercase to make the comparison case-insensitive\n",
    "    s = ''.join(c for c in s if c.isalnum()) # Remove all non-alphanumeric characters\n",
    "    return s == s[::-1] # Compare the string to its reverse\n",
    "\n",
    "# Example usage\n",
    "string1 = \"A man, a plan, a canal: Panama\"\n",
    "string2 = \"racecar\"\n",
    "\n",
    "print(is_palindrome(string1)) # True\n",
    "print(is_palindrome(string2)) # True\n"
   ]
  },
  {
   "cell_type": "code",
   "execution_count": 4,
   "metadata": {},
   "outputs": [
    {
     "name": "stdout",
     "output_type": "stream",
     "text": [
      "* * * * * \n",
      "*       * \n",
      "*       * \n",
      "*       * \n",
      "* * * * * \n"
     ]
    }
   ],
   "source": [
    "n = 5\n",
    "for row in range(n):\n",
    "    for col in range(n):\n",
    "        if row == 0 or row == n-1 or col == 0 or col == n-1:\n",
    "            print(\"*\", end=\" \")\n",
    "        else:\n",
    "            print(\" \", end=\" \")\n",
    "    print()\n"
   ]
  },
  {
   "cell_type": "code",
   "execution_count": 6,
   "metadata": {},
   "outputs": [
    {
     "name": "stdout",
     "output_type": "stream",
     "text": [
      "True\n"
     ]
    }
   ],
   "source": [
    "def is_palindrome(s):\n",
    "    s = s.lower()\n",
    "    s = ''.join(c for c in s if c.isalnum())\n",
    "    for i in range(len(s) // 2):\n",
    "        if s[i] != s[len(s) - i - 1]:\n",
    "            return False\n",
    "    return True\n",
    "string1=\"ana\"\n",
    "print(is_palindrome(string1))\n"
   ]
  },
  {
   "cell_type": "code",
   "execution_count": 7,
   "metadata": {},
   "outputs": [
    {
     "name": "stdout",
     "output_type": "stream",
     "text": [
      "The string is a palindrome.\n"
     ]
    }
   ],
   "source": [
    "string = \"racecar\"\n",
    "is_palindrome = True\n",
    "for i in range(len(string)):\n",
    "    if string[i] != string[len(string)-i-1]:\n",
    "        is_palindrome = False\n",
    "        break\n",
    "if is_palindrome:\n",
    "    print(\"The string is a palindrome.\")\n",
    "else:\n",
    "    print(\"The string is not a palindrome.\")\n"
   ]
  },
  {
   "cell_type": "code",
   "execution_count": 11,
   "metadata": {},
   "outputs": [
    {
     "name": "stdout",
     "output_type": "stream",
     "text": [
      "True\n",
      "False\n"
     ]
    }
   ],
   "source": [
    "def is_number_palindrome(n):\n",
    "    n_str = str(n)\n",
    "    return n_str == n_str[::-1]\n",
    "print(is_number_palindrome(121))\n",
    "print(is_number_palindrome(123451))"
   ]
  },
  {
   "cell_type": "code",
   "execution_count": 10,
   "metadata": {},
   "outputs": [
    {
     "name": "stdout",
     "output_type": "stream",
     "text": [
      "True\n",
      "True\n",
      "False\n",
      "True\n",
      "False\n"
     ]
    }
   ],
   "source": [
    "def is_palindrome_recursive(s):\n",
    "    if len(s) <= 1:\n",
    "        return True\n",
    "    elif s[0] != s[-1]:\n",
    "        return False\n",
    "    else:\n",
    "        return is_palindrome_recursive(s[1:-1])\n",
    "print(is_palindrome_recursive(\"racecar\")) \n",
    "print(is_palindrome_recursive(\"radar\"))\n",
    "print(is_palindrome_recursive(\"hello\"))\n",
    "print(is_palindrome_recursive(\"abccba\")) \n",
    "print(is_palindrome_recursive(\"abcdefgh\")) \n"
   ]
  },
  {
   "cell_type": "code",
   "execution_count": 20,
   "metadata": {},
   "outputs": [
    {
     "name": "stdout",
     "output_type": "stream",
     "text": [
      "    A\n",
      "   B D\n",
      "  E   I\n",
      " J     P\n",
      "QRSTUVWXY\n",
      " Z      ` \n",
      "  a    e \n",
      "   f  h \n",
      "    i \n"
     ]
    }
   ],
   "source": [
    "n = 5\n",
    "num = 65\n",
    "for i in range(n):\n",
    "    for j in range(n-i-1):\n",
    "        print(\" \", end=\"\")\n",
    "    for j in range(2*i+1):\n",
    "        if j == 0 or j == 2*i or i == n-1:\n",
    "            print(chr(num), end=\"\")\n",
    "        else:\n",
    "            print(\" \", end=\"\")\n",
    "        num += 1\n",
    "    print()\n",
    "for i in range(n-1):\n",
    "    for j in range(i+1):\n",
    "        print(\" \", end=\"\")\n",
    "    for j in range(2*(n-i-2)+1):\n",
    "        if j == 0 or j == 2*(n-i-2) or i == n-2:\n",
    "            print(chr(num), end=\" \")\n",
    "        else:\n",
    "            print(\" \", end=\"\")\n",
    "        num += 1\n",
    "    print()\n"
   ]
  },
  {
   "cell_type": "code",
   "execution_count": 22,
   "metadata": {},
   "outputs": [
    {
     "name": "stdout",
     "output_type": "stream",
     "text": [
      "1 2 Fizz 4 Buzz Fizz 7 8 Fizz Buzz 11 Fizz 13 14 FizzBuzz 16 17 Fizz 19 Buzz Fizz 22 23 Fizz Buzz 26 Fizz 28 29 FizzBuzz 31 32 Fizz 34 Buzz Fizz 37 38 Fizz Buzz 41 Fizz 43 44 FizzBuzz 46 47 Fizz 49 Buzz Fizz 52 53 Fizz Buzz 56 Fizz 58 59 FizzBuzz 61 62 Fizz 64 Buzz Fizz 67 68 Fizz Buzz 71 Fizz 73 74 FizzBuzz 76 77 Fizz 79 Buzz Fizz 82 83 Fizz Buzz 86 Fizz 88 89 FizzBuzz 91 92 Fizz 94 Buzz Fizz 97 98 Fizz Buzz "
     ]
    }
   ],
   "source": [
    "divisible = {3: \"Fizz\", 5: \"Buzz\"}\n",
    "for i in range(1, 101):\n",
    "    output = \"\"\n",
    "    for divisor in divisible:\n",
    "        if i % divisor == 0:\n",
    "            output += divisible[divisor]\n",
    "    print(output or i,end=\" \")\n"
   ]
  },
  {
   "cell_type": "code",
   "execution_count": null,
   "metadata": {},
   "outputs": [],
   "source": []
  }
 ],
 "metadata": {
  "kernelspec": {
   "display_name": "Python 3",
   "language": "python",
   "name": "python3"
  },
  "language_info": {
   "codemirror_mode": {
    "name": "ipython",
    "version": 3
   },
   "file_extension": ".py",
   "mimetype": "text/x-python",
   "name": "python",
   "nbconvert_exporter": "python",
   "pygments_lexer": "ipython3",
   "version": "3.10.9"
  },
  "orig_nbformat": 4
 },
 "nbformat": 4,
 "nbformat_minor": 2
}
