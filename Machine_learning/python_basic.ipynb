{
 "cells": [
  {
   "attachments": {},
   "cell_type": "markdown",
   "metadata": {},
   "source": [
    "### If-else statments\n",
    "\n",
    "\n",
    "If-else is a control flow statement used in computer programming that allows the execution of different blocks of code depending on whether a certain condition is true or false. The if-else statement begins with the \"if\" keyword, followed by a condition that is enclosed in parentheses. If the condition is true, the code within the corresponding block of curly braces is executed. If the condition is false, the code within the \"else\" block is executed. The \"else\" block is optional and is executed only if the condition in the \"if\" statement is false. The syntax for if-else statement in most programming languages is as follows:\n",
    "\n"
   ]
  },
  {
   "cell_type": "code",
   "execution_count": 3,
   "metadata": {},
   "outputs": [],
   "source": [
    "\n",
    "# if (condition) {\n",
    "#   // code to be executed if the condition is true\n",
    "# } else {\n",
    "#   // code to be executed if the condition is false\n",
    "# }\n"
   ]
  },
  {
   "attachments": {},
   "cell_type": "markdown",
   "metadata": {},
   "source": [
    "In Python, there are several types of if-else statements. The most common ones are:\n",
    "\n",
    "**if statement**: This is the most basic type of if-else statement, where the code within the if block is executed if the condition is true. If the condition is false, the code within the block is skipped. The syntax for the if statement in Python is:\n",
    "\n",
    "\n",
    "\n",
    "\n",
    "\n",
    "\n",
    "\n",
    "\n",
    "\n"
   ]
  },
  {
   "cell_type": "code",
   "execution_count": 4,
   "metadata": {},
   "outputs": [],
   "source": [
    "# if condition:\n",
    "    # code to be executed if the condition is true"
   ]
  },
  {
   "cell_type": "code",
   "execution_count": 8,
   "metadata": {},
   "outputs": [
    {
     "name": "stdout",
     "output_type": "stream",
     "text": [
      "You are eligible to vote\n"
     ]
    }
   ],
   "source": [
    "age = 25\n",
    "if age >= 18:\n",
    "    print(\"You are eligible to vote\")\n"
   ]
  },
  {
   "attachments": {},
   "cell_type": "markdown",
   "metadata": {},
   "source": [
    "**if-else statement:** This is the basic if-else statement, where the code within the if block is executed if the condition is true, and the code within the else block is executed if the condition is false. The syntax for the if-else statement in Python is:\n"
   ]
  },
  {
   "cell_type": "code",
   "execution_count": 5,
   "metadata": {},
   "outputs": [],
   "source": [
    "# if condition:\n",
    "#     # code to be executed if the condition is true\n",
    "# else:\n",
    "#     # code to be executed if the condition is false"
   ]
  },
  {
   "cell_type": "code",
   "execution_count": 9,
   "metadata": {},
   "outputs": [
    {
     "name": "stdout",
     "output_type": "stream",
     "text": [
      "y is greater than or equal to x\n"
     ]
    }
   ],
   "source": [
    "x = 10\n",
    "y = 20\n",
    "if x > y:\n",
    "    print(\"x is greater than y\")\n",
    "else:\n",
    "    print(\"y is greater than or equal to x\")\n"
   ]
  },
  {
   "attachments": {},
   "cell_type": "markdown",
   "metadata": {},
   "source": [
    "**if-elif-else statement:** This statement allows you to test multiple conditions and execute different blocks of code based on which condition is true. The syntax for the if-elif-else statement in Python is:\n"
   ]
  },
  {
   "cell_type": "code",
   "execution_count": 6,
   "metadata": {},
   "outputs": [],
   "source": [
    "# if condition1:\n",
    "#     # code to be executed if condition1 is true\n",
    "# elif condition2:\n",
    "#     # code to be executed if condition2 is true\n",
    "# else:\n",
    "#     # code to be executed if both condition1 and condition2 are false"
   ]
  },
  {
   "cell_type": "code",
   "execution_count": 10,
   "metadata": {},
   "outputs": [
    {
     "name": "stdout",
     "output_type": "stream",
     "text": [
      "Positive number\n"
     ]
    }
   ],
   "source": [
    "num = 5\n",
    "if num > 0:\n",
    "    print(\"Positive number\")\n",
    "elif num == 0:\n",
    "    print(\"Zero\")\n",
    "else:\n",
    "    print(\"Negative number\")\n"
   ]
  },
  {
   "attachments": {},
   "cell_type": "markdown",
   "metadata": {},
   "source": [
    "**Nested if-else statement:** This statement allows you to include one if-else statement within another. The syntax for the nested if-else statement in Python is:\n"
   ]
  },
  {
   "cell_type": "code",
   "execution_count": 7,
   "metadata": {},
   "outputs": [],
   "source": [
    "\n",
    "# if condition1:\n",
    "#     # code to be executed if condition1 is true\n",
    "#     if condition2:\n",
    "#         # code to be executed if condition2 is true\n",
    "#     else:\n",
    "#         # code to be executed if condition2 is false\n",
    "# else:\n",
    "#     # code to be executed if condition1 is false\n"
   ]
  },
  {
   "cell_type": "code",
   "execution_count": 11,
   "metadata": {},
   "outputs": [
    {
     "name": "stdout",
     "output_type": "stream",
     "text": [
      "y is greater than x\n"
     ]
    }
   ],
   "source": [
    "x = 10\n",
    "y = 20\n",
    "if x == y:\n",
    "    print(\"x and y are equal\")\n",
    "else:\n",
    "    if x > y:\n",
    "        print(\"x is greater than y\")\n",
    "    else:\n",
    "        print(\"y is greater than x\")\n"
   ]
  },
  {
   "attachments": {},
   "cell_type": "markdown",
   "metadata": {},
   "source": [
    "\n",
    "\n",
    "A loop is a control structure in programming that allows you to execute a block of code repeatedly. In Python, there are two types of loops: for loops and while loops.\n",
    "\n",
    "1. For loops:\n",
    "\n",
    "A for loop is used to iterate over a sequence (such as a list, tuple, or string) and execute a block of code for each element in the sequence. The syntax for a for loop in Python is:\n",
    "\n",
    "```\n",
    "for variable in sequence:\n",
    "    # code to be executed\n",
    "```\n"
   ]
  },
  {
   "cell_type": "code",
   "execution_count": 12,
   "metadata": {},
   "outputs": [
    {
     "name": "stdout",
     "output_type": "stream",
     "text": [
      "The sum is: 15\n"
     ]
    }
   ],
   "source": [
    "\n",
    "numbers = [1, 2, 3, 4, 5]\n",
    "sum = 0\n",
    "for num in numbers:\n",
    "    sum += num\n",
    "print(\"The sum is:\", sum)\n"
   ]
  },
  {
   "attachments": {},
   "cell_type": "markdown",
   "metadata": {},
   "source": [
    "\n",
    "2. While loops:\n",
    "\n",
    "A while loop is used to execute a block of code repeatedly as long as a certain condition is true. The syntax for a while loop in Python is:\n",
    "\n",
    "```\n",
    "while condition:\n",
    "    # code to be executed\n",
    "```\n",
    "\n",
    "\n",
    "It's important to note that while loops can potentially run indefinitely if the condition never becomes false, so it's important to ensure that the condition will eventually become false under all circumstances.\n",
    "\n",
    "These are the two main types of loops in Python. Loops are powerful tools that can simplify repetitive tasks and automate complex calculations."
   ]
  },
  {
   "cell_type": "code",
   "execution_count": 13,
   "metadata": {},
   "outputs": [
    {
     "name": "stdout",
     "output_type": "stream",
     "text": [
      "Welcome!\n"
     ]
    }
   ],
   "source": [
    "password = \"\"\n",
    "while password != \"secret\":\n",
    "    password = input(\"Enter the password: \")\n",
    "print(\"Welcome!\")"
   ]
  },
  {
   "attachments": {},
   "cell_type": "markdown",
   "metadata": {},
   "source": [
    "#### The main differences between the two types of loops in Python:\n",
    "\n",
    "|                    | For Loops | While Loops |\n",
    "|--------------------|-----------|-------------|\n",
    "| Iteration          | Over a sequence (list, tuple, string, etc.) | Until a condition is no longer true |\n",
    "| Syntax             | for variable in sequence: | while condition: |\n",
    "| Execution          | Executes a fixed number of times | Executes an indefinite number of times |\n",
    "| Initial Condition  | Optional (can start at 0 or any other index) | Required (condition must be initially true) |\n",
    "| Loop variable      | Used to access elements of sequence | Not required (can use any variable within loop body) |\n",
    "| Termination        | When all elements of sequence have been processed | When condition becomes false or loop is manually interrupted |\n",
    "| Common Uses        | Processing data stored in sequences | Repeating a task until a certain condition is met |\n",
    "\n"
   ]
  },
  {
   "attachments": {},
   "cell_type": "markdown",
   "metadata": {},
   "source": [
    "#### **Limitations of loops**\n",
    "\n",
    "The limitations of loops in Python:\n",
    "\n",
    "1. Infinite loops: If the condition used in a while loop never becomes false, the loop will continue running indefinitely, potentially causing the program to crash or freeze. This can happen if the condition is not properly defined or if there is a logic error in the loop body.\n",
    "\n",
    "2. Execution time: Loops can be time-consuming, especially if they are processing large amounts of data or running many iterations. This can slow down the program's overall execution time and make it less efficient.\n",
    "\n",
    "3. Limited flexibility: Loops are best suited for tasks that involve repeating the same operation multiple times. However, some problems require more complex logic that may not be easily expressed using loops.\n",
    "\n",
    "4. Code readability: Loops can make code more difficult to read and understand, especially if they are nested or contain complex conditionals. This can make it harder to debug and maintain the code over time.\n",
    "\n",
    "5. Complexity: As the number of loops and nested loops increases, the complexity of the code increases as well. This can make the code harder to understand and debug, especially for novice programmers.\n",
    "\n",
    "It's important to use loops judiciously and consider alternative approaches (such as list comprehensions or recursion) when appropriate to avoid these limitations.\n"
   ]
  },
  {
   "attachments": {},
   "cell_type": "markdown",
   "metadata": {},
   "source": [
    "#### While loop programs"
   ]
  },
  {
   "cell_type": "markdown",
   "metadata": {},
   "source": [
    "1. Counting from 1 to 10:\n"
   ]
  },
  {
   "cell_type": "code",
   "execution_count": 15,
   "metadata": {},
   "outputs": [
    {
     "name": "stdout",
     "output_type": "stream",
     "text": [
      "1\n",
      "2\n",
      "3\n",
      "4\n",
      "5\n",
      "6\n",
      "7\n",
      "8\n",
      "9\n",
      "10\n"
     ]
    }
   ],
   "source": [
    "\n",
    "\n",
    "\n",
    "\n",
    "num = 1\n",
    "while num <= 10:\n",
    "    print(num)\n",
    "    num += 1\n",
    "\n",
    "\n",
    "\n",
    "\n"
   ]
  },
  {
   "cell_type": "markdown",
   "metadata": {},
   "source": [
    "2. Password validation:"
   ]
  },
  {
   "cell_type": "code",
   "execution_count": 16,
   "metadata": {},
   "outputs": [
    {
     "name": "stdout",
     "output_type": "stream",
     "text": [
      "Access granted!\n"
     ]
    }
   ],
   "source": [
    "\n",
    "\n",
    "password = \"\"\n",
    "while password != \"secret\":\n",
    "    password = input(\"Enter the password: \")\n",
    "print(\"Access granted!\")\n",
    "\n",
    "\n"
   ]
  },
  {
   "cell_type": "markdown",
   "metadata": {},
   "source": [
    "3. Factorial calculation:"
   ]
  },
  {
   "cell_type": "code",
   "execution_count": 17,
   "metadata": {},
   "outputs": [
    {
     "name": "stdout",
     "output_type": "stream",
     "text": [
      "Factorial: 720\n"
     ]
    }
   ],
   "source": [
    "\n",
    "\n",
    "\n",
    "num = int(input(\"Enter a number: \"))\n",
    "factorial = 1\n",
    "while num > 0:\n",
    "    factorial *= num\n",
    "    num -= 1\n",
    "print(\"Factorial:\", factorial)\n",
    "\n"
   ]
  },
  {
   "cell_type": "markdown",
   "metadata": {},
   "source": [
    "#### For loops programs"
   ]
  },
  {
   "cell_type": "markdown",
   "metadata": {},
   "source": [
    "1. Square pattern:"
   ]
  },
  {
   "cell_type": "code",
   "execution_count": 19,
   "metadata": {},
   "outputs": [
    {
     "name": "stdout",
     "output_type": "stream",
     "text": [
      "* * * * * \n",
      "* * * * * \n",
      "* * * * * \n",
      "* * * * * \n",
      "* * * * * \n"
     ]
    }
   ],
   "source": [
    "for row in range(5):\n",
    "    for col in range(5):\n",
    "        print(\"*\", end=\" \")\n",
    "    print()"
   ]
  },
  {
   "cell_type": "markdown",
   "metadata": {},
   "source": [
    "2. Triangle pattern:"
   ]
  },
  {
   "cell_type": "code",
   "execution_count": 22,
   "metadata": {},
   "outputs": [
    {
     "name": "stdout",
     "output_type": "stream",
     "text": [
      "* \n",
      "* * \n",
      "* * * \n",
      "* * * * \n",
      "* * * * * \n"
     ]
    }
   ],
   "source": [
    "\n",
    "for row in range(1, 6):\n",
    "    for col in range(row):\n",
    "        print(\"*\", end=\" \")\n",
    "    print()\n"
   ]
  },
  {
   "cell_type": "markdown",
   "metadata": {},
   "source": [
    "3. Diamond pattern:"
   ]
  },
  {
   "cell_type": "code",
   "execution_count": 23,
   "metadata": {},
   "outputs": [
    {
     "name": "stdout",
     "output_type": "stream",
     "text": [
      "        * \n",
      "      * * \n",
      "    * * * \n",
      "  * * * * \n",
      "* * * * * \n",
      "  * * * * \n",
      "    * * * \n",
      "      * * \n",
      "        * \n"
     ]
    }
   ],
   "source": [
    "for row in range(1, 6):\n",
    "    for space in range(5-row):\n",
    "        print(\" \", end=\" \")\n",
    "    for col in range(row):\n",
    "        print(\"*\", end=\" \")\n",
    "    print()\n",
    "for row in range(4, 0, -1):\n",
    "    for space in range(5-row):\n",
    "        print(\" \", end=\" \")\n",
    "    for col in range(row):\n",
    "        print(\"*\", end=\" \")\n",
    "    print()\n",
    "\n"
   ]
  },
  {
   "attachments": {},
   "cell_type": "markdown",
   "metadata": {},
   "source": [
    "4. Butterfly pattern"
   ]
  },
  {
   "cell_type": "code",
   "execution_count": 33,
   "metadata": {},
   "outputs": [
    {
     "name": "stdout",
     "output_type": "stream",
     "text": [
      "*        *\n",
      "**      **\n",
      "***    ***\n",
      "****  ****\n",
      "**********\n",
      "****  ****\n",
      "***    ***\n",
      "**      **\n",
      "*        *\n",
      "          \n"
     ]
    }
   ],
   "source": [
    "n = int(input(\"Enter the number of rows: \"))\n",
    "for row in range(1, n+1):\n",
    "    for col in range(1, 2*n+1):\n",
    "        if col <= row or col >= 2*n-row+1:\n",
    "            print(\"*\", end=\"\")\n",
    "        else:\n",
    "            print(\" \", end=\"\")\n",
    "    print()\n",
    "for row in range(n, 0, -1):\n",
    "    for col in range(1, 2*n+1):\n",
    "        if col < row or col > 2*n-row+1:\n",
    "            print(\"*\", end=\"\")\n",
    "        else:\n",
    "            print(\" \", end=\"\")\n",
    "    print()\n"
   ]
  },
  {
   "cell_type": "code",
   "execution_count": null,
   "metadata": {},
   "outputs": [],
   "source": []
  }
 ],
 "metadata": {
  "kernelspec": {
   "display_name": "Python 3",
   "language": "python",
   "name": "python3"
  },
  "language_info": {
   "codemirror_mode": {
    "name": "ipython",
    "version": 3
   },
   "file_extension": ".py",
   "mimetype": "text/x-python",
   "name": "python",
   "nbconvert_exporter": "python",
   "pygments_lexer": "ipython3",
   "version": "3.10.9"
  },
  "orig_nbformat": 4
 },
 "nbformat": 4,
 "nbformat_minor": 2
}
