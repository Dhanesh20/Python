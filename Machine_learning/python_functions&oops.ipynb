{
 "cells": [
  {
   "attachments": {},
   "cell_type": "markdown",
   "metadata": {},
   "source": [
    "### Functions\n",
    "\n",
    "\n",
    "A function is a block of code that performs a specific task. Functions are used to break down large programs into smaller, more manageable pieces. They also make code more reusable and easier to read.\n",
    "\n",
    "Python has two main types of functions: built-in functions and user-defined functions.\n",
    "\n",
    "1. Built-in Functions: These functions are already built into Python, and they can be used without any additional setup or installation. Some examples of built-in functions in Python include:\n",
    "\n",
    "- print(): Used to print a message or value to the console.\n",
    "- len(): Used to find the length of a string, list, or other data type.\n",
    "- range(): Used to generate a sequence of numbers.\n",
    "- type(): Used to find the data type of a variable.\n",
    "\n",
    "2. User-Defined Functions: These functions are created by the programmer and are used to perform specific tasks. They can take inputs (arguments) and return outputs. The general syntax for defining a function in Python is as follows:\n",
    "\n",
    "```\n",
    "def function_name(parameters):\n",
    "    # Function body\n",
    "    return output\n",
    "```\n",
    "\n",
    "The `function_name` is the name of the function, and `parameters` are the inputs to the function. The function body contains the code that performs the task, and `return` is used to specify the output of the function.\n",
    "\n",
    "There are two types of user-defined functions in Python: \n",
    "\n",
    "- Function without Arguments: These functions do not take any input parameters. For example:\n",
    "```\n",
    "def greet():\n",
    "    print(\"Hello!\")\n",
    "```\n",
    "\n",
    "- Function with Arguments: These functions take input parameters. For example:\n",
    "```\n",
    "def add_numbers(a, b):\n",
    "    return a + b\n",
    "```\n",
    "\n",
    "\n",
    "Functions are a powerful tool in Python programming and can help make your code more modular, reusable, and efficient."
   ]
  },
  {
   "attachments": {},
   "cell_type": "markdown",
   "metadata": {},
   "source": [
    "1. Function without arguments:\n",
    "\n",
    "\n",
    "A function without arguments is a function that does not take any input parameters. It performs a specific task and returns a value if needed. Here is an example of a function without arguments:"
   ]
  },
  {
   "cell_type": "code",
   "execution_count": 8,
   "metadata": {},
   "outputs": [
    {
     "name": "stdout",
     "output_type": "stream",
     "text": [
      "Hello, world!\n"
     ]
    }
   ],
   "source": [
    "def say_hello():\n",
    "    print(\"Hello, world!\")\n",
    "say_hello()"
   ]
  },
  {
   "cell_type": "markdown",
   "metadata": {},
   "source": [
    "2. Function with arguments:\n",
    "\n",
    "A function with arguments is a function that takes one or more input parameters. It performs a specific task using the input parameters and returns a value if needed. Here is an example of a function with arguments:"
   ]
  },
  {
   "cell_type": "code",
   "execution_count": 2,
   "metadata": {},
   "outputs": [
    {
     "data": {
      "text/plain": [
       "14"
      ]
     },
     "execution_count": 2,
     "metadata": {},
     "output_type": "execute_result"
    }
   ],
   "source": [
    "def add_numbers(x, y):\n",
    "    return x + y\n",
    "add_numbers(5,9)"
   ]
  },
  {
   "cell_type": "markdown",
   "metadata": {},
   "source": [
    "\n",
    "3. Recursive functions:\n",
    "\n",
    "A recursive function is a function that calls itself repeatedly until a certain condition is met. Recursive functions are often used in algorithms that require repetitive processing. Here is an example of a recursive function:"
   ]
  },
  {
   "cell_type": "code",
   "execution_count": 3,
   "metadata": {},
   "outputs": [
    {
     "data": {
      "text/plain": [
       "720"
      ]
     },
     "execution_count": 3,
     "metadata": {},
     "output_type": "execute_result"
    }
   ],
   "source": [
    "def factorial(n):\n",
    "    if n == 1:\n",
    "        return 1\n",
    "    else:\n",
    "        return n * factorial(n-1)\n",
    "factorial(6)"
   ]
  },
  {
   "attachments": {},
   "cell_type": "markdown",
   "metadata": {},
   "source": [
    "#### *args and **kwargs\n",
    "\n",
    "*args and **kwargs are special syntax in Python that allow a function to accept an arbitrary number of arguments and keyword arguments respectively.\n",
    "\n",
    "*args is used to pass a variable number of positional arguments to a function. It allows a function to take any number of arguments, without having to specify them in advance. \n"
   ]
  },
  {
   "cell_type": "code",
   "execution_count": 5,
   "metadata": {},
   "outputs": [
    {
     "name": "stdout",
     "output_type": "stream",
     "text": [
      "15\n",
      "9\n"
     ]
    }
   ],
   "source": [
    "def sum_numbers(*args):\n",
    "    total = 0\n",
    "    for num in args:\n",
    "        total += num\n",
    "    return total\n",
    "\n",
    "print(sum_numbers(1, 2, 3, 4, 5))\n",
    "print(sum_numbers( 4, 5))   \n",
    "\n"
   ]
  },
  {
   "attachments": {},
   "cell_type": "markdown",
   "metadata": {},
   "source": [
    "**kwargs is used to pass a variable number of keyword arguments to a function. It allows a function to take any number of keyword arguments, without having to specify them in advance."
   ]
  },
  {
   "cell_type": "code",
   "execution_count": 6,
   "metadata": {},
   "outputs": [
    {
     "name": "stdout",
     "output_type": "stream",
     "text": [
      "name = Dhanesh\n",
      "age = 24\n",
      "city = Mumbai\n"
     ]
    }
   ],
   "source": [
    "def print_values(**kwargs):\n",
    "    for key, value in kwargs.items():\n",
    "        print(key + \" = \" + str(value))\n",
    "\n",
    "print_values(name=\"Dhanesh\", age=24, city=\"Mumbai\") \n"
   ]
  },
  {
   "cell_type": "code",
   "execution_count": 7,
   "metadata": {},
   "outputs": [
    {
     "name": "stdout",
     "output_type": "stream",
     "text": [
      "Positional arguments:\n",
      "1\n",
      "2\n",
      "3\n",
      "Keyword arguments:\n",
      "name: Dhanesh\n",
      "age: 24\n"
     ]
    }
   ],
   "source": [
    "def print_values(*args, **kwargs):\n",
    "    print(\"Positional arguments:\")\n",
    "    for arg in args:\n",
    "        print(arg)\n",
    "    print(\"Keyword arguments:\")\n",
    "    for key, value in kwargs.items():\n",
    "        print(f\"{key}: {value}\")\n",
    "\n",
    "print_values(1, 2, 3, name=\"Dhanesh\", age=24)\n"
   ]
  },
  {
   "cell_type": "markdown",
   "metadata": {},
   "source": [
    "1. Lambda function:\n",
    "\n",
    "A lambda function is a small anonymous function that can have any number of arguments but can only have one expression. They are often used as a shortcut for simple, one-line functions. Lambda functions are defined using the `lambda` keyword, followed by the input parameters and the expression. Here is an example of a lambda function that calculates the square of a number:\n",
    "\n"
   ]
  },
  {
   "cell_type": "code",
   "execution_count": 23,
   "metadata": {},
   "outputs": [
    {
     "name": "stdout",
     "output_type": "stream",
     "text": [
      "<function <lambda> at 0x000002077F6B92D0>\n"
     ]
    }
   ],
   "source": [
    "\n",
    "square = lambda x: x**2\n",
    "print(square)"
   ]
  },
  {
   "cell_type": "markdown",
   "metadata": {},
   "source": [
    "2. Map function:\n",
    "\n",
    "The `map()` function in Python applies a function to every item in an iterable (such as a list, tuple, or set) and returns a new iterable with the results. The function can be a built-in function or a user-defined function. Here is an example of using the `map()` function with a lambda function to calculate the squares of a list of numbers:\n"
   ]
  },
  {
   "cell_type": "code",
   "execution_count": 24,
   "metadata": {},
   "outputs": [
    {
     "name": "stdout",
     "output_type": "stream",
     "text": [
      "[1, 4, 9, 16, 25]\n"
     ]
    }
   ],
   "source": [
    "numbers = [1, 2, 3, 4, 5]\n",
    "squares = map(lambda x: x**2, numbers)\n",
    "print(list(squares))"
   ]
  },
  {
   "cell_type": "markdown",
   "metadata": {},
   "source": [
    "3. Filter function:\n",
    "\n",
    "The `filter()` function in Python filters an iterable based on a function that returns a boolean value (`True` or `False`) for each item. The function can be a built-in function or a user-defined function. Here is an example of using the `filter()` function with a lambda function to filter out even numbers from a list:\n"
   ]
  },
  {
   "cell_type": "code",
   "execution_count": null,
   "metadata": {},
   "outputs": [],
   "source": [
    "numbers = [1, 2, 3, 4, 5]\n",
    "odds = filter(lambda x: x % 2 != 0, numbers)\n",
    "print(list(odds)) "
   ]
  },
  {
   "cell_type": "markdown",
   "metadata": {},
   "source": [
    "4. Reduce function:\n",
    "\n",
    "The `reduce()` function in Python applies a function to the first two items in an iterable, then to the result and the next item, and so on, until all items have been processed. The function can be a built-in function or a user-defined function. Here is an example of using the `reduce()` function with a lambda function to calculate the product of a list of numbers:\n"
   ]
  },
  {
   "cell_type": "code",
   "execution_count": 10,
   "metadata": {},
   "outputs": [
    {
     "name": "stdout",
     "output_type": "stream",
     "text": [
      "120\n"
     ]
    }
   ],
   "source": [
    "from functools import reduce\n",
    "\n",
    "numbers = [1, 2, 3, 4, 5]\n",
    "product = reduce(lambda x, y: x*y, numbers)\n",
    "print(product) "
   ]
  },
  {
   "cell_type": "markdown",
   "metadata": {},
   "source": [
    "5. Zip function:\n",
    "\n",
    "The `zip()` function in Python takes two or more iterables and returns an iterator that aggregates the items from each iterable into tuples. The iterator stops when the shortest iterable is exhausted. Here is an example of using the `zip()` function to combine two lists:\n"
   ]
  },
  {
   "cell_type": "code",
   "execution_count": 25,
   "metadata": {},
   "outputs": [
    {
     "name": "stdout",
     "output_type": "stream",
     "text": [
      "[('Dhanesh', 24), ('Shubham', 22), ('Praful', 21)]\n"
     ]
    }
   ],
   "source": [
    "names = ['Dhanesh', 'Shubham', 'Praful']\n",
    "ages = [24, 22, 21]\n",
    "people = zip(names, ages)\n",
    "print(list(people))"
   ]
  },
  {
   "attachments": {},
   "cell_type": "markdown",
   "metadata": {},
   "source": [
    "### OOPS"
   ]
  },
  {
   "attachments": {},
   "cell_type": "markdown",
   "metadata": {},
   "source": [
    "OOPS stands for Object-Oriented Programming, and it is a programming paradigm that focuses on creating objects and classes to organize and structure code. Here are the steps to implement OOPS in Python:\n",
    "\n",
    "1. Define a Class: In Python, a class is defined using the 'class' keyword followed by the name of the class. For example:\n",
    "\n",
    "```\n",
    "class MyClass:\n",
    "    pass\n",
    "```\n",
    "\n",
    "2. Create an Object: An object is an instance of a class. To create an object in Python, you simply call the class name followed by parentheses. For example:\n",
    "\n",
    "```\n",
    "my_object = MyClass()\n",
    "```\n",
    "\n",
    "3. Define Class Variables: Class variables are variables that are shared among all objects of the class. They are defined inside the class but outside any class methods. For example:\n",
    "\n",
    "```\n",
    "class MyClass:\n",
    "    class_variable = 0\n",
    "```\n",
    "\n",
    "4. Define Instance Variables: Instance variables are variables that are unique to each object of the class. They are defined inside the class methods and are accessed using the 'self' keyword. For example:\n",
    "\n",
    "```\n",
    "class MyClass:\n",
    "    def __init__(self):\n",
    "        self.instance_variable = 0\n",
    "```\n",
    "\n",
    "5. Define Class Methods: Class methods are methods that are shared among all objects of the class. They are defined inside the class and decorated with the '@classmethod' decorator. For example:\n",
    "\n",
    "```\n",
    "class MyClass:\n",
    "    @classmethod\n",
    "    def class_method(cls):\n",
    "        print(\"This is a class method.\")\n",
    "```\n",
    "\n",
    "6. Define Instance Methods: Instance methods are methods that are unique to each object of the class. They are defined inside the class and take 'self' as the first parameter. For example:\n",
    "\n",
    "```\n",
    "class MyClass:\n",
    "    def instance_method(self):\n",
    "        print(\"This is an instance method.\")\n",
    "```\n",
    "\n",
    "7. Inheritance: Inheritance is the process of creating a new class that is a modified version of an existing class. In Python, inheritance is achieved by defining a new class and specifying the existing class in parentheses. For example:\n",
    "\n",
    "```\n",
    "class MyChildClass(MyParentClass):\n",
    "    pass\n",
    "```\n",
    "\n",
    "The child class inherits all the attributes and methods of the parent class, and can also add new attributes and methods or override the parent's attributes and methods.\n",
    "\n",
    "8. Polymorphism: Polymorphism is the ability of objects of different classes to be used interchangeably. In Python, polymorphism is achieved by defining methods with the same name in different classes. For example:\n",
    "\n",
    "```\n",
    "class Dog:\n",
    "    def sound(self):\n",
    "        print(\"Woof!\")\n",
    "\n",
    "class Cat:\n",
    "    def sound(self):\n",
    "        print(\"Meow!\")\n",
    "\n",
    "def make_sound(animal):\n",
    "    animal.sound()\n",
    "\n",
    "dog = Dog()\n",
    "cat = Cat()\n",
    "\n",
    "make_sound(dog)  # Output: Woof!\n",
    "make_sound(cat)  # Output: Meow!\n",
    "```\n",
    "\n",
    "The 'make_sound' function can take any object that has a 'sound' method, allowing it to work with objects of different classes.\n",
    "\n",
    "9. Encapsulation: Encapsulation is the process of hiding the internal details of an object from the outside world. In Python, encapsulation is achieved by defining attributes as private using a double underscore prefix. For example:\n",
    "\n",
    "```\n",
    "class MyClass:\n",
    "    def __init__(self):\n",
    "        self.__private_attribute = 0\n",
    "\n",
    "    def get_private_attribute(self):\n",
    "        return self.__private_attribute\n",
    "\n",
    "    def set_private_attribute(self, value):\n",
    "        self.__private_attribute = value\n",
    "```\n",
    "\n",
    "The private attribute '__private_attribute' can only be accessed and modified using the public methods 'get_private_attribute' and 'set_private_attribute'. This ensures that the internal details of the object are not accessed or modified directly."
   ]
  },
  {
   "cell_type": "markdown",
   "metadata": {},
   "source": []
  }
 ],
 "metadata": {
  "kernelspec": {
   "display_name": "Python 3",
   "language": "python",
   "name": "python3"
  },
  "language_info": {
   "codemirror_mode": {
    "name": "ipython",
    "version": 3
   },
   "file_extension": ".py",
   "mimetype": "text/x-python",
   "name": "python",
   "nbconvert_exporter": "python",
   "pygments_lexer": "ipython3",
   "version": "3.10.9"
  },
  "orig_nbformat": 4
 },
 "nbformat": 4,
 "nbformat_minor": 2
}
