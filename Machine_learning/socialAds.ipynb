{
 "cells": [
  {
   "cell_type": "code",
   "execution_count": 2,
   "metadata": {},
   "outputs": [],
   "source": [
    "import pandas as pd\n",
    "import numpy as np\n",
    "import matplotlib.pyplot as plt\n",
    "import seaborn as sns\n",
    "import warnings\n",
    "warnings.filterwarnings('ignore')\n",
    "\n",
    "from sklearn.model_selection import train_test_split,cross_val_score\n",
    "from sklearn.linear_model import LogisticRegression\n",
    "from sklearn.svm import SVC\n",
    "from sklearn.neighbors import KNeighborsClassifier\n",
    "from sklearn.tree import DecisionTreeClassifier\n",
    "\n",
    "from sklearn.metrics import accuracy_score,classification_report\n"
   ]
  },
  {
   "cell_type": "code",
   "execution_count": 3,
   "metadata": {},
   "outputs": [],
   "source": [
    "df=pd.read_csv(r\"C:\\Users\\prashant\\Downloads\\Social_Network_Ads.csv\")"
   ]
  },
  {
   "cell_type": "code",
   "execution_count": 4,
   "metadata": {},
   "outputs": [
    {
     "data": {
      "text/plain": [
       "0    257\n",
       "1    143\n",
       "Name: Purchased, dtype: int64"
      ]
     },
     "execution_count": 4,
     "metadata": {},
     "output_type": "execute_result"
    }
   ],
   "source": [
    "df['Purchased'].value_counts()"
   ]
  },
  {
   "cell_type": "code",
   "execution_count": 5,
   "metadata": {},
   "outputs": [],
   "source": [
    "x=df.iloc[:,2:-1]\n",
    "y=df['Purchased']"
   ]
  },
  {
   "cell_type": "code",
   "execution_count": 6,
   "metadata": {},
   "outputs": [
    {
     "name": "stdout",
     "output_type": "stream",
     "text": [
      "Requirement already satisfied: imblearn in c:\\users\\prashant\\desktop\\mlproject\\venv\\lib\\site-packages (0.0)\n",
      "Requirement already satisfied: imbalanced-learn in c:\\users\\prashant\\desktop\\mlproject\\venv\\lib\\site-packages (from imblearn) (0.11.0)\n",
      "Requirement already satisfied: numpy>=1.17.3 in c:\\users\\prashant\\desktop\\mlproject\\venv\\lib\\site-packages (from imbalanced-learn->imblearn) (1.24.2)\n",
      "Requirement already satisfied: scipy>=1.5.0 in c:\\users\\prashant\\desktop\\mlproject\\venv\\lib\\site-packages (from imbalanced-learn->imblearn) (1.10.1)\n",
      "Requirement already satisfied: scikit-learn>=1.0.2 in c:\\users\\prashant\\desktop\\mlproject\\venv\\lib\\site-packages (from imbalanced-learn->imblearn) (1.2.2)\n",
      "Requirement already satisfied: joblib>=1.1.1 in c:\\users\\prashant\\desktop\\mlproject\\venv\\lib\\site-packages (from imbalanced-learn->imblearn) (1.2.0)\n",
      "Requirement already satisfied: threadpoolctl>=2.0.0 in c:\\users\\prashant\\desktop\\mlproject\\venv\\lib\\site-packages (from imbalanced-learn->imblearn) (2.2.0)\n"
     ]
    }
   ],
   "source": [
    "!pip install imblearn"
   ]
  },
  {
   "cell_type": "code",
   "execution_count": 7,
   "metadata": {},
   "outputs": [],
   "source": [
    "import imblearn"
   ]
  },
  {
   "cell_type": "markdown",
   "metadata": {},
   "source": [
    "### UnderSampling: Deleting Samples from majority class"
   ]
  },
  {
   "cell_type": "code",
   "execution_count": 8,
   "metadata": {},
   "outputs": [],
   "source": [
    "from imblearn.under_sampling import RandomUnderSampler\n"
   ]
  },
  {
   "cell_type": "code",
   "execution_count": 9,
   "metadata": {},
   "outputs": [],
   "source": [
    "from collections import Counter"
   ]
  },
  {
   "cell_type": "code",
   "execution_count": 10,
   "metadata": {},
   "outputs": [],
   "source": [
    "rus= RandomUnderSampler(random_state=1,replacement=True)\n",
    "x_rus,y_rus=rus.fit_resample(x,y)"
   ]
  },
  {
   "cell_type": "code",
   "execution_count": 11,
   "metadata": {},
   "outputs": [
    {
     "name": "stdout",
     "output_type": "stream",
     "text": [
      "Original DataSet Counter({0: 257, 1: 143})\n",
      "Resampled DataSet Counter({0: 143, 1: 143})\n"
     ]
    }
   ],
   "source": [
    "print(\"Original DataSet\",Counter(y))\n",
    "print(\"Resampled DataSet\",Counter(y_rus))"
   ]
  },
  {
   "cell_type": "markdown",
   "metadata": {},
   "source": [
    "### OverSampling: Duplicating Samples from minority class"
   ]
  },
  {
   "cell_type": "code",
   "execution_count": 12,
   "metadata": {},
   "outputs": [],
   "source": [
    "from imblearn.over_sampling import RandomOverSampler"
   ]
  },
  {
   "cell_type": "code",
   "execution_count": 13,
   "metadata": {},
   "outputs": [],
   "source": [
    "ros=RandomOverSampler(random_state=1)\n",
    "x_ros,y_ros=ros.fit_resample(x,y)"
   ]
  },
  {
   "cell_type": "code",
   "execution_count": 14,
   "metadata": {},
   "outputs": [
    {
     "name": "stdout",
     "output_type": "stream",
     "text": [
      "Original DataSet Counter({0: 257, 1: 143})\n",
      "Resampled DataSet Counter({0: 257, 1: 257})\n"
     ]
    }
   ],
   "source": [
    "print(\"Original DataSet\",Counter(y))\n",
    "print(\"Resampled DataSet\",Counter(y_ros))"
   ]
  },
  {
   "cell_type": "markdown",
   "metadata": {},
   "source": [
    "### SMOTE : Synethic Minority OverSampling Technique"
   ]
  },
  {
   "cell_type": "code",
   "execution_count": 15,
   "metadata": {},
   "outputs": [],
   "source": [
    "from imblearn.over_sampling import SMOTE"
   ]
  },
  {
   "cell_type": "code",
   "execution_count": 16,
   "metadata": {},
   "outputs": [],
   "source": [
    "xtrain,xtest,ytrain,ytest=train_test_split(x,y,test_size=0.30,random_state=1)"
   ]
  },
  {
   "cell_type": "code",
   "execution_count": 17,
   "metadata": {},
   "outputs": [
    {
     "name": "stdout",
     "output_type": "stream",
     "text": [
      "              precision    recall  f1-score   support\n",
      "\n",
      "           0       0.60      1.00      0.75        72\n",
      "           1       0.00      0.00      0.00        48\n",
      "\n",
      "    accuracy                           0.60       120\n",
      "   macro avg       0.30      0.50      0.37       120\n",
      "weighted avg       0.36      0.60      0.45       120\n",
      "\n"
     ]
    }
   ],
   "source": [
    "lr=LogisticRegression()\n",
    "lr.fit(xtrain,ytrain.ravel())\n",
    "ypred=lr.predict(xtest)\n",
    "print(classification_report(ytest,ypred))"
   ]
  },
  {
   "cell_type": "code",
   "execution_count": 18,
   "metadata": {},
   "outputs": [
    {
     "name": "stdout",
     "output_type": "stream",
     "text": [
      "Before Counter({0: 185, 1: 95})\n",
      "After Counter({0: 185, 1: 185})\n"
     ]
    }
   ],
   "source": [
    "counter=Counter(ytrain)\n",
    "print(\"Before\",counter)\n",
    "sm=SMOTE()\n",
    "xtrain,ytrain=sm.fit_resample(xtrain,ytrain)\n",
    "xtrain1,ytrain1=sm.fit_resample(xtrain,ytrain)\n",
    "\n",
    "counter=Counter(ytrain1)\n",
    "print(\"After\",counter)"
   ]
  },
  {
   "cell_type": "code",
   "execution_count": 19,
   "metadata": {},
   "outputs": [
    {
     "name": "stdout",
     "output_type": "stream",
     "text": [
      "              precision    recall  f1-score   support\n",
      "\n",
      "           0       0.00      0.00      0.00        72\n",
      "           1       0.40      1.00      0.57        48\n",
      "\n",
      "    accuracy                           0.40       120\n",
      "   macro avg       0.20      0.50      0.29       120\n",
      "weighted avg       0.16      0.40      0.23       120\n",
      "\n"
     ]
    }
   ],
   "source": [
    "lr=LogisticRegression()\n",
    "lr.fit(xtrain1,ytrain1)\n",
    "ypred=lr.predict(xtest)\n",
    "print(classification_report(ytest,ypred))"
   ]
  },
  {
   "cell_type": "code",
   "execution_count": 35,
   "metadata": {},
   "outputs": [],
   "source": [
    "xtrain,xtest,ytrain,ytest=train_test_split(x_rus,y_rus,test_size=0.30,random_state=1)"
   ]
  },
  {
   "cell_type": "code",
   "execution_count": 36,
   "metadata": {},
   "outputs": [
    {
     "name": "stdout",
     "output_type": "stream",
     "text": [
      "              precision    recall  f1-score   support\n",
      "\n",
      "           0       0.00      0.00      0.00        40\n",
      "           1       0.53      1.00      0.70        46\n",
      "\n",
      "    accuracy                           0.53        86\n",
      "   macro avg       0.27      0.50      0.35        86\n",
      "weighted avg       0.29      0.53      0.37        86\n",
      "\n"
     ]
    }
   ],
   "source": [
    "lr=LogisticRegression()\n",
    "lr.fit(xtrain1,ytrain1)\n",
    "ypred=lr.predict(xtest)\n",
    "print(classification_report(ytest,ypred))"
   ]
  },
  {
   "cell_type": "code",
   "execution_count": 37,
   "metadata": {},
   "outputs": [
    {
     "name": "stdout",
     "output_type": "stream",
     "text": [
      "              precision    recall  f1-score   support\n",
      "\n",
      "           0       0.00      0.00      0.00        40\n",
      "           1       0.53      1.00      0.70        46\n",
      "\n",
      "    accuracy                           0.53        86\n",
      "   macro avg       0.27      0.50      0.35        86\n",
      "weighted avg       0.29      0.53      0.37        86\n",
      "\n"
     ]
    }
   ],
   "source": [
    "lr=LogisticRegression(solver='liblinear')\n",
    "lr.fit(xtrain,ytrain)\n",
    "ypred=lr.predict(xtest)\n",
    "print(classification_report(ytest,ypred))"
   ]
  },
  {
   "cell_type": "code",
   "execution_count": 28,
   "metadata": {},
   "outputs": [
    {
     "name": "stdout",
     "output_type": "stream",
     "text": [
      "              precision    recall  f1-score   support\n",
      "\n",
      "           0       0.89      0.78      0.83        40\n",
      "           1       0.82      0.91      0.87        46\n",
      "\n",
      "    accuracy                           0.85        86\n",
      "   macro avg       0.85      0.84      0.85        86\n",
      "weighted avg       0.85      0.85      0.85        86\n",
      "\n"
     ]
    }
   ],
   "source": [
    "lr=LogisticRegression(solver='newton-cg')\n",
    "lr.fit(xtrain1,ytrain1)\n",
    "ypred=lr.predict(xtest)\n",
    "print(classification_report(ytest,ypred))"
   ]
  },
  {
   "cell_type": "code",
   "execution_count": 38,
   "metadata": {},
   "outputs": [
    {
     "name": "stdout",
     "output_type": "stream",
     "text": [
      "              precision    recall  f1-score   support\n",
      "\n",
      "           0       0.84      0.78      0.81        40\n",
      "           1       0.82      0.87      0.84        46\n",
      "\n",
      "    accuracy                           0.83        86\n",
      "   macro avg       0.83      0.82      0.82        86\n",
      "weighted avg       0.83      0.83      0.82        86\n",
      "\n"
     ]
    }
   ],
   "source": [
    "lr=LogisticRegression(solver='newton-cg')\n",
    "lr.fit(xtrain,ytrain)\n",
    "ypred=lr.predict(xtest)\n",
    "print(classification_report(ytest,ypred))"
   ]
  },
  {
   "cell_type": "code",
   "execution_count": null,
   "metadata": {},
   "outputs": [],
   "source": []
  },
  {
   "cell_type": "code",
   "execution_count": 29,
   "metadata": {},
   "outputs": [],
   "source": [
    "xtrain,xtest,ytrain,ytest=train_test_split(x_ros,y_ros,test_size=0.30,random_state=1)"
   ]
  },
  {
   "cell_type": "code",
   "execution_count": 30,
   "metadata": {},
   "outputs": [
    {
     "name": "stdout",
     "output_type": "stream",
     "text": [
      "              precision    recall  f1-score   support\n",
      "\n",
      "           0       0.00      0.00      0.00        73\n",
      "           1       0.53      1.00      0.69        82\n",
      "\n",
      "    accuracy                           0.53       155\n",
      "   macro avg       0.26      0.50      0.35       155\n",
      "weighted avg       0.28      0.53      0.37       155\n",
      "\n"
     ]
    }
   ],
   "source": [
    "lr=LogisticRegression()\n",
    "lr.fit(xtrain,ytrain)\n",
    "ypred=lr.predict(xtest)\n",
    "print(classification_report(ytest,ypred))"
   ]
  },
  {
   "cell_type": "code",
   "execution_count": 31,
   "metadata": {},
   "outputs": [
    {
     "name": "stdout",
     "output_type": "stream",
     "text": [
      "              precision    recall  f1-score   support\n",
      "\n",
      "           0       0.00      0.00      0.00        73\n",
      "           1       0.53      1.00      0.69        82\n",
      "\n",
      "    accuracy                           0.53       155\n",
      "   macro avg       0.26      0.50      0.35       155\n",
      "weighted avg       0.28      0.53      0.37       155\n",
      "\n"
     ]
    }
   ],
   "source": [
    "lr=LogisticRegression(solver='liblinear')\n",
    "lr.fit(xtrain,ytrain)\n",
    "ypred=lr.predict(xtest)\n",
    "print(classification_report(ytest,ypred))"
   ]
  },
  {
   "cell_type": "code",
   "execution_count": 34,
   "metadata": {},
   "outputs": [
    {
     "name": "stdout",
     "output_type": "stream",
     "text": [
      "              precision    recall  f1-score   support\n",
      "\n",
      "           0       0.00      0.00      0.00        73\n",
      "           1       0.53      1.00      0.69        82\n",
      "\n",
      "    accuracy                           0.53       155\n",
      "   macro avg       0.26      0.50      0.35       155\n",
      "weighted avg       0.28      0.53      0.37       155\n",
      "\n"
     ]
    }
   ],
   "source": [
    "lr=LogisticRegression(solver='liblinear')\n",
    "lr.fit(xtrain1,ytrain1)\n",
    "ypred=lr.predict(xtest)\n",
    "print(classification_report(ytest,ypred))"
   ]
  },
  {
   "cell_type": "code",
   "execution_count": 32,
   "metadata": {},
   "outputs": [
    {
     "name": "stdout",
     "output_type": "stream",
     "text": [
      "              precision    recall  f1-score   support\n",
      "\n",
      "           0       0.78      0.86      0.82        73\n",
      "           1       0.86      0.78      0.82        82\n",
      "\n",
      "    accuracy                           0.82       155\n",
      "   macro avg       0.82      0.82      0.82       155\n",
      "weighted avg       0.82      0.82      0.82       155\n",
      "\n"
     ]
    }
   ],
   "source": [
    "lr=LogisticRegression(solver='newton-cg')\n",
    "lr.fit(xtrain,ytrain)\n",
    "ypred=lr.predict(xtest)\n",
    "print(classification_report(ytest,ypred))"
   ]
  },
  {
   "cell_type": "code",
   "execution_count": 33,
   "metadata": {},
   "outputs": [
    {
     "name": "stdout",
     "output_type": "stream",
     "text": [
      "              precision    recall  f1-score   support\n",
      "\n",
      "           0       0.79      0.84      0.81        73\n",
      "           1       0.85      0.80      0.83        82\n",
      "\n",
      "    accuracy                           0.82       155\n",
      "   macro avg       0.82      0.82      0.82       155\n",
      "weighted avg       0.82      0.82      0.82       155\n",
      "\n"
     ]
    }
   ],
   "source": [
    "lr=LogisticRegression(solver='newton-cg')\n",
    "lr.fit(xtrain1,ytrain1)\n",
    "ypred=lr.predict(xtest)\n",
    "print(classification_report(ytest,ypred))"
   ]
  },
  {
   "cell_type": "code",
   "execution_count": null,
   "metadata": {},
   "outputs": [],
   "source": []
  }
 ],
 "metadata": {
  "kernelspec": {
   "display_name": "Python 3",
   "language": "python",
   "name": "python3"
  },
  "language_info": {
   "codemirror_mode": {
    "name": "ipython",
    "version": 3
   },
   "file_extension": ".py",
   "mimetype": "text/x-python",
   "name": "python",
   "nbconvert_exporter": "python",
   "pygments_lexer": "ipython3",
   "version": "3.10.11"
  },
  "orig_nbformat": 4
 },
 "nbformat": 4,
 "nbformat_minor": 2
}
