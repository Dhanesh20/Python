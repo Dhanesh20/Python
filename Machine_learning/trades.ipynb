{
 "cells": [
  {
   "cell_type": "code",
   "execution_count": 1,
   "metadata": {},
   "outputs": [
    {
     "name": "stdout",
     "output_type": "stream",
     "text": [
      "Requirement already satisfied: nsetools in c:\\users\\prashant\\desktop\\pj\\venv\\lib\\site-packages (1.0.11)\n",
      "Requirement already satisfied: six in c:\\users\\prashant\\desktop\\pj\\venv\\lib\\site-packages (from nsetools) (1.16.0)\n",
      "Requirement already satisfied: dateutils in c:\\users\\prashant\\desktop\\pj\\venv\\lib\\site-packages (from nsetools) (0.6.12)\n",
      "Requirement already satisfied: python-dateutil in c:\\users\\prashant\\desktop\\pj\\venv\\lib\\site-packages (from dateutils->nsetools) (2.8.2)\n",
      "Requirement already satisfied: pytz in c:\\users\\prashant\\desktop\\pj\\venv\\lib\\site-packages (from dateutils->nsetools) (2023.3)\n",
      "Requirement already satisfied: nsepy in c:\\users\\prashant\\desktop\\pj\\venv\\lib\\site-packages (0.8)\n",
      "Requirement already satisfied: beautifulsoup4 in c:\\users\\prashant\\desktop\\pj\\venv\\lib\\site-packages (from nsepy) (4.12.2)\n",
      "Requirement already satisfied: requests in c:\\users\\prashant\\desktop\\pj\\venv\\lib\\site-packages (from nsepy) (2.29.0)\n",
      "Requirement already satisfied: numpy in c:\\users\\prashant\\desktop\\pj\\venv\\lib\\site-packages (from nsepy) (1.24.3)\n",
      "Requirement already satisfied: pandas in c:\\users\\prashant\\desktop\\pj\\venv\\lib\\site-packages (from nsepy) (2.0.1)\n",
      "Requirement already satisfied: six in c:\\users\\prashant\\desktop\\pj\\venv\\lib\\site-packages (from nsepy) (1.16.0)\n",
      "Requirement already satisfied: click in c:\\users\\prashant\\desktop\\pj\\venv\\lib\\site-packages (from nsepy) (8.1.7)\n",
      "Requirement already satisfied: lxml in c:\\users\\prashant\\desktop\\pj\\venv\\lib\\site-packages (from nsepy) (4.9.3)\n",
      "Requirement already satisfied: soupsieve>1.2 in c:\\users\\prashant\\desktop\\pj\\venv\\lib\\site-packages (from beautifulsoup4->nsepy) (2.4.1)\n",
      "Requirement already satisfied: colorama in c:\\users\\prashant\\desktop\\pj\\venv\\lib\\site-packages (from click->nsepy) (0.4.6)\n",
      "Requirement already satisfied: python-dateutil>=2.8.2 in c:\\users\\prashant\\desktop\\pj\\venv\\lib\\site-packages (from pandas->nsepy) (2.8.2)\n",
      "Requirement already satisfied: pytz>=2020.1 in c:\\users\\prashant\\desktop\\pj\\venv\\lib\\site-packages (from pandas->nsepy) (2023.3)\n",
      "Requirement already satisfied: tzdata>=2022.1 in c:\\users\\prashant\\desktop\\pj\\venv\\lib\\site-packages (from pandas->nsepy) (2023.3)\n",
      "Requirement already satisfied: charset-normalizer<4,>=2 in c:\\users\\prashant\\desktop\\pj\\venv\\lib\\site-packages (from requests->nsepy) (3.1.0)\n",
      "Requirement already satisfied: idna<4,>=2.5 in c:\\users\\prashant\\desktop\\pj\\venv\\lib\\site-packages (from requests->nsepy) (3.4)\n",
      "Requirement already satisfied: urllib3<1.27,>=1.21.1 in c:\\users\\prashant\\desktop\\pj\\venv\\lib\\site-packages (from requests->nsepy) (1.26.15)\n",
      "Requirement already satisfied: certifi>=2017.4.17 in c:\\users\\prashant\\desktop\\pj\\venv\\lib\\site-packages (from requests->nsepy) (2022.12.7)\n"
     ]
    }
   ],
   "source": [
    "!pip install nsetools\n",
    "!pip install nsepy"
   ]
  },
  {
   "cell_type": "code",
   "execution_count": 2,
   "metadata": {},
   "outputs": [],
   "source": [
    "import requests\n",
    "from bs4 import BeautifulSoup\n",
    "\n",
    "# Define the URL of the webpage with the table\n",
    "url = \"https://www.nseindia.com/market-data/sme-market\"\n",
    "\n",
    "# Send an HTTP GET request to the URL\n",
    "response = requests.get(url)"
   ]
  },
  {
   "cell_type": "code",
   "execution_count": 1,
   "metadata": {},
   "outputs": [
    {
     "name": "stdout",
     "output_type": "stream",
     "text": [
      "Collecting alpha_vantage\n",
      "  Using cached alpha_vantage-2.3.1-py3-none-any.whl (31 kB)\n",
      "Collecting aiohttp\n",
      "  Using cached aiohttp-3.8.5-cp311-cp311-win_amd64.whl (320 kB)\n",
      "Requirement already satisfied: requests in c:\\users\\prashant\\desktop\\pj\\venv\\lib\\site-packages (from alpha_vantage) (2.29.0)\n",
      "Collecting attrs>=17.3.0\n",
      "  Using cached attrs-23.1.0-py3-none-any.whl (61 kB)\n",
      "Requirement already satisfied: charset-normalizer<4.0,>=2.0 in c:\\users\\prashant\\desktop\\pj\\venv\\lib\\site-packages (from aiohttp->alpha_vantage) (3.1.0)\n",
      "Collecting multidict<7.0,>=4.5\n",
      "  Using cached multidict-6.0.4-cp311-cp311-win_amd64.whl (28 kB)\n",
      "Collecting async-timeout<5.0,>=4.0.0a3\n",
      "  Using cached async_timeout-4.0.3-py3-none-any.whl (5.7 kB)\n",
      "Collecting yarl<2.0,>=1.0\n",
      "  Using cached yarl-1.9.2-cp311-cp311-win_amd64.whl (60 kB)\n",
      "Collecting frozenlist>=1.1.1\n",
      "  Using cached frozenlist-1.4.0-cp311-cp311-win_amd64.whl (44 kB)\n",
      "Collecting aiosignal>=1.1.2\n",
      "  Using cached aiosignal-1.3.1-py3-none-any.whl (7.6 kB)\n",
      "Requirement already satisfied: idna<4,>=2.5 in c:\\users\\prashant\\desktop\\pj\\venv\\lib\\site-packages (from requests->alpha_vantage) (3.4)\n",
      "Requirement already satisfied: urllib3<1.27,>=1.21.1 in c:\\users\\prashant\\desktop\\pj\\venv\\lib\\site-packages (from requests->alpha_vantage) (1.26.15)\n",
      "Requirement already satisfied: certifi>=2017.4.17 in c:\\users\\prashant\\desktop\\pj\\venv\\lib\\site-packages (from requests->alpha_vantage) (2022.12.7)\n",
      "Installing collected packages: multidict, frozenlist, attrs, async-timeout, yarl, aiosignal, aiohttp, alpha_vantage\n",
      "Successfully installed aiohttp-3.8.5 aiosignal-1.3.1 alpha_vantage-2.3.1 async-timeout-4.0.3 attrs-23.1.0 frozenlist-1.4.0 multidict-6.0.4 yarl-1.9.2\n"
     ]
    }
   ],
   "source": [
    "!pip install alpha_vantage\n"
   ]
  },
  {
   "cell_type": "code",
   "execution_count": 3,
   "metadata": {},
   "outputs": [
    {
     "ename": "ValueError",
     "evalue": "Invalid API call. Please retry or visit the documentation (https://www.alphavantage.co/documentation/) for TIME_SERIES_INTRADAY.",
     "output_type": "error",
     "traceback": [
      "\u001b[1;31m---------------------------------------------------------------------------\u001b[0m",
      "\u001b[1;31mValueError\u001b[0m                                Traceback (most recent call last)",
      "\u001b[1;32mc:\\Users\\prashant\\Desktop\\python\\trades.ipynb Cell 4\u001b[0m line \u001b[0;36m3\n\u001b[0;32m     <a href='vscode-notebook-cell:/c%3A/Users/prashant/Desktop/python/trades.ipynb#W2sZmlsZQ%3D%3D?line=29'>30</a>\u001b[0m \u001b[39m# Fetch data for each stock\u001b[39;00m\n\u001b[0;32m     <a href='vscode-notebook-cell:/c%3A/Users/prashant/Desktop/python/trades.ipynb#W2sZmlsZQ%3D%3D?line=30'>31</a>\u001b[0m \u001b[39mfor\u001b[39;00m symbol \u001b[39min\u001b[39;00m nse_100_stocks:\n\u001b[0;32m     <a href='vscode-notebook-cell:/c%3A/Users/prashant/Desktop/python/trades.ipynb#W2sZmlsZQ%3D%3D?line=31'>32</a>\u001b[0m     \u001b[39m# Fetch 60-minute interval data\u001b[39;00m\n\u001b[1;32m---> <a href='vscode-notebook-cell:/c%3A/Users/prashant/Desktop/python/trades.ipynb#W2sZmlsZQ%3D%3D?line=32'>33</a>\u001b[0m     data, meta_data \u001b[39m=\u001b[39m ts\u001b[39m.\u001b[39;49mget_intraday(symbol\u001b[39m=\u001b[39;49msymbol, interval\u001b[39m=\u001b[39;49m\u001b[39m'\u001b[39;49m\u001b[39m60min\u001b[39;49m\u001b[39m'\u001b[39;49m, outputsize\u001b[39m=\u001b[39;49m\u001b[39m'\u001b[39;49m\u001b[39mfull\u001b[39;49m\u001b[39m'\u001b[39;49m)\n\u001b[0;32m     <a href='vscode-notebook-cell:/c%3A/Users/prashant/Desktop/python/trades.ipynb#W2sZmlsZQ%3D%3D?line=34'>35</a>\u001b[0m     \u001b[39m# Calculate the percentage change\u001b[39;00m\n\u001b[0;32m     <a href='vscode-notebook-cell:/c%3A/Users/prashant/Desktop/python/trades.ipynb#W2sZmlsZQ%3D%3D?line=35'>36</a>\u001b[0m     data[\u001b[39m'\u001b[39m\u001b[39m%\u001b[39m\u001b[39mChange\u001b[39m\u001b[39m'\u001b[39m] \u001b[39m=\u001b[39m ((data[\u001b[39m'\u001b[39m\u001b[39m4. close\u001b[39m\u001b[39m'\u001b[39m] \u001b[39m-\u001b[39m data[\u001b[39m'\u001b[39m\u001b[39m1. open\u001b[39m\u001b[39m'\u001b[39m]) \u001b[39m/\u001b[39m data[\u001b[39m'\u001b[39m\u001b[39m1. open\u001b[39m\u001b[39m'\u001b[39m]) \u001b[39m*\u001b[39m \u001b[39m100\u001b[39m\n",
      "File \u001b[1;32mc:\\Users\\prashant\\Desktop\\pj\\venv\\Lib\\site-packages\\alpha_vantage\\alphavantage.py:218\u001b[0m, in \u001b[0;36mAlphaVantage._output_format.<locals>._format_wrapper\u001b[1;34m(self, *args, **kwargs)\u001b[0m\n\u001b[0;32m    216\u001b[0m \u001b[39m@wraps\u001b[39m(func)\n\u001b[0;32m    217\u001b[0m \u001b[39mdef\u001b[39;00m \u001b[39m_format_wrapper\u001b[39m(\u001b[39mself\u001b[39m, \u001b[39m*\u001b[39margs, \u001b[39m*\u001b[39m\u001b[39m*\u001b[39mkwargs):\n\u001b[1;32m--> 218\u001b[0m     call_response, data_key, meta_data_key \u001b[39m=\u001b[39m func(\n\u001b[0;32m    219\u001b[0m         \u001b[39mself\u001b[39;49m, \u001b[39m*\u001b[39;49margs, \u001b[39m*\u001b[39;49m\u001b[39m*\u001b[39;49mkwargs)\n\u001b[0;32m    220\u001b[0m     \u001b[39mif\u001b[39;00m \u001b[39m'\u001b[39m\u001b[39mjson\u001b[39m\u001b[39m'\u001b[39m \u001b[39min\u001b[39;00m \u001b[39mself\u001b[39m\u001b[39m.\u001b[39moutput_format\u001b[39m.\u001b[39mlower() \u001b[39mor\u001b[39;00m \u001b[39m'\u001b[39m\u001b[39mpandas\u001b[39m\u001b[39m'\u001b[39m \\\n\u001b[0;32m    221\u001b[0m             \u001b[39min\u001b[39;00m \u001b[39mself\u001b[39m\u001b[39m.\u001b[39moutput_format\u001b[39m.\u001b[39mlower():\n\u001b[0;32m    222\u001b[0m         \u001b[39mif\u001b[39;00m data_key \u001b[39mis\u001b[39;00m \u001b[39mnot\u001b[39;00m \u001b[39mNone\u001b[39;00m:\n",
      "File \u001b[1;32mc:\\Users\\prashant\\Desktop\\pj\\venv\\Lib\\site-packages\\alpha_vantage\\alphavantage.py:160\u001b[0m, in \u001b[0;36mAlphaVantage._call_api_on_func.<locals>._call_wrapper\u001b[1;34m(self, *args, **kwargs)\u001b[0m\n\u001b[0;32m    158\u001b[0m \u001b[39melse\u001b[39;00m:\n\u001b[0;32m    159\u001b[0m     url \u001b[39m=\u001b[39m \u001b[39m'\u001b[39m\u001b[39m{}\u001b[39;00m\u001b[39m{}\u001b[39;00m\u001b[39m'\u001b[39m\u001b[39m.\u001b[39mformat(url, apikey_parameter)\n\u001b[1;32m--> 160\u001b[0m \u001b[39mreturn\u001b[39;00m \u001b[39mself\u001b[39;49m\u001b[39m.\u001b[39;49m_handle_api_call(url), data_key, meta_data_key\n",
      "File \u001b[1;32mc:\\Users\\prashant\\Desktop\\pj\\venv\\Lib\\site-packages\\alpha_vantage\\alphavantage.py:359\u001b[0m, in \u001b[0;36mAlphaVantage._handle_api_call\u001b[1;34m(self, url)\u001b[0m\n\u001b[0;32m    356\u001b[0m     \u001b[39mraise\u001b[39;00m \u001b[39mValueError\u001b[39;00m(\n\u001b[0;32m    357\u001b[0m         \u001b[39m'\u001b[39m\u001b[39mError getting data from the api, no return was given.\u001b[39m\u001b[39m'\u001b[39m)\n\u001b[0;32m    358\u001b[0m \u001b[39melif\u001b[39;00m \u001b[39m\"\u001b[39m\u001b[39mError Message\u001b[39m\u001b[39m\"\u001b[39m \u001b[39min\u001b[39;00m json_response:\n\u001b[1;32m--> 359\u001b[0m     \u001b[39mraise\u001b[39;00m \u001b[39mValueError\u001b[39;00m(json_response[\u001b[39m\"\u001b[39m\u001b[39mError Message\u001b[39m\u001b[39m\"\u001b[39m])\n\u001b[0;32m    360\u001b[0m \u001b[39melif\u001b[39;00m \u001b[39m\"\u001b[39m\u001b[39mInformation\u001b[39m\u001b[39m\"\u001b[39m \u001b[39min\u001b[39;00m json_response \u001b[39mand\u001b[39;00m \u001b[39mself\u001b[39m\u001b[39m.\u001b[39mtreat_info_as_error:\n\u001b[0;32m    361\u001b[0m     \u001b[39mraise\u001b[39;00m \u001b[39mValueError\u001b[39;00m(json_response[\u001b[39m\"\u001b[39m\u001b[39mInformation\u001b[39m\u001b[39m\"\u001b[39m])\n",
      "\u001b[1;31mValueError\u001b[0m: Invalid API call. Please retry or visit the documentation (https://www.alphavantage.co/documentation/) for TIME_SERIES_INTRADAY."
     ]
    }
   ],
   "source": [
    "from alpha_vantage.timeseries import TimeSeries\n",
    "import pandas as pd\n",
    "\n",
    "# Replace 'YOUR_API_KEY' with your Alpha Vantage API key\n",
    "api_key = 'PUZ3A5L3F78A6N42'\n",
    "\n",
    "# Initialize the Alpha Vantage API client\n",
    "ts = TimeSeries(key=api_key, output_format='pandas')\n",
    "\n",
    "# List of NSE 100 stock symbols\n",
    "nse_100_stocks = [\n",
    "    \"ACC\", \"ADANIGREEN\", \"ADANIPORTS\", \"ADANITRANS\", \"AMBUJACEM\", \"APOLLOHOSP\", \"APOLLOTYRE\", \"ASHOKLEY\", \"ASIANPAINT\",\n",
    "    \"AUROPHARMA\", \"AXISBANK\", \"BAJAJ-AUTO\", \"BAJAJFINSV\", \"BAJFINANCE\", \"BANDHANBNK\", \"BANKBARODA\", \"BEL\", \"BERGEPAINT\",\n",
    "    \"BHARATFORG\", \"BHARTIARTL\", \"BHEL\", \"BIOCON\", \"BOSCHLTD\", \"BPCL\", \"BRITANNIA\", \"CADILAHC\", \"CANBK\", \"CHOLAFIN\",\n",
    "    \"CIPLA\", \"COALINDIA\", \"COLPAL\", \"CONCOR\", \"CUMMINSIND\", \"DABUR\", \"DIVISLAB\", \"DLF\", \"DRREDDY\", \"EICHERMOT\",\n",
    "    \"ESCORTS\", \"EXIDEIND\", \"FEDERALBNK\", \"GAIL\", \"GLENMARK\", \"GMRINFRA\", \"GODREJCP\", \"GRASIM\", \"HCLTECH\", \"HDFC\",\n",
    "    \"HDFCAMC\", \"HDFCBANK\", \"HDFCLIFE\", \"HEROMOTOCO\", \"HINDALCO\", \"HINDPETRO\", \"HINDUNILVR\", \"ICICIBANK\", \"ICICIGI\",\n",
    "    \"ICICIPRULI\", \"IDEA\", \"IDFCFIRSTB\", \"IGL\", \"INDUSINDBK\", \"INFRATEL\", \"INFY\", \"IOC\", \"IRCTC\", \"ITC\", \"JINDALSTEL\",\n",
    "    \"JSWSTEEL\", \"KOTAKBANK\", \"L&TFH\", \"LICHSGFIN\", \"LT\", \"M&M\", \"M&MFIN\", \"MANAPPURAM\", \"MARICO\", \"MARUTI\", \"MCDOWELL-N\",\n",
    "    \"MFSL\", \"MGL\", \"MINDTREE\", \"MOTHERSUMI\", \"MPHASIS\", \"MRF\", \"MUTHOOTFIN\", \"NATIONALUM\", \"NAUKRI\", \"NESTLEIND\",\n",
    "    \"NIITTECH\", \"NMDC\", \"NTPC\", \"ONGC\", \"PAGEIND\", \"PEL\", \"PETRONET\", \"PFC\", \"PIDILITIND\", \"PNB\", \"POWERGRID\", \"PVR\",\n",
    "    \"RAMCOCEM\", \"RBLBANK\", \"RELIANCE\", \"SBILIFE\", \"SBIN\", \"SHREECEM\", \"SIEMENS\", \"SRF\", \"SRTRANSFIN\", \"SUNPHARMA\",\n",
    "    \"SUNTV\", \"TATACHEM\", \"TATACONSUM\", \"TATAMOTORS\", \"TATASTEEL\", \"TCS\", \"TECHM\", \"TITAN\", \"TORNTPHARM\", \"TORNTPOWER\",\n",
    "    \"TVSMOTOR\", \"UBL\", \"UPL\", \"VEDL\", \"VOLTAS\", \"WIPRO\", \"ZEEL\"\n",
    "]\n",
    "\n",
    "# Initialize an empty DataFrame to store the data\n",
    "combined_data = pd.DataFrame()\n",
    "\n",
    "# Fetch data for each stock\n",
    "for symbol in nse_100_stocks:\n",
    "    # Fetch 60-minute interval data\n",
    "    data, meta_data = ts.get_intraday(symbol=symbol, interval='60min', outputsize='full')\n",
    "    \n",
    "    # Calculate the percentage change\n",
    "    data['%Change'] = ((data['4. close'] - data['1. open']) / data['1. open']) * 100\n",
    "    \n",
    "    # Append the data to the combined DataFrame\n",
    "    combined_data = pd.concat([combined_data, data], axis=0)\n",
    "\n",
    "# Reset the index of the combined DataFrame\n",
    "combined_data.reset_index(inplace=True)\n",
    "\n",
    "# Display the resulting DataFrame\n",
    "print(combined_data)\n"
   ]
  },
  {
   "cell_type": "code",
   "execution_count": null,
   "metadata": {},
   "outputs": [],
   "source": []
  }
 ],
 "metadata": {
  "kernelspec": {
   "display_name": "Python 3",
   "language": "python",
   "name": "python3"
  },
  "language_info": {
   "codemirror_mode": {
    "name": "ipython",
    "version": 3
   },
   "file_extension": ".py",
   "mimetype": "text/x-python",
   "name": "python",
   "nbconvert_exporter": "python",
   "pygments_lexer": "ipython3",
   "version": "3.11.3"
  },
  "orig_nbformat": 4
 },
 "nbformat": 4,
 "nbformat_minor": 2
}
