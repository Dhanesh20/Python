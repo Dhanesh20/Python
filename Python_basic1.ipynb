{
 "cells": [
  {
   "cell_type": "markdown",
   "id": "d18daebf",
   "metadata": {},
   "source": [
    "1)take input from user and print its inputvalue using input function\n",
    "\n",
    "2)create a string and print the last element \n",
    "\n",
    "3)create a string and print second last element\n",
    "\n",
    "4)create a string as eg:\"hellohellohellohello\" and print it \n",
    "\n",
    "5)create  two string like \"hello\" and \"world\" and print \"helloworld\"\n",
    "\n",
    "6)create two variable and swap its value eg a=10,b=20 afer swapping there output is a=20,b=10\n",
    "\n",
    "7)create a tuple like(1,2,3,4,3,2) and count number of  occurrences  of 3\n",
    "\n",
    "8)create a tuple like(1,2,3,4,3,2) and print the index number of 3\n",
    "\n",
    "9)create a tuple like(1,2,3,4,3,2) and print (2,3,4) only\n",
    "\n",
    "10)create tuple like(1,2,3,4,3,2) and remove 3 in this tuple"
   ]
  },
  {
   "cell_type": "code",
   "execution_count": 2,
   "id": "e3f2fd7e",
   "metadata": {},
   "outputs": [
    {
     "name": "stdout",
     "output_type": "stream",
     "text": [
      "The entered value by user is 9"
     ]
    }
   ],
   "source": [
    "#1 take input from user and print its inputvalue using input function\n",
    "user = input()\n",
    "print(\"The entered value by user is {}\".format(user),end=\"\")"
   ]
  },
  {
   "cell_type": "code",
   "execution_count": 3,
   "id": "332f4dac",
   "metadata": {},
   "outputs": [
    {
     "name": "stdout",
     "output_type": "stream",
     "text": [
      "The last element of string is: n\n"
     ]
    }
   ],
   "source": [
    "# 2)create a string and print the last element\n",
    "str=\"This is beginning of Python\"\n",
    "print(\"The last element of string is:\",str[-1])"
   ]
  },
  {
   "cell_type": "code",
   "execution_count": 4,
   "id": "e1b58f75",
   "metadata": {},
   "outputs": [
    {
     "name": "stdout",
     "output_type": "stream",
     "text": [
      "The second last element of string is: o\n"
     ]
    }
   ],
   "source": [
    "# 3)create a string and print second last element\n",
    "str=\"This is beginning of Python\"\n",
    "print(\"The second last element of string is:\",str[-2:-1])"
   ]
  },
  {
   "cell_type": "code",
   "execution_count": 5,
   "id": "1843b828",
   "metadata": {},
   "outputs": [
    {
     "name": "stdout",
     "output_type": "stream",
     "text": [
      "hellohellohellohello\n"
     ]
    }
   ],
   "source": [
    "# 4)create a string as eg:\"hellohellohellohello\" and print it\n",
    "str=\"hello\"\n",
    "print(str*4)"
   ]
  },
  {
   "cell_type": "code",
   "execution_count": 6,
   "id": "aca990bc",
   "metadata": {},
   "outputs": [
    {
     "name": "stdout",
     "output_type": "stream",
     "text": [
      "helloworld\n"
     ]
    }
   ],
   "source": [
    "# 5)create two string like \"hello\" and \"world\" and print \"helloworld\"\n",
    "str1=\"hello\"\n",
    "str2=\"world\"\n",
    "print(str1+str2)"
   ]
  },
  {
   "cell_type": "code",
   "execution_count": 7,
   "id": "9bad2007",
   "metadata": {},
   "outputs": [
    {
     "name": "stdout",
     "output_type": "stream",
     "text": [
      "a = 20 \n",
      "b = 10\n"
     ]
    }
   ],
   "source": [
    "# 6)create two variable and swap its value eg a=10,b=20 afer swapping there output is a=20,b=10\n",
    "a,b=10,20\n",
    "a,b=b,a\n",
    "print(\"a =\",a,\"\\nb =\",b)"
   ]
  },
  {
   "cell_type": "code",
   "execution_count": 8,
   "id": "b7424fb2",
   "metadata": {},
   "outputs": [
    {
     "name": "stdout",
     "output_type": "stream",
     "text": [
      "The count number of occurrence of 3 is 2 times \n"
     ]
    }
   ],
   "source": [
    "# 7)create a tuple like(1,2,3,4,3,2) and count number of occurrences of 3\n",
    "tuple=(1,2,3,4,3,2)\n",
    "print(\"The count number of occurrence of 3 is {} times \".format(tuple.count(3)))"
   ]
  },
  {
   "cell_type": "code",
   "execution_count": 9,
   "id": "20e4ac4f",
   "metadata": {},
   "outputs": [
    {
     "name": "stdout",
     "output_type": "stream",
     "text": [
      "The index number 3 is 2 \n"
     ]
    }
   ],
   "source": [
    "# 8)create a tuple like(1,2,3,4,3,2) and print the index number of 3\n",
    "tuple=(1,2,3,4,3,2)\n",
    "print(\"The index number 3 is {} \".format(tuple.index(3)))"
   ]
  },
  {
   "cell_type": "code",
   "execution_count": 10,
   "id": "ebbdc7c9",
   "metadata": {},
   "outputs": [
    {
     "name": "stdout",
     "output_type": "stream",
     "text": [
      "(2, 3, 4)\n"
     ]
    }
   ],
   "source": [
    "# 9)create a tuple like(1,2,3,4,3,2) and print (2,3,4) only\n",
    "tuple=(1,2,3,4,3,2)\n",
    "print(tuple[1:4])"
   ]
  },
  {
   "cell_type": "code",
   "execution_count": 2,
   "id": "28312d9e",
   "metadata": {},
   "outputs": [
    {
     "name": "stdout",
     "output_type": "stream",
     "text": [
      "(1, 2, 4, 2)\n"
     ]
    }
   ],
   "source": [
    "# 10)create tuple like(1,2,3,4,3,2) and remove 3 in this tuple\n",
    "t = (1, 2, 3, 4, 3, 2)\n",
    "t1 = tuple(x for x in t if x != 3)\n",
    "print(t1)"
   ]
  },
  {
   "cell_type": "markdown",
   "id": "b9c28e49",
   "metadata": {},
   "source": [
    "11) create a list like[1,2,3,4] and change the elements like[1,2,4,3] without using list methods\n",
    "\n",
    "12) create a list like[1,2,3,4] and delete all the elements in list and print empty list without using any method \n",
    "\n",
    "13) create single value tuple \n",
    "\n",
    "14) create empty set\n",
    "\n",
    "15) create a dictionery like {\"a\":10,\"b\":20} and print the value of \"a\" without using methods\n",
    "\n",
    "16) create a dictionery like {\"a\":10,\"b\":20} and change the value of \"b\" is 30 and print it without using methods\n",
    "\n",
    "17) create a dictionery like {\"a\":10,\"b\":20} and insert the key value pair which the key is \"c\" and the value is 30 and print it\n",
    "\n",
    "18) create two sets like {1,2,3,4} and {3,4,5,6} and find the union without using union method\n",
    "\n",
    "19) create two sets like {1,2,3,4} and {3,4,5,6} and find the intersection without using intersection method\n",
    "\n",
    "20) create two sets like {1,2,3,4} and {3,4,5,6} and find there difference without using difference method"
   ]
  },
  {
   "cell_type": "code",
   "execution_count": 16,
   "id": "d8b2764f",
   "metadata": {},
   "outputs": [
    {
     "name": "stdout",
     "output_type": "stream",
     "text": [
      "[1, 2, 4, 3]\n"
     ]
    }
   ],
   "source": [
    "#11 create a list like[1,2,3,4] and change the elements like[1,2,4,3] without using list methods\n",
    "l1=[1,2,3,4]\n",
    "l1[2],l1[3]=l1[3],l1[2]\n",
    "print(l1)"
   ]
  },
  {
   "cell_type": "code",
   "execution_count": 17,
   "id": "b9460663",
   "metadata": {},
   "outputs": [
    {
     "name": "stdout",
     "output_type": "stream",
     "text": [
      "[]\n"
     ]
    }
   ],
   "source": [
    "#12 create a list like[1,2,3,4] and delete all the elements in list and print empty list without using any method\n",
    "l1=[1,2,3,4]\n",
    "l1.clear()\n",
    "print(l1)"
   ]
  },
  {
   "cell_type": "code",
   "execution_count": 4,
   "id": "1c65181d",
   "metadata": {},
   "outputs": [
    {
     "name": "stdout",
     "output_type": "stream",
     "text": [
      "<class 'tuple'> \n",
      " (1,)\n"
     ]
    }
   ],
   "source": [
    "#13 create single value tuple\n",
    "t=(1,)\n",
    "print(type(t),\"\\n\",t)\n"
   ]
  },
  {
   "cell_type": "code",
   "execution_count": 6,
   "id": "ab757fa6",
   "metadata": {},
   "outputs": [
    {
     "name": "stdout",
     "output_type": "stream",
     "text": [
      "<class 'set'>\n"
     ]
    }
   ],
   "source": [
    "#create empty set\n",
    "s=set()\n",
    "print(type(s))"
   ]
  },
  {
   "cell_type": "code",
   "execution_count": 13,
   "id": "b83a65f2",
   "metadata": {},
   "outputs": [
    {
     "name": "stdout",
     "output_type": "stream",
     "text": [
      "10\n"
     ]
    }
   ],
   "source": [
    "#create a dictionery like {\"a\":10,\"b\":20} and print the value of \"a\" without using methods\n",
    "d1={\"a\":10,\"b\":20}\n",
    "print(d1[\"a\"])"
   ]
  },
  {
   "cell_type": "code",
   "execution_count": 14,
   "id": "c6f67fd4",
   "metadata": {},
   "outputs": [
    {
     "name": "stdout",
     "output_type": "stream",
     "text": [
      "{'a': 10, 'b': 30}\n"
     ]
    }
   ],
   "source": [
    "#create a dictionery like {\"a\":10,\"b\":20} and change the value of \"b\" is 30 and print it without using methods\n",
    "d2={\"a\":10,\"b\":20}\n",
    "d2[\"b\"]=30\n",
    "print(d2)"
   ]
  },
  {
   "cell_type": "code",
   "execution_count": 15,
   "id": "d24fdeb3",
   "metadata": {},
   "outputs": [
    {
     "name": "stdout",
     "output_type": "stream",
     "text": [
      "{'a': 10, 'b': 20, 'c': 30}\n"
     ]
    }
   ],
   "source": [
    "#create a dictionery like {\"a\":10,\"b\":20} and insert the key value pair which the key is \"c\" and the value is 30 and print it\n",
    "d3={\"a\":10,\"b\":20}\n",
    "d3[\"c\"]=30\n",
    "print(d3)"
   ]
  },
  {
   "cell_type": "code",
   "execution_count": 3,
   "id": "2323b7a4",
   "metadata": {},
   "outputs": [
    {
     "name": "stdout",
     "output_type": "stream",
     "text": [
      "{1, 2, 3, 4, 5, 6}\n"
     ]
    }
   ],
   "source": [
    "#create two sets like {1,2,3,4} and {3,4,5,6} and find the union without using union method\n",
    "s1={1,2,3,4}\n",
    "s1.update({3,4,5,6})\n",
    "print(s1)\n",
    "\n",
    "\n"
   ]
  },
  {
   "cell_type": "code",
   "execution_count": 6,
   "id": "d6639544",
   "metadata": {},
   "outputs": [
    {
     "data": {
      "text/plain": [
       "{1, 2, 5, 6}"
      ]
     },
     "execution_count": 6,
     "metadata": {},
     "output_type": "execute_result"
    }
   ],
   "source": [
    "#create two sets like {1,2,3,4} and {3,4,5,6} and find the intersection without using intersection method\n",
    "s1={1,2,3,4}\n",
    "s2={3,4,5,6}\n",
    "s1.symmetric_difference(s2)"
   ]
  },
  {
   "cell_type": "code",
   "execution_count": 13,
   "id": "aa9145b3",
   "metadata": {},
   "outputs": [
    {
     "name": "stdout",
     "output_type": "stream",
     "text": [
      "{1, 2}\n"
     ]
    }
   ],
   "source": [
    "#create two sets like {1,2,3,4} and {3,4,5,6} and find there difference without using difference method\n",
    "s1={1,2,3,4}\n",
    "s2={3,4,5,6}\n",
    "print(s1-s2)\n"
   ]
  },
  {
   "attachments": {},
   "cell_type": "markdown",
   "id": "1b445c12",
   "metadata": {},
   "source": [
    "21)create a set like {1,2,3,4} and remove 3 \n",
    "\n",
    "22)create a set like {1,2,3,4} and remove 3 using discard method and undrstand what's the difference between remove and pop\n",
    "\n",
    "23)create a string like \"hello world\" and count \"o\"\n",
    "\n",
    "24)create a string like \"hello world\" and find \"z\" or index \"z\" and understand difference between index and count\n",
    "\n",
    "25)create a list like [\"p\",\"y\",\"t\",\"h\",\"o\",\"n\"] and print \"python\"\n",
    "\n",
    "26)create a string \"python\" and print [\"p\",\"y\",\"t\",\"h\",\"o\",\"n\"]\n",
    "\n",
    "27)create a string like\"     python\" and print \"python\"\n",
    "\n",
    "28)create a list [1,2,3,4] and print it like [1,2,3,4,5]\n",
    "\n",
    "29)create a list [1,2,3,4] and print [1,2,3,4,1,2,3,4] using extend function\n",
    "\n",
    "30)create a list [1,2,3,4] and print [1,2,3,4,\"p\",\"y\",\"t\",\"h\",\"o\",\"n\"] using extend function\n",
    "\n",
    "31)create a list [1,2,3,4] and remove 2 using pop function\n",
    "\n",
    "32)create a list [1,2,3,4] and print [1,5,3,4] using insert function\n",
    "\n",
    "33)create a list [1,2,3,4] and print [1,5,3,4] using negative indexing in insert function\n",
    "\n",
    "34)create a list [1,2,3,4] and print [4,3,2,1]\n",
    "\n",
    "35)create a list [1,4,3,2] and print [1,2,3,4] using function\n",
    "\n",
    "36)create a dict {\"a\":10,\"b\":12,\"c\":14} and clear it{}\n",
    "\n",
    "37)create a empty set{}\n",
    "\n",
    "38)create empty dict{}\n",
    "\n",
    "39)create a dict{\"a\":10,\"b\":20,\"c\":30} and print {\"b\":20,\"c\":30}\n",
    "\n",
    "40)create a set {1,2,3,4} and remove 2"
   ]
  },
  {
   "cell_type": "code",
   "execution_count": 14,
   "id": "e83236ec",
   "metadata": {},
   "outputs": [
    {
     "name": "stdout",
     "output_type": "stream",
     "text": [
      "{1, 2, 4}\n"
     ]
    }
   ],
   "source": [
    "#21)create a set like {1,2,3,4} and remove 3\n",
    "s1={1,2,3,4}\n",
    "s1.remove(3)\n",
    "print(s1) "
   ]
  },
  {
   "cell_type": "code",
   "execution_count": 15,
   "id": "90c97c49",
   "metadata": {},
   "outputs": [
    {
     "name": "stdout",
     "output_type": "stream",
     "text": [
      "{1, 2, 4}\n"
     ]
    }
   ],
   "source": [
    "#create a set like {1,2,3,4} and remove 3 using discard method and undrstand what's the difference between remove and pop\n",
    "s1={1,2,3,4}\n",
    "s1.discard(3)\n",
    "print(s1)"
   ]
  },
  {
   "cell_type": "code",
   "execution_count": 19,
   "id": "c3dc5810",
   "metadata": {},
   "outputs": [
    {
     "name": "stdout",
     "output_type": "stream",
     "text": [
      "2\n"
     ]
    }
   ],
   "source": [
    "#create a string like \"hello world\" and count \"o\"\n",
    "st1=\"hello world\"\n",
    "print(st1.count(\"o\"))"
   ]
  },
  {
   "cell_type": "code",
   "execution_count": 21,
   "id": "494d3efb",
   "metadata": {},
   "outputs": [
    {
     "name": "stdout",
     "output_type": "stream",
     "text": [
      "4\n"
     ]
    }
   ],
   "source": [
    "#create a string like \"hello world\" and find \"z\" or index \"z\" and understand difference between index and count\n",
    "st1=\"hello world\"\n",
    "print(st1.index(\"o\")) #----> throws error"
   ]
  },
  {
   "cell_type": "code",
   "execution_count": 1,
   "id": "6f377c73",
   "metadata": {},
   "outputs": [
    {
     "name": "stdout",
     "output_type": "stream",
     "text": [
      "python\n"
     ]
    }
   ],
   "source": [
    "#create a list like [\"p\",\"y\",\"t\",\"h\",\"o\",\"n\"] and print \"python\"\n",
    "my_list = [\"p\", \"y\", \"t\", \"h\", \"o\", \"n\"]\n",
    "word = \"\".join(my_list)\n",
    "print(word)\n"
   ]
  },
  {
   "cell_type": "code",
   "execution_count": null,
   "id": "de479468",
   "metadata": {},
   "outputs": [],
   "source": []
  }
 ],
 "metadata": {
  "kernelspec": {
   "display_name": "Python 3 (ipykernel)",
   "language": "python",
   "name": "python3"
  },
  "language_info": {
   "codemirror_mode": {
    "name": "ipython",
    "version": 3
   },
   "file_extension": ".py",
   "mimetype": "text/x-python",
   "name": "python",
   "nbconvert_exporter": "python",
   "pygments_lexer": "ipython3",
   "version": "3.10.1"
  }
 },
 "nbformat": 4,
 "nbformat_minor": 5
}
