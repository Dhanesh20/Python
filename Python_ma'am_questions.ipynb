{
 "cells": [
  {
   "cell_type": "markdown",
   "id": "d18daebf",
   "metadata": {},
   "source": [
    "1)take input from user and print its inputvalue using input function\n",
    "\n",
    "2)create a string and print the last element \n",
    "\n",
    "3)create a string and print second last element\n",
    "\n",
    "4)create a string as eg:\"hellohellohellohello\" and print it \n",
    "\n",
    "5)create  two string like \"hello\" and \"world\" and print \"helloworld\"\n",
    "\n",
    "6)create two variable and swap its value eg a=10,b=20 afer swapping there output is a=20,b=10\n",
    "\n",
    "7)create a tuple like(1,2,3,4,3,2) and count number of  occurrences  of 3\n",
    "\n",
    "8)create a tuple like(1,2,3,4,3,2) and print the index number of 3\n",
    "\n",
    "9)create a tuple like(1,2,3,4,3,2) and print (2,3,4) only\n",
    "\n",
    "10)create tuple like(1,2,3,4,3,2) and remove 3 in this tuple"
   ]
  },
  {
   "cell_type": "code",
   "execution_count": 2,
   "id": "e3f2fd7e",
   "metadata": {},
   "outputs": [
    {
     "name": "stdout",
     "output_type": "stream",
     "text": [
      "The entered value by user is 9"
     ]
    }
   ],
   "source": [
    "#1 take input from user and print its inputvalue using input function\n",
    "user = input()\n",
    "print(\"The entered value by user is {}\".format(user),end=\"\")"
   ]
  },
  {
   "cell_type": "code",
   "execution_count": 3,
   "id": "332f4dac",
   "metadata": {},
   "outputs": [
    {
     "name": "stdout",
     "output_type": "stream",
     "text": [
      "The last element of string is: n\n"
     ]
    }
   ],
   "source": [
    "# 2)create a string and print the last element\n",
    "str=\"This is beginning of Python\"\n",
    "print(\"The last element of string is:\",str[-1])"
   ]
  },
  {
   "cell_type": "code",
   "execution_count": 4,
   "id": "e1b58f75",
   "metadata": {},
   "outputs": [
    {
     "name": "stdout",
     "output_type": "stream",
     "text": [
      "The second last element of string is: o\n"
     ]
    }
   ],
   "source": [
    "# 3)create a string and print second last element\n",
    "str=\"This is beginning of Python\"\n",
    "print(\"The second last element of string is:\",str[-2:-1])"
   ]
  },
  {
   "cell_type": "code",
   "execution_count": 5,
   "id": "1843b828",
   "metadata": {},
   "outputs": [
    {
     "name": "stdout",
     "output_type": "stream",
     "text": [
      "hellohellohellohello\n"
     ]
    }
   ],
   "source": [
    "# 4)create a string as eg:\"hellohellohellohello\" and print it\n",
    "str=\"hello\"\n",
    "print(str*4)"
   ]
  },
  {
   "cell_type": "code",
   "execution_count": 6,
   "id": "aca990bc",
   "metadata": {},
   "outputs": [
    {
     "name": "stdout",
     "output_type": "stream",
     "text": [
      "helloworld\n"
     ]
    }
   ],
   "source": [
    "# 5)create two string like \"hello\" and \"world\" and print \"helloworld\"\n",
    "str1=\"hello\"\n",
    "str2=\"world\"\n",
    "print(str1+str2)"
   ]
  },
  {
   "cell_type": "code",
   "execution_count": 7,
   "id": "9bad2007",
   "metadata": {},
   "outputs": [
    {
     "name": "stdout",
     "output_type": "stream",
     "text": [
      "a = 20 \n",
      "b = 10\n"
     ]
    }
   ],
   "source": [
    "# 6)create two variable and swap its value eg a=10,b=20 afer swapping there output is a=20,b=10\n",
    "a,b=10,20\n",
    "a,b=b,a\n",
    "print(\"a =\",a,\"\\nb =\",b)"
   ]
  },
  {
   "cell_type": "code",
   "execution_count": 8,
   "id": "b7424fb2",
   "metadata": {},
   "outputs": [
    {
     "name": "stdout",
     "output_type": "stream",
     "text": [
      "The count number of occurrence of 3 is 2 times \n"
     ]
    }
   ],
   "source": [
    "# 7)create a tuple like(1,2,3,4,3,2) and count number of occurrences of 3\n",
    "tuple=(1,2,3,4,3,2)\n",
    "print(\"The count number of occurrence of 3 is {} times \".format(tuple.count(3)))"
   ]
  },
  {
   "cell_type": "code",
   "execution_count": 9,
   "id": "20e4ac4f",
   "metadata": {},
   "outputs": [
    {
     "name": "stdout",
     "output_type": "stream",
     "text": [
      "The index number 3 is 2 \n"
     ]
    }
   ],
   "source": [
    "# 8)create a tuple like(1,2,3,4,3,2) and print the index number of 3\n",
    "tuple=(1,2,3,4,3,2)\n",
    "print(\"The index number 3 is {} \".format(tuple.index(3)))"
   ]
  },
  {
   "cell_type": "code",
   "execution_count": 10,
   "id": "ebbdc7c9",
   "metadata": {},
   "outputs": [
    {
     "name": "stdout",
     "output_type": "stream",
     "text": [
      "(2, 3, 4)\n"
     ]
    }
   ],
   "source": [
    "# 9)create a tuple like(1,2,3,4,3,2) and print (2,3,4) only\n",
    "tuple=(1,2,3,4,3,2)\n",
    "print(tuple[1:4])"
   ]
  },
  {
   "cell_type": "code",
   "execution_count": 2,
   "id": "28312d9e",
   "metadata": {},
   "outputs": [
    {
     "name": "stdout",
     "output_type": "stream",
     "text": [
      "(1, 2, 4, 2)\n"
     ]
    }
   ],
   "source": [
    "# 10)create tuple like(1,2,3,4,3,2) and remove 3 in this tuple\n",
    "t = (1, 2, 3, 4, 3, 2)\n",
    "t1 = tuple(x for x in t if x != 3)\n",
    "print(t1)"
   ]
  },
  {
   "cell_type": "markdown",
   "id": "b9c28e49",
   "metadata": {},
   "source": [
    "11) create a list like[1,2,3,4] and change the elements like[1,2,4,3] without using list methods\n",
    "\n",
    "12) create a list like[1,2,3,4] and delete all the elements in list and print empty list without using any method \n",
    "\n",
    "13) create single value tuple \n",
    "\n",
    "14) create empty set\n",
    "\n",
    "15) create a dictionery like {\"a\":10,\"b\":20} and print the value of \"a\" without using methods\n",
    "\n",
    "16) create a dictionery like {\"a\":10,\"b\":20} and change the value of \"b\" is 30 and print it without using methods\n",
    "\n",
    "17) create a dictionery like {\"a\":10,\"b\":20} and insert the key value pair which the key is \"c\" and the value is 30 and print it\n",
    "\n",
    "18) create two sets like {1,2,3,4} and {3,4,5,6} and find the union without using union method\n",
    "\n",
    "19) create two sets like {1,2,3,4} and {3,4,5,6} and find the intersection without using intersection method\n",
    "\n",
    "20) create two sets like {1,2,3,4} and {3,4,5,6} and find there difference without using difference method"
   ]
  },
  {
   "cell_type": "code",
   "execution_count": 16,
   "id": "d8b2764f",
   "metadata": {},
   "outputs": [
    {
     "name": "stdout",
     "output_type": "stream",
     "text": [
      "[1, 2, 4, 3]\n"
     ]
    }
   ],
   "source": [
    "#11 create a list like[1,2,3,4] and change the elements like[1,2,4,3] without using list methods\n",
    "l1=[1,2,3,4]\n",
    "l1[2],l1[3]=l1[3],l1[2]\n",
    "print(l1)"
   ]
  },
  {
   "cell_type": "code",
   "execution_count": 17,
   "id": "b9460663",
   "metadata": {},
   "outputs": [
    {
     "name": "stdout",
     "output_type": "stream",
     "text": [
      "[]\n"
     ]
    }
   ],
   "source": [
    "#12 create a list like[1,2,3,4] and delete all the elements in list and print empty list without using any method\n",
    "l1=[1,2,3,4]\n",
    "l1.clear()\n",
    "print(l1)"
   ]
  },
  {
   "cell_type": "code",
   "execution_count": 4,
   "id": "1c65181d",
   "metadata": {},
   "outputs": [
    {
     "name": "stdout",
     "output_type": "stream",
     "text": [
      "<class 'tuple'> \n",
      " (1,)\n"
     ]
    }
   ],
   "source": [
    "#13 create single value tuple\n",
    "t=(1,)\n",
    "print(type(t),\"\\n\",t)\n"
   ]
  },
  {
   "cell_type": "code",
   "execution_count": 5,
   "id": "ab757fa6",
   "metadata": {},
   "outputs": [
    {
     "name": "stdout",
     "output_type": "stream",
     "text": [
      "<class 'set'>\n"
     ]
    }
   ],
   "source": [
    "#create empty set\n",
    "s=set()\n",
    "print(type(s))"
   ]
  },
  {
   "cell_type": "code",
   "execution_count": 13,
   "id": "b83a65f2",
   "metadata": {},
   "outputs": [
    {
     "name": "stdout",
     "output_type": "stream",
     "text": [
      "10\n"
     ]
    }
   ],
   "source": [
    "#create a dictionery like {\"a\":10,\"b\":20} and print the value of \"a\" without using methods\n",
    "d1={\"a\":10,\"b\":20}\n",
    "print(d1[\"a\"])"
   ]
  },
  {
   "cell_type": "code",
   "execution_count": 14,
   "id": "c6f67fd4",
   "metadata": {},
   "outputs": [
    {
     "name": "stdout",
     "output_type": "stream",
     "text": [
      "{'a': 10, 'b': 30}\n"
     ]
    }
   ],
   "source": [
    "#create a dictionery like {\"a\":10,\"b\":20} and change the value of \"b\" is 30 and print it without using methods\n",
    "d2={\"a\":10,\"b\":20}\n",
    "d2[\"b\"]=30\n",
    "print(d2)"
   ]
  },
  {
   "cell_type": "code",
   "execution_count": 15,
   "id": "d24fdeb3",
   "metadata": {},
   "outputs": [
    {
     "name": "stdout",
     "output_type": "stream",
     "text": [
      "{'a': 10, 'b': 20, 'c': 30}\n"
     ]
    }
   ],
   "source": [
    "#create a dictionery like {\"a\":10,\"b\":20} and insert the key value pair which the key is \"c\" and the value is 30 and print it\n",
    "d3={\"a\":10,\"b\":20}\n",
    "d3[\"c\"]=30\n",
    "print(d3)"
   ]
  },
  {
   "cell_type": "code",
   "execution_count": 3,
   "id": "2323b7a4",
   "metadata": {},
   "outputs": [
    {
     "name": "stdout",
     "output_type": "stream",
     "text": [
      "{1, 2, 3, 4, 5, 6}\n"
     ]
    }
   ],
   "source": [
    "#create two sets like {1,2,3,4} and {3,4,5,6} and find the union without using union method\n",
    "s1={1,2,3,4}\n",
    "s1.update({3,4,5,6})\n",
    "print(s1)\n",
    "\n",
    "\n"
   ]
  },
  {
   "cell_type": "code",
   "execution_count": 6,
   "id": "d6639544",
   "metadata": {},
   "outputs": [
    {
     "data": {
      "text/plain": [
       "{1, 2, 5, 6}"
      ]
     },
     "execution_count": 6,
     "metadata": {},
     "output_type": "execute_result"
    }
   ],
   "source": [
    "#create two sets like {1,2,3,4} and {3,4,5,6} and find the intersection without using intersection method\n",
    "s1={1,2,3,4}\n",
    "s2={3,4,5,6}\n",
    "s1.symmetric_difference(s2)"
   ]
  },
  {
   "cell_type": "code",
   "execution_count": 13,
   "id": "aa9145b3",
   "metadata": {},
   "outputs": [
    {
     "name": "stdout",
     "output_type": "stream",
     "text": [
      "{1, 2}\n"
     ]
    }
   ],
   "source": [
    "#create two sets like {1,2,3,4} and {3,4,5,6} and find there difference without using difference method\n",
    "s1={1,2,3,4}\n",
    "s2={3,4,5,6}\n",
    "print(s1-s2)\n"
   ]
  },
  {
   "attachments": {},
   "cell_type": "markdown",
   "id": "1b445c12",
   "metadata": {},
   "source": [
    "21)create a set like {1,2,3,4} and remove 3 \n",
    "\n",
    "22)create a set like {1,2,3,4} and remove 3 using discard method and undrstand what's the difference between remove and pop\n",
    "\n",
    "23)create a string like \"hello world\" and count \"o\"\n",
    "\n",
    "24)create a string like \"hello world\" and find \"z\" or index \"z\" and understand difference between index and count\n",
    "\n",
    "25)create a list like [\"p\",\"y\",\"t\",\"h\",\"o\",\"n\"] and print \"python\"\n",
    "\n",
    "26)create a string \"python\" and print [\"p\",\"y\",\"t\",\"h\",\"o\",\"n\"]\n",
    "\n",
    "27)create a string like\"     python\" and print \"python\"\n",
    "\n",
    "28)create a list [1,2,3,4] and print it like [1,2,3,4,5]\n",
    "\n",
    "29)create a list [1,2,3,4] and print [1,2,3,4,1,2,3,4] using extend function\n",
    "\n",
    "30)create a list [1,2,3,4] and print [1,2,3,4,\"p\",\"y\",\"t\",\"h\",\"o\",\"n\"] using extend function\n",
    "\n",
    "31)create a list [1,2,3,4] and remove 2 using pop function\n",
    "\n",
    "32)create a list [1,2,3,4] and print [1,5,3,4] using insert function\n",
    "\n",
    "33)create a list [1,2,3,4] and print [1,5,3,4] using negative indexing in insert function\n",
    "\n",
    "34)create a list [1,2,3,4] and print [4,3,2,1]\n",
    "\n",
    "35)create a list [1,4,3,2] and print [1,2,3,4] using function\n",
    "\n",
    "36)create a dict {\"a\":10,\"b\":12,\"c\":14} and clear it{}\n",
    "\n",
    "37)create a empty set{}\n",
    "\n",
    "38)create empty dict{}\n",
    "\n",
    "39)create a dict{\"a\":10,\"b\":20,\"c\":30} and print {\"b\":20,\"c\":30}\n",
    "\n",
    "40)create a set {1,2,3,4} and remove 2"
   ]
  },
  {
   "cell_type": "code",
   "execution_count": 14,
   "id": "e83236ec",
   "metadata": {},
   "outputs": [
    {
     "name": "stdout",
     "output_type": "stream",
     "text": [
      "{1, 2, 4}\n"
     ]
    }
   ],
   "source": [
    "#21)create a set like {1,2,3,4} and remove 3\n",
    "s1={1,2,3,4}\n",
    "s1.remove(3)\n",
    "print(s1) "
   ]
  },
  {
   "cell_type": "code",
   "execution_count": 15,
   "id": "90c97c49",
   "metadata": {},
   "outputs": [
    {
     "name": "stdout",
     "output_type": "stream",
     "text": [
      "{1, 2, 4}\n"
     ]
    }
   ],
   "source": [
    "#create a set like {1,2,3,4} and remove 3 using discard method and undrstand what's the difference between remove and pop\n",
    "s1={1,2,3,4}\n",
    "s1.discard(3)\n",
    "print(s1)"
   ]
  },
  {
   "cell_type": "code",
   "execution_count": 19,
   "id": "c3dc5810",
   "metadata": {},
   "outputs": [
    {
     "name": "stdout",
     "output_type": "stream",
     "text": [
      "2\n"
     ]
    }
   ],
   "source": [
    "#create a string like \"hello world\" and count \"o\"\n",
    "st1=\"hello world\"\n",
    "print(st1.count(\"o\"))"
   ]
  },
  {
   "cell_type": "code",
   "execution_count": 21,
   "id": "494d3efb",
   "metadata": {},
   "outputs": [
    {
     "name": "stdout",
     "output_type": "stream",
     "text": [
      "4\n"
     ]
    }
   ],
   "source": [
    "#create a string like \"hello world\" and find \"z\" or index \"z\" and understand difference between index and count\n",
    "st1=\"hello world\"\n",
    "print(st1.index(\"o\")) #----> throws error"
   ]
  },
  {
   "cell_type": "code",
   "execution_count": 1,
   "id": "6f377c73",
   "metadata": {},
   "outputs": [
    {
     "name": "stdout",
     "output_type": "stream",
     "text": [
      "python\n"
     ]
    }
   ],
   "source": [
    "#create a list like [\"p\",\"y\",\"t\",\"h\",\"o\",\"n\"] and print \"python\"\n",
    "my_list = [\"p\", \"y\", \"t\", \"h\", \"o\", \"n\"]\n",
    "word = \"\".join(my_list)\n",
    "print(word)\n"
   ]
  },
  {
   "cell_type": "code",
   "execution_count": 15,
   "id": "de479468",
   "metadata": {},
   "outputs": [
    {
     "name": "stdout",
     "output_type": "stream",
     "text": [
      "['p', 'y', 't', 'h', 'o', 'n']\n"
     ]
    }
   ],
   "source": [
    "#create a string \"python\" and print [\"p\",\"y\",\"t\",\"h\",\"o\",\"n\"]\n",
    "str1=\"python\"\n",
    "my_list=list(str1)\n",
    "print(my_list)"
   ]
  },
  {
   "cell_type": "code",
   "execution_count": 16,
   "id": "45294d25",
   "metadata": {},
   "outputs": [
    {
     "name": "stdout",
     "output_type": "stream",
     "text": [
      "python\n"
     ]
    }
   ],
   "source": [
    "#create a string like\"     python\" and print \"python\"\n",
    "str1=\"     python\"\n",
    "print(str1.lstrip())"
   ]
  },
  {
   "cell_type": "code",
   "execution_count": 28,
   "id": "097bc08a",
   "metadata": {},
   "outputs": [
    {
     "name": "stdout",
     "output_type": "stream",
     "text": [
      "[1, 2, 3, 4, 'p', 'y', 't', 'h', 'o', 'n']\n"
     ]
    }
   ],
   "source": [
    "#create a list [1,2,3,4] and print [1,2,3,4,\"p\",\"y\",\"t\",\"h\",\"o\",\"n\"] using extend function\n",
    "l1=[1,2,3,4]\n",
    "str1=\"python\"\n",
    "# my_list=list(str1)\n",
    "l1.extend(list(str1))\n",
    "print(l1)\n"
   ]
  },
  {
   "cell_type": "code",
   "execution_count": 30,
   "id": "648672b2",
   "metadata": {},
   "outputs": [
    {
     "name": "stdout",
     "output_type": "stream",
     "text": [
      "[1, 2, 3, 4]\n"
     ]
    }
   ],
   "source": [
    "#create a list [1,4,3,2] and print [1,2,3,4] using function\n",
    "l1=[1,4,3,2]\n",
    "l1.sort()\n",
    "print(l1)"
   ]
  },
  {
   "cell_type": "code",
   "execution_count": 31,
   "id": "5f2322a8",
   "metadata": {},
   "outputs": [
    {
     "name": "stdout",
     "output_type": "stream",
     "text": [
      "{'b': 20, 'c': 30}\n"
     ]
    }
   ],
   "source": [
    "#create a dict{\"a\":10,\"b\":20,\"c\":30} and print {\"b\":20,\"c\":30}\n",
    "d1={\"a\":10,\"b\":20,\"c\":30} \n",
    "d1.pop(\"a\")\n",
    "print(d1)"
   ]
  },
  {
   "cell_type": "code",
   "execution_count": 32,
   "id": "ee5a77ce",
   "metadata": {},
   "outputs": [
    {
     "name": "stdout",
     "output_type": "stream",
     "text": [
      "{1, 3, 4}\n"
     ]
    }
   ],
   "source": [
    "#create a set {1,2,3,4} and remove 2\n",
    "s1={1,2,3,4}\n",
    "s1.remove(2)\n",
    "print(s1)"
   ]
  },
  {
   "attachments": {},
   "cell_type": "markdown",
   "id": "04a848ad",
   "metadata": {},
   "source": [
    "\n",
    "1)create a string \"hello\" and print >> ll:2 times without using count method\n",
    "\n",
    "2)create a string \"hello\" and sort it \n",
    "\n",
    "3)Take input string from user and find vowels\n",
    "\n",
    "4)create a list [(1,2),{\"A\":10},\"abc\",[1,2,3,4]] and find the data type of each element \n",
    "\n",
    "5)print A to Z in sequence like A B C D E........XYZ.\n",
    "\n",
    "6)print ten time \"hii\" \n",
    "\n",
    "7)print right angle triangle using while loop \n",
    "\n",
    "8)print right angle triangle using for loop \n",
    "\n",
    "9)take input from user and check its even or odd\n",
    "\n",
    "10)take input from user and check the number is divisible by 5 or not\n",
    "\n",
    "11)write a programme to check whether a person is eligible for voting or not(accept age from user)\n",
    "\n",
    "12)print 1 to 10 using for loop\n",
    "\n",
    "13)write a programme to check whether a number is divisible by 7 or not\n",
    "\n",
    "14)wap to display \"hello\" if number enterned by user is even , otherwise print \"bye\"\n",
    "\n",
    "15)take input from user and check its data type \n",
    "\n",
    "16)create set like {1,2,3,4,5} and update it {1,2,3,4,5,6,7,8,9}\n",
    "\n",
    "17)create a set like {1,2,3,4,5} and add the element like {1,2,3,4,5,6,7,8,9}\n",
    "\n",
    "18)take string from user like \"python\" and print [\"p\",\"y\",\"t\",\"h\",\"o\",\"n\"]\n",
    "\n",
    "19)take input from user in int data type without using int() function\n",
    "\n",
    "20)create a string like \" 7 apple 8 mango 9 banana\" and print the int values only which dynamic state\n",
    "\n",
    "21)take input from user like 1234 and print the every second element 0 eg,1020\n",
    "\n",
    "22)take gmail from user like \"abc@gmail.com\" and print its name only \"abc\"\n",
    "\n",
    "23) Write a program to calculate the electricity bill (accept number of unit from user) according to the following criteria :\n",
    "    Unit                          Price  \n",
    "  First 100 units                 no charge\n",
    "  Next 100 units                 Rs 5 per unit\n",
    "  After 200 units                Rs 10 per unit\n",
    "  (For example if input unit is 350 than total bill amount is Rs2000)\n",
    "\n",
    "24) Write a program to check whether the last digit of a number\n",
    "   (entered by user ) is divisible by 3 or not.\n",
    "\n",
    "25) Write a program to determine whether a number (accepted from the user) \n",
    "   is divisible by 2 and 3 both.\n",
    "\n",
    "26)Accept the age of 4 people and display the youngest one?\n",
    "\n",
    "27) Accept the age of 4 people and display the oldest one?\n",
    "\n",
    "28) Write a program to check whether an years is leap year or not\n",
    "\n",
    "29) Write a program to check whether an years is leap year or not without using (or) keyword\n",
    "\n",
    "30) Write a program to check whether an years is leap year or not , without using (and),(or) keywords\n",
    "\n",
    "31)Write a program to check whether a number entered is three digit number or not. \n",
    "\n",
    "32) Write a program to check whether a person is senior citizen or not.\n",
    "\n",
    "33)wap which will add(sum) all the elements of list \n",
    "\n",
    "34)wap to print maximum number without using max function\n",
    "\n",
    "35)wap to print minmum number without using min function \n",
    "\n",
    "36)wpa to square all the all elements of list note[1,5,3,9],>>[1,25,9,81]\n",
    "\n",
    "37)wpa to peint all the elements in list which are divisible by 3 \n",
    "\n",
    "38)wpa to print all the elements which are greater then 100\"\"\"\n",
    "\n",
    "39)\"\"\"wap to find the total length of all string element in a list eg [\"py\",\"thon\"],>>[2,4]\n",
    "\n",
    "40)wap to print all elements in dict\n",
    "\n",
    "1)take a list and sort it without using sort function\n",
    "\n",
    "2)tak a list and sort it in decending order without using sort function\n",
    "\n",
    "3)take a list and find the highest element without using max function\n",
    "\n",
    "4)take a list and find the second highest element\n",
    "\n",
    "5)take a list and find the lowest element with using min function function\n",
    "\n",
    "6)take a dictionary and print the highest key value pair \n",
    "\n",
    "7)take a dictionary and print the lowest key value pair\n",
    "\n",
    "8)create a list like [1,2,3,4] and print the elements without using loop\n",
    "\n",
    "9)create a string \"ABCD\" and conert into \"abcd\" without using lower and upper method"
   ]
  },
  {
   "cell_type": "code",
   "execution_count": 51,
   "id": "7536b6d1",
   "metadata": {},
   "outputs": [
    {
     "name": "stdout",
     "output_type": "stream",
     "text": [
      "l is 2 times\n"
     ]
    }
   ],
   "source": [
    "#create a string \"hello\" and print >> ll:2 times without using count method\n",
    "my_string = \"hello\"\n",
    "substring = \"l\"\n",
    "count = 0\n",
    "\n",
    "for i in range(len(my_string)-1):\n",
    "    if my_string[i:i+1] == substring:\n",
    "        count += 1\n",
    "\n",
    "print(\"l is\", count, \"times\")\n",
    "\n"
   ]
  },
  {
   "cell_type": "code",
   "execution_count": 53,
   "id": "6ca7bd49",
   "metadata": {},
   "outputs": [
    {
     "name": "stdout",
     "output_type": "stream",
     "text": [
      "ehllo\n"
     ]
    }
   ],
   "source": [
    "#create a string \"hello\" and sort it \n",
    "str1=\"hello\"\n",
    "s1=\"\".join(sorted(str1))\n",
    "print(s1)"
   ]
  },
  {
   "cell_type": "code",
   "execution_count": 58,
   "id": "7080b518",
   "metadata": {},
   "outputs": [
    {
     "name": "stdout",
     "output_type": "stream",
     "text": [
      "5\n"
     ]
    }
   ],
   "source": [
    "#Take input string from user and find vowels\n",
    "str1 = input()\n",
    "count = 0\n",
    "\n",
    "for i in range(len(str1)):\n",
    "    if str1[i] in {\"a\", \"e\", \"i\", \"o\", \"u\"}:\n",
    "        count += 1\n",
    "\n",
    "if count == 0:\n",
    "    print(\"no vowels\")\n",
    "else:\n",
    "    print(count)\n",
    "\n"
   ]
  },
  {
   "cell_type": "code",
   "execution_count": 59,
   "id": "6b1d2397",
   "metadata": {},
   "outputs": [
    {
     "name": "stdout",
     "output_type": "stream",
     "text": [
      "<class 'tuple'>\n",
      "<class 'dict'>\n",
      "<class 'str'>\n",
      "<class 'list'>\n"
     ]
    }
   ],
   "source": [
    "#create a list [(1,2),{\"A\":10},\"abc\",[1,2,3,4]] and find the data type of each element \n",
    "l1=[(1,2),{\"A\":10},\"abc\",[1,2,3,4]]\n",
    "for i in range(len(l1)):\n",
    "    print(type(l1[i]))"
   ]
  },
  {
   "cell_type": "code",
   "execution_count": 64,
   "id": "02c8515e",
   "metadata": {},
   "outputs": [
    {
     "name": "stdout",
     "output_type": "stream",
     "text": [
      "A B C D E F G H I J K L M N O P Q R S T U V W X Y Z "
     ]
    }
   ],
   "source": [
    "#print A to Z in sequence like A B C D E........XYZ.\n",
    "for letter in range(ord('A'), ord('Z')+1):\n",
    "    print(chr(letter), end=' ')\n",
    "\n"
   ]
  },
  {
   "cell_type": "code",
   "execution_count": 67,
   "id": "13552242",
   "metadata": {},
   "outputs": [
    {
     "name": "stdout",
     "output_type": "stream",
     "text": [
      "hiihiihiihiihiihiihiihiihiihii\n"
     ]
    }
   ],
   "source": [
    "#print ten time \"hii\" \n",
    "print(\"hii\"*10)"
   ]
  },
  {
   "cell_type": "code",
   "execution_count": 91,
   "id": "f0f2edbf",
   "metadata": {},
   "outputs": [
    {
     "name": "stdout",
     "output_type": "stream",
     "text": [
      "\n",
      "* \n",
      "* * \n",
      "* * * \n",
      "* * * * \n",
      "* * * * * \n"
     ]
    }
   ],
   "source": [
    "#print right angle triangle using while loop\n",
    "n = int(input())\n",
    "row = 0\n",
    "while row <= n:\n",
    "    col = 0\n",
    "    while col < row:\n",
    "        print(\"*\", end=\" \")\n",
    "        col += 1\n",
    "    print()  # print a newline after each row\n",
    "    row+=1\n",
    "\n"
   ]
  },
  {
   "cell_type": "code",
   "execution_count": 87,
   "id": "5106001d",
   "metadata": {},
   "outputs": [
    {
     "name": "stdout",
     "output_type": "stream",
     "text": [
      "* \n",
      "* * \n",
      "* * * \n",
      "* * * * \n",
      "* * * * * \n"
     ]
    }
   ],
   "source": [
    "#print right angle triangle using for loop \n",
    "n=int(input())\n",
    "for row in range(0,n):\n",
    "    for col in range(0,row+1):\n",
    "        print(\"*\",end=\" \")\n",
    "    print()"
   ]
  },
  {
   "cell_type": "code",
   "execution_count": 93,
   "id": "43498a13",
   "metadata": {},
   "outputs": [
    {
     "name": "stdout",
     "output_type": "stream",
     "text": [
      "even\n"
     ]
    }
   ],
   "source": [
    "#take input from user and check its even or odd\n",
    "num=int(input())\n",
    "if num%2==0:\n",
    "    print(\"even\")\n",
    "else:\n",
    "    print(\"odd\")"
   ]
  },
  {
   "cell_type": "code",
   "execution_count": 98,
   "id": "3e9c2ede",
   "metadata": {},
   "outputs": [
    {
     "name": "stdout",
     "output_type": "stream",
     "text": [
      "divisible by 5\n"
     ]
    }
   ],
   "source": [
    "#take input from user and check the number is divisible by 5 or not\n",
    "num=int(input())\n",
    "if num%5==0:\n",
    "    print(\"divisible by 5\")\n",
    "else:\n",
    "    print(\"not divisible\")"
   ]
  },
  {
   "cell_type": "code",
   "execution_count": 103,
   "id": "7a54573b",
   "metadata": {},
   "outputs": [
    {
     "name": "stdout",
     "output_type": "stream",
     "text": [
      "The entered value is a string\n"
     ]
    }
   ],
   "source": [
    "#15)take input from user and check its data type \n",
    "# Prompt the user to enter a value\n",
    "user_input = input(\"Enter a value: \")\n",
    "\n",
    "# Check the type of the entered value\n",
    "if user_input.isdigit():\n",
    "    print(\"The entered value is an integer\")\n",
    "elif user_input.replace(\".\", \"\", 1).isdigit():\n",
    "    print(\"The entered value is a float\")\n",
    "else:\n",
    "    print(\"The entered value is a string\")\n"
   ]
  },
  {
   "cell_type": "code",
   "execution_count": 108,
   "id": "da93595e",
   "metadata": {},
   "outputs": [
    {
     "name": "stdout",
     "output_type": "stream",
     "text": [
      "{1, 2, 3, 4, 5, 6, 7, 8, 9}\n"
     ]
    }
   ],
   "source": [
    "#17)create a set like {1,2,3,4,5} and add the element like {1,2,3,4,5,6,7,8,9}\n",
    "s1={1,2,3,4,5}\n",
    "s1.update({1,2,3,4,5,6,7,8,9})\n",
    "print(s1)"
   ]
  },
  {
   "cell_type": "code",
   "execution_count": 109,
   "id": "e2246a73",
   "metadata": {},
   "outputs": [
    {
     "name": "stdout",
     "output_type": "stream",
     "text": [
      "['p', 'y', 't', 'h', 'o', 'n']\n"
     ]
    }
   ],
   "source": [
    "#take string from user like \"python\" and print [\"p\",\"y\",\"t\",\"h\",\"o\",\"n\"]\n",
    "str1=\"python\"\n",
    "my_list=list(str1)\n",
    "print(my_list)"
   ]
  },
  {
   "cell_type": "code",
   "execution_count": 113,
   "id": "8606bc80",
   "metadata": {},
   "outputs": [
    {
     "name": "stdout",
     "output_type": "stream",
     "text": [
      "<class 'int'>\n"
     ]
    }
   ],
   "source": [
    "#take input from user in int data type without using int() function\n",
    "# take input from user as a string\n",
    "user_input = input(\"Enter an integer: \")\n",
    "\n",
    "# initialize a variable to store the converted integer\n",
    "converted_int = 0\n",
    "\n",
    "# iterate over each character in the string\n",
    "for digit in user_input:\n",
    "    # convert the character to an integer by subtracting the ASCII value of '0'\n",
    "    converted_int = (converted_int * 10) + (ord(digit) - ord('0'))\n",
    "\n",
    "# print the converted integer\n",
    "print(type(converted_int))\n",
    "\n"
   ]
  },
  {
   "cell_type": "code",
   "execution_count": 114,
   "id": "3ba21bd9",
   "metadata": {},
   "outputs": [
    {
     "name": "stdout",
     "output_type": "stream",
     "text": [
      "[7, 8, 9]\n"
     ]
    }
   ],
   "source": [
    "#create a string like \" 7 apple 8 mango 9 banana\" and print the int values only which dynamic state\n",
    "st1=\" 7 apple 8 mango 9 banana\"\n",
    "words=st1.split()\n",
    "int_values=[]\n",
    "for word in words:\n",
    "    if word.isdigit():\n",
    "        int_values.append(int(word))\n",
    "print(int_values)"
   ]
  },
  {
   "cell_type": "code",
   "execution_count": 190,
   "id": "9e7c709f",
   "metadata": {},
   "outputs": [
    {
     "name": "stdout",
     "output_type": "stream",
     "text": [
      "10203040\n"
     ]
    }
   ],
   "source": [
    "#take input from user like 1234 and print the every second element 0 eg,1020\n",
    "string = input()  # take input from user\n",
    "result = \"\"\n",
    "for i in range(len(string)):\n",
    "    result += string[i]  # add the current character to the result string\n",
    "    if i % 1 == 0:  # if the index is odd (i.e. every second element)\n",
    "        result += \"0\"  # insert a 0 after the current character\n",
    "print(result)\n",
    "\n",
    "\n"
   ]
  },
  {
   "cell_type": "code",
   "execution_count": 127,
   "id": "bd8e0466",
   "metadata": {},
   "outputs": [
    {
     "name": "stdout",
     "output_type": "stream",
     "text": [
      "103050\n"
     ]
    }
   ],
   "source": [
    "# take input from user\n",
    "user_input = input(\"Enter a number: \")\n",
    "\n",
    "# initialize an empty string to store the modified output\n",
    "modified_output = \"\"\n",
    "\n",
    "# iterate over each character in the input string with a step of 2\n",
    "for i in range(0, len(user_input), 2):\n",
    "    # append the current character and a \"0\" to the modified output string\n",
    "    modified_output += user_input[i] + \"0\"\n",
    "\n",
    "# print the modified output string\n",
    "print(modified_output)\n"
   ]
  },
  {
   "cell_type": "code",
   "execution_count": 133,
   "id": "2f3747c2",
   "metadata": {},
   "outputs": [
    {
     "name": "stdout",
     "output_type": "stream",
     "text": [
      "Name: abc\n"
     ]
    }
   ],
   "source": [
    "# take input from user\n",
    "email = \"abc@gmail.com\"\n",
    "\n",
    "# find the index of the \"@\" symbol in the email address\n",
    "at_index = email.find(\"@\")\n",
    "\n",
    "# slice the email address to extract the name\n",
    "name = email[:at_index]\n",
    "\n",
    "# print the name\n",
    "print(\"Name:\", name)\n"
   ]
  },
  {
   "cell_type": "code",
   "execution_count": 141,
   "id": "d6d2559e",
   "metadata": {},
   "outputs": [
    {
     "name": "stdout",
     "output_type": "stream",
     "text": [
      "Your electricity bill amount is Rs 2000\n"
     ]
    }
   ],
   "source": [
    "\"\"\"\n",
    "Write a program to calculate the electricity bill (accept number of unit from user) according to the following criteria :\n",
    "    Unit                          Price  \n",
    "  First 100 units                 no charge\n",
    "  Next 100 units                 Rs 5 per unit\n",
    "  After 200 units                Rs 10 per unit\n",
    "  (For example if input unit is 350 than total bill amount is Rs2000)\n",
    "\"\"\"\n",
    "# take input from user for number of units consumed\n",
    "units = int(input(\"Enter number of units consumed: \"))\n",
    "\n",
    "# calculate the bill amount\n",
    "if units <= 100:\n",
    "    bill_amount = 0\n",
    "elif units <= 200:\n",
    "    bill_amount = (units - 100) * 5\n",
    "else:\n",
    "    bill_amount = 100 * 0 + 100 * 5 + (units - 200) * 10\n",
    "\n",
    "# print the bill amount\n",
    "print(\"Your electricity bill amount is Rs\", bill_amount)\n"
   ]
  },
  {
   "cell_type": "code",
   "execution_count": 143,
   "id": "eed3ae3f",
   "metadata": {},
   "outputs": [
    {
     "name": "stdout",
     "output_type": "stream",
     "text": [
      "divisible by 3\n"
     ]
    }
   ],
   "source": [
    "\"\"\"\n",
    "24) Write a program to check whether the last digit of a number\n",
    "   (entered by user ) is divisible by 3 or not.\n",
    "\"\"\"\n",
    "user_input=int(input())\n",
    "\n",
    "#extracting last_digit\n",
    "last_digit=user_input%10\n",
    "\n",
    "if last_digit%3==0:\n",
    "    print(\"divisible by 3\")\n",
    "else:\n",
    "    print(\"not divisible\")\n",
    "\n",
    "      "
   ]
  },
  {
   "cell_type": "code",
   "execution_count": 144,
   "id": "eb45e468",
   "metadata": {},
   "outputs": [
    {
     "name": "stdout",
     "output_type": "stream",
     "text": [
      "divisible by both\n"
     ]
    }
   ],
   "source": [
    "\"\"\"\n",
    "25) Write a program to determine whether a number (accepted from the user) \n",
    "   is divisible by 2 and 3 both.\n",
    "\"\"\"\n",
    "user_input=int(input())\n",
    "\n",
    "if user_input%2==0 and user_input%3==0:\n",
    "    print(\"divisible by both\")\n",
    "else:\n",
    "    print(\"not divisible\")"
   ]
  },
  {
   "cell_type": "code",
   "execution_count": 146,
   "id": "0abca287",
   "metadata": {},
   "outputs": [
    {
     "name": "stdout",
     "output_type": "stream",
     "text": [
      "the youngest is 1\n"
     ]
    }
   ],
   "source": [
    "#26)Accept the age of 4 people and display the youngest one?\n",
    "ages=[]\n",
    "for i in range(4):\n",
    "    age=int(input(\"Enter the age {}:\".format(i+1)))\n",
    "    ages.append(age)\n",
    "youngest=min(ages)\n",
    "print(\"the youngest is {}\".format(youngest))\n"
   ]
  },
  {
   "cell_type": "code",
   "execution_count": 147,
   "id": "be012a49",
   "metadata": {},
   "outputs": [
    {
     "name": "stdout",
     "output_type": "stream",
     "text": [
      "the oldest is 20\n"
     ]
    }
   ],
   "source": [
    "#27) Accept the age of 4 people and display the oldest one?\n",
    "ages=[]\n",
    "for i in range(4):\n",
    "    age=int(input(\"Enter the age {}:\".format(i+1)))\n",
    "    ages.append(age)\n",
    "oldest=max(ages)\n",
    "print(\"the oldest is {}\".format(oldest))"
   ]
  },
  {
   "cell_type": "code",
   "execution_count": 150,
   "id": "9847b4af",
   "metadata": {},
   "outputs": [
    {
     "name": "stdout",
     "output_type": "stream",
     "text": [
      "leap year\n"
     ]
    }
   ],
   "source": [
    "#28) Write a program to check whether an years is leap year or not\n",
    "year=int(input())\n",
    "if year%4==0 or year%100!=0 and year%400==0:\n",
    "    print(\"leap year\")\n",
    "else:\n",
    "    print(\"not\")"
   ]
  },
  {
   "cell_type": "code",
   "execution_count": 151,
   "id": "8c65106d",
   "metadata": {},
   "outputs": [
    {
     "name": "stdout",
     "output_type": "stream",
     "text": [
      "2024 is a leap year\n"
     ]
    }
   ],
   "source": [
    "#29) Write a program to check whether an years is leap year or not without using (or) keyword\n",
    "year = int(input(\"Enter a year: \"))\n",
    "\n",
    "if year % 4 == 0:\n",
    "    if year % 100 == 0:\n",
    "        if year % 400 == 0:\n",
    "            print(year, \"is a leap year\")\n",
    "        else:\n",
    "            print(year, \"is not a leap year\")\n",
    "    else:\n",
    "        print(year, \"is a leap year\")\n",
    "else:\n",
    "    print(year, \"is not a leap year\")\n"
   ]
  },
  {
   "cell_type": "code",
   "execution_count": 152,
   "id": "7fc99660",
   "metadata": {},
   "outputs": [
    {
     "name": "stdout",
     "output_type": "stream",
     "text": [
      "2024 is a leap year\n"
     ]
    }
   ],
   "source": [
    "#30) Write a program to check whether an years is leap year or not , without using (and),(or) keywords\n",
    "year = int(input(\"Enter a year: \"))\n",
    "\n",
    "if year % 4 == 0:\n",
    "    if year % 100 == 0:\n",
    "        if year % 400 == 0:\n",
    "            print(year, \"is a leap year\")\n",
    "        else:\n",
    "            print(year, \"is not a leap year\")\n",
    "    else:\n",
    "        print(year, \"is a leap year\")\n",
    "else:\n",
    "    print(year, \"is not a leap year\")\n"
   ]
  },
  {
   "cell_type": "code",
   "execution_count": 153,
   "id": "dccce9c1",
   "metadata": {},
   "outputs": [
    {
     "name": "stdout",
     "output_type": "stream",
     "text": [
      "The number is a three digit number\n"
     ]
    }
   ],
   "source": [
    "#31)Write a program to check whether a number entered is three digit number or not. \n",
    "num = input(\"Enter a number: \")\n",
    "if num.isdigit() and len(num) == 3:\n",
    "    print(\"The number is a three digit number\")\n",
    "else:\n",
    "    print(\"The number is not a three digit number\")\n"
   ]
  },
  {
   "cell_type": "code",
   "execution_count": 154,
   "id": "f3bfff56",
   "metadata": {},
   "outputs": [
    {
     "name": "stdout",
     "output_type": "stream",
     "text": [
      "You are not a senior citizen.\n"
     ]
    }
   ],
   "source": [
    "#32) Write a program to check whether a person is senior citizen or not.\n",
    "age = int(input(\"Enter your age: \"))\n",
    "if age >= 60:\n",
    "    print(\"You are a senior citizen.\")\n",
    "else:\n",
    "    print(\"You are not a senior citizen.\")\n"
   ]
  },
  {
   "cell_type": "code",
   "execution_count": 156,
   "id": "5a3b78ee",
   "metadata": {},
   "outputs": [
    {
     "name": "stdout",
     "output_type": "stream",
     "text": [
      "10\n"
     ]
    }
   ],
   "source": [
    "# 33)wap which will add(sum) all the elements of list \n",
    "l1=[]\n",
    "for i in range(10):\n",
    "    num=int(input())\n",
    "    l1.append(num)\n",
    "l2=sum(l1)\n",
    "print(l2)\n",
    "\n"
   ]
  },
  {
   "cell_type": "code",
   "execution_count": 157,
   "id": "d3065a26",
   "metadata": {},
   "outputs": [
    {
     "name": "stdout",
     "output_type": "stream",
     "text": [
      "The maximum number in the list is: 10\n"
     ]
    }
   ],
   "source": [
    "# 34)wap to print maximum number without using max function\n",
    "numbers = [5, 8, 2, 10, 3]\n",
    "max_num = numbers[0]\n",
    "\n",
    "for num in numbers:\n",
    "    if num > max_num:\n",
    "        max_num = num\n",
    "\n",
    "print(\"The maximum number in the list is:\", max_num)\n"
   ]
  },
  {
   "cell_type": "code",
   "execution_count": 158,
   "id": "4f0c5422",
   "metadata": {},
   "outputs": [
    {
     "name": "stdout",
     "output_type": "stream",
     "text": [
      "The maximum number in the list is: 2\n"
     ]
    }
   ],
   "source": [
    "# 35)wap to print minmum number without using min function \n",
    "numbers = [5, 8, 2, 10, 3]\n",
    "min_num = numbers[0]\n",
    "\n",
    "for num in numbers:\n",
    "    if num < min_num:\n",
    "        min_num = num\n",
    "\n",
    "print(\"The maximum number in the list is:\", min_num)\n",
    "\n"
   ]
  },
  {
   "cell_type": "code",
   "execution_count": 160,
   "id": "9f37e398",
   "metadata": {},
   "outputs": [
    {
     "name": "stdout",
     "output_type": "stream",
     "text": [
      "[1, 25, 9, 81]\n"
     ]
    }
   ],
   "source": [
    "# 36)wpa to square all the all elements of list note[1,5,3,9],>>[1,25,9,81]\n",
    "l1=[1,5,3,9]\n",
    "l2=map(lambda x:x **2,l1)\n",
    "print(list(l2))\n",
    "\n"
   ]
  },
  {
   "cell_type": "code",
   "execution_count": 162,
   "id": "4d7af594",
   "metadata": {},
   "outputs": [
    {
     "name": "stdout",
     "output_type": "stream",
     "text": [
      "[3, 9]\n"
     ]
    }
   ],
   "source": [
    "# 37)wpa to peint all the elements in list which are divisible by 3 \n",
    "l1=[1,5,3,9]\n",
    "l2=list(filter(lambda x:(x%3==0),l1))\n",
    "print(list(l2))\n"
   ]
  },
  {
   "cell_type": "code",
   "execution_count": 163,
   "id": "5a77beda",
   "metadata": {},
   "outputs": [
    {
     "name": "stdout",
     "output_type": "stream",
     "text": [
      "[500, 103, 159]\n"
     ]
    }
   ],
   "source": [
    "# 38)wpa to print all the elements which are greater then 100\"\"\"\n",
    "l1=[10,500,103,159]\n",
    "l2=list(filter(lambda x:(x>100),l1))\n",
    "print(list(l2))\n"
   ]
  },
  {
   "cell_type": "code",
   "execution_count": 164,
   "id": "0336a2cb",
   "metadata": {},
   "outputs": [
    {
     "name": "stdout",
     "output_type": "stream",
     "text": [
      "[2, 4]\n"
     ]
    }
   ],
   "source": [
    "# 39)\"\"\"wap to find the total length of all string element in a list eg [\"py\",\"thon\"],>>[2,4]\n",
    "\n",
    "my_list = [\"py\", \"thon\"]\n",
    "lengths = [len(elem) for elem in my_list]\n",
    "print(lengths)\n"
   ]
  },
  {
   "cell_type": "code",
   "execution_count": 167,
   "id": "13c5388f",
   "metadata": {},
   "outputs": [
    {
     "name": "stdout",
     "output_type": "stream",
     "text": [
      "name : Dhanesh\n",
      "age : 24\n",
      "gender : Male\n"
     ]
    }
   ],
   "source": [
    "# 40)wap to print all elements in dict\n",
    "my_dict = {\"name\": \"Dhanesh\", \"age\": 24, \"gender\": \"Male\"}\n",
    "\n",
    "# using loop to print all elements in the dictionary\n",
    "for key, value in my_dict.items():\n",
    "    print(key, \":\", value)\n",
    "\n"
   ]
  },
  {
   "cell_type": "code",
   "execution_count": 168,
   "id": "3985eb51",
   "metadata": {},
   "outputs": [
    {
     "name": "stdout",
     "output_type": "stream",
     "text": [
      "[1, 2, 3, 5, 8]\n"
     ]
    }
   ],
   "source": [
    "# 1)take a list and sort it without using sort function\n",
    "my_list = [5, 2, 8, 3, 1]\n",
    "\n",
    "for first_no in range(len(my_list)):\n",
    "    for second_no in range(first_no+1, len(my_list)):\n",
    "        if my_list[first_no] > my_list[second_no]:\n",
    "            my_list[first_no], my_list[second_no] = my_list[second_no], my_list[first_no]\n",
    "\n",
    "print(my_list)\n",
    "\n"
   ]
  },
  {
   "cell_type": "code",
   "execution_count": 169,
   "id": "1e90dbea",
   "metadata": {},
   "outputs": [
    {
     "name": "stdout",
     "output_type": "stream",
     "text": [
      "[8, 5, 3, 2, 1]\n"
     ]
    }
   ],
   "source": [
    "# 2)tak a list and sort it in decending order without using sort function\n",
    "my_list = [5, 2, 8, 3, 1]\n",
    "\n",
    "for first_no in range(len(my_list)):\n",
    "    for second_no in range(first_no+1, len(my_list)):\n",
    "        if my_list[first_no] < my_list[second_no]:\n",
    "            my_list[first_no], my_list[second_no] = my_list[second_no], my_list[first_no]\n",
    "\n",
    "print(my_list)\n",
    "\n"
   ]
  },
  {
   "cell_type": "code",
   "execution_count": 176,
   "id": "58fd74f3",
   "metadata": {},
   "outputs": [
    {
     "name": "stdout",
     "output_type": "stream",
     "text": [
      "50\n"
     ]
    }
   ],
   "source": [
    "# 3)take a list and find the highest element without using max function\n",
    "my_list=[1,5,9,10,20,50]\n",
    "highest=my_list[0]\n",
    "for num in my_list:\n",
    "    if num>highest:\n",
    "        highest=num\n",
    "print(highest)"
   ]
  },
  {
   "cell_type": "code",
   "execution_count": 177,
   "id": "344d82ab",
   "metadata": {},
   "outputs": [
    {
     "name": "stdout",
     "output_type": "stream",
     "text": [
      "The second highest element in the list is: 20\n"
     ]
    }
   ],
   "source": [
    "# 4)take a list and find the second highest element\n",
    "\n",
    "lst = [5, 10, 15, 20, 25]\n",
    "\n",
    "# Find the maximum value in the list\n",
    "max_val = max(lst)\n",
    "\n",
    "# Remove the maximum value from the list\n",
    "lst.remove(max_val)\n",
    "\n",
    "# Find the new maximum value in the list (which will be the second highest)\n",
    "second_max = max(lst)\n",
    "\n",
    "print(\"The second highest element in the list is:\", second_max)\n"
   ]
  },
  {
   "cell_type": "code",
   "execution_count": 178,
   "id": "df71383d",
   "metadata": {},
   "outputs": [
    {
     "name": "stdout",
     "output_type": "stream",
     "text": [
      "1\n"
     ]
    }
   ],
   "source": [
    "# 5)take a list and find the lowest element with using min function function\n",
    "my_list=[5,9,1,10,20,50]\n",
    "lowest=my_list[0]\n",
    "for num in my_list:\n",
    "    if num<lowest:\n",
    "        lowest=num\n",
    "print(lowest)\n"
   ]
  },
  {
   "cell_type": "code",
   "execution_count": 179,
   "id": "90f48444",
   "metadata": {},
   "outputs": [
    {
     "name": "stdout",
     "output_type": "stream",
     "text": [
      "Highest key-value pair:  d 30\n"
     ]
    }
   ],
   "source": [
    "# 6)take a dictionary and print the highest key value pair \n",
    "\n",
    "my_dict = {'a': 10, 'b': 20, 'c': 5, 'd': 30}\n",
    "\n",
    "max_key = max(my_dict, key=lambda x: my_dict[x])\n",
    "print(\"Highest key-value pair: \", max_key, my_dict[max_key])\n"
   ]
  },
  {
   "cell_type": "code",
   "execution_count": 180,
   "id": "5ffdebfa",
   "metadata": {},
   "outputs": [
    {
     "name": "stdout",
     "output_type": "stream",
     "text": [
      "Highest key-value pair:  c 5\n"
     ]
    }
   ],
   "source": [
    "# 7)take a dictionary and print the lowest key value pair\n",
    "my_dict = {'a': 10, 'b': 20, 'c': 5, 'd': 30}\n",
    "\n",
    "min_key = min(my_dict, key=lambda x: my_dict[x])\n",
    "print(\"Highest key-value pair: \", min_key, my_dict[min_key])\n"
   ]
  },
  {
   "cell_type": "code",
   "execution_count": 183,
   "id": "f01d4e0d",
   "metadata": {},
   "outputs": [
    {
     "name": "stdout",
     "output_type": "stream",
     "text": [
      "1\n",
      "2\n",
      "3\n",
      "4\n"
     ]
    }
   ],
   "source": [
    "# 8)create a list like [1,2,3,4] and print the elements without using loop\n",
    "l1=[1,2,3,4]\n",
    "print(*l1,sep=\"\\n\")\n"
   ]
  },
  {
   "cell_type": "code",
   "execution_count": 184,
   "id": "afe56103",
   "metadata": {},
   "outputs": [
    {
     "name": "stdout",
     "output_type": "stream",
     "text": [
      "abcd\n"
     ]
    }
   ],
   "source": [
    "# 9)create a string \"ABCD\" and conert into \"abcd\" without using lower and upper method\n",
    "# create the string\n",
    "string = \"ABCD\"\n",
    "\n",
    "# convert each character to lowercase using ASCII codes\n",
    "lowercase = \"\"\n",
    "for char in string:\n",
    "    # check if character is uppercase\n",
    "    if ord(char) >= 65 and ord(char) <= 90:\n",
    "        # add 32 to convert to lowercase\n",
    "        lowercase += chr(ord(char) + 32)\n",
    "    else:\n",
    "        # leave character as is\n",
    "        lowercase += char\n",
    "\n",
    "# print the lowercase string\n",
    "print(lowercase)\n"
   ]
  },
  {
   "cell_type": "code",
   "execution_count": null,
   "id": "30392671",
   "metadata": {},
   "outputs": [],
   "source": []
  },
  {
   "cell_type": "code",
   "execution_count": null,
   "id": "70d06844",
   "metadata": {},
   "outputs": [],
   "source": []
  }
 ],
 "metadata": {
  "kernelspec": {
   "display_name": "Python 3 (ipykernel)",
   "language": "python",
   "name": "python3"
  },
  "language_info": {
   "codemirror_mode": {
    "name": "ipython",
    "version": 3
   },
   "file_extension": ".py",
   "mimetype": "text/x-python",
   "name": "python",
   "nbconvert_exporter": "python",
   "pygments_lexer": "ipython3",
   "version": "3.11.3"
  }
 },
 "nbformat": 4,
 "nbformat_minor": 5
}
