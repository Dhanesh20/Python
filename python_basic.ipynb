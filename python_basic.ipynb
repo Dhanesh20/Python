{
 "cells": [
  {
   "cell_type": "code",
   "execution_count": 2,
   "metadata": {},
   "outputs": [
    {
     "name": "stdout",
     "output_type": "stream",
     "text": [
      "1\n"
     ]
    }
   ],
   "source": [
    "n=1\n",
    "print (n)"
   ]
  },
  {
   "cell_type": "code",
   "execution_count": 1,
   "metadata": {},
   "outputs": [
    {
     "name": "stdout",
     "output_type": "stream",
     "text": [
      "10 9 8 7 6 5 4 3 2 1 "
     ]
    }
   ],
   "source": [
    "n=10\n",
    "while n>0:\n",
    "    print(n,end=\" \")\n",
    "    n-=1\n",
    "    "
   ]
  },
  {
   "cell_type": "code",
   "execution_count": 9,
   "metadata": {},
   "outputs": [
    {
     "name": "stdout",
     "output_type": "stream",
     "text": [
      "Number from 10 to 1:\n",
      "10 9 8 7 6 5 4 3 2 1 "
     ]
    }
   ],
   "source": [
    "# clean code \n",
    "# Print 10 to 1 using while loop\n",
    "\n",
    "num = 10\n",
    "print(\"Number from 10 to 1:\")\n",
    "while(num>=1):\n",
    "    print(num,end=\" \")\n",
    "    num=num-1"
   ]
  },
  {
   "cell_type": "code",
   "execution_count": 19,
   "metadata": {},
   "outputs": [
    {
     "name": "stdout",
     "output_type": "stream",
     "text": [
      "2 4 6 8 10 12 14 16 18 20 22 24 26 28 30 32 34 36 38 40 42 44 46 48 50 52 54 56 58 60 62 64 66 68 70 72 74 76 78 80 82 84 86 88 90 92 94 96 98 100 "
     ]
    }
   ],
   "source": [
    "max=100\n",
    "n=1\n",
    "while n<=max:\n",
    "    if (n%2==0):\n",
    "        print(n,end=\" \")\n",
    "    n+=1 \n"
   ]
  },
  {
   "cell_type": "code",
   "execution_count": 2,
   "metadata": {},
   "outputs": [
    {
     "name": "stdout",
     "output_type": "stream",
     "text": [
      "1 3 5 7 9 11 13 15 17 19 21 23 25 27 29 31 33 35 37 39 41 43 45 47 49 51 53 55 57 59 61 63 65 67 69 71 73 75 77 79 81 83 85 87 89 91 93 95 97 99 "
     ]
    }
   ],
   "source": [
    "max=100\n",
    "n=1\n",
    "while n<=max:\n",
    "    if (n%2!=0):\n",
    "        print(n,end=\" \")\n",
    "    n+=1 \n"
   ]
  },
  {
   "cell_type": "code",
   "execution_count": 3,
   "metadata": {},
   "outputs": [
    {
     "name": "stdout",
     "output_type": "stream",
     "text": [
      "prime no\n"
     ]
    }
   ],
   "source": [
    "# To check whether number is prime\n",
    "n=int(input())\n",
    "i=n\n",
    "count=0\n",
    "while n>0:\n",
    "    if(i%n==0):\n",
    "        count+=1\n",
    "    n-=1\n",
    "    \n",
    "if (count==2):\n",
    "    print(\"prime no\")\n",
    "else:\n",
    "    print(\"not prime\")"
   ]
  },
  {
   "cell_type": "code",
   "execution_count": 4,
   "metadata": {},
   "outputs": [
    {
     "name": "stdout",
     "output_type": "stream",
     "text": [
      "5 It's a prime number\n"
     ]
    }
   ],
   "source": [
    "# To check whether number is prime\n",
    "n=int(input())\n",
    "c=0\n",
    "for i in range(2,n):\n",
    "    if n%i==0:\n",
    "        c=c+1\n",
    "if c==0:\n",
    "    print(n,\"It's a prime number\")\n",
    "else:\n",
    "    print(n,\"not prime\")"
   ]
  },
  {
   "cell_type": "code",
   "execution_count": 7,
   "metadata": {},
   "outputs": [
    {
     "name": "stdout",
     "output_type": "stream",
     "text": [
      "6\n"
     ]
    }
   ],
   "source": [
    "# Factorial while loop\n",
    "f=1\n",
    "i=1\n",
    "n=int(input())\n",
    "while (i<=n):\n",
    "    f=f*i\n",
    "    i+=1\n",
    "print(f)\n"
   ]
  },
  {
   "cell_type": "code",
   "execution_count": 2,
   "metadata": {},
   "outputs": [
    {
     "name": "stdout",
     "output_type": "stream",
     "text": [
      "362880\n"
     ]
    }
   ],
   "source": [
    "# factorial for-loop\n",
    "f=1\n",
    "n=int(input())\n",
    "for i in range(1,n+1):\n",
    "    f=f*i\n",
    "print(f)"
   ]
  },
  {
   "cell_type": "code",
   "execution_count": 2,
   "metadata": {},
   "outputs": [
    {
     "name": "stdout",
     "output_type": "stream",
     "text": [
      "[1, 3, 5, 19, 29]\n"
     ]
    }
   ],
   "source": [
    "# to check number is prime from list\n",
    "x=[1,3,5,10,20,19,29]\n",
    "list1=[]\n",
    "\n",
    "for i in x:\n",
    "    c=0\n",
    "    for j in range(2,i):\n",
    "        if (i%j==0):\n",
    "            c=c+1    \n",
    "    if c==0:\n",
    "        list1.append(i)\n",
    "print(list1)\n",
    "\n",
    "\n",
    "        "
   ]
  },
  {
   "cell_type": "code",
   "execution_count": 12,
   "metadata": {},
   "outputs": [
    {
     "name": "stdout",
     "output_type": "stream",
     "text": [
      "the value of 5 + 6 = 11\n",
      "the value of 5 - 6 = -1\n",
      "the value of 5 * 6 = 30\n",
      "the value of 5 / 6 = 0.8333333333333334\n"
     ]
    }
   ],
   "source": [
    "# simple calculator\n",
    "a=int(input())\n",
    "b=int(input())\n",
    "print(\"the value of {} + {} =\".format(a,b),a+b)\n",
    "print(\"the value of {} - {} =\".format(a,b),a-b)\n",
    "print(\"the value of {} * {} =\".format(a,b),a*b)\n",
    "print(\"the value of {} / {} =\".format(a,b),a/b)"
   ]
  },
  {
   "cell_type": "code",
   "execution_count": 8,
   "metadata": {},
   "outputs": [
    {
     "name": "stdout",
     "output_type": "stream",
     "text": [
      "Good Afternoon sir\n"
     ]
    }
   ],
   "source": [
    "import time\n",
    "timestamp= time.strftime('%H:%M:%S')\n",
    "t=int(time.strftime('%H'))\n",
    "if t >= 12 :\n",
    "    print(\"Good Afternoon sir\")\n",
    "elif 17>t :\n",
    "    print(\"Good Evening sir\")\n",
    "elif 21>17>t:\n",
    "    print(\"Good Night Sir\")\n",
    "else: \n",
    "    print(\"Good Morning Sir\")"
   ]
  },
  {
   "cell_type": "code",
   "execution_count": 33,
   "metadata": {},
   "outputs": [
    {
     "name": "stdout",
     "output_type": "stream",
     "text": [
      "[1, 5, 4, 6]\n",
      "16\n"
     ]
    }
   ],
   "source": [
    "# print sum of int numbers\n",
    "num = int(input())\n",
    "digits = [int(d) for d in str(num)] #----> This converts int to list and int(d) is a variable to put in for loop\n",
    "print(digits)\n",
    "num_sum=sum(digits)\n",
    "print(num_sum)\n"
   ]
  },
  {
   "cell_type": "code",
   "execution_count": 35,
   "metadata": {},
   "outputs": [
    {
     "name": "stdout",
     "output_type": "stream",
     "text": [
      "[7, 4, 6, 5, 1]\n",
      "23\n"
     ]
    }
   ],
   "source": [
    "# print sum of int numbers\n",
    "num = int(input())\n",
    "digits = []\n",
    "\n",
    "while num > 0:\n",
    "    digit = num % 10\n",
    "    digits.append(digit)\n",
    "    num //= 10\n",
    "\n",
    "digits.reverse()\n",
    "\n",
    "num_sum = 0\n",
    "for digit in digits:\n",
    "    num_sum += digit\n",
    "\n",
    "print(digits)\n",
    "print(num_sum)\n"
   ]
  },
  {
   "cell_type": "code",
   "execution_count": 1,
   "metadata": {},
   "outputs": [
    {
     "name": "stdout",
     "output_type": "stream",
     "text": [
      "5 x 1 = 5\n",
      "5 x 2 = 10\n",
      "5 x 3 = 15\n",
      "5 x 4 = 20\n",
      "5 x 5 = 25\n",
      "5 x 6 = 30\n",
      "5 x 7 = 35\n",
      "5 x 8 = 40\n",
      "5 x 9 = 45\n",
      "5 x 10 = 50\n"
     ]
    }
   ],
   "source": [
    "# tables multiplication\n",
    "n=int(input())\n",
    "c=1\n",
    "while c<=10:\n",
    "    i=n*c\n",
    "    print(\"{} x {} = {}\".format(n,c,i))\n",
    "    c+=1"
   ]
  },
  {
   "cell_type": "code",
   "execution_count": 1,
   "metadata": {},
   "outputs": [
    {
     "name": "stdout",
     "output_type": "stream",
     "text": [
      "987654321\n"
     ]
    }
   ],
   "source": [
    "n=\"123456789\"\n",
    "print(n[::-1])"
   ]
  },
  {
   "cell_type": "code",
   "execution_count": 2,
   "metadata": {},
   "outputs": [
    {
     "name": "stdout",
     "output_type": "stream",
     "text": [
      "Numbers from, 1 to 10\n",
      "1 2 3 4 5 6 7 8 9 10 "
     ]
    }
   ],
   "source": [
    "#To print 1 to 10 number\n",
    "#for loop\n",
    "print(\"Numbers from, 1 to 10\")\n",
    "for n in range(1,11):\n",
    "    print(n,end=\" \")\n"
   ]
  },
  {
   "cell_type": "code",
   "execution_count": 3,
   "metadata": {},
   "outputs": [
    {
     "name": "stdout",
     "output_type": "stream",
     "text": [
      "Number from 1 to 10\n",
      "1 2 3 4 5 6 7 8 9 10 "
     ]
    }
   ],
   "source": [
    "n=1\n",
    "print(\"Number from 1 to 10\")\n",
    "while n<=10:\n",
    "    print(n,end=\" \")\n",
    "    n+=1"
   ]
  },
  {
   "cell_type": "code",
   "execution_count": 4,
   "metadata": {},
   "outputs": [
    {
     "name": "stdout",
     "output_type": "stream",
     "text": [
      "94587\n"
     ]
    }
   ],
   "source": [
    "#To print reverse number\n",
    "n=int(input(\"Enter the number:\"))\n",
    "rev=0\n",
    "while n!=0:\n",
    "    rem=n%10\n",
    "    rev=rev*10+rem\n",
    "    n=n//10\n",
    "\n",
    "print(rev)"
   ]
  },
  {
   "cell_type": "code",
   "execution_count": 5,
   "metadata": {},
   "outputs": [
    {
     "name": "stdout",
     "output_type": "stream",
     "text": [
      "Number from 1 to 10\n",
      "10 9 8 7 6 5 4 3 2 1 "
     ]
    }
   ],
   "source": [
    "n=10\n",
    "print(\"Number from 1 to 10\")\n",
    "while n>=1:\n",
    "    print(n,end=\" \")\n",
    "    n-=1"
   ]
  },
  {
   "cell_type": "code",
   "execution_count": 6,
   "metadata": {},
   "outputs": [
    {
     "name": "stdout",
     "output_type": "stream",
     "text": [
      "Is not palindrome\n"
     ]
    }
   ],
   "source": [
    "n=int(input(\"Enter the number:\"))\n",
    "n1=n\n",
    "rev=0\n",
    "while n!=0:\n",
    "    rem=n%10\n",
    "    rev=rev*10+rem\n",
    "    n=n//10\n",
    "if n1==rev:\n",
    "    print(\"the given no. {} is palindrome\".format(rev))\n",
    "else:\n",
    "    print(\"Is not palindrome\")"
   ]
  },
  {
   "cell_type": "code",
   "execution_count": 7,
   "metadata": {},
   "outputs": [
    {
     "name": "stdout",
     "output_type": "stream",
     "text": [
      "gdfsd\n"
     ]
    }
   ],
   "source": [
    "str = input(\"Enter a word:\")\n",
    "for i in range(len(str)-1,-1,-1):\n",
    "    print(str[i],end=\"\")\n",
    "print()"
   ]
  },
  {
   "cell_type": "code",
   "execution_count": 8,
   "metadata": {},
   "outputs": [
    {
     "name": "stdout",
     "output_type": "stream",
     "text": [
      "[4, 9, 16, 25, 36]\n"
     ]
    }
   ],
   "source": [
    "\n",
    "x=[2,3,4,5,6]\n",
    "z=[]\n",
    "for i in x:\n",
    "    x=(i*i)\n",
    "    z.append(x)\n",
    "    \n",
    "print(z)\n",
    "\n",
    "    "
   ]
  },
  {
   "cell_type": "code",
   "execution_count": 9,
   "metadata": {},
   "outputs": [
    {
     "name": "stdout",
     "output_type": "stream",
     "text": [
      "Result: [4, 9, 16, 25, 36]\n"
     ]
    }
   ],
   "source": [
    "x=[2,3,4,5,6]\n",
    "z=[]\n",
    "# for i in x:\n",
    "for i in range(len(x)):\n",
    "    z.append(x[i]**2)\n",
    "print(\"Result:\",z)"
   ]
  },
  {
   "cell_type": "code",
   "execution_count": 10,
   "metadata": {},
   "outputs": [
    {
     "name": "stdout",
     "output_type": "stream",
     "text": [
      "5 x 1 = 5\n",
      "5 x 2 = 10\n",
      "5 x 3 = 15\n",
      "5 x 4 = 20\n",
      "5 x 5 = 25\n",
      "5 x 6 = 30\n",
      "5 x 7 = 35\n",
      "5 x 8 = 40\n",
      "5 x 9 = 45\n",
      "5 x 10 = 50\n"
     ]
    }
   ],
   "source": [
    "# tables multiplication\n",
    "n=int(input())\n",
    "c=1\n",
    "d=int(input())\n",
    "while c<=d:\n",
    "    i=n*c\n",
    "    print(\"{} x {} = {}\".format(n,c,i))\n",
    "    c+=1"
   ]
  },
  {
   "cell_type": "code",
   "execution_count": 1,
   "metadata": {},
   "outputs": [
    {
     "name": "stdout",
     "output_type": "stream",
     "text": [
      "[1, 5, 3, 2, 6]\n",
      "17\n"
     ]
    }
   ],
   "source": [
    "# print sum of int numbers\n",
    "num = int(input())\n",
    "digits = [int(d) for d in str(num)] #----> This converts int to list and int(d) is a variable to put in for loop\n",
    "print(digits)\n",
    "num_sum=sum(digits)\n",
    "print(num_sum)\n"
   ]
  },
  {
   "cell_type": "code",
   "execution_count": 2,
   "metadata": {},
   "outputs": [
    {
     "name": "stdout",
     "output_type": "stream",
     "text": [
      "Sum of digits is 36\n"
     ]
    }
   ],
   "source": [
    "#Sum of digits using for loop\n",
    "num=int(input(\"Enter Number:\"))\n",
    "sum=0\n",
    "for i in str(num):\n",
    "    sum=sum+int(i)\n",
    "print(\"Sum of digits is\",sum)"
   ]
  },
  {
   "cell_type": "code",
   "execution_count": 3,
   "metadata": {},
   "outputs": [
    {
     "name": "stdout",
     "output_type": "stream",
     "text": [
      "8 * 5 = 40\n",
      "9 * 5 = 45\n"
     ]
    }
   ],
   "source": [
    "n=int(input(\"Enter Number:\"))\n",
    "start=int(input(\"Enter starting number:\"))\n",
    "end=int(input(\"Enter ending number:\"))\n",
    "\n",
    "while(start<=end):\n",
    "    print(start,\"*\",n,\"=\",start*n)\n",
    "    start=start+1"
   ]
  },
  {
   "cell_type": "code",
   "execution_count": 4,
   "metadata": {},
   "outputs": [
    {
     "name": "stdout",
     "output_type": "stream",
     "text": [
      "362880\n"
     ]
    }
   ],
   "source": [
    "f=1\n",
    "n=int(input())\n",
    "if n<0:\n",
    "    print(\"Please enter positive number\")\n",
    "elif n==0:\n",
    "    print(\"Factorial is {}\".format(f))\n",
    "else:\n",
    "    for i in range(1,n+1):\n",
    "        f=f*i\n",
    "    print(f)"
   ]
  },
  {
   "cell_type": "code",
   "execution_count": 5,
   "metadata": {},
   "outputs": [
    {
     "name": "stdout",
     "output_type": "stream",
     "text": [
      "* \n",
      "* * \n",
      "* * * \n",
      "* * * * \n",
      "* * * * * \n"
     ]
    }
   ],
   "source": [
    "n=int(input())\n",
    "for row in range(1,n+1):\n",
    "    for col in range(1,row+1):\n",
    "        print(\"*\",end=\" \")\n",
    "    print()\n",
    "    "
   ]
  },
  {
   "cell_type": "code",
   "execution_count": 6,
   "metadata": {},
   "outputs": [
    {
     "name": "stdout",
     "output_type": "stream",
     "text": [
      "1 \n",
      "2 2 \n",
      "3 3 3 \n",
      "4 4 4 4 \n",
      "5 5 5 5 5 \n"
     ]
    }
   ],
   "source": [
    "n=int(input())\n",
    "for row in range(1,n+1):\n",
    "    for col in range(1,row+1):\n",
    "        print(row,end=\" \")\n",
    "    print()\n",
    "        "
   ]
  },
  {
   "cell_type": "code",
   "execution_count": 7,
   "metadata": {},
   "outputs": [
    {
     "name": "stdout",
     "output_type": "stream",
     "text": [
      "1 \n",
      "1 2 \n",
      "1 2 3 \n",
      "1 2 3 4 \n",
      "1 2 3 4 5 \n"
     ]
    }
   ],
   "source": [
    "n=int(input())\n",
    "for row in range(1,n+1):\n",
    "    for col in range(1,row+1):\n",
    "        print(col,end=\" \")\n",
    "    print()\n",
    "        "
   ]
  },
  {
   "cell_type": "code",
   "execution_count": 22,
   "metadata": {},
   "outputs": [
    {
     "name": "stdout",
     "output_type": "stream",
     "text": [
      "* * * * * \n",
      "* * * * \n",
      "* * * \n",
      "* * \n",
      "* \n"
     ]
    }
   ],
   "source": [
    "n=int(input())\n",
    "for row in range(0,n):\n",
    "    for col in range(0,n-row):\n",
    "        print(\"*\",end=\" \")\n",
    "    print()\n",
    "    "
   ]
  },
  {
   "cell_type": "code",
   "execution_count": 17,
   "metadata": {},
   "outputs": [
    {
     "name": "stdout",
     "output_type": "stream",
     "text": [
      "        * \n",
      "      * * \n",
      "    * * * \n",
      "  * * * * \n",
      "* * * * * \n"
     ]
    }
   ],
   "source": [
    "\n",
    "n=int(input())\n",
    "for row in range(n):\n",
    "    for space in range(n-row-1):\n",
    "        print(\" \",end=\" \")\n",
    "\n",
    "    for col in range(row+1):\n",
    "        print(\"*\",end=\" \")\n",
    "    print()\n",
    "    "
   ]
  },
  {
   "cell_type": "code",
   "execution_count": 45,
   "metadata": {},
   "outputs": [
    {
     "name": "stdout",
     "output_type": "stream",
     "text": [
      "              * \n",
      "             * * \n",
      "            * * * \n",
      "           * * * * \n",
      "          * * * * * \n",
      "         * * * * * * \n",
      "        * * * * * * * \n",
      "       * * * * * * * * \n",
      "      * * * * * * * * * \n",
      "     * * * * * * * * * * \n",
      "    * * * * * * * * * * * \n",
      "   * * * * * * * * * * * * \n",
      "  * * * * * * * * * * * * * \n",
      " * * * * * * * * * * * * * * \n",
      "* * * * * * * * * * * * * * * \n"
     ]
    }
   ],
   "source": [
    "n=int(input())\n",
    "for row in range(n):\n",
    "    for space in range(n-row-1):\n",
    "        print(\" \",end=\"\")\n",
    "\n",
    "    for col in range(row+1):\n",
    "        print(\"*\",end=\" \")\n",
    "    print()"
   ]
  },
  {
   "cell_type": "code",
   "execution_count": 44,
   "metadata": {},
   "outputs": [
    {
     "name": "stdout",
     "output_type": "stream",
     "text": [
      "* * * * * \n",
      "  * * * * \n",
      "    * * * \n",
      "      * * \n",
      "        * \n"
     ]
    }
   ],
   "source": [
    "n=int(input())\n",
    "for row in range(n):\n",
    "    for space in range(0,row):\n",
    "        print(\" \",end=\" \")\n",
    "\n",
    "    for col in range(n-row):\n",
    "        print(\"*\",end=\" \")\n",
    "    print()"
   ]
  },
  {
   "cell_type": "code",
   "execution_count": 49,
   "metadata": {},
   "outputs": [
    {
     "name": "stdout",
     "output_type": "stream",
     "text": [
      "\n",
      "* \n",
      "* * \n",
      "* * * \n",
      "* * * * \n",
      "* * * * * \n",
      "* * * * \n",
      "* * * \n",
      "* * \n",
      "* \n"
     ]
    }
   ],
   "source": [
    "n=int(input())\n",
    "#upper triangle\n",
    "for row in range(0,n):\n",
    "    for col in range(0,row):\n",
    "        print(\"*\",end=\" \")\n",
    "    print()\n",
    "#lower triangle\n",
    "for row in range(0,n):\n",
    "    for col in range(0,n-row):\n",
    "        print(\"*\",end=\" \")\n",
    "    print()\n",
    "    "
   ]
  },
  {
   "cell_type": "code",
   "execution_count": null,
   "metadata": {},
   "outputs": [],
   "source": []
  }
 ],
 "metadata": {
  "kernelspec": {
   "display_name": "Python 3",
   "language": "python",
   "name": "python3"
  },
  "language_info": {
   "codemirror_mode": {
    "name": "ipython",
    "version": 3
   },
   "file_extension": ".py",
   "mimetype": "text/x-python",
   "name": "python",
   "nbconvert_exporter": "python",
   "pygments_lexer": "ipython3",
   "version": "3.10.1"
  },
  "orig_nbformat": 4
 },
 "nbformat": 4,
 "nbformat_minor": 2
}
