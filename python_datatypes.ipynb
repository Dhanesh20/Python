{
 "cells": [
  {
   "attachments": {},
   "cell_type": "markdown",
   "metadata": {},
   "source": [
    "### Python's Start\n",
    "Python is a high-level, interpreted programming language that was first released in 1991 by Guido van Rossum. It has a simple and easy-to-learn syntax, making it popular among beginners and professionals alike."
   ]
  },
  {
   "attachments": {},
   "cell_type": "markdown",
   "metadata": {},
   "source": [
    "### Python's Advantages and Disadvantages\n",
    "\n",
    "**Python has several advantages, including:**\n",
    "\n",
    "1. Easy to Learn: Python has a simple and easy-to-learn syntax, making it an ideal choice for beginners.\n",
    "\n",
    "2. Large Community: Python has a large and supportive community, with many resources available online, including documentation, tutorials, and forums.\n",
    "\n",
    "3. Versatile: Python is a versatile language that can be used for a wide range of applications, including web development, data analysis, machine learning, and scientific computing.\n",
    "\n",
    "4. High-Level Language: Python is a high-level language, which means that it abstracts away many of the low-level details, making it easier and faster to write code.\n",
    "\n",
    "5. Cross-Platform: Python can run on multiple platforms, including Windows, macOS, and Linux.\n",
    "\n",
    "**However, Python also has some disadvantages, including:**\n",
    "\n",
    "1. Slow Speed: Python is an interpreted language and can be slower than compiled languages such as C and C++.\n",
    "\n",
    "2. Global Interpreter Lock (GIL): The GIL is a mechanism in Python that limits the ability to execute multiple threads simultaneously, which can affect performance.\n",
    "\n",
    "3. Memory Consumption: Python can be memory-intensive, especially when working with large datasets.\n",
    "\n",
    "4. Not Ideal for Mobile Applications: Python is not well-suited for developing mobile applications, as it can be slower and less efficient than other languages, such as Java or Swift.\n",
    "\n",
    "5. Weak in Mobile and Game Development: Python is not the first choice for developing games or mobile applications, as it lacks some of the low-level capabilities needed for these types of applications."
   ]
  },
  {
   "attachments": {},
   "cell_type": "markdown",
   "metadata": {},
   "source": [
    "### What is Python used for\n",
    "1. Python is used in Data Visualization to create plots and graphical representations.\n",
    "\n",
    "2. Python helps in Data Analytics to analyze and understand raw data for insights and trends.\n",
    "\n",
    "3. It is used in AI and Machine Learning to simulate human behavior and to learn from past data without hard coding.\n",
    "\n",
    "4. It is used to create web applications.\n",
    "\n",
    "5. It can be used to handle databases.\n",
    "\n",
    "6. It is used in business and accounting to perform complex mathematical operations along with quantitative and qualitative analysis."
   ]
  },
  {
   "attachments": {},
   "cell_type": "markdown",
   "metadata": {},
   "source": [
    "### Let's Start\n",
    "**What is a variable?**\n",
    "**Variable is like a container that holds data. Very similar to how our containers in kitchen holds sugar, salt etc Creating a variable is like creating a placeholder in memory and assigning it some value. In Python its as easy as writing:**"
   ]
  },
  {
   "cell_type": "code",
   "execution_count": 3,
   "metadata": {},
   "outputs": [],
   "source": [
    "a = 1\n",
    "b = True\n",
    "c = \"Harry\"\n",
    "d = None\n",
    "\n",
    "# These are four variables of different data types. "
   ]
  },
  {
   "attachments": {},
   "cell_type": "markdown",
   "metadata": {},
   "source": [
    "**What is a Data Type?**\n",
    "\n",
    "**Data type specifies the type of value a variable holds. This is required in programming to do various operations without causing an error.**\n",
    "**In python, we can print the type of any operator using type function:**\n",
    "\n"
   ]
  },
  {
   "attachments": {},
   "cell_type": "markdown",
   "metadata": {},
   "source": [
    "**What is print statement?**\n",
    "\n",
    "**The print() function prints the specified message to the screen, or other standard output device.The message can be a string, or any other object, the object will be converted into a string before written to the screen.**"
   ]
  },
  {
   "cell_type": "code",
   "execution_count": 4,
   "metadata": {},
   "outputs": [
    {
     "name": "stdout",
     "output_type": "stream",
     "text": [
      "<class 'int'>\n",
      "<class 'str'>\n"
     ]
    }
   ],
   "source": [
    "a = 1\n",
    "print(type(a))\n",
    "b = \"1\"\n",
    "print(type(b))\n",
    "\n",
    "# By default, python provides the following built-in data types:"
   ]
  },
  {
   "attachments": {},
   "cell_type": "markdown",
   "metadata": {},
   "source": [
    "1. Numeric data: int, float, complex\n",
    "    \n",
    "    int: 3, -8, 0\n",
    "    \n",
    "    float: 7.349, -9.0, 0.0000001\n",
    "    \n",
    "    complex: 6 + 2i\n",
    "2. Text data: str\n",
    "    \n",
    "    str: \"Hello World!!!\", \"Python Programming\"\n",
    "\n",
    "3. Boolean data:\n",
    "    \n",
    "    Boolean data consists of values True or False.\n",
    "\n",
    "4. None type: None is a special keyword that represents an object of the NoneType. It is used to indicate the absence of a value or the null value.\n",
    "\n",
    "    None is often used to represent missing or optional data, default values, or to initialize variables before assigning them a value. For example, if a function does not return a value, it may return None to indicate that no value was returned.  \n"
   ]
  },
  {
   "attachments": {},
   "cell_type": "markdown",
   "metadata": {},
   "source": [
    "### Operators\n",
    "\n",
    "Python has different types of operators for different operations. To create a calculator we require arithmetic operators.\n",
    "\n",
    "\n",
    "|Operator|\tOperator Name|\tExample\n",
    "|--------|----------------|-------|\n",
    "|+\t|Addition|\t15+7|\n",
    "|-\t|Subtraction|\t15-7|\n",
    "| (* ) |Multiplication|\t5*7|\n",
    "| (* *) |Exponential|\t5**3|\n",
    "|/\t|Division|\t5/3|\n",
    "|%\t|Modulus|\t15%7|\n",
    "|//\t|Floor Division|\t15//7|"
   ]
  },
  {
   "cell_type": "code",
   "execution_count": 5,
   "metadata": {},
   "outputs": [
    {
     "name": "stdout",
     "output_type": "stream",
     "text": [
      "Addition of 15 and 7 is 22\n",
      "Subtraction of 15 and 7 is 8\n",
      "Multiplication of 15 and 7 is 105\n",
      "Division of 15 and 7 is 2.142857142857143\n",
      "Modulus of 15 and 7 is 1\n",
      "Floor Division of 15 and 7 is 2\n"
     ]
    }
   ],
   "source": [
    "n = 15\n",
    "m = 7\n",
    "ans1 = n+m\n",
    "print(\"Addition of\",n,\"and\",m,\"is\", ans1)\n",
    "ans2 = n-m\n",
    "print(\"Subtraction of\",n,\"and\",m,\"is\", ans2)\n",
    "ans3 = n*m\n",
    "print(\"Multiplication of\",n,\"and\",m,\"is\", ans3)\n",
    "ans4 = n/m\n",
    "print(\"Division of\",n,\"and\",m,\"is\", ans4)\n",
    "ans5 = n%m\n",
    "print(\"Modulus of\",n,\"and\",m,\"is\", ans5)\n",
    "ans6 = n//m\n",
    "print(\"Floor Division of\",n,\"and\",m,\"is\", ans6)"
   ]
  },
  {
   "attachments": {},
   "cell_type": "markdown",
   "metadata": {},
   "source": [
    "### Typecasting in python\n",
    "**The conversion of one data type into the other data type is known as type casting in python or type conversion in python.**\n",
    "\n",
    "**Python supports a wide variety of functions or methods like: int(), float(), str(), ord(), hex(), oct(), tuple(), set(), list(), dict(), etc. for the type casting in python.**\n",
    "\n",
    "#### Two Types of Typecasting:\n",
    "1. Explicit Conversion (Explicit type casting in python)\n",
    "2. Implicit Conversion (Implicit type casting in python).\n",
    "\n",
    "**Explicit typecasting:**\n",
    "The conversion of one data type into another data type, done via developer or programmer's intervention or manually as per the requirement, is known as explicit type conversion.\n",
    "\n",
    "It can be achieved with the help of Python’s built-in type conversion functions such as int(), float(), hex(), oct(), str(), etc ."
   ]
  },
  {
   "cell_type": "code",
   "execution_count": 6,
   "metadata": {},
   "outputs": [
    {
     "name": "stdout",
     "output_type": "stream",
     "text": [
      "The Sum of both the numbers is:  22\n"
     ]
    }
   ],
   "source": [
    "string = \"15\"\n",
    "number = 7\n",
    "string_number = int(string) #throws an error if the string is not a valid integer\n",
    "sum= number + string_number\n",
    "print(\"The Sum of both the numbers is: \", sum)"
   ]
  },
  {
   "attachments": {},
   "cell_type": "markdown",
   "metadata": {},
   "source": [
    "**Implicit type casting:**\n",
    "\n",
    "Data types in Python do not have the same level i.e. ordering of data types is not the same in Python. Some of the data types have higher-order, and some have lower order. While performing any operations on variables with different data types in Python, one of the variable's data types will be changed to the higher data type. According to the level, one data type is converted into other by the Python interpreter itself (automatically). This is called, implicit typecasting in python.\n",
    "\n",
    "Python converts a smaller data type to a higher data type to prevent data loss.\n",
    "\n"
   ]
  },
  {
   "cell_type": "code",
   "execution_count": 7,
   "metadata": {},
   "outputs": [
    {
     "name": "stdout",
     "output_type": "stream",
     "text": [
      "<class 'int'>\n",
      "<class 'float'>\n",
      "10.0\n",
      "<class 'float'>\n"
     ]
    }
   ],
   "source": [
    "# Python automatically converts\n",
    "# a to int\n",
    "a = 7\n",
    "print(type(a))\n",
    " \n",
    "# Python automatically converts b to float\n",
    "b = 3.0\n",
    "print(type(b))\n",
    " \n",
    "# Python automatically converts c to float as it is a float addition\n",
    "c = a + b\n",
    "print(c)\n",
    "print(type(c))"
   ]
  },
  {
   "attachments": {},
   "cell_type": "markdown",
   "metadata": {},
   "source": [
    "### Strings\n",
    "\n",
    "In Python, a string is a sequence of characters enclosed in quotation marks, either single quotes (') or double quotes (\"). Strings are a fundamental data type in Python and are used to represent text data.\n",
    "\n",
    "Here are a few examples of how strings can be defined in Python:"
   ]
  },
  {
   "cell_type": "code",
   "execution_count": 8,
   "metadata": {},
   "outputs": [
    {
     "name": "stdout",
     "output_type": "stream",
     "text": [
      "Hello, World!\n",
      "This is a string using single quotes\n",
      "This is a multiline string\n",
      "that spans multiple lines\n"
     ]
    }
   ],
   "source": [
    "my_string = \"Hello, World!\"  # Define a string using double quotes\n",
    "\n",
    "another_string = 'This is a string using single quotes'  # Define a string using single quotes\n",
    "\n",
    "multiline_string = \"\"\"This is a multiline string\n",
    "that spans multiple lines\"\"\"  # Define a multiline string using triple quotes\n",
    "\n",
    "print(my_string,another_string,multiline_string,sep=\"\\n\")"
   ]
  },
  {
   "attachments": {},
   "cell_type": "markdown",
   "metadata": {},
   "source": [
    "**Strings can be concatenated using the + operator or repeated using the * operator:**"
   ]
  },
  {
   "cell_type": "code",
   "execution_count": 9,
   "metadata": {},
   "outputs": [
    {
     "name": "stdout",
     "output_type": "stream",
     "text": [
      "Dhanesh Kajrolkar\n",
      "HEYHEYHEY\n"
     ]
    }
   ],
   "source": [
    "first_name = \"Dhanesh\"\n",
    "last_name = \"Kajrolkar\"\n",
    "full_name = first_name + \" \" + last_name  # Concatenate two strings\n",
    "print(full_name)  \n",
    "\n",
    "text = \"HEY\" * 3\n",
    "print(text)  \n"
   ]
  },
  {
   "attachments": {},
   "cell_type": "markdown",
   "metadata": {},
   "source": [
    "**Strings are immutable in Python, which means that once a string is defined, its contents cannot be changed. However, you can create a new string by manipulating the original string using various methods such as slicing, concatenation, or formatting.**"
   ]
  },
  {
   "attachments": {},
   "cell_type": "markdown",
   "metadata": {},
   "source": [
    "Python provides a wide range of built-in string methods that can be used to manipulate and format strings. Here are some of the most commonly used string methods in Python:\n",
    "\n",
    "str.lower() and str.upper(): These methods return a new string with all characters in lowercase or uppercase, respectively."
   ]
  },
  {
   "cell_type": "code",
   "execution_count": 10,
   "metadata": {},
   "outputs": [
    {
     "name": "stdout",
     "output_type": "stream",
     "text": [
      "hello, world!\n",
      "HELLO, WORLD!\n"
     ]
    }
   ],
   "source": [
    "text = \"Hello, World!\"\n",
    "print(text.lower())  \n",
    "print(text.upper()) \n"
   ]
  },
  {
   "attachments": {},
   "cell_type": "markdown",
   "metadata": {},
   "source": [
    "str.split(): This method splits a string into a list of substrings based on a specified delimiter."
   ]
  },
  {
   "cell_type": "code",
   "execution_count": 11,
   "metadata": {},
   "outputs": [
    {
     "name": "stdout",
     "output_type": "stream",
     "text": [
      "['apple', 'banana', 'cherry']\n"
     ]
    }
   ],
   "source": [
    "text = \"apple, banana, cherry\"\n",
    "fruits = text.split(\", \")\n",
    "print(fruits) \n"
   ]
  },
  {
   "attachments": {},
   "cell_type": "markdown",
   "metadata": {},
   "source": [
    "str.replace(): This method replaces a specified substring with another substring in a string."
   ]
  },
  {
   "cell_type": "code",
   "execution_count": 12,
   "metadata": {},
   "outputs": [
    {
     "name": "stdout",
     "output_type": "stream",
     "text": [
      "Hello, Python!\n"
     ]
    }
   ],
   "source": [
    "text = \"Hello, World!\"\n",
    "new_text = text.replace(\"World\", \"Python\")\n",
    "print(new_text)"
   ]
  },
  {
   "attachments": {},
   "cell_type": "markdown",
   "metadata": {},
   "source": [
    "str.format(): This method is used to format a string by replacing placeholders with values."
   ]
  },
  {
   "cell_type": "code",
   "execution_count": 13,
   "metadata": {},
   "outputs": [
    {
     "name": "stdout",
     "output_type": "stream",
     "text": [
      "My name is Alice and I am 30 years old\n"
     ]
    }
   ],
   "source": [
    "name = \"Alice\"\n",
    "age = 30\n",
    "text = \"My name is {} and I am {} years old\".format(name, age)\n",
    "print(text)  \n"
   ]
  },
  {
   "attachments": {},
   "cell_type": "markdown",
   "metadata": {},
   "source": [
    "str.find() and str.index(): These methods find the index of the first occurrence of a specified substring in a string. The difference between them is that str.index() raises a ValueError if the substring is not found, while str.find() returns -1 in this case."
   ]
  },
  {
   "cell_type": "code",
   "execution_count": 14,
   "metadata": {},
   "outputs": [
    {
     "name": "stdout",
     "output_type": "stream",
     "text": [
      "7\n",
      "7\n",
      "-1\n"
     ]
    }
   ],
   "source": [
    "text = \"Hello, World!\"\n",
    "print(text.find(\"World\"))\n",
    "print(text.index(\"World\"))\n",
    "print(text.find(\"Python\"))  \n",
    "\n"
   ]
  },
  {
   "attachments": {},
   "cell_type": "markdown",
   "metadata": {},
   "source": [
    "str.isdigit(), str.isalpha(), and str.isalnum(): These methods check if a string contains only digits, alphabetical characters, or alphanumeric characters, respectively."
   ]
  },
  {
   "cell_type": "code",
   "execution_count": 15,
   "metadata": {},
   "outputs": [
    {
     "name": "stdout",
     "output_type": "stream",
     "text": [
      "True\n",
      "True\n",
      "True\n"
     ]
    }
   ],
   "source": [
    "num = \"123\"\n",
    "word = \"Hello\"\n",
    "alphanum = \"Hello123\"\n",
    "print(num.isdigit())  \n",
    "print(word.isalpha())  \n",
    "print(alphanum.isalnum())  \n"
   ]
  },
  {
   "attachments": {},
   "cell_type": "markdown",
   "metadata": {},
   "source": [
    "str.join(): This method joins a list of strings with a specified delimiter."
   ]
  },
  {
   "cell_type": "code",
   "execution_count": 16,
   "metadata": {},
   "outputs": [
    {
     "name": "stdout",
     "output_type": "stream",
     "text": [
      "apple, banana, cherry\n"
     ]
    }
   ],
   "source": [
    "fruits = [\"apple\", \"banana\", \"cherry\"]\n",
    "text = \", \".join(fruits)\n",
    "print(text) \n"
   ]
  },
  {
   "attachments": {},
   "cell_type": "markdown",
   "metadata": {},
   "source": [
    "### String slicing\n",
    "\n",
    "String slicing is a way of extracting a part of a string in Python by specifying the start and end indices. In Python, string indexing starts from 0, which means that the first character in a string has an index of 0, the second character has an index of 1, and so on.\n",
    "\n",
    "Here's the general syntax for string slicing:\n",
    "string[start:end:step]"
   ]
  },
  {
   "cell_type": "code",
   "execution_count": 17,
   "metadata": {},
   "outputs": [
    {
     "name": "stdout",
     "output_type": "stream",
     "text": [
      "Hello\n",
      "World!\n",
      "Hlo ol!\n",
      "World!\n"
     ]
    }
   ],
   "source": [
    "text = \"Hello, World!\"\n",
    "\n",
    "# Extract the first 5 characters\n",
    "print(text[0:5])  \n",
    "\n",
    "# Extract characters from index 7 to the end\n",
    "print(text[7:])  \n",
    "\n",
    "# Extract every other character starting from index 0\n",
    "print(text[::2]) \n",
    "\n",
    "# Extract the last 6 characters\n",
    "print(text[-6:])\n"
   ]
  },
  {
   "attachments": {},
   "cell_type": "markdown",
   "metadata": {},
   "source": [
    "### Tuple\n",
    "\n",
    "A tuple is an ordered collection of values, similar to a list in Python. However, tuples are immutable, which means that once a tuple is created, you cannot add, remove, or modify its elements. Tuples are often used to store related pieces of information that should not be changed, such as the coordinates of a point in space or the RGB values of a color.\n",
    "\n",
    "In Python, tuples are defined using parentheses () and the values are separated by commas. "
   ]
  },
  {
   "cell_type": "code",
   "execution_count": 18,
   "metadata": {},
   "outputs": [
    {
     "name": "stdout",
     "output_type": "stream",
     "text": [
      "(1, 2, 3, 4, 5)\n",
      "<class 'tuple'>\n"
     ]
    }
   ],
   "source": [
    "my_tuple=(1,2,3,4,5)\n",
    "print(my_tuple)\n",
    "print(type(my_tuple))"
   ]
  },
  {
   "attachments": {},
   "cell_type": "markdown",
   "metadata": {},
   "source": [
    "**Tuple Bulit-in functions**\n",
    "\n",
    "len(): Returns the number of elements in the tuple."
   ]
  },
  {
   "cell_type": "code",
   "execution_count": 19,
   "metadata": {},
   "outputs": [
    {
     "name": "stdout",
     "output_type": "stream",
     "text": [
      "5\n"
     ]
    }
   ],
   "source": [
    "my_tuple = (1, 2, 3, 4, 5)\n",
    "print(len(my_tuple))"
   ]
  },
  {
   "attachments": {},
   "cell_type": "markdown",
   "metadata": {},
   "source": [
    "index(): Searches the tuple for a specified value and returns the index of the first occurrence of that value."
   ]
  },
  {
   "cell_type": "code",
   "execution_count": 20,
   "metadata": {},
   "outputs": [
    {
     "name": "stdout",
     "output_type": "stream",
     "text": [
      "2\n"
     ]
    }
   ],
   "source": [
    "my_tuple = (1, 2, 3, 4, 5)\n",
    "print(my_tuple.index(3))"
   ]
  },
  {
   "attachments": {},
   "cell_type": "markdown",
   "metadata": {},
   "source": [
    "count(): Counts the number of occurrences of a specified value in the tuple"
   ]
  },
  {
   "cell_type": "code",
   "execution_count": 21,
   "metadata": {},
   "outputs": [
    {
     "name": "stdout",
     "output_type": "stream",
     "text": [
      "2\n"
     ]
    }
   ],
   "source": [
    "my_tuple = (1, 2, 3, 3, 4, 5)\n",
    "print(my_tuple.count(3))"
   ]
  },
  {
   "attachments": {},
   "cell_type": "markdown",
   "metadata": {},
   "source": [
    "sorted(): Returns a new sorted list from the elements in the tuple."
   ]
  },
  {
   "cell_type": "code",
   "execution_count": 22,
   "metadata": {},
   "outputs": [
    {
     "name": "stdout",
     "output_type": "stream",
     "text": [
      "[1, 2, 3, 4, 5]\n"
     ]
    }
   ],
   "source": [
    "my_tuple = (3, 2, 1, 5, 4)\n",
    "sorted_tuple = sorted(my_tuple)\n",
    "print(sorted_tuple)"
   ]
  },
  {
   "attachments": {},
   "cell_type": "markdown",
   "metadata": {},
   "source": [
    "tuple(): Converts a list or any iterable to a tuple."
   ]
  },
  {
   "cell_type": "code",
   "execution_count": 23,
   "metadata": {},
   "outputs": [
    {
     "name": "stdout",
     "output_type": "stream",
     "text": [
      "(1, 2, 3, 4, 5)\n"
     ]
    }
   ],
   "source": [
    "my_list = [1, 2, 3, 4, 5]\n",
    "my_tuple = tuple(my_list)\n",
    "print(my_tuple)"
   ]
  },
  {
   "attachments": {},
   "cell_type": "markdown",
   "metadata": {},
   "source": [
    "reversed(): Returns a reverse iterator over the elements of the tuple."
   ]
  },
  {
   "cell_type": "code",
   "execution_count": 24,
   "metadata": {},
   "outputs": [
    {
     "name": "stdout",
     "output_type": "stream",
     "text": [
      "(5, 4, 3, 2, 1)\n"
     ]
    }
   ],
   "source": [
    "my_tuple = (1, 2, 3, 4, 5)\n",
    "reversed_tuple = reversed(my_tuple)\n",
    "print(tuple(reversed_tuple))"
   ]
  },
  {
   "attachments": {},
   "cell_type": "markdown",
   "metadata": {},
   "source": [
    "max(): Returns the maximum value of the tuple."
   ]
  },
  {
   "cell_type": "code",
   "execution_count": 25,
   "metadata": {},
   "outputs": [
    {
     "name": "stdout",
     "output_type": "stream",
     "text": [
      "50\n"
     ]
    }
   ],
   "source": [
    "my_tuple = (10, 20, 30, 40, 50)\n",
    "print(max(my_tuple)) "
   ]
  },
  {
   "attachments": {},
   "cell_type": "markdown",
   "metadata": {},
   "source": [
    "min(): Returns the minimum value of the tuple."
   ]
  },
  {
   "cell_type": "code",
   "execution_count": 26,
   "metadata": {},
   "outputs": [
    {
     "name": "stdout",
     "output_type": "stream",
     "text": [
      "10\n"
     ]
    }
   ],
   "source": [
    "my_tuple = (10, 20, 30, 40, 50)\n",
    "print(min(my_tuple))"
   ]
  },
  {
   "attachments": {},
   "cell_type": "markdown",
   "metadata": {},
   "source": [
    "slice(): Returns a slice object that can be used to slice the tuple."
   ]
  },
  {
   "cell_type": "code",
   "execution_count": 27,
   "metadata": {},
   "outputs": [
    {
     "name": "stdout",
     "output_type": "stream",
     "text": [
      "(2, 3, 4)\n"
     ]
    }
   ],
   "source": [
    "my_tuple = (1, 2, 3, 4, 5)\n",
    "my_slice = slice(1, 4)\n",
    "print(my_tuple[my_slice])"
   ]
  },
  {
   "attachments": {},
   "cell_type": "markdown",
   "metadata": {},
   "source": [
    "### List\n",
    "\n",
    "**A list is a mutable sequence of elements that can be of different data types. It is one of the most commonly used data structures in Python**"
   ]
  },
  {
   "cell_type": "code",
   "execution_count": 28,
   "metadata": {},
   "outputs": [
    {
     "name": "stdout",
     "output_type": "stream",
     "text": [
      "[1, 2, 34, 'a', 'b', 'c', '\\n']\n",
      "<class 'list'>\n"
     ]
    }
   ],
   "source": [
    "my_list=[1,2,34,'a','b','c',\"\\n\"]\n",
    "print(my_list)\n",
    "print(type(my_list))"
   ]
  },
  {
   "attachments": {},
   "cell_type": "markdown",
   "metadata": {},
   "source": [
    "#### List Built-in Functions\n",
    "\n",
    "len(): Returns the number of elements in the list.\n",
    "  "
   ]
  },
  {
   "cell_type": "code",
   "execution_count": 29,
   "metadata": {},
   "outputs": [
    {
     "name": "stdout",
     "output_type": "stream",
     "text": [
      "6\n"
     ]
    }
   ],
   "source": [
    "\n",
    "my_list = [1, 2, 3, 4, 5, 6]\n",
    "print(len(my_list))  \n"
   ]
  },
  {
   "attachments": {},
   "cell_type": "markdown",
   "metadata": {},
   "source": [
    "max(): Returns the maximum value in the list."
   ]
  },
  {
   "cell_type": "code",
   "execution_count": 30,
   "metadata": {},
   "outputs": [
    {
     "name": "stdout",
     "output_type": "stream",
     "text": [
      "5\n"
     ]
    }
   ],
   "source": [
    "my_list = [1, 5, 2, 4, 3]\n",
    "print(max(my_list))  "
   ]
  },
  {
   "cell_type": "markdown",
   "metadata": {},
   "source": [
    "min(): Returns the minimum value in the list.\n"
   ]
  },
  {
   "cell_type": "code",
   "execution_count": 31,
   "metadata": {},
   "outputs": [
    {
     "name": "stdout",
     "output_type": "stream",
     "text": [
      "1\n"
     ]
    }
   ],
   "source": [
    "my_list = [1, 5, 2, 4, 3]\n",
    "print(min(my_list))  \n"
   ]
  },
  {
   "attachments": {},
   "cell_type": "markdown",
   "metadata": {},
   "source": [
    "sum(): Returns the sum of all the elements in the list."
   ]
  },
  {
   "cell_type": "code",
   "execution_count": 2,
   "metadata": {},
   "outputs": [
    {
     "name": "stdout",
     "output_type": "stream",
     "text": [
      "15\n"
     ]
    }
   ],
   "source": [
    "my_list = [1, 2, 3, 4, 5]\n",
    "print(sum(my_list))  \n"
   ]
  },
  {
   "attachments": {},
   "cell_type": "markdown",
   "metadata": {},
   "source": [
    "append(): Adds an element to the end of the list."
   ]
  },
  {
   "cell_type": "code",
   "execution_count": 3,
   "metadata": {},
   "outputs": [
    {
     "name": "stdout",
     "output_type": "stream",
     "text": [
      "[1, 2, 3, 4]\n"
     ]
    }
   ],
   "source": [
    "my_list = [1, 2, 3]\n",
    "my_list.append(4)\n",
    "print(my_list)  \n"
   ]
  },
  {
   "attachments": {},
   "cell_type": "markdown",
   "metadata": {},
   "source": [
    "insert(): Inserts an element at the specified index.\n",
    "\n",
    "\n"
   ]
  },
  {
   "cell_type": "code",
   "execution_count": 4,
   "metadata": {},
   "outputs": [
    {
     "name": "stdout",
     "output_type": "stream",
     "text": [
      "[1, 4, 2, 3]\n"
     ]
    }
   ],
   "source": [
    "my_list = [1, 2, 3]\n",
    "my_list.insert(1, 4)\n",
    "print(my_list)  \n"
   ]
  },
  {
   "attachments": {},
   "cell_type": "markdown",
   "metadata": {},
   "source": [
    "remove(): Removes the first occurrence of the specified element from the list.\n",
    "\n",
    "\n"
   ]
  },
  {
   "cell_type": "code",
   "execution_count": 5,
   "metadata": {},
   "outputs": [
    {
     "name": "stdout",
     "output_type": "stream",
     "text": [
      "[1, 2, 4]\n"
     ]
    }
   ],
   "source": [
    "my_list = [1, 2, 3, 4]\n",
    "my_list.remove(3)\n",
    "print(my_list)  \n"
   ]
  },
  {
   "attachments": {},
   "cell_type": "markdown",
   "metadata": {},
   "source": [
    "pop(): Removes and returns the element at the specified index.\n"
   ]
  },
  {
   "cell_type": "code",
   "execution_count": 6,
   "metadata": {},
   "outputs": [
    {
     "name": "stdout",
     "output_type": "stream",
     "text": [
      "[1, 3]\n",
      "2\n"
     ]
    }
   ],
   "source": [
    "my_list = [1, 2, 3]\n",
    "removed_element = my_list.pop(1)\n",
    "print(my_list)  \n",
    "print(removed_element) \n"
   ]
  },
  {
   "cell_type": "markdown",
   "metadata": {},
   "source": [
    "index(): Returns the index of the first occurrence of the specified element.\n",
    "\n"
   ]
  },
  {
   "cell_type": "code",
   "execution_count": 7,
   "metadata": {},
   "outputs": [
    {
     "name": "stdout",
     "output_type": "stream",
     "text": [
      "2\n"
     ]
    }
   ],
   "source": [
    "my_list = [1, 2, 3, 4]\n",
    "print(my_list.index(3))"
   ]
  },
  {
   "attachments": {},
   "cell_type": "markdown",
   "metadata": {},
   "source": [
    "count(): Returns the number of times the specified element appears in the list.\n"
   ]
  },
  {
   "cell_type": "code",
   "execution_count": 8,
   "metadata": {},
   "outputs": [
    {
     "name": "stdout",
     "output_type": "stream",
     "text": [
      "3\n"
     ]
    }
   ],
   "source": [
    "my_list = [1, 2, 3, 2, 4, 2]\n",
    "print(my_list.count(2))  \n"
   ]
  },
  {
   "attachments": {},
   "cell_type": "markdown",
   "metadata": {},
   "source": [
    "extend(): Adds the elements of the specified iterable to the end of the list.\n"
   ]
  },
  {
   "cell_type": "code",
   "execution_count": 9,
   "metadata": {},
   "outputs": [
    {
     "name": "stdout",
     "output_type": "stream",
     "text": [
      "[1, 2, 3, 4, 5, 6]\n"
     ]
    }
   ],
   "source": [
    "my_list = [1, 2, 3]\n",
    "my_list.extend([4, 5, 6])\n",
    "print(my_list)  \n"
   ]
  },
  {
   "attachments": {},
   "cell_type": "markdown",
   "metadata": {},
   "source": [
    "reverse(): Reverses the order of the elements in the list.\n"
   ]
  },
  {
   "cell_type": "code",
   "execution_count": 10,
   "metadata": {},
   "outputs": [
    {
     "name": "stdout",
     "output_type": "stream",
     "text": [
      "[3, 2, 1]\n"
     ]
    }
   ],
   "source": [
    "\n",
    "my_list = [1, 2, 3]\n",
    "my_list.reverse()\n",
    "print(my_list) \n"
   ]
  },
  {
   "attachments": {},
   "cell_type": "markdown",
   "metadata": {},
   "source": [
    "copy(): Returns a shallow copy of the list.\n",
    "\n"
   ]
  },
  {
   "cell_type": "code",
   "execution_count": 11,
   "metadata": {},
   "outputs": [
    {
     "name": "stdout",
     "output_type": "stream",
     "text": [
      "[1, 2, 3]\n"
     ]
    }
   ],
   "source": [
    "my_list = [1, 2, 3]\n",
    "new_list = my_list.copy()\n",
    "print(new_list)  \n"
   ]
  },
  {
   "attachments": {},
   "cell_type": "markdown",
   "metadata": {},
   "source": [
    "clear(): Removes all the elements from the list."
   ]
  },
  {
   "cell_type": "code",
   "execution_count": 12,
   "metadata": {},
   "outputs": [
    {
     "name": "stdout",
     "output_type": "stream",
     "text": [
      "[]\n"
     ]
    }
   ],
   "source": [
    "my_list = [1, 2, 3]\n",
    "my_list.clear()\n",
    "print(my_list)\n"
   ]
  },
  {
   "attachments": {},
   "cell_type": "markdown",
   "metadata": {},
   "source": [
    "**Difference between sort() and sorted() is is that sort() sorts the list in-place, while sorted() returns a new sorted list without modifying the original list.**"
   ]
  },
  {
   "attachments": {},
   "cell_type": "markdown",
   "metadata": {},
   "source": [
    "sort(): Sorts the elements in the list in ascending order.\n",
    "\n"
   ]
  },
  {
   "cell_type": "code",
   "execution_count": 13,
   "metadata": {},
   "outputs": [
    {
     "name": "stdout",
     "output_type": "stream",
     "text": [
      "[1, 2, 3, 4, 5]\n"
     ]
    }
   ],
   "source": [
    "my_list = [3, 2, 1, 5, 4]\n",
    "my_list.sort()\n",
    "print(my_list)  \n"
   ]
  },
  {
   "cell_type": "markdown",
   "metadata": {},
   "source": [
    "sorted(): Returns a new sorted list from the elements in the list.\n"
   ]
  },
  {
   "cell_type": "code",
   "execution_count": 14,
   "metadata": {},
   "outputs": [
    {
     "name": "stdout",
     "output_type": "stream",
     "text": [
      "[1, 2, 3, 4, 5]\n"
     ]
    }
   ],
   "source": [
    "\n",
    "my_list = [3, 2, 1, 5, 4]\n",
    "sorted_list = sorted(my_list)\n",
    "print(sorted_list)  "
   ]
  },
  {
   "attachments": {},
   "cell_type": "markdown",
   "metadata": {},
   "source": [
    "### Dictionary\n",
    "\n",
    "A dictionary is an unordered collection of key-value pairs. It is a built-in data structure that is used to store data in a way that is easy to search and retrieve.\n",
    "\n",
    "Dictionaries are created using curly braces {}, with key-value pairs separated by colons \" : \". The keys in a dictionary must be unique, immutable, and hashable, while the values can be of any data type, including lists, tuples, and even other dictionaries."
   ]
  },
  {
   "cell_type": "code",
   "execution_count": 15,
   "metadata": {},
   "outputs": [
    {
     "name": "stdout",
     "output_type": "stream",
     "text": [
      "{'name': 'Dhanesh Kajrolkar', 'age': 24, 'city': 'Mumbai'}\n",
      "<class 'dict'>\n"
     ]
    }
   ],
   "source": [
    "my_dict = {'name': 'Dhanesh Kajrolkar', 'age': 24, 'city': 'Mumbai'}\n",
    "\n",
    "print(my_dict)\n",
    "print(type(my_dict))\n"
   ]
  },
  {
   "attachments": {},
   "cell_type": "markdown",
   "metadata": {},
   "source": [
    "**Dictionary Built-in Functions**\n",
    "\n",
    "Dictionaries are a built-in data type that comes with a number of useful built-in functions. \n",
    "\n",
    "Here are some of the most commonly used built-in functions for dictionaries:\n",
    "\n",
    "len(dict): Returns the number of key-value pairs in the dictionary.\n"
   ]
  },
  {
   "cell_type": "code",
   "execution_count": 16,
   "metadata": {},
   "outputs": [
    {
     "name": "stdout",
     "output_type": "stream",
     "text": [
      "3\n"
     ]
    }
   ],
   "source": [
    "my_dict = {'name': 'Dhanesh Kajrolkar', 'age': 24, 'city': 'Mumbai'}\n",
    "print(len(my_dict))\n"
   ]
  },
  {
   "cell_type": "markdown",
   "metadata": {},
   "source": [
    "dict.clear(): Removes all key-value pairs from the dictionary and returns an empty dictionary.\n"
   ]
  },
  {
   "cell_type": "code",
   "execution_count": 17,
   "metadata": {},
   "outputs": [
    {
     "name": "stdout",
     "output_type": "stream",
     "text": [
      "{}\n"
     ]
    }
   ],
   "source": [
    "my_dict = {'name': 'Dhanesh Kajrolkar', 'age': 24, 'city': 'Mumbai'}\n",
    "my_dict.clear()\n",
    "print(my_dict) \n"
   ]
  },
  {
   "cell_type": "markdown",
   "metadata": {},
   "source": [
    "dict.copy(): Returns a shallow copy of the dictionary.\n"
   ]
  },
  {
   "cell_type": "code",
   "execution_count": 18,
   "metadata": {},
   "outputs": [
    {
     "name": "stdout",
     "output_type": "stream",
     "text": [
      "{'name': 'Dhanesh Kajrolkar', 'age': 24, 'city': 'Mumbai'}\n"
     ]
    }
   ],
   "source": [
    "my_dict = {'name': 'Dhanesh Kajrolkar', 'age': 24, 'city': 'Mumbai'}\n",
    "new_dict=my_dict.copy()\n",
    "print(new_dict) \n"
   ]
  },
  {
   "cell_type": "markdown",
   "metadata": {},
   "source": [
    "dict.get(key[, default]): Returns the value associated with the given key. If the key is not present in the dictionary, it returns the default value (if specified) or None. The second argument is optional and can be used to specify the default value.\n"
   ]
  },
  {
   "cell_type": "code",
   "execution_count": 19,
   "metadata": {},
   "outputs": [
    {
     "name": "stdout",
     "output_type": "stream",
     "text": [
      "Dhanesh Kajrolkar\n",
      "None\n",
      "unknown\n"
     ]
    }
   ],
   "source": [
    "my_dict = {'name': 'Dhanesh Kajrolkar', 'age': 24, 'city': 'Mumbai'}\n",
    "print(my_dict.get('name')) \n",
    "print(my_dict.get('gender')) \n",
    "print(my_dict.get('gender', 'unknown')) \n"
   ]
  },
  {
   "cell_type": "markdown",
   "metadata": {},
   "source": [
    "dict.keys(): Returns a view object that contains the keys of the dictionary.\n"
   ]
  },
  {
   "cell_type": "code",
   "execution_count": 20,
   "metadata": {},
   "outputs": [
    {
     "name": "stdout",
     "output_type": "stream",
     "text": [
      "dict_keys(['name', 'age', 'city'])\n"
     ]
    }
   ],
   "source": [
    "my_dict = {'name': 'Dhanesh Kajrolkar', 'age': 24, 'city': 'Mumbai'}\n",
    "print(my_dict.keys()) \n"
   ]
  },
  {
   "attachments": {},
   "cell_type": "markdown",
   "metadata": {},
   "source": [
    "dict.values(): Returns a view object that contains the values of the dictionary.\n"
   ]
  },
  {
   "cell_type": "code",
   "execution_count": 21,
   "metadata": {},
   "outputs": [
    {
     "name": "stdout",
     "output_type": "stream",
     "text": [
      "dict_values(['Dhanesh Kajrolkar', 24, 'Mumbai'])\n"
     ]
    }
   ],
   "source": [
    "my_dict = {'name': 'Dhanesh Kajrolkar', 'age': 24, 'city': 'Mumbai'}\n",
    "print(my_dict.values()) \n"
   ]
  },
  {
   "cell_type": "markdown",
   "metadata": {},
   "source": [
    "dict.items(): Returns a view object that contains the key-value pairs of the dictionary as tuples.\n"
   ]
  },
  {
   "cell_type": "code",
   "execution_count": 22,
   "metadata": {},
   "outputs": [
    {
     "name": "stdout",
     "output_type": "stream",
     "text": [
      "dict_items([('name', 'Dhanesh Kajrolkar'), ('age', 24), ('city', 'Mumbai')])\n"
     ]
    }
   ],
   "source": [
    "my_dict = {'name': 'Dhanesh Kajrolkar', 'age': 24, 'city': 'Mumbai'}\n",
    "print(my_dict.items()) \n"
   ]
  },
  {
   "cell_type": "markdown",
   "metadata": {},
   "source": [
    "dict.pop(key[, default]): Removes the key-value pair associated with the given key and returns the value. If the key is not present in the dictionary, it returns the default value (if specified) or raises a KeyError exception.\n"
   ]
  },
  {
   "cell_type": "code",
   "execution_count": 23,
   "metadata": {},
   "outputs": [
    {
     "name": "stdout",
     "output_type": "stream",
     "text": [
      "24\n",
      "unknown\n"
     ]
    }
   ],
   "source": [
    "my_dict = {'name': 'Dhanesh Kajrolkar', 'age': 24, 'city': 'Mumbai'}\n",
    "print(my_dict.pop('age')) \n",
    "print(my_dict.pop('gender', 'unknown')) \n"
   ]
  },
  {
   "cell_type": "markdown",
   "metadata": {},
   "source": [
    "dict.popitem(): Removes and returns a random key-value pair from the dictionary. If the dictionary is empty, it raises a KeyError exception.\n"
   ]
  },
  {
   "cell_type": "code",
   "execution_count": 24,
   "metadata": {},
   "outputs": [
    {
     "name": "stdout",
     "output_type": "stream",
     "text": [
      "('city', 'Mumbai')\n"
     ]
    }
   ],
   "source": [
    "my_dict = {'name': 'Dhanesh Kajrolkar', 'age': 24, 'city': 'Mumbai'}\n",
    "print(my_dict.popitem()) "
   ]
  },
  {
   "cell_type": "markdown",
   "metadata": {},
   "source": [
    "dict.update(other_dict): Updates the dictionary with the key-value pairs from other_dict.\n",
    "\n"
   ]
  },
  {
   "cell_type": "code",
   "execution_count": 25,
   "metadata": {},
   "outputs": [
    {
     "name": "stdout",
     "output_type": "stream",
     "text": [
      "{'name': 'Dhanesh Kajrolkar', 'age': 24, 'city': 'Mumbai'}\n"
     ]
    }
   ],
   "source": [
    "my_dict = {'name': 'Dhanesh Kajrolkar', 'age': 24}\n",
    "my_dict.update({'city': 'Mumbai'})\n",
    "print(my_dict)"
   ]
  },
  {
   "attachments": {},
   "cell_type": "markdown",
   "metadata": {},
   "source": [
    "### Sets\n",
    "\n",
    " **A set is an unordered collection of unique elements. Sets are defined by enclosing a comma-separated sequence of values in curly braces {}, or by using the built-in set() function.**\n",
    "\n",
    "\n",
    "\n"
   ]
  },
  {
   "attachments": {},
   "cell_type": "markdown",
   "metadata": {},
   "source": [
    "\n",
    "Sets are similar to lists and tuples in some ways, but there are some important differences:\n",
    "\n",
    "1. Sets are unordered, so you cannot access elements by their index.\n",
    "2. Sets cannot contain duplicate elements; if you try to add the same element multiple times, it will only be added once.\n",
    "3. Sets are mutable, meaning you can add and remove elements from them.\n",
    "\n",
    "We can perform various operations on sets using Python's built-in set methods and operators.\n",
    "\n"
   ]
  },
  {
   "cell_type": "code",
   "execution_count": 26,
   "metadata": {},
   "outputs": [
    {
     "name": "stdout",
     "output_type": "stream",
     "text": [
      "{'orange', 'apple', 'grape', 'banana'}\n",
      "<class 'set'>\n"
     ]
    }
   ],
   "source": [
    "fruits = {'apple', 'banana', 'orange', 'grape'}\n",
    "print(fruits)\n",
    "print(type(fruits))"
   ]
  },
  {
   "attachments": {},
   "cell_type": "markdown",
   "metadata": {},
   "source": [
    "union(): Returns a new set containing all the unique elements from two or more sets.\n",
    "\n",
    "\n",
    "\n"
   ]
  },
  {
   "cell_type": "code",
   "execution_count": 27,
   "metadata": {},
   "outputs": [
    {
     "name": "stdout",
     "output_type": "stream",
     "text": [
      "{'watermelon', 'orange', 'apple', 'grape', 'banana'}\n"
     ]
    }
   ],
   "source": [
    "fruits1 = {'apple', 'banana', 'orange'}\n",
    "fruits2 = {'orange', 'grape', 'watermelon'}\n",
    "\n",
    "# Union of two sets\n",
    "all_fruits = fruits1.union(fruits2)\n",
    "print(all_fruits) \n",
    "\n"
   ]
  },
  {
   "cell_type": "markdown",
   "metadata": {},
   "source": [
    "intersection(): Returns a new set containing only the unique elements that are common to two or more sets."
   ]
  },
  {
   "cell_type": "code",
   "execution_count": 28,
   "metadata": {},
   "outputs": [
    {
     "name": "stdout",
     "output_type": "stream",
     "text": [
      "{'orange'}\n"
     ]
    }
   ],
   "source": [
    "# Intersection of two sets\n",
    "common_fruits = fruits1.intersection(fruits2)\n",
    "print(common_fruits) \n",
    "\n"
   ]
  },
  {
   "cell_type": "markdown",
   "metadata": {},
   "source": [
    "difference(): Returns a new set containing the unique elements that are in one set but not in another.\n"
   ]
  },
  {
   "cell_type": "code",
   "execution_count": 30,
   "metadata": {},
   "outputs": [
    {
     "name": "stdout",
     "output_type": "stream",
     "text": [
      "{'apple', 'banana'}\n"
     ]
    }
   ],
   "source": [
    "# Difference between two sets\n",
    "diff_fruits = fruits1.difference(fruits2)\n",
    "print(diff_fruits)\n",
    "\n"
   ]
  },
  {
   "cell_type": "markdown",
   "metadata": {},
   "source": [
    "symmetric_difference(): Returns a new set containing the unique elements that are in either of the sets, but not in both."
   ]
  },
  {
   "cell_type": "code",
   "execution_count": 31,
   "metadata": {},
   "outputs": [
    {
     "name": "stdout",
     "output_type": "stream",
     "text": [
      "{'apple', 'banana', 'watermelon', 'grape'}\n"
     ]
    }
   ],
   "source": [
    "# Symmetric difference between two sets\n",
    "sym_diff_fruits = fruits1.symmetric_difference(fruits2)\n",
    "print(sym_diff_fruits)\n",
    "\n"
   ]
  },
  {
   "attachments": {},
   "cell_type": "markdown",
   "metadata": {},
   "source": [
    "issubset(): Returns True if all the elements of one set are also in another set.\n",
    "\n",
    "issuperset(): Returns True if a set contains all the elements of another set."
   ]
  },
  {
   "cell_type": "code",
   "execution_count": 32,
   "metadata": {},
   "outputs": [
    {
     "name": "stdout",
     "output_type": "stream",
     "text": [
      "True\n",
      "True\n"
     ]
    }
   ],
   "source": [
    "# Subset and superset\n",
    "print(fruits1.issubset(all_fruits)) \n",
    "print(fruits2.issuperset(common_fruits))"
   ]
  },
  {
   "cell_type": "code",
   "execution_count": null,
   "metadata": {},
   "outputs": [],
   "source": []
  }
 ],
 "metadata": {
  "kernelspec": {
   "display_name": "Python 3",
   "language": "python",
   "name": "python3"
  },
  "language_info": {
   "codemirror_mode": {
    "name": "ipython",
    "version": 3
   },
   "file_extension": ".py",
   "mimetype": "text/x-python",
   "name": "python",
   "nbconvert_exporter": "python",
   "pygments_lexer": "ipython3",
   "version": "3.10.9"
  },
  "orig_nbformat": 4
 },
 "nbformat": 4,
 "nbformat_minor": 2
}
