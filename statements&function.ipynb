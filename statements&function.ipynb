{
 "cells": [
  {
   "attachments": {},
   "cell_type": "markdown",
   "metadata": {},
   "source": [
    "#### break statement"
   ]
  },
  {
   "cell_type": "code",
   "execution_count": 1,
   "metadata": {},
   "outputs": [
    {
     "name": "stdout",
     "output_type": "stream",
     "text": [
      "0\n",
      "1\n",
      "2\n",
      "3\n",
      "4\n",
      "Out of loop\n"
     ]
    }
   ],
   "source": [
    "num=0\n",
    "\n",
    "for num in range(10):\n",
    "    if num == 5:\n",
    "        break\n",
    "    print(num)\n",
    "print(\"Out of loop\")\n"
   ]
  },
  {
   "cell_type": "code",
   "execution_count": 3,
   "metadata": {},
   "outputs": [
    {
     "name": "stdout",
     "output_type": "stream",
     "text": [
      "0\n",
      "1\n",
      "2\n",
      "3\n",
      "4\n",
      "6\n",
      "7\n",
      "8\n",
      "9\n",
      "Out of loop\n"
     ]
    }
   ],
   "source": [
    "#continue statement\n",
    "num=0\n",
    "\n",
    "for num in range(10):\n",
    "    if num == 5:\n",
    "        continue #----------->skip the given condition step and continue afterwards\n",
    "    print(num)\n",
    "print(\"Out of loop\")\n"
   ]
  },
  {
   "cell_type": "code",
   "execution_count": 5,
   "metadata": {},
   "outputs": [
    {
     "name": "stdout",
     "output_type": "stream",
     "text": [
      "0\n",
      "1\n",
      "2\n",
      "3\n",
      "4\n",
      "5\n",
      "6\n",
      "7\n",
      "8\n",
      "9\n",
      "Out of loop\n"
     ]
    }
   ],
   "source": [
    "#pass statement\n",
    "num=0\n",
    "\n",
    "for num in range(10):\n",
    "    if num == 5:\n",
    "        pass\n",
    "    print(num)\n",
    "print(\"Out of loop\")\n"
   ]
  },
  {
   "attachments": {},
   "cell_type": "markdown",
   "metadata": {},
   "source": [
    "## Function"
   ]
  },
  {
   "cell_type": "code",
   "execution_count": 7,
   "metadata": {},
   "outputs": [
    {
     "name": "stdout",
     "output_type": "stream",
     "text": [
      "addition is 14\n"
     ]
    }
   ],
   "source": [
    "#Addition of two number\n",
    "def add_num(a,b):\n",
    "    sum=a+b\n",
    "    return sum\n",
    "num1=int(input(\"Enter first number: \"))\n",
    "num2=int(input(\"Enter second number: \"))\n",
    "print(\"addition is\",add_num(num1,num2))"
   ]
  },
  {
   "cell_type": "code",
   "execution_count": 11,
   "metadata": {},
   "outputs": [
    {
     "name": "stdout",
     "output_type": "stream",
     "text": [
      "151 is palindrome\n"
     ]
    }
   ],
   "source": [
    "def palindrome(n):\n",
    "    rev=0\n",
    "    rem=0\n",
    "    while(n!=0):\n",
    "        rem=n%10\n",
    "        rev=rev*10+rem\n",
    "        n=n//10\n",
    "    return rev\n",
    "num1=int(input(\"Enter a number\"))\n",
    "reverse=palindrome(num1)\n",
    "if num1==reverse:\n",
    "    print(num1,\"is palindrome\")\n",
    "else:\n",
    "    print(num1,\"is not palindrom\")"
   ]
  },
  {
   "cell_type": "code",
   "execution_count": 12,
   "metadata": {},
   "outputs": [
    {
     "name": "stdout",
     "output_type": "stream",
     "text": [
      "odd\n"
     ]
    }
   ],
   "source": [
    "def isevenodd(n):\n",
    "    if n%2==0:\n",
    "        return print(\"even\")\n",
    "    else:\n",
    "        return print(\"odd\")\n",
    "n=int(input())\n",
    "isevenodd(n)"
   ]
  },
  {
   "attachments": {},
   "cell_type": "markdown",
   "metadata": {},
   "source": [
    "### List Comprehension\n"
   ]
  },
  {
   "cell_type": "code",
   "execution_count": 14,
   "metadata": {},
   "outputs": [
    {
     "name": "stdout",
     "output_type": "stream",
     "text": [
      "[2, 3, 4, 5]\n"
     ]
    }
   ],
   "source": [
    "list1=[2,3,4,5]\n",
    "list2=[]\n",
    "list2=list1\n",
    "print(list2)"
   ]
  },
  {
   "attachments": {},
   "cell_type": "markdown",
   "metadata": {},
   "source": [
    "#### newlist=[expr(element) for element in oldlist if condition]"
   ]
  },
  {
   "cell_type": "code",
   "execution_count": 15,
   "metadata": {},
   "outputs": [
    {
     "name": "stdout",
     "output_type": "stream",
     "text": [
      "[1, 2, 3, 4, 5]\n"
     ]
    }
   ],
   "source": [
    "list1=[old_list for old_list in [1,2,3,4,5]]\n",
    "print(list1)"
   ]
  },
  {
   "cell_type": "code",
   "execution_count": 17,
   "metadata": {},
   "outputs": [
    {
     "name": "stdout",
     "output_type": "stream",
     "text": [
      "[1, 5, 6, 9, 7, 8]\n"
     ]
    }
   ],
   "source": [
    "n=int(input())\n",
    "digit=[int(n) for n in str(n)]\n",
    "print(list(digit))"
   ]
  },
  {
   "cell_type": "code",
   "execution_count": 18,
   "metadata": {},
   "outputs": [
    {
     "name": "stdout",
     "output_type": "stream",
     "text": [
      "[0, 2, 4, 6, 8, 10]\n"
     ]
    }
   ],
   "source": [
    "#list comprehension for even and odd\n",
    "list1=[i for i in range(11) if i%2==0]\n",
    "print(list1)"
   ]
  },
  {
   "cell_type": "code",
   "execution_count": 19,
   "metadata": {},
   "outputs": [
    {
     "name": "stdout",
     "output_type": "stream",
     "text": [
      "[4, 2, 6]\n"
     ]
    }
   ],
   "source": [
    "list1=[i for i in [1,4,2,5,6,7] if i%2==0]\n",
    "print(list1)"
   ]
  },
  {
   "cell_type": "code",
   "execution_count": 24,
   "metadata": {},
   "outputs": [
    {
     "data": {
      "text/plain": [
       "[[1, 2, 3], [1, 2, 3], [1, 2, 3]]"
      ]
     },
     "execution_count": 24,
     "metadata": {},
     "output_type": "execute_result"
    }
   ],
   "source": [
    "\n",
    "list2=[[j for j in [1,2,3]]for i in range(3)]\n",
    "list2"
   ]
  },
  {
   "cell_type": "code",
   "execution_count": 30,
   "metadata": {},
   "outputs": [
    {
     "name": "stdout",
     "output_type": "stream",
     "text": [
      "['w', 'e', 'l', 'c', 'o', 'm', 'e', ' ', 't', 'o', ' ', 'd', 'a', 't', 'a', ' ', 's', 'c', 'i', 'e', 'n', 'c', 'e']\n"
     ]
    }
   ],
   "source": [
    "list1=[]\n",
    "list2=[list1 for list1 in \"welcome to data science\"]\n",
    "print(list2)"
   ]
  },
  {
   "cell_type": "code",
   "execution_count": 4,
   "metadata": {},
   "outputs": [
    {
     "name": "stdout",
     "output_type": "stream",
     "text": [
      "24\n",
      "6\n",
      "135\n",
      "1.6666666666666667\n"
     ]
    }
   ],
   "source": [
    "def result(a,b):\n",
    "    print(a+b)\n",
    "    print(a-b)\n",
    "    print(a*b)\n",
    "    print(a/b)\n",
    "    \n",
    "\n",
    "result(15,9)"
   ]
  },
  {
   "cell_type": "code",
   "execution_count": 5,
   "metadata": {},
   "outputs": [
    {
     "name": "stdout",
     "output_type": "stream",
     "text": [
      "Sum is 14,Subtraction is -4,Multiplication is 45,Division is 0.5555555555555556\n"
     ]
    }
   ],
   "source": [
    "def result(a,b):\n",
    "    sum1=a+b\n",
    "    sub=a-b\n",
    "    mul=a*b\n",
    "    div=a/b\n",
    "\n",
    "    print(f\"Sum is {sum1},Subtraction is {sub},Multiplication is {mul},Division is {div}\")\n",
    "num1=int(input())\n",
    "num2=int(input())\n",
    "result(num1,num2)"
   ]
  },
  {
   "cell_type": "code",
   "execution_count": 20,
   "metadata": {},
   "outputs": [
    {
     "ename": "KeyboardInterrupt",
     "evalue": "",
     "output_type": "error",
     "traceback": [
      "\u001b[1;31m---------------------------------------------------------------------------\u001b[0m",
      "\u001b[1;31mKeyboardInterrupt\u001b[0m                         Traceback (most recent call last)",
      "\u001b[1;32mc:\\Users\\Admin\\Desktop\\python\\statements&function.ipynb Cell 20\u001b[0m in \u001b[0;36m<cell line: 10>\u001b[1;34m()\u001b[0m\n\u001b[0;32m      <a href='vscode-notebook-cell:/c%3A/Users/Admin/Desktop/python/statements%26function.ipynb#X25sZmlsZQ%3D%3D?line=7'>8</a>\u001b[0m         \u001b[39mprint\u001b[39m(\u001b[39mf\u001b[39m\u001b[39m\"\u001b[39m\u001b[39mlargest is \u001b[39m\u001b[39m{\u001b[39;00mc\u001b[39m}\u001b[39;00m\u001b[39m\"\u001b[39m)\n\u001b[0;32m      <a href='vscode-notebook-cell:/c%3A/Users/Admin/Desktop/python/statements%26function.ipynb#X25sZmlsZQ%3D%3D?line=8'>9</a>\u001b[0m num1\u001b[39m=\u001b[39m\u001b[39mint\u001b[39m(\u001b[39minput\u001b[39m())\n\u001b[1;32m---> <a href='vscode-notebook-cell:/c%3A/Users/Admin/Desktop/python/statements%26function.ipynb#X25sZmlsZQ%3D%3D?line=9'>10</a>\u001b[0m num2\u001b[39m=\u001b[39m\u001b[39mint\u001b[39;49m(\u001b[39minput\u001b[39m())\n\u001b[0;32m     <a href='vscode-notebook-cell:/c%3A/Users/Admin/Desktop/python/statements%26function.ipynb#X25sZmlsZQ%3D%3D?line=10'>11</a>\u001b[0m num3\u001b[39m=\u001b[39m\u001b[39mint\u001b[39m(\u001b[39minput\u001b[39m())\n\u001b[0;32m     <a href='vscode-notebook-cell:/c%3A/Users/Admin/Desktop/python/statements%26function.ipynb#X25sZmlsZQ%3D%3D?line=11'>12</a>\u001b[0m islargest(num1,num2,num3)\n",
      "\u001b[1;32mc:\\Users\\Admin\\Desktop\\python\\statements&function.ipynb Cell 20\u001b[0m in \u001b[0;36m<cell line: 10>\u001b[1;34m()\u001b[0m\n\u001b[0;32m      <a href='vscode-notebook-cell:/c%3A/Users/Admin/Desktop/python/statements%26function.ipynb#X25sZmlsZQ%3D%3D?line=7'>8</a>\u001b[0m         \u001b[39mprint\u001b[39m(\u001b[39mf\u001b[39m\u001b[39m\"\u001b[39m\u001b[39mlargest is \u001b[39m\u001b[39m{\u001b[39;00mc\u001b[39m}\u001b[39;00m\u001b[39m\"\u001b[39m)\n\u001b[0;32m      <a href='vscode-notebook-cell:/c%3A/Users/Admin/Desktop/python/statements%26function.ipynb#X25sZmlsZQ%3D%3D?line=8'>9</a>\u001b[0m num1\u001b[39m=\u001b[39m\u001b[39mint\u001b[39m(\u001b[39minput\u001b[39m())\n\u001b[1;32m---> <a href='vscode-notebook-cell:/c%3A/Users/Admin/Desktop/python/statements%26function.ipynb#X25sZmlsZQ%3D%3D?line=9'>10</a>\u001b[0m num2\u001b[39m=\u001b[39m\u001b[39mint\u001b[39;49m(\u001b[39minput\u001b[39m())\n\u001b[0;32m     <a href='vscode-notebook-cell:/c%3A/Users/Admin/Desktop/python/statements%26function.ipynb#X25sZmlsZQ%3D%3D?line=10'>11</a>\u001b[0m num3\u001b[39m=\u001b[39m\u001b[39mint\u001b[39m(\u001b[39minput\u001b[39m())\n\u001b[0;32m     <a href='vscode-notebook-cell:/c%3A/Users/Admin/Desktop/python/statements%26function.ipynb#X25sZmlsZQ%3D%3D?line=11'>12</a>\u001b[0m islargest(num1,num2,num3)\n",
      "File \u001b[1;32m_pydevd_bundle/pydevd_cython.pyx:1369\u001b[0m, in \u001b[0;36m_pydevd_bundle.pydevd_cython.SafeCallWrapper.__call__\u001b[1;34m()\u001b[0m\n",
      "File \u001b[1;32m_pydevd_bundle/pydevd_cython.pyx:661\u001b[0m, in \u001b[0;36m_pydevd_bundle.pydevd_cython.PyDBFrame.trace_dispatch\u001b[1;34m()\u001b[0m\n",
      "File \u001b[1;32m_pydevd_bundle/pydevd_cython.pyx:1294\u001b[0m, in \u001b[0;36m_pydevd_bundle.pydevd_cython.PyDBFrame.trace_dispatch\u001b[1;34m()\u001b[0m\n",
      "File \u001b[1;32m_pydevd_bundle/pydevd_cython.pyx:1256\u001b[0m, in \u001b[0;36m_pydevd_bundle.pydevd_cython.PyDBFrame.trace_dispatch\u001b[1;34m()\u001b[0m\n",
      "File \u001b[1;32m_pydevd_bundle/pydevd_cython.pyx:297\u001b[0m, in \u001b[0;36m_pydevd_bundle.pydevd_cython.PyDBFrame.do_wait_suspend\u001b[1;34m()\u001b[0m\n",
      "File \u001b[1;32mc:\\Users\\Admin\\AppData\\Local\\Programs\\Python\\Python310\\lib\\site-packages\\debugpy\\_vendored\\pydevd\\pydevd.py:2055\u001b[0m, in \u001b[0;36mPyDB.do_wait_suspend\u001b[1;34m(self, thread, frame, event, arg, exception_type)\u001b[0m\n\u001b[0;32m   2052\u001b[0m             from_this_thread\u001b[39m.\u001b[39mappend(frame_custom_thread_id)\n\u001b[0;32m   2054\u001b[0m     \u001b[39mwith\u001b[39;00m \u001b[39mself\u001b[39m\u001b[39m.\u001b[39m_threads_suspended_single_notification\u001b[39m.\u001b[39mnotify_thread_suspended(thread_id, stop_reason):\n\u001b[1;32m-> 2055\u001b[0m         keep_suspended \u001b[39m=\u001b[39m \u001b[39mself\u001b[39;49m\u001b[39m.\u001b[39;49m_do_wait_suspend(thread, frame, event, arg, suspend_type, from_this_thread, frames_tracker)\n\u001b[0;32m   2057\u001b[0m frames_list \u001b[39m=\u001b[39m \u001b[39mNone\u001b[39;00m\n\u001b[0;32m   2059\u001b[0m \u001b[39mif\u001b[39;00m keep_suspended:\n\u001b[0;32m   2060\u001b[0m     \u001b[39m# This means that we should pause again after a set next statement.\u001b[39;00m\n",
      "File \u001b[1;32mc:\\Users\\Admin\\AppData\\Local\\Programs\\Python\\Python310\\lib\\site-packages\\debugpy\\_vendored\\pydevd\\pydevd.py:2091\u001b[0m, in \u001b[0;36mPyDB._do_wait_suspend\u001b[1;34m(self, thread, frame, event, arg, suspend_type, from_this_thread, frames_tracker)\u001b[0m\n\u001b[0;32m   2088\u001b[0m         \u001b[39mself\u001b[39m\u001b[39m.\u001b[39m_call_input_hook()\n\u001b[0;32m   2090\u001b[0m     \u001b[39mself\u001b[39m\u001b[39m.\u001b[39mprocess_internal_commands()\n\u001b[1;32m-> 2091\u001b[0m     time\u001b[39m.\u001b[39;49msleep(\u001b[39m0.01\u001b[39;49m)\n\u001b[0;32m   2093\u001b[0m \u001b[39mself\u001b[39m\u001b[39m.\u001b[39mcancel_async_evaluation(get_current_thread_id(thread), \u001b[39mstr\u001b[39m(\u001b[39mid\u001b[39m(frame)))\n\u001b[0;32m   2095\u001b[0m \u001b[39m# process any stepping instructions\u001b[39;00m\n",
      "\u001b[1;31mKeyboardInterrupt\u001b[0m: "
     ]
    }
   ],
   "source": [
    "#find the largest value\n",
    "def islargest(a,b,c):\n",
    "    if (a>b and a>c) :\n",
    "        print(f\"largest is {a}\")\n",
    "    elif (b>a and b>c):\n",
    "        print(f\"largest is {b}\")\n",
    "    else:\n",
    "        print(f\"largest is {c}\")\n",
    "num1=int(input())\n",
    "num2=int(input())\n",
    "num3=int(input())\n",
    "islargest(num1,num2,num3)"
   ]
  },
  {
   "cell_type": "code",
   "execution_count": 24,
   "metadata": {},
   "outputs": [
    {
     "name": "stdout",
     "output_type": "stream",
     "text": [
      "2 \n",
      " 2\n"
     ]
    }
   ],
   "source": [
    "#Define a function to count no of vowels and consonants from strings\n",
    "\n",
    "def string(x):\n",
    "    v=0\n",
    "    cons=0\n",
    "    l1=[\"a\",\"e\",\"i\",\"o\",\"u\",\"A\",\"E\",\"I\",\"O\",\"U\"]\n",
    "\n",
    "    for i in range(len(x)):\n",
    "        if x[i] in l1:\n",
    "            v=v+1\n",
    "        else:\n",
    "            cons=cons+1\n",
    "    print(v,\"\\n\",cons)\n",
    "sen=input()\n",
    "string(sen)\n"
   ]
  },
  {
   "cell_type": "code",
   "execution_count": 25,
   "metadata": {},
   "outputs": [
    {
     "name": "stdout",
     "output_type": "stream",
     "text": [
      "2\n",
      "2\n"
     ]
    }
   ],
   "source": [
    "def count(val):\n",
    "    vow=0\n",
    "    con=0\n",
    "    for i in range(len(val)):\n",
    "        if val[i] in ['a','e','i','o','u']:\n",
    "            vow=vow+1\n",
    "        else:\n",
    "            con=con+1\n",
    "    print(vow)\n",
    "    print(con)\n",
    "x=input()\n",
    "count(x)"
   ]
  },
  {
   "cell_type": "code",
   "execution_count": 26,
   "metadata": {},
   "outputs": [
    {
     "name": "stdout",
     "output_type": "stream",
     "text": [
      "Hello\n"
     ]
    }
   ],
   "source": [
    "#function in variable\n",
    "def add():\n",
    "    print(\"Hello\")\n",
    "x=add\n",
    "x()"
   ]
  },
  {
   "cell_type": "code",
   "execution_count": 29,
   "metadata": {},
   "outputs": [
    {
     "name": "stdout",
     "output_type": "stream",
     "text": [
      "Student\n"
     ]
    },
    {
     "ename": "TypeError",
     "evalue": "display() takes 0 positional arguments but 1 was given",
     "output_type": "error",
     "traceback": [
      "\u001b[1;31m---------------------------------------------------------------------------\u001b[0m",
      "\u001b[1;31mTypeError\u001b[0m                                 Traceback (most recent call last)",
      "\u001b[1;32mc:\\Users\\Admin\\Desktop\\python\\statements&function.ipynb Cell 24\u001b[0m in \u001b[0;36m<cell line: 8>\u001b[1;34m()\u001b[0m\n\u001b[0;32m      <a href='vscode-notebook-cell:/c%3A/Users/Admin/Desktop/python/statements%26function.ipynb#X32sZmlsZQ%3D%3D?line=4'>5</a>\u001b[0m \u001b[39mdef\u001b[39;00m \u001b[39mmsg\u001b[39m():\n\u001b[0;32m      <a href='vscode-notebook-cell:/c%3A/Users/Admin/Desktop/python/statements%26function.ipynb#X32sZmlsZQ%3D%3D?line=5'>6</a>\u001b[0m     \u001b[39mprint\u001b[39m(\u001b[39m\"\u001b[39m\u001b[39mStudent\u001b[39m\u001b[39m\"\u001b[39m)\n\u001b[1;32m----> <a href='vscode-notebook-cell:/c%3A/Users/Admin/Desktop/python/statements%26function.ipynb#X32sZmlsZQ%3D%3D?line=7'>8</a>\u001b[0m display(msg())\n",
      "\u001b[1;31mTypeError\u001b[0m: display() takes 0 positional arguments but 1 was given"
     ]
    }
   ],
   "source": [
    "#pass function as parameter\n",
    "def display():\n",
    "    print(\"Hello\")\n",
    "    \n",
    "def msg():\n",
    "    print(\"Student\")\n",
    "    \n",
    "display(msg())"
   ]
  },
  {
   "cell_type": "code",
   "execution_count": 32,
   "metadata": {},
   "outputs": [
    {
     "name": "stdout",
     "output_type": "stream",
     "text": [
      "First\n",
      "Second\n"
     ]
    }
   ],
   "source": [
    "def first():\n",
    "    print(\"First\")\n",
    "    def second():\n",
    "        print(\"Second\")\n",
    "    return second\n",
    "x=first()\n",
    "x()"
   ]
  },
  {
   "cell_type": "code",
   "execution_count": 33,
   "metadata": {},
   "outputs": [
    {
     "name": "stdout",
     "output_type": "stream",
     "text": [
      "[1, 2, 34, 6, 7, 10]\n"
     ]
    }
   ],
   "source": [
    "#Write a program to remove the repetitive values from list\n",
    "num=[1,2,34,2,6,7,7,10,2,1]\n",
    "s1=set(num)\n",
    "l=list(s1)\n",
    "print(l)"
   ]
  },
  {
   "cell_type": "code",
   "execution_count": 4,
   "metadata": {},
   "outputs": [
    {
     "data": {
      "text/plain": [
       "200.96"
      ]
     },
     "execution_count": 4,
     "metadata": {},
     "output_type": "execute_result"
    }
   ],
   "source": [
    "def area(n):\n",
    "    a=n*n*3.14\n",
    "    return a\n",
    "area(8)\n"
   ]
  },
  {
   "attachments": {},
   "cell_type": "markdown",
   "metadata": {},
   "source": [
    "### Type of argument\n",
    "1. Required Positional argument\n",
    "2. Default argument\n",
    "3. Key-value pair of arguments\n",
    "4. Variable length arguments\n"
   ]
  },
  {
   "cell_type": "code",
   "execution_count": 1,
   "metadata": {},
   "outputs": [
    {
     "name": "stdout",
     "output_type": "stream",
     "text": [
      "22\n"
     ]
    }
   ],
   "source": [
    "#Positional argument\n",
    "def add(a,b):\n",
    "    sum=a+b\n",
    "    print(sum)\n",
    "add(10,12)"
   ]
  },
  {
   "cell_type": "code",
   "execution_count": 5,
   "metadata": {},
   "outputs": [
    {
     "name": "stdout",
     "output_type": "stream",
     "text": [
      "5\n",
      "15\n"
     ]
    }
   ],
   "source": [
    "#Default Argument\n",
    "\n",
    "def add(a=7,b=8):\n",
    "    sum=a+b\n",
    "    print(sum)\n",
    "add(2,3)\n",
    "add()\n"
   ]
  },
  {
   "cell_type": "code",
   "execution_count": 6,
   "metadata": {},
   "outputs": [
    {
     "name": "stdout",
     "output_type": "stream",
     "text": [
      "First name: Rashmi \n",
      " Last name: Rane\n"
     ]
    }
   ],
   "source": [
    "#Keyword Argument\n",
    "def display(fname,lname):\n",
    "    print(\"First name:\",fname,\"\\n\",\"Last name:\",lname)\n",
    "display(lname='Rane',fname='Rashmi')"
   ]
  },
  {
   "cell_type": "code",
   "execution_count": 8,
   "metadata": {},
   "outputs": [
    {
     "name": "stdout",
     "output_type": "stream",
     "text": [
      "Addition: 27\n",
      "Addition: 3\n"
     ]
    }
   ],
   "source": [
    "#variable length\n",
    "def find_sum(*num):\n",
    "    result=0\n",
    "    for i in num:\n",
    "        result=result+i\n",
    "    print(\"Addition:\", result)\n",
    "find_sum(4,9,6,8)\n",
    "find_sum(1,2)"
   ]
  },
  {
   "attachments": {},
   "cell_type": "markdown",
   "metadata": {},
   "source": [
    "### Built-in functions\n",
    "#### lambda"
   ]
  },
  {
   "cell_type": "code",
   "execution_count": 11,
   "metadata": {},
   "outputs": [
    {
     "name": "stdout",
     "output_type": "stream",
     "text": [
      "ECNEICS ATAD\n"
     ]
    }
   ],
   "source": [
    "#Lambda function\n",
    "\n",
    "str1=\"data science\"\n",
    "rev_str=lambda str:str.upper()[::-1]\n",
    "print(rev_str(str1))"
   ]
  },
  {
   "cell_type": "code",
   "execution_count": 12,
   "metadata": {},
   "outputs": [
    {
     "name": "stdout",
     "output_type": "stream",
     "text": [
      "9\n"
     ]
    }
   ],
   "source": [
    "max=lambda a,b:a if(a>b) else b\n",
    "print(max(3,9))"
   ]
  },
  {
   "cell_type": "code",
   "execution_count": 23,
   "metadata": {},
   "outputs": [
    {
     "name": "stdout",
     "output_type": "stream",
     "text": [
      "9\n"
     ]
    }
   ],
   "source": [
    "max=lambda a,b,c:a if(a>b)and(a>c) else b if(b>a)and(b>c) else c   \n",
    "print(max(3,6,9))"
   ]
  },
  {
   "cell_type": "code",
   "execution_count": 3,
   "metadata": {},
   "outputs": [
    {
     "name": "stdout",
     "output_type": "stream",
     "text": [
      "[1, 2, 'data', 2, 20]\n",
      "20\n"
     ]
    }
   ],
   "source": [
    "#Program to find maximum value from heterogeneous list\n",
    "def max_val(list_val):\n",
    "    max_val=max(list_val,key=lambda i:(isinstance(i,int),i))\n",
    "    return (max_val)\n",
    "list_val=[1,2,'data',2,20]\n",
    "print(list_val)\n",
    "print(max_val(list_val))\n"
   ]
  },
  {
   "attachments": {},
   "cell_type": "markdown",
   "metadata": {},
   "source": [
    "#### Filter function"
   ]
  },
  {
   "cell_type": "code",
   "execution_count": 3,
   "metadata": {},
   "outputs": [
    {
     "name": "stdout",
     "output_type": "stream",
     "text": [
      "['Delhi', 'Mumbai', 'Jaipur', 'Jammu']\n"
     ]
    }
   ],
   "source": [
    "cities=[\"Delhi\",\"\",\"Mumbai\",\"\",\"Jaipur\",\"\",\"\",\"Jammu\"]\n",
    "x=list(filter(None,cities))\n",
    "print(x)\n"
   ]
  },
  {
   "cell_type": "code",
   "execution_count": 9,
   "metadata": {},
   "outputs": [
    {
     "name": "stdout",
     "output_type": "stream",
     "text": [
      "(18, 24, 34)\n"
     ]
    }
   ],
   "source": [
    "age=[5,12,18,24,34]\n",
    "# def myage(x):\n",
    "#     if x>=18:\n",
    "#         return True\n",
    "#     else:\n",
    "#         return False \n",
    "driving_wale=tuple(filter(lambda x:x>=18,age ))\n",
    "print(driving_wale)"
   ]
  },
  {
   "cell_type": "code",
   "execution_count": 10,
   "metadata": {},
   "outputs": [
    {
     "name": "stdout",
     "output_type": "stream",
     "text": [
      "(6, 8, 9)\n"
     ]
    }
   ],
   "source": [
    "def filterdata(x):\n",
    "    if x>5:\n",
    "        return x\n",
    "res=filter(filterdata,(1,2,5,6,3,8,9))\n",
    "print(tuple(res))"
   ]
  },
  {
   "cell_type": "code",
   "execution_count": 12,
   "metadata": {},
   "outputs": [
    {
     "name": "stdout",
     "output_type": "stream",
     "text": [
      "[1, 6] \n",
      " [1, True]\n"
     ]
    }
   ],
   "source": [
    "res1=filter(None,(1,0,6))\n",
    "res2=filter(None,(1,0,True,False))\n",
    "print(list(res1),\"\\n\",list(res2))"
   ]
  },
  {
   "cell_type": "code",
   "execution_count": 15,
   "metadata": {},
   "outputs": [
    {
     "name": "stdout",
     "output_type": "stream",
     "text": [
      "(3, 9, 6, 12, 15)\n"
     ]
    }
   ],
   "source": [
    "#Only function can pass in filter no conditions filter(func,iterable datatype)\n",
    "\n",
    "t1=(3,5,8,9,6,12,15)\n",
    "t2=filter(lambda x:x%3==0,t1)\n",
    "print(tuple(t2))"
   ]
  },
  {
   "cell_type": "code",
   "execution_count": 19,
   "metadata": {},
   "outputs": [
    {
     "name": "stdout",
     "output_type": "stream",
     "text": [
      "[2, 4, 20, 22, 40, 42]\n"
     ]
    }
   ],
   "source": [
    "num=[2,4,3,11,19,20,22,40,65,42]\n",
    "t2=filter(lambda x:x%2==0,num)\n",
    "print(list(t2))"
   ]
  },
  {
   "attachments": {},
   "cell_type": "markdown",
   "metadata": {},
   "source": [
    "### Map Function\n",
    "\n",
    "Only function can pass in map no conditions map(func,iterable datatype)"
   ]
  },
  {
   "cell_type": "code",
   "execution_count": 24,
   "metadata": {},
   "outputs": [
    {
     "name": "stdout",
     "output_type": "stream",
     "text": [
      "[576, 1089, 2500]\n"
     ]
    }
   ],
   "source": [
    "age=[5,12,17,24,33,50]\n",
    "\n",
    "# def myfunc(x):\n",
    "#     if x<=18:\n",
    "#         return False\n",
    "#     else:\n",
    "#         return True\n",
    "# def myfunc1(x):\n",
    "#     return x*x\n",
    "\n",
    "emp=filter(lambda x: x>=18,age)\n",
    "squares=list(map(lambda x:x*x,emp))\n",
    "print(squares)"
   ]
  },
  {
   "cell_type": "code",
   "execution_count": 30,
   "metadata": {},
   "outputs": [
    {
     "name": "stdout",
     "output_type": "stream",
     "text": [
      "[576, 1089, 2500]\n"
     ]
    }
   ],
   "source": [
    "print(list(map(lambda x:x*x,list(filter(lambda x: x>=18,age)))))"
   ]
  },
  {
   "cell_type": "code",
   "execution_count": 32,
   "metadata": {},
   "outputs": [
    {
     "name": "stdout",
     "output_type": "stream",
     "text": [
      "[12.56, 28.26, 50.24, 78.5]\n"
     ]
    }
   ],
   "source": [
    "print(list(map(lambda x:x*x*3.14,[2,3,4,5])))"
   ]
  },
  {
   "attachments": {},
   "cell_type": "markdown",
   "metadata": {},
   "source": [
    "### Zip function\n",
    "Zip function is used to combine or join data from different data sets"
   ]
  },
  {
   "cell_type": "code",
   "execution_count": 36,
   "metadata": {},
   "outputs": [
    {
     "name": "stdout",
     "output_type": "stream",
     "text": [
      "[(1, 'a'), (2, 'b'), (3, 'c'), (4, 'd')]\n"
     ]
    }
   ],
   "source": [
    "x=[1,2,3,4]\n",
    "y=[\"a\",\"b\",\"c\",\"d\"]\n",
    "i=list(zip(x,y))\n",
    "print(i)\n",
    "# for i,j in zip(x,y):\n",
    "#     print(i,j)"
   ]
  },
  {
   "cell_type": "code",
   "execution_count": 38,
   "metadata": {},
   "outputs": [
    {
     "name": "stdout",
     "output_type": "stream",
     "text": [
      "{1: 'a', 2: 'b', 3: 'c', 4: 'd'}\n"
     ]
    }
   ],
   "source": [
    "x=[1,2,3,4,5,7,9]\n",
    "y=[\"a\",\"b\",\"c\",\"d\"]\n",
    "i=dict(zip(x,y))\n",
    "print(i)"
   ]
  },
  {
   "cell_type": "code",
   "execution_count": 39,
   "metadata": {},
   "outputs": [
    {
     "name": "stdout",
     "output_type": "stream",
     "text": [
      "{'reliance': 2175, 'infosys': 1127, 'TCS': 2750}\n"
     ]
    }
   ],
   "source": [
    "stock=[\"reliance\",\"infosys\",\"TCS\"]\n",
    "price=[2175,1127,2750]\n",
    "new_dict={stock:price for stock,price in zip(stock,price)}\n",
    "print(new_dict)"
   ]
  },
  {
   "cell_type": "code",
   "execution_count": 1,
   "metadata": {},
   "outputs": [
    {
     "name": "stdout",
     "output_type": "stream",
     "text": [
      "Player:Sachin   Score:100\n",
      "Player:Sehwag   Score:75\n",
      "Player:Rohit   Score:100\n",
      "Player:Raina   Score:80\n"
     ]
    }
   ],
   "source": [
    "players=[\"Sachin\",\"Sehwag\",\"Rohit\",\"Raina\"]\n",
    "scores=[100,75,100,80]\n",
    "for p,sc in zip(players,scores):\n",
    "    print(\"Player:%s   Score:%d\"%(p,sc))"
   ]
  },
  {
   "attachments": {},
   "cell_type": "markdown",
   "metadata": {},
   "source": [
    "### Reduce Function"
   ]
  },
  {
   "cell_type": "code",
   "execution_count": 2,
   "metadata": {},
   "outputs": [
    {
     "name": "stdout",
     "output_type": "stream",
     "text": [
      "24\n"
     ]
    }
   ],
   "source": [
    "import functools\n",
    "\n",
    "\n",
    "num=[1,2,3,5,6,7]\n",
    "print(functools.reduce(lambda a,b:a+b,num))"
   ]
  },
  {
   "cell_type": "code",
   "execution_count": 8,
   "metadata": {},
   "outputs": [
    {
     "name": "stdout",
     "output_type": "stream",
     "text": [
      "7\n",
      "7\n"
     ]
    }
   ],
   "source": [
    "num=[1,2,3,5,6,7]\n",
    "print(functools.reduce(lambda a,b:a if a>b else b,num))\n",
    "print(functools.reduce(lambda a,b:max(a,b),num))"
   ]
  },
  {
   "cell_type": "code",
   "execution_count": 19,
   "metadata": {},
   "outputs": [
    {
     "name": "stdout",
     "output_type": "stream",
     "text": [
      "The sum of the numbers in list 41\n",
      "5040\n",
      "Today is Wednesday\n",
      "-39\n",
      "1\n",
      "(<built-in function add>, [1, 4, 7, 9, 20])\n"
     ]
    }
   ],
   "source": [
    "#reduce function with operator function\n",
    "import operator\n",
    "num1=[1,4,7,9,20]\n",
    "print(\"The sum of the numbers in list\",end=\" \")\n",
    "\n",
    "print(functools.reduce(operator.add,num1))\n",
    "print(functools.reduce(operator.mul,num1))\n",
    "print(functools.reduce(operator.concat,[\"Today \",\"is \",\"Wednesday\"]))\n",
    "print(functools.reduce(operator.sub,num1))\n",
    "print(functools.reduce(operator.mod,num))\n"
   ]
  },
  {
   "cell_type": "code",
   "execution_count": 26,
   "metadata": {},
   "outputs": [
    {
     "name": "stdout",
     "output_type": "stream",
     "text": [
      "Python\n"
     ]
    }
   ],
   "source": [
    "name=\"python\"\n",
    "n1=name.upper()\n",
    "print(n1[0]+name[1:])"
   ]
  },
  {
   "cell_type": "code",
   "execution_count": 40,
   "metadata": {},
   "outputs": [
    {
     "name": "stdout",
     "output_type": "stream",
     "text": [
      "This Is Pyhton Module "
     ]
    }
   ],
   "source": [
    "s=\"this is pyhton module\"\n",
    "list1=s.split()\n",
    "for i in list1:\n",
    "    z=i[0].upper()+i[1:]\n",
    "    print(z,end=\" \")\n",
    "\n",
    "\n",
    "\n"
   ]
  },
  {
   "attachments": {},
   "cell_type": "markdown",
   "metadata": {},
   "source": [
    "### CLASSESS OOP "
   ]
  },
  {
   "cell_type": "code",
   "execution_count": 7,
   "metadata": {},
   "outputs": [
    {
     "name": "stdout",
     "output_type": "stream",
     "text": [
      "I am  Dhanesh\n",
      "My department is  IT\n",
      "I am  Dhanesh\n",
      "My department is  IT\n"
     ]
    }
   ],
   "source": [
    "class Employee:\n",
    "    ename=\"Dhanesh\"\n",
    "    dept=\"IT\"\n",
    "    \n",
    "    def emp_info(self):\n",
    "        print(\"I am \",self.ename)\n",
    "        print(\"My department is \",self.dept)\n",
    "e1=Employee() # object creation\n",
    "e1.emp_info()\n",
    "# Employee.emp_info(self=e1)\n"
   ]
  },
  {
   "cell_type": "code",
   "execution_count": 10,
   "metadata": {},
   "outputs": [
    {
     "name": "stdout",
     "output_type": "stream",
     "text": [
      "Enter two number:\n",
      "10\n",
      " addtion of two number \n"
     ]
    }
   ],
   "source": [
    "class calc:\n",
    "    def add(self,a,b):\n",
    "        ''' addtion of two number '''\n",
    "        return a+b\n",
    "print(\"Enter two number:\")\n",
    "first=int(input())\n",
    "second=int(input())\n",
    "c1=calc()\n",
    "res=c1.add(first,second)\n",
    "print(res)\n",
    "print(c1.add.__doc__)"
   ]
  },
  {
   "cell_type": "code",
   "execution_count": 11,
   "metadata": {},
   "outputs": [
    {
     "name": "stdout",
     "output_type": "stream",
     "text": [
      "Enter two number:\n",
      "14 \n",
      " -4 \n",
      " 45\n",
      " addtion of two number \n"
     ]
    }
   ],
   "source": [
    "class calc:\n",
    "    def add(self,a,b):\n",
    "        ''' addtion of two number '''\n",
    "        return a+b\n",
    "    def sub(self,a,b):\n",
    "        '''subtraction of two number '''\n",
    "        return a-b\n",
    "    def mul(self,a,b):\n",
    "        '''multiply two number '''\n",
    "        return a*b\n",
    "print(\"Enter two number:\")\n",
    "first=int(input())\n",
    "second=int(input())\n",
    "c1=calc()\n",
    "res=c1.add(first,second)\n",
    "res1=c1.sub(first,second)\n",
    "res2=c1.mul(first,second)\n",
    "print(res,\"\\n\",res1,\"\\n\",res2)\n",
    "print(c1.add.__doc__)"
   ]
  },
  {
   "cell_type": "code",
   "execution_count": 15,
   "metadata": {},
   "outputs": [
    {
     "name": "stdout",
     "output_type": "stream",
     "text": [
      "Dhanesh \n",
      " 45\n",
      "Rahul \n",
      " 89\n",
      "Dfsf \n",
      " 456\n"
     ]
    }
   ],
   "source": [
    "class Student:\n",
    "    def __init__(self):\n",
    "        self.sname=input(\"Enter the name of student\")\n",
    "        self.rollno=int(input(\"Enter roll no\"))\n",
    "        self.display()\n",
    "    def display(self):\n",
    "        print(self.sname,\"\\n\",self.rollno)\n",
    "s1=Student()\n",
    "s2=Student()\n",
    "s3=Student()\n",
    "\n"
   ]
  },
  {
   "cell_type": "code",
   "execution_count": 4,
   "metadata": {},
   "outputs": [
    {
     "name": "stdout",
     "output_type": "stream",
     "text": [
      "This is parent class\n",
      "This is child class\n"
     ]
    }
   ],
   "source": [
    "# Single Inheritance\n",
    "class parents: \n",
    "    def info(self):\n",
    "        print(\"This is parent class\")\n",
    "class child (parents):\n",
    "    def child_info(self):\n",
    "        print(\"This is child class\")\n",
    "s1=child()\n",
    "s1.info()\n",
    "s1.child_info()\n",
    "\n",
    "        "
   ]
  },
  {
   "cell_type": "code",
   "execution_count": 12,
   "metadata": {},
   "outputs": [
    {
     "name": "stdout",
     "output_type": "stream",
     "text": [
      "The area is :  45\n"
     ]
    }
   ],
   "source": [
    "class parents: \n",
    "    def info(self):\n",
    "        self.l=int(input())\n",
    "        self.b=int(input())\n",
    "class child (parents):\n",
    "    def child_info(self):\n",
    "        a=self.l*self.b\n",
    "        print(\"The area is : \",a)\n",
    "       \n",
    "s1=child()\n",
    "s1.info()\n",
    "s1.child_info()\n"
   ]
  },
  {
   "cell_type": "code",
   "execution_count": 13,
   "metadata": {},
   "outputs": [
    {
     "name": "stdout",
     "output_type": "stream",
     "text": [
      "Area of rectangle:  45\n"
     ]
    }
   ],
   "source": [
    "class rectangle:\n",
    "    def __init__(self,le,br):\n",
    "        self.le = le\n",
    "        self.br = br\n",
    "class area(rectangle):\n",
    "    def area(self):\n",
    "        rect_area=le*br\n",
    "        return rect_area\n",
    "le=int(input(\"Enter the Length: \"))\n",
    "br=int(input(\"Enter the breadth: \"))\n",
    "a1=area(le,br)\n",
    "print(\"Area of rectangle: \",a1.area())"
   ]
  },
  {
   "cell_type": "code",
   "execution_count": 21,
   "metadata": {},
   "outputs": [
    {
     "name": "stdout",
     "output_type": "stream",
     "text": [
      "black\n",
      "black-brown\n",
      "straight\n",
      "I am child class\n",
      "I am mother class\n",
      "I am father class\n"
     ]
    }
   ],
   "source": [
    "# Multiple Inheritance\n",
    "class father:\n",
    "    eyes=\"black\"\n",
    "    def dad_info(self):\n",
    "        return \"I am father class\"\n",
    "    \n",
    "class mother:\n",
    "    eyes=\"brown\"\n",
    "    hair=\"black-brown\"\n",
    "    nose=\"straight\"\n",
    "\n",
    "    def mother_info(self):\n",
    "        return \"I am mother class\"\n",
    "class child(father,mother):\n",
    "    def info(self):\n",
    "        return \"I am child class\"\n",
    "    \n",
    "c1=child()\n",
    "print(c1.eyes)\n",
    "print(c1.hair)\n",
    "print(c1.nose)\n",
    "print(c1.info())\n",
    "print(c1.mother_info())\n",
    "print(c1.dad_info())"
   ]
  },
  {
   "cell_type": "code",
   "execution_count": 3,
   "metadata": {},
   "outputs": [
    {
     "name": "stdout",
     "output_type": "stream",
     "text": [
      "Dhanesh is having 60000 and living in Dombivli\n",
      "Income 390000.0\n"
     ]
    }
   ],
   "source": [
    "#Multilevel Inheritance\n",
    "class Emp:\n",
    "    name = \"Dhanesh\"\n",
    "    sal=60000\n",
    "    city='Dombivli'\n",
    "\n",
    "    def info(self):\n",
    "        print(f\"{self.name} is having {self.sal} and living in {self.city}\")\n",
    "class Edu_tax_info(Emp):\n",
    "    deg='MCA'\n",
    "    grade='A+'\n",
    "    tax=6.5\n",
    "class sal_calc(Edu_tax_info):\n",
    "    def annual_inc(self):\n",
    "        tot_sal = self.sal*self.tax\n",
    "        return tot_sal\n",
    "s1=sal_calc()\n",
    "s1.info()\n",
    "print(\"Income\",s1.annual_inc())"
   ]
  },
  {
   "cell_type": "code",
   "execution_count": 14,
   "metadata": {},
   "outputs": [
    {
     "name": "stdout",
     "output_type": "stream",
     "text": [
      "25 \n",
      " 78.5\n"
     ]
    }
   ],
   "source": [
    "class circle:\n",
    "    r=int(input(\"Enter the radius\"))\n",
    "class rectangle:\n",
    "    l=int(input(\"Enter the length of the rectangle\"))\n",
    "    b=int(input(\"Enter the breadth of the rectangle\"))\n",
    "class area(circle,rectangle):\n",
    "    def whole(self):\n",
    "        area1=self.l*self.b\n",
    "        area2=self.r*self.r*3.14\n",
    "        return print(area1,\"\\n\",area2)\n",
    "a1=area()\n",
    "a1.whole()"
   ]
  },
  {
   "cell_type": "code",
   "execution_count": 15,
   "metadata": {},
   "outputs": [
    {
     "name": "stdout",
     "output_type": "stream",
     "text": [
      "The Addition is 14\n",
      "The Multiplication is 45\n"
     ]
    }
   ],
   "source": [
    "# Hierarchical Inheritance\n",
    "class A: \n",
    "    num1=int(input())\n",
    "    num2=int(input())\n",
    "class B(A):\n",
    "    def mult(self):\n",
    "        mult1=self.num1*self.num2\n",
    "        return mult1\n",
    "class C(A):\n",
    "    def add(self):\n",
    "        add1=self.num1+self.num2\n",
    "        return add1\n",
    "c1=C()\n",
    "b1=B()\n",
    "print(f\"The Addition is {c1.add()}\")\n",
    "print(f\"The Multiplication is {b1.mult()}\")"
   ]
  },
  {
   "cell_type": "code",
   "execution_count": 18,
   "metadata": {},
   "outputs": [
    {
     "name": "stdout",
     "output_type": "stream",
     "text": [
      "I am parent\n",
      "back in my days\n",
      "I am child\n"
     ]
    }
   ],
   "source": [
    "# Super() Function\n",
    "class parent:\n",
    "    def __init__(self):\n",
    "        self.p_attri=\"I am parent\"\n",
    "    def p_method(self):\n",
    "        print(\"back in my days\")\n",
    "class child(parent):\n",
    "    def __init__(self):\n",
    "        super().__init__()\n",
    "        self.c_attri=\"I am child\"\n",
    "c1=child()\n",
    "print(c1.p_attri)\n",
    "c1.p_method()\n",
    "print(c1.c_attri)\n"
   ]
  },
  {
   "attachments": {},
   "cell_type": "markdown",
   "metadata": {},
   "source": [
    "### Operator Overloading"
   ]
  },
  {
   "cell_type": "code",
   "execution_count": 5,
   "metadata": {},
   "outputs": [
    {
     "name": "stdout",
     "output_type": "stream",
     "text": [
      "3 \n",
      " DataScience\n"
     ]
    }
   ],
   "source": [
    "class A:\n",
    "    def __init__(self,a):\n",
    "        self.a=a\n",
    "    def __add__(self,other):\n",
    "        return self.a+other.a\n",
    "a1=A(1)\n",
    "a2=A(2)\n",
    "a3=\"Data\"\n",
    "a4=\"Science\"\n",
    "print(a1+a2,\"\\n\",a3+a4) "
   ]
  },
  {
   "cell_type": "code",
   "execution_count": 7,
   "metadata": {},
   "outputs": [
    {
     "name": "stdout",
     "output_type": "stream",
     "text": [
      "(9, 5)\n"
     ]
    }
   ],
   "source": [
    "class Numbers: \n",
    "    def __init__(self,a,b):\n",
    "        self.a = a\n",
    "        self.b = b\n",
    "    def __add__(self,o):\n",
    "        return self.a+o.a,self.b+o.b\n",
    "n1=Numbers(1,2)\n",
    "n2=Numbers(8,3)\n",
    "\n",
    "res=n1+n2\n",
    "print(res)"
   ]
  },
  {
   "cell_type": "code",
   "execution_count": 8,
   "metadata": {},
   "outputs": [
    {
     "name": "stdout",
     "output_type": "stream",
     "text": [
      "C2 is greater\n"
     ]
    }
   ],
   "source": [
    "class check:\n",
    "    def __init__(self,x):\n",
    "        self.x=x\n",
    "    def __gt__(s,o):\n",
    "        if (s.x>o.x):\n",
    "            return True\n",
    "        else:\n",
    "            return False\n",
    "c1=check(10)\n",
    "c2=check(20)\n",
    "if (c1>c2):\n",
    "    print(\"C1 is greater\")\n",
    "else:\n",
    "    print(\"C2 is greater\")"
   ]
  },
  {
   "cell_type": "code",
   "execution_count": 9,
   "metadata": {},
   "outputs": [
    {
     "name": "stdout",
     "output_type": "stream",
     "text": [
      "The Zen of Python, by Tim Peters\n",
      "\n",
      "Beautiful is better than ugly.\n",
      "Explicit is better than implicit.\n",
      "Simple is better than complex.\n",
      "Complex is better than complicated.\n",
      "Flat is better than nested.\n",
      "Sparse is better than dense.\n",
      "Readability counts.\n",
      "Special cases aren't special enough to break the rules.\n",
      "Although practicality beats purity.\n",
      "Errors should never pass silently.\n",
      "Unless explicitly silenced.\n",
      "In the face of ambiguity, refuse the temptation to guess.\n",
      "There should be one-- and preferably only one --obvious way to do it.\n",
      "Although that way may not be obvious at first unless you're Dutch.\n",
      "Now is better than never.\n",
      "Although never is often better than *right* now.\n",
      "If the implementation is hard to explain, it's a bad idea.\n",
      "If the implementation is easy to explain, it may be a good idea.\n",
      "Namespaces are one honking great idea -- let's do more of those!\n",
      "{'A': 'N', 'B': 'O', 'C': 'P', 'D': 'Q', 'E': 'R', 'F': 'S', 'G': 'T', 'H': 'U', 'I': 'V', 'J': 'W', 'K': 'X', 'L': 'Y', 'M': 'Z', 'N': 'A', 'O': 'B', 'P': 'C', 'Q': 'D', 'R': 'E', 'S': 'F', 'T': 'G', 'U': 'H', 'V': 'I', 'W': 'J', 'X': 'K', 'Y': 'L', 'Z': 'M', 'a': 'n', 'b': 'o', 'c': 'p', 'd': 'q', 'e': 'r', 'f': 's', 'g': 't', 'h': 'u', 'i': 'v', 'j': 'w', 'k': 'x', 'l': 'y', 'm': 'z', 'n': 'a', 'o': 'b', 'p': 'c', 'q': 'd', 'r': 'e', 's': 'f', 't': 'g', 'u': 'h', 'v': 'i', 'w': 'j', 'x': 'k', 'y': 'l', 'z': 'm'}\n"
     ]
    }
   ],
   "source": [
    "import this\n",
    "print(this.d)"
   ]
  },
  {
   "cell_type": "code",
   "execution_count": 24,
   "metadata": {},
   "outputs": [],
   "source": [
    "# file handling\n",
    "file=open(\"demo.txt\", \"w\")\n",
    "file.write(\"\"\"The Zen of Python, by Tim Peters\n",
    "\n",
    "Beautiful is better than ugly.\n",
    "Explicit is better than implicit.\n",
    "Simple is better than complex.\n",
    "Complex is better than complicated.\n",
    "Flat is better than nested.\n",
    "Sparse is better than dense.\n",
    "Readability counts.\n",
    "Special cases aren't special enough to break the rules.\n",
    "Although practicality beats purity.\n",
    "Errors should never pass silently.\n",
    "Unless explicitly silenced.\n",
    "In the face of ambiguity, refuse the temptation to guess.\n",
    "There should be one-- and preferably only one --obvious way to do it.\n",
    "Although that way may not be obvious at first unless you're Dutch.\n",
    "Now is better than never.\n",
    "Although never is often better than *right* now.\n",
    "If the implementation is hard to explain, it's a bad idea.\n",
    "If the implementation is easy to explain, it may be a good idea.\n",
    "Namespaces are one honking great idea -- let's do more of those!\"\"\")\n",
    "file.close()"
   ]
  },
  {
   "cell_type": "code",
   "execution_count": 43,
   "metadata": {},
   "outputs": [
    {
     "name": "stdout",
     "output_type": "stream",
     "text": [
      "This is python lang\n",
      "This is a data science\n",
      "Today's topic is File Handling\n"
     ]
    }
   ],
   "source": [
    "import shutil\n",
    "file=open(\"demo1.txt\",\"w\")\n",
    "file.write(\"This is python lang\\n\")\n",
    "file=open(\"demo1.txt\",\"a\")\n",
    "file.write(\"This is a data science\\nToday's topic is File Handling\")\n",
    "file=open(\"demo1.txt\",\"r\")\n",
    "w=file.read()\n",
    "print(w)\n",
    "file.close()\n",
    "# shutil.copy(\"demo1.txt\",\"test.txt\")"
   ]
  },
  {
   "attachments": {},
   "cell_type": "markdown",
   "metadata": {},
   "source": [
    "### Regular Expression\n",
    "\n",
    "**import re**"
   ]
  },
  {
   "cell_type": "code",
   "execution_count": 2,
   "metadata": {},
   "outputs": [
    {
     "name": "stdout",
     "output_type": "stream",
     "text": [
      "business \n",
      " helps\n"
     ]
    }
   ],
   "source": [
    "import re\n",
    "s1=\"Data science is the study of data to extract meaningful insights for business. It is a multidisciplinary approach that combines principles and practices from the fields of mathematics, statistics, artificial intelligence, and computer engineering to analyze large amounts of data. This analysis helps data scientists to ask and answer questions like what happened, why it happened, what will happen, and what can be done with the results.\"\n",
    "# re.search()\n",
    "pattern=\"business\"\n",
    "m1=re.search(pattern,s1)\n",
    "m2=re.search(\"helps\",s1)\n",
    "print(m1.group(),\"\\n\",m2.group())"
   ]
  },
  {
   "cell_type": "code",
   "execution_count": 3,
   "metadata": {},
   "outputs": [
    {
     "name": "stdout",
     "output_type": "stream",
     "text": [
      "None\n",
      "Data science\n"
     ]
    }
   ],
   "source": [
    "#re.match()\n",
    "m1=re.match(\"business\",s1)\n",
    "print(m1)\n",
    "m2=re.match(\"Data science\",s1)\n",
    "print(m2.group())"
   ]
  },
  {
   "cell_type": "code",
   "execution_count": 4,
   "metadata": {},
   "outputs": [
    {
     "name": "stdout",
     "output_type": "stream",
     "text": [
      "<re.Match object; span=(0, 6), match='python'> \n",
      " <re.Match object; span=(14, 21), match='tableau'>\n"
     ]
    }
   ],
   "source": [
    "s2=\"python python tableau\"\n",
    "p1=\"python\"\n",
    "p2=\"tableau\"\n",
    "m1=re.search(p1,s2)\n",
    "m2=re.search(p2,s2)\n",
    "print(m1,\"\\n\",m2)"
   ]
  },
  {
   "cell_type": "code",
   "execution_count": 5,
   "metadata": {},
   "outputs": [
    {
     "name": "stdout",
     "output_type": "stream",
     "text": [
      "<re.Match object; span=(0, 6), match='python'> \n",
      " None\n"
     ]
    }
   ],
   "source": [
    "m1=re.match(p1,s2)\n",
    "m2=re.match(p2,s2)\n",
    "print(m1,\"\\n\",m2)"
   ]
  },
  {
   "cell_type": "code",
   "execution_count": 6,
   "metadata": {},
   "outputs": [
    {
     "name": "stdout",
     "output_type": "stream",
     "text": [
      "['python', 'python']\n"
     ]
    }
   ],
   "source": [
    "#re.findall()\n",
    "m1=re.findall(p1,s2)\n",
    "print(m1)"
   ]
  },
  {
   "cell_type": "code",
   "execution_count": 7,
   "metadata": {},
   "outputs": [
    {
     "name": "stdout",
     "output_type": "stream",
     "text": [
      "['12']\n"
     ]
    }
   ],
   "source": [
    "s3=\"My roll no is 12\"\n",
    "# p1=\"\\d\"\n",
    "m1=re.findall(\"\\d\\d\",s3)\n",
    "print(m1)"
   ]
  },
  {
   "cell_type": "code",
   "execution_count": 8,
   "metadata": {},
   "outputs": [
    {
     "name": "stdout",
     "output_type": "stream",
     "text": [
      "['250', '120']\n"
     ]
    }
   ],
   "source": [
    "s4=\"Product prices are 10 20 30 250 120 10\"\n",
    "p1=\"\\d\\d\\d\" or \"\\d\\d\"\n",
    "m4=re.findall(p1,s4)\n",
    "print(m4)"
   ]
  },
  {
   "cell_type": "code",
   "execution_count": 9,
   "metadata": {},
   "outputs": [
    {
     "name": "stdout",
     "output_type": "stream",
     "text": [
      "['Dhanesh', 'My']\n"
     ]
    }
   ],
   "source": [
    "s5=\"my name is Dhanesh and My roll no is 12\"\n",
    "p1=\"[A-Z][a-z]*\"\n",
    "m5=re.findall(p1,s5)\n",
    "print(m5)"
   ]
  },
  {
   "cell_type": "code",
   "execution_count": 10,
   "metadata": {},
   "outputs": [
    {
     "name": "stdout",
     "output_type": "stream",
     "text": [
      "['9876543210', '1234567890', '1593574862']\n"
     ]
    }
   ],
   "source": [
    "s6=\"9876543210 1234567890 1593574862\"\n",
    "p1=\"\\d{10}\"\n",
    "m1=re.findall(p1,s6)\n",
    "print(m1)"
   ]
  },
  {
   "cell_type": "code",
   "execution_count": 11,
   "metadata": {},
   "outputs": [
    {
     "name": "stdout",
     "output_type": "stream",
     "text": [
      "['234 567-8763', '234-567-8763']\n"
     ]
    }
   ],
   "source": [
    "text=\"today is Apr 18,2023 and tomorrow call me at 234 567-8763 or 234-567-8763\"\n",
    "p1=\"\\d{3}-\\d{3}-\\d{4}\"\n",
    "p2=\"\\d{3}[\\s-]\\d{3}-\\d{4}\"\n",
    "m6=re.findall(p2,text)\n",
    "print(m6)"
   ]
  },
  {
   "cell_type": "code",
   "execution_count": 12,
   "metadata": {},
   "outputs": [
    {
     "name": "stdout",
     "output_type": "stream",
     "text": [
      "['+91 8765432805', '+1 (823)-654-9876']\n"
     ]
    }
   ],
   "source": [
    "msg=\"Available number are +91 8765432805 and +1 (823)-654-9876\"\n",
    "p1=\"\\+\\d{2}\\s\\d{10}|\\+\\d{1}\\s[(]\\d{3}[)]-\\d{3}-\\d{4}\"\n",
    "m6=re.findall(p1,msg)\n",
    "print(m6)"
   ]
  },
  {
   "cell_type": "code",
   "execution_count": 49,
   "metadata": {},
   "outputs": [
    {
     "name": "stdout",
     "output_type": "stream",
     "text": [
      "[('05/3/2017', '05', '3', '2017'), ('3/01/2017', '3', '01', '2017')]\n"
     ]
    }
   ],
   "source": [
    "import re\n",
    "text='05/3/2017 3/01/2017 1/6/17 34/11/937 may 21,2017 21st mar 2017'\n",
    "day=r'(0?[0-9]|1?[0-9]|2?[0-9]|3?[01])'\n",
    "month=r'(0?[0-9]|1?[0-2])'\n",
    "year=r\"(19[0-9]{2}|20[0-9]{2})\"\n",
    "sep=r'/'\n",
    "pattern=r\"((0?[0-9]|1?[0-9]|2?[0-9]|3?[01])[/](0?[0-9]|1?[0-2])[/](19[0-9]{2}|20[0-9]{2}))\"\n",
    "m4=re.findall(pattern,text)\n",
    "print(m4)"
   ]
  },
  {
   "cell_type": "code",
   "execution_count": 69,
   "metadata": {},
   "outputs": [
    {
     "name": "stdout",
     "output_type": "stream",
     "text": [
      "Valid Pattern\n"
     ]
    }
   ],
   "source": [
    "n=input()\n",
    "pattern=r'7?[0-9]{9}|8?[0-9]{9}|9?[0-9]{9}'\n",
    "m1=re.fullmatch(pattern,n)\n",
    "# m2=str(m1)\n",
    "# print(m1)\n",
    "if m1!=None:\n",
    "    print(\"Valid Pattern\")\n",
    "else:\n",
    "    print(\"Invalid Pattern.\")"
   ]
  },
  {
   "cell_type": "code",
   "execution_count": 2,
   "metadata": {},
   "outputs": [
    {
     "name": "stdout",
     "output_type": "stream",
     "text": [
      "b'<!DOCTYPE html><html itemscope=\"\" itemtype=\"http://schema.org/Place\" lang=\"en-IN\"> <head> <link href=\"/maps/preview/opensearch.xml?hl=en\" title=\"Google Maps\" rel=\"search\" type=\"application/opensearchdescription+xml\"> <title> Google Maps </title> <meta content=\"Find local businesses, view maps and get driving directions in Google Maps.\" name=\"Description\">  <meta content=\"initial-scale=1.0, maximum-scale=1.0, minimum-scale=1.0, user-scalable=no\" name=\"viewport\"> <meta content=\"chrome=1\" http-equiv=\"X-UA-Compatible\"> <meta content=\"notranslate\" name=\"google\"> <meta content=\"origin\" name=\"referrer\"> <meta content=\"ByHT0GXztW_RcGxS0o86DBf1WtNu02FfqlcT8njnSqU\" name=\"google-site-verification\"> <meta content=\"Diln__r3p9-tt39P2Cl2Amvx6oFB4PATnxuFBaw6ej8\" name=\"google-site-verification\">    <meta content=\"Food town \\xc2\\xb7 6X9H+86P, Thane West, Thane, Maharashtra\" itemprop=\"name\"> <meta content=\"Food town \\xc2\\xb7 6X9H+86P, Thane West, Thane, Maharashtra\" property=\"og:title\">  <meta content=\"https://lh5.googleusercontent.com/p/AF1QipOrv8dqr9nF7jjQ10iYK5i81reY6bKnTzzrjZSb=w256-h256-k-no-p\" itemprop=\"image\"> <meta content=\"https://lh5.googleusercontent.com/p/AF1QipOrv8dqr9nF7jjQ10iYK5i81reY6bKnTzzrjZSb=w256-h256-k-no-p\" property=\"og:image\"> <meta content=\"256\" property=\"og:image:width\"> <meta content=\"256\" property=\"og:image:height\">  <meta content=\"\\xe2\\x98\\x85\\xe2\\x98\\x85\\xe2\\x98\\x85\\xe2\\x98\\x85\\xe2\\x98\\x85 \\xc2\\xb7 Coffee shop\" itemprop=\"description\"> <meta content=\"\\xe2\\x98\\x85\\xe2\\x98\\x85\\xe2\\x98\\x85\\xe2\\x98\\x85\\xe2\\x98\\x85 \\xc2\\xb7 Coffee shop\" property=\"og:description\">  <meta content=\"Food town \\xc2\\xb7 6X9H+86P, Thane West, Thane, Maharashtra\" property=\"og:site_name\"> <meta content=\"summary\" name=\"twitter:card\">      <script nonce=\"JVlk2I4QseOPZ1cPRrLWBw\">(function(){(function(){function c(d){this.t={};this.tick=function(g,e,f){e=void 0!=f?f:(new Date).getTime();this.t[g]=e};this.getStartTickTime=function(){return this.t.start};this.tick(\"start\",null,d)}var b;if(window.performance)var a=(b=window.performance.timing)&&b.responseStart;var h=0<a?new c(a):new c;window.tactilecsi={Timer:c,load:h};b&&(b=b.navigationStart,0<b&&a>=b&&(window.tactilecsi.srt=a-b));try{a=null,window.chrome&&window.chrome.csi&&(a=Math.floor(window.chrome.csi().pageT)),null==a&&window.gtbExternal&&\\n(a=window.gtbExternal.pageT()),null==a&&window.external&&(a=window.external.pageT),a&&(window.tactilecsi.pt=a)}catch(d){}})();}).call(this);</script> <script nonce=\"JVlk2I4QseOPZ1cPRrLWBw\">function tick(t){if (window.tactilecsi){window.tactilecsi.load.tick(t);}\\nif (window[\\'wtf\\']&& window[\\'wtf\\'][\\'trace\\']&&\\nwindow[\\'wtf\\'][\\'trace\\'][\\'timeStamp\\']){window[\\'wtf\\'][\\'trace\\'][\\'timeStamp\\'](\\'application.\\' + t);}\\n}\\n\\ntick(\\'start\\');tick(\\'p0\\');</script> <script nonce=\"JVlk2I4QseOPZ1cPRrLWBw\">(function(){\\'use strict\\';\\nvar b=\"click mousedown rightclick contextmenu keypress wheel\".split(\" \");function c(a){d.data={type:a.type,target:a.target,currentTarget:a.currentTarget,time:Date.now(),beforeAppLoad:!0};(a=d.dispose)&&a()}\\nfunction e(){for(var a=0;a<b.length;a++)document.removeEventListener(b[a],c);delete d.dispose}\\nvar f={},g=[\"globals\",\"fua\"],h=this||self;g[0]in h||\"undefined\"==typeof h.execScript||h.execScript(\"var \"+g[0]);for(var k;g.length&&(k=g.shift());)g.length||void 0===f?h[k]&&h[k]!==Object.prototype[k]?h=h[k]:h=h[k]={}:h[k]=f;var d=globals.fua;d.install=function(){for(var a=0;a<b.length;a++)document.addEventListener(b[a],c);d.dispose=e};}).call(this);</script> <script nonce=\"JVlk2I4QseOPZ1cPRrLWBw\">globals.fua.install();</script> <script nonce=\"JVlk2I4QseOPZ1cPRrLWBw\">(function(){\\n\\'use strict\\';var l=\"function\"==typeof Object.create?Object.create:function(a){var b=function(){};b.prototype=a;return new b},p;if(\"function\"==typeof Object.setPrototypeOf)p=Object.setPrototypeOf;else{var q;a:{var t={a:!0},u={};try{u.__proto__=t;q=u.a;break a}catch(a){}q=!1}p=q?function(a,b){a.__proto__=b;if(a.__proto__!==b)throw new TypeError(a+\" is not extensible\");return a}:null}var v=p,w=function(){for(var a=Number(this),b=[],c=a;c<arguments.length;c++)b[c-a]=arguments[c];return b},x=this||self,y=function(a,b,c){a=a.split(\".\");c=c||x;a[0]in c||\"undefined\"==typeof c.execScript||c.execScript(\"var \"+a[0]);for(var d;a.length&&(d=a.shift());)a.length||void 0===b?c[d]&&c[d]!==Object.prototype[d]?c=c[d]:c=c[d]={}:c[d]=b};function z(a,b){return x.setTimeout(function(){try{a()}catch(c){throw c;}},b)}\\n;var A=/(?:@|\\\\()([^:]*(:\\\\/)?[^:]*(:\\\\d+\\\\/)?[^:]*):/;function B(a,b){var c=0;a.forEach(function(d){c+=d.length});b.forEach(function(d){c+=d.length});return 3*(a.length+b.length)+1.1*c}\\n;var C=function(a,b,c,d){this.o=b;this.g=this.m=a;this.s=c||0;this.u=d||2};C.prototype.j=function(){return this.m};var D=function(a,b,c){C.call(this,a,b);this.v=c;this.l=null;this.h=this.i=0};D.prototype=l(C.prototype);D.prototype.constructor=D;if(v)v(D,C);else for(var E in C)if(\"prototype\"!=E)if(Object.defineProperties){var F=Object.getOwnPropertyDescriptor(C,E);F&&Object.defineProperty(D,E,F)}else D[E]=C[E];var G=function(a){var b=Date.now();if(0===a.h)return a.h=b,!0;var c=b>a.h+a.j();c&&(a.h=b,a.g=Math.min(a.o,a.g*a.u),a.m=Math.min(a.o,a.g+(a.s?Math.round(a.s*(Math.random()-.5)*2*a.g):0)));return c};D.prototype.j=function(){var a=C.prototype.j.call(this);this.l&&x.clearTimeout(this.l);this.l=z(this.v,2*a);return a};var H=function(){this.g={}};H.prototype.get=function(a){return this.g[I(a)]};H.prototype.set=function(a,b){this.g[I(a)]=b};function I(a){if(null===a)return\" \";for(;\":\"===a.charAt(a.length-1);)a=a.slice(0,a.length-1);a=a.split(\":\");return a[a.length-1].trim()}\\n;var K=function(){var a=\"undefined\"===typeof DEV_MODE?!1:DEV_MODE,b=\"undefined\"===typeof LOGGING_ENDPOINT?\"/maps/preview/log204\":LOGGING_ENDPOINT,c=\"undefined\"===typeof JS_VERSION?null:JS_VERSION,d=\"undefined\"===typeof APP_OPTIONS?null:APP_OPTIONS[1],e=\"undefined\"===typeof PRODUCT_ID?81:PRODUCT_ID,k=this;var f=void 0===f?x.location&&x.location.hostname:f;this.u=a;this.B=c;this.A=d;this.m=f;this.g=null;this.o=!1;this.s=this.i=null;this.j=b;this.v=e;this.h=new H;this.l=new H;var h=x.onerror;x.onerror=\\nfunction(){var g=w.apply(0,arguments);h&&h.apply(null,g);J(k,g[0],g[1],g[2])}};K.prototype.listen=function(a){this.g=a};K.prototype.log=function(a,b){J(this,a,void 0,void 0,b);return a};var L=function(a,b){var c=a.h.get(b);c||(c=new D(6E4,36E5,function(){delete a.h.g[I(b)]}),a.h.set(b,c));c.i++;return c},O=function(a,b,c,d,e,k){var f=M(b&&\"object\"===typeof b?b.message:b,k||1);f.type=\"error\";f.count=e.i;e.i=0;if(b&&\"object\"===typeof b){if(c=b.file||\"\",f.file=\"string\"===typeof c?c.slice(0,400):\"\",f.line=b.line||0,\"string\"===typeof b.stack){b=b.stack.split(\"\\\\n\");c=0;for(d=b.length;c<d&&40>c;++c)e=b[c].trim(),0<e.length&&f.stack.push(e);f.stackUrls=[];b=f.stack||[];c=f.stackUrls;d=1700-(3+1.1*(f.message||\"\").length);e={};for(var h=0,g=0;g<b.length;++g){var n=b[g],m=n.match(A);if(m){m=m[1];if(e[m])var r=e[m];else r=\"..\"+h+\"..\",e[m]=r,c.push(m),h++;b[g]=n.replace(m,r)}}n=e=\\nB(b,c);g=\"\";for(h=null;n>d;){g=b.pop()||\"\";h=null;n=\"..\"+(c.length-1)+\"..\";if(-1<g.indexOf(n)){m=!1;for(r=b.length-1;0<=r;r--)if(-1<b[r].indexOf(n)){m=!0;break}m||(h=c.pop())}n=B(b,c)}0>=Math.ceil(e-n)?b=0:(d=Math.floor(d-n),3<d&&(g=g.length>d?g.substr(0,d-3)+\"...\":g,b.push(g),d-=g.length,h&&3<d&&c.push(h.length>d?h.substr(0,d-3)+\"...\":h)),b=Math.ceil(e-B(b,c)));f.stackTruncation=b}}else f.file=\"string\"===typeof c?c.slice(0,400):\"\",f.line=d||0;N(a,f,k)&&(f.errorType=9);return f},N=function(a,b,c){var d=\\nb.message,e=navigator.userAgent;if(/HeadlessChrome|PhantomJS/.test(e)||/Trident\\\\/7\\\\.0/.test(e)&&!/rv:11\\\\.0/.test(e)||a.m&&!/\\\\.google\\\\./.test(a.m)||0<=d.indexOf(\"zCommon\")||0<=d.indexOf(\"887a0005\")||!c&&(\"Script error\"===d||\"Script error.\"===d)||-1!==d.indexOf(\"Not enough storage is available to complete this operation.\")||0<=d.indexOf(\"ArrayBuffer length minus the\")||d.match(/new RegExp.*ludo_cid/)||0<=d.indexOf(\"Cannot read property \\'mute\\' of null\")||0<=d.indexOf(\"can\\'t access dead object\"))return!0;a=b.file||\"\";if(a.match(/^(chrome|moz|safari)-extension:/)||\\na.match(/> eval$/))return!0;c=b.stack;for(e=0;e<c.length;++e)if(c[e].match(/phantomjs/i))return!0;if(0<=d.indexOf(\"JSON syntax error\")&&a&&!(0<=a.indexOf(\"/maps\")))return!0;if(b=b.stackUrls)for(d=0;d<b.length;++d)if(a=b[d],0===a.indexOf(\"resource://\")||0===a.indexOf(\"chrome-extension://\")||0===a.indexOf(\"https://\")&&8!==a.indexOf(\"www.google\")&&8!==a.indexOf(\"maps.gstatic\")&&8!==a.indexOf(\"www.gstatic\")&&8!==a.indexOf(\"apis.google\"))return!0;return!1},J=function(a,b,c,d,e){var k=b&&\"object\"===typeof b?b.message:b,f=a.l.get(k);if(f)f&&k.length>f.message.length&&(f.message=k);else if(f=L(a,k),G(f)){var h=O(a,b,c,d,f,e);P(a,h);a.l.set(k,h);x.setTimeout(function(){a.g&&a.g(h);a.o||Q(a,h);delete a.l.g[I(k)]},0)}},P=function(a,b){var c=b.message+\"\\\\n\";for(var d=0,e=b.stack.length;d<e;++d)c+=b.stack[d]+\"\\\\n\";d=0;for(e=b.stackUrls.length;d<e;++d)c+=\"..\"+d+\"..=\"+b.stackUrls[d]+\"\\\\n\";a.i||(a.i=c);a.s=c},Q=function(a,b){if(a.j){var c=2;b.count&&1<b.count&&c++;var d=4;b.file&&d++;b.line&&d++;b.stack&&(d+=b.stack.length);void 0!==b.stackTruncation&&0<b.stackTruncation&&d++;b.stackUrls&&(d+=b.stackUrls.length);var e=[];e.push(\"!8m\");e.push(\"\"+(c+d));e.push(\"!2e6\");b.count&&1<b.count&&(e.push(\"!7i\"),e.push(b.count));e.push(\"!9m\");e.push(\"\"+d);e.push(\"!1s\");e.push(R(b.message));b.file&&(e.push(\"!2s\"),e.push(R(b.file)));b.line&&(e.push(\"!3i\"),e.push(b.line));if(b.stack)for(c=0,d=b.stack.length;c<d;++c)e.push(\"!4s\"),e.push(R(b.stack[c]));e.push(\"!6s\");e.push(R(a.B));e.push(\"!8e\"+b.errorType);void 0!==b.stackTruncation&&0<b.stackTruncation&&(e.push(\"!9i\"),e.push(b.stackTruncation));if(b.stackUrls)for(c=0,d=b.stackUrls.length;c<d;c++)e.push(\"!10s\"),e.push(R(b.stackUrls[c]));e.push(\"!11s\");e.push(R(a.A));e.push(\"!11m1\");e.push(\"!7e\");e.push(String(a.v||0));var k=\"\"+a.j+(0<=a.j.indexOf(\"?\")?\"&\":\"?\")+\"pb=\"+e.join(\"\");if(a.u)(a=x.console)&&a.log.call(a,k);else{var f=x.XMLHttpRequest&&new XMLHttpRequest;f&&x.setTimeout(function(){f.open(\"GET\",k,!0);f.send(null)},0)}}},R=function(a){a=a||\"\";0<a.indexOf(\"*\")&&(a=a.replace(S,\"*2A\"));0<a.indexOf(\"!\")&&(a=a.replace(T,\"*21\"));return encodeURIComponent(a)},M=function(a,b){return{message:a?a.slice(0,400):\"\",file:\"\",line:0,stack:[],stackUrls:[],errorType:void 0===b?1:b}},T=RegExp(\"(!)\",\"g\"),S=RegExp(\"(\\\\\\\\*)\",\"g\");if(\"undefined\"===typeof globals||void 0===globals.ErrorHandler){var U=new K,V=function(a,b){return U.log(a,b)};x._DumpException=V;y(\"globals.ErrorHandler\",{listen:function(a){U.listen(a)},log:V,ne:M,dr:function(){U.o=!0},fe:function(){return U.i},mre:function(){return U.s}});y(\"_._DumpException\",V,x)};}).call(this);</script> <script nonce=\"JVlk2I4QseOPZ1cPRrLWBw\">window._ = window._ || {};window._._DumpException = function(e){throw globals.ErrorHandler.log(e);};window._DumpException = function(e){throw globals.ErrorHandler.log(e);};</script>  <link href=\"//www.google.com/images/branding/product/ico/maps15_bnuw3a_32dp.ico\" rel=\"shortcut icon\"> <script nonce=\"JVlk2I4QseOPZ1cPRrLWBw\">(function(){window.APP_OPTIONS=[null,\"20230419.0\",null,[\"/search?tbm\\\\u003dmap\\\\u0026authuser\\\\u003d0\\\\u0026hl\\\\u003den\\\\u0026gl\\\\u003din\",\"/s?tbm\\\\u003dmap\\\\u0026gs_ri\\\\u003dmaps\\\\u0026suggest\\\\u003dp\\\\u0026authuser\\\\u003d0\\\\u0026hl\\\\u003den\\\\u0026gl\\\\u003din\",\"/maps/preview/directions?authuser\\\\u003d0\\\\u0026hl\\\\u003den\\\\u0026gl\\\\u003din\",null,\"/maps/preview/entity?authuser\\\\u003d0\\\\u0026hl\\\\u003den\\\\u0026gl\\\\u003din\",\"/maps/rpc/vp?authuser\\\\u003d0\\\\u0026hl\\\\u003den\\\\u0026gl\\\\u003din\",[[\"/maps/vt\"],644,[\"/maps/vt/stream\"],null,0,null,945,\"/maps/vt\",null,null,\"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\"],[\"//khms0.google.com/kh/v\\\\u003d945\",\"//khms1.google.com/kh/v\\\\u003d945\",\"//khms2.google.com/kh/v\\\\u003d945\",\"//khms3.google.com/kh/v\\\\u003d945\"],\"/maps/preview/log204?authuser\\\\u003d0\\\\u0026hl\\\\u003den\\\\u0026gl\\\\u003din\",[\"//geo0.ggpht.com/cbk?cb_client\\\\u003dmaps_sv.tactile\\\\u0026authuser\\\\u003d0\\\\u0026hl\\\\u003den\\\\u0026gl\\\\u003din\",\"//geo1.ggpht.com/cbk?cb_client\\\\u003dmaps_sv.tactile\\\\u0026authuser\\\\u003d0\\\\u0026hl\\\\u003den\\\\u0026gl\\\\u003din\",\"//geo2.ggpht.com/cbk?cb_client\\\\u003dmaps_sv.tactile\\\\u0026authuser\\\\u003d0\\\\u0026hl\\\\u003den\\\\u0026gl\\\\u003din\",\"//geo3.ggpht.com/cbk?cb_client\\\\u003dmaps_sv.tactile\\\\u0026authuser\\\\u003d0\\\\u0026hl\\\\u003den\\\\u0026gl\\\\u003din\"],null,null,null,\"//kh.google.com/rt/earth\",null,null,\"/maps/preview/placeactions/starring?authuser\\\\u003d0\\\\u0026hl\\\\u003den\\\\u0026gl\\\\u003din\",\"/maps/reportmapissue?authuser\\\\u003d0\\\\u0026hl\\\\u003den\\\\u0026gl\\\\u003din\",null,\"/maps/preview/reveal?authuser\\\\u003d0\\\\u0026hl\\\\u003den\\\\u0026gl\\\\u003din\",null,\"/maps/mm?authuser\\\\u003d0\\\\u0026hl\\\\u003den\\\\u0026gl\\\\u003din\",\"/maps/preview/photo?authuser\\\\u003d0\\\\u0026hl\\\\u003den\\\\u0026gl\\\\u003din\",null,\"/maps/preview/gme/list?authuser\\\\u003d0\\\\u0026hl\\\\u003den\\\\u0026gl\\\\u003din\",null,\"/maps/preview/placeupdate?authuser\\\\u003d0\\\\u0026hl\\\\u003den\\\\u0026gl\\\\u003din\",\"/maps/preview/gme/details?authuser\\\\u003d0\\\\u0026hl\\\\u003den\\\\u0026gl\\\\u003din\",\"/maps/preview/placeactions/writeaction?authuser\\\\u003d0\\\\u0026hl\\\\u003den\\\\u0026gl\\\\u003din\",\"/maps/rpc/shorturl?authuser\\\\u003d0\\\\u0026hl\\\\u003den\\\\u0026gl\\\\u003din\",\"/gen_204\",null,\"/maps/sendtocar/devices?authuser\\\\u003d0\\\\u0026hl\\\\u003den\\\\u0026gl\\\\u003din\",\"/maps/sendtocar/send?authuser\\\\u003d0\\\\u0026hl\\\\u003den\\\\u0026gl\\\\u003din\",\"/maps/preview/assist?authuser\\\\u003d0\\\\u0026hl\\\\u003den\\\\u0026gl\\\\u003din\",\"/maps/preview/reportdataproblem?authuser\\\\u003d0\\\\u0026hl\\\\u003den\\\\u0026gl\\\\u003din\",null,\"/maps/rpc/userprefswrite?authuser\\\\u003d0\\\\u0026hl\\\\u003den\\\\u0026gl\\\\u003din\",\"/maps/rpc/userprefsread?authuser\\\\u003d0\\\\u0026hl\\\\u003den\\\\u0026gl\\\\u003din\",\"/maps/preview/categories?authuser\\\\u003d0\\\\u0026hl\\\\u003den\\\\u0026gl\\\\u003din\",null,\"/maps/preview/pegman?authuser\\\\u003d0\\\\u0026hl\\\\u003den\\\\u0026gl\\\\u003din\",\"/locationhistory/preview/mas?authuser\\\\u003d0\\\\u0026hl\\\\u003den\\\\u0026gl\\\\u003din\",\"/maps/photometa/v1?authuser\\\\u003d0\\\\u0026hl\\\\u003den\\\\u0026gl\\\\u003din\",\"/maps/preview/sendtodevice?authuser\\\\u003d0\\\\u0026hl\\\\u003den\\\\u0026gl\\\\u003din\",null,\"//khms.google.com/dm/\",[\"https://lh3.ggpht.com/\",\"https://lh4.ggpht.com/\",\"https://lh5.ggpht.com/\",\"https://lh6.ggpht.com/\"],\"/maps/photometa/ac/\",\"/maps/photometa/si/v1?authuser\\\\u003d0\\\\u0026hl\\\\u003den\\\\u0026gl\\\\u003din\",\"/maps/timeline/_rpc/pe?authuser\\\\u003d0\\\\u0026hl\\\\u003den\\\\u0026gl\\\\u003din\",\"/maps/timeline/_rpc/pd?authuser\\\\u003d0\\\\u0026hl\\\\u003den\\\\u0026gl\\\\u003din\",\"/maps/timeline/_rpc/pc?authuser\\\\u003d0\\\\u0026hl\\\\u003den\\\\u0026gl\\\\u003din\",\"/maps/preview/directionsassist?authuser\\\\u003d0\\\\u0026hl\\\\u003den\\\\u0026gl\\\\u003din\",\"/maps/timeline/_rpc/phe?authuser\\\\u003d0\\\\u0026hl\\\\u003den\\\\u0026gl\\\\u003din\",\"/maps/preview/notifications/reg?authuser\\\\u003d0\\\\u0026hl\\\\u003den\\\\u0026gl\\\\u003din\",\"/maps/preview/notifications/unreg?authuser\\\\u003d0\\\\u0026hl\\\\u003den\\\\u0026gl\\\\u003din\",\"/maps/preview/notifications/fetch?authuser\\\\u003d0\\\\u0026hl\\\\u003den\\\\u0026gl\\\\u003din\",\"/maps/preview/notifications/mark?authuser\\\\u003d0\\\\u0026hl\\\\u003den\\\\u0026gl\\\\u003din\",null,\"/maps/photometa/acz/\",\"/maps/preview/knowledge?authuser\\\\u003d0\\\\u0026hl\\\\u003den\\\\u0026gl\\\\u003din\",\"/maps/preview/pi?authuser\\\\u003d0\\\\u0026hl\\\\u003den\\\\u0026gl\\\\u003din\",null,\"/maps/preview/vope?authuser\\\\u003d0\\\\u0026hl\\\\u003den\\\\u0026gl\\\\u003din\",\"/maps/timeline/_rpc/placelist/create?authuser\\\\u003d0\\\\u0026hl\\\\u003den\\\\u0026gl\\\\u003din\",\"/maps/timeline/_rpc/placelist/additem?authuser\\\\u003d0\\\\u0026hl\\\\u003den\\\\u0026gl\\\\u003din\",\"/maps/timeline/_rpc/placelist/delete?authuser\\\\u003d0\\\\u0026hl\\\\u003den\\\\u0026gl\\\\u003din\",\"/maps/timeline/_rpc/placelist/edit?authuser\\\\u003d0\\\\u0026hl\\\\u003den\\\\u0026gl\\\\u003din\",\"/maps/timeline/_rpc/placelist/removeitem?authuser\\\\u003d0\\\\u0026hl\\\\u003den\\\\u0026gl\\\\u003din\",\"/maps/preview/passiveassist?authuser\\\\u003d0\\\\u0026hl\\\\u003den\\\\u0026gl\\\\u003din\",\"/maps/rpc/locationsharing/read?authuser\\\\u003d0\\\\u0026hl\\\\u003den\\\\u0026gl\\\\u003din\",\"/maps/timeline/_rpc/placelist/follow?authuser\\\\u003d0\\\\u0026hl\\\\u003den\\\\u0026gl\\\\u003din\",\"/maps/timeline/_rpc/placelist/share?authuser\\\\u003d0\\\\u0026hl\\\\u003den\\\\u0026gl\\\\u003din\",\"/maps/preview/notifications/prefs?authuser\\\\u003d0\\\\u0026hl\\\\u003den\\\\u0026gl\\\\u003din\",\"/maps/timeline/_rpc/placelist/get?authuser\\\\u003d0\\\\u0026hl\\\\u003den\\\\u0026gl\\\\u003din\",\"/maps/preview/areatraffic?authuser\\\\u003d0\\\\u0026hl\\\\u003den\\\\u0026gl\\\\u003din\",\"/maps/preview/localposts?authuser\\\\u003d0\\\\u0026hl\\\\u003den\\\\u0026gl\\\\u003din\",\"/maps/timeline/_rpc/placelist/updateitem?authuser\\\\u003d0\\\\u0026hl\\\\u003den\\\\u0026gl\\\\u003din\",\"/maps/preview/lp?authuser\\\\u003d0\\\\u0026hl\\\\u003den\\\\u0026gl\\\\u003din\",\"/maps/rpc/blockaddomain?authuser\\\\u003d0\\\\u0026hl\\\\u003den\\\\u0026gl\\\\u003din\",\"/maps/preview/review/deletereview?authuser\\\\u003d0\\\\u0026hl\\\\u003den\\\\u0026gl\\\\u003din\",null,\"/maps/preview/rapfeatures?authuser\\\\u003d0\\\\u0026hl\\\\u003den\\\\u0026gl\\\\u003din\",\"/maps/preview/review/writereview?authuser\\\\u003d0\\\\u0026hl\\\\u003den\\\\u0026gl\\\\u003din\",\"/maps/preview/review/votereview?authuser\\\\u003d0\\\\u0026hl\\\\u003den\\\\u0026gl\\\\u003din\",\"/maps/rpc/merchantstatus?authuser\\\\u003d0\\\\u0026hl\\\\u003den\\\\u0026gl\\\\u003din\",\"/maps/preview/review/listentitiesreviews?authuser\\\\u003d0\\\\u0026hl\\\\u003den\\\\u0026gl\\\\u003din\",\"/maps/preview/place?authuser\\\\u003d0\\\\u0026hl\\\\u003den\\\\u0026gl\\\\u003din\",\"/maps/preview/transit/lines?authuser\\\\u003d0\\\\u0026hl\\\\u003den\\\\u0026gl\\\\u003din\",null,\"/maps/rpc/placeinsights?authuser\\\\u003d0\\\\u0026hl\\\\u003den\\\\u0026gl\\\\u003din\",\"/maps/timeline/_rpc/sync?authuser\\\\u003d0\\\\u0026hl\\\\u003den\\\\u0026gl\\\\u003din\",\"https://streetviewpixels-pa.googleapis.com/?cb_client\\\\u003dmaps_sv.tactile\",null,\"/maps/preview/entitylist/create?authuser\\\\u003d0\\\\u0026hl\\\\u003den\\\\u0026gl\\\\u003din\",\"/maps/preview/entitylist/createitem?authuser\\\\u003d0\\\\u0026hl\\\\u003den\\\\u0026gl\\\\u003din\",\"/maps/preview/entitylist/delete?authuser\\\\u003d0\\\\u0026hl\\\\u003den\\\\u0026gl\\\\u003din\",\"/maps/preview/entitylist/deleteitem?authuser\\\\u003d0\\\\u0026hl\\\\u003den\\\\u0026gl\\\\u003din\",\"/maps/preview/entitylist/getlist?authuser\\\\u003d0\\\\u0026hl\\\\u003den\\\\u0026gl\\\\u003din\",\"/maps/preview/entitylist/share?authuser\\\\u003d0\\\\u0026hl\\\\u003den\\\\u0026gl\\\\u003din\",\"/maps/preview/entitylist/update?authuser\\\\u003d0\\\\u0026hl\\\\u003den\\\\u0026gl\\\\u003din\",\"/maps/preview/entitylist/updateitem?authuser\\\\u003d0\\\\u0026hl\\\\u003den\\\\u0026gl\\\\u003din\",\"/maps/preview/entitylist/updaterole?authuser\\\\u003d0\\\\u0026hl\\\\u003den\\\\u0026gl\\\\u003din\",\"/maps/rpc/getugcpost?authuser\\\\u003d0\\\\u0026hl\\\\u003den\\\\u0026gl\\\\u003din\",\"/maps/rpc/listugcposts?authuser\\\\u003d0\\\\u0026hl\\\\u003den\\\\u0026gl\\\\u003din\",\"/maps/preview/entitylist/updatevisibility?authuser\\\\u003d0\\\\u0026hl\\\\u003den\\\\u0026gl\\\\u003din\",\"/maps/rpc/businessmessaging/unreadconversations?authuser\\\\u003d0\\\\u0026hl\\\\u003den\\\\u0026gl\\\\u003din\",\"/maps/preview/placepreview?authuser\\\\u003d0\\\\u0026hl\\\\u003den\\\\u0026gl\\\\u003din\",\"/maps/rpc/deletesearchhistorysuggest?authuser\\\\u003d0\\\\u0026hl\\\\u003den\\\\u0026gl\\\\u003din\"],null,null,1,null,[\"en\",\"in\",\"India\"],null,0,\"k4dGZOfFBKrd1sQPgrW86Ag\",null,null,null,null,null,null,null,null,null,null,null,[null,\"a\",null,null,null,null,null,null,null,null,null,null,null,null,null,null,null,[null,null,null,null,null,0,null,null,1,null,null,null,null,null,null,null,null,null,null,1,1,1],null,null,null,[null,null,null,null,null,2,3,2]],[null,null,null,null,null,null,null,null,[null,\"\"],[null,null,null,null,null,\"\"]],[1,2],0,[\"//www.google.com/intl/en_in/privacy.html\",\"//www.google.com/intl/en_in/help/terms_maps.html\",null,null,null,\"//support.google.com/maps/?hl\\\\u003den\\\\u0026authuser\\\\u003d0\",\"https://docs.google.com/picker\",null,\"/maps/sendtocar\",\"/adwords/express/how-it-works.html?utm_source\\\\u003dawx\\\\u0026utm_medium\\\\u003det\\\\u0026utm_campaign\\\\u003dww-ww-et-awx-symh-maps-nelson\\\\u0026hl\\\\u003den\\\\u0026authuser\\\\u003d0\\\\u0026gl\\\\u003din\",\"https://accounts.google.com/ServiceLogin?hl\\\\u003den\",[null,\"Learn more\",null,\"0ahUKEwin28-R08L-AhWqrpUCHYIaD40Q8FkIAigA\",null,\"newmaps_mylocation\"],\"https://business.google.com/create?service\\\\u003dplus\\\\u0026hl\\\\u003den\\\\u0026authuser\\\\u003d0\",\"https://www.google.com/maps/api/js/reviews?key\\\\u003dAIzaSyAQiTKe3tivKXammrJ6ov6u8E7KwZPNFss\\\\u0026language\\\\u003den\",\"//www.google.com/settings/accounthistory/location?hl\\\\u003den\\\\u0026authuser\\\\u003d0\",\"/maps/timeline?hl\\\\u003den\\\\u0026authuser\\\\u003d0\",\"//www.google.com/local/guides/signup?utm_source\\\\u003dtactile\\\\u0026utm_medium\\\\u003do\\\\u0026utm_campaign\\\\u003dtactile_contributions_panel\\\\u0026hl\\\\u003den\\\\u0026authuser\\\\u003d0\",\"https://support.google.com/websearch/answer/6276008\",\"https://business.google.com?skipLandingPage\\\\u003d1\\\\u0026hl\\\\u003den\\\\u0026authuser\\\\u003d0\",null,[null,null,null,\"https://business.google.com/mm/create?hl\\\\u003den\\\\u0026authuser\\\\u003d0\"],null,[null,null,null,\"https://arvr.google.com/streaming/liteview?streaming_session_address\\\\u003d78c11b69-98fe-41ed-b729-b88f8cff0efc.streamplease.net\\\\u0026streaming_session_key\\\\u003dAIzaSyAcA8JZffmDLbLYu6h52OJgICZcCMYr_bI\"]],null,null,[[\"hi\",\"Hindi - \\\\u202a\\xe0\\xa4\\xb9\\xe0\\xa4\\xbf\\xe0\\xa4\\xa8\\xe0\\xa5\\x8d\\xe0\\xa4\\xa6\\xe0\\xa5\\x80\\\\u202c\"],[\"bn\",\"Bangla - \\\\u202a\\xe0\\xa6\\xac\\xe0\\xa6\\xbe\\xe0\\xa6\\x82\\xe0\\xa6\\xb2\\xe0\\xa6\\xbe\\\\u202c\"],[\"te\",\"Telugu - \\\\u202a\\xe0\\xb0\\xa4\\xe0\\xb1\\x86\\xe0\\xb0\\xb2\\xe0\\xb1\\x81\\xe0\\xb0\\x97\\xe0\\xb1\\x81\\\\u202c\"],[\"mr\",\"Marathi - \\\\u202a\\xe0\\xa4\\xae\\xe0\\xa4\\xb0\\xe0\\xa4\\xbe\\xe0\\xa4\\xa0\\xe0\\xa5\\x80\\\\u202c\"],[\"ta\",\"Tamil - \\\\u202a\\xe0\\xae\\xa4\\xe0\\xae\\xae\\xe0\\xae\\xbf\\xe0\\xae\\xb4\\xe0\\xaf\\x8d\\\\u202c\"],[\"gu\",\"Gujarati - \\\\u202a\\xe0\\xaa\\x97\\xe0\\xab\\x81\\xe0\\xaa\\x9c\\xe0\\xaa\\xb0\\xe0\\xaa\\xbe\\xe0\\xaa\\xa4\\xe0\\xab\\x80\\\\u202c\"],[\"kn\",\"Kannada - \\\\u202a\\xe0\\xb2\\x95\\xe0\\xb2\\xa8\\xe0\\xb3\\x8d\\xe0\\xb2\\xa8\\xe0\\xb2\\xa1\\\\u202c\"],[\"ml\",\"Malayalam - \\\\u202a\\xe0\\xb4\\xae\\xe0\\xb4\\xb2\\xe0\\xb4\\xaf\\xe0\\xb4\\xbe\\xe0\\xb4\\xb3\\xe0\\xb4\\x82\\\\u202c\"],[\"pa\",\"Punjabi - \\\\u202a\\xe0\\xa8\\xaa\\xe0\\xa9\\xb0\\xe0\\xa8\\x9c\\xe0\\xa8\\xbe\\xe0\\xa8\\xac\\xe0\\xa9\\x80\\\\u202c\"]],null,null,[3,4],null,null,[null,null,null,null,null,null,81],[[null,null,null,null,[[\"crisis_overlay\"]]]],0,[\"/maps/_/js/\",\"m\",\"maps.m.en.voKxMFGohgs.es5.O\",\"ACT90oHoOmuFKlOzzq0o5hh_tPqD4NcrgQ\",\"BoA1kA\",null,\"maps.m.MHvcZjJJOLA.L.X.O\",\"/maps/_/js/k\\\\u003dmaps.m.en.voKxMFGohgs.es5.O/ck\\\\u003dmaps.m.MHvcZjJJOLA.L.X.O/m\\\\u003d%s/am\\\\u003dBoA1kA/rt\\\\u003dj/d\\\\u003d1/rs\\\\u003dACT90oHoOmuFKlOzzq0o5hh_tPqD4NcrgQ\"],null,null,[10202786,10202788,10203448,10203487,10203509,10203917,10203920,10204258,10204417,10204507,10204992,10205027,10205123,10205511,10205524,10205539,10205852,10206062,10206102,10206293,10206363,10206515,10206535,10206556,10206608,10206759,10206774,10206776,10206839,10206906,10203575,1381033,1368782,1368785,47025228,4592408,4640515,4940989,1375050,4536287,47054629],21600,null,null,null,1,null,null,0,null,null,null,[[[1,0,3],[2,1,2],[2,0,3],[8,0,3],[10,0,3],[10,1,2],[10,0,3],[10,1,2],[10,0,4]],1,null,0],null,null,null,1,null,[10203575,1381033,1368782,1368785,47025228,4592408,4640515,4940989,1375050,4536287,47054629],null,null,null,null,null,null,1,1,[null,1,1,1,null,1,1,[1,null,1,1,1,1,1],1,null,null,1,null,1,null,null,null,null,null,1,null,null,1,null,1,1],null,null,null,\"\\'Noto Sans Devanagari UI\\', \\'Noto Sans Bengali UI\\', \\'Noto Sans Telugu UI\\', \\'Noto Sans Tamil UI\\', \\'Noto Sans Gujarati UI\\', \\'Noto Sans Kannada UI\\', \\'Noto Sans Malayalam UI\\', \\'Noto Sans Gurmukhi UI\\'\",null,null,[null,null,null,\"/maps/_/js/k\\\\u003dmaps.mvw.en.lqXCkkE-0vs.es5.O/m\\\\u003dwtd,vw/rt\\\\u003dj/d\\\\u003d1/rs\\\\u003dACT90oEAB013S_4MiSOPyrMMUf-rumh43Q\"],1,[\"\",0],[null,[[\"/maps/_/js/\",\"m\",\"maps.m.en.voKxMFGohgs.es5.O\",\"ACT90oHoOmuFKlOzzq0o5hh_tPqD4NcrgQ\",\"BoA1kA\",null,\"maps.m.MHvcZjJJOLA.L.X.O\",\"/maps/_/js/k\\\\u003dmaps.m.en.voKxMFGohgs.es5.O/ck\\\\u003dmaps.m.MHvcZjJJOLA.L.X.O/m\\\\u003d%s/am\\\\u003dBoA1kA/rt\\\\u003dj/d\\\\u003d1/rs\\\\u003dACT90oHoOmuFKlOzzq0o5hh_tPqD4NcrgQ\"]]],1,0,null,[null,null,null,\"/maps/_/js/k\\\\u003dmaps.mvl.en.ztwhvLndPGE.es5.O/m\\\\u003db/rt\\\\u003dj/d\\\\u003d1/rs\\\\u003dACT90oGJm4QqIyW2UPpgm14MEshNxIi3bg\"],\"CAE\\\\u003d\"];window.APP_INITIALIZATION_STATE=[[[3767.4700484681275,72.9755148,19.2183357],null,[1024,768],13.1],[[[\"m\",[16,46049,29199],7,[644382557,644382557,644382557,644382557,644382557,644382557,644382557,644382557,644382557,644382557,644382557,644382557,644382557,644382557,644382557,644382557,644382557,644382557,644382557,644382557,644382557,644382557,644382557,644382557,644382557,644382557,644382557,644382557,644382557,644382557,644382557,644382557,644382557,644382557,644382557,644382557,644382557,644382557,644382557,644382557,644382557,644382557]],[\"m\",[15,23024,14599],4,[644382557,644382557,644382557,644382557,644382557,644382557,644382557,644382557,644382557,644382557,644382557,644382557,644382557,644382557,644382557,644382557]],[\"m\",[17,92102,58401],7,[644382557,644382557,644382557,644382557,644382557,644382557,644382557,644382557,644382557,644382557,644382557,644382557,644382557,644382557,644382557,644382557,644382557,644382557,644382557,644382557,644382557,644382557,644382557,644382473,644382557,644382557,644382557,644382557,644382557,644382557,644382473,644382557,644382557,644382557,644382557,644382557,644382557,644382557,644382557,644382557,644382557,644382557]]]],[[[2,\"spotlit\"]],null,null,[[null,null,null,null,null,null,null,null,null,null,null,null,null,[[[\"4316623233687333245\",\"13466156752307523972\"],\"/g/11sxwmmd84\",null,[192183307,729780897],null,null,null,null,null,null,null,null,null,null,\"gcid:coffee_shop\"],0,0,0]]]],[null,null,null,null,null,\")]}\\'\\\\n[[\\\\\"0x3be7b9f5e921a97d:0xbae166382f049184\\\\\",\\\\\"Food town\\\\\",[[3767.4700484681275,72.9755148,19.2183357],null,[1024,768],13.1],[null,null,19.2183307,72.9780897],null,null,null,null,null,null,null,null,null,null,[[null,null,null,\\\\\"/g/11sxwmmd84\\\\\"]]],null,null,null,null,null,null,null,null,null,null,[null,[360,120,null,8]],[null,[203,100],[null,4,null,null,1],null,null,[[[86,86],[408,240]]],[[[1,0,3],[2,1,2],[2,0,3],[8,0,3],[10,0,3],[10,1,2],[10,0,3],[10,1,2],[10,0,4]],1,null,0],null,0],[\\\\\"k4dGZOfFBKrd1sQPgrW86Ag\\\\\",null,null,null,null,null,81,null,null,null,null,null,null,null,10112],[[null,null,null,null,null,null,null,null,null,null,null,null,[null,1,1,1,null,1,null,1,1,null,null,null,null,1,null,null,null,null,null,1,null,null,null,null,1],null,null,null,null,[null,null,1,1,1,1,null,null,null,null,null,null,1,1,1,null,1,null,null,null,1,0,null,null,0,null,[0],0]],1,null,null,[null,1,1,null,1,1,1,null,null,1],null,null,null,null,[null,null,null,null,null,null,null,3],[null,null,[1]],null,null,[null,null,1],null,null,1,null,null,[[3,6]],null,null,null,1,1,1,null,null,1,[null,1],null,null,null,null,null,1,null,null,[null,[null,1,1]],null,null,null,1,null,null,null,null,null,null,null,null,1,null,[1],1,[1,null,1],null,null,null,null,null,null,null,null,[null,null,[[[[224,298]]]]],null,null,null,null,null,1,[[null,null,1,null,1],null,null,1],null,null,null,null,null,null,null,null,null,null,null,null,null,null,null,null,1,null,null,null,null,null,null,null,null,null,null,null,null,null,null,null,null,null,null,null,null,null,null,null,1],null,null,null,null,null,[],[81],null,null,null,null,null,null,null,[null,null,1,null,null,[1,1],[3]],null,null,null,[null,null,null,null,null,null,1,null,null,1,null,null,null,0],null,null,644]\",\")]}\\'\\\\n[null,null,null,null,[[3767.4700524074683,72.9780897,19.218330700000003],[0,0,0],[1024,768],13.1],null,[\\\\\"k4dGZMf3Bard1sQPgrW86Ag\\\\\",\\\\\"0ahUKEwiHjdGR08L-AhWqrpUCHYIaD40Q8BcICCgB\\\\\",[\\\\\"6X9H+86P\\\\\",\\\\\"Thane West\\\\\",\\\\\"Thane, Maharashtra\\\\\"],null,[null,null,null,[null,\\\\\"6 reviews\\\\\",null,\\\\\"0ahUKEwiHjdGR08L-AhWqrpUCHYIaD40Q6W4IGCgA\\\\\"],null,null,null,4.7,6],null,null,null,null,[null,null,19.2183307,72.9780897],\\\\\"0x3be7b9f5e921a97d:0xbae166382f049184\\\\\",\\\\\"Food town\\\\\",null,[\\\\\"Coffee shop\\\\\"],\\\\\"Thane West\\\\\",null,null,null,\\\\\"6X9H+86P Food town, Thane West, Thane, Maharashtra\\\\\",null,null,null,null,null,null,[null,null,null,null,null,null,null,null,null,null,null,null,null,null,null,null,null,null,[[[1],\\\\\"Favourites\\\\\",null,1,null,null,null,null,null,null,null,\\\\\"0ahUKEwiHjdGR08L-AhWqrpUCHYIaD40QwaQDCBsoAA\\\\\"],[[2],\\\\\"Want to go\\\\\",null,1,null,null,null,null,null,null,null,\\\\\"0ahUKEwiHjdGR08L-AhWqrpUCHYIaD40QwaQDCBwoAQ\\\\\"],[[7],\\\\\"Travel plans\\\\\",null,1,null,null,null,null,null,null,null,\\\\\"0ahUKEwiHjdGR08L-AhWqrpUCHYIaD40QwaQDCB0oAg\\\\\"],[[4],\\\\\"Starred places\\\\\",null,1,null,null,null,null,null,null,null,\\\\\"0ahUKEwiHjdGR08L-AhWqrpUCHYIaD40QwaQDCB4oAw\\\\\"]],null,null,null,\\\\\"0ahUKEwiHjdGR08L-AhWqrpUCHYIaD40Q0JcGCBooEA\\\\\"],null,\\\\\"https://www.google.com/maps/place/Food+town/data\\\\\\\\u003d!4m2!3m1!1s0x3be7b9f5e921a97d:0xbae166382f049184!10m1!1e1\\\\\",null,null,\\\\\"Asia/Calcutta\\\\\",null,null,null,[null,null,null,null,[null,null,null,null,null,1]],null,null,[[[\\\\\"0h7cJiCu-RTuXXJATjykXw\\\\\",0,1,\\\\\"Food town\\\\\",null,670.60626,[\\\\\"https://streetviewpixels-pa.googleapis.com/v1/thumbnail?panoid\\\\\\\\u003d0h7cJiCu-RTuXXJATjykXw\\\\\\\\u0026cb_client\\\\\\\\u003dsearch.gws-prod.gps\\\\\\\\u0026w\\\\\\\\u003d211\\\\\\\\u0026h\\\\\\\\u003d120\\\\\\\\u0026yaw\\\\\\\\u003d165.40897\\\\\\\\u0026pitch\\\\\\\\u003d0\\\\\\\\u0026thumbfov\\\\\\\\u003d100\\\\\",\\\\\"\\\\\",null,[211,120]],null,[[3,72.97805560219038,19.218454387766073],[165.40897,90],[1024,768],75],\\\\\"k4dGZMf3Bard1sQPgrW86Ag\\\\\",\\\\\"0ahUKEwiHjdGR08L-AhWqrpUCHYIaD40QkI4GCCAoAA\\\\\",null,null,null,null,[[[\\\\\"0x3be7b9f5e921a97d:0xbae166382f049184\\\\\"]]],null,[\\\\\"6X9H+86P, Thane West, Thane, Maharashtra\\\\\"],null,null,\\\\\"Street View\\\\\",[null,[2,\\\\\"0h7cJiCu-RTuXXJATjykXw\\\\\"],[2,2,null,[]],null,null,[[[2],[[null,null,19.218454387766073,72.97805560219038],null,[353.95358,88.79038,2.1763809]]]],[3,null,null,[2],null,[null,null,\\\\\"launch\\\\\",[6]],null,null,[2023,4,20,17]]],2,null,null,null,null,null,null,[\\\\\"4316623233687333245\\\\\",\\\\\"-4980587321402027644\\\\\"],null,\\\\\"ynWzWwKMqqI\\\\\"],[\\\\\"AF1QipPfqSnzl5SeCoAio-wMS0Vw-XO5UeXlNl1DYDEA\\\\\",10,12,\\\\\"\\\\\",null,847.7319,[\\\\\"https://lh5.googleusercontent.com/p/AF1QipPfqSnzl5SeCoAio-wMS0Vw-XO5UeXlNl1DYDEA\\\\\\\\u003dw159-h120-k-no\\\\\",\\\\\"19 Photos\\\\\",[4624,3472],[141,120]],null,[[3,72.9780706,19.218328700000004],[0,90],[4624,3472],75],\\\\\"k4dGZMf3Bard1sQPgrW86Ag\\\\\",\\\\\"0ahUKEwiHjdGR08L-AhWqrpUCHYIaD40QzCcIISgB\\\\\",null,null,null,null,[[[\\\\\"0x3be7b9f5e921a97d:0xbae166382f049184\\\\\"]]],null,[\\\\\"6X9H+86P, Thane West, Thane, Maharashtra\\\\\"],null,null,\\\\\"Photo\\\\\",[null,[10,\\\\\"AF1QipPfqSnzl5SeCoAio-wMS0Vw-XO5UeXlNl1DYDEA\\\\\"],[10,3,[3472,4624]],null,null,[[[2],[[null,null,19.218328700000004,72.9780706]]]],[2,null,null,[8],2,[null,null,\\\\\"photos:dragonfly_tactile\\\\\",[6,7,4,1,3]],null,null,[2022,10,1,7]]],1,null,null,null,null,null,null,[\\\\\"4316623233687333245\\\\\",\\\\\"-4980587321402027644\\\\\"],null,\\\\\"QJCFkzVgtPQ\\\\\"]],19,null,\\\\\"k4dGZMf3Bard1sQPgrW86Ag\\\\\",null,\\\\\"EvgDKYQi49-NlUMIDwAAAAEAAAMAAAAAAAAAAAAAAAAAAAAAAAAAAAAAAABAAAAAAAAAAAAAAAAAAAAAAAAAAAAAAAAAAAAAAAAAAAAAAAAAAAAAAAAAAAIAAAAAAAAAAAAAAAAAAAAAAAAAAAAAAAAAAAAAAAAAAAAAAAAAAAAQAAAAAAAAAAAAAAAAAAAAAAAAAAAAAAAAAAAAAAAAAAAAAAAAAAAAAAAAAAAAAIAAAAAAAAAAAAAAAAAAAAAAAAAAAAAAAAAAAAAAAAAIAAAAAAAAAAAAAAAAAAAAAAAAAAAAAAAAAAAAAAAAAAAAAAAAAAAAAAAAAAAAAAAAAAAAAAAAAAAAAAAAAAAAAAAAAAAAAAAAAAAAAAABQAAAAAAAAAAAAAAAAAAAAAAAAAAAAAAAAAAAAAAAAAAAAAAAAAAAAAAAAAAAAAAAAAAAAAAAAAAAAAAAAAAAIAAAAAAAAAAAAAAAACAAAAAAgAAAAAAAAAAAAAAAAAAAAAAAAAAAAAAAAAAAAAAAAAAACAAAAABAAEAAAAAACAAAAAAAAAAAAAAAAAAAAAAAAAAAAAAAAAAAAAAAAAAAAAAAAAAAAAAAAAAAAAAAAQAAAAAAAAAAAAAAAAAAAAAAAAAAAAAAAAAAAAAAAAAAAAAAAAAAAAAAAAAAAAAAGAVCVCmEIuPfjZVD6AEAACAAAAADAAAAACAAAAAAAAAAAAAAAAAAAIAACAAAAAAAQAAAAAAAQAAAAACQCAAAAUEAIAAAAAAIAAIAAAAAAAAAQAAAAAAAAA\\\\\",null,null,[[[1,18]],1,null,0,18]],null,\\\\\"6X9H+86P, Thane West, Thane, Maharashtra\\\\\",null,null,\\\\\"https://www.google.com/maps/preview/place/6X9H%2B86P+Food+town,+Thane+West,+Thane,+Maharashtra/@19.2183307,72.9780897,3767a,13.1y/data\\\\\\\\u003d!4m2!3m1!1s0x3be7b9f5e921a97d:0xbae166382f049184\\\\\",1,null,null,null,null,null,null,null,null,[[[[\\\\\"/url?q\\\\\\\\u003dhttps://www.google.com/maps/contrib/109756394067418132234%3Fhl%3Den-US\\\\\\\\u0026sa\\\\\\\\u003dU\\\\\\\\u0026ved\\\\\\\\u003d0ahUKEwiHjdGR08L-AhWqrpUCHYIaD40Q4h4IJigA\\\\\\\\u0026usg\\\\\\\\u003dAOvVaw2d0i4LBb6hgtb-8cS9jhWs\\\\\",\\\\\"Divya Futak\\\\\",\\\\\"https://lh3.googleusercontent.com/a-/ACB-R5S2ze6nMecBTlOeXimibib2OZTshiMJnTWAiZ0_vC4\\\\\\\\u003ds120-c-c0x00000000-cc-rp-mo-ba3-br100\\\\\",\\\\\"0ahUKEwiHjdGR08L-AhWqrpUCHYIaD40Q4h4IJigA\\\\\"],\\\\\"a year ago\\\\\",null,\\\\\"It\\'s a pure veg restaurant, good food with good ambience..\\\\\",4,null,\\\\\"109756394067418132234\\\\\",[\\\\\"https://www.google.com/local/review/rap/report?postId\\\\\\\\u003dChZDSUhNMG9nS0VJQ0FnSUMyOHA3NlB3EAE\\\\\\\\u0026entityid\\\\\\\\u003dChZDSUhNMG9nS0VJQ0FnSUMyOHA3NlB3Ei4KF0NJSE0wb2dLRUlDQWdJQzI4cDc2dndFEhNDZ3dJMXVmdWtnWVEwSkt0dmdJGi0KFkNJSE0wb2dLRUlDQWdJQzI4cDc2ZncSE0Nnd0kxdWZ1a2dZUTBKS3R2Z0kiEgl9qSHp9bnnOxGEkQQvOGbhuioTQ2d3STJlZnVrZ1lRZ09DU2t3SQ\\\\\\\\u0026wv\\\\\\\\u003d1\\\\\\\\u0026d\\\\\\\\u003d286732320\\\\\",\\\\\"Flag as inappropriate\\\\\",null,\\\\\"0ahUKEwiHjdGR08L-AhWqrpUCHYIaD40QoykIKSgD\\\\\"],null,null,\\\\\"ChZDSUhNMG9nS0VJQ0FnSUMyOHA3NlB3EAE\\\\\",\\\\\"0ahUKEwiHjdGR08L-AhWqrpUCHYIaD40Q4R4IJSgA\\\\\",[null,[[5,null,1],16,39,\\\\\"https://lh3.googleusercontent.com/a-/ACB-R5S2ze6nMecBTlOeXimibib2OZTshiMJnTWAiZ0_vC4\\\\\\\\u003ds120-c-c0x00000000-cc-rp-mo-ba3-br100\\\\\",\\\\\"Divya Futak\\\\\",\\\\\"https://www.google.com/maps/contrib/109756394067418132234?hl\\\\\\\\u003den-US\\\\\",null,null,\\\\\"https://www.google.com/maps/contrib/109756394067418132234?hl\\\\\\\\u003den-US\\\\\",null,null,null,[\\\\\"Local Guide \\xc2\\xb7 16 reviews\\\\\",null,null,null,null,[null,\\\\\"0ahUKEwiHjdGR08L-AhWqrpUCHYIaD40Qpr8GCCgoAg\\\\\",1,3]],\\\\\"109756394067418132234\\\\\"],\\\\\"D\\\\\"],null,[[\\\\\"AF1QipOw37BFeJko4Q0bGovRf76NpQQhYFK6MLvsmXnG\\\\\",null,null,null,null,null,[\\\\\"https://lh5.googleusercontent.com/p/AF1QipOw37BFeJko4Q0bGovRf76NpQQhYFK6MLvsmXnG\\\\\\\\u003dw150-h150-k-no-p\\\\\"],null,null,\\\\\"k4dGZMf3Bard1sQPgrW86Ag\\\\\",\\\\\"0ahUKEwiHjdGR08L-AhWqrpUCHYIaD40QzCcIKigE\\\\\",[\\\\\"//www.google.com/local/imagery/report/?cb_client\\\\\\\\u003dmaps_sv.tactile\\\\\\\\u0026image_key\\\\\\\\u003d!1e10!2sAF1QipOw37BFeJko4Q0bGovRf76NpQQhYFK6MLvsmXnG\\\\\",null,null,\\\\\"0ahUKEwiHjdGR08L-AhWqrpUCHYIaD40Q-y4IKygA\\\\\"],null,null,null,null,null,null,null,null,null,[[1],[10,\\\\\"AF1QipOw37BFeJko4Q0bGovRf76NpQQhYFK6MLvsmXnG\\\\\"],[10,3,[1982,1586],null,null,null,null,null,null,\\\\\"AF1QipOw37BFeJko4Q0bGovRf76NpQQhYFK6MLvsmXnG\\\\\"],[null,null,null,null,null,null,null,[\\\\\"Food town\\\\\",\\\\\"en\\\\\"]],[null,[[[\\\\\"Divya Futak\\\\\"],\\\\\"https://www.google.com/maps/contrib/109756394067418132234?hl\\\\\\\\u003den-US\\\\\",\\\\\"https://lh3.googleusercontent.com/a-/ACB-R5S2ze6nMecBTlOeXimibib2OZTshiMJnTWAiZ0_vC4\\\\\\\\u003ds120-c-c0x00000000-cc-rp-mo-ba3-br100\\\\\"]]],null,[2,0,null,null,null,[null,null,\\\\\"photos:gmm_android_review_post\\\\\",[6,7,4,1,3]],null,[2021,10,3,null,null,null,null,null,[\\\\\"a year ago\\\\\"]],[2022,4,17,6,null,null,null,null,[\\\\\"a year ago\\\\\"]]],[\\\\\"//www.google.com/local/imagery/report/?cb_client\\\\\\\\u003dmaps_sv.tactile\\\\\\\\u0026image_key\\\\\\\\u003d!1e10!2sAF1QipOw37BFeJko4Q0bGovRf76NpQQhYFK6MLvsmXnG\\\\\"]]],[\\\\\"AF1QipN9-8KZX-vrCeODgIrNqNUS7mVRsW8vjUWG1XQx\\\\\",null,null,null,null,null,[\\\\\"https://lh5.googleusercontent.com/p/AF1QipN9-8KZX-vrCeODgIrNqNUS7mVRsW8vjUWG1XQx\\\\\\\\u003dw150-h150-k-no-p\\\\\"],null,null,\\\\\"k4dGZMf3Bard1sQPgrW86Ag\\\\\",\\\\\"0ahUKEwiHjdGR08L-AhWqrpUCHYIaD40QzCcILCgF\\\\\",[\\\\\"//www.google.com/local/imagery/report/?cb_client\\\\\\\\u003dmaps_sv.tactile\\\\\\\\u0026image_key\\\\\\\\u003d!1e10!2sAF1QipN9-8KZX-vrCeODgIrNqNUS7mVRsW8vjUWG1XQx\\\\\",null,null,\\\\\"0ahUKEwiHjdGR08L-AhWqrpUCHYIaD40Q-y4ILSgA\\\\\"],null,null,null,null,null,null,null,null,null,[[1],[10,\\\\\"AF1QipN9-8KZX-vrCeODgIrNqNUS7mVRsW8vjUWG1XQx\\\\\"],[10,3,[2048,1536],null,null,null,null,null,null,\\\\\"AF1QipN9-8KZX-vrCeODgIrNqNUS7mVRsW8vjUWG1XQx\\\\\"],[null,null,null,null,null,null,null,[\\\\\"Food town\\\\\",\\\\\"en\\\\\"]],[null,[[[\\\\\"Divya Futak\\\\\"],\\\\\"https://www.google.com/maps/contrib/109756394067418132234?hl\\\\\\\\u003den-US\\\\\",\\\\\"https://lh3.googleusercontent.com/a-/ACB-R5S2ze6nMecBTlOeXimibib2OZTshiMJnTWAiZ0_vC4\\\\\\\\u003ds120-c-c0x00000000-cc-rp-mo-ba3-br100\\\\\"]]],null,[2,0,null,null,null,[null,null,\\\\\"photos:gmm_android_review_post\\\\\",[6,7,4,1,3]],null,[2021,10,2,null,null,null,null,null,[\\\\\"a year ago\\\\\"]],[2022,4,17,6,null,null,null,null,[\\\\\"a year ago\\\\\"]]],[\\\\\"//www.google.com/local/imagery/report/?cb_client\\\\\\\\u003dmaps_sv.tactile\\\\\\\\u0026image_key\\\\\\\\u003d!1e10!2sAF1QipN9-8KZX-vrCeODgIrNqNUS7mVRsW8vjUWG1XQx\\\\\"]]],[\\\\\"AF1QipOOJAUdrS2vriEmXyv2ycNUfgF8nVs2R78nlur_\\\\\",null,null,null,null,null,[\\\\\"https://lh5.googleusercontent.com/p/AF1QipOOJAUdrS2vriEmXyv2ycNUfgF8nVs2R78nlur_\\\\\\\\u003dw150-h150-k-no-p\\\\\"],null,null,\\\\\"k4dGZMf3Bard1sQPgrW86Ag\\\\\",\\\\\"0ahUKEwiHjdGR08L-AhWqrpUCHYIaD40QzCcILigG\\\\\",[\\\\\"//www.google.com/local/imagery/report/?cb_client\\\\\\\\u003dmaps_sv.tactile\\\\\\\\u0026image_key\\\\\\\\u003d!1e10!2sAF1QipOOJAUdrS2vriEmXyv2ycNUfgF8nVs2R78nlur_\\\\\",null,null,\\\\\"0ahUKEwiHjdGR08L-AhWqrpUCHYIaD40Q-y4ILygA\\\\\"],null,null,null,null,null,null,null,null,null,[[1],[10,\\\\\"AF1QipOOJAUdrS2vriEmXyv2ycNUfgF8nVs2R78nlur_\\\\\"],[10,3,[2048,1536],null,null,null,null,null,null,\\\\\"AF1QipOOJAUdrS2vriEmXyv2ycNUfgF8nVs2R78nlur_\\\\\"],[null,null,null,null,null,null,null,[\\\\\"Food town\\\\\",\\\\\"en\\\\\"]],[null,[[[\\\\\"Divya Futak\\\\\"],\\\\\"https://www.google.com/maps/contrib/109756394067418132234?hl\\\\\\\\u003den-US\\\\\",\\\\\"https://lh3.googleusercontent.com/a-/ACB-R5S2ze6nMecBTlOeXimibib2OZTshiMJnTWAiZ0_vC4\\\\\\\\u003ds120-c-c0x00000000-cc-rp-mo-ba3-br100\\\\\"]]],null,[2,0,null,null,null,[null,null,\\\\\"photos:gmm_android_review_post\\\\\",[6,7,4,1,3]],null,[2021,10,2,null,null,null,null,null,[\\\\\"a year ago\\\\\"]],[2022,4,17,6,null,null,null,null,[\\\\\"a year ago\\\\\"]]],[\\\\\"//www.google.com/local/imagery/report/?cb_client\\\\\\\\u003dmaps_sv.tactile\\\\\\\\u0026image_key\\\\\\\\u003d!1e10!2sAF1QipOOJAUdrS2vriEmXyv2ycNUfgF8nVs2R78nlur_\\\\\"]]],[\\\\\"AF1QipO_E0eABncqFw-ppXGPatFna6srIj4I1f0zJS6b\\\\\",null,null,null,null,null,[\\\\\"https://lh5.googleusercontent.com/p/AF1QipO_E0eABncqFw-ppXGPatFna6srIj4I1f0zJS6b\\\\\\\\u003dw150-h150-k-no-p\\\\\"],null,null,\\\\\"k4dGZMf3Bard1sQPgrW86Ag\\\\\",\\\\\"0ahUKEwiHjdGR08L-AhWqrpUCHYIaD40QzCcIMCgH\\\\\",[\\\\\"//www.google.com/local/imagery/report/?cb_client\\\\\\\\u003dmaps_sv.tactile\\\\\\\\u0026image_key\\\\\\\\u003d!1e10!2sAF1QipO_E0eABncqFw-ppXGPatFna6srIj4I1f0zJS6b\\\\\",null,null,\\\\\"0ahUKEwiHjdGR08L-AhWqrpUCHYIaD40Q-y4IMSgA\\\\\"],null,null,null,null,null,null,null,null,null,[[1],[10,\\\\\"AF1QipO_E0eABncqFw-ppXGPatFna6srIj4I1f0zJS6b\\\\\"],[10,3,[2048,1536],null,null,null,null,null,null,\\\\\"AF1QipO_E0eABncqFw-ppXGPatFna6srIj4I1f0zJS6b\\\\\"],[null,null,null,null,null,null,null,[\\\\\"Food town\\\\\",\\\\\"en\\\\\"]],[null,[[[\\\\\"Divya Futak\\\\\"],\\\\\"https://www.google.com/maps/contrib/109756394067418132234?hl\\\\\\\\u003den-US\\\\\",\\\\\"https://lh3.googleusercontent.com/a-/ACB-R5S2ze6nMecBTlOeXimibib2OZTshiMJnTWAiZ0_vC4\\\\\\\\u003ds120-c-c0x00000000-cc-rp-mo-ba3-br100\\\\\"]]],null,[2,0,null,null,null,[null,null,\\\\\"photos:gmm_android_review_post\\\\\",[6,7,4,1,3]],null,[2021,10,2,null,null,null,null,null,[\\\\\"a year ago\\\\\"]],[2022,4,17,6,null,null,null,null,[\\\\\"a year ago\\\\\"]]],[\\\\\"//www.google.com/local/imagery/report/?cb_client\\\\\\\\u003dmaps_sv.tactile\\\\\\\\u0026image_key\\\\\\\\u003d!1e10!2sAF1QipO_E0eABncqFw-ppXGPatFna6srIj4I1f0zJS6b\\\\\"]]],[\\\\\"AF1QipPOUo2GxbqhEcyk5cVjySbYawmWozipOEQ56F1p\\\\\",null,null,null,null,null,[\\\\\"https://lh5.googleusercontent.com/p/AF1QipPOUo2GxbqhEcyk5cVjySbYawmWozipOEQ56F1p\\\\\\\\u003dw150-h150-k-no-p\\\\\"],null,null,\\\\\"k4dGZMf3Bard1sQPgrW86Ag\\\\\",\\\\\"0ahUKEwiHjdGR08L-AhWqrpUCHYIaD40QzCcIMigI\\\\\",[\\\\\"//www.google.com/local/imagery/report/?cb_client\\\\\\\\u003dmaps_sv.tactile\\\\\\\\u0026image_key\\\\\\\\u003d!1e10!2sAF1QipPOUo2GxbqhEcyk5cVjySbYawmWozipOEQ56F1p\\\\\",null,null,\\\\\"0ahUKEwiHjdGR08L-AhWqrpUCHYIaD40Q-y4IMygA\\\\\"],null,null,null,null,null,null,null,null,null,[[1],[10,\\\\\"AF1QipPOUo2GxbqhEcyk5cVjySbYawmWozipOEQ56F1p\\\\\"],[10,3,[2048,1536],null,null,null,null,null,null,\\\\\"AF1QipPOUo2GxbqhEcyk5cVjySbYawmWozipOEQ56F1p\\\\\"],[null,null,null,null,null,null,null,[\\\\\"Food town\\\\\",\\\\\"en\\\\\"]],[null,[[[\\\\\"Divya Futak\\\\\"],\\\\\"https://www.google.com/maps/contrib/109756394067418132234?hl\\\\\\\\u003den-US\\\\\",\\\\\"https://lh3.googleusercontent.com/a-/ACB-R5S2ze6nMecBTlOeXimibib2OZTshiMJnTWAiZ0_vC4\\\\\\\\u003ds120-c-c0x00000000-cc-rp-mo-ba3-br100\\\\\"]]],null,[2,0,null,null,null,[null,null,\\\\\"photos:gmm_android_review_post\\\\\",[6,7,4,1,3]],null,[2021,10,2,null,null,null,null,null,[\\\\\"a year ago\\\\\"]],[2022,4,17,6,null,null,null,null,[\\\\\"a year ago\\\\\"]]],[\\\\\"//www.google.com/local/imagery/report/?cb_client\\\\\\\\u003dmaps_sv.tactile\\\\\\\\u0026image_key\\\\\\\\u003d!1e10!2sAF1QipPOUo2GxbqhEcyk5cVjySbYawmWozipOEQ56F1p\\\\\"]]],[\\\\\"AF1QipPXY0geAqoqecJ2gL2GFtPWQNRamGxDO8KoqSKv\\\\\",null,null,null,null,null,[\\\\\"https://lh5.googleusercontent.com/p/AF1QipPXY0geAqoqecJ2gL2GFtPWQNRamGxDO8KoqSKv\\\\\\\\u003dw150-h150-k-no-p\\\\\"],null,null,\\\\\"k4dGZMf3Bard1sQPgrW86Ag\\\\\",\\\\\"0ahUKEwiHjdGR08L-AhWqrpUCHYIaD40QzCcINCgJ\\\\\",[\\\\\"//www.google.com/local/imagery/report/?cb_client\\\\\\\\u003dmaps_sv.tactile\\\\\\\\u0026image_key\\\\\\\\u003d!1e10!2sAF1QipPXY0geAqoqecJ2gL2GFtPWQNRamGxDO8KoqSKv\\\\\",null,null,\\\\\"0ahUKEwiHjdGR08L-AhWqrpUCHYIaD40Q-y4INSgA\\\\\"],null,null,null,null,null,null,null,null,null,[[1],[10,\\\\\"AF1QipPXY0geAqoqecJ2gL2GFtPWQNRamGxDO8KoqSKv\\\\\"],[10,3,[2048,1536],null,null,null,null,null,null,\\\\\"AF1QipPXY0geAqoqecJ2gL2GFtPWQNRamGxDO8KoqSKv\\\\\"],[null,null,null,null,null,null,null,[\\\\\"Food town\\\\\",\\\\\"en\\\\\"]],[null,[[[\\\\\"Divya Futak\\\\\"],\\\\\"https://www.google.com/maps/contrib/109756394067418132234?hl\\\\\\\\u003den-US\\\\\",\\\\\"https://lh3.googleusercontent.com/a-/ACB-R5S2ze6nMecBTlOeXimibib2OZTshiMJnTWAiZ0_vC4\\\\\\\\u003ds120-c-c0x00000000-cc-rp-mo-ba3-br100\\\\\"]]],null,[2,0,null,null,null,[null,null,\\\\\"photos:gmm_android_review_post\\\\\",[6,7,4,1,3]],null,[2021,10,2,null,null,null,null,null,[\\\\\"a year ago\\\\\"]],[2022,4,17,6,null,null,null,null,[\\\\\"a year ago\\\\\"]]],[\\\\\"//www.google.com/local/imagery/report/?cb_client\\\\\\\\u003dmaps_sv.tactile\\\\\\\\u0026image_key\\\\\\\\u003d!1e10!2sAF1QipPXY0geAqoqecJ2gL2GFtPWQNRamGxDO8KoqSKv\\\\\"]]],[\\\\\"AF1QipNhchGMOUBWwkxl1_62EDdD7NcZrVCWRFCRXyXU\\\\\",null,null,null,null,null,[\\\\\"https://lh5.googleusercontent.com/p/AF1QipNhchGMOUBWwkxl1_62EDdD7NcZrVCWRFCRXyXU\\\\\\\\u003dw150-h150-k-no-p\\\\\"],null,null,\\\\\"k4dGZMf3Bard1sQPgrW86Ag\\\\\",\\\\\"0ahUKEwiHjdGR08L-AhWqrpUCHYIaD40QzCcINigK\\\\\",[\\\\\"//www.google.com/local/imagery/report/?cb_client\\\\\\\\u003dmaps_sv.tactile\\\\\\\\u0026image_key\\\\\\\\u003d!1e10!2sAF1QipNhchGMOUBWwkxl1_62EDdD7NcZrVCWRFCRXyXU\\\\\",null,null,\\\\\"0ahUKEwiHjdGR08L-AhWqrpUCHYIaD40Q-y4INygA\\\\\"],null,null,null,null,null,null,null,null,null,[[1],[10,\\\\\"AF1QipNhchGMOUBWwkxl1_62EDdD7NcZrVCWRFCRXyXU\\\\\"],[10,3,[2048,1536],null,null,null,null,null,null,\\\\\"AF1QipNhchGMOUBWwkxl1_62EDdD7NcZrVCWRFCRXyXU\\\\\"],[null,null,null,null,null,null,null,[\\\\\"Food town\\\\\",\\\\\"en\\\\\"]],[null,[[[\\\\\"Divya Futak\\\\\"],\\\\\"https://www.google.com/maps/contrib/109756394067418132234?hl\\\\\\\\u003den-US\\\\\",\\\\\"https://lh3.googleusercontent.com/a-/ACB-R5S2ze6nMecBTlOeXimibib2OZTshiMJnTWAiZ0_vC4\\\\\\\\u003ds120-c-c0x00000000-cc-rp-mo-ba3-br100\\\\\"]]],null,[2,0,null,null,null,[null,null,\\\\\"photos:gmm_android_review_post\\\\\",[6,7,4,1,3]],null,[2021,10,2,null,null,null,null,null,[\\\\\"a year ago\\\\\"]],[2022,4,17,6,null,null,null,null,[\\\\\"a year ago\\\\\"]]],[\\\\\"//www.google.com/local/imagery/report/?cb_client\\\\\\\\u003dmaps_sv.tactile\\\\\\\\u0026image_key\\\\\\\\u003d!1e10!2sAF1QipNhchGMOUBWwkxl1_62EDdD7NcZrVCWRFCRXyXU\\\\\"]]],[\\\\\"AF1QipNQjor2dHy7ZgOZv47Ll53ERqUoOJeTpDJcXkSL\\\\\",null,null,null,null,null,[\\\\\"https://lh5.googleusercontent.com/p/AF1QipNQjor2dHy7ZgOZv47Ll53ERqUoOJeTpDJcXkSL\\\\\\\\u003dw150-h150-k-no-p\\\\\"],null,null,\\\\\"k4dGZMf3Bard1sQPgrW86Ag\\\\\",\\\\\"0ahUKEwiHjdGR08L-AhWqrpUCHYIaD40QzCcIOCgL\\\\\",[\\\\\"//www.google.com/local/imagery/report/?cb_client\\\\\\\\u003dmaps_sv.tactile\\\\\\\\u0026image_key\\\\\\\\u003d!1e10!2sAF1QipNQjor2dHy7ZgOZv47Ll53ERqUoOJeTpDJcXkSL\\\\\",null,null,\\\\\"0ahUKEwiHjdGR08L-AhWqrpUCHYIaD40Q-y4IOSgA\\\\\"],null,null,null,null,null,null,null,null,null,[[1],[10,\\\\\"AF1QipNQjor2dHy7ZgOZv47Ll53ERqUoOJeTpDJcXkSL\\\\\"],[10,3,[1536,2048],null,null,null,null,null,null,\\\\\"AF1QipNQjor2dHy7ZgOZv47Ll53ERqUoOJeTpDJcXkSL\\\\\"],[null,null,null,null,null,null,null,[\\\\\"Food town\\\\\",\\\\\"en\\\\\"]],[null,[[[\\\\\"Divya Futak\\\\\"],\\\\\"https://www.google.com/maps/contrib/109756394067418132234?hl\\\\\\\\u003den-US\\\\\",\\\\\"https://lh3.googleusercontent.com/a-/ACB-R5S2ze6nMecBTlOeXimibib2OZTshiMJnTWAiZ0_vC4\\\\\\\\u003ds120-c-c0x00000000-cc-rp-mo-ba3-br100\\\\\"]]],null,[2,0,null,null,null,[null,null,\\\\\"photos:gmm_android_review_post\\\\\",[6,7,4,1,3]],null,[2021,10,2,null,null,null,null,null,[\\\\\"a year ago\\\\\"]],[2022,4,17,6,null,null,null,null,[\\\\\"a year ago\\\\\"]]],[\\\\\"//www.google.com/local/imagery/report/?cb_client\\\\\\\\u003dmaps_sv.tactile\\\\\\\\u0026image_key\\\\\\\\u003d!1e10!2sAF1QipNQjor2dHy7ZgOZv47Ll53ERqUoOJeTpDJcXkSL\\\\\"]]]],null,0,0,\\\\\"https://www.google.com/maps/reviews/data\\\\\\\\u003d!4m8!14m7!1m6!2m5!1sChZDSUhNMG9nS0VJQ0FnSUMyOHA3NlB3EAE!2m1!1s0x0:0xbae166382f049184!3m1!1s2@1:CIHM0ogKEICAgIC28p76Pw%7CCgwI2efukgYQgOCSkwI%7C?hl\\\\\\\\u003den-US\\\\\",null,null,null,null,null,null,null,null,1650176982667,null,null,[0,58],[\\\\\"0\\\\\",\\\\\"-4980587321402027644\\\\\"],\\\\\"en\\\\\",null,null,null,null,null,null,null,null,null,null,null,null,null,null,null,null,[[[\\\\\"GUIDED_DINING_MODE\\\\\"],\\\\\"Did you dine in, take out, or get delivery?\\\\\",[[[[\\\\\"E:DINE_IN\\\\\"],\\\\\"Dine in\\\\\",2,null,null,\\\\\"0ahUKEwiHjdGR08L-AhWqrpUCHYIaD40Q3YcHCDsoAA\\\\\",null,null,0]],1],null,null,\\\\\"Service\\\\\",1,\\\\\"0ahUKEwiHjdGR08L-AhWqrpUCHYIaD40Q3IcHCDooDA\\\\\",null,null,null,null,null,1,[[1]]],[[\\\\\"GUIDED_DINING_MEAL_TYPE\\\\\"],\\\\\"What did you get?\\\\\",[[[[\\\\\"E:BRUNCH\\\\\"],\\\\\"Brunch\\\\\",2,null,null,\\\\\"0ahUKEwiHjdGR08L-AhWqrpUCHYIaD40Q3YcHCD0oAA\\\\\",null,null,0]],1],null,null,\\\\\"Meal type\\\\\",1,\\\\\"0ahUKEwiHjdGR08L-AhWqrpUCHYIaD40Q3IcHCDwoDQ\\\\\",null,null,null,null,null,1,[[1]]],[[\\\\\"GUIDED_DINING_PRICE_RANGE\\\\\"],\\\\\"How much did you spend per person?\\\\\",[[[[\\\\\"E:INR_400_TO_600\\\\\"],\\\\\"\\xe2\\x82\\xb9400\\xe2\\x80\\x93600\\\\\",2,null,\\\\\"\\xe2\\x82\\xb9400 to \\xe2\\x82\\xb9600\\\\\",\\\\\"0ahUKEwiHjdGR08L-AhWqrpUCHYIaD40Q3YcHCD8oAA\\\\\"]],1],null,null,\\\\\"Price per person\\\\\",1,\\\\\"0ahUKEwiHjdGR08L-AhWqrpUCHYIaD40Q3IcHCD4oDg\\\\\",null,null,null,null,null,1,[[1],[2]]]],null,null,null,null,null,null,null,1650176790950,null,null,[\\\\\"/url?q\\\\\\\\u003dhttps://www.google.com/maps/contrib/109756394067418132234/reviews%3Fhl%3Den-US\\\\\\\\u0026sa\\\\\\\\u003dU\\\\\\\\u0026ved\\\\\\\\u003d0ahUKEwiHjdGR08L-AhWqrpUCHYIaD40Q4h4IJygB\\\\\\\\u0026usg\\\\\\\\u003dAOvVaw3cc2gYNbf_nq2gUjq_of-4\\\\\",\\\\\"Divya Futak\\\\\",\\\\\"https://lh3.googleusercontent.com/a-/ACB-R5S2ze6nMecBTlOeXimibib2OZTshiMJnTWAiZ0_vC4\\\\\\\\u003ds120-c-c0x00000000-cc-rp-mo-ba3-br100\\\\\",\\\\\"0ahUKEwiHjdGR08L-AhWqrpUCHYIaD40Q4h4IJygB\\\\\"],\\\\\"CAESBkVnSUlBUQ\\\\\\\\u003d\\\\\\\\u003d\\\\\"],[[\\\\\"/url?q\\\\\\\\u003dhttps://www.google.com/maps/contrib/118158768574657065586%3Fhl%3Den-US\\\\\\\\u0026sa\\\\\\\\u003dU\\\\\\\\u0026ved\\\\\\\\u003d0ahUKEwiHjdGR08L-AhWqrpUCHYIaD40Q4h4IQSgA\\\\\\\\u0026usg\\\\\\\\u003dAOvVaw2c6RZ4EIeY2t6akIk-OQJX\\\\\",\\\\\"44.Kalyani Patil\\\\\",\\\\\"https://lh3.googleusercontent.com/a-/ACB-R5Q_moO-TODv__Dbozp3NLsMQX6-TqDwTbjT_pvF4Q\\\\\\\\u003ds120-c-c0x00000000-cc-rp-mo-br100\\\\\",\\\\\"0ahUKEwiHjdGR08L-AhWqrpUCHYIaD40Q4h4IQSgA\\\\\"],\\\\\"2 weeks ago\\\\\",null,\\\\\"Good food\\\\\",5,null,\\\\\"118158768574657065586\\\\\",[\\\\\"https://www.google.com/local/review/rap/report?postId\\\\\\\\u003dChdDSUhNMG9nS0VJQ0FnSUNSMGF6dzlRRRAB\\\\\\\\u0026entityid\\\\\\\\u003dChdDSUhNMG9nS0VJQ0FnSUNSMGF6dzlRRRIsChZDSUhNMG9nS0VJQ0FnSUNSMGF6d0RREhJDZ3NJcnNldm9RWVE2SVRwQncaLQoXQ0lITTBvZ0tFSUNBZ0lDUjBhendqUUUSEkNnc0lyc2V2b1FZUTZJVHBCdyISCX2pIen1uec7EYSRBC84ZuG6KhJDZ3NJcnNldm9RWVE2SVRwQnc\\\\\\\\u0026wv\\\\\\\\u003d1\\\\\\\\u0026d\\\\\\\\u003d286732320\\\\\",\\\\\"Flag as inappropriate\\\\\",null,\\\\\"0ahUKEwiHjdGR08L-AhWqrpUCHYIaD40QoykIRCgD\\\\\"],null,null,\\\\\"ChdDSUhNMG9nS0VJQ0FnSUNSMGF6dzlRRRAB\\\\\",\\\\\"0ahUKEwiHjdGR08L-AhWqrpUCHYIaD40Q4R4IQCgB\\\\\",[null,[null,1,0,\\\\\"https://lh3.googleusercontent.com/a-/ACB-R5Q_moO-TODv__Dbozp3NLsMQX6-TqDwTbjT_pvF4Q\\\\\\\\u003ds120-c-c0x00000000-cc-rp-mo-br100\\\\\",\\\\\"44.Kalyani Patil\\\\\",\\\\\"https://www.google.com/maps/contrib/118158768574657065586?hl\\\\\\\\u003den-US\\\\\",null,null,\\\\\"https://www.google.com/maps/contrib/118158768574657065586?hl\\\\\\\\u003den-US\\\\\",null,null,null,[\\\\\"1 review\\\\\",null,null,null,null,[null,\\\\\"0ahUKEwiHjdGR08L-AhWqrpUCHYIaD40Qpr8GCEMoAg\\\\\",1,1]],\\\\\"118158768574657065586\\\\\"]],null,null,null,0,0,\\\\\"https://www.google.com/maps/reviews/data\\\\\\\\u003d!4m8!14m7!1m6!2m5!1sChdDSUhNMG9nS0VJQ0FnSUNSMGF6dzlRRRAB!2m1!1s0x0:0xbae166382f049184!3m1!1s2@1:CIHM0ogKEICAgICR0azw9QE%7CCgsIrsevoQYQ6ITpBw%7C?hl\\\\\\\\u003den-US\\\\\",null,null,null,null,null,null,null,null,1680597934016,null,null,[0,9],[\\\\\"0\\\\\",\\\\\"-4980587321402027644\\\\\"],\\\\\"en\\\\\",null,null,null,null,null,null,null,null,null,null,null,null,null,null,null,null,[[[\\\\\"GUIDED_DINING_MODE\\\\\"],\\\\\"Did you dine in, take out, or get delivery?\\\\\",[[[[\\\\\"E:DINE_IN\\\\\"],\\\\\"Dine in\\\\\",2,null,null,\\\\\"0ahUKEwiHjdGR08L-AhWqrpUCHYIaD40Q3YcHCEYoAA\\\\\",null,null,0]],1],null,null,\\\\\"Service\\\\\",1,\\\\\"0ahUKEwiHjdGR08L-AhWqrpUCHYIaD40Q3IcHCEUoBA\\\\\",null,null,null,null,null,1,[[1]]]],null,null,null,null,null,null,null,1680597934016,null,null,[\\\\\"/url?q\\\\\\\\u003dhttps://www.google.com/maps/contrib/118158768574657065586/reviews%3Fhl%3Den-US\\\\\\\\u0026sa\\\\\\\\u003dU\\\\\\\\u0026ved\\\\\\\\u003d0ahUKEwiHjdGR08L-AhWqrpUCHYIaD40Q4h4IQigB\\\\\\\\u0026usg\\\\\\\\u003dAOvVaw2HMykDM29zc-hAQtze0jsG\\\\\",\\\\\"44.Kalyani Patil\\\\\",\\\\\"https://lh3.googleusercontent.com/a-/ACB-R5Q_moO-TODv__Dbozp3NLsMQX6-TqDwTbjT_pvF4Q\\\\\\\\u003ds120-c-c0x00000000-cc-rp-mo-br100\\\\\",\\\\\"0ahUKEwiHjdGR08L-AhWqrpUCHYIaD40Q4h4IQigB\\\\\"],\\\\\"CAESBkVnSUlBZw\\\\\\\\u003d\\\\\\\\u003d\\\\\"],[[\\\\\"/url?q\\\\\\\\u003dhttps://www.google.com/maps/contrib/106602149291420931198%3Fhl%3Den-US\\\\\\\\u0026sa\\\\\\\\u003dU\\\\\\\\u0026ved\\\\\\\\u003d0ahUKEwiHjdGR08L-AhWqrpUCHYIaD40Q4h4ISCgA\\\\\\\\u0026usg\\\\\\\\u003dAOvVaw1MobYtY1Rf8Iuw1ZVzWkbc\\\\\",\\\\\"Nishith Mehta\\\\\",\\\\\"https://lh3.googleusercontent.com/a/AGNmyxZadcwz8wHlEtJ1MjFsiJ2SxcIWWfy2ubVDH7o\\\\\\\\u003ds120-c-c0x00000000-cc-rp-mo-br100\\\\\",\\\\\"0ahUKEwiHjdGR08L-AhWqrpUCHYIaD40Q4h4ISCgA\\\\\"],\\\\\"5 months ago\\\\\",null,\\\\\"Superb place\\\\\",4,null,\\\\\"106602149291420931198\\\\\",[\\\\\"https://www.google.com/local/review/rap/report?postId\\\\\\\\u003dChdDSUhNMG9nS0VJQ0FnSUMtdmNyYXRnRRAB\\\\\\\\u0026entityid\\\\\\\\u003dChdDSUhNMG9nS0VJQ0FnSUMtdmNyYXRnRRIsChZDSUhNMG9nS0VJQ0FnSUMtdmNyYWRnEhJDZ3NJOWRTNG13WVFnSW0zUUEaLQoXQ0lITTBvZ0tFSUNBZ0lDLXZjcmE5Z0USEkNnc0k5ZFM0bXdZUWdJbTNRQSISCX2pIen1uec7EYSRBC84ZuG6KhJDZ3NJOWRTNG13WVFnSW0zUUE\\\\\\\\u0026wv\\\\\\\\u003d1\\\\\\\\u0026d\\\\\\\\u003d286732320\\\\\",\\\\\"Flag as inappropriate\\\\\",null,\\\\\"0ahUKEwiHjdGR08L-AhWqrpUCHYIaD40QoykISygD\\\\\"],null,null,\\\\\"ChdDSUhNMG9nS0VJQ0FnSUMtdmNyYXRnRRAB\\\\\",\\\\\"0ahUKEwiHjdGR08L-AhWqrpUCHYIaD40Q4R4IRygC\\\\\",[null,[null,3,0,\\\\\"https://lh3.googleusercontent.com/a/AGNmyxZadcwz8wHlEtJ1MjFsiJ2SxcIWWfy2ubVDH7o\\\\\\\\u003ds120-c-c0x00000000-cc-rp-mo-br100\\\\\",\\\\\"Nishith Mehta\\\\\",\\\\\"https://www.google.com/maps/contrib/106602149291420931198?hl\\\\\\\\u003den-US\\\\\",null,null,\\\\\"https://www.google.com/maps/contrib/106602149291420931198?hl\\\\\\\\u003den-US\\\\\",null,null,null,[\\\\\"3 reviews\\\\\",null,null,null,null,[null,\\\\\"0ahUKEwiHjdGR08L-AhWqrpUCHYIaD40Qpr8GCEooAg\\\\\",1,1]],\\\\\"106602149291420931198\\\\\"],\\\\\"N\\\\\"],null,null,null,0,0,\\\\\"https://www.google.com/maps/reviews/data\\\\\\\\u003d!4m8!14m7!1m6!2m5!1sChdDSUhNMG9nS0VJQ0FnSUMtdmNyYXRnRRAB!2m1!1s0x0:0xbae166382f049184!3m1!1s2@1:CIHM0ogKEICAgIC-vcratgE%7CCgsI9dS4mwYQgIm3QA%7C?hl\\\\\\\\u003den-US\\\\\",null,null,null,null,null,null,null,null,1668164213135,null,null,[0,12],[\\\\\"0\\\\\",\\\\\"-4980587321402027644\\\\\"],\\\\\"en\\\\\",null,null,null,null,null,null,null,null,null,null,null,null,null,null,null,null,[[[\\\\\"GUIDED_DINING_MODE\\\\\"],\\\\\"Did you dine in, take out, or get delivery?\\\\\",[[[[\\\\\"E:DINE_IN\\\\\"],\\\\\"Dine in\\\\\",2,null,null,\\\\\"0ahUKEwiHjdGR08L-AhWqrpUCHYIaD40Q3YcHCE0oAA\\\\\",null,null,0]],1],null,null,\\\\\"Service\\\\\",1,\\\\\"0ahUKEwiHjdGR08L-AhWqrpUCHYIaD40Q3IcHCEwoBA\\\\\",null,null,null,null,null,1,[[1]]],[[\\\\\"GUIDED_DINING_MEAL_TYPE\\\\\"],\\\\\"What did you get?\\\\\",[[[[\\\\\"E:DINNER\\\\\"],\\\\\"Dinner\\\\\",2,null,null,\\\\\"0ahUKEwiHjdGR08L-AhWqrpUCHYIaD40Q3YcHCE8oAA\\\\\",null,null,0]],1],null,null,\\\\\"Meal type\\\\\",1,\\\\\"0ahUKEwiHjdGR08L-AhWqrpUCHYIaD40Q3IcHCE4oBQ\\\\\",null,null,null,null,null,1,[[1]]],[[\\\\\"GUIDED_DINING_PRICE_RANGE\\\\\"],\\\\\"How much did you spend per person?\\\\\",[[[[\\\\\"E:INR_2000_UP\\\\\"],\\\\\"\\xe2\\x82\\xb92,000+\\\\\",2,null,\\\\\"\\xe2\\x82\\xb92,000 or above\\\\\",\\\\\"0ahUKEwiHjdGR08L-AhWqrpUCHYIaD40Q3YcHCFEoAA\\\\\"]],1],null,null,\\\\\"Price per person\\\\\",1,\\\\\"0ahUKEwiHjdGR08L-AhWqrpUCHYIaD40Q3IcHCFAoBg\\\\\",null,null,null,null,null,1,[[1],[2]]],[[\\\\\"GUIDED_DINING_FOOD_ASPECT\\\\\"],\\\\\"Food\\\\\",null,null,null,\\\\\"Food\\\\\",1,\\\\\"0ahUKEwiHjdGR08L-AhWqrpUCHYIaD40Q3IcHCFIoBw\\\\\",null,null,null,[5],null,2,[[1]]],[[\\\\\"GUIDED_DINING_SERVICE_ASPECT\\\\\"],\\\\\"Service\\\\\",null,null,null,\\\\\"Service\\\\\",1,\\\\\"0ahUKEwiHjdGR08L-AhWqrpUCHYIaD40Q3IcHCFMoCA\\\\\",null,null,null,[5],null,2,[[1]]],[[\\\\\"GUIDED_DINING_ATMOSPHERE_ASPECT\\\\\"],\\\\\"Atmosphere\\\\\",null,null,null,\\\\\"Atmosphere\\\\\",1,\\\\\"0ahUKEwiHjdGR08L-AhWqrpUCHYIaD40Q3IcHCFQoCQ\\\\\",null,null,null,[5],null,2,[[1]]]],null,null,null,null,null,null,null,1668164213135,null,null,[\\\\\"/url?q\\\\\\\\u003dhttps://www.google.com/maps/contrib/106602149291420931198/reviews%3Fhl%3Den-US\\\\\\\\u0026sa\\\\\\\\u003dU\\\\\\\\u0026ved\\\\\\\\u003d0ahUKEwiHjdGR08L-AhWqrpUCHYIaD40Q4h4ISSgB\\\\\\\\u0026usg\\\\\\\\u003dAOvVaw1ayezLBV7enkBMEGe0oJNM\\\\\",\\\\\"Nishith Mehta\\\\\",\\\\\"https://lh3.googleusercontent.com/a/AGNmyxZadcwz8wHlEtJ1MjFsiJ2SxcIWWfy2ubVDH7o\\\\\\\\u003ds120-c-c0x00000000-cc-rp-mo-br100\\\\\",\\\\\"0ahUKEwiHjdGR08L-AhWqrpUCHYIaD40Q4h4ISSgB\\\\\"],\\\\\"CAESBkVnSUlBdw\\\\\\\\u003d\\\\\\\\u003d\\\\\"],[[\\\\\"/url?q\\\\\\\\u003dhttps://www.google.com/maps/contrib/114814232785734109914%3Fhl%3Den-US\\\\\\\\u0026sa\\\\\\\\u003dU\\\\\\\\u0026ved\\\\\\\\u003d0ahUKEwiHjdGR08L-AhWqrpUCHYIaD40Q4h4IVigA\\\\\\\\u0026usg\\\\\\\\u003dAOvVaw0z4QIUIaC3l7AU17TfaRW9\\\\\",\\\\\"Sameer Warsolkar\\\\\",\\\\\"https://lh3.googleusercontent.com/a-/ACB-R5RrZuWHcI2vO3XBb8V61HYEcNfYpdBZApUDSQi9DTA\\\\\\\\u003ds120-c-c0x00000000-cc-rp-mo-ba5-br100\\\\\",\\\\\"0ahUKEwiHjdGR08L-AhWqrpUCHYIaD40Q4h4IVigA\\\\\"],\\\\\"9 months ago\\\\\",null,\\\\\"Great Experience\\\\\",5,null,\\\\\"114814232785734109914\\\\\",[\\\\\"https://www.google.com/local/review/rap/report?postId\\\\\\\\u003dChdDSUhNMG9nS0VJQ0FnSURPejk2aGxRRRAB\\\\\\\\u0026entityid\\\\\\\\u003dChdDSUhNMG9nS0VJQ0FnSURPejk2aGxRRRItChZDSUhNMG9nS0VJQ0FnSURPejk2aFZREhNDZ3dJcnN6T2xnWVF1T180NUFFGi4KF0NJSE0wb2dLRUlDQWdJRE96OTZoMVFFEhNDZ3dJcnN6T2xnWVF1T180NUFFIhIJfakh6fW55zsRhJEELzhm4boqE0Nnd0lyc3pPbGdZUXVPXzQ1QUU\\\\\\\\u0026wv\\\\\\\\u003d1\\\\\\\\u0026d\\\\\\\\u003d286732320\\\\\",\\\\\"Flag as inappropriate\\\\\",null,\\\\\"0ahUKEwiHjdGR08L-AhWqrpUCHYIaD40QoykIWSgD\\\\\"],null,null,\\\\\"ChdDSUhNMG9nS0VJQ0FnSURPejk2aGxRRRAB\\\\\",\\\\\"0ahUKEwiHjdGR08L-AhWqrpUCHYIaD40Q4R4IVSgD\\\\\",[null,[[7,null,1],215,222,\\\\\"https://lh3.googleusercontent.com/a-/ACB-R5RrZuWHcI2vO3XBb8V61HYEcNfYpdBZApUDSQi9DTA\\\\\\\\u003ds120-c-c0x00000000-cc-rp-mo-ba5-br100\\\\\",\\\\\"Sameer Warsolkar\\\\\",\\\\\"https://www.google.com/maps/contrib/114814232785734109914?hl\\\\\\\\u003den-US\\\\\",null,null,\\\\\"https://www.google.com/maps/contrib/114814232785734109914?hl\\\\\\\\u003den-US\\\\\",null,null,null,[\\\\\"116 reviews in Thane\\\\\",[null,null,\\\\\"14931259628934464131\\\\\"],\\\\\"\\xf0\\x9f\\x8f\\x99\\xef\\xb8\\x8f\\\\\",null,null,[null,\\\\\"0ahUKEwiHjdGR08L-AhWqrpUCHYIaD40Qpr8GCFgoAg\\\\\",6,8]],\\\\\"114814232785734109914\\\\\"],\\\\\"S\\\\\"],null,null,null,0,0,\\\\\"https://www.google.com/maps/reviews/data\\\\\\\\u003d!4m8!14m7!1m6!2m5!1sChdDSUhNMG9nS0VJQ0FnSURPejk2aGxRRRAB!2m1!1s0x0:0xbae166382f049184!3m1!1s2@1:CIHM0ogKEICAgIDOz96hlQE%7CCgwIrszOlgYQuO_45AE%7C?hl\\\\\\\\u003den-US\\\\\",null,null,null,null,null,null,null,null,1658037806480,null,null,[0,16],[\\\\\"0\\\\\",\\\\\"-4980587321402027644\\\\\"],\\\\\"en\\\\\",null,null,null,null,null,null,null,null,null,null,null,null,null,null,null,null,[[[\\\\\"GUIDED_DINING_MODE\\\\\"],\\\\\"Did you dine in, take out, or get delivery?\\\\\",[[[[\\\\\"E:TAKE_OUT\\\\\"],\\\\\"Take out\\\\\",2,null,null,\\\\\"0ahUKEwiHjdGR08L-AhWqrpUCHYIaD40Q3YcHCFsoAA\\\\\",null,null,0]],1],null,null,\\\\\"Service\\\\\",1,\\\\\"0ahUKEwiHjdGR08L-AhWqrpUCHYIaD40Q3IcHCFooBA\\\\\",null,null,null,null,null,1,[[1]]],[[\\\\\"GUIDED_DINING_MEAL_TYPE\\\\\"],\\\\\"What did you get?\\\\\",[[[[\\\\\"E:BREAKFAST\\\\\"],\\\\\"Breakfast\\\\\",2,null,null,\\\\\"0ahUKEwiHjdGR08L-AhWqrpUCHYIaD40Q3YcHCF0oAA\\\\\",null,null,0]],1],null,null,\\\\\"Meal type\\\\\",1,\\\\\"0ahUKEwiHjdGR08L-AhWqrpUCHYIaD40Q3IcHCFwoBQ\\\\\",null,null,null,null,null,1,[[1]]]],null,null,null,null,null,null,null,1658037806480,null,null,[\\\\\"/url?q\\\\\\\\u003dhttps://www.google.com/maps/contrib/114814232785734109914/reviews%3Fhl%3Den-US\\\\\\\\u0026sa\\\\\\\\u003dU\\\\\\\\u0026ved\\\\\\\\u003d0ahUKEwiHjdGR08L-AhWqrpUCHYIaD40Q4h4IVygB\\\\\\\\u0026usg\\\\\\\\u003dAOvVaw2lUU9rRq5uYBK3F3a3lHba\\\\\",\\\\\"Sameer Warsolkar\\\\\",\\\\\"https://lh3.googleusercontent.com/a-/ACB-R5RrZuWHcI2vO3XBb8V61HYEcNfYpdBZApUDSQi9DTA\\\\\\\\u003ds120-c-c0x00000000-cc-rp-mo-ba5-br100\\\\\",\\\\\"0ahUKEwiHjdGR08L-AhWqrpUCHYIaD40Q4h4IVygB\\\\\"],\\\\\"CAESBkVnSUlCQQ\\\\\\\\u003d\\\\\\\\u003d\\\\\"],[[\\\\\"/url?q\\\\\\\\u003dhttps://www.google.com/maps/contrib/106341429591589132667%3Fhl%3Den-US\\\\\\\\u0026sa\\\\\\\\u003dU\\\\\\\\u0026ved\\\\\\\\u003d0ahUKEwiHjdGR08L-AhWqrpUCHYIaD40Q4h4IXygA\\\\\\\\u0026usg\\\\\\\\u003dAOvVaw2Bo1475rg735uqmyz2Uzh2\\\\\",\\\\\"Rajeev Tulsani\\\\\",\\\\\"https://lh3.googleusercontent.com/a-/ACB-R5Sv260qDRXOrsMMLeqfAyFzJHFv-ZOQ9_vGRGCnoQ\\\\\\\\u003ds120-c-c0x00000000-cc-rp-mo-br100\\\\\",\\\\\"0ahUKEwiHjdGR08L-AhWqrpUCHYIaD40Q4h4IXygA\\\\\"],\\\\\"5 months ago\\\\\",null,null,5,null,\\\\\"106341429591589132667\\\\\",[\\\\\"https://www.google.com/local/review/rap/report?postId\\\\\\\\u003dChdDSUhNMG9nS0VJQ0FnSUQtek1lcTRnRRAB\\\\\\\\u0026entityid\\\\\\\\u003dChdDSUhNMG9nS0VJQ0FnSUQtek1lcTRnRRotChZDSUhNMG9nS0VJQ0FnSUQtek1lcUVnEhNDZ3dJOVpEM213WVF1S1NkM2dJIhIJfakh6fW55zsRhJEELzhm4boqE0Nnd0k5WkQzbXdZUXVLU2QzZ0k\\\\\\\\u0026wv\\\\\\\\u003d1\\\\\\\\u0026d\\\\\\\\u003d286732320\\\\\",\\\\\"Flag as inappropriate\\\\\",null,\\\\\"0ahUKEwiHjdGR08L-AhWqrpUCHYIaD40QoykIYigD\\\\\"],null,null,\\\\\"ChdDSUhNMG9nS0VJQ0FnSUQtek1lcTRnRRAB\\\\\",\\\\\"0ahUKEwiHjdGR08L-AhWqrpUCHYIaD40Q4R4IXigE\\\\\",[null,[[3,null,0],4,1,\\\\\"https://lh3.googleusercontent.com/a-/ACB-R5Sv260qDRXOrsMMLeqfAyFzJHFv-ZOQ9_vGRGCnoQ\\\\\\\\u003ds120-c-c0x00000000-cc-rp-mo-br100\\\\\",\\\\\"Rajeev Tulsani\\\\\",\\\\\"https://www.google.com/maps/contrib/106341429591589132667?hl\\\\\\\\u003den-US\\\\\",null,null,\\\\\"https://www.google.com/maps/contrib/106341429591589132667?hl\\\\\\\\u003den-US\\\\\",null,null,null,[\\\\\"4 reviews\\\\\",null,null,null,null,[null,\\\\\"0ahUKEwiHjdGR08L-AhWqrpUCHYIaD40Qpr8GCGEoAg\\\\\",1,1]],\\\\\"106341429591589132667\\\\\"],\\\\\"R\\\\\"],null,null,null,0,0,\\\\\"https://www.google.com/maps/reviews/data\\\\\\\\u003d!4m8!14m7!1m6!2m5!1sChdDSUhNMG9nS0VJQ0FnSUQtek1lcTRnRRAB!2m1!1s0x0:0xbae166382f049184!3m1!1s2@1:CIHM0ogKEICAgID-zMeq4gE%7CCgwI9ZD3mwYQuKSd3gI%7C?hl\\\\\\\\u003den-US\\\\\",null,null,null,null,null,null,null,null,1669187701734,null,null,null,[\\\\\"0\\\\\",\\\\\"-4980587321402027644\\\\\"],null,null,null,null,null,null,null,null,null,null,null,null,null,null,null,null,null,[[[\\\\\"GUIDED_DINING_FOOD_ASPECT\\\\\"],\\\\\"Food\\\\\",null,null,null,\\\\\"Food\\\\\",1,\\\\\"0ahUKEwiHjdGR08L-AhWqrpUCHYIaD40Q3IcHCGMoBA\\\\\",null,null,null,[5],null,2,[[1]]],[[\\\\\"GUIDED_DINING_SERVICE_ASPECT\\\\\"],\\\\\"Service\\\\\",null,null,null,\\\\\"Service\\\\\",1,\\\\\"0ahUKEwiHjdGR08L-AhWqrpUCHYIaD40Q3IcHCGQoBQ\\\\\",null,null,null,[4],null,2,[[1]]],[[\\\\\"GUIDED_DINING_ATMOSPHERE_ASPECT\\\\\"],\\\\\"Atmosphere\\\\\",null,null,null,\\\\\"Atmosphere\\\\\",1,\\\\\"0ahUKEwiHjdGR08L-AhWqrpUCHYIaD40Q3IcHCGUoBg\\\\\",null,null,null,[5],null,2,[[1]]]],null,null,null,null,null,null,null,1669187701734,null,null,[\\\\\"/url?q\\\\\\\\u003dhttps://www.google.com/maps/contrib/106341429591589132667/reviews%3Fhl%3Den-US\\\\\\\\u0026sa\\\\\\\\u003dU\\\\\\\\u0026ved\\\\\\\\u003d0ahUKEwiHjdGR08L-AhWqrpUCHYIaD40Q4h4IYCgB\\\\\\\\u0026usg\\\\\\\\u003dAOvVaw3ek8r1AV2qaWOp_1h3rdLe\\\\\",\\\\\"Rajeev Tulsani\\\\\",\\\\\"https://lh3.googleusercontent.com/a-/ACB-R5Sv260qDRXOrsMMLeqfAyFzJHFv-ZOQ9_vGRGCnoQ\\\\\\\\u003ds120-c-c0x00000000-cc-rp-mo-br100\\\\\",\\\\\"0ahUKEwiHjdGR08L-AhWqrpUCHYIaD40Q4h4IYCgB\\\\\"],\\\\\"CAESBkVnSUlCUQ\\\\\\\\u003d\\\\\\\\u003d\\\\\"],[[\\\\\"/url?q\\\\\\\\u003dhttps://www.google.com/maps/contrib/116573161980912907005%3Fhl%3Den-US\\\\\\\\u0026sa\\\\\\\\u003dU\\\\\\\\u0026ved\\\\\\\\u003d0ahUKEwiHjdGR08L-AhWqrpUCHYIaD40Q4h4IZygA\\\\\\\\u0026usg\\\\\\\\u003dAOvVaw1Kh6mEhqcQasa66DL41yWo\\\\\",\\\\\"Sanket Humane\\\\\",\\\\\"https://lh3.googleusercontent.com/a-/ACB-R5QNmr7_ZNSFpsXDl_dWAZMqWCzq3hovUcnU7B0YFaM\\\\\\\\u003ds120-c-c0x00000000-cc-rp-mo-ba6-br100\\\\\",\\\\\"0ahUKEwiHjdGR08L-AhWqrpUCHYIaD40Q4h4IZygA\\\\\"],\\\\\"6 months ago\\\\\",null,null,5,null,\\\\\"116573161980912907005\\\\\",[\\\\\"https://www.google.com/local/review/rap/report?postId\\\\\\\\u003dChdDSUhNMG9nS0VJQ0FnSURlMW9pWHRnRRAB\\\\\\\\u0026entityid\\\\\\\\u003dChdDSUhNMG9nS0VJQ0FnSURlMW9pWHRnRRotChZDSUhNMG9nS0VJQ0FnSURlMW9pWGRnEhNDZ3dJOUlLTW1nWVFxTXFXaXdNIhIJfakh6fW55zsRhJEELzhm4boqE0Nnd0k5SUtNbWdZUXFNcVdpd00\\\\\\\\u0026wv\\\\\\\\u003d1\\\\\\\\u0026d\\\\\\\\u003d286732320\\\\\",\\\\\"Flag as inappropriate\\\\\",null,\\\\\"0ahUKEwiHjdGR08L-AhWqrpUCHYIaD40QoykIaigD\\\\\"],null,null,\\\\\"ChdDSUhNMG9nS0VJQ0FnSURlMW9pWHRnRRAB\\\\\",\\\\\"0ahUKEwiHjdGR08L-AhWqrpUCHYIaD40Q4R4IZigF\\\\\",[null,[[8,null,1],148,1750,\\\\\"https://lh3.googleusercontent.com/a-/ACB-R5QNmr7_ZNSFpsXDl_dWAZMqWCzq3hovUcnU7B0YFaM\\\\\\\\u003ds120-c-c0x00000000-cc-rp-mo-ba6-br100\\\\\",\\\\\"Sanket Humane\\\\\",\\\\\"https://www.google.com/maps/contrib/116573161980912907005?hl\\\\\\\\u003den-US\\\\\",null,null,\\\\\"https://www.google.com/maps/contrib/116573161980912907005?hl\\\\\\\\u003den-US\\\\\",null,null,null,[\\\\\"61 reviews in Thane\\\\\",[null,null,\\\\\"14931259628934464131\\\\\"],\\\\\"\\xf0\\x9f\\x8f\\x99\\xef\\xb8\\x8f\\\\\",null,null,[null,\\\\\"0ahUKEwiHjdGR08L-AhWqrpUCHYIaD40Qpr8GCGkoAg\\\\\",6,6]],\\\\\"116573161980912907005\\\\\"],\\\\\"S\\\\\"],null,null,null,0,0,\\\\\"https://www.google.com/maps/reviews/data\\\\\\\\u003d!4m8!14m7!1m6!2m5!1sChdDSUhNMG9nS0VJQ0FnSURlMW9pWHRnRRAB!2m1!1s0x0:0xbae166382f049184!3m1!1s2@1:CIHM0ogKEICAgIDe1oiXtgE%7CCgwI9IKMmgYQqMqWiwM%7C?hl\\\\\\\\u003den-US\\\\\",null,null,null,null,null,null,null,null,1665335668828,null,null,null,[\\\\\"0\\\\\",\\\\\"-4980587321402027644\\\\\"],null,null,null,null,null,null,null,null,null,null,null,null,null,null,null,null,null,[[[\\\\\"GUIDED_DINING_MODE\\\\\"],\\\\\"Did you dine in, take out, or get delivery?\\\\\",[[[[\\\\\"E:TAKE_OUT\\\\\"],\\\\\"Take out\\\\\",2,null,null,\\\\\"0ahUKEwiHjdGR08L-AhWqrpUCHYIaD40Q3YcHCGwoAA\\\\\",null,null,0]],1],null,null,\\\\\"Service\\\\\",1,\\\\\"0ahUKEwiHjdGR08L-AhWqrpUCHYIaD40Q3IcHCGsoBA\\\\\",null,null,null,null,null,1,[[1]]],[[\\\\\"GUIDED_DINING_MEAL_TYPE\\\\\"],\\\\\"What did you get?\\\\\",[[[[\\\\\"E:LUNCH\\\\\"],\\\\\"Lunch\\\\\",2,null,null,\\\\\"0ahUKEwiHjdGR08L-AhWqrpUCHYIaD40Q3YcHCG4oAA\\\\\",null,null,0]],1],null,null,\\\\\"Meal type\\\\\",1,\\\\\"0ahUKEwiHjdGR08L-AhWqrpUCHYIaD40Q3IcHCG0oBQ\\\\\",null,null,null,null,null,1,[[1]]],[[\\\\\"GUIDED_DINING_PRICE_RANGE\\\\\"],\\\\\"How much did you spend per person?\\\\\",[[[[\\\\\"E:INR_200_TO_400\\\\\"],\\\\\"\\xe2\\x82\\xb9200\\xe2\\x80\\x93400\\\\\",2,null,\\\\\"\\xe2\\x82\\xb9200 to \\xe2\\x82\\xb9400\\\\\",\\\\\"0ahUKEwiHjdGR08L-AhWqrpUCHYIaD40Q3YcHCHAoAA\\\\\"]],1],null,null,\\\\\"Price per person\\\\\",1,\\\\\"0ahUKEwiHjdGR08L-AhWqrpUCHYIaD40Q3IcHCG8oBg\\\\\",null,null,null,null,null,1,[[1],[2]]]],null,null,null,null,null,null,null,1665335668828,null,null,[\\\\\"/url?q\\\\\\\\u003dhttps://www.google.com/maps/contrib/116573161980912907005/reviews%3Fhl%3Den-US\\\\\\\\u0026sa\\\\\\\\u003dU\\\\\\\\u0026ved\\\\\\\\u003d0ahUKEwiHjdGR08L-AhWqrpUCHYIaD40Q4h4IaCgB\\\\\\\\u0026usg\\\\\\\\u003dAOvVaw2xhAvBVmYecYn0O7ahzxsE\\\\\",\\\\\"Sanket Humane\\\\\",\\\\\"https://lh3.googleusercontent.com/a-/ACB-R5QNmr7_ZNSFpsXDl_dWAZMqWCzq3hovUcnU7B0YFaM\\\\\\\\u003ds120-c-c0x00000000-cc-rp-mo-ba6-br100\\\\\",\\\\\"0ahUKEwiHjdGR08L-AhWqrpUCHYIaD40Q4h4IaCgB\\\\\"]]],null,null,[0,0,0,2,4],0,null,null,null,null,[\\\\\"Rate and review\\\\\",\\\\\"Share your experience to help others\\\\\",null,1,\\\\\"Share details of your own experience at this place\\\\\"],null,null,null,null,null,0,null,null,\\\\\"\\\\\"],null,null,null,null,[null,\\\\\"Food town (Owner)\\\\\",null,null,null,null,null,null,\\\\\"108448571080209870259\\\\\"],null,null,null,1,null,null,null,null,null,1,null,null,null,null,[[[\\\\\"AF1QipOrv8dqr9nF7jjQ10iYK5i81reY6bKnTzzrjZSb\\\\\",10,12,\\\\\"\\\\\",null,815.92584,[\\\\\"https://lh5.googleusercontent.com/p/AF1QipOrv8dqr9nF7jjQ10iYK5i81reY6bKnTzzrjZSb\\\\\\\\u003dw152-h86-k-no\\\\\",\\\\\"Food town\\\\\",[3840,2160],[86,86]],null,[[3,72.9780706,19.218328700000004],[0,90],[3840,2160],75],\\\\\"k4dGZMf3Bard1sQPgrW86Ag\\\\\",\\\\\"0ahUKEwiHjdGR08L-AhWqrpUCHYIaD40QzCcIIigS\\\\\",null,null,null,null,[[[\\\\\"0x3be7b9f5e921a97d:0xbae166382f049184\\\\\"]]],null,[\\\\\"6X9H+86P, Thane West, Thane, Maharashtra\\\\\"],null,null,\\\\\"Photo\\\\\",[null,[10,\\\\\"AF1QipOrv8dqr9nF7jjQ10iYK5i81reY6bKnTzzrjZSb\\\\\"],[10,3,[2160,3840]],null,null,[[[2],[[null,null,19.218328700000004,72.9780706]]]],[2,null,null,[8],2,[null,null,\\\\\"photos:gmm_android\\\\\",[6,7,4,1,3]],null,null,[2023,4,20,11]]],1,null,null,null,null,null,null,[\\\\\"4316623233687333245\\\\\",\\\\\"-4980587321402027644\\\\\"],null,\\\\\"hxjeBlbD2_g\\\\\"],[\\\\\"AF1QipOrv8dqr9nF7jjQ10iYK5i81reY6bKnTzzrjZSb\\\\\",10,12,\\\\\"\\\\\",null,815.92584,[\\\\\"https://lh5.googleusercontent.com/p/AF1QipOrv8dqr9nF7jjQ10iYK5i81reY6bKnTzzrjZSb\\\\\\\\u003dw426-h240-k-no\\\\\",\\\\\"Food town\\\\\",[3840,2160],[408,240]],null,[[3,72.9780706,19.218328700000004],[0,90],[3840,2160],75],\\\\\"k4dGZMf3Bard1sQPgrW86Ag\\\\\",\\\\\"0ahUKEwiHjdGR08L-AhWqrpUCHYIaD40QzCcIIygT\\\\\",null,null,null,null,[[[\\\\\"0x3be7b9f5e921a97d:0xbae166382f049184\\\\\"]]],null,[\\\\\"6X9H+86P, Thane West, Thane, Maharashtra\\\\\"],null,null,\\\\\"Photo\\\\\",[null,[10,\\\\\"AF1QipOrv8dqr9nF7jjQ10iYK5i81reY6bKnTzzrjZSb\\\\\"],[10,3,[2160,3840]],null,null,[[[2],[[null,null,19.218328700000004,72.9780706]]]],[2,null,null,[8],2,[null,null,\\\\\"photos:gmm_android\\\\\",[6,7,4,1,3]],null,null,[2023,4,20,11]]],1,null,null,null,null,null,null,[\\\\\"4316623233687333245\\\\\",\\\\\"-4980587321402027644\\\\\"],null,\\\\\"hxjeBlbD2_g\\\\\"]]],null,null,null,[[\\\\\"coffee_shop\\\\\"]],null,\\\\\"ChIJfakh6fW55zsRhJEELzhm4bo\\\\\",null,null,null,[\\\\\"Thane West\\\\\",\\\\\"6X9H+86P\\\\\",\\\\\"6X9H+86P\\\\\",\\\\\"Thane\\\\\"],null,null,null,null,null,[null,\\\\\"SearchResult.TYPE_COFFEE\\\\\",[\\\\\"SearchResult.TYPE_COFFEE\\\\\",\\\\\"IN\\\\\",57,84,85,151],\\\\\"Food town\\\\\",[null,null,604,605,1185,603]],\\\\\"/g/11sxwmmd84\\\\\",null,null,null,null,null,null,[[[8,0,[2,null,[null,null,null,\\\\\"https://www.google.com/local/place/rap/edit/hoursv2?g2lb\\\\\\\\u003d4822981,4914647,4924491,4933735,4963788,4975983,4985909,4987692\\\\\\\\u0026hl\\\\\\\\u003den-IN\\\\\\\\u0026gl\\\\\\\\u003din\\\\\\\\u0026sdata64\\\\\\\\u003dEhQgATIHVEFDVElMRTgSSABoALABAA%3D%3D\\\\\\\\u0026place\\\\\\\\u003dIg0vZy8xMXN4d21tZDg0\\\\\"]]],[4,0,[5,null,[null,null,null,\\\\\"https://www.google.com/local/place/rap/edit/website?g2lb\\\\\\\\u003d4822981,4914647,4924491,4933735,4963788,4975983,4985909,4987692\\\\\\\\u0026hl\\\\\\\\u003den-IN\\\\\\\\u0026gl\\\\\\\\u003din\\\\\\\\u0026sdata64\\\\\\\\u003dEhQgATIHVEFDVElMRTgSSABoAbABAA%3D%3D\\\\\\\\u0026place\\\\\\\\u003dIg0vZy8xMXN4d21tZDg0\\\\\"]]],[40,0,[7,null,[null,null,null,\\\\\"https://www.google.com/local/place/rap/edit/openingdate?g2lb\\\\\\\\u003d4822981,4914647,4924491,4933735,4963788,4975983,4985909,4987692\\\\\\\\u0026hl\\\\\\\\u003den-IN\\\\\\\\u0026gl\\\\\\\\u003din\\\\\\\\u0026sdata64\\\\\\\\u003dEhQgATIHVEFDVElMRTgSSABoAbABAA%3D%3D\\\\\\\\u0026place\\\\\\\\u003dIg0vZy8xMXN4d21tZDg0\\\\\"]]]],null,6,1,null,[[null,null,\\\\\"Change name or other details\\\\\",\\\\\"Edit name, location, hours, etc.\\\\\",\\\\\"https://www.gstatic.com/images/icons/material/system/2x/mode_edit_googblue_24dp.png\\\\\",[null,null,null,\\\\\"https://www.google.com/local/place/rap/edit?g2lb\\\\\\\\u003d4822981,4914647,4924491,4933735,4963788,4975983,4985909,4987692\\\\\\\\u0026hl\\\\\\\\u003den-IN\\\\\\\\u0026gl\\\\\\\\u003din\\\\\\\\u0026sdata64\\\\\\\\u003dEhQgATIHVEFDVElMRTgBSABoALABAA%3D%3D\\\\\\\\u0026place\\\\\\\\u003dIg0vZy8xMXN4d21tZDg0\\\\\"],1],[null,null,\\\\\"Close or remove\\\\\",\\\\\"Mark as closed, non-existent or duplicate\\\\\",\\\\\"https://www.gstatic.com/images/icons/material/system/2x/location_off_googblue_24dp.png\\\\\",[null,null,null,\\\\\"https://www.google.com/local/place/rap/changeexistence?g2lb\\\\\\\\u003d4822981,4914647,4924491,4933735,4963788,4975983,4985909,4987692\\\\\\\\u0026hl\\\\\\\\u003den-IN\\\\\\\\u0026gl\\\\\\\\u003din\\\\\\\\u0026sdata64\\\\\\\\u003dEhQgATIHVEFDVElMRTgBSABoALABAA%3D%3D\\\\\\\\u0026place\\\\\\\\u003dIg0vZy8xMXN4d21tZDg0\\\\\"],2]],[[2,null,[null,null,null,\\\\\"https://www.google.com/local/place/rap/edit/hoursv2?g2lb\\\\\\\\u003d4822981,4914647,4924491,4933735,4963788,4975983,4985909,4987692\\\\\\\\u0026hl\\\\\\\\u003den-IN\\\\\\\\u0026gl\\\\\\\\u003din\\\\\\\\u0026sdata64\\\\\\\\u003dEhQgATIHVEFDVElMRTgBSABoALABAA%3D%3D\\\\\\\\u0026place\\\\\\\\u003dIg0vZy8xMXN4d21tZDg0\\\\\"]]],0],null,null,[[[\\\\\"People also search for\\\\\",[[\\\\\"0x0:0x2bccfb9435eb9385\\\\\",[\\\\\"k4dGZMf3Bard1sQPgrW86Ag\\\\\",\\\\\"0ahUKEwiHjdGR08L-AhWqrpUCHYIaD40Q8BcIrwEoFg\\\\\",null,null,[null,null,null,null,null,null,null,4.6,466],null,null,null,null,[null,null,19.205577299999998,72.9772259],\\\\\"0x0:0x2bccfb9435eb9385\\\\\",\\\\\"One Storey Cafe\\\\\",null,[\\\\\"Cafe\\\\\",\\\\\"Restaurant\\\\\"],null,null,null,null,null,null,null,null,null,null,null,null,null,null,null,null,null,null,null,null,null,null,null,[[[null,null,null,null,null,null,[\\\\\"https://lh5.googleusercontent.com/p/AF1QipPm9YMYg69kZ2MReNGDH6jgR19XqvxeXKyVuapw\\\\\\\\u003dw156-h156-n-k-no\\\\\",null,null,[156,156]],null,null,\\\\\"k4dGZMf3Bard1sQPgrW86Ag\\\\\",\\\\\"0ahUKEwiHjdGR08L-AhWqrpUCHYIaD40QzCcIsgEoAA\\\\\"]],null,null,\\\\\"k4dGZMf3Bard1sQPgrW86Ag\\\\\"],null,null,null,null,null,null,null,null,null,null,null,null,null,null,null,null,null,null,null,null,null,null,null,null,null,null,null,null,null,null,null,null,null,null,null,null,null,null,null,null,null,null,null,null,null,null,null,null,null,null,null,null,null,null,null,null,null,null,null,null,null,null,null,null,null,null,null,null,\\\\\"Cafe\\\\\"]],[\\\\\"0x0:0x1d6558ce233b6d0d\\\\\",[\\\\\"k4dGZMf3Bard1sQPgrW86Ag\\\\\",\\\\\"0ahUKEwiHjdGR08L-AhWqrpUCHYIaD40Q8BcIswEoFw\\\\\",null,null,[null,null,null,null,null,null,null,4.5,32],null,null,null,null,[null,null,19.2232084,72.9789674],\\\\\"0x0:0x1d6558ce233b6d0d\\\\\",\\\\\"Gen z- cafe\\\\\",null,[\\\\\"Cafe\\\\\"],null,null,null,null,null,null,null,null,null,null,null,null,null,null,null,null,null,null,null,null,null,null,null,[[[null,null,null,null,null,null,[\\\\\"https://lh5.googleusercontent.com/p/AF1QipOhT0GM3jEBay-5DLHnrHhEAeYh63dmdCyuaQA6\\\\\\\\u003dw156-h156-n-k-no\\\\\",null,null,[156,156]],null,null,\\\\\"k4dGZMf3Bard1sQPgrW86Ag\\\\\",\\\\\"0ahUKEwiHjdGR08L-AhWqrpUCHYIaD40QzCcItgEoAA\\\\\"]],null,null,\\\\\"k4dGZMf3Bard1sQPgrW86Ag\\\\\"],null,null,null,null,null,null,null,null,null,null,null,null,null,null,null,null,null,null,null,null,null,null,null,null,null,null,null,null,null,null,null,null,null,null,null,null,null,null,null,null,null,null,null,null,null,null,null,null,null,null,null,null,null,null,null,null,null,null,null,null,null,null,null,null,null,null,null,null,\\\\\"Cafe\\\\\"]],[\\\\\"0x0:0x1e1a06c4c7159f07\\\\\",[\\\\\"k4dGZMf3Bard1sQPgrW86Ag\\\\\",\\\\\"0ahUKEwiHjdGR08L-AhWqrpUCHYIaD40Q8BcItwEoGA\\\\\",null,null,[null,null,null,null,null,null,null,4,1019],null,null,null,null,[null,null,19.227809,72.9702343],\\\\\"0x0:0x1e1a06c4c7159f07\\\\\",\\\\\"Cafe Coffee Day\\\\\",null,[\\\\\"Cafe\\\\\",\\\\\"Coffee shop\\\\\",\\\\\"Coffee store\\\\\"],null,null,null,null,null,null,null,null,null,null,null,null,null,null,null,null,null,null,null,null,null,null,null,[[[null,null,null,null,null,null,[\\\\\"https://lh5.googleusercontent.com/p/AF1QipM4mBiMO_YbvqGPy5Xo-yUDs6CP3Xtei17eIEM\\\\\\\\u003dw156-h156-n-k-no\\\\\",null,null,[156,156]],null,null,\\\\\"k4dGZMf3Bard1sQPgrW86Ag\\\\\",\\\\\"0ahUKEwiHjdGR08L-AhWqrpUCHYIaD40QzCcIugEoAA\\\\\"]],null,null,\\\\\"k4dGZMf3Bard1sQPgrW86Ag\\\\\"],null,null,null,null,null,null,null,null,null,null,null,null,null,null,null,null,null,null,null,null,null,null,null,null,null,null,null,null,null,null,null,null,null,null,null,null,null,null,null,null,null,null,null,null,null,null,null,null,null,null,null,null,null,null,null,null,null,null,null,null,null,null,null,null,null,null,null,null,\\\\\"Cafe\\\\\"]],[\\\\\"0x0:0x9b01376acfc4a19f\\\\\",[\\\\\"k4dGZMf3Bard1sQPgrW86Ag\\\\\",\\\\\"0ahUKEwiHjdGR08L-AhWqrpUCHYIaD40Q8BcIuwEoGQ\\\\\",null,null,[null,null,null,null,null,null,null,4.7,52],null,null,null,null,[null,null,19.21744,72.9805551],\\\\\"0x0:0x9b01376acfc4a19f\\\\\",\\\\\"Cafe Junction\\\\\",null,[\\\\\"Vegetarian\\\\\",\\\\\"Cafe\\\\\",\\\\\"Chinese\\\\\",\\\\\"Indian\\\\\",\\\\\"Juice\\\\\"],null,null,null,null,null,null,null,null,null,null,null,null,null,null,null,null,null,null,null,null,null,null,null,[[[null,null,null,null,null,null,[\\\\\"https://lh5.googleusercontent.com/p/AF1QipPdSDGGSJ8UcoNGc_H5FrD4sOb32MMKeMjO5cqo\\\\\\\\u003dw156-h156-n-k-no\\\\\",null,null,[156,156]],null,null,\\\\\"k4dGZMf3Bard1sQPgrW86Ag\\\\\",\\\\\"0ahUKEwiHjdGR08L-AhWqrpUCHYIaD40QzCcIvgEoAA\\\\\"]],null,null,\\\\\"k4dGZMf3Bard1sQPgrW86Ag\\\\\"],null,null,null,null,null,null,null,null,null,null,null,null,null,null,null,null,null,null,null,null,null,null,null,null,null,null,null,null,null,null,null,null,null,null,null,null,null,null,null,null,null,null,null,null,null,null,null,null,null,null,null,null,null,null,null,null,null,null,null,null,null,null,null,null,null,null,null,null,\\\\\"Vegetarian\\\\\"]],[\\\\\"0x0:0x8b8c0e949a282a74\\\\\",[\\\\\"k4dGZMf3Bard1sQPgrW86Ag\\\\\",\\\\\"0ahUKEwiHjdGR08L-AhWqrpUCHYIaD40Q8BcIvwEoGg\\\\\",null,null,[null,null,null,null,null,null,null,3.7,953],null,null,null,null,[null,null,19.187657599999998,72.9606398],\\\\\"0x0:0x8b8c0e949a282a74\\\\\",\\\\\"Love Leaf Cafe\\\\\",null,[\\\\\"Cafe\\\\\"],null,null,null,null,null,null,null,null,null,null,null,null,null,null,null,null,null,null,null,null,null,null,null,[[[null,null,null,null,null,null,[\\\\\"https://lh5.googleusercontent.com/p/AF1QipNgmRRgBbGlx0QYOFyGZ-g0rvBUsuX5FDcw_eXc\\\\\\\\u003dw156-h156-n-k-no\\\\\",null,null,[156,156]],null,null,\\\\\"k4dGZMf3Bard1sQPgrW86Ag\\\\\",\\\\\"0ahUKEwiHjdGR08L-AhWqrpUCHYIaD40QzCcIwgEoAA\\\\\"]],null,null,\\\\\"k4dGZMf3Bard1sQPgrW86Ag\\\\\"],null,null,null,null,null,null,null,null,null,null,null,null,null,null,null,null,null,null,null,null,null,null,null,null,null,null,null,null,null,null,null,null,null,null,null,null,null,null,null,null,null,null,null,null,null,null,null,null,null,null,null,null,null,null,null,null,null,null,null,null,null,null,null,null,null,null,null,null,\\\\\"Cafe\\\\\"]],[\\\\\"0x0:0x339da2fe8cb4da0e\\\\\"],[\\\\\"0x0:0x40a853ea6ce2557e\\\\\"],[\\\\\"0x0:0xa982cb521a6bae29\\\\\"],[\\\\\"0x0:0x543cfc6bf5a6b247\\\\\"],[\\\\\"0x0:0x81720cfe659a65a3\\\\\"],[\\\\\"0x0:0xf1a73bae9fcb28e1\\\\\"],[\\\\\"0x0:0x7f8d2c960c4be70b\\\\\"],[\\\\\"0x0:0xce717e31c5be713a\\\\\"],[\\\\\"0x0:0x1f695aee1eb28418\\\\\"],[\\\\\"0x0:0xb7c4cccba1de9ba3\\\\\"],[\\\\\"0x0:0x353a793766e8c509\\\\\"],[\\\\\"0x0:0x74b15190e9d2c626\\\\\"],[\\\\\"0x0:0x6ff5b345893408b4\\\\\"],[\\\\\"0x0:0x476dcaef84af6daa\\\\\"],[\\\\\"0x0:0x61663bd75c881b1c\\\\\"]]]]],[null,[[\\\\\"service_options\\\\\",\\\\\"Service options\\\\\",[[\\\\\"/geo/type/establishment_poi/has_takeout\\\\\",\\\\\"Takeaway\\\\\",[1,[[1,\\\\\"Takeaway\\\\\"]],[1,\\\\\"Takeaway\\\\\",\\\\\"Takeaway\\\\\",\\\\\"Offers takeaway\\\\\"]],null,[1],0],[\\\\\"/geo/type/establishment_poi/serves_dine_in\\\\\",\\\\\"Dine-in\\\\\",[1,[[1,\\\\\"Dine-in\\\\\"]],[1,\\\\\"Dine-in\\\\\",\\\\\"Dine-in\\\\\",\\\\\"Serves dine-in\\\\\"]],null,[1],0]]],[\\\\\"offerings\\\\\",\\\\\"Offerings\\\\\",[[\\\\\"/geo/type/establishment_poi/serves_coffee\\\\\",\\\\\"Coffee\\\\\",[1,[[1,\\\\\"Coffee\\\\\"]],[1,\\\\\"Coffee\\\\\",\\\\\"Coffee\\\\\",\\\\\"Serves coffee\\\\\"]],null,[1],0],[\\\\\"/geo/type/establishment_poi/serves_small_plates\\\\\",\\\\\"Small plates\\\\\",[1,[[1,\\\\\"Small plates\\\\\"]],[1,\\\\\"Small plates\\\\\",\\\\\"Small plates\\\\\",\\\\\"Serves small plates\\\\\"]],null,[1],0]]],[\\\\\"dining_options\\\\\",\\\\\"Dining options\\\\\",[[\\\\\"/geo/type/establishment_poi/serves_lunch\\\\\",\\\\\"Lunch\\\\\",[1,[[1,\\\\\"Lunch\\\\\"]],[1,\\\\\"Lunch\\\\\",\\\\\"Lunch\\\\\",\\\\\"Serves lunch\\\\\"]],null,[1],0],[\\\\\"/geo/type/establishment_poi/serves_dessert\\\\\",\\\\\"Dessert\\\\\",[1,[[1,\\\\\"Dessert\\\\\"]],[1,\\\\\"Dessert\\\\\",\\\\\"Dessert\\\\\",\\\\\"Serves dessert\\\\\"]],null,[1],0]]],[\\\\\"amenities\\\\\",\\\\\"Amenities\\\\\",[[\\\\\"/geo/type/establishment_poi/welcomes_children\\\\\",\\\\\"Good for kids\\\\\",[1,[[1,\\\\\"Good for kids\\\\\"]],[1,\\\\\"Good for kids\\\\\",\\\\\"Good for kids\\\\\",\\\\\"Good for kids\\\\\"]],null,[9],0]]],[\\\\\"atmosphere\\\\\",\\\\\"Atmosphere\\\\\",[[\\\\\"/geo/type/establishment_poi/feels_casual\\\\\",\\\\\"Casual\\\\\",[1,[[1,\\\\\"Casual\\\\\"]],[1,\\\\\"Casual\\\\\",\\\\\"Casual\\\\\",\\\\\"Casual\\\\\"]],null,[1],0]]],[\\\\\"crowd\\\\\",\\\\\"Crowd\\\\\",[[\\\\\"/geo/type/establishment_poi/suitable_for_groups\\\\\",\\\\\"Groups\\\\\",[1,[[1,\\\\\"Good for groups\\\\\"]],[1,\\\\\"Good for groups\\\\\",\\\\\"Groups\\\\\",\\\\\"Good for groups\\\\\"]],null,[1],0]]],[\\\\\"payments\\\\\",\\\\\"Payments\\\\\",[[\\\\\"/geo/type/establishment_poi/pay_mobile_nfc\\\\\",\\\\\"Mobile Wallets\\\\\",[1,[[1,\\\\\"Mobile Wallets\\\\\"]],[1,\\\\\"Mobile Wallets\\\\\",\\\\\"Mobile Wallets\\\\\",\\\\\"Accepts Mobile Wallets\\\\\"]],null,[1],0]]]],null,[[\\\\\"/geo/type/establishment_poi/serves_dine_in\\\\\",\\\\\"Dine-in\\\\\",[1,[[1,\\\\\"Dine-in\\\\\"]],[1,\\\\\"Dine-in\\\\\",\\\\\"Dine-in\\\\\",\\\\\"Serves dine-in\\\\\"]],null,[1],0],[\\\\\"/geo/type/establishment_poi/has_takeout\\\\\",\\\\\"Takeaway\\\\\",[1,[[1,\\\\\"Takeaway\\\\\"]],[1,\\\\\"Takeaway\\\\\",\\\\\"Takeaway\\\\\",\\\\\"Offers takeaway\\\\\"]],null,[1],0]]],null,null,null,null,null,null,\\\\\"English\\\\\",null,null,\\\\\"en\\\\\",null,null,null,null,null,null,null,null,null,null,null,null,null,null,null,[null,0,null,null,\\\\\"http://www.google.com/search?authuser\\\\\\\\u003d0\\\\\\\\u0026gl\\\\\\\\u003din\\\\\\\\u0026hl\\\\\\\\u003den\\\\\\\\u0026output\\\\\\\\u003dsearch\\\\\\\\u0026ie\\\\\\\\u003dUTF-8\\\\\\\\u0026q\\\\\\\\u003dFood+town\\\\\\\\u0026ludocid\\\\\\\\u003d13466156752307523972\\\\\\\\u0026gsas\\\\\\\\u003d1\\\\\\\\u0026lsig\\\\\\\\u003dAB86z5XRyGCWr8ss02HhU2m0UVg0\\\\\\\\u0026ibp\\\\\\\\u003dgwp;0,20\\\\\\\\u0026pqap\\\\\\\\u003dCAESNgolMHgzYmU3YjlmNWU5MjFhOTdkOjB4YmFlMTY2MzgyZjA0OTE4NBIJRm9vZCB0b3duGAEgAQ\\\\\",\\\\\"http://www.google.com/search?authuser\\\\\\\\u003d0\\\\\\\\u0026gl\\\\\\\\u003din\\\\\\\\u0026hl\\\\\\\\u003den\\\\\\\\u0026output\\\\\\\\u003dsearch\\\\\\\\u0026ie\\\\\\\\u003dUTF-8\\\\\\\\u0026q\\\\\\\\u003dFood+town\\\\\\\\u0026ludocid\\\\\\\\u003d13466156752307523972\\\\\\\\u0026gsas\\\\\\\\u003d1\\\\\\\\u0026lsig\\\\\\\\u003dAB86z5XRyGCWr8ss02HhU2m0UVg0\\\\\\\\u0026ibp\\\\\\\\u003dgwp;0,21\\\\\\\\u0026pqap\\\\\\\\u003dCAMSNgolMHgzYmU3YjlmNWU5MjFhOTdkOjB4YmFlMTY2MzgyZjA0OTE4NBIJRm9vZCB0b3duGAEgAQ\\\\\",[1]],null,null,null,1,null,null,null,null,null,1,null,null,null,null,null,null,null,null,null,[9],null,null,null,[null,null,1],null,null,null,null,null,null,null,null,null,null,null,null,null,[[6,\\\\\"coffee shops\\\\\"],\\\\\"See nearby coffee shops\\\\\"],null,\\\\\"Thane, Maharashtra\\\\\",null,null,null,null,[[[\\\\\"CgIgAQ\\\\\\\\u003d\\\\\\\\u003d\\\\\",\\\\\"0ahUKEwiHjdGR08L-AhWqrpUCHYIaD40QhbADCMQBKBw\\\\\",\\\\\"All\\\\\",[[\\\\\"AF1QipOrv8dqr9nF7jjQ10iYK5i81reY6bKnTzzrjZSb\\\\\",10,12,null,null,328.90952,[\\\\\"https://lh5.googleusercontent.com/p/AF1QipOrv8dqr9nF7jjQ10iYK5i81reY6bKnTzzrjZSb\\\\\\\\u003dw529-h298-k-no\\\\\",\\\\\"\\\\\",[3840,2160],[203,100]],null,[[3,72.9780706,19.218328700000004],[0,90],[3840,2160],75],\\\\\"k4dGZMf3Bard1sQPgrW86Ag\\\\\",\\\\\"0ahUKEwiHjdGR08L-AhWqrpUCHYIaD40QzCcIxQEoAA\\\\\",null,null,null,null,null,null,null,null,null,null,[null,[10,\\\\\"AF1QipOrv8dqr9nF7jjQ10iYK5i81reY6bKnTzzrjZSb\\\\\"],[10,3,[2160,3840]],null,null,[[[2],[[null,null,19.218328700000004,72.9780706]]]],[2,null,null,[8],2,[null,null,\\\\\"photos:gmm_android\\\\\",[6,7,4,1,3]],null,null,[2023,4,20,11]]],1,null,null,null,null,null,null,[\\\\\"4316623233687333245\\\\\",\\\\\"-4980587321402027644\\\\\"],null,\\\\\"hxjeBlbD2_g\\\\\"]],null,null,null,null,null,null,0,1,null,0],[\\\\\"CgIgARICGAI\\\\\\\\u003d\\\\\",\\\\\"0ahUKEwiHjdGR08L-AhWqrpUCHYIaD40QhbADCMYBKB0\\\\\",\\\\\"Latest\\\\\",[[\\\\\"AF1QipOnYlLdHqcCDE6undLG8LO1uhwDZlRjbOZ4VvS9\\\\\",10,12,null,null,282.95367,[\\\\\"https://lh5.googleusercontent.com/p/AF1QipOnYlLdHqcCDE6undLG8LO1uhwDZlRjbOZ4VvS9\\\\\\\\u003dw224-h398-k-no\\\\\",\\\\\"\\\\\",[2160,3840],[203,100]],null,[[3,72.9780706,19.218328700000004],[0,90],[2160,3840],75],\\\\\"k4dGZMf3Bard1sQPgrW86Ag\\\\\",\\\\\"0ahUKEwiHjdGR08L-AhWqrpUCHYIaD40QzCcIxwEoAA\\\\\",null,null,null,null,null,null,null,null,null,null,[null,[10,\\\\\"AF1QipOnYlLdHqcCDE6undLG8LO1uhwDZlRjbOZ4VvS9\\\\\"],[10,3,[3840,2160]],null,null,[[[2],[[null,null,19.218328700000004,72.9780706]]]],[2,null,null,null,2,[null,null,\\\\\"photos:gmm_android\\\\\",[6,7,4,1,3]],null,null,[2023,4,20,11]]],1,null,null,null,null,null,null,[\\\\\"4316623233687333245\\\\\",\\\\\"-4980587321402027644\\\\\"],null,\\\\\"GiqxlE3mHqA\\\\\"],[1]],null,null,\\\\\"4 days ago\\\\\",null,null,null,1,1,1,0],[\\\\\"CgIYIA\\\\\\\\u003d\\\\\\\\u003d\\\\\",\\\\\"0ahUKEwiHjdGR08L-AhWqrpUCHYIaD40QhbADCMgBKB4\\\\\",\\\\\"Food \\\\\\\\u0026 drink\\\\\",[[\\\\\"AF1QipPfqSnzl5SeCoAio-wMS0Vw-XO5UeXlNl1DYDEA\\\\\",10,12,null,null,283.1345,[\\\\\"https://lh5.googleusercontent.com/p/AF1QipPfqSnzl5SeCoAio-wMS0Vw-XO5UeXlNl1DYDEA\\\\\\\\u003dw396-h298-k-no\\\\\",\\\\\"\\\\\",[4624,3472],[203,100]],null,[[3,72.9780706,19.218328700000004],[0,90],[4624,3472],75],\\\\\"k4dGZMf3Bard1sQPgrW86Ag\\\\\",\\\\\"0ahUKEwiHjdGR08L-AhWqrpUCHYIaD40QzCcIyQEoAA\\\\\",null,null,null,null,null,null,null,null,null,null,[null,[10,\\\\\"AF1QipPfqSnzl5SeCoAio-wMS0Vw-XO5UeXlNl1DYDEA\\\\\"],[10,3,[3472,4624]],null,null,[[[2],[[null,null,19.218328700000004,72.9780706]]]],[2,null,null,[8],2,[null,null,\\\\\"photos:dragonfly_tactile\\\\\",[6,7,4,1,3]],null,null,[2022,10,1,7]]],1,null,null,null,null,null,null,[\\\\\"4316623233687333245\\\\\",\\\\\"-4980587321402027644\\\\\"],null,\\\\\"QJCFkzVgtPQ\\\\\"]],null,null,null,null,1,null,0,1,null,1],[\\\\\"CgIgARICCAI\\\\\\\\u003d\\\\\",\\\\\"0ahUKEwiHjdGR08L-AhWqrpUCHYIaD40QhbADCMoBKB8\\\\\",\\\\\"Street View \\\\\\\\u0026 360\\xc2\\xb0\\\\\",[[\\\\\"0h7cJiCu-RTuXXJATjykXw\\\\\",0,1,null,null,433.13852,[\\\\\"https://streetviewpixels-pa.googleapis.com/v1/thumbnail?panoid\\\\\\\\u003d0h7cJiCu-RTuXXJATjykXw\\\\\\\\u0026cb_client\\\\\\\\u003dmaps_sv.tactile.gps\\\\\\\\u0026w\\\\\\\\u003d224\\\\\\\\u0026h\\\\\\\\u003d298\\\\\\\\u0026yaw\\\\\\\\u003d165.40897\\\\\\\\u0026pitch\\\\\\\\u003d0\\\\\\\\u0026thumbfov\\\\\\\\u003d100\\\\\",\\\\\"\\\\\",null,[203,100]],null,[[3,72.97805560219038,19.218454387766073],[165.40897,90],[1024,768],75],\\\\\"k4dGZMf3Bard1sQPgrW86Ag\\\\\",\\\\\"0ahUKEwiHjdGR08L-AhWqrpUCHYIaD40QzCcIywEoAA\\\\\",null,null,null,null,null,null,null,null,null,null,[null,[2,\\\\\"0h7cJiCu-RTuXXJATjykXw\\\\\"],[2,2,null,[]],null,null,[[[2],[[null,null,19.218454387766073,72.97805560219038],null,[353.95358,88.79038,2.1763809]]]],[3,null,null,[2],null,[null,null,\\\\\"launch\\\\\",[6]],null,null,[2023,4,20,17]]],2,null,null,null,null,null,null,[\\\\\"4316623233687333245\\\\\",\\\\\"-4980587321402027644\\\\\"],null,\\\\\"ynWzWwKMqqI\\\\\"]],null,null,null,null,null,null,0,1,null,0]]],null,null,[\\\\\"https://www.google.com/search?q\\\\\\\\u003dlocal+guide+program\\\\\\\\u0026ibp\\\\\\\\u003dgwp;0,26,OiIKICIcRm9vZCB0b3duIFRoYW5lLCBNYWhhcmFzaHRyYSgC\\\\\\\\u0026pcl\\\\\\\\u003dlp\\\\\"],[[[[[\\\\\"ChZDSUhNMG9nS0VJQ0FnSUMyOHA3NlB3EAE\\\\\",[\\\\\"0x0:0xbae166382f049184\\\\\",null,1650176790950023,1650176982667634,[[[5,null,1],16,39,\\\\\"https://lh3.googleusercontent.com/a-/ACB-R5S2ze6nMecBTlOeXimibib2OZTshiMJnTWAiZ0_vC4\\\\\\\\u003ds120-c-c0x00000000-cc-rp-mo-ba3-br100\\\\\",\\\\\"Divya Futak\\\\\",\\\\\"https://www.google.com/maps/contrib/109756394067418132234?hl\\\\\\\\u003den-US\\\\\",null,null,\\\\\"https://www.google.com/maps/contrib/109756394067418132234?hl\\\\\\\\u003den-US\\\\\",null,null,null,[\\\\\"Local Guide \\xc2\\xb7 16 reviews\\\\\",null,null,null,null,[null,\\\\\"0ahUKEwiHjdGR08L-AhWqrpUCHYIaD40Q7LoGCHMoAA\\\\\",1,3]],\\\\\"109756394067418132234\\\\\"],[\\\\\"/url?q\\\\\\\\u003dhttps://www.google.com/maps/contrib/109756394067418132234%3Fhl%3Den-US\\\\\\\\u0026sa\\\\\\\\u003dU\\\\\\\\u0026ved\\\\\\\\u003d0ahUKEwiHjdGR08L-AhWqrpUCHYIaD40QtxwIdCgB\\\\\\\\u0026usg\\\\\\\\u003dAOvVaw3u_dw6_PBpjQfFU6XaQCGq\\\\\",\\\\\"Divya Futak\\\\\",\\\\\"https://lh3.googleusercontent.com/a-/ACB-R5S2ze6nMecBTlOeXimibib2OZTshiMJnTWAiZ0_vC4\\\\\\\\u003ds120-c-c0x00000000-cc-rp-mo-ba3-br100\\\\\",\\\\\"0ahUKEwiHjdGR08L-AhWqrpUCHYIaD40QtxwIdCgB\\\\\"],[\\\\\"/url?q\\\\\\\\u003dhttps://www.google.com/maps/contrib/109756394067418132234/reviews%3Fhl%3Den-US\\\\\\\\u0026sa\\\\\\\\u003dU\\\\\\\\u0026ved\\\\\\\\u003d0ahUKEwiHjdGR08L-AhWqrpUCHYIaD40QtxwIdSgC\\\\\\\\u0026usg\\\\\\\\u003dAOvVaw0BSfRErhhyLRBgqQaVYqVr\\\\\",\\\\\"Divya Futak\\\\\",\\\\\"https://lh3.googleusercontent.com/a-/ACB-R5S2ze6nMecBTlOeXimibib2OZTshiMJnTWAiZ0_vC4\\\\\\\\u003ds120-c-c0x00000000-cc-rp-mo-ba3-br100\\\\\",\\\\\"0ahUKEwiHjdGR08L-AhWqrpUCHYIaD40QtxwIdSgC\\\\\"],\\\\\"D\\\\\"],1,\\\\\"a year ago\\\\\",null,null,null,\\\\\"109756394067418132234\\\\\",null,null,null,null,1],[[4],[\\\\\"It\\'s a pure veg restaurant, good food with good ambience..\\\\\",\\\\\"en\\\\\",null,null,null,null,0,null,[0,58]],[[\\\\\"AF1QipOw37BFeJko4Q0bGovRf76NpQQhYFK6MLvsmXnG\\\\\",[\\\\\"AF1QipOw37BFeJko4Q0bGovRf76NpQQhYFK6MLvsmXnG\\\\\",null,null,null,null,null,[\\\\\"https://lh5.googleusercontent.com/p/AF1QipOw37BFeJko4Q0bGovRf76NpQQhYFK6MLvsmXnG\\\\\\\\u003dw150-h150-k-no-p\\\\\"],null,null,\\\\\"k4dGZMf3Bard1sQPgrW86Ag\\\\\",\\\\\"0ahUKEwiHjdGR08L-AhWqrpUCHYIaD40QzCcIdigD\\\\\",[\\\\\"//www.google.com/local/imagery/report/?cb_client\\\\\\\\u003dmaps_sv.tactile\\\\\\\\u0026image_key\\\\\\\\u003d!1e10!2sAF1QipOw37BFeJko4Q0bGovRf76NpQQhYFK6MLvsmXnG\\\\\",null,null,\\\\\"0ahUKEwiHjdGR08L-AhWqrpUCHYIaD40Q-y4IdygA\\\\\"],null,null,null,null,null,null,null,null,null,[[1],[10,\\\\\"AF1QipOw37BFeJko4Q0bGovRf76NpQQhYFK6MLvsmXnG\\\\\"],[10,3,[1982,1586],null,null,null,null,null,null,\\\\\"AF1QipOw37BFeJko4Q0bGovRf76NpQQhYFK6MLvsmXnG\\\\\"],[null,null,null,null,null,null,null,[\\\\\"Food town\\\\\",\\\\\"en\\\\\"]],[null,[[[\\\\\"Divya Futak\\\\\"],\\\\\"https://www.google.com/maps/contrib/109756394067418132234?hl\\\\\\\\u003den-US\\\\\",\\\\\"https://lh3.googleusercontent.com/a-/ACB-R5S2ze6nMecBTlOeXimibib2OZTshiMJnTWAiZ0_vC4\\\\\\\\u003ds120-c-c0x00000000-cc-rp-mo-ba3-br100\\\\\"]]],null,[2,0,null,null,null,[null,null,\\\\\"photos:gmm_android_review_post\\\\\",[6,7,4,1,3]],null,[2021,10,3,null,null,null,null,null,[\\\\\"a year ago\\\\\"]],[2022,4,17,6,null,null,null,null,[\\\\\"a year ago\\\\\"]]],[\\\\\"//www.google.com/local/imagery/report/?cb_client\\\\\\\\u003dmaps_sv.tactile\\\\\\\\u0026image_key\\\\\\\\u003d!1e10!2sAF1QipOw37BFeJko4Q0bGovRf76NpQQhYFK6MLvsmXnG\\\\\"]]],\\\\\"CIHM0ogKEICAgIC28t7-JA\\\\\",1],[\\\\\"AF1QipN9-8KZX-vrCeODgIrNqNUS7mVRsW8vjUWG1XQx\\\\\",[\\\\\"AF1QipN9-8KZX-vrCeODgIrNqNUS7mVRsW8vjUWG1XQx\\\\\",null,null,null,null,null,[\\\\\"https://lh5.googleusercontent.com/p/AF1QipN9-8KZX-vrCeODgIrNqNUS7mVRsW8vjUWG1XQx\\\\\\\\u003dw150-h150-k-no-p\\\\\"],null,null,\\\\\"k4dGZMf3Bard1sQPgrW86Ag\\\\\",\\\\\"0ahUKEwiHjdGR08L-AhWqrpUCHYIaD40QzCcIeCgE\\\\\",[\\\\\"//www.google.com/local/imagery/report/?cb_client\\\\\\\\u003dmaps_sv.tactile\\\\\\\\u0026image_key\\\\\\\\u003d!1e10!2sAF1QipN9-8KZX-vrCeODgIrNqNUS7mVRsW8vjUWG1XQx\\\\\",null,null,\\\\\"0ahUKEwiHjdGR08L-AhWqrpUCHYIaD40Q-y4IeSgA\\\\\"],null,null,null,null,null,null,null,null,null,[[1],[10,\\\\\"AF1QipN9-8KZX-vrCeODgIrNqNUS7mVRsW8vjUWG1XQx\\\\\"],[10,3,[2048,1536],null,null,null,null,null,null,\\\\\"AF1QipN9-8KZX-vrCeODgIrNqNUS7mVRsW8vjUWG1XQx\\\\\"],[null,null,null,null,null,null,null,[\\\\\"Food town\\\\\",\\\\\"en\\\\\"]],[null,[[[\\\\\"Divya Futak\\\\\"],\\\\\"https://www.google.com/maps/contrib/109756394067418132234?hl\\\\\\\\u003den-US\\\\\",\\\\\"https://lh3.googleusercontent.com/a-/ACB-R5S2ze6nMecBTlOeXimibib2OZTshiMJnTWAiZ0_vC4\\\\\\\\u003ds120-c-c0x00000000-cc-rp-mo-ba3-br100\\\\\"]]],null,[2,0,null,null,null,[null,null,\\\\\"photos:gmm_android_review_post\\\\\",[6,7,4,1,3]],null,[2021,10,2,null,null,null,null,null,[\\\\\"a year ago\\\\\"]],[2022,4,17,6,null,null,null,null,[\\\\\"a year ago\\\\\"]]],[\\\\\"//www.google.com/local/imagery/report/?cb_client\\\\\\\\u003dmaps_sv.tactile\\\\\\\\u0026image_key\\\\\\\\u003d!1e10!2sAF1QipN9-8KZX-vrCeODgIrNqNUS7mVRsW8vjUWG1XQx\\\\\"]]],\\\\\"CIHM0ogKEICAgIC28t7-pAE\\\\\",1],[\\\\\"AF1QipOOJAUdrS2vriEmXyv2ycNUfgF8nVs2R78nlur_\\\\\",[\\\\\"AF1QipOOJAUdrS2vriEmXyv2ycNUfgF8nVs2R78nlur_\\\\\",null,null,null,null,null,[\\\\\"https://lh5.googleusercontent.com/p/AF1QipOOJAUdrS2vriEmXyv2ycNUfgF8nVs2R78nlur_\\\\\\\\u003dw150-h150-k-no-p\\\\\"],null,null,\\\\\"k4dGZMf3Bard1sQPgrW86Ag\\\\\",\\\\\"0ahUKEwiHjdGR08L-AhWqrpUCHYIaD40QzCcIeigF\\\\\",[\\\\\"//www.google.com/local/imagery/report/?cb_client\\\\\\\\u003dmaps_sv.tactile\\\\\\\\u0026image_key\\\\\\\\u003d!1e10!2sAF1QipOOJAUdrS2vriEmXyv2ycNUfgF8nVs2R78nlur_\\\\\",null,null,\\\\\"0ahUKEwiHjdGR08L-AhWqrpUCHYIaD40Q-y4IeygA\\\\\"],null,null,null,null,null,null,null,null,null,[[1],[10,\\\\\"AF1QipOOJAUdrS2vriEmXyv2ycNUfgF8nVs2R78nlur_\\\\\"],[10,3,[2048,1536],null,null,null,null,null,null,\\\\\"AF1QipOOJAUdrS2vriEmXyv2ycNUfgF8nVs2R78nlur_\\\\\"],[null,null,null,null,null,null,null,[\\\\\"Food town\\\\\",\\\\\"en\\\\\"]],[null,[[[\\\\\"Divya Futak\\\\\"],\\\\\"https://www.google.com/maps/contrib/109756394067418132234?hl\\\\\\\\u003den-US\\\\\",\\\\\"https://lh3.googleusercontent.com/a-/ACB-R5S2ze6nMecBTlOeXimibib2OZTshiMJnTWAiZ0_vC4\\\\\\\\u003ds120-c-c0x00000000-cc-rp-mo-ba3-br100\\\\\"]]],null,[2,0,null,null,null,[null,null,\\\\\"photos:gmm_android_review_post\\\\\",[6,7,4,1,3]],null,[2021,10,2,null,null,null,null,null,[\\\\\"a year ago\\\\\"]],[2022,4,17,6,null,null,null,null,[\\\\\"a year ago\\\\\"]]],[\\\\\"//www.google.com/local/imagery/report/?cb_client\\\\\\\\u003dmaps_sv.tactile\\\\\\\\u0026image_key\\\\\\\\u003d!1e10!2sAF1QipOOJAUdrS2vriEmXyv2ycNUfgF8nVs2R78nlur_\\\\\"]]],\\\\\"CIHM0ogKEICAgIC28t7-ZA\\\\\",1],[\\\\\"AF1QipO_E0eABncqFw-ppXGPatFna6srIj4I1f0zJS6b\\\\\",[\\\\\"AF1QipO_E0eABncqFw-ppXGPatFna6srIj4I1f0zJS6b\\\\\",null,null,null,null,null,[\\\\\"https://lh5.googleusercontent.com/p/AF1QipO_E0eABncqFw-ppXGPatFna6srIj4I1f0zJS6b\\\\\\\\u003dw150-h150-k-no-p\\\\\"],null,null,\\\\\"k4dGZMf3Bard1sQPgrW86Ag\\\\\",\\\\\"0ahUKEwiHjdGR08L-AhWqrpUCHYIaD40QzCcIfCgG\\\\\",[\\\\\"//www.google.com/local/imagery/report/?cb_client\\\\\\\\u003dmaps_sv.tactile\\\\\\\\u0026image_key\\\\\\\\u003d!1e10!2sAF1QipO_E0eABncqFw-ppXGPatFna6srIj4I1f0zJS6b\\\\\",null,null,\\\\\"0ahUKEwiHjdGR08L-AhWqrpUCHYIaD40Q-y4IfSgA\\\\\"],null,null,null,null,null,null,null,null,null,[[1],[10,\\\\\"AF1QipO_E0eABncqFw-ppXGPatFna6srIj4I1f0zJS6b\\\\\"],[10,3,[2048,1536],null,null,null,null,null,null,\\\\\"AF1QipO_E0eABncqFw-ppXGPatFna6srIj4I1f0zJS6b\\\\\"],[null,null,null,null,null,null,null,[\\\\\"Food town\\\\\",\\\\\"en\\\\\"]],[null,[[[\\\\\"Divya Futak\\\\\"],\\\\\"https://www.google.com/maps/contrib/109756394067418132234?hl\\\\\\\\u003den-US\\\\\",\\\\\"https://lh3.googleusercontent.com/a-/ACB-R5S2ze6nMecBTlOeXimibib2OZTshiMJnTWAiZ0_vC4\\\\\\\\u003ds120-c-c0x00000000-cc-rp-mo-ba3-br100\\\\\"]]],null,[2,0,null,null,null,[null,null,\\\\\"photos:gmm_android_review_post\\\\\",[6,7,4,1,3]],null,[2021,10,2,null,null,null,null,null,[\\\\\"a year ago\\\\\"]],[2022,4,17,6,null,null,null,null,[\\\\\"a year ago\\\\\"]]],[\\\\\"//www.google.com/local/imagery/report/?cb_client\\\\\\\\u003dmaps_sv.tactile\\\\\\\\u0026image_key\\\\\\\\u003d!1e10!2sAF1QipO_E0eABncqFw-ppXGPatFna6srIj4I1f0zJS6b\\\\\"]]],\\\\\"CIHM0ogKEICAgIC28t7-5AE\\\\\",1],[\\\\\"AF1QipPOUo2GxbqhEcyk5cVjySbYawmWozipOEQ56F1p\\\\\",[\\\\\"AF1QipPOUo2GxbqhEcyk5cVjySbYawmWozipOEQ56F1p\\\\\",null,null,null,null,null,[\\\\\"https://lh5.googleusercontent.com/p/AF1QipPOUo2GxbqhEcyk5cVjySbYawmWozipOEQ56F1p\\\\\\\\u003dw150-h150-k-no-p\\\\\"],null,null,\\\\\"k4dGZMf3Bard1sQPgrW86Ag\\\\\",\\\\\"0ahUKEwiHjdGR08L-AhWqrpUCHYIaD40QzCcIfigH\\\\\",[\\\\\"//www.google.com/local/imagery/report/?cb_client\\\\\\\\u003dmaps_sv.tactile\\\\\\\\u0026image_key\\\\\\\\u003d!1e10!2sAF1QipPOUo2GxbqhEcyk5cVjySbYawmWozipOEQ56F1p\\\\\",null,null,\\\\\"0ahUKEwiHjdGR08L-AhWqrpUCHYIaD40Q-y4IfygA\\\\\"],null,null,null,null,null,null,null,null,null,[[1],[10,\\\\\"AF1QipPOUo2GxbqhEcyk5cVjySbYawmWozipOEQ56F1p\\\\\"],[10,3,[2048,1536],null,null,null,null,null,null,\\\\\"AF1QipPOUo2GxbqhEcyk5cVjySbYawmWozipOEQ56F1p\\\\\"],[null,null,null,null,null,null,null,[\\\\\"Food town\\\\\",\\\\\"en\\\\\"]],[null,[[[\\\\\"Divya Futak\\\\\"],\\\\\"https://www.google.com/maps/contrib/109756394067418132234?hl\\\\\\\\u003den-US\\\\\",\\\\\"https://lh3.googleusercontent.com/a-/ACB-R5S2ze6nMecBTlOeXimibib2OZTshiMJnTWAiZ0_vC4\\\\\\\\u003ds120-c-c0x00000000-cc-rp-mo-ba3-br100\\\\\"]]],null,[2,0,null,null,null,[null,null,\\\\\"photos:gmm_android_review_post\\\\\",[6,7,4,1,3]],null,[2021,10,2,null,null,null,null,null,[\\\\\"a year ago\\\\\"]],[2022,4,17,6,null,null,null,null,[\\\\\"a year ago\\\\\"]]],[\\\\\"//www.google.com/local/imagery/report/?cb_client\\\\\\\\u003dmaps_sv.tactile\\\\\\\\u0026image_key\\\\\\\\u003d!1e10!2sAF1QipPOUo2GxbqhEcyk5cVjySbYawmWozipOEQ56F1p\\\\\"]]],\\\\\"CIHM0ogKEICAgIC28t7-FA\\\\\",1],[\\\\\"AF1QipPXY0geAqoqecJ2gL2GFtPWQNRamGxDO8KoqSKv\\\\\",[\\\\\"AF1QipPXY0geAqoqecJ2gL2GFtPWQNRamGxDO8KoqSKv\\\\\",null,null,null,null,null,[\\\\\"https://lh5.googleusercontent.com/p/AF1QipPXY0geAqoqecJ2gL2GFtPWQNRamGxDO8KoqSKv\\\\\\\\u003dw150-h150-k-no-p\\\\\"],null,null,\\\\\"k4dGZMf3Bard1sQPgrW86Ag\\\\\",\\\\\"0ahUKEwiHjdGR08L-AhWqrpUCHYIaD40QzCcIgAEoCA\\\\\",[\\\\\"//www.google.com/local/imagery/report/?cb_client\\\\\\\\u003dmaps_sv.tactile\\\\\\\\u0026image_key\\\\\\\\u003d!1e10!2sAF1QipPXY0geAqoqecJ2gL2GFtPWQNRamGxDO8KoqSKv\\\\\",null,null,\\\\\"0ahUKEwiHjdGR08L-AhWqrpUCHYIaD40Q-y4IgQEoAA\\\\\"],null,null,null,null,null,null,null,null,null,[[1],[10,\\\\\"AF1QipPXY0geAqoqecJ2gL2GFtPWQNRamGxDO8KoqSKv\\\\\"],[10,3,[2048,1536],null,null,null,null,null,null,\\\\\"AF1QipPXY0geAqoqecJ2gL2GFtPWQNRamGxDO8KoqSKv\\\\\"],[null,null,null,null,null,null,null,[\\\\\"Food town\\\\\",\\\\\"en\\\\\"]],[null,[[[\\\\\"Divya Futak\\\\\"],\\\\\"https://www.google.com/maps/contrib/109756394067418132234?hl\\\\\\\\u003den-US\\\\\",\\\\\"https://lh3.googleusercontent.com/a-/ACB-R5S2ze6nMecBTlOeXimibib2OZTshiMJnTWAiZ0_vC4\\\\\\\\u003ds120-c-c0x00000000-cc-rp-mo-ba3-br100\\\\\"]]],null,[2,0,null,null,null,[null,null,\\\\\"photos:gmm_android_review_post\\\\\",[6,7,4,1,3]],null,[2021,10,2,null,null,null,null,null,[\\\\\"a year ago\\\\\"]],[2022,4,17,6,null,null,null,null,[\\\\\"a year ago\\\\\"]]],[\\\\\"//www.google.com/local/imagery/report/?cb_client\\\\\\\\u003dmaps_sv.tactile\\\\\\\\u0026image_key\\\\\\\\u003d!1e10!2sAF1QipPXY0geAqoqecJ2gL2GFtPWQNRamGxDO8KoqSKv\\\\\"]]],\\\\\"CIHM0ogKEICAgIC28t7-lAE\\\\\",1],[\\\\\"AF1QipNhchGMOUBWwkxl1_62EDdD7NcZrVCWRFCRXyXU\\\\\",[\\\\\"AF1QipNhchGMOUBWwkxl1_62EDdD7NcZrVCWRFCRXyXU\\\\\",null,null,null,null,null,[\\\\\"https://lh5.googleusercontent.com/p/AF1QipNhchGMOUBWwkxl1_62EDdD7NcZrVCWRFCRXyXU\\\\\\\\u003dw150-h150-k-no-p\\\\\"],null,null,\\\\\"k4dGZMf3Bard1sQPgrW86Ag\\\\\",\\\\\"0ahUKEwiHjdGR08L-AhWqrpUCHYIaD40QzCcIggEoCQ\\\\\",[\\\\\"//www.google.com/local/imagery/report/?cb_client\\\\\\\\u003dmaps_sv.tactile\\\\\\\\u0026image_key\\\\\\\\u003d!1e10!2sAF1QipNhchGMOUBWwkxl1_62EDdD7NcZrVCWRFCRXyXU\\\\\",null,null,\\\\\"0ahUKEwiHjdGR08L-AhWqrpUCHYIaD40Q-y4IgwEoAA\\\\\"],null,null,null,null,null,null,null,null,null,[[1],[10,\\\\\"AF1QipNhchGMOUBWwkxl1_62EDdD7NcZrVCWRFCRXyXU\\\\\"],[10,3,[2048,1536],null,null,null,null,null,null,\\\\\"AF1QipNhchGMOUBWwkxl1_62EDdD7NcZrVCWRFCRXyXU\\\\\"],[null,null,null,null,null,null,null,[\\\\\"Food town\\\\\",\\\\\"en\\\\\"]],[null,[[[\\\\\"Divya Futak\\\\\"],\\\\\"https://www.google.com/maps/contrib/109756394067418132234?hl\\\\\\\\u003den-US\\\\\",\\\\\"https://lh3.googleusercontent.com/a-/ACB-R5S2ze6nMecBTlOeXimibib2OZTshiMJnTWAiZ0_vC4\\\\\\\\u003ds120-c-c0x00000000-cc-rp-mo-ba3-br100\\\\\"]]],null,[2,0,null,null,null,[null,null,\\\\\"photos:gmm_android_review_post\\\\\",[6,7,4,1,3]],null,[2021,10,2,null,null,null,null,null,[\\\\\"a year ago\\\\\"]],[2022,4,17,6,null,null,null,null,[\\\\\"a year ago\\\\\"]]],[\\\\\"//www.google.com/local/imagery/report/?cb_client\\\\\\\\u003dmaps_sv.tactile\\\\\\\\u0026image_key\\\\\\\\u003d!1e10!2sAF1QipNhchGMOUBWwkxl1_62EDdD7NcZrVCWRFCRXyXU\\\\\"]]],\\\\\"CIHM0ogKEICAgIC28t7-VA\\\\\",1],[\\\\\"AF1QipNQjor2dHy7ZgOZv47Ll53ERqUoOJeTpDJcXkSL\\\\\",[\\\\\"AF1QipNQjor2dHy7ZgOZv47Ll53ERqUoOJeTpDJcXkSL\\\\\",null,null,null,null,null,[\\\\\"https://lh5.googleusercontent.com/p/AF1QipNQjor2dHy7ZgOZv47Ll53ERqUoOJeTpDJcXkSL\\\\\\\\u003dw150-h150-k-no-p\\\\\"],null,null,\\\\\"k4dGZMf3Bard1sQPgrW86Ag\\\\\",\\\\\"0ahUKEwiHjdGR08L-AhWqrpUCHYIaD40QzCcIhAEoCg\\\\\",[\\\\\"//www.google.com/local/imagery/report/?cb_client\\\\\\\\u003dmaps_sv.tactile\\\\\\\\u0026image_key\\\\\\\\u003d!1e10!2sAF1QipNQjor2dHy7ZgOZv47Ll53ERqUoOJeTpDJcXkSL\\\\\",null,null,\\\\\"0ahUKEwiHjdGR08L-AhWqrpUCHYIaD40Q-y4IhQEoAA\\\\\"],null,null,null,null,null,null,null,null,null,[[1],[10,\\\\\"AF1QipNQjor2dHy7ZgOZv47Ll53ERqUoOJeTpDJcXkSL\\\\\"],[10,3,[1536,2048],null,null,null,null,null,null,\\\\\"AF1QipNQjor2dHy7ZgOZv47Ll53ERqUoOJeTpDJcXkSL\\\\\"],[null,null,null,null,null,null,null,[\\\\\"Food town\\\\\",\\\\\"en\\\\\"]],[null,[[[\\\\\"Divya Futak\\\\\"],\\\\\"https://www.google.com/maps/contrib/109756394067418132234?hl\\\\\\\\u003den-US\\\\\",\\\\\"https://lh3.googleusercontent.com/a-/ACB-R5S2ze6nMecBTlOeXimibib2OZTshiMJnTWAiZ0_vC4\\\\\\\\u003ds120-c-c0x00000000-cc-rp-mo-ba3-br100\\\\\"]]],null,[2,0,null,null,null,[null,null,\\\\\"photos:gmm_android_review_post\\\\\",[6,7,4,1,3]],null,[2021,10,2,null,null,null,null,null,[\\\\\"a year ago\\\\\"]],[2022,4,17,6,null,null,null,null,[\\\\\"a year ago\\\\\"]]],[\\\\\"//www.google.com/local/imagery/report/?cb_client\\\\\\\\u003dmaps_sv.tactile\\\\\\\\u0026image_key\\\\\\\\u003d!1e10!2sAF1QipNQjor2dHy7ZgOZv47Ll53ERqUoOJeTpDJcXkSL\\\\\"]]],\\\\\"CIHM0ogKEICAgIC28t7-1AE\\\\\",1]],null,null,null,[[[\\\\\"GUIDED_DINING_MODE\\\\\"],\\\\\"Did you dine in, take out, or get delivery?\\\\\",[[[[\\\\\"E:DINE_IN\\\\\"],\\\\\"Dine in\\\\\",2,null,null,\\\\\"0ahUKEwiHjdGR08L-AhWqrpUCHYIaD40Q3YcHCIcBKAA\\\\\",null,null,0]],1],null,null,\\\\\"Service\\\\\",1,\\\\\"0ahUKEwiHjdGR08L-AhWqrpUCHYIaD40Q3IcHCIYBKAs\\\\\",null,null,null,null,null,1,[[1]]],[[\\\\\"GUIDED_DINING_MEAL_TYPE\\\\\"],\\\\\"What did you get?\\\\\",[[[[\\\\\"E:BRUNCH\\\\\"],\\\\\"Brunch\\\\\",2,null,null,\\\\\"0ahUKEwiHjdGR08L-AhWqrpUCHYIaD40Q3YcHCIkBKAA\\\\\",null,null,0]],1],null,null,\\\\\"Meal type\\\\\",1,\\\\\"0ahUKEwiHjdGR08L-AhWqrpUCHYIaD40Q3IcHCIgBKAw\\\\\",null,null,null,null,null,1,[[1]]],[[\\\\\"GUIDED_DINING_PRICE_RANGE\\\\\"],\\\\\"How much did you spend per person?\\\\\",[[[[\\\\\"E:INR_400_TO_600\\\\\"],\\\\\"\\xe2\\x82\\xb9400\\xe2\\x80\\x93600\\\\\",2,null,\\\\\"\\xe2\\x82\\xb9400 to \\xe2\\x82\\xb9600\\\\\",\\\\\"0ahUKEwiHjdGR08L-AhWqrpUCHYIaD40Q3YcHCIsBKAA\\\\\"]],1],null,null,\\\\\"Price per person\\\\\",1,\\\\\"0ahUKEwiHjdGR08L-AhWqrpUCHYIaD40Q3IcHCIoBKA0\\\\\",null,null,null,null,null,1,[[1],[2]]]],null,null,null,null,null,null,null,[\\\\\"en\\\\\"],[[\\\\\"It\\'s a pure veg restaurant, good food with good ambience..\\\\\",null,[0,58]]]],null,[null,null,null,[\\\\\"https://www.google.com/maps/reviews/data\\\\\\\\u003d!4m8!14m7!1m6!2m5!1sChZDSUhNMG9nS0VJQ0FnSUMyOHA3NlB3EAE!2m1!1s0x0:0xbae166382f049184!3m1!1s2@1:CIHM0ogKEICAgIC28p76Pw%7CCgwI2efukgYQgOCSkwI%7C?hl\\\\\\\\u003den-US\\\\\",null,null,\\\\\"0ahUKEwiHjdGR08L-AhWqrpUCHYIaD40QtxwIjAEoDg\\\\\"],[\\\\\"https://www.google.com/local/review/rap/report?postId\\\\\\\\u003dChZDSUhNMG9nS0VJQ0FnSUMyOHA3NlB3EAE\\\\\\\\u0026entityid\\\\\\\\u003dChZDSUhNMG9nS0VJQ0FnSUMyOHA3NlB3Ei4KF0NJSE0wb2dLRUlDQWdJQzI4cDc2dndFEhNDZ3dJMXVmdWtnWVEwSkt0dmdJGi0KFkNJSE0wb2dLRUlDQWdJQzI4cDc2ZncSE0Nnd0kxdWZ1a2dZUTBKS3R2Z0kiEgl9qSHp9bnnOxGEkQQvOGbhuioTQ2d3STJlZnVrZ1lRZ09DU2t3SQ\\\\\\\\u0026wv\\\\\\\\u003d1\\\\\\\\u0026d\\\\\\\\u003d286732320\\\\\",\\\\\"Flag as inappropriate\\\\\",null,\\\\\"0ahUKEwiHjdGR08L-AhWqrpUCHYIaD40QoykIjQEoDw\\\\\"]],\\\\\"0ahUKEwiHjdGR08L-AhWqrpUCHYIaD40Q0pMFCHIoAA\\\\\"],null,\\\\\"CAESBkVnSUlBUQ\\\\\\\\u003d\\\\\\\\u003d\\\\\"],[[\\\\\"ChdDSUhNMG9nS0VJQ0FnSUNSMGF6dzlRRRAB\\\\\",[\\\\\"0x0:0xbae166382f049184\\\\\",null,1680597934016401,1680597934016401,[[null,1,0,\\\\\"https://lh3.googleusercontent.com/a-/ACB-R5Q_moO-TODv__Dbozp3NLsMQX6-TqDwTbjT_pvF4Q\\\\\\\\u003ds120-c-c0x00000000-cc-rp-mo-br100\\\\\",\\\\\"44.Kalyani Patil\\\\\",\\\\\"https://www.google.com/maps/contrib/118158768574657065586?hl\\\\\\\\u003den-US\\\\\",null,null,\\\\\"https://www.google.com/maps/contrib/118158768574657065586?hl\\\\\\\\u003den-US\\\\\",null,null,null,[\\\\\"1 review\\\\\",null,null,null,null,[null,\\\\\"0ahUKEwiHjdGR08L-AhWqrpUCHYIaD40Q7LoGCI8BKAA\\\\\",1,1]],\\\\\"118158768574657065586\\\\\"],[\\\\\"/url?q\\\\\\\\u003dhttps://www.google.com/maps/contrib/118158768574657065586%3Fhl%3Den-US\\\\\\\\u0026sa\\\\\\\\u003dU\\\\\\\\u0026ved\\\\\\\\u003d0ahUKEwiHjdGR08L-AhWqrpUCHYIaD40QtxwIkAEoAQ\\\\\\\\u0026usg\\\\\\\\u003dAOvVaw2ZBdnKe6w3jcYYBJ0vuL1y\\\\\",\\\\\"44.Kalyani Patil\\\\\",\\\\\"https://lh3.googleusercontent.com/a-/ACB-R5Q_moO-TODv__Dbozp3NLsMQX6-TqDwTbjT_pvF4Q\\\\\\\\u003ds120-c-c0x00000000-cc-rp-mo-br100\\\\\",\\\\\"0ahUKEwiHjdGR08L-AhWqrpUCHYIaD40QtxwIkAEoAQ\\\\\"],[\\\\\"/url?q\\\\\\\\u003dhttps://www.google.com/maps/contrib/118158768574657065586/reviews%3Fhl%3Den-US\\\\\\\\u0026sa\\\\\\\\u003dU\\\\\\\\u0026ved\\\\\\\\u003d0ahUKEwiHjdGR08L-AhWqrpUCHYIaD40QtxwIkQEoAg\\\\\\\\u0026usg\\\\\\\\u003dAOvVaw1oouLP_sCYrzQDSnjhNdMZ\\\\\",\\\\\"44.Kalyani Patil\\\\\",\\\\\"https://lh3.googleusercontent.com/a-/ACB-R5Q_moO-TODv__Dbozp3NLsMQX6-TqDwTbjT_pvF4Q\\\\\\\\u003ds120-c-c0x00000000-cc-rp-mo-br100\\\\\",\\\\\"0ahUKEwiHjdGR08L-AhWqrpUCHYIaD40QtxwIkQEoAg\\\\\"],\\\\\"\\\\\"],1,\\\\\"2 weeks ago\\\\\",null,null,null,\\\\\"118158768574657065586\\\\\",null,null,null,null,1],[[5],[\\\\\"Good food\\\\\",\\\\\"en\\\\\",null,null,null,null,0,null,[0,9]],null,null,null,null,[[[\\\\\"GUIDED_DINING_MODE\\\\\"],\\\\\"Did you dine in, take out, or get delivery?\\\\\",[[[[\\\\\"E:DINE_IN\\\\\"],\\\\\"Dine in\\\\\",2,null,null,\\\\\"0ahUKEwiHjdGR08L-AhWqrpUCHYIaD40Q3YcHCJMBKAA\\\\\",null,null,0]],1],null,null,\\\\\"Service\\\\\",1,\\\\\"0ahUKEwiHjdGR08L-AhWqrpUCHYIaD40Q3IcHCJIBKAM\\\\\",null,null,null,null,null,1,[[1]]]],null,null,null,null,null,null,null,[\\\\\"en\\\\\"],[[\\\\\"Good food\\\\\",null,[0,9]]]],null,[null,null,null,[\\\\\"https://www.google.com/maps/reviews/data\\\\\\\\u003d!4m8!14m7!1m6!2m5!1sChdDSUhNMG9nS0VJQ0FnSUNSMGF6dzlRRRAB!2m1!1s0x0:0xbae166382f049184!3m1!1s2@1:CIHM0ogKEICAgICR0azw9QE%7CCgsIrsevoQYQ6ITpBw%7C?hl\\\\\\\\u003den-US\\\\\",null,null,\\\\\"0ahUKEwiHjdGR08L-AhWqrpUCHYIaD40QtxwIlAEoBA\\\\\"],[\\\\\"https://www.google.com/local/review/rap/report?postId\\\\\\\\u003dChdDSUhNMG9nS0VJQ0FnSUNSMGF6dzlRRRAB\\\\\\\\u0026entityid\\\\\\\\u003dChdDSUhNMG9nS0VJQ0FnSUNSMGF6dzlRRRIsChZDSUhNMG9nS0VJQ0FnSUNSMGF6d0RREhJDZ3NJcnNldm9RWVE2SVRwQncaLQoXQ0lITTBvZ0tFSUNBZ0lDUjBhendqUUUSEkNnc0lyc2V2b1FZUTZJVHBCdyISCX2pIen1uec7EYSRBC84ZuG6KhJDZ3NJcnNldm9RWVE2SVRwQnc\\\\\\\\u0026wv\\\\\\\\u003d1\\\\\\\\u0026d\\\\\\\\u003d286732320\\\\\",\\\\\"Flag as inappropriate\\\\\",null,\\\\\"0ahUKEwiHjdGR08L-AhWqrpUCHYIaD40QoykIlQEoBQ\\\\\"]],\\\\\"0ahUKEwiHjdGR08L-AhWqrpUCHYIaD40Q0pMFCI4BKAE\\\\\"],null,\\\\\"CAESBkVnSUlBZw\\\\\\\\u003d\\\\\\\\u003d\\\\\"],[[\\\\\"ChdDSUhNMG9nS0VJQ0FnSUMtdmNyYXRnRRAB\\\\\",[\\\\\"0x0:0xbae166382f049184\\\\\",null,1668164213135120,1668164213135120,[[null,3,0,\\\\\"https://lh3.googleusercontent.com/a/AGNmyxZadcwz8wHlEtJ1MjFsiJ2SxcIWWfy2ubVDH7o\\\\\\\\u003ds120-c-c0x00000000-cc-rp-mo-br100\\\\\",\\\\\"Nishith Mehta\\\\\",\\\\\"https://www.google.com/maps/contrib/106602149291420931198?hl\\\\\\\\u003den-US\\\\\",null,null,\\\\\"https://www.google.com/maps/contrib/106602149291420931198?hl\\\\\\\\u003den-US\\\\\",null,null,null,[\\\\\"3 reviews\\\\\",null,null,null,null,[null,\\\\\"0ahUKEwiHjdGR08L-AhWqrpUCHYIaD40Q7LoGCJcBKAA\\\\\",1,1]],\\\\\"106602149291420931198\\\\\"],[\\\\\"/url?q\\\\\\\\u003dhttps://www.google.com/maps/contrib/106602149291420931198%3Fhl%3Den-US\\\\\\\\u0026sa\\\\\\\\u003dU\\\\\\\\u0026ved\\\\\\\\u003d0ahUKEwiHjdGR08L-AhWqrpUCHYIaD40QtxwImAEoAQ\\\\\\\\u0026usg\\\\\\\\u003dAOvVaw1zdSgKLc-8LC6CKkLSujNm\\\\\",\\\\\"Nishith Mehta\\\\\",\\\\\"https://lh3.googleusercontent.com/a/AGNmyxZadcwz8wHlEtJ1MjFsiJ2SxcIWWfy2ubVDH7o\\\\\\\\u003ds120-c-c0x00000000-cc-rp-mo-br100\\\\\",\\\\\"0ahUKEwiHjdGR08L-AhWqrpUCHYIaD40QtxwImAEoAQ\\\\\"],[\\\\\"/url?q\\\\\\\\u003dhttps://www.google.com/maps/contrib/106602149291420931198/reviews%3Fhl%3Den-US\\\\\\\\u0026sa\\\\\\\\u003dU\\\\\\\\u0026ved\\\\\\\\u003d0ahUKEwiHjdGR08L-AhWqrpUCHYIaD40QtxwImQEoAg\\\\\\\\u0026usg\\\\\\\\u003dAOvVaw3rkcvpi8lOvEfDaMn2qAr8\\\\\",\\\\\"Nishith Mehta\\\\\",\\\\\"https://lh3.googleusercontent.com/a/AGNmyxZadcwz8wHlEtJ1MjFsiJ2SxcIWWfy2ubVDH7o\\\\\\\\u003ds120-c-c0x00000000-cc-rp-mo-br100\\\\\",\\\\\"0ahUKEwiHjdGR08L-AhWqrpUCHYIaD40QtxwImQEoAg\\\\\"],\\\\\"N\\\\\"],1,\\\\\"5 months ago\\\\\",null,null,null,\\\\\"106602149291420931198\\\\\",null,null,null,null,1],[[4],[\\\\\"Superb place\\\\\",\\\\\"en\\\\\",null,null,null,null,0,null,[0,12]],null,null,null,null,[[[\\\\\"GUIDED_DINING_MODE\\\\\"],\\\\\"Did you dine in, take out, or get delivery?\\\\\",[[[[\\\\\"E:DINE_IN\\\\\"],\\\\\"Dine in\\\\\",2,null,null,\\\\\"0ahUKEwiHjdGR08L-AhWqrpUCHYIaD40Q3YcHCJsBKAA\\\\\",null,null,0]],1],null,null,\\\\\"Service\\\\\",1,\\\\\"0ahUKEwiHjdGR08L-AhWqrpUCHYIaD40Q3IcHCJoBKAM\\\\\",null,null,null,null,null,1,[[1]]],[[\\\\\"GUIDED_DINING_MEAL_TYPE\\\\\"],\\\\\"What did you get?\\\\\",[[[[\\\\\"E:DINNER\\\\\"],\\\\\"Dinner\\\\\",2,null,null,\\\\\"0ahUKEwiHjdGR08L-AhWqrpUCHYIaD40Q3YcHCJ0BKAA\\\\\",null,null,0]],1],null,null,\\\\\"Meal type\\\\\",1,\\\\\"0ahUKEwiHjdGR08L-AhWqrpUCHYIaD40Q3IcHCJwBKAQ\\\\\",null,null,null,null,null,1,[[1]]],[[\\\\\"GUIDED_DINING_PRICE_RANGE\\\\\"],\\\\\"How much did you spend per person?\\\\\",[[[[\\\\\"E:INR_2000_UP\\\\\"],\\\\\"\\xe2\\x82\\xb92,000+\\\\\",2,null,\\\\\"\\xe2\\x82\\xb92,000 or above\\\\\",\\\\\"0ahUKEwiHjdGR08L-AhWqrpUCHYIaD40Q3YcHCJ8BKAA\\\\\"]],1],null,null,\\\\\"Price per person\\\\\",1,\\\\\"0ahUKEwiHjdGR08L-AhWqrpUCHYIaD40Q3IcHCJ4BKAU\\\\\",null,null,null,null,null,1,[[1],[2]]],[[\\\\\"GUIDED_DINING_FOOD_ASPECT\\\\\"],\\\\\"Food\\\\\",null,null,null,\\\\\"Food\\\\\",1,\\\\\"0ahUKEwiHjdGR08L-AhWqrpUCHYIaD40Q3IcHCKABKAY\\\\\",null,null,null,[5],null,2,[[1]]],[[\\\\\"GUIDED_DINING_SERVICE_ASPECT\\\\\"],\\\\\"Service\\\\\",null,null,null,\\\\\"Service\\\\\",1,\\\\\"0ahUKEwiHjdGR08L-AhWqrpUCHYIaD40Q3IcHCKEBKAc\\\\\",null,null,null,[5],null,2,[[1]]],[[\\\\\"GUIDED_DINING_ATMOSPHERE_ASPECT\\\\\"],\\\\\"Atmosphere\\\\\",null,null,null,\\\\\"Atmosphere\\\\\",1,\\\\\"0ahUKEwiHjdGR08L-AhWqrpUCHYIaD40Q3IcHCKIBKAg\\\\\",null,null,null,[5],null,2,[[1]]]],null,null,null,null,null,null,null,[\\\\\"en\\\\\"],[[\\\\\"Superb place\\\\\",null,[0,12]]]],null,[null,null,null,[\\\\\"https://www.google.com/maps/reviews/data\\\\\\\\u003d!4m8!14m7!1m6!2m5!1sChdDSUhNMG9nS0VJQ0FnSUMtdmNyYXRnRRAB!2m1!1s0x0:0xbae166382f049184!3m1!1s2@1:CIHM0ogKEICAgIC-vcratgE%7CCgsI9dS4mwYQgIm3QA%7C?hl\\\\\\\\u003den-US\\\\\",null,null,\\\\\"0ahUKEwiHjdGR08L-AhWqrpUCHYIaD40QtxwIowEoCQ\\\\\"],[\\\\\"https://www.google.com/local/review/rap/report?postId\\\\\\\\u003dChdDSUhNMG9nS0VJQ0FnSUMtdmNyYXRnRRAB\\\\\\\\u0026entityid\\\\\\\\u003dChdDSUhNMG9nS0VJQ0FnSUMtdmNyYXRnRRIsChZDSUhNMG9nS0VJQ0FnSUMtdmNyYWRnEhJDZ3NJOWRTNG13WVFnSW0zUUEaLQoXQ0lITTBvZ0tFSUNBZ0lDLXZjcmE5Z0USEkNnc0k5ZFM0bXdZUWdJbTNRQSISCX2pIen1uec7EYSRBC84ZuG6KhJDZ3NJOWRTNG13WVFnSW0zUUE\\\\\\\\u0026wv\\\\\\\\u003d1\\\\\\\\u0026d\\\\\\\\u003d286732320\\\\\",\\\\\"Flag as inappropriate\\\\\",null,\\\\\"0ahUKEwiHjdGR08L-AhWqrpUCHYIaD40QoykIpAEoCg\\\\\"]],\\\\\"0ahUKEwiHjdGR08L-AhWqrpUCHYIaD40Q0pMFCJYBKAI\\\\\"],null,\\\\\"CAESBkVnSUlBdw\\\\\\\\u003d\\\\\\\\u003d\\\\\"],[[\\\\\"ChdDSUhNMG9nS0VJQ0FnSURPejk2aGxRRRAB\\\\\",[\\\\\"0x0:0xbae166382f049184\\\\\",null,1658037806480131,1658037806480131,[[[7,null,1],215,222,\\\\\"https://lh3.googleusercontent.com/a-/ACB-R5RrZuWHcI2vO3XBb8V61HYEcNfYpdBZApUDSQi9DTA\\\\\\\\u003ds120-c-c0x00000000-cc-rp-mo-ba5-br100\\\\\",\\\\\"Sameer Warsolkar\\\\\",\\\\\"https://www.google.com/maps/contrib/114814232785734109914?hl\\\\\\\\u003den-US\\\\\",null,null,\\\\\"https://www.google.com/maps/contrib/114814232785734109914?hl\\\\\\\\u003den-US\\\\\",null,null,null,[\\\\\"116 reviews in Thane\\\\\",[null,null,\\\\\"14931259628934464131\\\\\"],\\\\\"\\xf0\\x9f\\x8f\\x99\\xef\\xb8\\x8f\\\\\",null,null,[null,\\\\\"0ahUKEwiHjdGR08L-AhWqrpUCHYIaD40Q8boGCKYBKAA\\\\\",6,8]],\\\\\"114814232785734109914\\\\\"],[\\\\\"/url?q\\\\\\\\u003dhttps://www.google.com/maps/contrib/114814232785734109914%3Fhl%3Den-US\\\\\\\\u0026sa\\\\\\\\u003dU\\\\\\\\u0026ved\\\\\\\\u003d0ahUKEwiHjdGR08L-AhWqrpUCHYIaD40QtxwIpwEoAQ\\\\\\\\u0026usg\\\\\\\\u003dAOvVaw2tEjKNta7oiTgeq4VpqLx8\\\\\",\\\\\"Sameer Warsolkar\\\\\",\\\\\"https://lh3.googleusercontent.com/a-/ACB-R5RrZuWHcI2vO3XBb8V61HYEcNfYpdBZApUDSQi9DTA\\\\\\\\u003ds120-c-c0x00000000-cc-rp-mo-ba5-br100\\\\\",\\\\\"0ahUKEwiHjdGR08L-AhWqrpUCHYIaD40QtxwIpwEoAQ\\\\\"],[\\\\\"/url?q\\\\\\\\u003dhttps://www.google.com/maps/contrib/114814232785734109914/reviews%3Fhl%3Den-US\\\\\\\\u0026sa\\\\\\\\u003dU\\\\\\\\u0026ved\\\\\\\\u003d0ahUKEwiHjdGR08L-AhWqrpUCHYIaD40QtxwIqAEoAg\\\\\\\\u0026usg\\\\\\\\u003dAOvVaw1VYT0gr9S-yaWB_KvFTCR1\\\\\",\\\\\"Sameer Warsolkar\\\\\",\\\\\"https://lh3.googleusercontent.com/a-/ACB-R5RrZuWHcI2vO3XBb8V61HYEcNfYpdBZApUDSQi9DTA\\\\\\\\u003ds120-c-c0x00000000-cc-rp-mo-ba5-br100\\\\\",\\\\\"0ahUKEwiHjdGR08L-AhWqrpUCHYIaD40QtxwIqAEoAg\\\\\"],\\\\\"S\\\\\"],1,\\\\\"9 months ago\\\\\",null,null,null,\\\\\"114814232785734109914\\\\\",null,null,null,null,1],[[5],[\\\\\"Great Experience\\\\\",\\\\\"en\\\\\",null,null,null,null,0,null,[0,16]],null,null,null,null,[[[\\\\\"GUIDED_DINING_MODE\\\\\"],\\\\\"Did you dine in, take out, or get delivery?\\\\\",[[[[\\\\\"E:TAKE_OUT\\\\\"],\\\\\"Take out\\\\\",2,null,null,\\\\\"0ahUKEwiHjdGR08L-AhWqrpUCHYIaD40Q3YcHCKoBKAA\\\\\",null,null,0]],1],null,null,\\\\\"Service\\\\\",1,\\\\\"0ahUKEwiHjdGR08L-AhWqrpUCHYIaD40Q3IcHCKkBKAM\\\\\",null,null,null,null,null,1,[[1]]],[[\\\\\"GUIDED_DINING_MEAL_TYPE\\\\\"],\\\\\"What did you get?\\\\\",[[[[\\\\\"E:BREAKFAST\\\\\"],\\\\\"Breakfast\\\\\",2,null,null,\\\\\"0ahUKEwiHjdGR08L-AhWqrpUCHYIaD40Q3YcHCKwBKAA\\\\\",null,null,0]],1],null,null,\\\\\"Meal type\\\\\",1,\\\\\"0ahUKEwiHjdGR08L-AhWqrpUCHYIaD40Q3IcHCKsBKAQ\\\\\",null,null,null,null,null,1,[[1]]]],null,null,null,null,null,null,null,[\\\\\"en\\\\\"],[[\\\\\"Great Experience\\\\\",null,[0,16]]]],null,[null,null,null,[\\\\\"https://www.google.com/maps/reviews/data\\\\\\\\u003d!4m8!14m7!1m6!2m5!1sChdDSUhNMG9nS0VJQ0FnSURPejk2aGxRRRAB!2m1!1s0x0:0xbae166382f049184!3m1!1s2@1:CIHM0ogKEICAgIDOz96hlQE%7CCgwIrszOlgYQuO_45AE%7C?hl\\\\\\\\u003den-US\\\\\",null,null,\\\\\"0ahUKEwiHjdGR08L-AhWqrpUCHYIaD40QtxwIrQEoBQ\\\\\"],[\\\\\"https://www.google.com/local/review/rap/report?postId\\\\\\\\u003dChdDSUhNMG9nS0VJQ0FnSURPejk2aGxRRRAB\\\\\\\\u0026entityid\\\\\\\\u003dChdDSUhNMG9nS0VJQ0FnSURPejk2aGxRRRItChZDSUhNMG9nS0VJQ0FnSURPejk2aFZREhNDZ3dJcnN6T2xnWVF1T180NUFFGi4KF0NJSE0wb2dLRUlDQWdJRE96OTZoMVFFEhNDZ3dJcnN6T2xnWVF1T180NUFFIhIJfakh6fW55zsRhJEELzhm4boqE0Nnd0lyc3pPbGdZUXVPXzQ1QUU\\\\\\\\u0026wv\\\\\\\\u003d1\\\\\\\\u0026d\\\\\\\\u003d286732320\\\\\",\\\\\"Flag as inappropriate\\\\\",null,\\\\\"0ahUKEwiHjdGR08L-AhWqrpUCHYIaD40QoykIrgEoBg\\\\\"]],\\\\\"0ahUKEwiHjdGR08L-AhWqrpUCHYIaD40Q0pMFCKUBKAM\\\\\"]]],0,1],[null,1],0,[0,0,0,2,4],[\\\\\"Rate and review\\\\\",\\\\\"Share your experience to help others\\\\\",1,\\\\\"Share details of your own experience at this place\\\\\",null,null,null,[]],null,null,[null,0,1]],null,null,[[\\\\\"084338 43309\\\\\",[[\\\\\"084338 43309\\\\\",1],[\\\\\"+91 84338 43309\\\\\",2]],null,\\\\\"08433843309\\\\\",null,[\\\\\"tel:08433843309\\\\\",null,null,\\\\\"0ahUKEwiHjdGR08L-AhWqrpUCHYIaD40Q_doBCBYoDQ\\\\\"]]],null,null,null,null,[[[7,[[\\\\\"Food town\\\\\"],[\\\\\"6X9H+86P\\\\\"],[\\\\\"Thane West\\\\\"],[\\\\\"Thane, Maharashtra\\\\\"]]],[2,[[\\\\\"6X9H+86P Food town, Thane West, Thane, Maharashtra\\\\\"]]],[1,[[\\\\\"6X9H+86P, Thane West, Thane, Maharashtra\\\\\"]]],[4,[[\\\\\"Thane, Maharashtra\\\\\"]]]],[\\\\\"Thane West\\\\\",\\\\\"6X9H+86P\\\\\",\\\\\"6X9H+86P\\\\\",\\\\\"Thane\\\\\",null,\\\\\"Maharashtra\\\\\",\\\\\"IN\\\\\"]],null,null,null,null,null,null,null,null,null,null,null,null,null,null,null,null,null,null,null,[null,[null,null,null,1,[\\\\\"Open now\\\\\",[[0,8,[null,[4279795768,4286695829]]]]]],1],null,1,null,null,[[null,null,19.2183307,72.9780897]],\\\\\"CglGb29kIHRvd26SAQtjb2ZmZWVfc2hvcOABAA\\\\\",null,null,null,null,1,null,null,null,null,null,null,null,null,null,null,null,null,[[\\\\\"0x3be7b9f5e921a97d:0xbae166382f049184\\\\\",null,null,\\\\\"/g/11sxwmmd84\\\\\",\\\\\"ChIJfakh6fW55zsRhJEELzhm4bo\\\\\"]]],null,null,null,null,null,\\\\\"k4dGZMf3Bard1sQPgrW86Ag\\\\\",\\\\\"0ahUKEwiHjdGR08L-AhWqrpUCHYIaD40Q2R4IAQ\\\\\",null,null,null,null,null,[[[3],[5],[6],[7],[9],[10]]],[[[\\\\\"m\\\\\",[17,92100,58399],13,[644381897,644382557,644382557,644382557,644382557,644382557,644382557,644382557,644382557,644382545,644382545,644381969,644381729,644382557,644382557,644382557,644382557,644382557,644382557,644382557,644382557,644382557,644382557,644382545,644381969,644381729,644382557,644382557,644382557,644382557,644382557,644382557,644382557,644382557,644382557,644382557,644382557,644382557,644382473,644382557,644382557,644382557,644382557,644382557,644382557,644382557,644382557,644382557,644382557,644382557,644382557,644382473,644382557,644381981,644382557,644382557,644382557,644382557,644382557,644382557,644382557,644382557,644382557,644382557,644382473,644382557,644382557,644382557,644382557,644382473,644382557,644382557,644382557,644382557,644382125,644382473,644382473,644382473,644382557,644382557,644382557,644382557,644382473,644382557,644382557,644382557,644382557,644382557,644382473,644382473,644382473,644382557,644382557,644382557,644382557,644382557,644382557,644382557,644382557,644382557,644382557,644381909,644381729,644381729,644382557,644382557,644382557,644382557,644382557,644382557,644382557,644382557,644382557,644382557,644382125,644382125,644382125,644382557,644382557,644382557,644382557,644382557,644382557,644382557,644382557,644382557,644382545,644382545,644382125,644382125]],[\\\\\"m\\\\\",[16,46050,29199],7,[644382557,644382557,644382557,644382557,644382557,644382557,644382557,644382557,644382557,644382557,644382557,644382557,644382557,644382545,644382557,644382557,644382557,644382557,644382557,644382557,644382545,644382557,644382557,644382557,644382557,644382557,644382557,644382545,644382557,644382557,644382557,644382557,644382557,644382557,644382125,644382557,644382557,644382557,644382557,644382557,644382557,644382557]],[\\\\\"m\\\\\",[18,184207,116803],13,[644382557,644382557,644382089,644382089,644382557,644382557,644382557,644382557,644382557,644382557,644382557,644382557,644382557,644382557,644382557,644382089,644382089,644382557,644382557,644382557,644382557,644382557,644382557,644382557,644382557,644382557,644382557,644382557,644382473,644382473,644382557,644382557,644382557,644382557,644382557,644382557,644382557,644382557,644382557,644382557,644382557,644382473,644382473,644382557,644382557,644382557,644382557,644382557,644382557,644382557,644382557,644382557,644382473,644382473,644382473,644382473,644382557,644382557,644382557,644382557,644382473,644382473,644382125,644382125,644382017,644382473,644382473,644382473,644382473,644382557,644382557,644382557,644382557,644382473,644382473,644382125,644382125,644382017,644382473,644382473,644382473,644382473,644382557,644382557,644382557,644382557,644382557,644382557,644382029,644382029,644381729,644382473,644382473,644382473,644382473,644382557,644382557,644382557,644382557,644382557,644382557,644382029,644382029,644381729,644382473,644382473,644382473,644382473,644382557,644382557,644382557,644382557,644382557,644382557,644382557,644382557,644381729,644382473,644382473,644382473,644382473,644382557,644382557,644382557,644382557,644382557,644382557,644382557,644382557,644381729]]]],null,null,null,[[[\\\\\"AF1QipOrv8dqr9nF7jjQ10iYK5i81reY6bKnTzzrjZSb\\\\\",10,12,\\\\\"\\\\\",null,815.92584,[\\\\\"https://lh5.googleusercontent.com/p/AF1QipOrv8dqr9nF7jjQ10iYK5i81reY6bKnTzzrjZSb\\\\\\\\u003dw203-h114-k-no\\\\\",\\\\\"Food town\\\\\",[3840,2160],[203,100]],null,[[3,72.9780706,19.218328700000004],[0,90],[3840,2160],75],\\\\\"k4dGZMf3Bard1sQPgrW86Ag\\\\\",\\\\\"0ahUKEwiHjdGR08L-AhWqrpUCHYIaD40QzCcIAygA\\\\\",null,null,null,null,[[[\\\\\"0x3be7b9f5e921a97d:0xbae166382f049184\\\\\"]]],null,[\\\\\"6X9H+86P, Thane West, Thane, Maharashtra\\\\\"],null,null,\\\\\"Photo\\\\\",[null,[10,\\\\\"AF1QipOrv8dqr9nF7jjQ10iYK5i81reY6bKnTzzrjZSb\\\\\"],[10,3,[2160,3840]],null,null,[[[2],[[null,null,19.218328700000004,72.9780706]]]],[2,null,null,[8],2,[null,null,\\\\\"photos:gmm_android\\\\\",[6,7,4,1,3]],null,null,[2023,4,20,11]]],1,null,null,null,null,null,null,[\\\\\"4316623233687333245\\\\\",\\\\\"-4980587321402027644\\\\\"],null,\\\\\"hxjeBlbD2_g\\\\\"],[\\\\\"AF1QipPfqSnzl5SeCoAio-wMS0Vw-XO5UeXlNl1DYDEA\\\\\",10,12,\\\\\"\\\\\",null,847.7319,[\\\\\"https://lh5.googleusercontent.com/p/AF1QipPfqSnzl5SeCoAio-wMS0Vw-XO5UeXlNl1DYDEA\\\\\\\\u003dw203-h152-k-no\\\\\",\\\\\"Food town\\\\\",[4624,3472],[203,100]],null,[[3,72.9780706,19.218328700000004],[0,90],[4624,3472],75],\\\\\"k4dGZMf3Bard1sQPgrW86Ag\\\\\",\\\\\"0ahUKEwiHjdGR08L-AhWqrpUCHYIaD40QzCcIBCgB\\\\\",null,null,null,null,[[[\\\\\"0x3be7b9f5e921a97d:0xbae166382f049184\\\\\"]]],null,[\\\\\"6X9H+86P, Thane West, Thane, Maharashtra\\\\\"],null,null,\\\\\"Photo\\\\\",[null,[10,\\\\\"AF1QipPfqSnzl5SeCoAio-wMS0Vw-XO5UeXlNl1DYDEA\\\\\"],[10,3,[3472,4624]],null,null,[[[2],[[null,null,19.218328700000004,72.9780706]]]],[2,null,null,[8],2,[null,null,\\\\\"photos:dragonfly_tactile\\\\\",[6,7,4,1,3]],null,null,[2022,10,1,7]]],1,null,null,null,null,null,null,[\\\\\"4316623233687333245\\\\\",\\\\\"-4980587321402027644\\\\\"],null,\\\\\"QJCFkzVgtPQ\\\\\"],[\\\\\"AF1QipOOJAUdrS2vriEmXyv2ycNUfgF8nVs2R78nlur_\\\\\",10,12,\\\\\"\\\\\",null,389.58237,[\\\\\"https://lh5.googleusercontent.com/p/AF1QipOOJAUdrS2vriEmXyv2ycNUfgF8nVs2R78nlur_\\\\\\\\u003dw203-h270-k-no\\\\\",\\\\\"Food town\\\\\",[1536,2048],[203,100]],null,[[3,72.9780706,19.218328700000004],[0,90],[1536,2048],75],\\\\\"k4dGZMf3Bard1sQPgrW86Ag\\\\\",\\\\\"0ahUKEwiHjdGR08L-AhWqrpUCHYIaD40QzCcIBSgC\\\\\",null,null,null,null,[[[\\\\\"0x3be7b9f5e921a97d:0xbae166382f049184\\\\\"]]],null,[\\\\\"6X9H+86P, Thane West, Thane, Maharashtra\\\\\"],null,null,\\\\\"Photo\\\\\",[null,[10,\\\\\"AF1QipOOJAUdrS2vriEmXyv2ycNUfgF8nVs2R78nlur_\\\\\"],[10,3,[2048,1536]],null,null,[[[2],[[null,null,19.218328700000004,72.9780706]]]],[2,null,null,[8],2,[null,null,\\\\\"photos:gmm_android_review_post\\\\\",[6,7,4,1,3]],null,null,[2022,4,17,6]]],1,null,null,null,null,null,null,[\\\\\"4316623233687333245\\\\\",\\\\\"-4980587321402027644\\\\\"],null,\\\\\"AviZpQN8zfo\\\\\"],[\\\\\"AF1QipPXY0geAqoqecJ2gL2GFtPWQNRamGxDO8KoqSKv\\\\\",10,12,\\\\\"\\\\\",null,618.925,[\\\\\"https://lh5.googleusercontent.com/p/AF1QipPXY0geAqoqecJ2gL2GFtPWQNRamGxDO8KoqSKv\\\\\\\\u003dw203-h270-k-no\\\\\",\\\\\"Food town\\\\\",[1536,2048],[203,100]],null,[[3,72.9780706,19.218328700000004],[0,90],[1536,2048],75],\\\\\"k4dGZMf3Bard1sQPgrW86Ag\\\\\",\\\\\"0ahUKEwiHjdGR08L-AhWqrpUCHYIaD40QzCcIBigD\\\\\",null,null,null,null,[[[\\\\\"0x3be7b9f5e921a97d:0xbae166382f049184\\\\\"]]],null,[\\\\\"6X9H+86P, Thane West, Thane, Maharashtra\\\\\"],null,null,\\\\\"Photo\\\\\",[null,[10,\\\\\"AF1QipPXY0geAqoqecJ2gL2GFtPWQNRamGxDO8KoqSKv\\\\\"],[10,3,[2048,1536]],null,null,[[[2],[[null,null,19.218328700000004,72.9780706]]]],[2,null,null,[8],2,[null,null,\\\\\"photos:gmm_android_review_post\\\\\",[6,7,4,1,3]],null,null,[2022,4,17,6]]],1,null,null,null,null,null,null,[\\\\\"4316623233687333245\\\\\",\\\\\"-4980587321402027644\\\\\"],null,\\\\\"E7s0EPCtDsI\\\\\"],[\\\\\"0h7cJiCu-RTuXXJATjykXw\\\\\",0,1,\\\\\"Food town\\\\\",null,670.60626,[\\\\\"https://streetviewpixels-pa.googleapis.com/v1/thumbnail?panoid\\\\\\\\u003d0h7cJiCu-RTuXXJATjykXw\\\\\\\\u0026cb_client\\\\\\\\u003dsearch.gws-prod.gps\\\\\\\\u0026w\\\\\\\\u003d203\\\\\\\\u0026h\\\\\\\\u003d100\\\\\\\\u0026yaw\\\\\\\\u003d165.40897\\\\\\\\u0026pitch\\\\\\\\u003d0\\\\\\\\u0026thumbfov\\\\\\\\u003d100\\\\\",\\\\\"Food town\\\\\",null,[203,100]],null,[[3,72.97805560219038,19.218454387766073],[165.40897,90],[1024,768],75],\\\\\"k4dGZMf3Bard1sQPgrW86Ag\\\\\",\\\\\"0ahUKEwiHjdGR08L-AhWqrpUCHYIaD40QkI4GCAcoBA\\\\\",null,null,null,null,[[[\\\\\"0x3be7b9f5e921a97d:0xbae166382f049184\\\\\"]]],null,[\\\\\"6X9H+86P, Thane West, Thane, Maharashtra\\\\\"],null,null,\\\\\"Street View\\\\\",[null,[2,\\\\\"0h7cJiCu-RTuXXJATjykXw\\\\\"],[2,2,null,[]],null,null,[[[2],[[null,null,19.218454387766073,72.97805560219038],null,[353.95358,88.79038,2.1763809]]]],[3,null,null,[2],null,[null,null,\\\\\"launch\\\\\",[6]],null,null,[2023,4,20,17]]],2,null,null,null,null,null,null,[\\\\\"4316623233687333245\\\\\",\\\\\"-4980587321402027644\\\\\"],null,\\\\\"ynWzWwKMqqI\\\\\"]],null,null,\\\\\"k4dGZMf3Bard1sQPgrW86Ag\\\\\",null,null,null,null,null,null,1,[[[1],[6]]]],[[[2,\\\\\"spotlit\\\\\"]],null,null,[[null,null,null,null,null,null,null,null,null,null,null,null,null,[[[\\\\\"4316623233687333245\\\\\",\\\\\"13466156752307523972\\\\\"],\\\\\"/g/11sxwmmd84\\\\\",null,[192183307,729780897],null,null,null,null,null,null,null,null,null,null,\\\\\"gcid:coffee_shop\\\\\"],0,0,0]]]],null,null,null,\\\\\"https://www.google.com/maps/vt/icon?name\\\\\\\\u003dassets/icons/poi/tactile/iamhere/cafe.png\\\\\",null,[\\\\\"1682343827318\\\\\",[[\\\\\"Asia/Calcutta\\\\\",[\\\\\"IST\\\\\",\\\\\"India Standard Time\\\\\",\\\\\"IST\\\\\",\\\\\"India Standard Time\\\\\"],330,[-212262,0]]]]]\"],null,[null,null,[null,[2,72.9755148,19.2183357,null,null,17]],[null,null,[\"0x3be7b9f5e921a97d:0xbae166382f049184\",\"Food town\",null,null,null,null,null,[null,null,19.2183307,72.9780897],[1],null,null,null,null,null,null,\"/g/11sxwmmd84\"]]],null,null,[59,63,60,67,68,61,66,65,78,79],[\"Food town \\xc2\\xb7 6X9H+86P, Thane West, Thane, Maharashtra\",\"\\xe2\\x98\\x85\\xe2\\x98\\x85\\xe2\\x98\\x85\\xe2\\x98\\x85\\xe2\\x98\\x85 \\xc2\\xb7 Coffee shop\",\"https://lh5.googleusercontent.com/p/AF1QipOrv8dqr9nF7jjQ10iYK5i81reY6bKnTzzrjZSb\\\\u003dw256-h256-k-no-p\",[256,256]],null,[\"sc2\",\"per\",\"mo\",\"lp\",\"ep\",\"ti\",\"ds\",\"stx\",\"dwi\",\"enr\",\"pwd\",\"dw\",\"ppl\",\"log\",\"std\",\"b\"],null,null,null,null,null,null,null,null,null,null,null,null,null,null,null,null,null,null,null,0];window.APP_FLAGS=[1,0,0,0.25,1,0,0,1,1,0,0,2,2,1,0,1,1,0,1,0,0,0,0,0,0,1,1,0,0,1,0,0,0,3,0,1,1,0,1,0,1,0,0,0,1,0,1,1,0,1,0,0,1,1,0,0,10,25000,10,0,0,0,0,1,0,40,1,null,6,16,0,\"\",0,1,1,0,0,0,0,0,1,20,1,1,1,0,0,0,0,0,0,0,1,2,0,0,1,0,1,0,1,20,0,1,2,0,0,1,0,1,1,0,1,1,1,1,\"\",0,0,0,0,0,1,1,\"\",1,604800000,1,1,1,2,0,20,0,0,30,1,0,0,1,null,1,1,1,0,0,0,0,0,2,0,0,0,1,0,2,1,null,0,0,0,2,0,0,0,1,3,0,0,1,1,0,1,\"https://tpc.googlesyndication.com/simgad/12443843956218829127?w\\\\u003d40\\\\u0026h\\\\u003d40\",0,0,1,1,9,0,0,0,0,\"\",0,1,1,0,0,0,1,1,0,0,0,0,1,0,1,0,1,1,1,0,0,1,0,0,1,1,0,\"support local businesses\",0,1,1,1,1,0,\"\",null,0,0,1,2000,2,1,0,1,1,0,1,1,1,1,0,0,1,1,0,1,0,1,1,1,1,0,0,0,850,50,40,0,1,0,0,1,0,0,1,0,0,0,1,1,1,1,1,0,0,0,0,0,0,0,0,0,0,0,0,0,0,0,0,0,0,0,0,0,0,0,0,0,0,0,0,0];window.VECTORTOWN_FLAGS=[null,null,1,1,0,1,1,0,0,0,1,null,null,null,null,null,null,0,1,0,1];window.DEV_MODE=false;window.JS_VERSION=\\'maps.m.en.voKxMFGohgs.es5.O\\';window.LOGGING_ENDPOINT=\\'/maps/preview/log204?authuser\\\\x3d0\\\\x26hl\\\\x3den\\\\x26gl\\\\x3din\\';window.PRODUCT_ID=81;window.ES5DGURL=\\'\\';window.WIZ_global_data={\"S6lZl\":\"79508299\",\"SNlM0e\":\"\",\"w2btAe\":\"%.@.\\\\\"\\\\\",\\\\\"\\\\\",\\\\\"0\\\\\",null,null,null,1]\",\"oxN3nb\":{\"1\":false},\"S06Grb\":\"\",\"eptZe\":\"/wizrpcui/_/WizRpcUi/\",\"QrtxK\":\"0\",\"Im6cmf\":\"/wizrpcui/_/WizRpcUi\",\"zChJod\":\"%.@.]\",\"GWsdKe\":\"en-IN\",\"Yllh3e\":\"%.@.1682343827074471,43364010,2366577282]\",\"LVIXXb\":\"1\"};})();</script>    <script nonce=\"JVlk2I4QseOPZ1cPRrLWBw\">(function(){\\n\\'use strict\\';var b=this||self;var d=function(){this.g=null;this.h=\"\"};d.prototype.start=function(){var a=this.g=document;if(this.h=\"hidden\"in a?\"visibilitychange\":\"mozHidden\"in a?\"mozvisibilitychange\":\"msHidden\"in a?\"msvisibilitychange\":\"webkitHidden\"in a?\"webkitvisibilitychange\":\"\"){a=this.g;var c=e;a.addEventListener&&a.addEventListener(this.h,c,!1)}};d.prototype.stop=function(){if(this.g){var a=this.g,c=e;a.removeEventListener&&a.removeEventListener(this.h,c,!1)}};function e(){var a=document,c=!1;\"hidden\"in a?c=a.hidden:\"mozHidden\"in a?c=a.mozHidden:\"msHidden\"in a?c=a.msHidden:\"webkitHidden\"in a&&(c=a.webkitHidden);c?b.tick(\"bg0\"):b.tick(\"bg1\")}\\nvar f=new d;f.start();var g=function(){f.stop()},h=[\"globals\",\"BackgroundTicks\",\"stop\"],k=b;h[0]in k||\"undefined\"==typeof k.execScript||k.execScript(\"var \"+h[0]);for(var l;h.length&&(l=h.shift());)h.length||void 0===g?k[l]&&k[l]!==Object.prototype[l]?k=k[l]:k=k[l]={}:k[l]=g;}).call(this);</script> <style type=\"text/css\">@import url(\\'//fonts.googleapis.com/css?family=Noto+Sans+Devanagari+UI:300,400,500,700\\');\\n@import url(\\'//fonts.googleapis.com/css?family=Noto+Sans+Bengali+UI:300,400,500,700\\');\\n@import url(\\'//fonts.googleapis.com/css?family=Noto+Sans+Telugu+UI:300,400,500,700\\');\\n@import url(\\'//fonts.googleapis.com/css?family=Noto+Sans+Tamil+UI:300,400,500,700\\');\\n@import url(\\'//fonts.googleapis.com/css?family=Noto+Sans+Gujarati+UI:300,400,500,700\\');\\n@import url(\\'//fonts.googleapis.com/css?family=Noto+Sans+Kannada+UI:300,400,500,700\\');\\n@import url(\\'//fonts.googleapis.com/css?family=Noto+Sans+Malayalam+UI:300,400,500,700\\');\\n@import url(\\'//fonts.googleapis.com/css?family=Noto+Sans+Gurmukhi+UI:300,400,500,700\\');\\n@font-face {\\n  font-family: \\'Roboto\\';\\n  font-style: normal;\\n  font-weight: 300;\\n  src: url(//fonts.gstatic.com/s/roboto/v18/KFOlCnqEu92Fr1MmSU5fChc9.ttf) format(\\'truetype\\');\\n}\\n@font-face {\\n  font-family: \\'Roboto\\';\\n  font-style: normal;\\n  font-weight: 400;\\n  src: url(//fonts.gstatic.com/s/roboto/v18/KFOmCnqEu92Fr1Mu7GxP.ttf) format(\\'truetype\\');\\n}\\n@font-face {\\n  font-family: \\'Roboto\\';\\n  font-style: normal;\\n  font-weight: 500;\\n  src: url(//fonts.gstatic.com/s/roboto/v18/KFOlCnqEu92Fr1MmEU9fChc9.ttf) format(\\'truetype\\');\\n}\\n@font-face {\\n  font-family: \\'Roboto\\';\\n  font-style: normal;\\n  font-weight: 700;\\n  src: url(//fonts.gstatic.com/s/roboto/v18/KFOlCnqEu92Fr1MmWUlfChc9.ttf) format(\\'truetype\\');\\n}\\n@font-face {\\n  font-family: \\'Product Sans\\';\\n  font-style: normal;\\n  font-weight: 400;\\n  src: url(//fonts.gstatic.com/s/productsans/v9/pxiDypQkot1TnFhsFMOfGShVF9eL.ttf) format(\\'truetype\\');\\n}\\n@font-face {\\n  font-family: \\'Google Sans\\';\\n  font-style: normal;\\n  font-weight: 400;\\n  src: url(//fonts.gstatic.com/s/googlesans/v14/4UaGrENHsxJlGDuGo1OIlL3Owps.ttf) format(\\'truetype\\');\\n}\\n@font-face {\\n  font-family: \\'Google Sans\\';\\n  font-style: normal;\\n  font-weight: 500;\\n  src: url(//fonts.gstatic.com/s/googlesans/v14/4UabrENHsxJlGDuGo1OIlLU94YtzCwM.ttf) format(\\'truetype\\');\\n}\\n@font-face {\\n  font-family: \\'Google Sans Display\\';\\n  font-style: normal;\\n  font-weight: 400;\\n  src: url(//fonts.gstatic.com/s/googlesansdisplay/v13/ea8FacM9Wef3EJPWRrHjgE4B6CnlZxHVDv79pA.ttf) format(\\'truetype\\');\\n}\\n#gbar,#guser{font-size:13px;padding-top:1px !important;}#gbar{height:22px}#guser{padding-bottom:7px !important;text-align:right}.gbh,.gbd{border-top:1px solid #c9d7f1;font-size:1px}.gbh{height:0;position:absolute;top:24px;width:100%}@media all{.gb1{height:22px;margin-right:.5em;vertical-align:top}#gbar{float:left}}a.gb1,a.gb4{text-decoration:underline !important}a.gb1,a.gb4{color:#00c !important}.gbi .gb4{color:#dd8e27 !important}.gbf .gb4{color:#900 !important}\\nhtml, body { font-family: Roboto, \\'Noto Sans Devanagari UI\\', \\'Noto Sans Bengali UI\\', \\'Noto Sans Telugu UI\\', \\'Noto Sans Tamil UI\\', \\'Noto Sans Gujarati UI\\', \\'Noto Sans Kannada UI\\', \\'Noto Sans Malayalam UI\\', \\'Noto Sans Gurmukhi UI\\', Arial, sans-serif; }</style> <style>html,body{margin:0;padding:0}body{-ms-touch-action:none;touch-action:none;overflow:hidden}a,button,h1,h2,h3,h4,h5,h6,input,ol,p,textarea,th,ul{background:transparent;border:0;border-radius:0;font:inherit;list-style:none;margin:0;outline:0;overflow:visible;padding:0;vertical-align:baseline}textarea{overflow:auto}table{border-collapse:collapse;border-spacing:0}button::-moz-focus-inner,input::-moz-focus-inner,textarea::-moz-focus-inner{margin:0;padding:0;border:0}button,input,textarea{color:inherit}input::-ms-clear{display:none}a{cursor:pointer;text-decoration:none;outline:none}a:hover{text-decoration:underline}:focus{outline:none}#XvQR9b{position:absolute;left:0;right:0;top:0;bottom:0;background:#f8f9fa}.wSgKnf{position:absolute;left:50%;top:50%;width:575px;transform:translateX(-50%) translateY(-50%);transform:translateX(-50%) translateY(-50%);background:url(\\'//maps.gstatic.com/tactile/basepage/pegman_sherlock.png\\') no-repeat;background-size:160px 193px;height:143px;padding-top:50px;padding-left:200px;font-size:30px;font-weight:300}.hl4GXb{color:#4285f4;font-size:14px;font-weight:normal}</style> <link href=\"/maps/preview/pwa/manifest?source=ttpwa&amp;hl=en\" crossorigin=\"use-credentials\" rel=\"manifest\"> <script nonce=\"JVlk2I4QseOPZ1cPRrLWBw\">tick(\\'s\\');</script>  <link href=\"/maps/_/ss/k=maps.m.MHvcZjJJOLA.L.X.O/m=sc2,per,mo,lp,ep,ti,ds,stx,dwi,enr,pwd,dw,ppl,log,std,b/am=BoA1kA/d=1/rs=ACT90oGFbRn06iOEhgABqIUgMU15T9z4LA\" data-id=\"_cl\" rel=\"stylesheet\" nonce=\"JVlk2I4QseOPZ1cPRrLWBw\">  </head> <body class=\"LoJzbe keynav-mode-off\" jstrack=\"1\" tabindex=\"-1\"> <script nonce=\"JVlk2I4QseOPZ1cPRrLWBw\">tick(\\'b0\\');if (window.devicePixelRatio > 1){document.body.className += \\' highres\\';}\\n</script> <script nonce=\"JVlk2I4QseOPZ1cPRrLWBw\">(function(){if(window.tactilecsi){window.tactilecsi.g={};window.tactilecsi.h=1;window.tactilecsi.setTimerName=function(d,a){d.name=a};var n=function(d,a,g){var b=\"\";window.tactilecsi.srt&&(b+=\"&srt=\"+window.tactilecsi.srt,delete window.tactilecsi.srt);window.tactilecsi.pt&&(b+=\"&tbsrt=\"+window.tactilecsi.pt,delete window.tactilecsi.pt);try{window.external&&window.external.tran?b+=\"&tran=\"+window.external.tran:window.gtbExternal&&window.gtbExternal.tran?b+=\"&tran=\"+window.gtbExternal.tran():window.chrome&&window.chrome.csi&&\\n(b+=\"&tran=\"+window.chrome.csi().tran)}catch(q){}var c=window.chrome;if(c&&(c=c.loadTimes)){c().wasFetchedViaSpdy&&(b+=\"&p=s\");if(c().wasNpnNegotiated){b+=\"&npn=1\";var e=c().npnNegotiatedProtocol;e&&(b+=\"&npnv=\"+(encodeURIComponent||escape)(e))}c().wasAlternateProtocolAvailable&&(b+=\"&apa=1\")}if(\"undefined\"!=typeof navigator&&navigator&&navigator.connection){c=navigator.connection;e=c.type;for(var f in c)if(\"type\"!=f&&c[f]==e){b+=\"&conn=\"+f;break}}c=d.t;e=c.start;f=[];for(var h in c)if(\"start\"!=h&&\\ne){var k=d.t[h];var l=d.t.start;k&&l?(k-=l,k=Math.round(k)):k=void 0;f.push(h+\".\"+k)}delete c.start;if(a)for(var m in a)b+=\"&\"+m+\"=\"+a[m];(a=g)||(a=\"https:\"==document.location.protocol?\"https://csi.gstatic.com/csi\":\"http://csi.gstatic.com/csi\");return d=[a,\"?v=3\",\"&s=\"+(window.tactilecsi.sn||\"tactile\")+\"&action=\",d.name,\"\",b,\"&rt=\",f.join(\",\")].join(\"\")};window.tactilecsi.getReportUri=n;var p=function(d,a,g){d=n(d,a,g);if(!d)return\"\";a=new Image;var b=window.tactilecsi.h++;window.tactilecsi.g[b]=\\na;a.onload=a.onerror=function(){window.tactilecsi&&delete window.tactilecsi.g[b]};a.src=d;a=null;return d};window.tactilecsi.report=function(d,a,g){var b=document.visibilityState,c=\"visibilitychange\";b||(b=document.webkitVisibilityState,c=\"webkitvisibilitychange\");if(\"prerender\"==b){var e=!1,f=function(){if(!e){a?a.prerender=\"1\":a={prerender:\"1\"};if(\"prerender\"==(document.visibilityState||document.webkitVisibilityState))var h=!1;else p(d,a,g),h=!0;h&&(e=!0,document.removeEventListener(c,f,!1))}};document.addEventListener(c,f,!1);return\"\"}return p(d,a,g)}};}).call(this);</script>  <script nonce=\"JVlk2I4QseOPZ1cPRrLWBw\">tick(\\'ms0\\');</script>    <script src=\"/maps/_/js/k=maps.m.en.voKxMFGohgs.es5.O/m=sc2,per,mo,lp,ep,ti,ds,stx,dwi,enr,pwd,dw,ppl,log,std,b/am=BoA1kA/rt=j/d=1/rs=ACT90oHPuRYwNjQ9bsmTJyxIRodi0qgCZg\" id=\"base-js\" nonce=\"JVlk2I4QseOPZ1cPRrLWBw\"></script>   <script nonce=\"JVlk2I4QseOPZ1cPRrLWBw\">tick(\\'ms1\\');tick(\\'b1\\');tick(\\'p1\\');</script> <noscript> <div id=\"XvQR9b\"> <div class=\"wSgKnf\"> <div> When you have eliminated the <strong>JavaScript</strong>, whatever remains must be an empty page. </div> <a class=\"hl4GXb\" href=\"https://support.google.com/maps/?hl=en&amp;authuser=0&amp;p=no_javascript\" target=\"_blank\">Enable JavaScript to see Google Maps.</a> </div> </div> </noscript> </body> </html>'\n"
     ]
    }
   ],
   "source": [
    "from bs4 import BeautifulSoup as bs\n",
    "import requests\n",
    "url=\"https://www.google.com/maps/place/Food+town/@19.2183357,72.9755148,17z/data=!4m8!3m7!1s0x3be7b9f5e921a97d:0xbae166382f049184!8m2!3d19.2183307!4d72.9780897!9m1!1b1!16s%2Fg%2F11sxwmmd84\"\n",
    "r=requests.get(url)\n",
    "\n",
    "htmlcontain=r.content\n",
    "print(htmlcontain)\n",
    "\n"
   ]
  },
  {
   "cell_type": "code",
   "execution_count": 3,
   "metadata": {},
   "outputs": [
    {
     "name": "stdout",
     "output_type": "stream",
     "text": [
      "<!DOCTYPE html>\n",
      "<html itemscope=\"\" itemtype=\"http://schema.org/Place\" lang=\"en-IN\">\n",
      " <head>\n",
      "  <link href=\"/maps/preview/opensearch.xml?hl=en\" rel=\"search\" title=\"Google Maps\" type=\"application/opensearchdescription+xml\"/>\n",
      "  <title>\n",
      "   Google Maps\n",
      "  </title>\n",
      "  <meta content=\"Find local businesses, view maps and get driving directions in Google Maps.\" name=\"Description\"/>\n",
      "  <meta content=\"initial-scale=1.0, maximum-scale=1.0, minimum-scale=1.0, user-scalable=no\" name=\"viewport\"/>\n",
      "  <meta content=\"chrome=1\" http-equiv=\"X-UA-Compatible\"/>\n",
      "  <meta content=\"notranslate\" name=\"google\"/>\n",
      "  <meta content=\"origin\" name=\"referrer\"/>\n",
      "  <meta content=\"ByHT0GXztW_RcGxS0o86DBf1WtNu02FfqlcT8njnSqU\" name=\"google-site-verification\"/>\n",
      "  <meta content=\"Diln__r3p9-tt39P2Cl2Amvx6oFB4PATnxuFBaw6ej8\" name=\"google-site-verification\"/>\n",
      "  <meta content=\"Food town · 6X9H+86P, Thane West, Thane, Maharashtra\" itemprop=\"name\"/>\n",
      "  <meta content=\"Food town · 6X9H+86P, Thane West, Thane, Maharashtra\" property=\"og:title\"/>\n",
      "  <meta content=\"https://lh5.googleusercontent.com/p/AF1QipOrv8dqr9nF7jjQ10iYK5i81reY6bKnTzzrjZSb=w256-h256-k-no-p\" itemprop=\"image\"/>\n",
      "  <meta content=\"https://lh5.googleusercontent.com/p/AF1QipOrv8dqr9nF7jjQ10iYK5i81reY6bKnTzzrjZSb=w256-h256-k-no-p\" property=\"og:image\"/>\n",
      "  <meta content=\"256\" property=\"og:image:width\"/>\n",
      "  <meta content=\"256\" property=\"og:image:height\"/>\n",
      "  <meta content=\"★★★★★ · Coffee shop\" itemprop=\"description\"/>\n",
      "  <meta content=\"★★★★★ · Coffee shop\" property=\"og:description\"/>\n",
      "  <meta content=\"Food town · 6X9H+86P, Thane West, Thane, Maharashtra\" property=\"og:site_name\"/>\n",
      "  <meta content=\"summary\" name=\"twitter:card\"/>\n",
      "  <script nonce=\"JVlk2I4QseOPZ1cPRrLWBw\">\n",
      "   (function(){(function(){function c(d){this.t={};this.tick=function(g,e,f){e=void 0!=f?f:(new Date).getTime();this.t[g]=e};this.getStartTickTime=function(){return this.t.start};this.tick(\"start\",null,d)}var b;if(window.performance)var a=(b=window.performance.timing)&&b.responseStart;var h=0<a?new c(a):new c;window.tactilecsi={Timer:c,load:h};b&&(b=b.navigationStart,0<b&&a>=b&&(window.tactilecsi.srt=a-b));try{a=null,window.chrome&&window.chrome.csi&&(a=Math.floor(window.chrome.csi().pageT)),null==a&&window.gtbExternal&&\n",
      "(a=window.gtbExternal.pageT()),null==a&&window.external&&(a=window.external.pageT),a&&(window.tactilecsi.pt=a)}catch(d){}})();}).call(this);\n",
      "  </script>\n",
      "  <script nonce=\"JVlk2I4QseOPZ1cPRrLWBw\">\n",
      "   function tick(t){if (window.tactilecsi){window.tactilecsi.load.tick(t);}\n",
      "if (window['wtf']&& window['wtf']['trace']&&\n",
      "window['wtf']['trace']['timeStamp']){window['wtf']['trace']['timeStamp']('application.' + t);}\n",
      "}\n",
      "\n",
      "tick('start');tick('p0');\n",
      "  </script>\n",
      "  <script nonce=\"JVlk2I4QseOPZ1cPRrLWBw\">\n",
      "   (function(){'use strict';\n",
      "var b=\"click mousedown rightclick contextmenu keypress wheel\".split(\" \");function c(a){d.data={type:a.type,target:a.target,currentTarget:a.currentTarget,time:Date.now(),beforeAppLoad:!0};(a=d.dispose)&&a()}\n",
      "function e(){for(var a=0;a<b.length;a++)document.removeEventListener(b[a],c);delete d.dispose}\n",
      "var f={},g=[\"globals\",\"fua\"],h=this||self;g[0]in h||\"undefined\"==typeof h.execScript||h.execScript(\"var \"+g[0]);for(var k;g.length&&(k=g.shift());)g.length||void 0===f?h[k]&&h[k]!==Object.prototype[k]?h=h[k]:h=h[k]={}:h[k]=f;var d=globals.fua;d.install=function(){for(var a=0;a<b.length;a++)document.addEventListener(b[a],c);d.dispose=e};}).call(this);\n",
      "  </script>\n",
      "  <script nonce=\"JVlk2I4QseOPZ1cPRrLWBw\">\n",
      "   globals.fua.install();\n",
      "  </script>\n",
      "  <script nonce=\"JVlk2I4QseOPZ1cPRrLWBw\">\n",
      "   (function(){\n",
      "'use strict';var l=\"function\"==typeof Object.create?Object.create:function(a){var b=function(){};b.prototype=a;return new b},p;if(\"function\"==typeof Object.setPrototypeOf)p=Object.setPrototypeOf;else{var q;a:{var t={a:!0},u={};try{u.__proto__=t;q=u.a;break a}catch(a){}q=!1}p=q?function(a,b){a.__proto__=b;if(a.__proto__!==b)throw new TypeError(a+\" is not extensible\");return a}:null}var v=p,w=function(){for(var a=Number(this),b=[],c=a;c<arguments.length;c++)b[c-a]=arguments[c];return b},x=this||self,y=function(a,b,c){a=a.split(\".\");c=c||x;a[0]in c||\"undefined\"==typeof c.execScript||c.execScript(\"var \"+a[0]);for(var d;a.length&&(d=a.shift());)a.length||void 0===b?c[d]&&c[d]!==Object.prototype[d]?c=c[d]:c=c[d]={}:c[d]=b};function z(a,b){return x.setTimeout(function(){try{a()}catch(c){throw c;}},b)}\n",
      ";var A=/(?:@|\\()([^:]*(:\\/)?[^:]*(:\\d+\\/)?[^:]*):/;function B(a,b){var c=0;a.forEach(function(d){c+=d.length});b.forEach(function(d){c+=d.length});return 3*(a.length+b.length)+1.1*c}\n",
      ";var C=function(a,b,c,d){this.o=b;this.g=this.m=a;this.s=c||0;this.u=d||2};C.prototype.j=function(){return this.m};var D=function(a,b,c){C.call(this,a,b);this.v=c;this.l=null;this.h=this.i=0};D.prototype=l(C.prototype);D.prototype.constructor=D;if(v)v(D,C);else for(var E in C)if(\"prototype\"!=E)if(Object.defineProperties){var F=Object.getOwnPropertyDescriptor(C,E);F&&Object.defineProperty(D,E,F)}else D[E]=C[E];var G=function(a){var b=Date.now();if(0===a.h)return a.h=b,!0;var c=b>a.h+a.j();c&&(a.h=b,a.g=Math.min(a.o,a.g*a.u),a.m=Math.min(a.o,a.g+(a.s?Math.round(a.s*(Math.random()-.5)*2*a.g):0)));return c};D.prototype.j=function(){var a=C.prototype.j.call(this);this.l&&x.clearTimeout(this.l);this.l=z(this.v,2*a);return a};var H=function(){this.g={}};H.prototype.get=function(a){return this.g[I(a)]};H.prototype.set=function(a,b){this.g[I(a)]=b};function I(a){if(null===a)return\" \";for(;\":\"===a.charAt(a.length-1);)a=a.slice(0,a.length-1);a=a.split(\":\");return a[a.length-1].trim()}\n",
      ";var K=function(){var a=\"undefined\"===typeof DEV_MODE?!1:DEV_MODE,b=\"undefined\"===typeof LOGGING_ENDPOINT?\"/maps/preview/log204\":LOGGING_ENDPOINT,c=\"undefined\"===typeof JS_VERSION?null:JS_VERSION,d=\"undefined\"===typeof APP_OPTIONS?null:APP_OPTIONS[1],e=\"undefined\"===typeof PRODUCT_ID?81:PRODUCT_ID,k=this;var f=void 0===f?x.location&&x.location.hostname:f;this.u=a;this.B=c;this.A=d;this.m=f;this.g=null;this.o=!1;this.s=this.i=null;this.j=b;this.v=e;this.h=new H;this.l=new H;var h=x.onerror;x.onerror=\n",
      "function(){var g=w.apply(0,arguments);h&&h.apply(null,g);J(k,g[0],g[1],g[2])}};K.prototype.listen=function(a){this.g=a};K.prototype.log=function(a,b){J(this,a,void 0,void 0,b);return a};var L=function(a,b){var c=a.h.get(b);c||(c=new D(6E4,36E5,function(){delete a.h.g[I(b)]}),a.h.set(b,c));c.i++;return c},O=function(a,b,c,d,e,k){var f=M(b&&\"object\"===typeof b?b.message:b,k||1);f.type=\"error\";f.count=e.i;e.i=0;if(b&&\"object\"===typeof b){if(c=b.file||\"\",f.file=\"string\"===typeof c?c.slice(0,400):\"\",f.line=b.line||0,\"string\"===typeof b.stack){b=b.stack.split(\"\\n\");c=0;for(d=b.length;c<d&&40>c;++c)e=b[c].trim(),0<e.length&&f.stack.push(e);f.stackUrls=[];b=f.stack||[];c=f.stackUrls;d=1700-(3+1.1*(f.message||\"\").length);e={};for(var h=0,g=0;g<b.length;++g){var n=b[g],m=n.match(A);if(m){m=m[1];if(e[m])var r=e[m];else r=\"..\"+h+\"..\",e[m]=r,c.push(m),h++;b[g]=n.replace(m,r)}}n=e=\n",
      "B(b,c);g=\"\";for(h=null;n>d;){g=b.pop()||\"\";h=null;n=\"..\"+(c.length-1)+\"..\";if(-1<g.indexOf(n)){m=!1;for(r=b.length-1;0<=r;r--)if(-1<b[r].indexOf(n)){m=!0;break}m||(h=c.pop())}n=B(b,c)}0>=Math.ceil(e-n)?b=0:(d=Math.floor(d-n),3<d&&(g=g.length>d?g.substr(0,d-3)+\"...\":g,b.push(g),d-=g.length,h&&3<d&&c.push(h.length>d?h.substr(0,d-3)+\"...\":h)),b=Math.ceil(e-B(b,c)));f.stackTruncation=b}}else f.file=\"string\"===typeof c?c.slice(0,400):\"\",f.line=d||0;N(a,f,k)&&(f.errorType=9);return f},N=function(a,b,c){var d=\n",
      "b.message,e=navigator.userAgent;if(/HeadlessChrome|PhantomJS/.test(e)||/Trident\\/7\\.0/.test(e)&&!/rv:11\\.0/.test(e)||a.m&&!/\\.google\\./.test(a.m)||0<=d.indexOf(\"zCommon\")||0<=d.indexOf(\"887a0005\")||!c&&(\"Script error\"===d||\"Script error.\"===d)||-1!==d.indexOf(\"Not enough storage is available to complete this operation.\")||0<=d.indexOf(\"ArrayBuffer length minus the\")||d.match(/new RegExp.*ludo_cid/)||0<=d.indexOf(\"Cannot read property 'mute' of null\")||0<=d.indexOf(\"can't access dead object\"))return!0;a=b.file||\"\";if(a.match(/^(chrome|moz|safari)-extension:/)||\n",
      "a.match(/> eval$/))return!0;c=b.stack;for(e=0;e<c.length;++e)if(c[e].match(/phantomjs/i))return!0;if(0<=d.indexOf(\"JSON syntax error\")&&a&&!(0<=a.indexOf(\"/maps\")))return!0;if(b=b.stackUrls)for(d=0;d<b.length;++d)if(a=b[d],0===a.indexOf(\"resource://\")||0===a.indexOf(\"chrome-extension://\")||0===a.indexOf(\"https://\")&&8!==a.indexOf(\"www.google\")&&8!==a.indexOf(\"maps.gstatic\")&&8!==a.indexOf(\"www.gstatic\")&&8!==a.indexOf(\"apis.google\"))return!0;return!1},J=function(a,b,c,d,e){var k=b&&\"object\"===typeof b?b.message:b,f=a.l.get(k);if(f)f&&k.length>f.message.length&&(f.message=k);else if(f=L(a,k),G(f)){var h=O(a,b,c,d,f,e);P(a,h);a.l.set(k,h);x.setTimeout(function(){a.g&&a.g(h);a.o||Q(a,h);delete a.l.g[I(k)]},0)}},P=function(a,b){var c=b.message+\"\\n\";for(var d=0,e=b.stack.length;d<e;++d)c+=b.stack[d]+\"\\n\";d=0;for(e=b.stackUrls.length;d<e;++d)c+=\"..\"+d+\"..=\"+b.stackUrls[d]+\"\\n\";a.i||(a.i=c);a.s=c},Q=function(a,b){if(a.j){var c=2;b.count&&1<b.count&&c++;var d=4;b.file&&d++;b.line&&d++;b.stack&&(d+=b.stack.length);void 0!==b.stackTruncation&&0<b.stackTruncation&&d++;b.stackUrls&&(d+=b.stackUrls.length);var e=[];e.push(\"!8m\");e.push(\"\"+(c+d));e.push(\"!2e6\");b.count&&1<b.count&&(e.push(\"!7i\"),e.push(b.count));e.push(\"!9m\");e.push(\"\"+d);e.push(\"!1s\");e.push(R(b.message));b.file&&(e.push(\"!2s\"),e.push(R(b.file)));b.line&&(e.push(\"!3i\"),e.push(b.line));if(b.stack)for(c=0,d=b.stack.length;c<d;++c)e.push(\"!4s\"),e.push(R(b.stack[c]));e.push(\"!6s\");e.push(R(a.B));e.push(\"!8e\"+b.errorType);void 0!==b.stackTruncation&&0<b.stackTruncation&&(e.push(\"!9i\"),e.push(b.stackTruncation));if(b.stackUrls)for(c=0,d=b.stackUrls.length;c<d;c++)e.push(\"!10s\"),e.push(R(b.stackUrls[c]));e.push(\"!11s\");e.push(R(a.A));e.push(\"!11m1\");e.push(\"!7e\");e.push(String(a.v||0));var k=\"\"+a.j+(0<=a.j.indexOf(\"?\")?\"&\":\"?\")+\"pb=\"+e.join(\"\");if(a.u)(a=x.console)&&a.log.call(a,k);else{var f=x.XMLHttpRequest&&new XMLHttpRequest;f&&x.setTimeout(function(){f.open(\"GET\",k,!0);f.send(null)},0)}}},R=function(a){a=a||\"\";0<a.indexOf(\"*\")&&(a=a.replace(S,\"*2A\"));0<a.indexOf(\"!\")&&(a=a.replace(T,\"*21\"));return encodeURIComponent(a)},M=function(a,b){return{message:a?a.slice(0,400):\"\",file:\"\",line:0,stack:[],stackUrls:[],errorType:void 0===b?1:b}},T=RegExp(\"(!)\",\"g\"),S=RegExp(\"(\\\\*)\",\"g\");if(\"undefined\"===typeof globals||void 0===globals.ErrorHandler){var U=new K,V=function(a,b){return U.log(a,b)};x._DumpException=V;y(\"globals.ErrorHandler\",{listen:function(a){U.listen(a)},log:V,ne:M,dr:function(){U.o=!0},fe:function(){return U.i},mre:function(){return U.s}});y(\"_._DumpException\",V,x)};}).call(this);\n",
      "  </script>\n",
      "  <script nonce=\"JVlk2I4QseOPZ1cPRrLWBw\">\n",
      "   window._ = window._ || {};window._._DumpException = function(e){throw globals.ErrorHandler.log(e);};window._DumpException = function(e){throw globals.ErrorHandler.log(e);};\n",
      "  </script>\n",
      "  <link href=\"//www.google.com/images/branding/product/ico/maps15_bnuw3a_32dp.ico\" rel=\"shortcut icon\"/>\n",
      "  <script nonce=\"JVlk2I4QseOPZ1cPRrLWBw\">\n",
      "   (function(){window.APP_OPTIONS=[null,\"20230419.0\",null,[\"/search?tbm\\u003dmap\\u0026authuser\\u003d0\\u0026hl\\u003den\\u0026gl\\u003din\",\"/s?tbm\\u003dmap\\u0026gs_ri\\u003dmaps\\u0026suggest\\u003dp\\u0026authuser\\u003d0\\u0026hl\\u003den\\u0026gl\\u003din\",\"/maps/preview/directions?authuser\\u003d0\\u0026hl\\u003den\\u0026gl\\u003din\",null,\"/maps/preview/entity?authuser\\u003d0\\u0026hl\\u003den\\u0026gl\\u003din\",\"/maps/rpc/vp?authuser\\u003d0\\u0026hl\\u003den\\u0026gl\\u003din\",[[\"/maps/vt\"],644,[\"/maps/vt/stream\"],null,0,null,945,\"/maps/vt\",null,null,\"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\"],[\"//khms0.google.com/kh/v\\u003d945\",\"//khms1.google.com/kh/v\\u003d945\",\"//khms2.google.com/kh/v\\u003d945\",\"//khms3.google.com/kh/v\\u003d945\"],\"/maps/preview/log204?authuser\\u003d0\\u0026hl\\u003den\\u0026gl\\u003din\",[\"//geo0.ggpht.com/cbk?cb_client\\u003dmaps_sv.tactile\\u0026authuser\\u003d0\\u0026hl\\u003den\\u0026gl\\u003din\",\"//geo1.ggpht.com/cbk?cb_client\\u003dmaps_sv.tactile\\u0026authuser\\u003d0\\u0026hl\\u003den\\u0026gl\\u003din\",\"//geo2.ggpht.com/cbk?cb_client\\u003dmaps_sv.tactile\\u0026authuser\\u003d0\\u0026hl\\u003den\\u0026gl\\u003din\",\"//geo3.ggpht.com/cbk?cb_client\\u003dmaps_sv.tactile\\u0026authuser\\u003d0\\u0026hl\\u003den\\u0026gl\\u003din\"],null,null,null,\"//kh.google.com/rt/earth\",null,null,\"/maps/preview/placeactions/starring?authuser\\u003d0\\u0026hl\\u003den\\u0026gl\\u003din\",\"/maps/reportmapissue?authuser\\u003d0\\u0026hl\\u003den\\u0026gl\\u003din\",null,\"/maps/preview/reveal?authuser\\u003d0\\u0026hl\\u003den\\u0026gl\\u003din\",null,\"/maps/mm?authuser\\u003d0\\u0026hl\\u003den\\u0026gl\\u003din\",\"/maps/preview/photo?authuser\\u003d0\\u0026hl\\u003den\\u0026gl\\u003din\",null,\"/maps/preview/gme/list?authuser\\u003d0\\u0026hl\\u003den\\u0026gl\\u003din\",null,\"/maps/preview/placeupdate?authuser\\u003d0\\u0026hl\\u003den\\u0026gl\\u003din\",\"/maps/preview/gme/details?authuser\\u003d0\\u0026hl\\u003den\\u0026gl\\u003din\",\"/maps/preview/placeactions/writeaction?authuser\\u003d0\\u0026hl\\u003den\\u0026gl\\u003din\",\"/maps/rpc/shorturl?authuser\\u003d0\\u0026hl\\u003den\\u0026gl\\u003din\",\"/gen_204\",null,\"/maps/sendtocar/devices?authuser\\u003d0\\u0026hl\\u003den\\u0026gl\\u003din\",\"/maps/sendtocar/send?authuser\\u003d0\\u0026hl\\u003den\\u0026gl\\u003din\",\"/maps/preview/assist?authuser\\u003d0\\u0026hl\\u003den\\u0026gl\\u003din\",\"/maps/preview/reportdataproblem?authuser\\u003d0\\u0026hl\\u003den\\u0026gl\\u003din\",null,\"/maps/rpc/userprefswrite?authuser\\u003d0\\u0026hl\\u003den\\u0026gl\\u003din\",\"/maps/rpc/userprefsread?authuser\\u003d0\\u0026hl\\u003den\\u0026gl\\u003din\",\"/maps/preview/categories?authuser\\u003d0\\u0026hl\\u003den\\u0026gl\\u003din\",null,\"/maps/preview/pegman?authuser\\u003d0\\u0026hl\\u003den\\u0026gl\\u003din\",\"/locationhistory/preview/mas?authuser\\u003d0\\u0026hl\\u003den\\u0026gl\\u003din\",\"/maps/photometa/v1?authuser\\u003d0\\u0026hl\\u003den\\u0026gl\\u003din\",\"/maps/preview/sendtodevice?authuser\\u003d0\\u0026hl\\u003den\\u0026gl\\u003din\",null,\"//khms.google.com/dm/\",[\"https://lh3.ggpht.com/\",\"https://lh4.ggpht.com/\",\"https://lh5.ggpht.com/\",\"https://lh6.ggpht.com/\"],\"/maps/photometa/ac/\",\"/maps/photometa/si/v1?authuser\\u003d0\\u0026hl\\u003den\\u0026gl\\u003din\",\"/maps/timeline/_rpc/pe?authuser\\u003d0\\u0026hl\\u003den\\u0026gl\\u003din\",\"/maps/timeline/_rpc/pd?authuser\\u003d0\\u0026hl\\u003den\\u0026gl\\u003din\",\"/maps/timeline/_rpc/pc?authuser\\u003d0\\u0026hl\\u003den\\u0026gl\\u003din\",\"/maps/preview/directionsassist?authuser\\u003d0\\u0026hl\\u003den\\u0026gl\\u003din\",\"/maps/timeline/_rpc/phe?authuser\\u003d0\\u0026hl\\u003den\\u0026gl\\u003din\",\"/maps/preview/notifications/reg?authuser\\u003d0\\u0026hl\\u003den\\u0026gl\\u003din\",\"/maps/preview/notifications/unreg?authuser\\u003d0\\u0026hl\\u003den\\u0026gl\\u003din\",\"/maps/preview/notifications/fetch?authuser\\u003d0\\u0026hl\\u003den\\u0026gl\\u003din\",\"/maps/preview/notifications/mark?authuser\\u003d0\\u0026hl\\u003den\\u0026gl\\u003din\",null,\"/maps/photometa/acz/\",\"/maps/preview/knowledge?authuser\\u003d0\\u0026hl\\u003den\\u0026gl\\u003din\",\"/maps/preview/pi?authuser\\u003d0\\u0026hl\\u003den\\u0026gl\\u003din\",null,\"/maps/preview/vope?authuser\\u003d0\\u0026hl\\u003den\\u0026gl\\u003din\",\"/maps/timeline/_rpc/placelist/create?authuser\\u003d0\\u0026hl\\u003den\\u0026gl\\u003din\",\"/maps/timeline/_rpc/placelist/additem?authuser\\u003d0\\u0026hl\\u003den\\u0026gl\\u003din\",\"/maps/timeline/_rpc/placelist/delete?authuser\\u003d0\\u0026hl\\u003den\\u0026gl\\u003din\",\"/maps/timeline/_rpc/placelist/edit?authuser\\u003d0\\u0026hl\\u003den\\u0026gl\\u003din\",\"/maps/timeline/_rpc/placelist/removeitem?authuser\\u003d0\\u0026hl\\u003den\\u0026gl\\u003din\",\"/maps/preview/passiveassist?authuser\\u003d0\\u0026hl\\u003den\\u0026gl\\u003din\",\"/maps/rpc/locationsharing/read?authuser\\u003d0\\u0026hl\\u003den\\u0026gl\\u003din\",\"/maps/timeline/_rpc/placelist/follow?authuser\\u003d0\\u0026hl\\u003den\\u0026gl\\u003din\",\"/maps/timeline/_rpc/placelist/share?authuser\\u003d0\\u0026hl\\u003den\\u0026gl\\u003din\",\"/maps/preview/notifications/prefs?authuser\\u003d0\\u0026hl\\u003den\\u0026gl\\u003din\",\"/maps/timeline/_rpc/placelist/get?authuser\\u003d0\\u0026hl\\u003den\\u0026gl\\u003din\",\"/maps/preview/areatraffic?authuser\\u003d0\\u0026hl\\u003den\\u0026gl\\u003din\",\"/maps/preview/localposts?authuser\\u003d0\\u0026hl\\u003den\\u0026gl\\u003din\",\"/maps/timeline/_rpc/placelist/updateitem?authuser\\u003d0\\u0026hl\\u003den\\u0026gl\\u003din\",\"/maps/preview/lp?authuser\\u003d0\\u0026hl\\u003den\\u0026gl\\u003din\",\"/maps/rpc/blockaddomain?authuser\\u003d0\\u0026hl\\u003den\\u0026gl\\u003din\",\"/maps/preview/review/deletereview?authuser\\u003d0\\u0026hl\\u003den\\u0026gl\\u003din\",null,\"/maps/preview/rapfeatures?authuser\\u003d0\\u0026hl\\u003den\\u0026gl\\u003din\",\"/maps/preview/review/writereview?authuser\\u003d0\\u0026hl\\u003den\\u0026gl\\u003din\",\"/maps/preview/review/votereview?authuser\\u003d0\\u0026hl\\u003den\\u0026gl\\u003din\",\"/maps/rpc/merchantstatus?authuser\\u003d0\\u0026hl\\u003den\\u0026gl\\u003din\",\"/maps/preview/review/listentitiesreviews?authuser\\u003d0\\u0026hl\\u003den\\u0026gl\\u003din\",\"/maps/preview/place?authuser\\u003d0\\u0026hl\\u003den\\u0026gl\\u003din\",\"/maps/preview/transit/lines?authuser\\u003d0\\u0026hl\\u003den\\u0026gl\\u003din\",null,\"/maps/rpc/placeinsights?authuser\\u003d0\\u0026hl\\u003den\\u0026gl\\u003din\",\"/maps/timeline/_rpc/sync?authuser\\u003d0\\u0026hl\\u003den\\u0026gl\\u003din\",\"https://streetviewpixels-pa.googleapis.com/?cb_client\\u003dmaps_sv.tactile\",null,\"/maps/preview/entitylist/create?authuser\\u003d0\\u0026hl\\u003den\\u0026gl\\u003din\",\"/maps/preview/entitylist/createitem?authuser\\u003d0\\u0026hl\\u003den\\u0026gl\\u003din\",\"/maps/preview/entitylist/delete?authuser\\u003d0\\u0026hl\\u003den\\u0026gl\\u003din\",\"/maps/preview/entitylist/deleteitem?authuser\\u003d0\\u0026hl\\u003den\\u0026gl\\u003din\",\"/maps/preview/entitylist/getlist?authuser\\u003d0\\u0026hl\\u003den\\u0026gl\\u003din\",\"/maps/preview/entitylist/share?authuser\\u003d0\\u0026hl\\u003den\\u0026gl\\u003din\",\"/maps/preview/entitylist/update?authuser\\u003d0\\u0026hl\\u003den\\u0026gl\\u003din\",\"/maps/preview/entitylist/updateitem?authuser\\u003d0\\u0026hl\\u003den\\u0026gl\\u003din\",\"/maps/preview/entitylist/updaterole?authuser\\u003d0\\u0026hl\\u003den\\u0026gl\\u003din\",\"/maps/rpc/getugcpost?authuser\\u003d0\\u0026hl\\u003den\\u0026gl\\u003din\",\"/maps/rpc/listugcposts?authuser\\u003d0\\u0026hl\\u003den\\u0026gl\\u003din\",\"/maps/preview/entitylist/updatevisibility?authuser\\u003d0\\u0026hl\\u003den\\u0026gl\\u003din\",\"/maps/rpc/businessmessaging/unreadconversations?authuser\\u003d0\\u0026hl\\u003den\\u0026gl\\u003din\",\"/maps/preview/placepreview?authuser\\u003d0\\u0026hl\\u003den\\u0026gl\\u003din\",\"/maps/rpc/deletesearchhistorysuggest?authuser\\u003d0\\u0026hl\\u003den\\u0026gl\\u003din\"],null,null,1,null,[\"en\",\"in\",\"India\"],null,0,\"k4dGZOfFBKrd1sQPgrW86Ag\",null,null,null,null,null,null,null,null,null,null,null,[null,\"a\",null,null,null,null,null,null,null,null,null,null,null,null,null,null,null,[null,null,null,null,null,0,null,null,1,null,null,null,null,null,null,null,null,null,null,1,1,1],null,null,null,[null,null,null,null,null,2,3,2]],[null,null,null,null,null,null,null,null,[null,\"\"],[null,null,null,null,null,\"\"]],[1,2],0,[\"//www.google.com/intl/en_in/privacy.html\",\"//www.google.com/intl/en_in/help/terms_maps.html\",null,null,null,\"//support.google.com/maps/?hl\\u003den\\u0026authuser\\u003d0\",\"https://docs.google.com/picker\",null,\"/maps/sendtocar\",\"/adwords/express/how-it-works.html?utm_source\\u003dawx\\u0026utm_medium\\u003det\\u0026utm_campaign\\u003dww-ww-et-awx-symh-maps-nelson\\u0026hl\\u003den\\u0026authuser\\u003d0\\u0026gl\\u003din\",\"https://accounts.google.com/ServiceLogin?hl\\u003den\",[null,\"Learn more\",null,\"0ahUKEwin28-R08L-AhWqrpUCHYIaD40Q8FkIAigA\",null,\"newmaps_mylocation\"],\"https://business.google.com/create?service\\u003dplus\\u0026hl\\u003den\\u0026authuser\\u003d0\",\"https://www.google.com/maps/api/js/reviews?key\\u003dAIzaSyAQiTKe3tivKXammrJ6ov6u8E7KwZPNFss\\u0026language\\u003den\",\"//www.google.com/settings/accounthistory/location?hl\\u003den\\u0026authuser\\u003d0\",\"/maps/timeline?hl\\u003den\\u0026authuser\\u003d0\",\"//www.google.com/local/guides/signup?utm_source\\u003dtactile\\u0026utm_medium\\u003do\\u0026utm_campaign\\u003dtactile_contributions_panel\\u0026hl\\u003den\\u0026authuser\\u003d0\",\"https://support.google.com/websearch/answer/6276008\",\"https://business.google.com?skipLandingPage\\u003d1\\u0026hl\\u003den\\u0026authuser\\u003d0\",null,[null,null,null,\"https://business.google.com/mm/create?hl\\u003den\\u0026authuser\\u003d0\"],null,[null,null,null,\"https://arvr.google.com/streaming/liteview?streaming_session_address\\u003d78c11b69-98fe-41ed-b729-b88f8cff0efc.streamplease.net\\u0026streaming_session_key\\u003dAIzaSyAcA8JZffmDLbLYu6h52OJgICZcCMYr_bI\"]],null,null,[[\"hi\",\"Hindi - \\u202aहिन्दी\\u202c\"],[\"bn\",\"Bangla - \\u202aবাংলা\\u202c\"],[\"te\",\"Telugu - \\u202aతెలుగు\\u202c\"],[\"mr\",\"Marathi - \\u202aमराठी\\u202c\"],[\"ta\",\"Tamil - \\u202aதமிழ்\\u202c\"],[\"gu\",\"Gujarati - \\u202aગુજરાતી\\u202c\"],[\"kn\",\"Kannada - \\u202aಕನ್ನಡ\\u202c\"],[\"ml\",\"Malayalam - \\u202aമലയാളം\\u202c\"],[\"pa\",\"Punjabi - \\u202aਪੰਜਾਬੀ\\u202c\"]],null,null,[3,4],null,null,[null,null,null,null,null,null,81],[[null,null,null,null,[[\"crisis_overlay\"]]]],0,[\"/maps/_/js/\",\"m\",\"maps.m.en.voKxMFGohgs.es5.O\",\"ACT90oHoOmuFKlOzzq0o5hh_tPqD4NcrgQ\",\"BoA1kA\",null,\"maps.m.MHvcZjJJOLA.L.X.O\",\"/maps/_/js/k\\u003dmaps.m.en.voKxMFGohgs.es5.O/ck\\u003dmaps.m.MHvcZjJJOLA.L.X.O/m\\u003d%s/am\\u003dBoA1kA/rt\\u003dj/d\\u003d1/rs\\u003dACT90oHoOmuFKlOzzq0o5hh_tPqD4NcrgQ\"],null,null,[10202786,10202788,10203448,10203487,10203509,10203917,10203920,10204258,10204417,10204507,10204992,10205027,10205123,10205511,10205524,10205539,10205852,10206062,10206102,10206293,10206363,10206515,10206535,10206556,10206608,10206759,10206774,10206776,10206839,10206906,10203575,1381033,1368782,1368785,47025228,4592408,4640515,4940989,1375050,4536287,47054629],21600,null,null,null,1,null,null,0,null,null,null,[[[1,0,3],[2,1,2],[2,0,3],[8,0,3],[10,0,3],[10,1,2],[10,0,3],[10,1,2],[10,0,4]],1,null,0],null,null,null,1,null,[10203575,1381033,1368782,1368785,47025228,4592408,4640515,4940989,1375050,4536287,47054629],null,null,null,null,null,null,1,1,[null,1,1,1,null,1,1,[1,null,1,1,1,1,1],1,null,null,1,null,1,null,null,null,null,null,1,null,null,1,null,1,1],null,null,null,\"'Noto Sans Devanagari UI', 'Noto Sans Bengali UI', 'Noto Sans Telugu UI', 'Noto Sans Tamil UI', 'Noto Sans Gujarati UI', 'Noto Sans Kannada UI', 'Noto Sans Malayalam UI', 'Noto Sans Gurmukhi UI'\",null,null,[null,null,null,\"/maps/_/js/k\\u003dmaps.mvw.en.lqXCkkE-0vs.es5.O/m\\u003dwtd,vw/rt\\u003dj/d\\u003d1/rs\\u003dACT90oEAB013S_4MiSOPyrMMUf-rumh43Q\"],1,[\"\",0],[null,[[\"/maps/_/js/\",\"m\",\"maps.m.en.voKxMFGohgs.es5.O\",\"ACT90oHoOmuFKlOzzq0o5hh_tPqD4NcrgQ\",\"BoA1kA\",null,\"maps.m.MHvcZjJJOLA.L.X.O\",\"/maps/_/js/k\\u003dmaps.m.en.voKxMFGohgs.es5.O/ck\\u003dmaps.m.MHvcZjJJOLA.L.X.O/m\\u003d%s/am\\u003dBoA1kA/rt\\u003dj/d\\u003d1/rs\\u003dACT90oHoOmuFKlOzzq0o5hh_tPqD4NcrgQ\"]]],1,0,null,[null,null,null,\"/maps/_/js/k\\u003dmaps.mvl.en.ztwhvLndPGE.es5.O/m\\u003db/rt\\u003dj/d\\u003d1/rs\\u003dACT90oGJm4QqIyW2UPpgm14MEshNxIi3bg\"],\"CAE\\u003d\"];window.APP_INITIALIZATION_STATE=[[[3767.4700484681275,72.9755148,19.2183357],null,[1024,768],13.1],[[[\"m\",[16,46049,29199],7,[644382557,644382557,644382557,644382557,644382557,644382557,644382557,644382557,644382557,644382557,644382557,644382557,644382557,644382557,644382557,644382557,644382557,644382557,644382557,644382557,644382557,644382557,644382557,644382557,644382557,644382557,644382557,644382557,644382557,644382557,644382557,644382557,644382557,644382557,644382557,644382557,644382557,644382557,644382557,644382557,644382557,644382557]],[\"m\",[15,23024,14599],4,[644382557,644382557,644382557,644382557,644382557,644382557,644382557,644382557,644382557,644382557,644382557,644382557,644382557,644382557,644382557,644382557]],[\"m\",[17,92102,58401],7,[644382557,644382557,644382557,644382557,644382557,644382557,644382557,644382557,644382557,644382557,644382557,644382557,644382557,644382557,644382557,644382557,644382557,644382557,644382557,644382557,644382557,644382557,644382557,644382473,644382557,644382557,644382557,644382557,644382557,644382557,644382473,644382557,644382557,644382557,644382557,644382557,644382557,644382557,644382557,644382557,644382557,644382557]]]],[[[2,\"spotlit\"]],null,null,[[null,null,null,null,null,null,null,null,null,null,null,null,null,[[[\"4316623233687333245\",\"13466156752307523972\"],\"/g/11sxwmmd84\",null,[192183307,729780897],null,null,null,null,null,null,null,null,null,null,\"gcid:coffee_shop\"],0,0,0]]]],[null,null,null,null,null,\")]}'\\n[[\\\"0x3be7b9f5e921a97d:0xbae166382f049184\\\",\\\"Food town\\\",[[3767.4700484681275,72.9755148,19.2183357],null,[1024,768],13.1],[null,null,19.2183307,72.9780897],null,null,null,null,null,null,null,null,null,null,[[null,null,null,\\\"/g/11sxwmmd84\\\"]]],null,null,null,null,null,null,null,null,null,null,[null,[360,120,null,8]],[null,[203,100],[null,4,null,null,1],null,null,[[[86,86],[408,240]]],[[[1,0,3],[2,1,2],[2,0,3],[8,0,3],[10,0,3],[10,1,2],[10,0,3],[10,1,2],[10,0,4]],1,null,0],null,0],[\\\"k4dGZOfFBKrd1sQPgrW86Ag\\\",null,null,null,null,null,81,null,null,null,null,null,null,null,10112],[[null,null,null,null,null,null,null,null,null,null,null,null,[null,1,1,1,null,1,null,1,1,null,null,null,null,1,null,null,null,null,null,1,null,null,null,null,1],null,null,null,null,[null,null,1,1,1,1,null,null,null,null,null,null,1,1,1,null,1,null,null,null,1,0,null,null,0,null,[0],0]],1,null,null,[null,1,1,null,1,1,1,null,null,1],null,null,null,null,[null,null,null,null,null,null,null,3],[null,null,[1]],null,null,[null,null,1],null,null,1,null,null,[[3,6]],null,null,null,1,1,1,null,null,1,[null,1],null,null,null,null,null,1,null,null,[null,[null,1,1]],null,null,null,1,null,null,null,null,null,null,null,null,1,null,[1],1,[1,null,1],null,null,null,null,null,null,null,null,[null,null,[[[[224,298]]]]],null,null,null,null,null,1,[[null,null,1,null,1],null,null,1],null,null,null,null,null,null,null,null,null,null,null,null,null,null,null,null,1,null,null,null,null,null,null,null,null,null,null,null,null,null,null,null,null,null,null,null,null,null,null,null,1],null,null,null,null,null,[],[81],null,null,null,null,null,null,null,[null,null,1,null,null,[1,1],[3]],null,null,null,[null,null,null,null,null,null,1,null,null,1,null,null,null,0],null,null,644]\",\")]}'\\n[null,null,null,null,[[3767.4700524074683,72.9780897,19.218330700000003],[0,0,0],[1024,768],13.1],null,[\\\"k4dGZMf3Bard1sQPgrW86Ag\\\",\\\"0ahUKEwiHjdGR08L-AhWqrpUCHYIaD40Q8BcICCgB\\\",[\\\"6X9H+86P\\\",\\\"Thane West\\\",\\\"Thane, Maharashtra\\\"],null,[null,null,null,[null,\\\"6 reviews\\\",null,\\\"0ahUKEwiHjdGR08L-AhWqrpUCHYIaD40Q6W4IGCgA\\\"],null,null,null,4.7,6],null,null,null,null,[null,null,19.2183307,72.9780897],\\\"0x3be7b9f5e921a97d:0xbae166382f049184\\\",\\\"Food town\\\",null,[\\\"Coffee shop\\\"],\\\"Thane West\\\",null,null,null,\\\"6X9H+86P Food town, Thane West, Thane, Maharashtra\\\",null,null,null,null,null,null,[null,null,null,null,null,null,null,null,null,null,null,null,null,null,null,null,null,null,[[[1],\\\"Favourites\\\",null,1,null,null,null,null,null,null,null,\\\"0ahUKEwiHjdGR08L-AhWqrpUCHYIaD40QwaQDCBsoAA\\\"],[[2],\\\"Want to go\\\",null,1,null,null,null,null,null,null,null,\\\"0ahUKEwiHjdGR08L-AhWqrpUCHYIaD40QwaQDCBwoAQ\\\"],[[7],\\\"Travel plans\\\",null,1,null,null,null,null,null,null,null,\\\"0ahUKEwiHjdGR08L-AhWqrpUCHYIaD40QwaQDCB0oAg\\\"],[[4],\\\"Starred places\\\",null,1,null,null,null,null,null,null,null,\\\"0ahUKEwiHjdGR08L-AhWqrpUCHYIaD40QwaQDCB4oAw\\\"]],null,null,null,\\\"0ahUKEwiHjdGR08L-AhWqrpUCHYIaD40Q0JcGCBooEA\\\"],null,\\\"https://www.google.com/maps/place/Food+town/data\\\\u003d!4m2!3m1!1s0x3be7b9f5e921a97d:0xbae166382f049184!10m1!1e1\\\",null,null,\\\"Asia/Calcutta\\\",null,null,null,[null,null,null,null,[null,null,null,null,null,1]],null,null,[[[\\\"0h7cJiCu-RTuXXJATjykXw\\\",0,1,\\\"Food town\\\",null,670.60626,[\\\"https://streetviewpixels-pa.googleapis.com/v1/thumbnail?panoid\\\\u003d0h7cJiCu-RTuXXJATjykXw\\\\u0026cb_client\\\\u003dsearch.gws-prod.gps\\\\u0026w\\\\u003d211\\\\u0026h\\\\u003d120\\\\u0026yaw\\\\u003d165.40897\\\\u0026pitch\\\\u003d0\\\\u0026thumbfov\\\\u003d100\\\",\\\"\\\",null,[211,120]],null,[[3,72.97805560219038,19.218454387766073],[165.40897,90],[1024,768],75],\\\"k4dGZMf3Bard1sQPgrW86Ag\\\",\\\"0ahUKEwiHjdGR08L-AhWqrpUCHYIaD40QkI4GCCAoAA\\\",null,null,null,null,[[[\\\"0x3be7b9f5e921a97d:0xbae166382f049184\\\"]]],null,[\\\"6X9H+86P, Thane West, Thane, Maharashtra\\\"],null,null,\\\"Street View\\\",[null,[2,\\\"0h7cJiCu-RTuXXJATjykXw\\\"],[2,2,null,[]],null,null,[[[2],[[null,null,19.218454387766073,72.97805560219038],null,[353.95358,88.79038,2.1763809]]]],[3,null,null,[2],null,[null,null,\\\"launch\\\",[6]],null,null,[2023,4,20,17]]],2,null,null,null,null,null,null,[\\\"4316623233687333245\\\",\\\"-4980587321402027644\\\"],null,\\\"ynWzWwKMqqI\\\"],[\\\"AF1QipPfqSnzl5SeCoAio-wMS0Vw-XO5UeXlNl1DYDEA\\\",10,12,\\\"\\\",null,847.7319,[\\\"https://lh5.googleusercontent.com/p/AF1QipPfqSnzl5SeCoAio-wMS0Vw-XO5UeXlNl1DYDEA\\\\u003dw159-h120-k-no\\\",\\\"19 Photos\\\",[4624,3472],[141,120]],null,[[3,72.9780706,19.218328700000004],[0,90],[4624,3472],75],\\\"k4dGZMf3Bard1sQPgrW86Ag\\\",\\\"0ahUKEwiHjdGR08L-AhWqrpUCHYIaD40QzCcIISgB\\\",null,null,null,null,[[[\\\"0x3be7b9f5e921a97d:0xbae166382f049184\\\"]]],null,[\\\"6X9H+86P, Thane West, Thane, Maharashtra\\\"],null,null,\\\"Photo\\\",[null,[10,\\\"AF1QipPfqSnzl5SeCoAio-wMS0Vw-XO5UeXlNl1DYDEA\\\"],[10,3,[3472,4624]],null,null,[[[2],[[null,null,19.218328700000004,72.9780706]]]],[2,null,null,[8],2,[null,null,\\\"photos:dragonfly_tactile\\\",[6,7,4,1,3]],null,null,[2022,10,1,7]]],1,null,null,null,null,null,null,[\\\"4316623233687333245\\\",\\\"-4980587321402027644\\\"],null,\\\"QJCFkzVgtPQ\\\"]],19,null,\\\"k4dGZMf3Bard1sQPgrW86Ag\\\",null,\\\"EvgDKYQi49-NlUMIDwAAAAEAAAMAAAAAAAAAAAAAAAAAAAAAAAAAAAAAAABAAAAAAAAAAAAAAAAAAAAAAAAAAAAAAAAAAAAAAAAAAAAAAAAAAAAAAAAAAAIAAAAAAAAAAAAAAAAAAAAAAAAAAAAAAAAAAAAAAAAAAAAAAAAAAAAQAAAAAAAAAAAAAAAAAAAAAAAAAAAAAAAAAAAAAAAAAAAAAAAAAAAAAAAAAAAAAIAAAAAAAAAAAAAAAAAAAAAAAAAAAAAAAAAAAAAAAAAIAAAAAAAAAAAAAAAAAAAAAAAAAAAAAAAAAAAAAAAAAAAAAAAAAAAAAAAAAAAAAAAAAAAAAAAAAAAAAAAAAAAAAAAAAAAAAAAAAAAAAAABQAAAAAAAAAAAAAAAAAAAAAAAAAAAAAAAAAAAAAAAAAAAAAAAAAAAAAAAAAAAAAAAAAAAAAAAAAAAAAAAAAAAIAAAAAAAAAAAAAAAACAAAAAAgAAAAAAAAAAAAAAAAAAAAAAAAAAAAAAAAAAAAAAAAAAACAAAAABAAEAAAAAACAAAAAAAAAAAAAAAAAAAAAAAAAAAAAAAAAAAAAAAAAAAAAAAAAAAAAAAAAAAAAAAAQAAAAAAAAAAAAAAAAAAAAAAAAAAAAAAAAAAAAAAAAAAAAAAAAAAAAAAAAAAAAAAGAVCVCmEIuPfjZVD6AEAACAAAAADAAAAACAAAAAAAAAAAAAAAAAAAIAACAAAAAAAQAAAAAAAQAAAAACQCAAAAUEAIAAAAAAIAAIAAAAAAAAAQAAAAAAAAA\\\",null,null,[[[1,18]],1,null,0,18]],null,\\\"6X9H+86P, Thane West, Thane, Maharashtra\\\",null,null,\\\"https://www.google.com/maps/preview/place/6X9H%2B86P+Food+town,+Thane+West,+Thane,+Maharashtra/@19.2183307,72.9780897,3767a,13.1y/data\\\\u003d!4m2!3m1!1s0x3be7b9f5e921a97d:0xbae166382f049184\\\",1,null,null,null,null,null,null,null,null,[[[[\\\"/url?q\\\\u003dhttps://www.google.com/maps/contrib/109756394067418132234%3Fhl%3Den-US\\\\u0026sa\\\\u003dU\\\\u0026ved\\\\u003d0ahUKEwiHjdGR08L-AhWqrpUCHYIaD40Q4h4IJigA\\\\u0026usg\\\\u003dAOvVaw2d0i4LBb6hgtb-8cS9jhWs\\\",\\\"Divya Futak\\\",\\\"https://lh3.googleusercontent.com/a-/ACB-R5S2ze6nMecBTlOeXimibib2OZTshiMJnTWAiZ0_vC4\\\\u003ds120-c-c0x00000000-cc-rp-mo-ba3-br100\\\",\\\"0ahUKEwiHjdGR08L-AhWqrpUCHYIaD40Q4h4IJigA\\\"],\\\"a year ago\\\",null,\\\"It's a pure veg restaurant, good food with good ambience..\\\",4,null,\\\"109756394067418132234\\\",[\\\"https://www.google.com/local/review/rap/report?postId\\\\u003dChZDSUhNMG9nS0VJQ0FnSUMyOHA3NlB3EAE\\\\u0026entityid\\\\u003dChZDSUhNMG9nS0VJQ0FnSUMyOHA3NlB3Ei4KF0NJSE0wb2dLRUlDQWdJQzI4cDc2dndFEhNDZ3dJMXVmdWtnWVEwSkt0dmdJGi0KFkNJSE0wb2dLRUlDQWdJQzI4cDc2ZncSE0Nnd0kxdWZ1a2dZUTBKS3R2Z0kiEgl9qSHp9bnnOxGEkQQvOGbhuioTQ2d3STJlZnVrZ1lRZ09DU2t3SQ\\\\u0026wv\\\\u003d1\\\\u0026d\\\\u003d286732320\\\",\\\"Flag as inappropriate\\\",null,\\\"0ahUKEwiHjdGR08L-AhWqrpUCHYIaD40QoykIKSgD\\\"],null,null,\\\"ChZDSUhNMG9nS0VJQ0FnSUMyOHA3NlB3EAE\\\",\\\"0ahUKEwiHjdGR08L-AhWqrpUCHYIaD40Q4R4IJSgA\\\",[null,[[5,null,1],16,39,\\\"https://lh3.googleusercontent.com/a-/ACB-R5S2ze6nMecBTlOeXimibib2OZTshiMJnTWAiZ0_vC4\\\\u003ds120-c-c0x00000000-cc-rp-mo-ba3-br100\\\",\\\"Divya Futak\\\",\\\"https://www.google.com/maps/contrib/109756394067418132234?hl\\\\u003den-US\\\",null,null,\\\"https://www.google.com/maps/contrib/109756394067418132234?hl\\\\u003den-US\\\",null,null,null,[\\\"Local Guide · 16 reviews\\\",null,null,null,null,[null,\\\"0ahUKEwiHjdGR08L-AhWqrpUCHYIaD40Qpr8GCCgoAg\\\",1,3]],\\\"109756394067418132234\\\"],\\\"D\\\"],null,[[\\\"AF1QipOw37BFeJko4Q0bGovRf76NpQQhYFK6MLvsmXnG\\\",null,null,null,null,null,[\\\"https://lh5.googleusercontent.com/p/AF1QipOw37BFeJko4Q0bGovRf76NpQQhYFK6MLvsmXnG\\\\u003dw150-h150-k-no-p\\\"],null,null,\\\"k4dGZMf3Bard1sQPgrW86Ag\\\",\\\"0ahUKEwiHjdGR08L-AhWqrpUCHYIaD40QzCcIKigE\\\",[\\\"//www.google.com/local/imagery/report/?cb_client\\\\u003dmaps_sv.tactile\\\\u0026image_key\\\\u003d!1e10!2sAF1QipOw37BFeJko4Q0bGovRf76NpQQhYFK6MLvsmXnG\\\",null,null,\\\"0ahUKEwiHjdGR08L-AhWqrpUCHYIaD40Q-y4IKygA\\\"],null,null,null,null,null,null,null,null,null,[[1],[10,\\\"AF1QipOw37BFeJko4Q0bGovRf76NpQQhYFK6MLvsmXnG\\\"],[10,3,[1982,1586],null,null,null,null,null,null,\\\"AF1QipOw37BFeJko4Q0bGovRf76NpQQhYFK6MLvsmXnG\\\"],[null,null,null,null,null,null,null,[\\\"Food town\\\",\\\"en\\\"]],[null,[[[\\\"Divya Futak\\\"],\\\"https://www.google.com/maps/contrib/109756394067418132234?hl\\\\u003den-US\\\",\\\"https://lh3.googleusercontent.com/a-/ACB-R5S2ze6nMecBTlOeXimibib2OZTshiMJnTWAiZ0_vC4\\\\u003ds120-c-c0x00000000-cc-rp-mo-ba3-br100\\\"]]],null,[2,0,null,null,null,[null,null,\\\"photos:gmm_android_review_post\\\",[6,7,4,1,3]],null,[2021,10,3,null,null,null,null,null,[\\\"a year ago\\\"]],[2022,4,17,6,null,null,null,null,[\\\"a year ago\\\"]]],[\\\"//www.google.com/local/imagery/report/?cb_client\\\\u003dmaps_sv.tactile\\\\u0026image_key\\\\u003d!1e10!2sAF1QipOw37BFeJko4Q0bGovRf76NpQQhYFK6MLvsmXnG\\\"]]],[\\\"AF1QipN9-8KZX-vrCeODgIrNqNUS7mVRsW8vjUWG1XQx\\\",null,null,null,null,null,[\\\"https://lh5.googleusercontent.com/p/AF1QipN9-8KZX-vrCeODgIrNqNUS7mVRsW8vjUWG1XQx\\\\u003dw150-h150-k-no-p\\\"],null,null,\\\"k4dGZMf3Bard1sQPgrW86Ag\\\",\\\"0ahUKEwiHjdGR08L-AhWqrpUCHYIaD40QzCcILCgF\\\",[\\\"//www.google.com/local/imagery/report/?cb_client\\\\u003dmaps_sv.tactile\\\\u0026image_key\\\\u003d!1e10!2sAF1QipN9-8KZX-vrCeODgIrNqNUS7mVRsW8vjUWG1XQx\\\",null,null,\\\"0ahUKEwiHjdGR08L-AhWqrpUCHYIaD40Q-y4ILSgA\\\"],null,null,null,null,null,null,null,null,null,[[1],[10,\\\"AF1QipN9-8KZX-vrCeODgIrNqNUS7mVRsW8vjUWG1XQx\\\"],[10,3,[2048,1536],null,null,null,null,null,null,\\\"AF1QipN9-8KZX-vrCeODgIrNqNUS7mVRsW8vjUWG1XQx\\\"],[null,null,null,null,null,null,null,[\\\"Food town\\\",\\\"en\\\"]],[null,[[[\\\"Divya Futak\\\"],\\\"https://www.google.com/maps/contrib/109756394067418132234?hl\\\\u003den-US\\\",\\\"https://lh3.googleusercontent.com/a-/ACB-R5S2ze6nMecBTlOeXimibib2OZTshiMJnTWAiZ0_vC4\\\\u003ds120-c-c0x00000000-cc-rp-mo-ba3-br100\\\"]]],null,[2,0,null,null,null,[null,null,\\\"photos:gmm_android_review_post\\\",[6,7,4,1,3]],null,[2021,10,2,null,null,null,null,null,[\\\"a year ago\\\"]],[2022,4,17,6,null,null,null,null,[\\\"a year ago\\\"]]],[\\\"//www.google.com/local/imagery/report/?cb_client\\\\u003dmaps_sv.tactile\\\\u0026image_key\\\\u003d!1e10!2sAF1QipN9-8KZX-vrCeODgIrNqNUS7mVRsW8vjUWG1XQx\\\"]]],[\\\"AF1QipOOJAUdrS2vriEmXyv2ycNUfgF8nVs2R78nlur_\\\",null,null,null,null,null,[\\\"https://lh5.googleusercontent.com/p/AF1QipOOJAUdrS2vriEmXyv2ycNUfgF8nVs2R78nlur_\\\\u003dw150-h150-k-no-p\\\"],null,null,\\\"k4dGZMf3Bard1sQPgrW86Ag\\\",\\\"0ahUKEwiHjdGR08L-AhWqrpUCHYIaD40QzCcILigG\\\",[\\\"//www.google.com/local/imagery/report/?cb_client\\\\u003dmaps_sv.tactile\\\\u0026image_key\\\\u003d!1e10!2sAF1QipOOJAUdrS2vriEmXyv2ycNUfgF8nVs2R78nlur_\\\",null,null,\\\"0ahUKEwiHjdGR08L-AhWqrpUCHYIaD40Q-y4ILygA\\\"],null,null,null,null,null,null,null,null,null,[[1],[10,\\\"AF1QipOOJAUdrS2vriEmXyv2ycNUfgF8nVs2R78nlur_\\\"],[10,3,[2048,1536],null,null,null,null,null,null,\\\"AF1QipOOJAUdrS2vriEmXyv2ycNUfgF8nVs2R78nlur_\\\"],[null,null,null,null,null,null,null,[\\\"Food town\\\",\\\"en\\\"]],[null,[[[\\\"Divya Futak\\\"],\\\"https://www.google.com/maps/contrib/109756394067418132234?hl\\\\u003den-US\\\",\\\"https://lh3.googleusercontent.com/a-/ACB-R5S2ze6nMecBTlOeXimibib2OZTshiMJnTWAiZ0_vC4\\\\u003ds120-c-c0x00000000-cc-rp-mo-ba3-br100\\\"]]],null,[2,0,null,null,null,[null,null,\\\"photos:gmm_android_review_post\\\",[6,7,4,1,3]],null,[2021,10,2,null,null,null,null,null,[\\\"a year ago\\\"]],[2022,4,17,6,null,null,null,null,[\\\"a year ago\\\"]]],[\\\"//www.google.com/local/imagery/report/?cb_client\\\\u003dmaps_sv.tactile\\\\u0026image_key\\\\u003d!1e10!2sAF1QipOOJAUdrS2vriEmXyv2ycNUfgF8nVs2R78nlur_\\\"]]],[\\\"AF1QipO_E0eABncqFw-ppXGPatFna6srIj4I1f0zJS6b\\\",null,null,null,null,null,[\\\"https://lh5.googleusercontent.com/p/AF1QipO_E0eABncqFw-ppXGPatFna6srIj4I1f0zJS6b\\\\u003dw150-h150-k-no-p\\\"],null,null,\\\"k4dGZMf3Bard1sQPgrW86Ag\\\",\\\"0ahUKEwiHjdGR08L-AhWqrpUCHYIaD40QzCcIMCgH\\\",[\\\"//www.google.com/local/imagery/report/?cb_client\\\\u003dmaps_sv.tactile\\\\u0026image_key\\\\u003d!1e10!2sAF1QipO_E0eABncqFw-ppXGPatFna6srIj4I1f0zJS6b\\\",null,null,\\\"0ahUKEwiHjdGR08L-AhWqrpUCHYIaD40Q-y4IMSgA\\\"],null,null,null,null,null,null,null,null,null,[[1],[10,\\\"AF1QipO_E0eABncqFw-ppXGPatFna6srIj4I1f0zJS6b\\\"],[10,3,[2048,1536],null,null,null,null,null,null,\\\"AF1QipO_E0eABncqFw-ppXGPatFna6srIj4I1f0zJS6b\\\"],[null,null,null,null,null,null,null,[\\\"Food town\\\",\\\"en\\\"]],[null,[[[\\\"Divya Futak\\\"],\\\"https://www.google.com/maps/contrib/109756394067418132234?hl\\\\u003den-US\\\",\\\"https://lh3.googleusercontent.com/a-/ACB-R5S2ze6nMecBTlOeXimibib2OZTshiMJnTWAiZ0_vC4\\\\u003ds120-c-c0x00000000-cc-rp-mo-ba3-br100\\\"]]],null,[2,0,null,null,null,[null,null,\\\"photos:gmm_android_review_post\\\",[6,7,4,1,3]],null,[2021,10,2,null,null,null,null,null,[\\\"a year ago\\\"]],[2022,4,17,6,null,null,null,null,[\\\"a year ago\\\"]]],[\\\"//www.google.com/local/imagery/report/?cb_client\\\\u003dmaps_sv.tactile\\\\u0026image_key\\\\u003d!1e10!2sAF1QipO_E0eABncqFw-ppXGPatFna6srIj4I1f0zJS6b\\\"]]],[\\\"AF1QipPOUo2GxbqhEcyk5cVjySbYawmWozipOEQ56F1p\\\",null,null,null,null,null,[\\\"https://lh5.googleusercontent.com/p/AF1QipPOUo2GxbqhEcyk5cVjySbYawmWozipOEQ56F1p\\\\u003dw150-h150-k-no-p\\\"],null,null,\\\"k4dGZMf3Bard1sQPgrW86Ag\\\",\\\"0ahUKEwiHjdGR08L-AhWqrpUCHYIaD40QzCcIMigI\\\",[\\\"//www.google.com/local/imagery/report/?cb_client\\\\u003dmaps_sv.tactile\\\\u0026image_key\\\\u003d!1e10!2sAF1QipPOUo2GxbqhEcyk5cVjySbYawmWozipOEQ56F1p\\\",null,null,\\\"0ahUKEwiHjdGR08L-AhWqrpUCHYIaD40Q-y4IMygA\\\"],null,null,null,null,null,null,null,null,null,[[1],[10,\\\"AF1QipPOUo2GxbqhEcyk5cVjySbYawmWozipOEQ56F1p\\\"],[10,3,[2048,1536],null,null,null,null,null,null,\\\"AF1QipPOUo2GxbqhEcyk5cVjySbYawmWozipOEQ56F1p\\\"],[null,null,null,null,null,null,null,[\\\"Food town\\\",\\\"en\\\"]],[null,[[[\\\"Divya Futak\\\"],\\\"https://www.google.com/maps/contrib/109756394067418132234?hl\\\\u003den-US\\\",\\\"https://lh3.googleusercontent.com/a-/ACB-R5S2ze6nMecBTlOeXimibib2OZTshiMJnTWAiZ0_vC4\\\\u003ds120-c-c0x00000000-cc-rp-mo-ba3-br100\\\"]]],null,[2,0,null,null,null,[null,null,\\\"photos:gmm_android_review_post\\\",[6,7,4,1,3]],null,[2021,10,2,null,null,null,null,null,[\\\"a year ago\\\"]],[2022,4,17,6,null,null,null,null,[\\\"a year ago\\\"]]],[\\\"//www.google.com/local/imagery/report/?cb_client\\\\u003dmaps_sv.tactile\\\\u0026image_key\\\\u003d!1e10!2sAF1QipPOUo2GxbqhEcyk5cVjySbYawmWozipOEQ56F1p\\\"]]],[\\\"AF1QipPXY0geAqoqecJ2gL2GFtPWQNRamGxDO8KoqSKv\\\",null,null,null,null,null,[\\\"https://lh5.googleusercontent.com/p/AF1QipPXY0geAqoqecJ2gL2GFtPWQNRamGxDO8KoqSKv\\\\u003dw150-h150-k-no-p\\\"],null,null,\\\"k4dGZMf3Bard1sQPgrW86Ag\\\",\\\"0ahUKEwiHjdGR08L-AhWqrpUCHYIaD40QzCcINCgJ\\\",[\\\"//www.google.com/local/imagery/report/?cb_client\\\\u003dmaps_sv.tactile\\\\u0026image_key\\\\u003d!1e10!2sAF1QipPXY0geAqoqecJ2gL2GFtPWQNRamGxDO8KoqSKv\\\",null,null,\\\"0ahUKEwiHjdGR08L-AhWqrpUCHYIaD40Q-y4INSgA\\\"],null,null,null,null,null,null,null,null,null,[[1],[10,\\\"AF1QipPXY0geAqoqecJ2gL2GFtPWQNRamGxDO8KoqSKv\\\"],[10,3,[2048,1536],null,null,null,null,null,null,\\\"AF1QipPXY0geAqoqecJ2gL2GFtPWQNRamGxDO8KoqSKv\\\"],[null,null,null,null,null,null,null,[\\\"Food town\\\",\\\"en\\\"]],[null,[[[\\\"Divya Futak\\\"],\\\"https://www.google.com/maps/contrib/109756394067418132234?hl\\\\u003den-US\\\",\\\"https://lh3.googleusercontent.com/a-/ACB-R5S2ze6nMecBTlOeXimibib2OZTshiMJnTWAiZ0_vC4\\\\u003ds120-c-c0x00000000-cc-rp-mo-ba3-br100\\\"]]],null,[2,0,null,null,null,[null,null,\\\"photos:gmm_android_review_post\\\",[6,7,4,1,3]],null,[2021,10,2,null,null,null,null,null,[\\\"a year ago\\\"]],[2022,4,17,6,null,null,null,null,[\\\"a year ago\\\"]]],[\\\"//www.google.com/local/imagery/report/?cb_client\\\\u003dmaps_sv.tactile\\\\u0026image_key\\\\u003d!1e10!2sAF1QipPXY0geAqoqecJ2gL2GFtPWQNRamGxDO8KoqSKv\\\"]]],[\\\"AF1QipNhchGMOUBWwkxl1_62EDdD7NcZrVCWRFCRXyXU\\\",null,null,null,null,null,[\\\"https://lh5.googleusercontent.com/p/AF1QipNhchGMOUBWwkxl1_62EDdD7NcZrVCWRFCRXyXU\\\\u003dw150-h150-k-no-p\\\"],null,null,\\\"k4dGZMf3Bard1sQPgrW86Ag\\\",\\\"0ahUKEwiHjdGR08L-AhWqrpUCHYIaD40QzCcINigK\\\",[\\\"//www.google.com/local/imagery/report/?cb_client\\\\u003dmaps_sv.tactile\\\\u0026image_key\\\\u003d!1e10!2sAF1QipNhchGMOUBWwkxl1_62EDdD7NcZrVCWRFCRXyXU\\\",null,null,\\\"0ahUKEwiHjdGR08L-AhWqrpUCHYIaD40Q-y4INygA\\\"],null,null,null,null,null,null,null,null,null,[[1],[10,\\\"AF1QipNhchGMOUBWwkxl1_62EDdD7NcZrVCWRFCRXyXU\\\"],[10,3,[2048,1536],null,null,null,null,null,null,\\\"AF1QipNhchGMOUBWwkxl1_62EDdD7NcZrVCWRFCRXyXU\\\"],[null,null,null,null,null,null,null,[\\\"Food town\\\",\\\"en\\\"]],[null,[[[\\\"Divya Futak\\\"],\\\"https://www.google.com/maps/contrib/109756394067418132234?hl\\\\u003den-US\\\",\\\"https://lh3.googleusercontent.com/a-/ACB-R5S2ze6nMecBTlOeXimibib2OZTshiMJnTWAiZ0_vC4\\\\u003ds120-c-c0x00000000-cc-rp-mo-ba3-br100\\\"]]],null,[2,0,null,null,null,[null,null,\\\"photos:gmm_android_review_post\\\",[6,7,4,1,3]],null,[2021,10,2,null,null,null,null,null,[\\\"a year ago\\\"]],[2022,4,17,6,null,null,null,null,[\\\"a year ago\\\"]]],[\\\"//www.google.com/local/imagery/report/?cb_client\\\\u003dmaps_sv.tactile\\\\u0026image_key\\\\u003d!1e10!2sAF1QipNhchGMOUBWwkxl1_62EDdD7NcZrVCWRFCRXyXU\\\"]]],[\\\"AF1QipNQjor2dHy7ZgOZv47Ll53ERqUoOJeTpDJcXkSL\\\",null,null,null,null,null,[\\\"https://lh5.googleusercontent.com/p/AF1QipNQjor2dHy7ZgOZv47Ll53ERqUoOJeTpDJcXkSL\\\\u003dw150-h150-k-no-p\\\"],null,null,\\\"k4dGZMf3Bard1sQPgrW86Ag\\\",\\\"0ahUKEwiHjdGR08L-AhWqrpUCHYIaD40QzCcIOCgL\\\",[\\\"//www.google.com/local/imagery/report/?cb_client\\\\u003dmaps_sv.tactile\\\\u0026image_key\\\\u003d!1e10!2sAF1QipNQjor2dHy7ZgOZv47Ll53ERqUoOJeTpDJcXkSL\\\",null,null,\\\"0ahUKEwiHjdGR08L-AhWqrpUCHYIaD40Q-y4IOSgA\\\"],null,null,null,null,null,null,null,null,null,[[1],[10,\\\"AF1QipNQjor2dHy7ZgOZv47Ll53ERqUoOJeTpDJcXkSL\\\"],[10,3,[1536,2048],null,null,null,null,null,null,\\\"AF1QipNQjor2dHy7ZgOZv47Ll53ERqUoOJeTpDJcXkSL\\\"],[null,null,null,null,null,null,null,[\\\"Food town\\\",\\\"en\\\"]],[null,[[[\\\"Divya Futak\\\"],\\\"https://www.google.com/maps/contrib/109756394067418132234?hl\\\\u003den-US\\\",\\\"https://lh3.googleusercontent.com/a-/ACB-R5S2ze6nMecBTlOeXimibib2OZTshiMJnTWAiZ0_vC4\\\\u003ds120-c-c0x00000000-cc-rp-mo-ba3-br100\\\"]]],null,[2,0,null,null,null,[null,null,\\\"photos:gmm_android_review_post\\\",[6,7,4,1,3]],null,[2021,10,2,null,null,null,null,null,[\\\"a year ago\\\"]],[2022,4,17,6,null,null,null,null,[\\\"a year ago\\\"]]],[\\\"//www.google.com/local/imagery/report/?cb_client\\\\u003dmaps_sv.tactile\\\\u0026image_key\\\\u003d!1e10!2sAF1QipNQjor2dHy7ZgOZv47Ll53ERqUoOJeTpDJcXkSL\\\"]]]],null,0,0,\\\"https://www.google.com/maps/reviews/data\\\\u003d!4m8!14m7!1m6!2m5!1sChZDSUhNMG9nS0VJQ0FnSUMyOHA3NlB3EAE!2m1!1s0x0:0xbae166382f049184!3m1!1s2@1:CIHM0ogKEICAgIC28p76Pw%7CCgwI2efukgYQgOCSkwI%7C?hl\\\\u003den-US\\\",null,null,null,null,null,null,null,null,1650176982667,null,null,[0,58],[\\\"0\\\",\\\"-4980587321402027644\\\"],\\\"en\\\",null,null,null,null,null,null,null,null,null,null,null,null,null,null,null,null,[[[\\\"GUIDED_DINING_MODE\\\"],\\\"Did you dine in, take out, or get delivery?\\\",[[[[\\\"E:DINE_IN\\\"],\\\"Dine in\\\",2,null,null,\\\"0ahUKEwiHjdGR08L-AhWqrpUCHYIaD40Q3YcHCDsoAA\\\",null,null,0]],1],null,null,\\\"Service\\\",1,\\\"0ahUKEwiHjdGR08L-AhWqrpUCHYIaD40Q3IcHCDooDA\\\",null,null,null,null,null,1,[[1]]],[[\\\"GUIDED_DINING_MEAL_TYPE\\\"],\\\"What did you get?\\\",[[[[\\\"E:BRUNCH\\\"],\\\"Brunch\\\",2,null,null,\\\"0ahUKEwiHjdGR08L-AhWqrpUCHYIaD40Q3YcHCD0oAA\\\",null,null,0]],1],null,null,\\\"Meal type\\\",1,\\\"0ahUKEwiHjdGR08L-AhWqrpUCHYIaD40Q3IcHCDwoDQ\\\",null,null,null,null,null,1,[[1]]],[[\\\"GUIDED_DINING_PRICE_RANGE\\\"],\\\"How much did you spend per person?\\\",[[[[\\\"E:INR_400_TO_600\\\"],\\\"₹400–600\\\",2,null,\\\"₹400 to ₹600\\\",\\\"0ahUKEwiHjdGR08L-AhWqrpUCHYIaD40Q3YcHCD8oAA\\\"]],1],null,null,\\\"Price per person\\\",1,\\\"0ahUKEwiHjdGR08L-AhWqrpUCHYIaD40Q3IcHCD4oDg\\\",null,null,null,null,null,1,[[1],[2]]]],null,null,null,null,null,null,null,1650176790950,null,null,[\\\"/url?q\\\\u003dhttps://www.google.com/maps/contrib/109756394067418132234/reviews%3Fhl%3Den-US\\\\u0026sa\\\\u003dU\\\\u0026ved\\\\u003d0ahUKEwiHjdGR08L-AhWqrpUCHYIaD40Q4h4IJygB\\\\u0026usg\\\\u003dAOvVaw3cc2gYNbf_nq2gUjq_of-4\\\",\\\"Divya Futak\\\",\\\"https://lh3.googleusercontent.com/a-/ACB-R5S2ze6nMecBTlOeXimibib2OZTshiMJnTWAiZ0_vC4\\\\u003ds120-c-c0x00000000-cc-rp-mo-ba3-br100\\\",\\\"0ahUKEwiHjdGR08L-AhWqrpUCHYIaD40Q4h4IJygB\\\"],\\\"CAESBkVnSUlBUQ\\\\u003d\\\\u003d\\\"],[[\\\"/url?q\\\\u003dhttps://www.google.com/maps/contrib/118158768574657065586%3Fhl%3Den-US\\\\u0026sa\\\\u003dU\\\\u0026ved\\\\u003d0ahUKEwiHjdGR08L-AhWqrpUCHYIaD40Q4h4IQSgA\\\\u0026usg\\\\u003dAOvVaw2c6RZ4EIeY2t6akIk-OQJX\\\",\\\"44.Kalyani Patil\\\",\\\"https://lh3.googleusercontent.com/a-/ACB-R5Q_moO-TODv__Dbozp3NLsMQX6-TqDwTbjT_pvF4Q\\\\u003ds120-c-c0x00000000-cc-rp-mo-br100\\\",\\\"0ahUKEwiHjdGR08L-AhWqrpUCHYIaD40Q4h4IQSgA\\\"],\\\"2 weeks ago\\\",null,\\\"Good food\\\",5,null,\\\"118158768574657065586\\\",[\\\"https://www.google.com/local/review/rap/report?postId\\\\u003dChdDSUhNMG9nS0VJQ0FnSUNSMGF6dzlRRRAB\\\\u0026entityid\\\\u003dChdDSUhNMG9nS0VJQ0FnSUNSMGF6dzlRRRIsChZDSUhNMG9nS0VJQ0FnSUNSMGF6d0RREhJDZ3NJcnNldm9RWVE2SVRwQncaLQoXQ0lITTBvZ0tFSUNBZ0lDUjBhendqUUUSEkNnc0lyc2V2b1FZUTZJVHBCdyISCX2pIen1uec7EYSRBC84ZuG6KhJDZ3NJcnNldm9RWVE2SVRwQnc\\\\u0026wv\\\\u003d1\\\\u0026d\\\\u003d286732320\\\",\\\"Flag as inappropriate\\\",null,\\\"0ahUKEwiHjdGR08L-AhWqrpUCHYIaD40QoykIRCgD\\\"],null,null,\\\"ChdDSUhNMG9nS0VJQ0FnSUNSMGF6dzlRRRAB\\\",\\\"0ahUKEwiHjdGR08L-AhWqrpUCHYIaD40Q4R4IQCgB\\\",[null,[null,1,0,\\\"https://lh3.googleusercontent.com/a-/ACB-R5Q_moO-TODv__Dbozp3NLsMQX6-TqDwTbjT_pvF4Q\\\\u003ds120-c-c0x00000000-cc-rp-mo-br100\\\",\\\"44.Kalyani Patil\\\",\\\"https://www.google.com/maps/contrib/118158768574657065586?hl\\\\u003den-US\\\",null,null,\\\"https://www.google.com/maps/contrib/118158768574657065586?hl\\\\u003den-US\\\",null,null,null,[\\\"1 review\\\",null,null,null,null,[null,\\\"0ahUKEwiHjdGR08L-AhWqrpUCHYIaD40Qpr8GCEMoAg\\\",1,1]],\\\"118158768574657065586\\\"]],null,null,null,0,0,\\\"https://www.google.com/maps/reviews/data\\\\u003d!4m8!14m7!1m6!2m5!1sChdDSUhNMG9nS0VJQ0FnSUNSMGF6dzlRRRAB!2m1!1s0x0:0xbae166382f049184!3m1!1s2@1:CIHM0ogKEICAgICR0azw9QE%7CCgsIrsevoQYQ6ITpBw%7C?hl\\\\u003den-US\\\",null,null,null,null,null,null,null,null,1680597934016,null,null,[0,9],[\\\"0\\\",\\\"-4980587321402027644\\\"],\\\"en\\\",null,null,null,null,null,null,null,null,null,null,null,null,null,null,null,null,[[[\\\"GUIDED_DINING_MODE\\\"],\\\"Did you dine in, take out, or get delivery?\\\",[[[[\\\"E:DINE_IN\\\"],\\\"Dine in\\\",2,null,null,\\\"0ahUKEwiHjdGR08L-AhWqrpUCHYIaD40Q3YcHCEYoAA\\\",null,null,0]],1],null,null,\\\"Service\\\",1,\\\"0ahUKEwiHjdGR08L-AhWqrpUCHYIaD40Q3IcHCEUoBA\\\",null,null,null,null,null,1,[[1]]]],null,null,null,null,null,null,null,1680597934016,null,null,[\\\"/url?q\\\\u003dhttps://www.google.com/maps/contrib/118158768574657065586/reviews%3Fhl%3Den-US\\\\u0026sa\\\\u003dU\\\\u0026ved\\\\u003d0ahUKEwiHjdGR08L-AhWqrpUCHYIaD40Q4h4IQigB\\\\u0026usg\\\\u003dAOvVaw2HMykDM29zc-hAQtze0jsG\\\",\\\"44.Kalyani Patil\\\",\\\"https://lh3.googleusercontent.com/a-/ACB-R5Q_moO-TODv__Dbozp3NLsMQX6-TqDwTbjT_pvF4Q\\\\u003ds120-c-c0x00000000-cc-rp-mo-br100\\\",\\\"0ahUKEwiHjdGR08L-AhWqrpUCHYIaD40Q4h4IQigB\\\"],\\\"CAESBkVnSUlBZw\\\\u003d\\\\u003d\\\"],[[\\\"/url?q\\\\u003dhttps://www.google.com/maps/contrib/106602149291420931198%3Fhl%3Den-US\\\\u0026sa\\\\u003dU\\\\u0026ved\\\\u003d0ahUKEwiHjdGR08L-AhWqrpUCHYIaD40Q4h4ISCgA\\\\u0026usg\\\\u003dAOvVaw1MobYtY1Rf8Iuw1ZVzWkbc\\\",\\\"Nishith Mehta\\\",\\\"https://lh3.googleusercontent.com/a/AGNmyxZadcwz8wHlEtJ1MjFsiJ2SxcIWWfy2ubVDH7o\\\\u003ds120-c-c0x00000000-cc-rp-mo-br100\\\",\\\"0ahUKEwiHjdGR08L-AhWqrpUCHYIaD40Q4h4ISCgA\\\"],\\\"5 months ago\\\",null,\\\"Superb place\\\",4,null,\\\"106602149291420931198\\\",[\\\"https://www.google.com/local/review/rap/report?postId\\\\u003dChdDSUhNMG9nS0VJQ0FnSUMtdmNyYXRnRRAB\\\\u0026entityid\\\\u003dChdDSUhNMG9nS0VJQ0FnSUMtdmNyYXRnRRIsChZDSUhNMG9nS0VJQ0FnSUMtdmNyYWRnEhJDZ3NJOWRTNG13WVFnSW0zUUEaLQoXQ0lITTBvZ0tFSUNBZ0lDLXZjcmE5Z0USEkNnc0k5ZFM0bXdZUWdJbTNRQSISCX2pIen1uec7EYSRBC84ZuG6KhJDZ3NJOWRTNG13WVFnSW0zUUE\\\\u0026wv\\\\u003d1\\\\u0026d\\\\u003d286732320\\\",\\\"Flag as inappropriate\\\",null,\\\"0ahUKEwiHjdGR08L-AhWqrpUCHYIaD40QoykISygD\\\"],null,null,\\\"ChdDSUhNMG9nS0VJQ0FnSUMtdmNyYXRnRRAB\\\",\\\"0ahUKEwiHjdGR08L-AhWqrpUCHYIaD40Q4R4IRygC\\\",[null,[null,3,0,\\\"https://lh3.googleusercontent.com/a/AGNmyxZadcwz8wHlEtJ1MjFsiJ2SxcIWWfy2ubVDH7o\\\\u003ds120-c-c0x00000000-cc-rp-mo-br100\\\",\\\"Nishith Mehta\\\",\\\"https://www.google.com/maps/contrib/106602149291420931198?hl\\\\u003den-US\\\",null,null,\\\"https://www.google.com/maps/contrib/106602149291420931198?hl\\\\u003den-US\\\",null,null,null,[\\\"3 reviews\\\",null,null,null,null,[null,\\\"0ahUKEwiHjdGR08L-AhWqrpUCHYIaD40Qpr8GCEooAg\\\",1,1]],\\\"106602149291420931198\\\"],\\\"N\\\"],null,null,null,0,0,\\\"https://www.google.com/maps/reviews/data\\\\u003d!4m8!14m7!1m6!2m5!1sChdDSUhNMG9nS0VJQ0FnSUMtdmNyYXRnRRAB!2m1!1s0x0:0xbae166382f049184!3m1!1s2@1:CIHM0ogKEICAgIC-vcratgE%7CCgsI9dS4mwYQgIm3QA%7C?hl\\\\u003den-US\\\",null,null,null,null,null,null,null,null,1668164213135,null,null,[0,12],[\\\"0\\\",\\\"-4980587321402027644\\\"],\\\"en\\\",null,null,null,null,null,null,null,null,null,null,null,null,null,null,null,null,[[[\\\"GUIDED_DINING_MODE\\\"],\\\"Did you dine in, take out, or get delivery?\\\",[[[[\\\"E:DINE_IN\\\"],\\\"Dine in\\\",2,null,null,\\\"0ahUKEwiHjdGR08L-AhWqrpUCHYIaD40Q3YcHCE0oAA\\\",null,null,0]],1],null,null,\\\"Service\\\",1,\\\"0ahUKEwiHjdGR08L-AhWqrpUCHYIaD40Q3IcHCEwoBA\\\",null,null,null,null,null,1,[[1]]],[[\\\"GUIDED_DINING_MEAL_TYPE\\\"],\\\"What did you get?\\\",[[[[\\\"E:DINNER\\\"],\\\"Dinner\\\",2,null,null,\\\"0ahUKEwiHjdGR08L-AhWqrpUCHYIaD40Q3YcHCE8oAA\\\",null,null,0]],1],null,null,\\\"Meal type\\\",1,\\\"0ahUKEwiHjdGR08L-AhWqrpUCHYIaD40Q3IcHCE4oBQ\\\",null,null,null,null,null,1,[[1]]],[[\\\"GUIDED_DINING_PRICE_RANGE\\\"],\\\"How much did you spend per person?\\\",[[[[\\\"E:INR_2000_UP\\\"],\\\"₹2,000+\\\",2,null,\\\"₹2,000 or above\\\",\\\"0ahUKEwiHjdGR08L-AhWqrpUCHYIaD40Q3YcHCFEoAA\\\"]],1],null,null,\\\"Price per person\\\",1,\\\"0ahUKEwiHjdGR08L-AhWqrpUCHYIaD40Q3IcHCFAoBg\\\",null,null,null,null,null,1,[[1],[2]]],[[\\\"GUIDED_DINING_FOOD_ASPECT\\\"],\\\"Food\\\",null,null,null,\\\"Food\\\",1,\\\"0ahUKEwiHjdGR08L-AhWqrpUCHYIaD40Q3IcHCFIoBw\\\",null,null,null,[5],null,2,[[1]]],[[\\\"GUIDED_DINING_SERVICE_ASPECT\\\"],\\\"Service\\\",null,null,null,\\\"Service\\\",1,\\\"0ahUKEwiHjdGR08L-AhWqrpUCHYIaD40Q3IcHCFMoCA\\\",null,null,null,[5],null,2,[[1]]],[[\\\"GUIDED_DINING_ATMOSPHERE_ASPECT\\\"],\\\"Atmosphere\\\",null,null,null,\\\"Atmosphere\\\",1,\\\"0ahUKEwiHjdGR08L-AhWqrpUCHYIaD40Q3IcHCFQoCQ\\\",null,null,null,[5],null,2,[[1]]]],null,null,null,null,null,null,null,1668164213135,null,null,[\\\"/url?q\\\\u003dhttps://www.google.com/maps/contrib/106602149291420931198/reviews%3Fhl%3Den-US\\\\u0026sa\\\\u003dU\\\\u0026ved\\\\u003d0ahUKEwiHjdGR08L-AhWqrpUCHYIaD40Q4h4ISSgB\\\\u0026usg\\\\u003dAOvVaw1ayezLBV7enkBMEGe0oJNM\\\",\\\"Nishith Mehta\\\",\\\"https://lh3.googleusercontent.com/a/AGNmyxZadcwz8wHlEtJ1MjFsiJ2SxcIWWfy2ubVDH7o\\\\u003ds120-c-c0x00000000-cc-rp-mo-br100\\\",\\\"0ahUKEwiHjdGR08L-AhWqrpUCHYIaD40Q4h4ISSgB\\\"],\\\"CAESBkVnSUlBdw\\\\u003d\\\\u003d\\\"],[[\\\"/url?q\\\\u003dhttps://www.google.com/maps/contrib/114814232785734109914%3Fhl%3Den-US\\\\u0026sa\\\\u003dU\\\\u0026ved\\\\u003d0ahUKEwiHjdGR08L-AhWqrpUCHYIaD40Q4h4IVigA\\\\u0026usg\\\\u003dAOvVaw0z4QIUIaC3l7AU17TfaRW9\\\",\\\"Sameer Warsolkar\\\",\\\"https://lh3.googleusercontent.com/a-/ACB-R5RrZuWHcI2vO3XBb8V61HYEcNfYpdBZApUDSQi9DTA\\\\u003ds120-c-c0x00000000-cc-rp-mo-ba5-br100\\\",\\\"0ahUKEwiHjdGR08L-AhWqrpUCHYIaD40Q4h4IVigA\\\"],\\\"9 months ago\\\",null,\\\"Great Experience\\\",5,null,\\\"114814232785734109914\\\",[\\\"https://www.google.com/local/review/rap/report?postId\\\\u003dChdDSUhNMG9nS0VJQ0FnSURPejk2aGxRRRAB\\\\u0026entityid\\\\u003dChdDSUhNMG9nS0VJQ0FnSURPejk2aGxRRRItChZDSUhNMG9nS0VJQ0FnSURPejk2aFZREhNDZ3dJcnN6T2xnWVF1T180NUFFGi4KF0NJSE0wb2dLRUlDQWdJRE96OTZoMVFFEhNDZ3dJcnN6T2xnWVF1T180NUFFIhIJfakh6fW55zsRhJEELzhm4boqE0Nnd0lyc3pPbGdZUXVPXzQ1QUU\\\\u0026wv\\\\u003d1\\\\u0026d\\\\u003d286732320\\\",\\\"Flag as inappropriate\\\",null,\\\"0ahUKEwiHjdGR08L-AhWqrpUCHYIaD40QoykIWSgD\\\"],null,null,\\\"ChdDSUhNMG9nS0VJQ0FnSURPejk2aGxRRRAB\\\",\\\"0ahUKEwiHjdGR08L-AhWqrpUCHYIaD40Q4R4IVSgD\\\",[null,[[7,null,1],215,222,\\\"https://lh3.googleusercontent.com/a-/ACB-R5RrZuWHcI2vO3XBb8V61HYEcNfYpdBZApUDSQi9DTA\\\\u003ds120-c-c0x00000000-cc-rp-mo-ba5-br100\\\",\\\"Sameer Warsolkar\\\",\\\"https://www.google.com/maps/contrib/114814232785734109914?hl\\\\u003den-US\\\",null,null,\\\"https://www.google.com/maps/contrib/114814232785734109914?hl\\\\u003den-US\\\",null,null,null,[\\\"116 reviews in Thane\\\",[null,null,\\\"14931259628934464131\\\"],\\\"🏙️\\\",null,null,[null,\\\"0ahUKEwiHjdGR08L-AhWqrpUCHYIaD40Qpr8GCFgoAg\\\",6,8]],\\\"114814232785734109914\\\"],\\\"S\\\"],null,null,null,0,0,\\\"https://www.google.com/maps/reviews/data\\\\u003d!4m8!14m7!1m6!2m5!1sChdDSUhNMG9nS0VJQ0FnSURPejk2aGxRRRAB!2m1!1s0x0:0xbae166382f049184!3m1!1s2@1:CIHM0ogKEICAgIDOz96hlQE%7CCgwIrszOlgYQuO_45AE%7C?hl\\\\u003den-US\\\",null,null,null,null,null,null,null,null,1658037806480,null,null,[0,16],[\\\"0\\\",\\\"-4980587321402027644\\\"],\\\"en\\\",null,null,null,null,null,null,null,null,null,null,null,null,null,null,null,null,[[[\\\"GUIDED_DINING_MODE\\\"],\\\"Did you dine in, take out, or get delivery?\\\",[[[[\\\"E:TAKE_OUT\\\"],\\\"Take out\\\",2,null,null,\\\"0ahUKEwiHjdGR08L-AhWqrpUCHYIaD40Q3YcHCFsoAA\\\",null,null,0]],1],null,null,\\\"Service\\\",1,\\\"0ahUKEwiHjdGR08L-AhWqrpUCHYIaD40Q3IcHCFooBA\\\",null,null,null,null,null,1,[[1]]],[[\\\"GUIDED_DINING_MEAL_TYPE\\\"],\\\"What did you get?\\\",[[[[\\\"E:BREAKFAST\\\"],\\\"Breakfast\\\",2,null,null,\\\"0ahUKEwiHjdGR08L-AhWqrpUCHYIaD40Q3YcHCF0oAA\\\",null,null,0]],1],null,null,\\\"Meal type\\\",1,\\\"0ahUKEwiHjdGR08L-AhWqrpUCHYIaD40Q3IcHCFwoBQ\\\",null,null,null,null,null,1,[[1]]]],null,null,null,null,null,null,null,1658037806480,null,null,[\\\"/url?q\\\\u003dhttps://www.google.com/maps/contrib/114814232785734109914/reviews%3Fhl%3Den-US\\\\u0026sa\\\\u003dU\\\\u0026ved\\\\u003d0ahUKEwiHjdGR08L-AhWqrpUCHYIaD40Q4h4IVygB\\\\u0026usg\\\\u003dAOvVaw2lUU9rRq5uYBK3F3a3lHba\\\",\\\"Sameer Warsolkar\\\",\\\"https://lh3.googleusercontent.com/a-/ACB-R5RrZuWHcI2vO3XBb8V61HYEcNfYpdBZApUDSQi9DTA\\\\u003ds120-c-c0x00000000-cc-rp-mo-ba5-br100\\\",\\\"0ahUKEwiHjdGR08L-AhWqrpUCHYIaD40Q4h4IVygB\\\"],\\\"CAESBkVnSUlCQQ\\\\u003d\\\\u003d\\\"],[[\\\"/url?q\\\\u003dhttps://www.google.com/maps/contrib/106341429591589132667%3Fhl%3Den-US\\\\u0026sa\\\\u003dU\\\\u0026ved\\\\u003d0ahUKEwiHjdGR08L-AhWqrpUCHYIaD40Q4h4IXygA\\\\u0026usg\\\\u003dAOvVaw2Bo1475rg735uqmyz2Uzh2\\\",\\\"Rajeev Tulsani\\\",\\\"https://lh3.googleusercontent.com/a-/ACB-R5Sv260qDRXOrsMMLeqfAyFzJHFv-ZOQ9_vGRGCnoQ\\\\u003ds120-c-c0x00000000-cc-rp-mo-br100\\\",\\\"0ahUKEwiHjdGR08L-AhWqrpUCHYIaD40Q4h4IXygA\\\"],\\\"5 months ago\\\",null,null,5,null,\\\"106341429591589132667\\\",[\\\"https://www.google.com/local/review/rap/report?postId\\\\u003dChdDSUhNMG9nS0VJQ0FnSUQtek1lcTRnRRAB\\\\u0026entityid\\\\u003dChdDSUhNMG9nS0VJQ0FnSUQtek1lcTRnRRotChZDSUhNMG9nS0VJQ0FnSUQtek1lcUVnEhNDZ3dJOVpEM213WVF1S1NkM2dJIhIJfakh6fW55zsRhJEELzhm4boqE0Nnd0k5WkQzbXdZUXVLU2QzZ0k\\\\u0026wv\\\\u003d1\\\\u0026d\\\\u003d286732320\\\",\\\"Flag as inappropriate\\\",null,\\\"0ahUKEwiHjdGR08L-AhWqrpUCHYIaD40QoykIYigD\\\"],null,null,\\\"ChdDSUhNMG9nS0VJQ0FnSUQtek1lcTRnRRAB\\\",\\\"0ahUKEwiHjdGR08L-AhWqrpUCHYIaD40Q4R4IXigE\\\",[null,[[3,null,0],4,1,\\\"https://lh3.googleusercontent.com/a-/ACB-R5Sv260qDRXOrsMMLeqfAyFzJHFv-ZOQ9_vGRGCnoQ\\\\u003ds120-c-c0x00000000-cc-rp-mo-br100\\\",\\\"Rajeev Tulsani\\\",\\\"https://www.google.com/maps/contrib/106341429591589132667?hl\\\\u003den-US\\\",null,null,\\\"https://www.google.com/maps/contrib/106341429591589132667?hl\\\\u003den-US\\\",null,null,null,[\\\"4 reviews\\\",null,null,null,null,[null,\\\"0ahUKEwiHjdGR08L-AhWqrpUCHYIaD40Qpr8GCGEoAg\\\",1,1]],\\\"106341429591589132667\\\"],\\\"R\\\"],null,null,null,0,0,\\\"https://www.google.com/maps/reviews/data\\\\u003d!4m8!14m7!1m6!2m5!1sChdDSUhNMG9nS0VJQ0FnSUQtek1lcTRnRRAB!2m1!1s0x0:0xbae166382f049184!3m1!1s2@1:CIHM0ogKEICAgID-zMeq4gE%7CCgwI9ZD3mwYQuKSd3gI%7C?hl\\\\u003den-US\\\",null,null,null,null,null,null,null,null,1669187701734,null,null,null,[\\\"0\\\",\\\"-4980587321402027644\\\"],null,null,null,null,null,null,null,null,null,null,null,null,null,null,null,null,null,[[[\\\"GUIDED_DINING_FOOD_ASPECT\\\"],\\\"Food\\\",null,null,null,\\\"Food\\\",1,\\\"0ahUKEwiHjdGR08L-AhWqrpUCHYIaD40Q3IcHCGMoBA\\\",null,null,null,[5],null,2,[[1]]],[[\\\"GUIDED_DINING_SERVICE_ASPECT\\\"],\\\"Service\\\",null,null,null,\\\"Service\\\",1,\\\"0ahUKEwiHjdGR08L-AhWqrpUCHYIaD40Q3IcHCGQoBQ\\\",null,null,null,[4],null,2,[[1]]],[[\\\"GUIDED_DINING_ATMOSPHERE_ASPECT\\\"],\\\"Atmosphere\\\",null,null,null,\\\"Atmosphere\\\",1,\\\"0ahUKEwiHjdGR08L-AhWqrpUCHYIaD40Q3IcHCGUoBg\\\",null,null,null,[5],null,2,[[1]]]],null,null,null,null,null,null,null,1669187701734,null,null,[\\\"/url?q\\\\u003dhttps://www.google.com/maps/contrib/106341429591589132667/reviews%3Fhl%3Den-US\\\\u0026sa\\\\u003dU\\\\u0026ved\\\\u003d0ahUKEwiHjdGR08L-AhWqrpUCHYIaD40Q4h4IYCgB\\\\u0026usg\\\\u003dAOvVaw3ek8r1AV2qaWOp_1h3rdLe\\\",\\\"Rajeev Tulsani\\\",\\\"https://lh3.googleusercontent.com/a-/ACB-R5Sv260qDRXOrsMMLeqfAyFzJHFv-ZOQ9_vGRGCnoQ\\\\u003ds120-c-c0x00000000-cc-rp-mo-br100\\\",\\\"0ahUKEwiHjdGR08L-AhWqrpUCHYIaD40Q4h4IYCgB\\\"],\\\"CAESBkVnSUlCUQ\\\\u003d\\\\u003d\\\"],[[\\\"/url?q\\\\u003dhttps://www.google.com/maps/contrib/116573161980912907005%3Fhl%3Den-US\\\\u0026sa\\\\u003dU\\\\u0026ved\\\\u003d0ahUKEwiHjdGR08L-AhWqrpUCHYIaD40Q4h4IZygA\\\\u0026usg\\\\u003dAOvVaw1Kh6mEhqcQasa66DL41yWo\\\",\\\"Sanket Humane\\\",\\\"https://lh3.googleusercontent.com/a-/ACB-R5QNmr7_ZNSFpsXDl_dWAZMqWCzq3hovUcnU7B0YFaM\\\\u003ds120-c-c0x00000000-cc-rp-mo-ba6-br100\\\",\\\"0ahUKEwiHjdGR08L-AhWqrpUCHYIaD40Q4h4IZygA\\\"],\\\"6 months ago\\\",null,null,5,null,\\\"116573161980912907005\\\",[\\\"https://www.google.com/local/review/rap/report?postId\\\\u003dChdDSUhNMG9nS0VJQ0FnSURlMW9pWHRnRRAB\\\\u0026entityid\\\\u003dChdDSUhNMG9nS0VJQ0FnSURlMW9pWHRnRRotChZDSUhNMG9nS0VJQ0FnSURlMW9pWGRnEhNDZ3dJOUlLTW1nWVFxTXFXaXdNIhIJfakh6fW55zsRhJEELzhm4boqE0Nnd0k5SUtNbWdZUXFNcVdpd00\\\\u0026wv\\\\u003d1\\\\u0026d\\\\u003d286732320\\\",\\\"Flag as inappropriate\\\",null,\\\"0ahUKEwiHjdGR08L-AhWqrpUCHYIaD40QoykIaigD\\\"],null,null,\\\"ChdDSUhNMG9nS0VJQ0FnSURlMW9pWHRnRRAB\\\",\\\"0ahUKEwiHjdGR08L-AhWqrpUCHYIaD40Q4R4IZigF\\\",[null,[[8,null,1],148,1750,\\\"https://lh3.googleusercontent.com/a-/ACB-R5QNmr7_ZNSFpsXDl_dWAZMqWCzq3hovUcnU7B0YFaM\\\\u003ds120-c-c0x00000000-cc-rp-mo-ba6-br100\\\",\\\"Sanket Humane\\\",\\\"https://www.google.com/maps/contrib/116573161980912907005?hl\\\\u003den-US\\\",null,null,\\\"https://www.google.com/maps/contrib/116573161980912907005?hl\\\\u003den-US\\\",null,null,null,[\\\"61 reviews in Thane\\\",[null,null,\\\"14931259628934464131\\\"],\\\"🏙️\\\",null,null,[null,\\\"0ahUKEwiHjdGR08L-AhWqrpUCHYIaD40Qpr8GCGkoAg\\\",6,6]],\\\"116573161980912907005\\\"],\\\"S\\\"],null,null,null,0,0,\\\"https://www.google.com/maps/reviews/data\\\\u003d!4m8!14m7!1m6!2m5!1sChdDSUhNMG9nS0VJQ0FnSURlMW9pWHRnRRAB!2m1!1s0x0:0xbae166382f049184!3m1!1s2@1:CIHM0ogKEICAgIDe1oiXtgE%7CCgwI9IKMmgYQqMqWiwM%7C?hl\\\\u003den-US\\\",null,null,null,null,null,null,null,null,1665335668828,null,null,null,[\\\"0\\\",\\\"-4980587321402027644\\\"],null,null,null,null,null,null,null,null,null,null,null,null,null,null,null,null,null,[[[\\\"GUIDED_DINING_MODE\\\"],\\\"Did you dine in, take out, or get delivery?\\\",[[[[\\\"E:TAKE_OUT\\\"],\\\"Take out\\\",2,null,null,\\\"0ahUKEwiHjdGR08L-AhWqrpUCHYIaD40Q3YcHCGwoAA\\\",null,null,0]],1],null,null,\\\"Service\\\",1,\\\"0ahUKEwiHjdGR08L-AhWqrpUCHYIaD40Q3IcHCGsoBA\\\",null,null,null,null,null,1,[[1]]],[[\\\"GUIDED_DINING_MEAL_TYPE\\\"],\\\"What did you get?\\\",[[[[\\\"E:LUNCH\\\"],\\\"Lunch\\\",2,null,null,\\\"0ahUKEwiHjdGR08L-AhWqrpUCHYIaD40Q3YcHCG4oAA\\\",null,null,0]],1],null,null,\\\"Meal type\\\",1,\\\"0ahUKEwiHjdGR08L-AhWqrpUCHYIaD40Q3IcHCG0oBQ\\\",null,null,null,null,null,1,[[1]]],[[\\\"GUIDED_DINING_PRICE_RANGE\\\"],\\\"How much did you spend per person?\\\",[[[[\\\"E:INR_200_TO_400\\\"],\\\"₹200–400\\\",2,null,\\\"₹200 to ₹400\\\",\\\"0ahUKEwiHjdGR08L-AhWqrpUCHYIaD40Q3YcHCHAoAA\\\"]],1],null,null,\\\"Price per person\\\",1,\\\"0ahUKEwiHjdGR08L-AhWqrpUCHYIaD40Q3IcHCG8oBg\\\",null,null,null,null,null,1,[[1],[2]]]],null,null,null,null,null,null,null,1665335668828,null,null,[\\\"/url?q\\\\u003dhttps://www.google.com/maps/contrib/116573161980912907005/reviews%3Fhl%3Den-US\\\\u0026sa\\\\u003dU\\\\u0026ved\\\\u003d0ahUKEwiHjdGR08L-AhWqrpUCHYIaD40Q4h4IaCgB\\\\u0026usg\\\\u003dAOvVaw2xhAvBVmYecYn0O7ahzxsE\\\",\\\"Sanket Humane\\\",\\\"https://lh3.googleusercontent.com/a-/ACB-R5QNmr7_ZNSFpsXDl_dWAZMqWCzq3hovUcnU7B0YFaM\\\\u003ds120-c-c0x00000000-cc-rp-mo-ba6-br100\\\",\\\"0ahUKEwiHjdGR08L-AhWqrpUCHYIaD40Q4h4IaCgB\\\"]]],null,null,[0,0,0,2,4],0,null,null,null,null,[\\\"Rate and review\\\",\\\"Share your experience to help others\\\",null,1,\\\"Share details of your own experience at this place\\\"],null,null,null,null,null,0,null,null,\\\"\\\"],null,null,null,null,[null,\\\"Food town (Owner)\\\",null,null,null,null,null,null,\\\"108448571080209870259\\\"],null,null,null,1,null,null,null,null,null,1,null,null,null,null,[[[\\\"AF1QipOrv8dqr9nF7jjQ10iYK5i81reY6bKnTzzrjZSb\\\",10,12,\\\"\\\",null,815.92584,[\\\"https://lh5.googleusercontent.com/p/AF1QipOrv8dqr9nF7jjQ10iYK5i81reY6bKnTzzrjZSb\\\\u003dw152-h86-k-no\\\",\\\"Food town\\\",[3840,2160],[86,86]],null,[[3,72.9780706,19.218328700000004],[0,90],[3840,2160],75],\\\"k4dGZMf3Bard1sQPgrW86Ag\\\",\\\"0ahUKEwiHjdGR08L-AhWqrpUCHYIaD40QzCcIIigS\\\",null,null,null,null,[[[\\\"0x3be7b9f5e921a97d:0xbae166382f049184\\\"]]],null,[\\\"6X9H+86P, Thane West, Thane, Maharashtra\\\"],null,null,\\\"Photo\\\",[null,[10,\\\"AF1QipOrv8dqr9nF7jjQ10iYK5i81reY6bKnTzzrjZSb\\\"],[10,3,[2160,3840]],null,null,[[[2],[[null,null,19.218328700000004,72.9780706]]]],[2,null,null,[8],2,[null,null,\\\"photos:gmm_android\\\",[6,7,4,1,3]],null,null,[2023,4,20,11]]],1,null,null,null,null,null,null,[\\\"4316623233687333245\\\",\\\"-4980587321402027644\\\"],null,\\\"hxjeBlbD2_g\\\"],[\\\"AF1QipOrv8dqr9nF7jjQ10iYK5i81reY6bKnTzzrjZSb\\\",10,12,\\\"\\\",null,815.92584,[\\\"https://lh5.googleusercontent.com/p/AF1QipOrv8dqr9nF7jjQ10iYK5i81reY6bKnTzzrjZSb\\\\u003dw426-h240-k-no\\\",\\\"Food town\\\",[3840,2160],[408,240]],null,[[3,72.9780706,19.218328700000004],[0,90],[3840,2160],75],\\\"k4dGZMf3Bard1sQPgrW86Ag\\\",\\\"0ahUKEwiHjdGR08L-AhWqrpUCHYIaD40QzCcIIygT\\\",null,null,null,null,[[[\\\"0x3be7b9f5e921a97d:0xbae166382f049184\\\"]]],null,[\\\"6X9H+86P, Thane West, Thane, Maharashtra\\\"],null,null,\\\"Photo\\\",[null,[10,\\\"AF1QipOrv8dqr9nF7jjQ10iYK5i81reY6bKnTzzrjZSb\\\"],[10,3,[2160,3840]],null,null,[[[2],[[null,null,19.218328700000004,72.9780706]]]],[2,null,null,[8],2,[null,null,\\\"photos:gmm_android\\\",[6,7,4,1,3]],null,null,[2023,4,20,11]]],1,null,null,null,null,null,null,[\\\"4316623233687333245\\\",\\\"-4980587321402027644\\\"],null,\\\"hxjeBlbD2_g\\\"]]],null,null,null,[[\\\"coffee_shop\\\"]],null,\\\"ChIJfakh6fW55zsRhJEELzhm4bo\\\",null,null,null,[\\\"Thane West\\\",\\\"6X9H+86P\\\",\\\"6X9H+86P\\\",\\\"Thane\\\"],null,null,null,null,null,[null,\\\"SearchResult.TYPE_COFFEE\\\",[\\\"SearchResult.TYPE_COFFEE\\\",\\\"IN\\\",57,84,85,151],\\\"Food town\\\",[null,null,604,605,1185,603]],\\\"/g/11sxwmmd84\\\",null,null,null,null,null,null,[[[8,0,[2,null,[null,null,null,\\\"https://www.google.com/local/place/rap/edit/hoursv2?g2lb\\\\u003d4822981,4914647,4924491,4933735,4963788,4975983,4985909,4987692\\\\u0026hl\\\\u003den-IN\\\\u0026gl\\\\u003din\\\\u0026sdata64\\\\u003dEhQgATIHVEFDVElMRTgSSABoALABAA%3D%3D\\\\u0026place\\\\u003dIg0vZy8xMXN4d21tZDg0\\\"]]],[4,0,[5,null,[null,null,null,\\\"https://www.google.com/local/place/rap/edit/website?g2lb\\\\u003d4822981,4914647,4924491,4933735,4963788,4975983,4985909,4987692\\\\u0026hl\\\\u003den-IN\\\\u0026gl\\\\u003din\\\\u0026sdata64\\\\u003dEhQgATIHVEFDVElMRTgSSABoAbABAA%3D%3D\\\\u0026place\\\\u003dIg0vZy8xMXN4d21tZDg0\\\"]]],[40,0,[7,null,[null,null,null,\\\"https://www.google.com/local/place/rap/edit/openingdate?g2lb\\\\u003d4822981,4914647,4924491,4933735,4963788,4975983,4985909,4987692\\\\u0026hl\\\\u003den-IN\\\\u0026gl\\\\u003din\\\\u0026sdata64\\\\u003dEhQgATIHVEFDVElMRTgSSABoAbABAA%3D%3D\\\\u0026place\\\\u003dIg0vZy8xMXN4d21tZDg0\\\"]]]],null,6,1,null,[[null,null,\\\"Change name or other details\\\",\\\"Edit name, location, hours, etc.\\\",\\\"https://www.gstatic.com/images/icons/material/system/2x/mode_edit_googblue_24dp.png\\\",[null,null,null,\\\"https://www.google.com/local/place/rap/edit?g2lb\\\\u003d4822981,4914647,4924491,4933735,4963788,4975983,4985909,4987692\\\\u0026hl\\\\u003den-IN\\\\u0026gl\\\\u003din\\\\u0026sdata64\\\\u003dEhQgATIHVEFDVElMRTgBSABoALABAA%3D%3D\\\\u0026place\\\\u003dIg0vZy8xMXN4d21tZDg0\\\"],1],[null,null,\\\"Close or remove\\\",\\\"Mark as closed, non-existent or duplicate\\\",\\\"https://www.gstatic.com/images/icons/material/system/2x/location_off_googblue_24dp.png\\\",[null,null,null,\\\"https://www.google.com/local/place/rap/changeexistence?g2lb\\\\u003d4822981,4914647,4924491,4933735,4963788,4975983,4985909,4987692\\\\u0026hl\\\\u003den-IN\\\\u0026gl\\\\u003din\\\\u0026sdata64\\\\u003dEhQgATIHVEFDVElMRTgBSABoALABAA%3D%3D\\\\u0026place\\\\u003dIg0vZy8xMXN4d21tZDg0\\\"],2]],[[2,null,[null,null,null,\\\"https://www.google.com/local/place/rap/edit/hoursv2?g2lb\\\\u003d4822981,4914647,4924491,4933735,4963788,4975983,4985909,4987692\\\\u0026hl\\\\u003den-IN\\\\u0026gl\\\\u003din\\\\u0026sdata64\\\\u003dEhQgATIHVEFDVElMRTgBSABoALABAA%3D%3D\\\\u0026place\\\\u003dIg0vZy8xMXN4d21tZDg0\\\"]]],0],null,null,[[[\\\"People also search for\\\",[[\\\"0x0:0x2bccfb9435eb9385\\\",[\\\"k4dGZMf3Bard1sQPgrW86Ag\\\",\\\"0ahUKEwiHjdGR08L-AhWqrpUCHYIaD40Q8BcIrwEoFg\\\",null,null,[null,null,null,null,null,null,null,4.6,466],null,null,null,null,[null,null,19.205577299999998,72.9772259],\\\"0x0:0x2bccfb9435eb9385\\\",\\\"One Storey Cafe\\\",null,[\\\"Cafe\\\",\\\"Restaurant\\\"],null,null,null,null,null,null,null,null,null,null,null,null,null,null,null,null,null,null,null,null,null,null,null,[[[null,null,null,null,null,null,[\\\"https://lh5.googleusercontent.com/p/AF1QipPm9YMYg69kZ2MReNGDH6jgR19XqvxeXKyVuapw\\\\u003dw156-h156-n-k-no\\\",null,null,[156,156]],null,null,\\\"k4dGZMf3Bard1sQPgrW86Ag\\\",\\\"0ahUKEwiHjdGR08L-AhWqrpUCHYIaD40QzCcIsgEoAA\\\"]],null,null,\\\"k4dGZMf3Bard1sQPgrW86Ag\\\"],null,null,null,null,null,null,null,null,null,null,null,null,null,null,null,null,null,null,null,null,null,null,null,null,null,null,null,null,null,null,null,null,null,null,null,null,null,null,null,null,null,null,null,null,null,null,null,null,null,null,null,null,null,null,null,null,null,null,null,null,null,null,null,null,null,null,null,null,\\\"Cafe\\\"]],[\\\"0x0:0x1d6558ce233b6d0d\\\",[\\\"k4dGZMf3Bard1sQPgrW86Ag\\\",\\\"0ahUKEwiHjdGR08L-AhWqrpUCHYIaD40Q8BcIswEoFw\\\",null,null,[null,null,null,null,null,null,null,4.5,32],null,null,null,null,[null,null,19.2232084,72.9789674],\\\"0x0:0x1d6558ce233b6d0d\\\",\\\"Gen z- cafe\\\",null,[\\\"Cafe\\\"],null,null,null,null,null,null,null,null,null,null,null,null,null,null,null,null,null,null,null,null,null,null,null,[[[null,null,null,null,null,null,[\\\"https://lh5.googleusercontent.com/p/AF1QipOhT0GM3jEBay-5DLHnrHhEAeYh63dmdCyuaQA6\\\\u003dw156-h156-n-k-no\\\",null,null,[156,156]],null,null,\\\"k4dGZMf3Bard1sQPgrW86Ag\\\",\\\"0ahUKEwiHjdGR08L-AhWqrpUCHYIaD40QzCcItgEoAA\\\"]],null,null,\\\"k4dGZMf3Bard1sQPgrW86Ag\\\"],null,null,null,null,null,null,null,null,null,null,null,null,null,null,null,null,null,null,null,null,null,null,null,null,null,null,null,null,null,null,null,null,null,null,null,null,null,null,null,null,null,null,null,null,null,null,null,null,null,null,null,null,null,null,null,null,null,null,null,null,null,null,null,null,null,null,null,null,\\\"Cafe\\\"]],[\\\"0x0:0x1e1a06c4c7159f07\\\",[\\\"k4dGZMf3Bard1sQPgrW86Ag\\\",\\\"0ahUKEwiHjdGR08L-AhWqrpUCHYIaD40Q8BcItwEoGA\\\",null,null,[null,null,null,null,null,null,null,4,1019],null,null,null,null,[null,null,19.227809,72.9702343],\\\"0x0:0x1e1a06c4c7159f07\\\",\\\"Cafe Coffee Day\\\",null,[\\\"Cafe\\\",\\\"Coffee shop\\\",\\\"Coffee store\\\"],null,null,null,null,null,null,null,null,null,null,null,null,null,null,null,null,null,null,null,null,null,null,null,[[[null,null,null,null,null,null,[\\\"https://lh5.googleusercontent.com/p/AF1QipM4mBiMO_YbvqGPy5Xo-yUDs6CP3Xtei17eIEM\\\\u003dw156-h156-n-k-no\\\",null,null,[156,156]],null,null,\\\"k4dGZMf3Bard1sQPgrW86Ag\\\",\\\"0ahUKEwiHjdGR08L-AhWqrpUCHYIaD40QzCcIugEoAA\\\"]],null,null,\\\"k4dGZMf3Bard1sQPgrW86Ag\\\"],null,null,null,null,null,null,null,null,null,null,null,null,null,null,null,null,null,null,null,null,null,null,null,null,null,null,null,null,null,null,null,null,null,null,null,null,null,null,null,null,null,null,null,null,null,null,null,null,null,null,null,null,null,null,null,null,null,null,null,null,null,null,null,null,null,null,null,null,\\\"Cafe\\\"]],[\\\"0x0:0x9b01376acfc4a19f\\\",[\\\"k4dGZMf3Bard1sQPgrW86Ag\\\",\\\"0ahUKEwiHjdGR08L-AhWqrpUCHYIaD40Q8BcIuwEoGQ\\\",null,null,[null,null,null,null,null,null,null,4.7,52],null,null,null,null,[null,null,19.21744,72.9805551],\\\"0x0:0x9b01376acfc4a19f\\\",\\\"Cafe Junction\\\",null,[\\\"Vegetarian\\\",\\\"Cafe\\\",\\\"Chinese\\\",\\\"Indian\\\",\\\"Juice\\\"],null,null,null,null,null,null,null,null,null,null,null,null,null,null,null,null,null,null,null,null,null,null,null,[[[null,null,null,null,null,null,[\\\"https://lh5.googleusercontent.com/p/AF1QipPdSDGGSJ8UcoNGc_H5FrD4sOb32MMKeMjO5cqo\\\\u003dw156-h156-n-k-no\\\",null,null,[156,156]],null,null,\\\"k4dGZMf3Bard1sQPgrW86Ag\\\",\\\"0ahUKEwiHjdGR08L-AhWqrpUCHYIaD40QzCcIvgEoAA\\\"]],null,null,\\\"k4dGZMf3Bard1sQPgrW86Ag\\\"],null,null,null,null,null,null,null,null,null,null,null,null,null,null,null,null,null,null,null,null,null,null,null,null,null,null,null,null,null,null,null,null,null,null,null,null,null,null,null,null,null,null,null,null,null,null,null,null,null,null,null,null,null,null,null,null,null,null,null,null,null,null,null,null,null,null,null,null,\\\"Vegetarian\\\"]],[\\\"0x0:0x8b8c0e949a282a74\\\",[\\\"k4dGZMf3Bard1sQPgrW86Ag\\\",\\\"0ahUKEwiHjdGR08L-AhWqrpUCHYIaD40Q8BcIvwEoGg\\\",null,null,[null,null,null,null,null,null,null,3.7,953],null,null,null,null,[null,null,19.187657599999998,72.9606398],\\\"0x0:0x8b8c0e949a282a74\\\",\\\"Love Leaf Cafe\\\",null,[\\\"Cafe\\\"],null,null,null,null,null,null,null,null,null,null,null,null,null,null,null,null,null,null,null,null,null,null,null,[[[null,null,null,null,null,null,[\\\"https://lh5.googleusercontent.com/p/AF1QipNgmRRgBbGlx0QYOFyGZ-g0rvBUsuX5FDcw_eXc\\\\u003dw156-h156-n-k-no\\\",null,null,[156,156]],null,null,\\\"k4dGZMf3Bard1sQPgrW86Ag\\\",\\\"0ahUKEwiHjdGR08L-AhWqrpUCHYIaD40QzCcIwgEoAA\\\"]],null,null,\\\"k4dGZMf3Bard1sQPgrW86Ag\\\"],null,null,null,null,null,null,null,null,null,null,null,null,null,null,null,null,null,null,null,null,null,null,null,null,null,null,null,null,null,null,null,null,null,null,null,null,null,null,null,null,null,null,null,null,null,null,null,null,null,null,null,null,null,null,null,null,null,null,null,null,null,null,null,null,null,null,null,null,\\\"Cafe\\\"]],[\\\"0x0:0x339da2fe8cb4da0e\\\"],[\\\"0x0:0x40a853ea6ce2557e\\\"],[\\\"0x0:0xa982cb521a6bae29\\\"],[\\\"0x0:0x543cfc6bf5a6b247\\\"],[\\\"0x0:0x81720cfe659a65a3\\\"],[\\\"0x0:0xf1a73bae9fcb28e1\\\"],[\\\"0x0:0x7f8d2c960c4be70b\\\"],[\\\"0x0:0xce717e31c5be713a\\\"],[\\\"0x0:0x1f695aee1eb28418\\\"],[\\\"0x0:0xb7c4cccba1de9ba3\\\"],[\\\"0x0:0x353a793766e8c509\\\"],[\\\"0x0:0x74b15190e9d2c626\\\"],[\\\"0x0:0x6ff5b345893408b4\\\"],[\\\"0x0:0x476dcaef84af6daa\\\"],[\\\"0x0:0x61663bd75c881b1c\\\"]]]]],[null,[[\\\"service_options\\\",\\\"Service options\\\",[[\\\"/geo/type/establishment_poi/has_takeout\\\",\\\"Takeaway\\\",[1,[[1,\\\"Takeaway\\\"]],[1,\\\"Takeaway\\\",\\\"Takeaway\\\",\\\"Offers takeaway\\\"]],null,[1],0],[\\\"/geo/type/establishment_poi/serves_dine_in\\\",\\\"Dine-in\\\",[1,[[1,\\\"Dine-in\\\"]],[1,\\\"Dine-in\\\",\\\"Dine-in\\\",\\\"Serves dine-in\\\"]],null,[1],0]]],[\\\"offerings\\\",\\\"Offerings\\\",[[\\\"/geo/type/establishment_poi/serves_coffee\\\",\\\"Coffee\\\",[1,[[1,\\\"Coffee\\\"]],[1,\\\"Coffee\\\",\\\"Coffee\\\",\\\"Serves coffee\\\"]],null,[1],0],[\\\"/geo/type/establishment_poi/serves_small_plates\\\",\\\"Small plates\\\",[1,[[1,\\\"Small plates\\\"]],[1,\\\"Small plates\\\",\\\"Small plates\\\",\\\"Serves small plates\\\"]],null,[1],0]]],[\\\"dining_options\\\",\\\"Dining options\\\",[[\\\"/geo/type/establishment_poi/serves_lunch\\\",\\\"Lunch\\\",[1,[[1,\\\"Lunch\\\"]],[1,\\\"Lunch\\\",\\\"Lunch\\\",\\\"Serves lunch\\\"]],null,[1],0],[\\\"/geo/type/establishment_poi/serves_dessert\\\",\\\"Dessert\\\",[1,[[1,\\\"Dessert\\\"]],[1,\\\"Dessert\\\",\\\"Dessert\\\",\\\"Serves dessert\\\"]],null,[1],0]]],[\\\"amenities\\\",\\\"Amenities\\\",[[\\\"/geo/type/establishment_poi/welcomes_children\\\",\\\"Good for kids\\\",[1,[[1,\\\"Good for kids\\\"]],[1,\\\"Good for kids\\\",\\\"Good for kids\\\",\\\"Good for kids\\\"]],null,[9],0]]],[\\\"atmosphere\\\",\\\"Atmosphere\\\",[[\\\"/geo/type/establishment_poi/feels_casual\\\",\\\"Casual\\\",[1,[[1,\\\"Casual\\\"]],[1,\\\"Casual\\\",\\\"Casual\\\",\\\"Casual\\\"]],null,[1],0]]],[\\\"crowd\\\",\\\"Crowd\\\",[[\\\"/geo/type/establishment_poi/suitable_for_groups\\\",\\\"Groups\\\",[1,[[1,\\\"Good for groups\\\"]],[1,\\\"Good for groups\\\",\\\"Groups\\\",\\\"Good for groups\\\"]],null,[1],0]]],[\\\"payments\\\",\\\"Payments\\\",[[\\\"/geo/type/establishment_poi/pay_mobile_nfc\\\",\\\"Mobile Wallets\\\",[1,[[1,\\\"Mobile Wallets\\\"]],[1,\\\"Mobile Wallets\\\",\\\"Mobile Wallets\\\",\\\"Accepts Mobile Wallets\\\"]],null,[1],0]]]],null,[[\\\"/geo/type/establishment_poi/serves_dine_in\\\",\\\"Dine-in\\\",[1,[[1,\\\"Dine-in\\\"]],[1,\\\"Dine-in\\\",\\\"Dine-in\\\",\\\"Serves dine-in\\\"]],null,[1],0],[\\\"/geo/type/establishment_poi/has_takeout\\\",\\\"Takeaway\\\",[1,[[1,\\\"Takeaway\\\"]],[1,\\\"Takeaway\\\",\\\"Takeaway\\\",\\\"Offers takeaway\\\"]],null,[1],0]]],null,null,null,null,null,null,\\\"English\\\",null,null,\\\"en\\\",null,null,null,null,null,null,null,null,null,null,null,null,null,null,null,[null,0,null,null,\\\"http://www.google.com/search?authuser\\\\u003d0\\\\u0026gl\\\\u003din\\\\u0026hl\\\\u003den\\\\u0026output\\\\u003dsearch\\\\u0026ie\\\\u003dUTF-8\\\\u0026q\\\\u003dFood+town\\\\u0026ludocid\\\\u003d13466156752307523972\\\\u0026gsas\\\\u003d1\\\\u0026lsig\\\\u003dAB86z5XRyGCWr8ss02HhU2m0UVg0\\\\u0026ibp\\\\u003dgwp;0,20\\\\u0026pqap\\\\u003dCAESNgolMHgzYmU3YjlmNWU5MjFhOTdkOjB4YmFlMTY2MzgyZjA0OTE4NBIJRm9vZCB0b3duGAEgAQ\\\",\\\"http://www.google.com/search?authuser\\\\u003d0\\\\u0026gl\\\\u003din\\\\u0026hl\\\\u003den\\\\u0026output\\\\u003dsearch\\\\u0026ie\\\\u003dUTF-8\\\\u0026q\\\\u003dFood+town\\\\u0026ludocid\\\\u003d13466156752307523972\\\\u0026gsas\\\\u003d1\\\\u0026lsig\\\\u003dAB86z5XRyGCWr8ss02HhU2m0UVg0\\\\u0026ibp\\\\u003dgwp;0,21\\\\u0026pqap\\\\u003dCAMSNgolMHgzYmU3YjlmNWU5MjFhOTdkOjB4YmFlMTY2MzgyZjA0OTE4NBIJRm9vZCB0b3duGAEgAQ\\\",[1]],null,null,null,1,null,null,null,null,null,1,null,null,null,null,null,null,null,null,null,[9],null,null,null,[null,null,1],null,null,null,null,null,null,null,null,null,null,null,null,null,[[6,\\\"coffee shops\\\"],\\\"See nearby coffee shops\\\"],null,\\\"Thane, Maharashtra\\\",null,null,null,null,[[[\\\"CgIgAQ\\\\u003d\\\\u003d\\\",\\\"0ahUKEwiHjdGR08L-AhWqrpUCHYIaD40QhbADCMQBKBw\\\",\\\"All\\\",[[\\\"AF1QipOrv8dqr9nF7jjQ10iYK5i81reY6bKnTzzrjZSb\\\",10,12,null,null,328.90952,[\\\"https://lh5.googleusercontent.com/p/AF1QipOrv8dqr9nF7jjQ10iYK5i81reY6bKnTzzrjZSb\\\\u003dw529-h298-k-no\\\",\\\"\\\",[3840,2160],[203,100]],null,[[3,72.9780706,19.218328700000004],[0,90],[3840,2160],75],\\\"k4dGZMf3Bard1sQPgrW86Ag\\\",\\\"0ahUKEwiHjdGR08L-AhWqrpUCHYIaD40QzCcIxQEoAA\\\",null,null,null,null,null,null,null,null,null,null,[null,[10,\\\"AF1QipOrv8dqr9nF7jjQ10iYK5i81reY6bKnTzzrjZSb\\\"],[10,3,[2160,3840]],null,null,[[[2],[[null,null,19.218328700000004,72.9780706]]]],[2,null,null,[8],2,[null,null,\\\"photos:gmm_android\\\",[6,7,4,1,3]],null,null,[2023,4,20,11]]],1,null,null,null,null,null,null,[\\\"4316623233687333245\\\",\\\"-4980587321402027644\\\"],null,\\\"hxjeBlbD2_g\\\"]],null,null,null,null,null,null,0,1,null,0],[\\\"CgIgARICGAI\\\\u003d\\\",\\\"0ahUKEwiHjdGR08L-AhWqrpUCHYIaD40QhbADCMYBKB0\\\",\\\"Latest\\\",[[\\\"AF1QipOnYlLdHqcCDE6undLG8LO1uhwDZlRjbOZ4VvS9\\\",10,12,null,null,282.95367,[\\\"https://lh5.googleusercontent.com/p/AF1QipOnYlLdHqcCDE6undLG8LO1uhwDZlRjbOZ4VvS9\\\\u003dw224-h398-k-no\\\",\\\"\\\",[2160,3840],[203,100]],null,[[3,72.9780706,19.218328700000004],[0,90],[2160,3840],75],\\\"k4dGZMf3Bard1sQPgrW86Ag\\\",\\\"0ahUKEwiHjdGR08L-AhWqrpUCHYIaD40QzCcIxwEoAA\\\",null,null,null,null,null,null,null,null,null,null,[null,[10,\\\"AF1QipOnYlLdHqcCDE6undLG8LO1uhwDZlRjbOZ4VvS9\\\"],[10,3,[3840,2160]],null,null,[[[2],[[null,null,19.218328700000004,72.9780706]]]],[2,null,null,null,2,[null,null,\\\"photos:gmm_android\\\",[6,7,4,1,3]],null,null,[2023,4,20,11]]],1,null,null,null,null,null,null,[\\\"4316623233687333245\\\",\\\"-4980587321402027644\\\"],null,\\\"GiqxlE3mHqA\\\"],[1]],null,null,\\\"4 days ago\\\",null,null,null,1,1,1,0],[\\\"CgIYIA\\\\u003d\\\\u003d\\\",\\\"0ahUKEwiHjdGR08L-AhWqrpUCHYIaD40QhbADCMgBKB4\\\",\\\"Food \\\\u0026 drink\\\",[[\\\"AF1QipPfqSnzl5SeCoAio-wMS0Vw-XO5UeXlNl1DYDEA\\\",10,12,null,null,283.1345,[\\\"https://lh5.googleusercontent.com/p/AF1QipPfqSnzl5SeCoAio-wMS0Vw-XO5UeXlNl1DYDEA\\\\u003dw396-h298-k-no\\\",\\\"\\\",[4624,3472],[203,100]],null,[[3,72.9780706,19.218328700000004],[0,90],[4624,3472],75],\\\"k4dGZMf3Bard1sQPgrW86Ag\\\",\\\"0ahUKEwiHjdGR08L-AhWqrpUCHYIaD40QzCcIyQEoAA\\\",null,null,null,null,null,null,null,null,null,null,[null,[10,\\\"AF1QipPfqSnzl5SeCoAio-wMS0Vw-XO5UeXlNl1DYDEA\\\"],[10,3,[3472,4624]],null,null,[[[2],[[null,null,19.218328700000004,72.9780706]]]],[2,null,null,[8],2,[null,null,\\\"photos:dragonfly_tactile\\\",[6,7,4,1,3]],null,null,[2022,10,1,7]]],1,null,null,null,null,null,null,[\\\"4316623233687333245\\\",\\\"-4980587321402027644\\\"],null,\\\"QJCFkzVgtPQ\\\"]],null,null,null,null,1,null,0,1,null,1],[\\\"CgIgARICCAI\\\\u003d\\\",\\\"0ahUKEwiHjdGR08L-AhWqrpUCHYIaD40QhbADCMoBKB8\\\",\\\"Street View \\\\u0026 360°\\\",[[\\\"0h7cJiCu-RTuXXJATjykXw\\\",0,1,null,null,433.13852,[\\\"https://streetviewpixels-pa.googleapis.com/v1/thumbnail?panoid\\\\u003d0h7cJiCu-RTuXXJATjykXw\\\\u0026cb_client\\\\u003dmaps_sv.tactile.gps\\\\u0026w\\\\u003d224\\\\u0026h\\\\u003d298\\\\u0026yaw\\\\u003d165.40897\\\\u0026pitch\\\\u003d0\\\\u0026thumbfov\\\\u003d100\\\",\\\"\\\",null,[203,100]],null,[[3,72.97805560219038,19.218454387766073],[165.40897,90],[1024,768],75],\\\"k4dGZMf3Bard1sQPgrW86Ag\\\",\\\"0ahUKEwiHjdGR08L-AhWqrpUCHYIaD40QzCcIywEoAA\\\",null,null,null,null,null,null,null,null,null,null,[null,[2,\\\"0h7cJiCu-RTuXXJATjykXw\\\"],[2,2,null,[]],null,null,[[[2],[[null,null,19.218454387766073,72.97805560219038],null,[353.95358,88.79038,2.1763809]]]],[3,null,null,[2],null,[null,null,\\\"launch\\\",[6]],null,null,[2023,4,20,17]]],2,null,null,null,null,null,null,[\\\"4316623233687333245\\\",\\\"-4980587321402027644\\\"],null,\\\"ynWzWwKMqqI\\\"]],null,null,null,null,null,null,0,1,null,0]]],null,null,[\\\"https://www.google.com/search?q\\\\u003dlocal+guide+program\\\\u0026ibp\\\\u003dgwp;0,26,OiIKICIcRm9vZCB0b3duIFRoYW5lLCBNYWhhcmFzaHRyYSgC\\\\u0026pcl\\\\u003dlp\\\"],[[[[[\\\"ChZDSUhNMG9nS0VJQ0FnSUMyOHA3NlB3EAE\\\",[\\\"0x0:0xbae166382f049184\\\",null,1650176790950023,1650176982667634,[[[5,null,1],16,39,\\\"https://lh3.googleusercontent.com/a-/ACB-R5S2ze6nMecBTlOeXimibib2OZTshiMJnTWAiZ0_vC4\\\\u003ds120-c-c0x00000000-cc-rp-mo-ba3-br100\\\",\\\"Divya Futak\\\",\\\"https://www.google.com/maps/contrib/109756394067418132234?hl\\\\u003den-US\\\",null,null,\\\"https://www.google.com/maps/contrib/109756394067418132234?hl\\\\u003den-US\\\",null,null,null,[\\\"Local Guide · 16 reviews\\\",null,null,null,null,[null,\\\"0ahUKEwiHjdGR08L-AhWqrpUCHYIaD40Q7LoGCHMoAA\\\",1,3]],\\\"109756394067418132234\\\"],[\\\"/url?q\\\\u003dhttps://www.google.com/maps/contrib/109756394067418132234%3Fhl%3Den-US\\\\u0026sa\\\\u003dU\\\\u0026ved\\\\u003d0ahUKEwiHjdGR08L-AhWqrpUCHYIaD40QtxwIdCgB\\\\u0026usg\\\\u003dAOvVaw3u_dw6_PBpjQfFU6XaQCGq\\\",\\\"Divya Futak\\\",\\\"https://lh3.googleusercontent.com/a-/ACB-R5S2ze6nMecBTlOeXimibib2OZTshiMJnTWAiZ0_vC4\\\\u003ds120-c-c0x00000000-cc-rp-mo-ba3-br100\\\",\\\"0ahUKEwiHjdGR08L-AhWqrpUCHYIaD40QtxwIdCgB\\\"],[\\\"/url?q\\\\u003dhttps://www.google.com/maps/contrib/109756394067418132234/reviews%3Fhl%3Den-US\\\\u0026sa\\\\u003dU\\\\u0026ved\\\\u003d0ahUKEwiHjdGR08L-AhWqrpUCHYIaD40QtxwIdSgC\\\\u0026usg\\\\u003dAOvVaw0BSfRErhhyLRBgqQaVYqVr\\\",\\\"Divya Futak\\\",\\\"https://lh3.googleusercontent.com/a-/ACB-R5S2ze6nMecBTlOeXimibib2OZTshiMJnTWAiZ0_vC4\\\\u003ds120-c-c0x00000000-cc-rp-mo-ba3-br100\\\",\\\"0ahUKEwiHjdGR08L-AhWqrpUCHYIaD40QtxwIdSgC\\\"],\\\"D\\\"],1,\\\"a year ago\\\",null,null,null,\\\"109756394067418132234\\\",null,null,null,null,1],[[4],[\\\"It's a pure veg restaurant, good food with good ambience..\\\",\\\"en\\\",null,null,null,null,0,null,[0,58]],[[\\\"AF1QipOw37BFeJko4Q0bGovRf76NpQQhYFK6MLvsmXnG\\\",[\\\"AF1QipOw37BFeJko4Q0bGovRf76NpQQhYFK6MLvsmXnG\\\",null,null,null,null,null,[\\\"https://lh5.googleusercontent.com/p/AF1QipOw37BFeJko4Q0bGovRf76NpQQhYFK6MLvsmXnG\\\\u003dw150-h150-k-no-p\\\"],null,null,\\\"k4dGZMf3Bard1sQPgrW86Ag\\\",\\\"0ahUKEwiHjdGR08L-AhWqrpUCHYIaD40QzCcIdigD\\\",[\\\"//www.google.com/local/imagery/report/?cb_client\\\\u003dmaps_sv.tactile\\\\u0026image_key\\\\u003d!1e10!2sAF1QipOw37BFeJko4Q0bGovRf76NpQQhYFK6MLvsmXnG\\\",null,null,\\\"0ahUKEwiHjdGR08L-AhWqrpUCHYIaD40Q-y4IdygA\\\"],null,null,null,null,null,null,null,null,null,[[1],[10,\\\"AF1QipOw37BFeJko4Q0bGovRf76NpQQhYFK6MLvsmXnG\\\"],[10,3,[1982,1586],null,null,null,null,null,null,\\\"AF1QipOw37BFeJko4Q0bGovRf76NpQQhYFK6MLvsmXnG\\\"],[null,null,null,null,null,null,null,[\\\"Food town\\\",\\\"en\\\"]],[null,[[[\\\"Divya Futak\\\"],\\\"https://www.google.com/maps/contrib/109756394067418132234?hl\\\\u003den-US\\\",\\\"https://lh3.googleusercontent.com/a-/ACB-R5S2ze6nMecBTlOeXimibib2OZTshiMJnTWAiZ0_vC4\\\\u003ds120-c-c0x00000000-cc-rp-mo-ba3-br100\\\"]]],null,[2,0,null,null,null,[null,null,\\\"photos:gmm_android_review_post\\\",[6,7,4,1,3]],null,[2021,10,3,null,null,null,null,null,[\\\"a year ago\\\"]],[2022,4,17,6,null,null,null,null,[\\\"a year ago\\\"]]],[\\\"//www.google.com/local/imagery/report/?cb_client\\\\u003dmaps_sv.tactile\\\\u0026image_key\\\\u003d!1e10!2sAF1QipOw37BFeJko4Q0bGovRf76NpQQhYFK6MLvsmXnG\\\"]]],\\\"CIHM0ogKEICAgIC28t7-JA\\\",1],[\\\"AF1QipN9-8KZX-vrCeODgIrNqNUS7mVRsW8vjUWG1XQx\\\",[\\\"AF1QipN9-8KZX-vrCeODgIrNqNUS7mVRsW8vjUWG1XQx\\\",null,null,null,null,null,[\\\"https://lh5.googleusercontent.com/p/AF1QipN9-8KZX-vrCeODgIrNqNUS7mVRsW8vjUWG1XQx\\\\u003dw150-h150-k-no-p\\\"],null,null,\\\"k4dGZMf3Bard1sQPgrW86Ag\\\",\\\"0ahUKEwiHjdGR08L-AhWqrpUCHYIaD40QzCcIeCgE\\\",[\\\"//www.google.com/local/imagery/report/?cb_client\\\\u003dmaps_sv.tactile\\\\u0026image_key\\\\u003d!1e10!2sAF1QipN9-8KZX-vrCeODgIrNqNUS7mVRsW8vjUWG1XQx\\\",null,null,\\\"0ahUKEwiHjdGR08L-AhWqrpUCHYIaD40Q-y4IeSgA\\\"],null,null,null,null,null,null,null,null,null,[[1],[10,\\\"AF1QipN9-8KZX-vrCeODgIrNqNUS7mVRsW8vjUWG1XQx\\\"],[10,3,[2048,1536],null,null,null,null,null,null,\\\"AF1QipN9-8KZX-vrCeODgIrNqNUS7mVRsW8vjUWG1XQx\\\"],[null,null,null,null,null,null,null,[\\\"Food town\\\",\\\"en\\\"]],[null,[[[\\\"Divya Futak\\\"],\\\"https://www.google.com/maps/contrib/109756394067418132234?hl\\\\u003den-US\\\",\\\"https://lh3.googleusercontent.com/a-/ACB-R5S2ze6nMecBTlOeXimibib2OZTshiMJnTWAiZ0_vC4\\\\u003ds120-c-c0x00000000-cc-rp-mo-ba3-br100\\\"]]],null,[2,0,null,null,null,[null,null,\\\"photos:gmm_android_review_post\\\",[6,7,4,1,3]],null,[2021,10,2,null,null,null,null,null,[\\\"a year ago\\\"]],[2022,4,17,6,null,null,null,null,[\\\"a year ago\\\"]]],[\\\"//www.google.com/local/imagery/report/?cb_client\\\\u003dmaps_sv.tactile\\\\u0026image_key\\\\u003d!1e10!2sAF1QipN9-8KZX-vrCeODgIrNqNUS7mVRsW8vjUWG1XQx\\\"]]],\\\"CIHM0ogKEICAgIC28t7-pAE\\\",1],[\\\"AF1QipOOJAUdrS2vriEmXyv2ycNUfgF8nVs2R78nlur_\\\",[\\\"AF1QipOOJAUdrS2vriEmXyv2ycNUfgF8nVs2R78nlur_\\\",null,null,null,null,null,[\\\"https://lh5.googleusercontent.com/p/AF1QipOOJAUdrS2vriEmXyv2ycNUfgF8nVs2R78nlur_\\\\u003dw150-h150-k-no-p\\\"],null,null,\\\"k4dGZMf3Bard1sQPgrW86Ag\\\",\\\"0ahUKEwiHjdGR08L-AhWqrpUCHYIaD40QzCcIeigF\\\",[\\\"//www.google.com/local/imagery/report/?cb_client\\\\u003dmaps_sv.tactile\\\\u0026image_key\\\\u003d!1e10!2sAF1QipOOJAUdrS2vriEmXyv2ycNUfgF8nVs2R78nlur_\\\",null,null,\\\"0ahUKEwiHjdGR08L-AhWqrpUCHYIaD40Q-y4IeygA\\\"],null,null,null,null,null,null,null,null,null,[[1],[10,\\\"AF1QipOOJAUdrS2vriEmXyv2ycNUfgF8nVs2R78nlur_\\\"],[10,3,[2048,1536],null,null,null,null,null,null,\\\"AF1QipOOJAUdrS2vriEmXyv2ycNUfgF8nVs2R78nlur_\\\"],[null,null,null,null,null,null,null,[\\\"Food town\\\",\\\"en\\\"]],[null,[[[\\\"Divya Futak\\\"],\\\"https://www.google.com/maps/contrib/109756394067418132234?hl\\\\u003den-US\\\",\\\"https://lh3.googleusercontent.com/a-/ACB-R5S2ze6nMecBTlOeXimibib2OZTshiMJnTWAiZ0_vC4\\\\u003ds120-c-c0x00000000-cc-rp-mo-ba3-br100\\\"]]],null,[2,0,null,null,null,[null,null,\\\"photos:gmm_android_review_post\\\",[6,7,4,1,3]],null,[2021,10,2,null,null,null,null,null,[\\\"a year ago\\\"]],[2022,4,17,6,null,null,null,null,[\\\"a year ago\\\"]]],[\\\"//www.google.com/local/imagery/report/?cb_client\\\\u003dmaps_sv.tactile\\\\u0026image_key\\\\u003d!1e10!2sAF1QipOOJAUdrS2vriEmXyv2ycNUfgF8nVs2R78nlur_\\\"]]],\\\"CIHM0ogKEICAgIC28t7-ZA\\\",1],[\\\"AF1QipO_E0eABncqFw-ppXGPatFna6srIj4I1f0zJS6b\\\",[\\\"AF1QipO_E0eABncqFw-ppXGPatFna6srIj4I1f0zJS6b\\\",null,null,null,null,null,[\\\"https://lh5.googleusercontent.com/p/AF1QipO_E0eABncqFw-ppXGPatFna6srIj4I1f0zJS6b\\\\u003dw150-h150-k-no-p\\\"],null,null,\\\"k4dGZMf3Bard1sQPgrW86Ag\\\",\\\"0ahUKEwiHjdGR08L-AhWqrpUCHYIaD40QzCcIfCgG\\\",[\\\"//www.google.com/local/imagery/report/?cb_client\\\\u003dmaps_sv.tactile\\\\u0026image_key\\\\u003d!1e10!2sAF1QipO_E0eABncqFw-ppXGPatFna6srIj4I1f0zJS6b\\\",null,null,\\\"0ahUKEwiHjdGR08L-AhWqrpUCHYIaD40Q-y4IfSgA\\\"],null,null,null,null,null,null,null,null,null,[[1],[10,\\\"AF1QipO_E0eABncqFw-ppXGPatFna6srIj4I1f0zJS6b\\\"],[10,3,[2048,1536],null,null,null,null,null,null,\\\"AF1QipO_E0eABncqFw-ppXGPatFna6srIj4I1f0zJS6b\\\"],[null,null,null,null,null,null,null,[\\\"Food town\\\",\\\"en\\\"]],[null,[[[\\\"Divya Futak\\\"],\\\"https://www.google.com/maps/contrib/109756394067418132234?hl\\\\u003den-US\\\",\\\"https://lh3.googleusercontent.com/a-/ACB-R5S2ze6nMecBTlOeXimibib2OZTshiMJnTWAiZ0_vC4\\\\u003ds120-c-c0x00000000-cc-rp-mo-ba3-br100\\\"]]],null,[2,0,null,null,null,[null,null,\\\"photos:gmm_android_review_post\\\",[6,7,4,1,3]],null,[2021,10,2,null,null,null,null,null,[\\\"a year ago\\\"]],[2022,4,17,6,null,null,null,null,[\\\"a year ago\\\"]]],[\\\"//www.google.com/local/imagery/report/?cb_client\\\\u003dmaps_sv.tactile\\\\u0026image_key\\\\u003d!1e10!2sAF1QipO_E0eABncqFw-ppXGPatFna6srIj4I1f0zJS6b\\\"]]],\\\"CIHM0ogKEICAgIC28t7-5AE\\\",1],[\\\"AF1QipPOUo2GxbqhEcyk5cVjySbYawmWozipOEQ56F1p\\\",[\\\"AF1QipPOUo2GxbqhEcyk5cVjySbYawmWozipOEQ56F1p\\\",null,null,null,null,null,[\\\"https://lh5.googleusercontent.com/p/AF1QipPOUo2GxbqhEcyk5cVjySbYawmWozipOEQ56F1p\\\\u003dw150-h150-k-no-p\\\"],null,null,\\\"k4dGZMf3Bard1sQPgrW86Ag\\\",\\\"0ahUKEwiHjdGR08L-AhWqrpUCHYIaD40QzCcIfigH\\\",[\\\"//www.google.com/local/imagery/report/?cb_client\\\\u003dmaps_sv.tactile\\\\u0026image_key\\\\u003d!1e10!2sAF1QipPOUo2GxbqhEcyk5cVjySbYawmWozipOEQ56F1p\\\",null,null,\\\"0ahUKEwiHjdGR08L-AhWqrpUCHYIaD40Q-y4IfygA\\\"],null,null,null,null,null,null,null,null,null,[[1],[10,\\\"AF1QipPOUo2GxbqhEcyk5cVjySbYawmWozipOEQ56F1p\\\"],[10,3,[2048,1536],null,null,null,null,null,null,\\\"AF1QipPOUo2GxbqhEcyk5cVjySbYawmWozipOEQ56F1p\\\"],[null,null,null,null,null,null,null,[\\\"Food town\\\",\\\"en\\\"]],[null,[[[\\\"Divya Futak\\\"],\\\"https://www.google.com/maps/contrib/109756394067418132234?hl\\\\u003den-US\\\",\\\"https://lh3.googleusercontent.com/a-/ACB-R5S2ze6nMecBTlOeXimibib2OZTshiMJnTWAiZ0_vC4\\\\u003ds120-c-c0x00000000-cc-rp-mo-ba3-br100\\\"]]],null,[2,0,null,null,null,[null,null,\\\"photos:gmm_android_review_post\\\",[6,7,4,1,3]],null,[2021,10,2,null,null,null,null,null,[\\\"a year ago\\\"]],[2022,4,17,6,null,null,null,null,[\\\"a year ago\\\"]]],[\\\"//www.google.com/local/imagery/report/?cb_client\\\\u003dmaps_sv.tactile\\\\u0026image_key\\\\u003d!1e10!2sAF1QipPOUo2GxbqhEcyk5cVjySbYawmWozipOEQ56F1p\\\"]]],\\\"CIHM0ogKEICAgIC28t7-FA\\\",1],[\\\"AF1QipPXY0geAqoqecJ2gL2GFtPWQNRamGxDO8KoqSKv\\\",[\\\"AF1QipPXY0geAqoqecJ2gL2GFtPWQNRamGxDO8KoqSKv\\\",null,null,null,null,null,[\\\"https://lh5.googleusercontent.com/p/AF1QipPXY0geAqoqecJ2gL2GFtPWQNRamGxDO8KoqSKv\\\\u003dw150-h150-k-no-p\\\"],null,null,\\\"k4dGZMf3Bard1sQPgrW86Ag\\\",\\\"0ahUKEwiHjdGR08L-AhWqrpUCHYIaD40QzCcIgAEoCA\\\",[\\\"//www.google.com/local/imagery/report/?cb_client\\\\u003dmaps_sv.tactile\\\\u0026image_key\\\\u003d!1e10!2sAF1QipPXY0geAqoqecJ2gL2GFtPWQNRamGxDO8KoqSKv\\\",null,null,\\\"0ahUKEwiHjdGR08L-AhWqrpUCHYIaD40Q-y4IgQEoAA\\\"],null,null,null,null,null,null,null,null,null,[[1],[10,\\\"AF1QipPXY0geAqoqecJ2gL2GFtPWQNRamGxDO8KoqSKv\\\"],[10,3,[2048,1536],null,null,null,null,null,null,\\\"AF1QipPXY0geAqoqecJ2gL2GFtPWQNRamGxDO8KoqSKv\\\"],[null,null,null,null,null,null,null,[\\\"Food town\\\",\\\"en\\\"]],[null,[[[\\\"Divya Futak\\\"],\\\"https://www.google.com/maps/contrib/109756394067418132234?hl\\\\u003den-US\\\",\\\"https://lh3.googleusercontent.com/a-/ACB-R5S2ze6nMecBTlOeXimibib2OZTshiMJnTWAiZ0_vC4\\\\u003ds120-c-c0x00000000-cc-rp-mo-ba3-br100\\\"]]],null,[2,0,null,null,null,[null,null,\\\"photos:gmm_android_review_post\\\",[6,7,4,1,3]],null,[2021,10,2,null,null,null,null,null,[\\\"a year ago\\\"]],[2022,4,17,6,null,null,null,null,[\\\"a year ago\\\"]]],[\\\"//www.google.com/local/imagery/report/?cb_client\\\\u003dmaps_sv.tactile\\\\u0026image_key\\\\u003d!1e10!2sAF1QipPXY0geAqoqecJ2gL2GFtPWQNRamGxDO8KoqSKv\\\"]]],\\\"CIHM0ogKEICAgIC28t7-lAE\\\",1],[\\\"AF1QipNhchGMOUBWwkxl1_62EDdD7NcZrVCWRFCRXyXU\\\",[\\\"AF1QipNhchGMOUBWwkxl1_62EDdD7NcZrVCWRFCRXyXU\\\",null,null,null,null,null,[\\\"https://lh5.googleusercontent.com/p/AF1QipNhchGMOUBWwkxl1_62EDdD7NcZrVCWRFCRXyXU\\\\u003dw150-h150-k-no-p\\\"],null,null,\\\"k4dGZMf3Bard1sQPgrW86Ag\\\",\\\"0ahUKEwiHjdGR08L-AhWqrpUCHYIaD40QzCcIggEoCQ\\\",[\\\"//www.google.com/local/imagery/report/?cb_client\\\\u003dmaps_sv.tactile\\\\u0026image_key\\\\u003d!1e10!2sAF1QipNhchGMOUBWwkxl1_62EDdD7NcZrVCWRFCRXyXU\\\",null,null,\\\"0ahUKEwiHjdGR08L-AhWqrpUCHYIaD40Q-y4IgwEoAA\\\"],null,null,null,null,null,null,null,null,null,[[1],[10,\\\"AF1QipNhchGMOUBWwkxl1_62EDdD7NcZrVCWRFCRXyXU\\\"],[10,3,[2048,1536],null,null,null,null,null,null,\\\"AF1QipNhchGMOUBWwkxl1_62EDdD7NcZrVCWRFCRXyXU\\\"],[null,null,null,null,null,null,null,[\\\"Food town\\\",\\\"en\\\"]],[null,[[[\\\"Divya Futak\\\"],\\\"https://www.google.com/maps/contrib/109756394067418132234?hl\\\\u003den-US\\\",\\\"https://lh3.googleusercontent.com/a-/ACB-R5S2ze6nMecBTlOeXimibib2OZTshiMJnTWAiZ0_vC4\\\\u003ds120-c-c0x00000000-cc-rp-mo-ba3-br100\\\"]]],null,[2,0,null,null,null,[null,null,\\\"photos:gmm_android_review_post\\\",[6,7,4,1,3]],null,[2021,10,2,null,null,null,null,null,[\\\"a year ago\\\"]],[2022,4,17,6,null,null,null,null,[\\\"a year ago\\\"]]],[\\\"//www.google.com/local/imagery/report/?cb_client\\\\u003dmaps_sv.tactile\\\\u0026image_key\\\\u003d!1e10!2sAF1QipNhchGMOUBWwkxl1_62EDdD7NcZrVCWRFCRXyXU\\\"]]],\\\"CIHM0ogKEICAgIC28t7-VA\\\",1],[\\\"AF1QipNQjor2dHy7ZgOZv47Ll53ERqUoOJeTpDJcXkSL\\\",[\\\"AF1QipNQjor2dHy7ZgOZv47Ll53ERqUoOJeTpDJcXkSL\\\",null,null,null,null,null,[\\\"https://lh5.googleusercontent.com/p/AF1QipNQjor2dHy7ZgOZv47Ll53ERqUoOJeTpDJcXkSL\\\\u003dw150-h150-k-no-p\\\"],null,null,\\\"k4dGZMf3Bard1sQPgrW86Ag\\\",\\\"0ahUKEwiHjdGR08L-AhWqrpUCHYIaD40QzCcIhAEoCg\\\",[\\\"//www.google.com/local/imagery/report/?cb_client\\\\u003dmaps_sv.tactile\\\\u0026image_key\\\\u003d!1e10!2sAF1QipNQjor2dHy7ZgOZv47Ll53ERqUoOJeTpDJcXkSL\\\",null,null,\\\"0ahUKEwiHjdGR08L-AhWqrpUCHYIaD40Q-y4IhQEoAA\\\"],null,null,null,null,null,null,null,null,null,[[1],[10,\\\"AF1QipNQjor2dHy7ZgOZv47Ll53ERqUoOJeTpDJcXkSL\\\"],[10,3,[1536,2048],null,null,null,null,null,null,\\\"AF1QipNQjor2dHy7ZgOZv47Ll53ERqUoOJeTpDJcXkSL\\\"],[null,null,null,null,null,null,null,[\\\"Food town\\\",\\\"en\\\"]],[null,[[[\\\"Divya Futak\\\"],\\\"https://www.google.com/maps/contrib/109756394067418132234?hl\\\\u003den-US\\\",\\\"https://lh3.googleusercontent.com/a-/ACB-R5S2ze6nMecBTlOeXimibib2OZTshiMJnTWAiZ0_vC4\\\\u003ds120-c-c0x00000000-cc-rp-mo-ba3-br100\\\"]]],null,[2,0,null,null,null,[null,null,\\\"photos:gmm_android_review_post\\\",[6,7,4,1,3]],null,[2021,10,2,null,null,null,null,null,[\\\"a year ago\\\"]],[2022,4,17,6,null,null,null,null,[\\\"a year ago\\\"]]],[\\\"//www.google.com/local/imagery/report/?cb_client\\\\u003dmaps_sv.tactile\\\\u0026image_key\\\\u003d!1e10!2sAF1QipNQjor2dHy7ZgOZv47Ll53ERqUoOJeTpDJcXkSL\\\"]]],\\\"CIHM0ogKEICAgIC28t7-1AE\\\",1]],null,null,null,[[[\\\"GUIDED_DINING_MODE\\\"],\\\"Did you dine in, take out, or get delivery?\\\",[[[[\\\"E:DINE_IN\\\"],\\\"Dine in\\\",2,null,null,\\\"0ahUKEwiHjdGR08L-AhWqrpUCHYIaD40Q3YcHCIcBKAA\\\",null,null,0]],1],null,null,\\\"Service\\\",1,\\\"0ahUKEwiHjdGR08L-AhWqrpUCHYIaD40Q3IcHCIYBKAs\\\",null,null,null,null,null,1,[[1]]],[[\\\"GUIDED_DINING_MEAL_TYPE\\\"],\\\"What did you get?\\\",[[[[\\\"E:BRUNCH\\\"],\\\"Brunch\\\",2,null,null,\\\"0ahUKEwiHjdGR08L-AhWqrpUCHYIaD40Q3YcHCIkBKAA\\\",null,null,0]],1],null,null,\\\"Meal type\\\",1,\\\"0ahUKEwiHjdGR08L-AhWqrpUCHYIaD40Q3IcHCIgBKAw\\\",null,null,null,null,null,1,[[1]]],[[\\\"GUIDED_DINING_PRICE_RANGE\\\"],\\\"How much did you spend per person?\\\",[[[[\\\"E:INR_400_TO_600\\\"],\\\"₹400–600\\\",2,null,\\\"₹400 to ₹600\\\",\\\"0ahUKEwiHjdGR08L-AhWqrpUCHYIaD40Q3YcHCIsBKAA\\\"]],1],null,null,\\\"Price per person\\\",1,\\\"0ahUKEwiHjdGR08L-AhWqrpUCHYIaD40Q3IcHCIoBKA0\\\",null,null,null,null,null,1,[[1],[2]]]],null,null,null,null,null,null,null,[\\\"en\\\"],[[\\\"It's a pure veg restaurant, good food with good ambience..\\\",null,[0,58]]]],null,[null,null,null,[\\\"https://www.google.com/maps/reviews/data\\\\u003d!4m8!14m7!1m6!2m5!1sChZDSUhNMG9nS0VJQ0FnSUMyOHA3NlB3EAE!2m1!1s0x0:0xbae166382f049184!3m1!1s2@1:CIHM0ogKEICAgIC28p76Pw%7CCgwI2efukgYQgOCSkwI%7C?hl\\\\u003den-US\\\",null,null,\\\"0ahUKEwiHjdGR08L-AhWqrpUCHYIaD40QtxwIjAEoDg\\\"],[\\\"https://www.google.com/local/review/rap/report?postId\\\\u003dChZDSUhNMG9nS0VJQ0FnSUMyOHA3NlB3EAE\\\\u0026entityid\\\\u003dChZDSUhNMG9nS0VJQ0FnSUMyOHA3NlB3Ei4KF0NJSE0wb2dLRUlDQWdJQzI4cDc2dndFEhNDZ3dJMXVmdWtnWVEwSkt0dmdJGi0KFkNJSE0wb2dLRUlDQWdJQzI4cDc2ZncSE0Nnd0kxdWZ1a2dZUTBKS3R2Z0kiEgl9qSHp9bnnOxGEkQQvOGbhuioTQ2d3STJlZnVrZ1lRZ09DU2t3SQ\\\\u0026wv\\\\u003d1\\\\u0026d\\\\u003d286732320\\\",\\\"Flag as inappropriate\\\",null,\\\"0ahUKEwiHjdGR08L-AhWqrpUCHYIaD40QoykIjQEoDw\\\"]],\\\"0ahUKEwiHjdGR08L-AhWqrpUCHYIaD40Q0pMFCHIoAA\\\"],null,\\\"CAESBkVnSUlBUQ\\\\u003d\\\\u003d\\\"],[[\\\"ChdDSUhNMG9nS0VJQ0FnSUNSMGF6dzlRRRAB\\\",[\\\"0x0:0xbae166382f049184\\\",null,1680597934016401,1680597934016401,[[null,1,0,\\\"https://lh3.googleusercontent.com/a-/ACB-R5Q_moO-TODv__Dbozp3NLsMQX6-TqDwTbjT_pvF4Q\\\\u003ds120-c-c0x00000000-cc-rp-mo-br100\\\",\\\"44.Kalyani Patil\\\",\\\"https://www.google.com/maps/contrib/118158768574657065586?hl\\\\u003den-US\\\",null,null,\\\"https://www.google.com/maps/contrib/118158768574657065586?hl\\\\u003den-US\\\",null,null,null,[\\\"1 review\\\",null,null,null,null,[null,\\\"0ahUKEwiHjdGR08L-AhWqrpUCHYIaD40Q7LoGCI8BKAA\\\",1,1]],\\\"118158768574657065586\\\"],[\\\"/url?q\\\\u003dhttps://www.google.com/maps/contrib/118158768574657065586%3Fhl%3Den-US\\\\u0026sa\\\\u003dU\\\\u0026ved\\\\u003d0ahUKEwiHjdGR08L-AhWqrpUCHYIaD40QtxwIkAEoAQ\\\\u0026usg\\\\u003dAOvVaw2ZBdnKe6w3jcYYBJ0vuL1y\\\",\\\"44.Kalyani Patil\\\",\\\"https://lh3.googleusercontent.com/a-/ACB-R5Q_moO-TODv__Dbozp3NLsMQX6-TqDwTbjT_pvF4Q\\\\u003ds120-c-c0x00000000-cc-rp-mo-br100\\\",\\\"0ahUKEwiHjdGR08L-AhWqrpUCHYIaD40QtxwIkAEoAQ\\\"],[\\\"/url?q\\\\u003dhttps://www.google.com/maps/contrib/118158768574657065586/reviews%3Fhl%3Den-US\\\\u0026sa\\\\u003dU\\\\u0026ved\\\\u003d0ahUKEwiHjdGR08L-AhWqrpUCHYIaD40QtxwIkQEoAg\\\\u0026usg\\\\u003dAOvVaw1oouLP_sCYrzQDSnjhNdMZ\\\",\\\"44.Kalyani Patil\\\",\\\"https://lh3.googleusercontent.com/a-/ACB-R5Q_moO-TODv__Dbozp3NLsMQX6-TqDwTbjT_pvF4Q\\\\u003ds120-c-c0x00000000-cc-rp-mo-br100\\\",\\\"0ahUKEwiHjdGR08L-AhWqrpUCHYIaD40QtxwIkQEoAg\\\"],\\\"\\\"],1,\\\"2 weeks ago\\\",null,null,null,\\\"118158768574657065586\\\",null,null,null,null,1],[[5],[\\\"Good food\\\",\\\"en\\\",null,null,null,null,0,null,[0,9]],null,null,null,null,[[[\\\"GUIDED_DINING_MODE\\\"],\\\"Did you dine in, take out, or get delivery?\\\",[[[[\\\"E:DINE_IN\\\"],\\\"Dine in\\\",2,null,null,\\\"0ahUKEwiHjdGR08L-AhWqrpUCHYIaD40Q3YcHCJMBKAA\\\",null,null,0]],1],null,null,\\\"Service\\\",1,\\\"0ahUKEwiHjdGR08L-AhWqrpUCHYIaD40Q3IcHCJIBKAM\\\",null,null,null,null,null,1,[[1]]]],null,null,null,null,null,null,null,[\\\"en\\\"],[[\\\"Good food\\\",null,[0,9]]]],null,[null,null,null,[\\\"https://www.google.com/maps/reviews/data\\\\u003d!4m8!14m7!1m6!2m5!1sChdDSUhNMG9nS0VJQ0FnSUNSMGF6dzlRRRAB!2m1!1s0x0:0xbae166382f049184!3m1!1s2@1:CIHM0ogKEICAgICR0azw9QE%7CCgsIrsevoQYQ6ITpBw%7C?hl\\\\u003den-US\\\",null,null,\\\"0ahUKEwiHjdGR08L-AhWqrpUCHYIaD40QtxwIlAEoBA\\\"],[\\\"https://www.google.com/local/review/rap/report?postId\\\\u003dChdDSUhNMG9nS0VJQ0FnSUNSMGF6dzlRRRAB\\\\u0026entityid\\\\u003dChdDSUhNMG9nS0VJQ0FnSUNSMGF6dzlRRRIsChZDSUhNMG9nS0VJQ0FnSUNSMGF6d0RREhJDZ3NJcnNldm9RWVE2SVRwQncaLQoXQ0lITTBvZ0tFSUNBZ0lDUjBhendqUUUSEkNnc0lyc2V2b1FZUTZJVHBCdyISCX2pIen1uec7EYSRBC84ZuG6KhJDZ3NJcnNldm9RWVE2SVRwQnc\\\\u0026wv\\\\u003d1\\\\u0026d\\\\u003d286732320\\\",\\\"Flag as inappropriate\\\",null,\\\"0ahUKEwiHjdGR08L-AhWqrpUCHYIaD40QoykIlQEoBQ\\\"]],\\\"0ahUKEwiHjdGR08L-AhWqrpUCHYIaD40Q0pMFCI4BKAE\\\"],null,\\\"CAESBkVnSUlBZw\\\\u003d\\\\u003d\\\"],[[\\\"ChdDSUhNMG9nS0VJQ0FnSUMtdmNyYXRnRRAB\\\",[\\\"0x0:0xbae166382f049184\\\",null,1668164213135120,1668164213135120,[[null,3,0,\\\"https://lh3.googleusercontent.com/a/AGNmyxZadcwz8wHlEtJ1MjFsiJ2SxcIWWfy2ubVDH7o\\\\u003ds120-c-c0x00000000-cc-rp-mo-br100\\\",\\\"Nishith Mehta\\\",\\\"https://www.google.com/maps/contrib/106602149291420931198?hl\\\\u003den-US\\\",null,null,\\\"https://www.google.com/maps/contrib/106602149291420931198?hl\\\\u003den-US\\\",null,null,null,[\\\"3 reviews\\\",null,null,null,null,[null,\\\"0ahUKEwiHjdGR08L-AhWqrpUCHYIaD40Q7LoGCJcBKAA\\\",1,1]],\\\"106602149291420931198\\\"],[\\\"/url?q\\\\u003dhttps://www.google.com/maps/contrib/106602149291420931198%3Fhl%3Den-US\\\\u0026sa\\\\u003dU\\\\u0026ved\\\\u003d0ahUKEwiHjdGR08L-AhWqrpUCHYIaD40QtxwImAEoAQ\\\\u0026usg\\\\u003dAOvVaw1zdSgKLc-8LC6CKkLSujNm\\\",\\\"Nishith Mehta\\\",\\\"https://lh3.googleusercontent.com/a/AGNmyxZadcwz8wHlEtJ1MjFsiJ2SxcIWWfy2ubVDH7o\\\\u003ds120-c-c0x00000000-cc-rp-mo-br100\\\",\\\"0ahUKEwiHjdGR08L-AhWqrpUCHYIaD40QtxwImAEoAQ\\\"],[\\\"/url?q\\\\u003dhttps://www.google.com/maps/contrib/106602149291420931198/reviews%3Fhl%3Den-US\\\\u0026sa\\\\u003dU\\\\u0026ved\\\\u003d0ahUKEwiHjdGR08L-AhWqrpUCHYIaD40QtxwImQEoAg\\\\u0026usg\\\\u003dAOvVaw3rkcvpi8lOvEfDaMn2qAr8\\\",\\\"Nishith Mehta\\\",\\\"https://lh3.googleusercontent.com/a/AGNmyxZadcwz8wHlEtJ1MjFsiJ2SxcIWWfy2ubVDH7o\\\\u003ds120-c-c0x00000000-cc-rp-mo-br100\\\",\\\"0ahUKEwiHjdGR08L-AhWqrpUCHYIaD40QtxwImQEoAg\\\"],\\\"N\\\"],1,\\\"5 months ago\\\",null,null,null,\\\"106602149291420931198\\\",null,null,null,null,1],[[4],[\\\"Superb place\\\",\\\"en\\\",null,null,null,null,0,null,[0,12]],null,null,null,null,[[[\\\"GUIDED_DINING_MODE\\\"],\\\"Did you dine in, take out, or get delivery?\\\",[[[[\\\"E:DINE_IN\\\"],\\\"Dine in\\\",2,null,null,\\\"0ahUKEwiHjdGR08L-AhWqrpUCHYIaD40Q3YcHCJsBKAA\\\",null,null,0]],1],null,null,\\\"Service\\\",1,\\\"0ahUKEwiHjdGR08L-AhWqrpUCHYIaD40Q3IcHCJoBKAM\\\",null,null,null,null,null,1,[[1]]],[[\\\"GUIDED_DINING_MEAL_TYPE\\\"],\\\"What did you get?\\\",[[[[\\\"E:DINNER\\\"],\\\"Dinner\\\",2,null,null,\\\"0ahUKEwiHjdGR08L-AhWqrpUCHYIaD40Q3YcHCJ0BKAA\\\",null,null,0]],1],null,null,\\\"Meal type\\\",1,\\\"0ahUKEwiHjdGR08L-AhWqrpUCHYIaD40Q3IcHCJwBKAQ\\\",null,null,null,null,null,1,[[1]]],[[\\\"GUIDED_DINING_PRICE_RANGE\\\"],\\\"How much did you spend per person?\\\",[[[[\\\"E:INR_2000_UP\\\"],\\\"₹2,000+\\\",2,null,\\\"₹2,000 or above\\\",\\\"0ahUKEwiHjdGR08L-AhWqrpUCHYIaD40Q3YcHCJ8BKAA\\\"]],1],null,null,\\\"Price per person\\\",1,\\\"0ahUKEwiHjdGR08L-AhWqrpUCHYIaD40Q3IcHCJ4BKAU\\\",null,null,null,null,null,1,[[1],[2]]],[[\\\"GUIDED_DINING_FOOD_ASPECT\\\"],\\\"Food\\\",null,null,null,\\\"Food\\\",1,\\\"0ahUKEwiHjdGR08L-AhWqrpUCHYIaD40Q3IcHCKABKAY\\\",null,null,null,[5],null,2,[[1]]],[[\\\"GUIDED_DINING_SERVICE_ASPECT\\\"],\\\"Service\\\",null,null,null,\\\"Service\\\",1,\\\"0ahUKEwiHjdGR08L-AhWqrpUCHYIaD40Q3IcHCKEBKAc\\\",null,null,null,[5],null,2,[[1]]],[[\\\"GUIDED_DINING_ATMOSPHERE_ASPECT\\\"],\\\"Atmosphere\\\",null,null,null,\\\"Atmosphere\\\",1,\\\"0ahUKEwiHjdGR08L-AhWqrpUCHYIaD40Q3IcHCKIBKAg\\\",null,null,null,[5],null,2,[[1]]]],null,null,null,null,null,null,null,[\\\"en\\\"],[[\\\"Superb place\\\",null,[0,12]]]],null,[null,null,null,[\\\"https://www.google.com/maps/reviews/data\\\\u003d!4m8!14m7!1m6!2m5!1sChdDSUhNMG9nS0VJQ0FnSUMtdmNyYXRnRRAB!2m1!1s0x0:0xbae166382f049184!3m1!1s2@1:CIHM0ogKEICAgIC-vcratgE%7CCgsI9dS4mwYQgIm3QA%7C?hl\\\\u003den-US\\\",null,null,\\\"0ahUKEwiHjdGR08L-AhWqrpUCHYIaD40QtxwIowEoCQ\\\"],[\\\"https://www.google.com/local/review/rap/report?postId\\\\u003dChdDSUhNMG9nS0VJQ0FnSUMtdmNyYXRnRRAB\\\\u0026entityid\\\\u003dChdDSUhNMG9nS0VJQ0FnSUMtdmNyYXRnRRIsChZDSUhNMG9nS0VJQ0FnSUMtdmNyYWRnEhJDZ3NJOWRTNG13WVFnSW0zUUEaLQoXQ0lITTBvZ0tFSUNBZ0lDLXZjcmE5Z0USEkNnc0k5ZFM0bXdZUWdJbTNRQSISCX2pIen1uec7EYSRBC84ZuG6KhJDZ3NJOWRTNG13WVFnSW0zUUE\\\\u0026wv\\\\u003d1\\\\u0026d\\\\u003d286732320\\\",\\\"Flag as inappropriate\\\",null,\\\"0ahUKEwiHjdGR08L-AhWqrpUCHYIaD40QoykIpAEoCg\\\"]],\\\"0ahUKEwiHjdGR08L-AhWqrpUCHYIaD40Q0pMFCJYBKAI\\\"],null,\\\"CAESBkVnSUlBdw\\\\u003d\\\\u003d\\\"],[[\\\"ChdDSUhNMG9nS0VJQ0FnSURPejk2aGxRRRAB\\\",[\\\"0x0:0xbae166382f049184\\\",null,1658037806480131,1658037806480131,[[[7,null,1],215,222,\\\"https://lh3.googleusercontent.com/a-/ACB-R5RrZuWHcI2vO3XBb8V61HYEcNfYpdBZApUDSQi9DTA\\\\u003ds120-c-c0x00000000-cc-rp-mo-ba5-br100\\\",\\\"Sameer Warsolkar\\\",\\\"https://www.google.com/maps/contrib/114814232785734109914?hl\\\\u003den-US\\\",null,null,\\\"https://www.google.com/maps/contrib/114814232785734109914?hl\\\\u003den-US\\\",null,null,null,[\\\"116 reviews in Thane\\\",[null,null,\\\"14931259628934464131\\\"],\\\"🏙️\\\",null,null,[null,\\\"0ahUKEwiHjdGR08L-AhWqrpUCHYIaD40Q8boGCKYBKAA\\\",6,8]],\\\"114814232785734109914\\\"],[\\\"/url?q\\\\u003dhttps://www.google.com/maps/contrib/114814232785734109914%3Fhl%3Den-US\\\\u0026sa\\\\u003dU\\\\u0026ved\\\\u003d0ahUKEwiHjdGR08L-AhWqrpUCHYIaD40QtxwIpwEoAQ\\\\u0026usg\\\\u003dAOvVaw2tEjKNta7oiTgeq4VpqLx8\\\",\\\"Sameer Warsolkar\\\",\\\"https://lh3.googleusercontent.com/a-/ACB-R5RrZuWHcI2vO3XBb8V61HYEcNfYpdBZApUDSQi9DTA\\\\u003ds120-c-c0x00000000-cc-rp-mo-ba5-br100\\\",\\\"0ahUKEwiHjdGR08L-AhWqrpUCHYIaD40QtxwIpwEoAQ\\\"],[\\\"/url?q\\\\u003dhttps://www.google.com/maps/contrib/114814232785734109914/reviews%3Fhl%3Den-US\\\\u0026sa\\\\u003dU\\\\u0026ved\\\\u003d0ahUKEwiHjdGR08L-AhWqrpUCHYIaD40QtxwIqAEoAg\\\\u0026usg\\\\u003dAOvVaw1VYT0gr9S-yaWB_KvFTCR1\\\",\\\"Sameer Warsolkar\\\",\\\"https://lh3.googleusercontent.com/a-/ACB-R5RrZuWHcI2vO3XBb8V61HYEcNfYpdBZApUDSQi9DTA\\\\u003ds120-c-c0x00000000-cc-rp-mo-ba5-br100\\\",\\\"0ahUKEwiHjdGR08L-AhWqrpUCHYIaD40QtxwIqAEoAg\\\"],\\\"S\\\"],1,\\\"9 months ago\\\",null,null,null,\\\"114814232785734109914\\\",null,null,null,null,1],[[5],[\\\"Great Experience\\\",\\\"en\\\",null,null,null,null,0,null,[0,16]],null,null,null,null,[[[\\\"GUIDED_DINING_MODE\\\"],\\\"Did you dine in, take out, or get delivery?\\\",[[[[\\\"E:TAKE_OUT\\\"],\\\"Take out\\\",2,null,null,\\\"0ahUKEwiHjdGR08L-AhWqrpUCHYIaD40Q3YcHCKoBKAA\\\",null,null,0]],1],null,null,\\\"Service\\\",1,\\\"0ahUKEwiHjdGR08L-AhWqrpUCHYIaD40Q3IcHCKkBKAM\\\",null,null,null,null,null,1,[[1]]],[[\\\"GUIDED_DINING_MEAL_TYPE\\\"],\\\"What did you get?\\\",[[[[\\\"E:BREAKFAST\\\"],\\\"Breakfast\\\",2,null,null,\\\"0ahUKEwiHjdGR08L-AhWqrpUCHYIaD40Q3YcHCKwBKAA\\\",null,null,0]],1],null,null,\\\"Meal type\\\",1,\\\"0ahUKEwiHjdGR08L-AhWqrpUCHYIaD40Q3IcHCKsBKAQ\\\",null,null,null,null,null,1,[[1]]]],null,null,null,null,null,null,null,[\\\"en\\\"],[[\\\"Great Experience\\\",null,[0,16]]]],null,[null,null,null,[\\\"https://www.google.com/maps/reviews/data\\\\u003d!4m8!14m7!1m6!2m5!1sChdDSUhNMG9nS0VJQ0FnSURPejk2aGxRRRAB!2m1!1s0x0:0xbae166382f049184!3m1!1s2@1:CIHM0ogKEICAgIDOz96hlQE%7CCgwIrszOlgYQuO_45AE%7C?hl\\\\u003den-US\\\",null,null,\\\"0ahUKEwiHjdGR08L-AhWqrpUCHYIaD40QtxwIrQEoBQ\\\"],[\\\"https://www.google.com/local/review/rap/report?postId\\\\u003dChdDSUhNMG9nS0VJQ0FnSURPejk2aGxRRRAB\\\\u0026entityid\\\\u003dChdDSUhNMG9nS0VJQ0FnSURPejk2aGxRRRItChZDSUhNMG9nS0VJQ0FnSURPejk2aFZREhNDZ3dJcnN6T2xnWVF1T180NUFFGi4KF0NJSE0wb2dLRUlDQWdJRE96OTZoMVFFEhNDZ3dJcnN6T2xnWVF1T180NUFFIhIJfakh6fW55zsRhJEELzhm4boqE0Nnd0lyc3pPbGdZUXVPXzQ1QUU\\\\u0026wv\\\\u003d1\\\\u0026d\\\\u003d286732320\\\",\\\"Flag as inappropriate\\\",null,\\\"0ahUKEwiHjdGR08L-AhWqrpUCHYIaD40QoykIrgEoBg\\\"]],\\\"0ahUKEwiHjdGR08L-AhWqrpUCHYIaD40Q0pMFCKUBKAM\\\"]]],0,1],[null,1],0,[0,0,0,2,4],[\\\"Rate and review\\\",\\\"Share your experience to help others\\\",1,\\\"Share details of your own experience at this place\\\",null,null,null,[]],null,null,[null,0,1]],null,null,[[\\\"084338 43309\\\",[[\\\"084338 43309\\\",1],[\\\"+91 84338 43309\\\",2]],null,\\\"08433843309\\\",null,[\\\"tel:08433843309\\\",null,null,\\\"0ahUKEwiHjdGR08L-AhWqrpUCHYIaD40Q_doBCBYoDQ\\\"]]],null,null,null,null,[[[7,[[\\\"Food town\\\"],[\\\"6X9H+86P\\\"],[\\\"Thane West\\\"],[\\\"Thane, Maharashtra\\\"]]],[2,[[\\\"6X9H+86P Food town, Thane West, Thane, Maharashtra\\\"]]],[1,[[\\\"6X9H+86P, Thane West, Thane, Maharashtra\\\"]]],[4,[[\\\"Thane, Maharashtra\\\"]]]],[\\\"Thane West\\\",\\\"6X9H+86P\\\",\\\"6X9H+86P\\\",\\\"Thane\\\",null,\\\"Maharashtra\\\",\\\"IN\\\"]],null,null,null,null,null,null,null,null,null,null,null,null,null,null,null,null,null,null,null,[null,[null,null,null,1,[\\\"Open now\\\",[[0,8,[null,[4279795768,4286695829]]]]]],1],null,1,null,null,[[null,null,19.2183307,72.9780897]],\\\"CglGb29kIHRvd26SAQtjb2ZmZWVfc2hvcOABAA\\\",null,null,null,null,1,null,null,null,null,null,null,null,null,null,null,null,null,[[\\\"0x3be7b9f5e921a97d:0xbae166382f049184\\\",null,null,\\\"/g/11sxwmmd84\\\",\\\"ChIJfakh6fW55zsRhJEELzhm4bo\\\"]]],null,null,null,null,null,\\\"k4dGZMf3Bard1sQPgrW86Ag\\\",\\\"0ahUKEwiHjdGR08L-AhWqrpUCHYIaD40Q2R4IAQ\\\",null,null,null,null,null,[[[3],[5],[6],[7],[9],[10]]],[[[\\\"m\\\",[17,92100,58399],13,[644381897,644382557,644382557,644382557,644382557,644382557,644382557,644382557,644382557,644382545,644382545,644381969,644381729,644382557,644382557,644382557,644382557,644382557,644382557,644382557,644382557,644382557,644382557,644382545,644381969,644381729,644382557,644382557,644382557,644382557,644382557,644382557,644382557,644382557,644382557,644382557,644382557,644382557,644382473,644382557,644382557,644382557,644382557,644382557,644382557,644382557,644382557,644382557,644382557,644382557,644382557,644382473,644382557,644381981,644382557,644382557,644382557,644382557,644382557,644382557,644382557,644382557,644382557,644382557,644382473,644382557,644382557,644382557,644382557,644382473,644382557,644382557,644382557,644382557,644382125,644382473,644382473,644382473,644382557,644382557,644382557,644382557,644382473,644382557,644382557,644382557,644382557,644382557,644382473,644382473,644382473,644382557,644382557,644382557,644382557,644382557,644382557,644382557,644382557,644382557,644382557,644381909,644381729,644381729,644382557,644382557,644382557,644382557,644382557,644382557,644382557,644382557,644382557,644382557,644382125,644382125,644382125,644382557,644382557,644382557,644382557,644382557,644382557,644382557,644382557,644382557,644382545,644382545,644382125,644382125]],[\\\"m\\\",[16,46050,29199],7,[644382557,644382557,644382557,644382557,644382557,644382557,644382557,644382557,644382557,644382557,644382557,644382557,644382557,644382545,644382557,644382557,644382557,644382557,644382557,644382557,644382545,644382557,644382557,644382557,644382557,644382557,644382557,644382545,644382557,644382557,644382557,644382557,644382557,644382557,644382125,644382557,644382557,644382557,644382557,644382557,644382557,644382557]],[\\\"m\\\",[18,184207,116803],13,[644382557,644382557,644382089,644382089,644382557,644382557,644382557,644382557,644382557,644382557,644382557,644382557,644382557,644382557,644382557,644382089,644382089,644382557,644382557,644382557,644382557,644382557,644382557,644382557,644382557,644382557,644382557,644382557,644382473,644382473,644382557,644382557,644382557,644382557,644382557,644382557,644382557,644382557,644382557,644382557,644382557,644382473,644382473,644382557,644382557,644382557,644382557,644382557,644382557,644382557,644382557,644382557,644382473,644382473,644382473,644382473,644382557,644382557,644382557,644382557,644382473,644382473,644382125,644382125,644382017,644382473,644382473,644382473,644382473,644382557,644382557,644382557,644382557,644382473,644382473,644382125,644382125,644382017,644382473,644382473,644382473,644382473,644382557,644382557,644382557,644382557,644382557,644382557,644382029,644382029,644381729,644382473,644382473,644382473,644382473,644382557,644382557,644382557,644382557,644382557,644382557,644382029,644382029,644381729,644382473,644382473,644382473,644382473,644382557,644382557,644382557,644382557,644382557,644382557,644382557,644382557,644381729,644382473,644382473,644382473,644382473,644382557,644382557,644382557,644382557,644382557,644382557,644382557,644382557,644381729]]]],null,null,null,[[[\\\"AF1QipOrv8dqr9nF7jjQ10iYK5i81reY6bKnTzzrjZSb\\\",10,12,\\\"\\\",null,815.92584,[\\\"https://lh5.googleusercontent.com/p/AF1QipOrv8dqr9nF7jjQ10iYK5i81reY6bKnTzzrjZSb\\\\u003dw203-h114-k-no\\\",\\\"Food town\\\",[3840,2160],[203,100]],null,[[3,72.9780706,19.218328700000004],[0,90],[3840,2160],75],\\\"k4dGZMf3Bard1sQPgrW86Ag\\\",\\\"0ahUKEwiHjdGR08L-AhWqrpUCHYIaD40QzCcIAygA\\\",null,null,null,null,[[[\\\"0x3be7b9f5e921a97d:0xbae166382f049184\\\"]]],null,[\\\"6X9H+86P, Thane West, Thane, Maharashtra\\\"],null,null,\\\"Photo\\\",[null,[10,\\\"AF1QipOrv8dqr9nF7jjQ10iYK5i81reY6bKnTzzrjZSb\\\"],[10,3,[2160,3840]],null,null,[[[2],[[null,null,19.218328700000004,72.9780706]]]],[2,null,null,[8],2,[null,null,\\\"photos:gmm_android\\\",[6,7,4,1,3]],null,null,[2023,4,20,11]]],1,null,null,null,null,null,null,[\\\"4316623233687333245\\\",\\\"-4980587321402027644\\\"],null,\\\"hxjeBlbD2_g\\\"],[\\\"AF1QipPfqSnzl5SeCoAio-wMS0Vw-XO5UeXlNl1DYDEA\\\",10,12,\\\"\\\",null,847.7319,[\\\"https://lh5.googleusercontent.com/p/AF1QipPfqSnzl5SeCoAio-wMS0Vw-XO5UeXlNl1DYDEA\\\\u003dw203-h152-k-no\\\",\\\"Food town\\\",[4624,3472],[203,100]],null,[[3,72.9780706,19.218328700000004],[0,90],[4624,3472],75],\\\"k4dGZMf3Bard1sQPgrW86Ag\\\",\\\"0ahUKEwiHjdGR08L-AhWqrpUCHYIaD40QzCcIBCgB\\\",null,null,null,null,[[[\\\"0x3be7b9f5e921a97d:0xbae166382f049184\\\"]]],null,[\\\"6X9H+86P, Thane West, Thane, Maharashtra\\\"],null,null,\\\"Photo\\\",[null,[10,\\\"AF1QipPfqSnzl5SeCoAio-wMS0Vw-XO5UeXlNl1DYDEA\\\"],[10,3,[3472,4624]],null,null,[[[2],[[null,null,19.218328700000004,72.9780706]]]],[2,null,null,[8],2,[null,null,\\\"photos:dragonfly_tactile\\\",[6,7,4,1,3]],null,null,[2022,10,1,7]]],1,null,null,null,null,null,null,[\\\"4316623233687333245\\\",\\\"-4980587321402027644\\\"],null,\\\"QJCFkzVgtPQ\\\"],[\\\"AF1QipOOJAUdrS2vriEmXyv2ycNUfgF8nVs2R78nlur_\\\",10,12,\\\"\\\",null,389.58237,[\\\"https://lh5.googleusercontent.com/p/AF1QipOOJAUdrS2vriEmXyv2ycNUfgF8nVs2R78nlur_\\\\u003dw203-h270-k-no\\\",\\\"Food town\\\",[1536,2048],[203,100]],null,[[3,72.9780706,19.218328700000004],[0,90],[1536,2048],75],\\\"k4dGZMf3Bard1sQPgrW86Ag\\\",\\\"0ahUKEwiHjdGR08L-AhWqrpUCHYIaD40QzCcIBSgC\\\",null,null,null,null,[[[\\\"0x3be7b9f5e921a97d:0xbae166382f049184\\\"]]],null,[\\\"6X9H+86P, Thane West, Thane, Maharashtra\\\"],null,null,\\\"Photo\\\",[null,[10,\\\"AF1QipOOJAUdrS2vriEmXyv2ycNUfgF8nVs2R78nlur_\\\"],[10,3,[2048,1536]],null,null,[[[2],[[null,null,19.218328700000004,72.9780706]]]],[2,null,null,[8],2,[null,null,\\\"photos:gmm_android_review_post\\\",[6,7,4,1,3]],null,null,[2022,4,17,6]]],1,null,null,null,null,null,null,[\\\"4316623233687333245\\\",\\\"-4980587321402027644\\\"],null,\\\"AviZpQN8zfo\\\"],[\\\"AF1QipPXY0geAqoqecJ2gL2GFtPWQNRamGxDO8KoqSKv\\\",10,12,\\\"\\\",null,618.925,[\\\"https://lh5.googleusercontent.com/p/AF1QipPXY0geAqoqecJ2gL2GFtPWQNRamGxDO8KoqSKv\\\\u003dw203-h270-k-no\\\",\\\"Food town\\\",[1536,2048],[203,100]],null,[[3,72.9780706,19.218328700000004],[0,90],[1536,2048],75],\\\"k4dGZMf3Bard1sQPgrW86Ag\\\",\\\"0ahUKEwiHjdGR08L-AhWqrpUCHYIaD40QzCcIBigD\\\",null,null,null,null,[[[\\\"0x3be7b9f5e921a97d:0xbae166382f049184\\\"]]],null,[\\\"6X9H+86P, Thane West, Thane, Maharashtra\\\"],null,null,\\\"Photo\\\",[null,[10,\\\"AF1QipPXY0geAqoqecJ2gL2GFtPWQNRamGxDO8KoqSKv\\\"],[10,3,[2048,1536]],null,null,[[[2],[[null,null,19.218328700000004,72.9780706]]]],[2,null,null,[8],2,[null,null,\\\"photos:gmm_android_review_post\\\",[6,7,4,1,3]],null,null,[2022,4,17,6]]],1,null,null,null,null,null,null,[\\\"4316623233687333245\\\",\\\"-4980587321402027644\\\"],null,\\\"E7s0EPCtDsI\\\"],[\\\"0h7cJiCu-RTuXXJATjykXw\\\",0,1,\\\"Food town\\\",null,670.60626,[\\\"https://streetviewpixels-pa.googleapis.com/v1/thumbnail?panoid\\\\u003d0h7cJiCu-RTuXXJATjykXw\\\\u0026cb_client\\\\u003dsearch.gws-prod.gps\\\\u0026w\\\\u003d203\\\\u0026h\\\\u003d100\\\\u0026yaw\\\\u003d165.40897\\\\u0026pitch\\\\u003d0\\\\u0026thumbfov\\\\u003d100\\\",\\\"Food town\\\",null,[203,100]],null,[[3,72.97805560219038,19.218454387766073],[165.40897,90],[1024,768],75],\\\"k4dGZMf3Bard1sQPgrW86Ag\\\",\\\"0ahUKEwiHjdGR08L-AhWqrpUCHYIaD40QkI4GCAcoBA\\\",null,null,null,null,[[[\\\"0x3be7b9f5e921a97d:0xbae166382f049184\\\"]]],null,[\\\"6X9H+86P, Thane West, Thane, Maharashtra\\\"],null,null,\\\"Street View\\\",[null,[2,\\\"0h7cJiCu-RTuXXJATjykXw\\\"],[2,2,null,[]],null,null,[[[2],[[null,null,19.218454387766073,72.97805560219038],null,[353.95358,88.79038,2.1763809]]]],[3,null,null,[2],null,[null,null,\\\"launch\\\",[6]],null,null,[2023,4,20,17]]],2,null,null,null,null,null,null,[\\\"4316623233687333245\\\",\\\"-4980587321402027644\\\"],null,\\\"ynWzWwKMqqI\\\"]],null,null,\\\"k4dGZMf3Bard1sQPgrW86Ag\\\",null,null,null,null,null,null,1,[[[1],[6]]]],[[[2,\\\"spotlit\\\"]],null,null,[[null,null,null,null,null,null,null,null,null,null,null,null,null,[[[\\\"4316623233687333245\\\",\\\"13466156752307523972\\\"],\\\"/g/11sxwmmd84\\\",null,[192183307,729780897],null,null,null,null,null,null,null,null,null,null,\\\"gcid:coffee_shop\\\"],0,0,0]]]],null,null,null,\\\"https://www.google.com/maps/vt/icon?name\\\\u003dassets/icons/poi/tactile/iamhere/cafe.png\\\",null,[\\\"1682343827318\\\",[[\\\"Asia/Calcutta\\\",[\\\"IST\\\",\\\"India Standard Time\\\",\\\"IST\\\",\\\"India Standard Time\\\"],330,[-212262,0]]]]]\"],null,[null,null,[null,[2,72.9755148,19.2183357,null,null,17]],[null,null,[\"0x3be7b9f5e921a97d:0xbae166382f049184\",\"Food town\",null,null,null,null,null,[null,null,19.2183307,72.9780897],[1],null,null,null,null,null,null,\"/g/11sxwmmd84\"]]],null,null,[59,63,60,67,68,61,66,65,78,79],[\"Food town · 6X9H+86P, Thane West, Thane, Maharashtra\",\"★★★★★ · Coffee shop\",\"https://lh5.googleusercontent.com/p/AF1QipOrv8dqr9nF7jjQ10iYK5i81reY6bKnTzzrjZSb\\u003dw256-h256-k-no-p\",[256,256]],null,[\"sc2\",\"per\",\"mo\",\"lp\",\"ep\",\"ti\",\"ds\",\"stx\",\"dwi\",\"enr\",\"pwd\",\"dw\",\"ppl\",\"log\",\"std\",\"b\"],null,null,null,null,null,null,null,null,null,null,null,null,null,null,null,null,null,null,null,0];window.APP_FLAGS=[1,0,0,0.25,1,0,0,1,1,0,0,2,2,1,0,1,1,0,1,0,0,0,0,0,0,1,1,0,0,1,0,0,0,3,0,1,1,0,1,0,1,0,0,0,1,0,1,1,0,1,0,0,1,1,0,0,10,25000,10,0,0,0,0,1,0,40,1,null,6,16,0,\"\",0,1,1,0,0,0,0,0,1,20,1,1,1,0,0,0,0,0,0,0,1,2,0,0,1,0,1,0,1,20,0,1,2,0,0,1,0,1,1,0,1,1,1,1,\"\",0,0,0,0,0,1,1,\"\",1,604800000,1,1,1,2,0,20,0,0,30,1,0,0,1,null,1,1,1,0,0,0,0,0,2,0,0,0,1,0,2,1,null,0,0,0,2,0,0,0,1,3,0,0,1,1,0,1,\"https://tpc.googlesyndication.com/simgad/12443843956218829127?w\\u003d40\\u0026h\\u003d40\",0,0,1,1,9,0,0,0,0,\"\",0,1,1,0,0,0,1,1,0,0,0,0,1,0,1,0,1,1,1,0,0,1,0,0,1,1,0,\"support local businesses\",0,1,1,1,1,0,\"\",null,0,0,1,2000,2,1,0,1,1,0,1,1,1,1,0,0,1,1,0,1,0,1,1,1,1,0,0,0,850,50,40,0,1,0,0,1,0,0,1,0,0,0,1,1,1,1,1,0,0,0,0,0,0,0,0,0,0,0,0,0,0,0,0,0,0,0,0,0,0,0,0,0,0,0,0,0];window.VECTORTOWN_FLAGS=[null,null,1,1,0,1,1,0,0,0,1,null,null,null,null,null,null,0,1,0,1];window.DEV_MODE=false;window.JS_VERSION='maps.m.en.voKxMFGohgs.es5.O';window.LOGGING_ENDPOINT='/maps/preview/log204?authuser\\x3d0\\x26hl\\x3den\\x26gl\\x3din';window.PRODUCT_ID=81;window.ES5DGURL='';window.WIZ_global_data={\"S6lZl\":\"79508299\",\"SNlM0e\":\"\",\"w2btAe\":\"%.@.\\\"\\\",\\\"\\\",\\\"0\\\",null,null,null,1]\",\"oxN3nb\":{\"1\":false},\"S06Grb\":\"\",\"eptZe\":\"/wizrpcui/_/WizRpcUi/\",\"QrtxK\":\"0\",\"Im6cmf\":\"/wizrpcui/_/WizRpcUi\",\"zChJod\":\"%.@.]\",\"GWsdKe\":\"en-IN\",\"Yllh3e\":\"%.@.1682343827074471,43364010,2366577282]\",\"LVIXXb\":\"1\"};})();\n",
      "  </script>\n",
      "  <script nonce=\"JVlk2I4QseOPZ1cPRrLWBw\">\n",
      "   (function(){\n",
      "'use strict';var b=this||self;var d=function(){this.g=null;this.h=\"\"};d.prototype.start=function(){var a=this.g=document;if(this.h=\"hidden\"in a?\"visibilitychange\":\"mozHidden\"in a?\"mozvisibilitychange\":\"msHidden\"in a?\"msvisibilitychange\":\"webkitHidden\"in a?\"webkitvisibilitychange\":\"\"){a=this.g;var c=e;a.addEventListener&&a.addEventListener(this.h,c,!1)}};d.prototype.stop=function(){if(this.g){var a=this.g,c=e;a.removeEventListener&&a.removeEventListener(this.h,c,!1)}};function e(){var a=document,c=!1;\"hidden\"in a?c=a.hidden:\"mozHidden\"in a?c=a.mozHidden:\"msHidden\"in a?c=a.msHidden:\"webkitHidden\"in a&&(c=a.webkitHidden);c?b.tick(\"bg0\"):b.tick(\"bg1\")}\n",
      "var f=new d;f.start();var g=function(){f.stop()},h=[\"globals\",\"BackgroundTicks\",\"stop\"],k=b;h[0]in k||\"undefined\"==typeof k.execScript||k.execScript(\"var \"+h[0]);for(var l;h.length&&(l=h.shift());)h.length||void 0===g?k[l]&&k[l]!==Object.prototype[l]?k=k[l]:k=k[l]={}:k[l]=g;}).call(this);\n",
      "  </script>\n",
      "  <style type=\"text/css\">\n",
      "   @import url('//fonts.googleapis.com/css?family=Noto+Sans+Devanagari+UI:300,400,500,700');\n",
      "@import url('//fonts.googleapis.com/css?family=Noto+Sans+Bengali+UI:300,400,500,700');\n",
      "@import url('//fonts.googleapis.com/css?family=Noto+Sans+Telugu+UI:300,400,500,700');\n",
      "@import url('//fonts.googleapis.com/css?family=Noto+Sans+Tamil+UI:300,400,500,700');\n",
      "@import url('//fonts.googleapis.com/css?family=Noto+Sans+Gujarati+UI:300,400,500,700');\n",
      "@import url('//fonts.googleapis.com/css?family=Noto+Sans+Kannada+UI:300,400,500,700');\n",
      "@import url('//fonts.googleapis.com/css?family=Noto+Sans+Malayalam+UI:300,400,500,700');\n",
      "@import url('//fonts.googleapis.com/css?family=Noto+Sans+Gurmukhi+UI:300,400,500,700');\n",
      "@font-face {\n",
      "  font-family: 'Roboto';\n",
      "  font-style: normal;\n",
      "  font-weight: 300;\n",
      "  src: url(//fonts.gstatic.com/s/roboto/v18/KFOlCnqEu92Fr1MmSU5fChc9.ttf) format('truetype');\n",
      "}\n",
      "@font-face {\n",
      "  font-family: 'Roboto';\n",
      "  font-style: normal;\n",
      "  font-weight: 400;\n",
      "  src: url(//fonts.gstatic.com/s/roboto/v18/KFOmCnqEu92Fr1Mu7GxP.ttf) format('truetype');\n",
      "}\n",
      "@font-face {\n",
      "  font-family: 'Roboto';\n",
      "  font-style: normal;\n",
      "  font-weight: 500;\n",
      "  src: url(//fonts.gstatic.com/s/roboto/v18/KFOlCnqEu92Fr1MmEU9fChc9.ttf) format('truetype');\n",
      "}\n",
      "@font-face {\n",
      "  font-family: 'Roboto';\n",
      "  font-style: normal;\n",
      "  font-weight: 700;\n",
      "  src: url(//fonts.gstatic.com/s/roboto/v18/KFOlCnqEu92Fr1MmWUlfChc9.ttf) format('truetype');\n",
      "}\n",
      "@font-face {\n",
      "  font-family: 'Product Sans';\n",
      "  font-style: normal;\n",
      "  font-weight: 400;\n",
      "  src: url(//fonts.gstatic.com/s/productsans/v9/pxiDypQkot1TnFhsFMOfGShVF9eL.ttf) format('truetype');\n",
      "}\n",
      "@font-face {\n",
      "  font-family: 'Google Sans';\n",
      "  font-style: normal;\n",
      "  font-weight: 400;\n",
      "  src: url(//fonts.gstatic.com/s/googlesans/v14/4UaGrENHsxJlGDuGo1OIlL3Owps.ttf) format('truetype');\n",
      "}\n",
      "@font-face {\n",
      "  font-family: 'Google Sans';\n",
      "  font-style: normal;\n",
      "  font-weight: 500;\n",
      "  src: url(//fonts.gstatic.com/s/googlesans/v14/4UabrENHsxJlGDuGo1OIlLU94YtzCwM.ttf) format('truetype');\n",
      "}\n",
      "@font-face {\n",
      "  font-family: 'Google Sans Display';\n",
      "  font-style: normal;\n",
      "  font-weight: 400;\n",
      "  src: url(//fonts.gstatic.com/s/googlesansdisplay/v13/ea8FacM9Wef3EJPWRrHjgE4B6CnlZxHVDv79pA.ttf) format('truetype');\n",
      "}\n",
      "#gbar,#guser{font-size:13px;padding-top:1px !important;}#gbar{height:22px}#guser{padding-bottom:7px !important;text-align:right}.gbh,.gbd{border-top:1px solid #c9d7f1;font-size:1px}.gbh{height:0;position:absolute;top:24px;width:100%}@media all{.gb1{height:22px;margin-right:.5em;vertical-align:top}#gbar{float:left}}a.gb1,a.gb4{text-decoration:underline !important}a.gb1,a.gb4{color:#00c !important}.gbi .gb4{color:#dd8e27 !important}.gbf .gb4{color:#900 !important}\n",
      "html, body { font-family: Roboto, 'Noto Sans Devanagari UI', 'Noto Sans Bengali UI', 'Noto Sans Telugu UI', 'Noto Sans Tamil UI', 'Noto Sans Gujarati UI', 'Noto Sans Kannada UI', 'Noto Sans Malayalam UI', 'Noto Sans Gurmukhi UI', Arial, sans-serif; }\n",
      "  </style>\n",
      "  <style>\n",
      "   html,body{margin:0;padding:0}body{-ms-touch-action:none;touch-action:none;overflow:hidden}a,button,h1,h2,h3,h4,h5,h6,input,ol,p,textarea,th,ul{background:transparent;border:0;border-radius:0;font:inherit;list-style:none;margin:0;outline:0;overflow:visible;padding:0;vertical-align:baseline}textarea{overflow:auto}table{border-collapse:collapse;border-spacing:0}button::-moz-focus-inner,input::-moz-focus-inner,textarea::-moz-focus-inner{margin:0;padding:0;border:0}button,input,textarea{color:inherit}input::-ms-clear{display:none}a{cursor:pointer;text-decoration:none;outline:none}a:hover{text-decoration:underline}:focus{outline:none}#XvQR9b{position:absolute;left:0;right:0;top:0;bottom:0;background:#f8f9fa}.wSgKnf{position:absolute;left:50%;top:50%;width:575px;transform:translateX(-50%) translateY(-50%);transform:translateX(-50%) translateY(-50%);background:url('//maps.gstatic.com/tactile/basepage/pegman_sherlock.png') no-repeat;background-size:160px 193px;height:143px;padding-top:50px;padding-left:200px;font-size:30px;font-weight:300}.hl4GXb{color:#4285f4;font-size:14px;font-weight:normal}\n",
      "  </style>\n",
      "  <link crossorigin=\"use-credentials\" href=\"/maps/preview/pwa/manifest?source=ttpwa&amp;hl=en\" rel=\"manifest\"/>\n",
      "  <script nonce=\"JVlk2I4QseOPZ1cPRrLWBw\">\n",
      "   tick('s');\n",
      "  </script>\n",
      "  <link data-id=\"_cl\" href=\"/maps/_/ss/k=maps.m.MHvcZjJJOLA.L.X.O/m=sc2,per,mo,lp,ep,ti,ds,stx,dwi,enr,pwd,dw,ppl,log,std,b/am=BoA1kA/d=1/rs=ACT90oGFbRn06iOEhgABqIUgMU15T9z4LA\" nonce=\"JVlk2I4QseOPZ1cPRrLWBw\" rel=\"stylesheet\"/>\n",
      " </head>\n",
      " <body class=\"LoJzbe keynav-mode-off\" jstrack=\"1\" tabindex=\"-1\">\n",
      "  <script nonce=\"JVlk2I4QseOPZ1cPRrLWBw\">\n",
      "   tick('b0');if (window.devicePixelRatio > 1){document.body.className += ' highres';}\n",
      "  </script>\n",
      "  <script nonce=\"JVlk2I4QseOPZ1cPRrLWBw\">\n",
      "   (function(){if(window.tactilecsi){window.tactilecsi.g={};window.tactilecsi.h=1;window.tactilecsi.setTimerName=function(d,a){d.name=a};var n=function(d,a,g){var b=\"\";window.tactilecsi.srt&&(b+=\"&srt=\"+window.tactilecsi.srt,delete window.tactilecsi.srt);window.tactilecsi.pt&&(b+=\"&tbsrt=\"+window.tactilecsi.pt,delete window.tactilecsi.pt);try{window.external&&window.external.tran?b+=\"&tran=\"+window.external.tran:window.gtbExternal&&window.gtbExternal.tran?b+=\"&tran=\"+window.gtbExternal.tran():window.chrome&&window.chrome.csi&&\n",
      "(b+=\"&tran=\"+window.chrome.csi().tran)}catch(q){}var c=window.chrome;if(c&&(c=c.loadTimes)){c().wasFetchedViaSpdy&&(b+=\"&p=s\");if(c().wasNpnNegotiated){b+=\"&npn=1\";var e=c().npnNegotiatedProtocol;e&&(b+=\"&npnv=\"+(encodeURIComponent||escape)(e))}c().wasAlternateProtocolAvailable&&(b+=\"&apa=1\")}if(\"undefined\"!=typeof navigator&&navigator&&navigator.connection){c=navigator.connection;e=c.type;for(var f in c)if(\"type\"!=f&&c[f]==e){b+=\"&conn=\"+f;break}}c=d.t;e=c.start;f=[];for(var h in c)if(\"start\"!=h&&\n",
      "e){var k=d.t[h];var l=d.t.start;k&&l?(k-=l,k=Math.round(k)):k=void 0;f.push(h+\".\"+k)}delete c.start;if(a)for(var m in a)b+=\"&\"+m+\"=\"+a[m];(a=g)||(a=\"https:\"==document.location.protocol?\"https://csi.gstatic.com/csi\":\"http://csi.gstatic.com/csi\");return d=[a,\"?v=3\",\"&s=\"+(window.tactilecsi.sn||\"tactile\")+\"&action=\",d.name,\"\",b,\"&rt=\",f.join(\",\")].join(\"\")};window.tactilecsi.getReportUri=n;var p=function(d,a,g){d=n(d,a,g);if(!d)return\"\";a=new Image;var b=window.tactilecsi.h++;window.tactilecsi.g[b]=\n",
      "a;a.onload=a.onerror=function(){window.tactilecsi&&delete window.tactilecsi.g[b]};a.src=d;a=null;return d};window.tactilecsi.report=function(d,a,g){var b=document.visibilityState,c=\"visibilitychange\";b||(b=document.webkitVisibilityState,c=\"webkitvisibilitychange\");if(\"prerender\"==b){var e=!1,f=function(){if(!e){a?a.prerender=\"1\":a={prerender:\"1\"};if(\"prerender\"==(document.visibilityState||document.webkitVisibilityState))var h=!1;else p(d,a,g),h=!0;h&&(e=!0,document.removeEventListener(c,f,!1))}};document.addEventListener(c,f,!1);return\"\"}return p(d,a,g)}};}).call(this);\n",
      "  </script>\n",
      "  <script nonce=\"JVlk2I4QseOPZ1cPRrLWBw\">\n",
      "   tick('ms0');\n",
      "  </script>\n",
      "  <script id=\"base-js\" nonce=\"JVlk2I4QseOPZ1cPRrLWBw\" src=\"/maps/_/js/k=maps.m.en.voKxMFGohgs.es5.O/m=sc2,per,mo,lp,ep,ti,ds,stx,dwi,enr,pwd,dw,ppl,log,std,b/am=BoA1kA/rt=j/d=1/rs=ACT90oHPuRYwNjQ9bsmTJyxIRodi0qgCZg\">\n",
      "  </script>\n",
      "  <script nonce=\"JVlk2I4QseOPZ1cPRrLWBw\">\n",
      "   tick('ms1');tick('b1');tick('p1');\n",
      "  </script>\n",
      "  <noscript>\n",
      "   <div id=\"XvQR9b\">\n",
      "    <div class=\"wSgKnf\">\n",
      "     <div>\n",
      "      When you have eliminated the\n",
      "      <strong>\n",
      "       JavaScript\n",
      "      </strong>\n",
      "      , whatever remains must be an empty page.\n",
      "     </div>\n",
      "     <a class=\"hl4GXb\" href=\"https://support.google.com/maps/?hl=en&amp;authuser=0&amp;p=no_javascript\" target=\"_blank\">\n",
      "      Enable JavaScript to see Google Maps.\n",
      "     </a>\n",
      "    </div>\n",
      "   </div>\n",
      "  </noscript>\n",
      " </body>\n",
      "</html>\n"
     ]
    }
   ],
   "source": [
    "soup=bs(htmlcontain,\"html.parser\")\n",
    "print(soup.prettify())"
   ]
  },
  {
   "cell_type": "code",
   "execution_count": 1,
   "metadata": {},
   "outputs": [],
   "source": [
    "from bs4 import BeautifulSoup as bs"
   ]
  },
  {
   "cell_type": "code",
   "execution_count": 2,
   "metadata": {},
   "outputs": [],
   "source": [
    "import requests"
   ]
  },
  {
   "cell_type": "code",
   "execution_count": 3,
   "metadata": {},
   "outputs": [
    {
     "name": "stdout",
     "output_type": "stream",
     "text": [
      "b'<!doctype html><html lang=\"en\"><head><link href=\"https://rukminim1.flixcart.com\" rel=\"preconnect\"/><link rel=\"stylesheet\" href=\"//static-assets-web.flixcart.com/fk-p-linchpin-web/fk-cp-zion/css/app_modules.chunk.905c37.css\"/><link rel=\"stylesheet\" href=\"//static-assets-web.flixcart.com/fk-p-linchpin-web/fk-cp-zion/css/app.chunk.4fb0ab.css\"/><meta http-equiv=\"Content-type\" content=\"text/html; charset=utf-8\"/><meta http-equiv=\"X-UA-Compatible\" content=\"IE=Edge\"/><meta property=\"fb:page_id\" content=\"102988293558\"/><meta property=\"fb:admins\" content=\"658873552,624500995,100000233612389\"/><meta name=\"robots\" content=\"noodp\"/><link rel=\"shortcut icon\" href=\"https:///www/promos/new/20150528-140547-favicon-retina.ico\"/><link type=\"application/opensearchdescription+xml\" rel=\"search\" href=\"/osdd.xml?v=2\"/><meta property=\"og:type\" content=\"website\"/><meta name=\"og_site_name\" property=\"og:site_name\" content=\"Flipkart.com\"/><link rel=\"apple-touch-icon\" sizes=\"57x57\" href=\"/apple-touch-icon-57x57.png\"/><link rel=\"apple-touch-icon\" sizes=\"72x72\" href=\"/apple-touch-icon-72x72.png\"/><link rel=\"apple-touch-icon\" sizes=\"114x114\" href=\"/apple-touch-icon-114x114.png\"/><link rel=\"apple-touch-icon\" sizes=\"144x144\" href=\"/apple-touch-icon-144x144.png\"/><link rel=\"apple-touch-icon\" href=\"/apple-touch-icon-57x57.png\"/><meta name=\"twitter:card\" content=\"app\"><meta name=\"twitter:site\" content=\"@flipkart\"><meta name=\"twitter:creator\" content=\"@flipkart\"><meta name=\"twitter:title\" content=\"Hp 15s Ryzen 3 Dual Core 3250u 4 Gb 1 Tb Hdd Windows 10 Home 15s Gr0006au Thin Light Laptop Reviews: Latest Review of Hp 15s Ryzen 3 Dual Core 3250u 4 Gb 1 Tb Hdd Windows 10 Home 15s Gr0006au Thin Light Laptop | Price in India | Flipkart.com\"><meta name=\"twitter:description\" content=\"Shop for electronics, apparels & more using our Flipkart app Free shipping & COD.\"><meta name=\"twitter:app:country\" content=\"in\"><meta name=\"al:ios:app_name\" content=\"Flipkart\"><meta name=\"al:ios:app_store_id\" content=\"742044692\"><meta name=\"twitter:app:name:iphone\" content=\"Flipkart\"><meta name=\"twitter:app:id:iphone\" content=\"742044692\"><meta name=\"twitter:app:url:iphone\" content=\"http://dl.flipkart.com/dl/home?\"><meta name=\"twitter:app:name:ipad\" content=\"Flipkart\"><meta name=\"twitter:app:id:ipad\" content=\"742044692\"><meta name=\"twitter:app:url:ipad\" content=\"http://dl.flipkart.com/dl/home?\"><meta name=\"twitter:app:name:googleplay\" content=\"Flipkart\"><meta name=\"twitter:app:id:googleplay\" content=\"com.flipkart.android\"><meta name=\"twitter:app:url:googleplay\" content=\"http://dl.flipkart.com/dl/home?\"><style>#container {\\n\\t\\t\\theight: 100%;\\n\\t\\t}</style>  <link rel=\"stylesheet\" href=\"///fk-cp-zion/css/AllReviewsPage.chunk.9b07d6.css\"/><title>Hp 15s Ryzen 3 Dual Core 3250u 4 Gb 1 Tb Hdd Windows 10 Home 15s Gr0006au Thin Light Laptop Reviews: Latest Review of Hp 15s Ryzen 3 Dual Core 3250u 4 Gb 1 Tb Hdd Windows 10 Home 15s Gr0006au Thin Light Laptop | Price in India | Flipkart.com</title><meta name=\"og_title\" property=\"og:title\" content=\"Hp 15s Ryzen 3 Dual Core 3250u 4 Gb 1 Tb Hdd Windows 10 Home 15s Gr0006au Thin Light Laptop Reviews: Latest Review of Hp 15s Ryzen 3 Dual Core 3250u 4 Gb 1 Tb Hdd Windows 10 Home 15s Gr0006au Thin Light Laptop | Price in India | Flipkart.com\"/><meta name=\"Keywords\" content=\"Hp 15s Ryzen 3 Dual Core 3250u 4 Gb 1 Tb Hdd Windows 10 Home 15s Gr0006au Thin Light Laptop Reviews\"/> <meta name=\"Description\" content=\"Read Latest Reviews of Hp 15s Ryzen 3 Dual Core 3250u 4 Gb 1 Tb Hdd Windows 10 Home 15s Gr0006au Thin Light Laptop on Flipkart.com. Find genuine customer reviews and ratings. Buy Hp 15s Ryzen 3 Dual Core 3250u 4 Gb 1 Tb Hdd Windows 10 Home 15s Gr0006au Thin Light Laptop at best prices on Flipkart.com.\"/><meta property=\"og:description\" content=\"Read Latest Reviews of Hp 15s Ryzen 3 Dual Core 3250u 4 Gb 1 Tb Hdd Windows 10 Home 15s Gr0006au Thin Light Laptop on Flipkart.com. Find genuine customer reviews and ratings. Buy Hp 15s Ryzen 3 Dual Core 3250u 4 Gb 1 Tb Hdd Windows 10 Home 15s Gr0006au Thin Light Laptop at best prices on Flipkart.com.\"/>  <link rel=\"canonical\" href=\"http://www.flipkart.com/hp-15s-ryzen-3-dual-core-3250u-4-gb-1-tb-hdd-windows-10-home-15s-gr0006au-thin-light-laptop/product-reviews/itmdbb2d234797b6?pid&#x3D;COMFZHZFZFFBJBHH\"/>     <meta name=\"og_url\" property=\"og:url\" content=\"http://www.flipkart.com/hp-15s-ryzen-3-dual-core-3250u-4-gb-1-tb-hdd-windows-10-home-15s-gr0006au-thin-light-laptop/product-reviews/itmdbb2d234797b6?pid&#x3D;COMFZHZFZFFBJBHH\"/><meta name=\"msvalidate.01\" content=\"F4EEB3A0AFFDD385992A06E6920C0AC3\"/> <!--[if IE 9 ]>\\n\\t<script nonce=\"7163311636887418669\">\\n\\t\\twindow.browserVersion = \\'IE9\\';\\n\\t\\tdocument.documentElement.className += \\' ie9\\';\\n\\t</script>\\n\\t<![endif]--><!--[if !IE]><!--><script nonce=\"7163311636887418669\">if (/*@cc_on!@*/false) {\\n\\t\\t\\twindow.browserVersion = \\'IE10\\';\\n\\t\\t\\tdocument.documentElement.className += \\' ie10\\';\\n\\t\\t}</script><!--<![endif]-->   <script nonce=\"7163311636887418669\">!function(){if(\"PerformancePaintTiming\" in window){var e=window.__perf={e:[]};e.o=new PerformanceObserver(function(n){e.e=e.e.concat(n.getEntries())});try{e.o.observe({entryTypes:[\"paint\"]})}catch(e){}}}();\\n\\n\\t\\tif (requestAnimationFrame && performance && performance.mark) {\\n\\t\\t\\trequestAnimationFrame(function () {\\n\\t\\t\\t\\twindow.first_paint = performance.now();\\n\\t\\t\\t\\tperformance.mark(\"first_paint\");\\n\\t\\t\\t});\\n\\t\\t}\\n\\n        // web-vitals polyfill for FID\\n        !function(n,e){var t,o,i,c=[],f={passive:!0,capture:!0},r=new Date,a=\"pointerup\",u=\"pointercancel\";function p(n,c){t||(t=c,o=n,i=new Date,w(e),s())}function s(){o>=0&&o<i-r&&(c.forEach(function(n){n(o,t)}),c=[])}function l(t){if(t.cancelable){var o=(t.timeStamp>1e12?new Date:performance.now())-t.timeStamp;\"pointerdown\"==t.type?function(t,o){function i(){p(t,o),r()}function c(){r()}function r(){e(a,i,f),e(u,c,f)}n(a,i,f),n(u,c,f)}(o,t):p(o,t)}}function w(n){[\"click\",\"mousedown\",\"keydown\",\"touchstart\",\"pointerdown\"].forEach(function(e){n(e,l,f)})}w(n),self.perfMetrics=self.perfMetrics||{},self.perfMetrics.onFirstInputDelay=function(n){c.push(n),s()}}(addEventListener,removeEventListener);</script><script async src=\"https://www.googletagmanager.com/gtag/js?id=AW-594691041\"></script><script nonce=\"7163311636887418669\">window.dataLayer = window.dataLayer || [];\\n\\t\\tfunction gtag(){dataLayer.push(arguments)};\\n\\t\\tgtag(\\'js\\', new Date());</script></head><body><div id=\"container\"><div><div class=\"_1kfTjk\"><div class=\"_1rH5Jn\"><div class=\"_1TmfNK\"></div><div class=\"_2Xfa2_\"><div class=\"_3_C9Hx\"><div class=\"_3qX0zy\"><a href=\"/\"><img width=\"75\" src=\"//static-assets-web.flixcart.com/fk-p-linchpin-web/fk-cp-zion/img/flipkart-plus_8d85f4.png\" alt=\"Flipkart\" title=\"Flipkart\" class=\"_2xm1JU\"/></a><a class=\"_21ljIi\" href=\"/plus\">Explore<!-- --> <span class=\"_2FVHGh\">Plus</span><img width=\"10\" src=\"//static-assets-web.flixcart.com/fk-p-linchpin-web/fk-cp-zion/img/plus_aef861.png\"/></a></div></div><div class=\"_1cmsER\"><form class=\"_2M8cLY header-form-search\" action=\"/search\" method=\"GET\"><div class=\"col-12-12 _2oO9oE\"><div class=\"_3OO5Xc\"><input type=\"text\" value=\"\" class=\"_3704LK\" title=\"Search for products, brands and more\" name=\"q\" autoComplete=\"off\" placeholder=\"Search for products, brands and more\"/></div><button class=\"L0Z3Pu\" type=\"submit\"><svg width=\"20\" height=\"20\" viewBox=\"0 0 17 18\" class=\"\" xmlns=\"http://www.w3.org/2000/svg\"><g fill=\"#2874F1\" fill-rule=\"evenodd\"><path class=\"_34RNph\" d=\"m11.618 9.897l4.225 4.212c.092.092.101.232.02.313l-1.465 1.46c-.081.081-.221.072-.314-.02l-4.216-4.203\"></path><path class=\"_34RNph\" d=\"m6.486 10.901c-2.42 0-4.381-1.956-4.381-4.368 0-2.413 1.961-4.369 4.381-4.369 2.42 0 4.381 1.956 4.381 4.369 0 2.413-1.961 4.368-4.381 4.368m0-10.835c-3.582 0-6.486 2.895-6.486 6.467 0 3.572 2.904 6.467 6.486 6.467 3.582 0 6.486-2.895 6.486-6.467 0-3.572-2.904-6.467-6.486-6.467\"></path></g></svg></button><input type=\"hidden\" name=\"otracker\" value=\"search\"/><input type=\"hidden\" name=\"otracker1\" value=\"search\"/><input type=\"hidden\" name=\"marketplace\" value=\"FLIPKART\"/><input type=\"hidden\" name=\"as-show\" value=\"off\"/><input type=\"hidden\" name=\"as\" value=\"off\"/></div><ul class=\"col-12-12 _1MRYA1\"></ul></form></div><div class=\"go_DOp _2errNR\"><div class=\"_28p97w\"><div class=\"_1psGvi _3BvnxG\"><div><a class=\"_1_3w1N\" href=\"/account/login?ret=/hp-15s-ryzen-3-dual-core-3250u-4-gb-1-tb-hdd-windows-10-home-15s-gr0006au-thin-light-laptop/product-reviews/itmdbb2d234797b6%3Fpid%3DCOMFZHZFZFFBJBHH%26lid%3DLSTCOMFZHZFZFFBJBHH7WNMPE%26marketplace%3DFLIPKART\">Login</a></div></div></div></div><div class=\"go_DOp\"><a href=\"https://seller.flipkart.com/sell-online/?utm_source=fkwebsite&amp;utm_medium=websitedirect\" class=\"_3-PJz-\"><span>Become a Seller</span></a></div><div class=\"go_DOp\"><div class=\"_28p97w\"><div class=\"_1psGvi _3BvnxG\"><div><div class=\"exehdJ\"> <!-- -->More<!-- --> </div></div></div><svg width=\"4.7\" height=\"8\" viewBox=\"0 0 16 27\" xmlns=\"http://www.w3.org/2000/svg\" class=\"zZ3yfL\"><path d=\"M16 23.207L6.11 13.161 16 3.093 12.955 0 0 13.161l12.955 13.161z\" fill=\"#fff\" class=\"_2gTTdy\"></path></svg></div></div><div class=\"go_DOp\"><div class=\"_1psGvi\"><div class=\"YUhWwv\"><a class=\"_3SkBxJ\" href=\"/viewcart?exploreMode=true&amp;preference=FLIPKART\"><svg class=\"V3C5bO\" width=\"14\" height=\"14\" viewBox=\"0 0 16 16\" xmlns=\"http://www.w3.org/2000/svg\"><path class=\"_1bS9ic\" d=\"M15.32 2.405H4.887C3 2.405 2.46.805 2.46.805L2.257.21C2.208.085 2.083 0 1.946 0H.336C.1 0-.064.24.024.46l.644 1.945L3.11 9.767c.047.137.175.23.32.23h8.418l-.493 1.958H3.768l.002.003c-.017 0-.033-.003-.05-.003-1.06 0-1.92.86-1.92 1.92s.86 1.92 1.92 1.92c.99 0 1.805-.75 1.91-1.712l5.55.076c.12.922.91 1.636 1.867 1.636 1.04 0 1.885-.844 1.885-1.885 0-.866-.584-1.593-1.38-1.814l2.423-8.832c.12-.433-.206-.86-.655-.86\" fill=\"#fff\"></path></svg><span>Cart</span></a></div></div></div></div><div class=\"_1TmfNK\"></div></div><div class=\"_1mUdNz\"></div></div><div class=\"_331-kn\"></div><div class=\"_2tsNFb\"><div class=\"_6t1WkM _3HqJxg\"><div class=\"_1YokD2 _2GoDe3 col-12-12\"><div class=\"_1YokD2 _3Mn1Gg col-3-12\" style=\"border-right:1px solid #f0f0f0\"><div class=\"_1AtVbE col-12-12\"><div class=\"_4ddWXP _3BCh3_ _G-HdA\"><a class=\"_2rpwqI\" title=\"HP 15s Ryzen 3 Dual Core 3250U - (4 GB/1 TB HDD/Windows 10 Home) 15s-GR0006AU Thin and Light Laptop\" target=\"_blank\" rel=\"noopener noreferrer\" href=\"/hp-15s-ryzen-3-dual-core-3250u-4-gb-1-tb-hdd-windows-10-home-15s-gr0006au-thin-light-laptop/p/itmdbb2d234797b6?pid=COMFZHZFZFFBJBHH&amp;fm=organic&amp;ppt=None&amp;ppn=None&amp;ssid=tkyymiyx340000001682344797706\"><div class=\"_28_T72\"><div><div class=\"CXW8mj\" style=\"height:246px;width:246px\"><img loading=\"eager\" class=\"_396cs4\" alt=\"HP 15s Ryzen 3 Dual Core 3250U - (4 GB/1 TB HDD/Windows 10 Home) 15s-GR0006AU Thin and Light Laptop\" src=\"https://rukminim1.flixcart.com/image/312/312/kk76wsw0/computer/8/2/2/hp-original-imafzhsyh6qaydrz.jpeg?q=70\"/></div></div></div></a><div><div><a title=\"HP 15s Ryzen 3 Dual Core 3250U - (4 GB/1 TB HDD/Windows 10 Home) 15s-GR0006AU Thin and Light Laptop\" class=\"s1Q9rs _2qfgz2\" target=\"_blank\" rel=\"noopener noreferrer\" href=\"/hp-15s-ryzen-3-dual-core-3250u-4-gb-1-tb-hdd-windows-10-home-15s-gr0006au-thin-light-laptop/p/itmdbb2d234797b6?pid=COMFZHZFZFFBJBHH&amp;fm=organic&amp;ppt=None&amp;ppn=None&amp;ssid=tkyymiyx340000001682344797706\">HP 15s Ryzen 3 Dual Core 3250U - (4 GB/1 TB HDD/Windows 10 Hom...</a></div><div class=\"gUuXy-\"><span id=\"productRating_LSTCOMFZHZFZFFBJBHH7WNMPE_COMFZHZFZFFBJBHH_\" class=\"_1lRcqv\"><div class=\"_3LWZlK\">3.8<img src=\"data:image/svg+xml;base64,PHN2ZyB4bWxucz0iaHR0cDovL3d3dy53My5vcmcvMjAwMC9zdmciIHdpZHRoPSIxMyIgaGVpZ2h0PSIxMiI+PHBhdGggZmlsbD0iI0ZGRiIgZD0iTTYuNSA5LjQzOWwtMy42NzQgMi4yMy45NC00LjI2LTMuMjEtMi44ODMgNC4yNTQtLjQwNEw2LjUuMTEybDEuNjkgNC4wMSA0LjI1NC40MDQtMy4yMSAyLjg4Mi45NCA0LjI2eiIvPjwvc3ZnPg==\" class=\"_1wB99o\"/></div></span><span class=\"_2_R_DZ\"><span><span>1,609 Ratings\\xc2\\xa0</span><span class=\"_13vcmD\">&amp;</span><span>\\xc2\\xa0218 Reviews</span></span></span></div><div class=\"_8VNy32 lnJjg0\"><div class=\"_25b18c\"><div class=\"_30jeq3\">\\xe2\\x82\\xb932,990</div><div class=\"_3I9_wc\">\\xe2\\x82\\xb9<!-- -->34,480</div><div class=\"_3Ay6Sb\"><span>4% off</span></div></div></div></div></div></div><div class=\"_1AtVbE col-12-12\" style=\"border-top:1px solid #f0f0f0\"><div class=\"_1LsTqa\"><div class=\"jEaykx\"><span>User Images</span></div><div class=\"_2nMSwX _2ajiBF\"><div class=\"_21YjFX _3NGqA1\" style=\"background-image:url(https://rukminim1.flixcart.com/blobio/140/140/imr-202103/blobio-imr-202103_27608966d1084865a889246c1c61951e.jpg?q=90), url(data:image/svg+xml;base64,PHN2ZyB3aWR0aD0iMjIiIGhlaWdodD0iMTgiIHhtbG5zPSJodHRwOi8vd3d3LnczLm9yZy8yMDAwL3N2ZyI+PGcgZmlsbD0iIzlEOUQ5RCIgZmlsbC1ydWxlPSJub256ZXJvIj48cGF0aCBkPSJNMjAgMEgyQzEgMCAwIDEgMCAydjE0YzAgMS4xLjkgMiAyIDJoMThjMSAwIDItMSAyLTJWMmMwLTEtMS0yLTItMnptMCAxNS45MmMtLjAyLjAzLS4wNi4wNi0uMDguMDhIMlYyLjA4TDIuMDggMmgxNy44M2MuMDMuMDIuMDYuMDYuMDguMDh2MTMuODRIMjB6Ii8+PHBhdGggZD0iTTEwIDEyLjUxTDcuNSA5LjUgNCAxNGgxNGwtNC41LTZ6Ii8+PC9nPjwvc3ZnPg==);width:70px;height:70px\"></div><div class=\"_21YjFX _3NGqA1\" style=\"background-image:url(https://rukminim1.flixcart.com/blobio/140/140/imr-202103/blobio-imr-202103_fdd6cfde43ed4d52ae2f5d75c9318647.jpg?q=90), url(data:image/svg+xml;base64,PHN2ZyB3aWR0aD0iMjIiIGhlaWdodD0iMTgiIHhtbG5zPSJodHRwOi8vd3d3LnczLm9yZy8yMDAwL3N2ZyI+PGcgZmlsbD0iIzlEOUQ5RCIgZmlsbC1ydWxlPSJub256ZXJvIj48cGF0aCBkPSJNMjAgMEgyQzEgMCAwIDEgMCAydjE0YzAgMS4xLjkgMiAyIDJoMThjMSAwIDItMSAyLTJWMmMwLTEtMS0yLTItMnptMCAxNS45MmMtLjAyLjAzLS4wNi4wNi0uMDguMDhIMlYyLjA4TDIuMDggMmgxNy44M2MuMDMuMDIuMDYuMDYuMDguMDh2MTMuODRIMjB6Ii8+PHBhdGggZD0iTTEwIDEyLjUxTDcuNSA5LjUgNCAxNGgxNGwtNC41LTZ6Ii8+PC9nPjwvc3ZnPg==);width:70px;height:70px\"></div><div class=\"_21YjFX _3NGqA1\" style=\"background-image:url(https://rukminim1.flixcart.com/blobio/140/140/imr-202104/blobio-imr-202104_1921e3b49e424ab6abfb24462c02d1c8.jpg?q=90), url(data:image/svg+xml;base64,PHN2ZyB3aWR0aD0iMjIiIGhlaWdodD0iMTgiIHhtbG5zPSJodHRwOi8vd3d3LnczLm9yZy8yMDAwL3N2ZyI+PGcgZmlsbD0iIzlEOUQ5RCIgZmlsbC1ydWxlPSJub256ZXJvIj48cGF0aCBkPSJNMjAgMEgyQzEgMCAwIDEgMCAydjE0YzAgMS4xLjkgMiAyIDJoMThjMSAwIDItMSAyLTJWMmMwLTEtMS0yLTItMnptMCAxNS45MmMtLjAyLjAzLS4wNi4wNi0uMDguMDhIMlYyLjA4TDIuMDggMmgxNy44M2MuMDMuMDIuMDYuMDYuMDguMDh2MTMuODRIMjB6Ii8+PHBhdGggZD0iTTEwIDEyLjUxTDcuNSA5LjUgNCAxNGgxNGwtNC41LTZ6Ii8+PC9nPjwvc3ZnPg==);width:70px;height:70px\"></div><div class=\"_21YjFX _3NGqA1\" style=\"background-image:url(https://rukminim1.flixcart.com/blobio/140/140/imr-202104/blobio-imr-202104_a012684e75274c81923f60560eb6354b.jpg?q=90), url(data:image/svg+xml;base64,PHN2ZyB3aWR0aD0iMjIiIGhlaWdodD0iMTgiIHhtbG5zPSJodHRwOi8vd3d3LnczLm9yZy8yMDAwL3N2ZyI+PGcgZmlsbD0iIzlEOUQ5RCIgZmlsbC1ydWxlPSJub256ZXJvIj48cGF0aCBkPSJNMjAgMEgyQzEgMCAwIDEgMCAydjE0YzAgMS4xLjkgMiAyIDJoMThjMSAwIDItMSAyLTJWMmMwLTEtMS0yLTItMnptMCAxNS45MmMtLjAyLjAzLS4wNi4wNi0uMDguMDhIMlYyLjA4TDIuMDggMmgxNy44M2MuMDMuMDIuMDYuMDYuMDguMDh2MTMuODRIMjB6Ii8+PHBhdGggZD0iTTEwIDEyLjUxTDcuNSA5LjUgNCAxNGgxNGwtNC41LTZ6Ii8+PC9nPjwvc3ZnPg==);width:70px;height:70px\"></div><div class=\"_21YjFX _3NGqA1\" style=\"background-image:url(https://rukminim1.flixcart.com/blobio/140/140/imr-202104/blobio-imr-202104_5ed4e0906678432fa30e5ad61a5e2e6c.jpg?q=90), url(data:image/svg+xml;base64,PHN2ZyB3aWR0aD0iMjIiIGhlaWdodD0iMTgiIHhtbG5zPSJodHRwOi8vd3d3LnczLm9yZy8yMDAwL3N2ZyI+PGcgZmlsbD0iIzlEOUQ5RCIgZmlsbC1ydWxlPSJub256ZXJvIj48cGF0aCBkPSJNMjAgMEgyQzEgMCAwIDEgMCAydjE0YzAgMS4xLjkgMiAyIDJoMThjMSAwIDItMSAyLTJWMmMwLTEtMS0yLTItMnptMCAxNS45MmMtLjAyLjAzLS4wNi4wNi0uMDguMDhIMlYyLjA4TDIuMDggMmgxNy44M2MuMDMuMDIuMDYuMDYuMDguMDh2MTMuODRIMjB6Ii8+PHBhdGggZD0iTTEwIDEyLjUxTDcuNSA5LjUgNCAxNGgxNGwtNC41LTZ6Ii8+PC9nPjwvc3ZnPg==);width:70px;height:70px\"></div><div class=\"_21YjFX _3NGqA1\" style=\"background-image:url(https://rukminim1.flixcart.com/blobio/140/140/imr-202103/blobio-imr-202103_aa8be26824314b2bab4d33c4626faac3.jpg?q=90), url(data:image/svg+xml;base64,PHN2ZyB3aWR0aD0iMjIiIGhlaWdodD0iMTgiIHhtbG5zPSJodHRwOi8vd3d3LnczLm9yZy8yMDAwL3N2ZyI+PGcgZmlsbD0iIzlEOUQ5RCIgZmlsbC1ydWxlPSJub256ZXJvIj48cGF0aCBkPSJNMjAgMEgyQzEgMCAwIDEgMCAydjE0YzAgMS4xLjkgMiAyIDJoMThjMSAwIDItMSAyLTJWMmMwLTEtMS0yLTItMnptMCAxNS45MmMtLjAyLjAzLS4wNi4wNi0uMDguMDhIMlYyLjA4TDIuMDggMmgxNy44M2MuMDMuMDIuMDYuMDYuMDguMDh2MTMuODRIMjB6Ii8+PHBhdGggZD0iTTEwIDEyLjUxTDcuNSA5LjUgNCAxNGgxNGwtNC41LTZ6Ii8+PC9nPjwvc3ZnPg==);width:70px;height:70px\"></div><div class=\"_21YjFX _3NGqA1\" style=\"background-image:url(https://rukminim1.flixcart.com/blobio/140/140/imr-202103/blobio-imr-202103_1160a428fabe42269d5d47166c4b1516.jpg?q=90), url(data:image/svg+xml;base64,PHN2ZyB3aWR0aD0iMjIiIGhlaWdodD0iMTgiIHhtbG5zPSJodHRwOi8vd3d3LnczLm9yZy8yMDAwL3N2ZyI+PGcgZmlsbD0iIzlEOUQ5RCIgZmlsbC1ydWxlPSJub256ZXJvIj48cGF0aCBkPSJNMjAgMEgyQzEgMCAwIDEgMCAydjE0YzAgMS4xLjkgMiAyIDJoMThjMSAwIDItMSAyLTJWMmMwLTEtMS0yLTItMnptMCAxNS45MmMtLjAyLjAzLS4wNi4wNi0uMDguMDhIMlYyLjA4TDIuMDggMmgxNy44M2MuMDMuMDIuMDYuMDYuMDguMDh2MTMuODRIMjB6Ii8+PHBhdGggZD0iTTEwIDEyLjUxTDcuNSA5LjUgNCAxNGgxNGwtNC41LTZ6Ii8+PC9nPjwvc3ZnPg==);width:70px;height:70px\"></div><div class=\"_21YjFX _3NGqA1 RU6t0j\" style=\"background-image:url(https://rukminim1.flixcart.com/blobio/140/140/imr-202104/blobio-imr-202104_93955492db044b48920e88c9119f6e67.jpg?q=90), url(data:image/svg+xml;base64,PHN2ZyB3aWR0aD0iMjIiIGhlaWdodD0iMTgiIHhtbG5zPSJodHRwOi8vd3d3LnczLm9yZy8yMDAwL3N2ZyI+PGcgZmlsbD0iIzlEOUQ5RCIgZmlsbC1ydWxlPSJub256ZXJvIj48cGF0aCBkPSJNMjAgMEgyQzEgMCAwIDEgMCAydjE0YzAgMS4xLjkgMiAyIDJoMThjMSAwIDItMSAyLTJWMmMwLTEtMS0yLTItMnptMCAxNS45MmMtLjAyLjAzLS4wNi4wNi0uMDguMDhIMlYyLjA4TDIuMDggMmgxNy44M2MuMDMuMDIuMDYuMDYuMDguMDh2MTMuODRIMjB6Ii8+PHBhdGggZD0iTTEwIDEyLjUxTDcuNSA5LjUgNCAxNGgxNGwtNC41LTZ6Ii8+PC9nPjwvc3ZnPg==);width:70px;height:70px\"><span class=\"_380ehC\">+ <!-- -->28</span></div></div></div></div></div><div class=\"_1YokD2 _3Mn1Gg col-9-12\"><div class=\"_1YokD2 _3Mn1Gg col-12-12\" style=\"border-bottom:1px solid #f0f0f0\"><div class=\"_1YokD2 _2GoDe3 col-12-12\"><div class=\"_1AtVbE col-10-12\"><div class=\"_2s4DIt _1CDdy2\">HP 15s Ryzen 3 Dual Core 3250U - (4 GB/1 TB HDD/Windows 10 Home) 15s-GR0006AU Thin and Light Laptop Reviews</div></div><div class=\"_1AtVbE\" style=\"flex-grow:1;overflow:initital\"><div class=\"gEkCyh\"><div class=\"_3uXCGr\"><div class=\"_2ECNXS\"><div class=\"_1cpOwe tVKh2S\"><select class=\"_1EDlbo tVKh2S\" name=\"sortFilter\"><option selected=\"\" value=\"MOST_HELPFUL\">Most Helpful</option><option value=\"MOST_RECENT\">Most Recent</option><option value=\"POSITIVE_FIRST\">Positive First</option><option value=\"NEGATIVE_FIRST\">Negative First</option></select><span class=\"_2NY3xT _2VZJIQ\"></span></div></div></div></div></div></div><div class=\"_1AtVbE col-12-12\"><div class=\"_33iqLu\"><div><a class=\"_203_Tp\" href=\"/hp-15s-ryzen-3-dual-core-3250u-4-gb-1-tb-hdd-windows-10-home-15s-gr0006au-thin-light-laptop/product-reviews/itmdbb2d234797b6?pid=COMFZHZFZFFBJBHH&amp;lid=LSTCOMFZHZFZFFBJBHH7WNMPE&amp;sortOrder=MOST_HELPFUL&amp;certifiedBuyer=false&amp;aid=overall\"><span class=\"_1YKVER _203_Tp\">Overall</span></a><a class=\"\" href=\"/hp-15s-ryzen-3-dual-core-3250u-4-gb-1-tb-hdd-windows-10-home-15s-gr0006au-thin-light-laptop/product-reviews/itmdbb2d234797b6?pid=COMFZHZFZFFBJBHH&amp;lid=LSTCOMFZHZFZFFBJBHH7WNMPE&amp;sortOrder=MOST_HELPFUL&amp;certifiedBuyer=false&amp;aid=bb0d522c-0d71-4218-bf8d-59f4f6d9619b\"><span class=\"_1YKVER\">Performance</span></a><a class=\"\" href=\"/hp-15s-ryzen-3-dual-core-3250u-4-gb-1-tb-hdd-windows-10-home-15s-gr0006au-thin-light-laptop/product-reviews/itmdbb2d234797b6?pid=COMFZHZFZFFBJBHH&amp;lid=LSTCOMFZHZFZFFBJBHH7WNMPE&amp;sortOrder=MOST_HELPFUL&amp;certifiedBuyer=false&amp;aid=f2b10aa8-b719-4f2e-b49e-38056d41a9a5\"><span class=\"_1YKVER\">Battery</span></a><a class=\"\" href=\"/hp-15s-ryzen-3-dual-core-3250u-4-gb-1-tb-hdd-windows-10-home-15s-gr0006au-thin-light-laptop/product-reviews/itmdbb2d234797b6?pid=COMFZHZFZFFBJBHH&amp;lid=LSTCOMFZHZFZFFBJBHH7WNMPE&amp;sortOrder=MOST_HELPFUL&amp;certifiedBuyer=false&amp;aid=a785ae91-3171-460c-a347-e08ec6e4e5c9\"><span class=\"_1YKVER\">Design</span></a><a class=\"\" href=\"/hp-15s-ryzen-3-dual-core-3250u-4-gb-1-tb-hdd-windows-10-home-15s-gr0006au-thin-light-laptop/product-reviews/itmdbb2d234797b6?pid=COMFZHZFZFFBJBHH&amp;lid=LSTCOMFZHZFZFFBJBHH7WNMPE&amp;sortOrder=MOST_HELPFUL&amp;certifiedBuyer=false&amp;aid=09d5f4d3-52b2-4a2a-a97d-c285003eb3a5\"><span class=\"_1YKVER\">Display</span></a><a class=\"\" href=\"/hp-15s-ryzen-3-dual-core-3250u-4-gb-1-tb-hdd-windows-10-home-15s-gr0006au-thin-light-laptop/product-reviews/itmdbb2d234797b6?pid=COMFZHZFZFFBJBHH&amp;lid=LSTCOMFZHZFZFFBJBHH7WNMPE&amp;sortOrder=MOST_HELPFUL&amp;certifiedBuyer=false&amp;aid=41d28ac9-025c-45d9-a8c1-8fe347ceab25\"><span class=\"_1YKVER\">Value for Money</span></a></div></div></div></div><div class=\"_1AtVbE col-12-12\"><div class=\"row Bfvo5l\"><div class=\"col-4-12 _17ETNY\"><div class=\"col\"><div class=\"row\"><div class=\"col-12-12 _1azcI6\"><div class=\"_2d4LTz\">3.8</div><div class=\"_2yxeXv\">\\xe2\\x98\\x85</div></div></div><div class=\"row _2afbiS\"><div class=\"col-12-12\"><span>1,609 Ratings &amp;</span></div></div><div class=\"row _2afbiS\"><div class=\"col-12-12\"><span>218 Reviews</span></div></div></div></div><div class=\"col-8-12\"><div class=\"_13sFCC miQW6D _2m9Pwo\"><ul class=\"_2jr1F_\"><li class=\"_28Xb_u\"><div class=\"omG9iE\"><span class=\"_26f_zl\">5</span><span class=\"_2xBWPJ\">\\xe2\\x98\\x85</span></div></li><li class=\"_28Xb_u\"><div class=\"omG9iE\"><span class=\"_26f_zl\">4</span><span class=\"_2xBWPJ\">\\xe2\\x98\\x85</span></div></li><li class=\"_28Xb_u\"><div class=\"omG9iE\"><span class=\"_26f_zl\">3</span><span class=\"_2xBWPJ\">\\xe2\\x98\\x85</span></div></li><li class=\"_28Xb_u\"><div class=\"omG9iE\"><span class=\"_26f_zl\">2</span><span class=\"_2xBWPJ\">\\xe2\\x98\\x85</span></div></li><li class=\"_28Xb_u\"><div class=\"omG9iE\"><span class=\"_26f_zl\">1</span><span class=\"_2xBWPJ\">\\xe2\\x98\\x85</span></div></li></ul><ul class=\"_2Plkj9\"><li class=\"_28Xb_u\"><div><div class=\"_3UaKsS\"><span style=\"width:100%\" class=\"EkB-Xt _1z2lGe\"></span></div></div></li><li class=\"_28Xb_u\"><div><div class=\"_3UaKsS\"><span style=\"width:62.664714494875554%\" class=\"EkB-Xt _2fGXyl\"></span></div></div></li><li class=\"_28Xb_u\"><div><div class=\"_3UaKsS\"><span style=\"width:28.257686676427525%\" class=\"EkB-Xt _1ia31G\"></span></div></div></li><li class=\"_28Xb_u\"><div><div class=\"_3UaKsS\"><span style=\"width:16.398243045387993%\" class=\"EkB-Xt HnnP7O\"></span></div></div></li><li class=\"_28Xb_u\"><div><div class=\"_3UaKsS\"><span style=\"width:28.257686676427525%\" class=\"EkB-Xt _2W5rgh\"></span></div></div></li></ul><ul class=\"_36LmXx\"><li class=\"_28Xb_u\"><div class=\"_1uJVNT\">683</div></li><li class=\"_28Xb_u\"><div class=\"_1uJVNT\">428</div></li><li class=\"_28Xb_u\"><div class=\"_1uJVNT\">193</div></li><li class=\"_28Xb_u\"><div class=\"_1uJVNT\">112</div></li><li class=\"_28Xb_u\"><div class=\"_1uJVNT\">193</div></li></ul></div></div></div></div><div class=\"_1AtVbE col-12-12\"><div class=\"_27M-vq\"><div class=\"col\"><div class=\"col _2wzgFH K0kLPL\"><div class=\"row\"><div class=\"_3LWZlK _1BLPMq\">4<img src=\"data:image/svg+xml;base64,PHN2ZyB4bWxucz0iaHR0cDovL3d3dy53My5vcmcvMjAwMC9zdmciIHdpZHRoPSIxMyIgaGVpZ2h0PSIxMiI+PHBhdGggZmlsbD0iI0ZGRiIgZD0iTTYuNSA5LjQzOWwtMy42NzQgMi4yMy45NC00LjI2LTMuMjEtMi44ODMgNC4yNTQtLjQwNEw2LjUuMTEybDEuNjkgNC4wMSA0LjI1NC40MDQtMy4yMSAyLjg4Mi45NCA0LjI2eiIvPjwvc3ZnPg==\" class=\"_1wB99o\"/></div><p class=\"_2-N8zT\">Very Good</p></div><div class=\"row\"><div class=\"t-ZTKy\"><div><div class=\"\">Read carefully.. My Experience was complicated just because of boot time i.e. on/off time was too long until I didn\\'t go for updates but once I have done all updates... I am telling you guys...Maska..hai.. Maska..<br/><br/>Superb performance.. and look wise i liked it very much. I use to play GT racing without any lag..<br/><br/>My daughter is also happy for her online studies.<br/><br/>My suggestion is that don\\'t think twice just go for it with Flipkart.<br/><br/>Thanks flipkart for very safe and on time delivery.</div><span class=\"_1H-bmy\"><span>READ MORE</span></span></div></div></div><div class=\"_2nMSwX _3oLIki\"><div class=\"_21YjFX _2A07HP\" style=\"background-image:url(https://rukminim1.flixcart.com/blobio/124/124/imr-202103/blobio-imr-202103_27608966d1084865a889246c1c61951e.jpg?q=90), url(data:image/svg+xml;base64,PHN2ZyB3aWR0aD0iMjIiIGhlaWdodD0iMTgiIHhtbG5zPSJodHRwOi8vd3d3LnczLm9yZy8yMDAwL3N2ZyI+PGcgZmlsbD0iIzlEOUQ5RCIgZmlsbC1ydWxlPSJub256ZXJvIj48cGF0aCBkPSJNMjAgMEgyQzEgMCAwIDEgMCAydjE0YzAgMS4xLjkgMiAyIDJoMThjMSAwIDItMSAyLTJWMmMwLTEtMS0yLTItMnptMCAxNS45MmMtLjAyLjAzLS4wNi4wNi0uMDguMDhIMlYyLjA4TDIuMDggMmgxNy44M2MuMDMuMDIuMDYuMDYuMDguMDh2MTMuODRIMjB6Ii8+PHBhdGggZD0iTTEwIDEyLjUxTDcuNSA5LjUgNCAxNGgxNGwtNC41LTZ6Ii8+PC9nPjwvc3ZnPg==);width:62px;height:62px\"></div><div class=\"_21YjFX _2A07HP\" style=\"background-image:url(https://rukminim1.flixcart.com/blobio/124/124/imr-202103/blobio-imr-202103_fdd6cfde43ed4d52ae2f5d75c9318647.jpg?q=90), url(data:image/svg+xml;base64,PHN2ZyB3aWR0aD0iMjIiIGhlaWdodD0iMTgiIHhtbG5zPSJodHRwOi8vd3d3LnczLm9yZy8yMDAwL3N2ZyI+PGcgZmlsbD0iIzlEOUQ5RCIgZmlsbC1ydWxlPSJub256ZXJvIj48cGF0aCBkPSJNMjAgMEgyQzEgMCAwIDEgMCAydjE0YzAgMS4xLjkgMiAyIDJoMThjMSAwIDItMSAyLTJWMmMwLTEtMS0yLTItMnptMCAxNS45MmMtLjAyLjAzLS4wNi4wNi0uMDguMDhIMlYyLjA4TDIuMDggMmgxNy44M2MuMDMuMDIuMDYuMDYuMDguMDh2MTMuODRIMjB6Ii8+PHBhdGggZD0iTTEwIDEyLjUxTDcuNSA5LjUgNCAxNGgxNGwtNC41LTZ6Ii8+PC9nPjwvc3ZnPg==);width:62px;height:62px\"></div></div><div class=\"row _3n8db9\"><div class=\"row\"><p class=\"_2sc7ZR _2V5EHH\">Vaibhav Bharati</p><svg width=\"14\" height=\"14\" viewBox=\"0 0 12 12\" xmlns=\"http://www.w3.org/2000/svg\" class=\"_2a1p_T\"><g><circle cx=\"6\" cy=\"6\" r=\"6\" fill=\"#878787\"></circle><path stroke=\"#FFF\" stroke-width=\"1.5\" d=\"M3 6l2 2 4-4\" fill=\"#878787\"></path></g></svg><p id=\"review-f88a17d0-9709-4071-a85c-a648a6b84275\" class=\"_2mcZGG\"><span>Certified Buyer</span><span>, Vasai Virar</span></p><div></div><p class=\"_2sc7ZR\">Mar, 2021</p></div><div class=\"_1e9_Zu\"><div class=\"row\"><div class=\"_27aTsS\"><div class=\"_1LmwT9\"><svg width=\"20\" height=\"15\" xmlns=\"http://www.w3.org/2000/svg\" class=\"skCrcq\"><path fill=\"#fff\" class=\"_1LIt4y\" d=\"M9.58.006c-.41.043-.794.32-1.01.728-.277.557-2.334 4.693-2.74 5.1-.41.407-.944.6-1.544.6v8.572h7.5c.45 0 .835-.28 1.007-.665 0 0 2.207-6.234 2.207-6.834 0-.6-.47-1.072-1.07-1.072h-3.216c-.6 0-1.07-.535-1.07-1.07 0-.537.835-3.387 1.006-3.944.17-.557-.107-1.157-.664-1.35-.15-.043-.257-.086-.407-.064zM0 6.434v8.572h2.143V6.434H0z\" fill-rule=\"evenodd\"></path></svg><span class=\"_3c3Px5\">315</span></div><div class=\"_1LmwT9 pkR4jH\"><svg width=\"20\" height=\"15\" xmlns=\"http://www.w3.org/2000/svg\" class=\"skCrcq pkR4jH\"><path fill=\"#fff\" class=\"_1LIt4y\" d=\"M9.58.006c-.41.043-.794.32-1.01.728-.277.557-2.334 4.693-2.74 5.1-.41.407-.944.6-1.544.6v8.572h7.5c.45 0 .835-.28 1.007-.665 0 0 2.207-6.234 2.207-6.834 0-.6-.47-1.072-1.07-1.072h-3.216c-.6 0-1.07-.535-1.07-1.07 0-.537.835-3.387 1.006-3.944.17-.557-.107-1.157-.664-1.35-.15-.043-.257-.086-.407-.064zM0 6.434v8.572h2.143V6.434H0z\" fill-rule=\"evenodd\"></path></svg><span class=\"_3c3Px5\">66</span></div></div><div class=\"_2bmov8\"><svg width=\"6\" height=\"11\" viewBox=\"0 0 16 27\" xmlns=\"http://www.w3.org/2000/svg\" class=\"_2UvOBb\"><path d=\"M16 23.207L6.11 13.161 16 3.093 12.955 0 0 13.161l12.955 13.161z\" fill=\"#fff\" class=\"_2aPE6f\"></path></svg><div class=\"_3E8aIl _38dCuf\"><div class=\"_3XCI6U\"><a href=\"/reviews/COMFZHZFZFFBJBHH:14?reviewId=f88a17d0-9709-4071-a85c-a648a6b84275\"><span>Permalink</span></a></div><div class=\"_3XCI6U _2b2z-j\"><span>Report Abuse</span></div></div></div></div></div></div></div></div></div></div><div class=\"_1AtVbE col-12-12\"><div class=\"_27M-vq\"><div class=\"col\"><div class=\"col _2wzgFH K0kLPL\"><div class=\"row\"><div class=\"_3LWZlK _1BLPMq\">5<img src=\"data:image/svg+xml;base64,PHN2ZyB4bWxucz0iaHR0cDovL3d3dy53My5vcmcvMjAwMC9zdmciIHdpZHRoPSIxMyIgaGVpZ2h0PSIxMiI+PHBhdGggZmlsbD0iI0ZGRiIgZD0iTTYuNSA5LjQzOWwtMy42NzQgMi4yMy45NC00LjI2LTMuMjEtMi44ODMgNC4yNTQtLjQwNEw2LjUuMTEybDEuNjkgNC4wMSA0LjI1NC40MDQtMy4yMSAyLjg4Mi45NCA0LjI2eiIvPjwvc3ZnPg==\" class=\"_1wB99o\"/></div><p class=\"_2-N8zT\">Terrific</p></div><div class=\"row\"><div class=\"t-ZTKy\"><div><div class=\"\">#Price up to mark<br/>Its wonderful product for those ,who looking for  student and domestic work<br/><br/>1)Its just my dream lappi,(laptop)<br/>2)just go for laptop,its really awesome<br/>3)I just bought it for my project and bussiness work it\\'s awesome<br/>4)one of the best product from HP<br/>5)just price is little high ,it have to be reduced<br/>6) I loved it<br/>7) I recommend it for u,\\xf0\\x9f\\x92\\xaf\\xf0\\x9f\\x92\\xaf\\xe2\\x9d\\xa4\\xef\\xb8\\x8f</div><span class=\"_1H-bmy\"><span>READ MORE</span></span></div></div></div><div class=\"_2nMSwX _3oLIki\"><div class=\"_21YjFX _2A07HP\" style=\"background-image:url(https://rukminim1.flixcart.com/blobio/124/124/imr-202104/blobio-imr-202104_1921e3b49e424ab6abfb24462c02d1c8.jpg?q=90), url(data:image/svg+xml;base64,PHN2ZyB3aWR0aD0iMjIiIGhlaWdodD0iMTgiIHhtbG5zPSJodHRwOi8vd3d3LnczLm9yZy8yMDAwL3N2ZyI+PGcgZmlsbD0iIzlEOUQ5RCIgZmlsbC1ydWxlPSJub256ZXJvIj48cGF0aCBkPSJNMjAgMEgyQzEgMCAwIDEgMCAydjE0YzAgMS4xLjkgMiAyIDJoMThjMSAwIDItMSAyLTJWMmMwLTEtMS0yLTItMnptMCAxNS45MmMtLjAyLjAzLS4wNi4wNi0uMDguMDhIMlYyLjA4TDIuMDggMmgxNy44M2MuMDMuMDIuMDYuMDYuMDguMDh2MTMuODRIMjB6Ii8+PHBhdGggZD0iTTEwIDEyLjUxTDcuNSA5LjUgNCAxNGgxNGwtNC41LTZ6Ii8+PC9nPjwvc3ZnPg==);width:62px;height:62px\"></div><div class=\"_21YjFX _2A07HP\" style=\"background-image:url(https://rukminim1.flixcart.com/blobio/124/124/imr-202104/blobio-imr-202104_a012684e75274c81923f60560eb6354b.jpg?q=90), url(data:image/svg+xml;base64,PHN2ZyB3aWR0aD0iMjIiIGhlaWdodD0iMTgiIHhtbG5zPSJodHRwOi8vd3d3LnczLm9yZy8yMDAwL3N2ZyI+PGcgZmlsbD0iIzlEOUQ5RCIgZmlsbC1ydWxlPSJub256ZXJvIj48cGF0aCBkPSJNMjAgMEgyQzEgMCAwIDEgMCAydjE0YzAgMS4xLjkgMiAyIDJoMThjMSAwIDItMSAyLTJWMmMwLTEtMS0yLTItMnptMCAxNS45MmMtLjAyLjAzLS4wNi4wNi0uMDguMDhIMlYyLjA4TDIuMDggMmgxNy44M2MuMDMuMDIuMDYuMDYuMDguMDh2MTMuODRIMjB6Ii8+PHBhdGggZD0iTTEwIDEyLjUxTDcuNSA5LjUgNCAxNGgxNGwtNC41LTZ6Ii8+PC9nPjwvc3ZnPg==);width:62px;height:62px\"></div><div class=\"_21YjFX _2A07HP\" style=\"background-image:url(https://rukminim1.flixcart.com/blobio/124/124/imr-202104/blobio-imr-202104_5ed4e0906678432fa30e5ad61a5e2e6c.jpg?q=90), url(data:image/svg+xml;base64,PHN2ZyB3aWR0aD0iMjIiIGhlaWdodD0iMTgiIHhtbG5zPSJodHRwOi8vd3d3LnczLm9yZy8yMDAwL3N2ZyI+PGcgZmlsbD0iIzlEOUQ5RCIgZmlsbC1ydWxlPSJub256ZXJvIj48cGF0aCBkPSJNMjAgMEgyQzEgMCAwIDEgMCAydjE0YzAgMS4xLjkgMiAyIDJoMThjMSAwIDItMSAyLTJWMmMwLTEtMS0yLTItMnptMCAxNS45MmMtLjAyLjAzLS4wNi4wNi0uMDguMDhIMlYyLjA4TDIuMDggMmgxNy44M2MuMDMuMDIuMDYuMDYuMDguMDh2MTMuODRIMjB6Ii8+PHBhdGggZD0iTTEwIDEyLjUxTDcuNSA5LjUgNCAxNGgxNGwtNC41LTZ6Ii8+PC9nPjwvc3ZnPg==);width:62px;height:62px\"></div></div><div class=\"row _3n8db9\"><div class=\"row\"><p class=\"_2sc7ZR _2V5EHH\">MD MATHIN ALI</p><svg width=\"14\" height=\"14\" viewBox=\"0 0 12 12\" xmlns=\"http://www.w3.org/2000/svg\" class=\"_2a1p_T\"><g><circle cx=\"6\" cy=\"6\" r=\"6\" fill=\"#878787\"></circle><path stroke=\"#FFF\" stroke-width=\"1.5\" d=\"M3 6l2 2 4-4\" fill=\"#878787\"></path></g></svg><p id=\"review-79e454da-c1be-4dd7-9d1d-3a49e39dafe5\" class=\"_2mcZGG\"><span>Certified Buyer</span><span>, Jogulamba District</span></p><div></div><p class=\"_2sc7ZR\">Apr, 2021</p></div><div class=\"_1e9_Zu\"><div class=\"row\"><div class=\"_27aTsS\"><div class=\"_1LmwT9\"><svg width=\"20\" height=\"15\" xmlns=\"http://www.w3.org/2000/svg\" class=\"skCrcq\"><path fill=\"#fff\" class=\"_1LIt4y\" d=\"M9.58.006c-.41.043-.794.32-1.01.728-.277.557-2.334 4.693-2.74 5.1-.41.407-.944.6-1.544.6v8.572h7.5c.45 0 .835-.28 1.007-.665 0 0 2.207-6.234 2.207-6.834 0-.6-.47-1.072-1.07-1.072h-3.216c-.6 0-1.07-.535-1.07-1.07 0-.537.835-3.387 1.006-3.944.17-.557-.107-1.157-.664-1.35-.15-.043-.257-.086-.407-.064zM0 6.434v8.572h2.143V6.434H0z\" fill-rule=\"evenodd\"></path></svg><span class=\"_3c3Px5\">74</span></div><div class=\"_1LmwT9 pkR4jH\"><svg width=\"20\" height=\"15\" xmlns=\"http://www.w3.org/2000/svg\" class=\"skCrcq pkR4jH\"><path fill=\"#fff\" class=\"_1LIt4y\" d=\"M9.58.006c-.41.043-.794.32-1.01.728-.277.557-2.334 4.693-2.74 5.1-.41.407-.944.6-1.544.6v8.572h7.5c.45 0 .835-.28 1.007-.665 0 0 2.207-6.234 2.207-6.834 0-.6-.47-1.072-1.07-1.072h-3.216c-.6 0-1.07-.535-1.07-1.07 0-.537.835-3.387 1.006-3.944.17-.557-.107-1.157-.664-1.35-.15-.043-.257-.086-.407-.064zM0 6.434v8.572h2.143V6.434H0z\" fill-rule=\"evenodd\"></path></svg><span class=\"_3c3Px5\">25</span></div></div><div class=\"_2bmov8\"><svg width=\"6\" height=\"11\" viewBox=\"0 0 16 27\" xmlns=\"http://www.w3.org/2000/svg\" class=\"_2UvOBb\"><path d=\"M16 23.207L6.11 13.161 16 3.093 12.955 0 0 13.161l12.955 13.161z\" fill=\"#fff\" class=\"_2aPE6f\"></path></svg><div class=\"_3E8aIl _38dCuf\"><div class=\"_3XCI6U\"><a href=\"/reviews/COMFZHZFZFFBJBHH:57?reviewId=79e454da-c1be-4dd7-9d1d-3a49e39dafe5\"><span>Permalink</span></a></div><div class=\"_3XCI6U _2b2z-j\"><span>Report Abuse</span></div></div></div></div></div></div></div></div></div></div><div class=\"_1AtVbE col-12-12\"><div class=\"_27M-vq\"><div class=\"col\"><div class=\"col _2wzgFH K0kLPL\"><div class=\"row\"><div class=\"_3LWZlK _1BLPMq\">5<img src=\"data:image/svg+xml;base64,PHN2ZyB4bWxucz0iaHR0cDovL3d3dy53My5vcmcvMjAwMC9zdmciIHdpZHRoPSIxMyIgaGVpZ2h0PSIxMiI+PHBhdGggZmlsbD0iI0ZGRiIgZD0iTTYuNSA5LjQzOWwtMy42NzQgMi4yMy45NC00LjI2LTMuMjEtMi44ODMgNC4yNTQtLjQwNEw2LjUuMTEybDEuNjkgNC4wMSA0LjI1NC40MDQtMy4yMSAyLjg4Mi45NCA0LjI2eiIvPjwvc3ZnPg==\" class=\"_1wB99o\"/></div><p class=\"_2-N8zT\">Worth every penny</p></div><div class=\"row\"><div class=\"t-ZTKy\"><div><div class=\"\">Nice laptop and Ryzen 3 is a good processor for multi tasking... Design and color both are good. It\\'s better to go with this HP laptop in this price segment...</div><span class=\"_1H-bmy\"><span>READ MORE</span></span></div></div></div><div class=\"_2nMSwX _3oLIki\"><div class=\"_21YjFX _2A07HP\" style=\"background-image:url(https://rukminim1.flixcart.com/blobio/124/124/imr-202103/blobio-imr-202103_aa8be26824314b2bab4d33c4626faac3.jpg?q=90), url(data:image/svg+xml;base64,PHN2ZyB3aWR0aD0iMjIiIGhlaWdodD0iMTgiIHhtbG5zPSJodHRwOi8vd3d3LnczLm9yZy8yMDAwL3N2ZyI+PGcgZmlsbD0iIzlEOUQ5RCIgZmlsbC1ydWxlPSJub256ZXJvIj48cGF0aCBkPSJNMjAgMEgyQzEgMCAwIDEgMCAydjE0YzAgMS4xLjkgMiAyIDJoMThjMSAwIDItMSAyLTJWMmMwLTEtMS0yLTItMnptMCAxNS45MmMtLjAyLjAzLS4wNi4wNi0uMDguMDhIMlYyLjA4TDIuMDggMmgxNy44M2MuMDMuMDIuMDYuMDYuMDguMDh2MTMuODRIMjB6Ii8+PHBhdGggZD0iTTEwIDEyLjUxTDcuNSA5LjUgNCAxNGgxNGwtNC41LTZ6Ii8+PC9nPjwvc3ZnPg==);width:62px;height:62px\"></div></div><div class=\"row _3n8db9\"><div class=\"row\"><p class=\"_2sc7ZR _2V5EHH\">Sayani  Banerjee </p><svg width=\"14\" height=\"14\" viewBox=\"0 0 12 12\" xmlns=\"http://www.w3.org/2000/svg\" class=\"_2a1p_T\"><g><circle cx=\"6\" cy=\"6\" r=\"6\" fill=\"#878787\"></circle><path stroke=\"#FFF\" stroke-width=\"1.5\" d=\"M3 6l2 2 4-4\" fill=\"#878787\"></path></g></svg><p id=\"review-92aef6a6-9cfb-4412-b702-a9760dfb711e\" class=\"_2mcZGG\"><span>Certified Buyer</span><span>, Kolkata</span></p><div></div><p class=\"_2sc7ZR\">Mar, 2021</p></div><div class=\"_1e9_Zu\"><div class=\"row\"><div class=\"_27aTsS\"><div class=\"_1LmwT9\"><svg width=\"20\" height=\"15\" xmlns=\"http://www.w3.org/2000/svg\" class=\"skCrcq\"><path fill=\"#fff\" class=\"_1LIt4y\" d=\"M9.58.006c-.41.043-.794.32-1.01.728-.277.557-2.334 4.693-2.74 5.1-.41.407-.944.6-1.544.6v8.572h7.5c.45 0 .835-.28 1.007-.665 0 0 2.207-6.234 2.207-6.834 0-.6-.47-1.072-1.07-1.072h-3.216c-.6 0-1.07-.535-1.07-1.07 0-.537.835-3.387 1.006-3.944.17-.557-.107-1.157-.664-1.35-.15-.043-.257-.086-.407-.064zM0 6.434v8.572h2.143V6.434H0z\" fill-rule=\"evenodd\"></path></svg><span class=\"_3c3Px5\">98</span></div><div class=\"_1LmwT9 pkR4jH\"><svg width=\"20\" height=\"15\" xmlns=\"http://www.w3.org/2000/svg\" class=\"skCrcq pkR4jH\"><path fill=\"#fff\" class=\"_1LIt4y\" d=\"M9.58.006c-.41.043-.794.32-1.01.728-.277.557-2.334 4.693-2.74 5.1-.41.407-.944.6-1.544.6v8.572h7.5c.45 0 .835-.28 1.007-.665 0 0 2.207-6.234 2.207-6.834 0-.6-.47-1.072-1.07-1.072h-3.216c-.6 0-1.07-.535-1.07-1.07 0-.537.835-3.387 1.006-3.944.17-.557-.107-1.157-.664-1.35-.15-.043-.257-.086-.407-.064zM0 6.434v8.572h2.143V6.434H0z\" fill-rule=\"evenodd\"></path></svg><span class=\"_3c3Px5\">24</span></div></div><div class=\"_2bmov8\"><svg width=\"6\" height=\"11\" viewBox=\"0 0 16 27\" xmlns=\"http://www.w3.org/2000/svg\" class=\"_2UvOBb\"><path d=\"M16 23.207L6.11 13.161 16 3.093 12.955 0 0 13.161l12.955 13.161z\" fill=\"#fff\" class=\"_2aPE6f\"></path></svg><div class=\"_3E8aIl _38dCuf\"><div class=\"_3XCI6U\"><a href=\"/reviews/COMFZHZFZFFBJBHH:9?reviewId=92aef6a6-9cfb-4412-b702-a9760dfb711e\"><span>Permalink</span></a></div><div class=\"_3XCI6U _2b2z-j\"><span>Report Abuse</span></div></div></div></div></div></div></div></div></div></div><div class=\"_1AtVbE col-12-12\"><div class=\"_27M-vq\"><div class=\"col\"><div class=\"col _2wzgFH K0kLPL\"><div class=\"row\"><div class=\"_3LWZlK _1BLPMq\">3<img src=\"data:image/svg+xml;base64,PHN2ZyB4bWxucz0iaHR0cDovL3d3dy53My5vcmcvMjAwMC9zdmciIHdpZHRoPSIxMyIgaGVpZ2h0PSIxMiI+PHBhdGggZmlsbD0iI0ZGRiIgZD0iTTYuNSA5LjQzOWwtMy42NzQgMi4yMy45NC00LjI2LTMuMjEtMi44ODMgNC4yNTQtLjQwNEw2LjUuMTEybDEuNjkgNC4wMSA0LjI1NC40MDQtMy4yMSAyLjg4Mi45NCA0LjI2eiIvPjwvc3ZnPg==\" class=\"_1wB99o\"/></div><p class=\"_2-N8zT\">Fair</p></div><div class=\"row\"><div class=\"t-ZTKy\"><div><div class=\"\">This laptop needs to be upgraded to at least 8 gb memory for better performance as most of HP bloatware that comes with the windows build use almost 80% of ram all the time. Besides the built in vega gpu shares Ram as it does not have dedicated graphics memory. An SSD upgrade and booting the OS in there should do wonders to the disk I/O and overall performance. Out of the box, laptop is sluggish so 3 stars.</div><span class=\"_1H-bmy\"><span>READ MORE</span></span></div></div></div><div class=\"row _3n8db9\"><div class=\"row\"><p class=\"_2sc7ZR _2V5EHH\">Satyajit Swain</p><svg width=\"14\" height=\"14\" viewBox=\"0 0 12 12\" xmlns=\"http://www.w3.org/2000/svg\" class=\"_2a1p_T\"><g><circle cx=\"6\" cy=\"6\" r=\"6\" fill=\"#878787\"></circle><path stroke=\"#FFF\" stroke-width=\"1.5\" d=\"M3 6l2 2 4-4\" fill=\"#878787\"></path></g></svg><p id=\"review-a5ae8c8c-0dc0-4397-a2d6-2d8fcfb8f901\" class=\"_2mcZGG\"><span>Certified Buyer</span><span>, Cuttack</span></p><div></div><p class=\"_2sc7ZR\">Sep, 2021</p></div><div class=\"_1e9_Zu\"><div class=\"row\"><div class=\"_27aTsS\"><div class=\"_1LmwT9\"><svg width=\"20\" height=\"15\" xmlns=\"http://www.w3.org/2000/svg\" class=\"skCrcq\"><path fill=\"#fff\" class=\"_1LIt4y\" d=\"M9.58.006c-.41.043-.794.32-1.01.728-.277.557-2.334 4.693-2.74 5.1-.41.407-.944.6-1.544.6v8.572h7.5c.45 0 .835-.28 1.007-.665 0 0 2.207-6.234 2.207-6.834 0-.6-.47-1.072-1.07-1.072h-3.216c-.6 0-1.07-.535-1.07-1.07 0-.537.835-3.387 1.006-3.944.17-.557-.107-1.157-.664-1.35-.15-.043-.257-.086-.407-.064zM0 6.434v8.572h2.143V6.434H0z\" fill-rule=\"evenodd\"></path></svg><span class=\"_3c3Px5\">0</span></div><div class=\"_1LmwT9 pkR4jH\"><svg width=\"20\" height=\"15\" xmlns=\"http://www.w3.org/2000/svg\" class=\"skCrcq pkR4jH\"><path fill=\"#fff\" class=\"_1LIt4y\" d=\"M9.58.006c-.41.043-.794.32-1.01.728-.277.557-2.334 4.693-2.74 5.1-.41.407-.944.6-1.544.6v8.572h7.5c.45 0 .835-.28 1.007-.665 0 0 2.207-6.234 2.207-6.834 0-.6-.47-1.072-1.07-1.072h-3.216c-.6 0-1.07-.535-1.07-1.07 0-.537.835-3.387 1.006-3.944.17-.557-.107-1.157-.664-1.35-.15-.043-.257-.086-.407-.064zM0 6.434v8.572h2.143V6.434H0z\" fill-rule=\"evenodd\"></path></svg><span class=\"_3c3Px5\">0</span></div></div><div class=\"_2bmov8\"><svg width=\"6\" height=\"11\" viewBox=\"0 0 16 27\" xmlns=\"http://www.w3.org/2000/svg\" class=\"_2UvOBb\"><path d=\"M16 23.207L6.11 13.161 16 3.093 12.955 0 0 13.161l12.955 13.161z\" fill=\"#fff\" class=\"_2aPE6f\"></path></svg><div class=\"_3E8aIl _38dCuf\"><div class=\"_3XCI6U\"><a href=\"/reviews/COMFZHZFZFFBJBHH:257?reviewId=a5ae8c8c-0dc0-4397-a2d6-2d8fcfb8f901\"><span>Permalink</span></a></div><div class=\"_3XCI6U _2b2z-j\"><span>Report Abuse</span></div></div></div></div></div></div></div></div></div></div><div class=\"_1AtVbE col-12-12\"><div class=\"_27M-vq\"><div class=\"col\"><div class=\"col _2wzgFH K0kLPL\"><div class=\"row\"><div class=\"_3LWZlK _1BLPMq\">3<img src=\"data:image/svg+xml;base64,PHN2ZyB4bWxucz0iaHR0cDovL3d3dy53My5vcmcvMjAwMC9zdmciIHdpZHRoPSIxMyIgaGVpZ2h0PSIxMiI+PHBhdGggZmlsbD0iI0ZGRiIgZD0iTTYuNSA5LjQzOWwtMy42NzQgMi4yMy45NC00LjI2LTMuMjEtMi44ODMgNC4yNTQtLjQwNEw2LjUuMTEybDEuNjkgNC4wMSA0LjI1NC40MDQtMy4yMSAyLjg4Mi45NCA0LjI2eiIvPjwvc3ZnPg==\" class=\"_1wB99o\"/></div><p class=\"_2-N8zT\">Fair</p></div><div class=\"row\"><div class=\"t-ZTKy\"><div><div class=\"\">HP Product is Good/Ok, but personally i will prefer Dell Laptop. Dell Laptop is best & friendly for smooth process<br/>& I thing i3 is better comparison to Rayzen 3.</div><span class=\"_1H-bmy\"><span>READ MORE</span></span></div></div></div><div class=\"row _3n8db9\"><div class=\"row\"><p class=\"_2sc7ZR _2V5EHH\">Vijay Singh  Shekhawat</p><svg width=\"14\" height=\"14\" viewBox=\"0 0 12 12\" xmlns=\"http://www.w3.org/2000/svg\" class=\"_2a1p_T\"><g><circle cx=\"6\" cy=\"6\" r=\"6\" fill=\"#878787\"></circle><path stroke=\"#FFF\" stroke-width=\"1.5\" d=\"M3 6l2 2 4-4\" fill=\"#878787\"></path></g></svg><p id=\"review-dae711f8-4e05-4d95-9259-efbea3743480\" class=\"_2mcZGG\"><span>Certified Buyer</span><span>, Jaipur</span></p><div></div><p class=\"_2sc7ZR\">May, 2021</p></div><div class=\"_1e9_Zu\"><div class=\"row\"><div class=\"_27aTsS\"><div class=\"_1LmwT9\"><svg width=\"20\" height=\"15\" xmlns=\"http://www.w3.org/2000/svg\" class=\"skCrcq\"><path fill=\"#fff\" class=\"_1LIt4y\" d=\"M9.58.006c-.41.043-.794.32-1.01.728-.277.557-2.334 4.693-2.74 5.1-.41.407-.944.6-1.544.6v8.572h7.5c.45 0 .835-.28 1.007-.665 0 0 2.207-6.234 2.207-6.834 0-.6-.47-1.072-1.07-1.072h-3.216c-.6 0-1.07-.535-1.07-1.07 0-.537.835-3.387 1.006-3.944.17-.557-.107-1.157-.664-1.35-.15-.043-.257-.086-.407-.064zM0 6.434v8.572h2.143V6.434H0z\" fill-rule=\"evenodd\"></path></svg><span class=\"_3c3Px5\">2</span></div><div class=\"_1LmwT9 pkR4jH\"><svg width=\"20\" height=\"15\" xmlns=\"http://www.w3.org/2000/svg\" class=\"skCrcq pkR4jH\"><path fill=\"#fff\" class=\"_1LIt4y\" d=\"M9.58.006c-.41.043-.794.32-1.01.728-.277.557-2.334 4.693-2.74 5.1-.41.407-.944.6-1.544.6v8.572h7.5c.45 0 .835-.28 1.007-.665 0 0 2.207-6.234 2.207-6.834 0-.6-.47-1.072-1.07-1.072h-3.216c-.6 0-1.07-.535-1.07-1.07 0-.537.835-3.387 1.006-3.944.17-.557-.107-1.157-.664-1.35-.15-.043-.257-.086-.407-.064zM0 6.434v8.572h2.143V6.434H0z\" fill-rule=\"evenodd\"></path></svg><span class=\"_3c3Px5\">16</span></div></div><div class=\"_2bmov8\"><svg width=\"6\" height=\"11\" viewBox=\"0 0 16 27\" xmlns=\"http://www.w3.org/2000/svg\" class=\"_2UvOBb\"><path d=\"M16 23.207L6.11 13.161 16 3.093 12.955 0 0 13.161l12.955 13.161z\" fill=\"#fff\" class=\"_2aPE6f\"></path></svg><div class=\"_3E8aIl _38dCuf\"><div class=\"_3XCI6U\"><a href=\"/reviews/COMFZHZFZFFBJBHH:94?reviewId=dae711f8-4e05-4d95-9259-efbea3743480\"><span>Permalink</span></a></div><div class=\"_3XCI6U _2b2z-j\"><span>Report Abuse</span></div></div></div></div></div></div></div></div></div></div><div class=\"_1AtVbE col-12-12\"><div class=\"_27M-vq\"><div class=\"col\"><div class=\"col _2wzgFH K0kLPL\"><div class=\"row\"><div class=\"_3LWZlK _1BLPMq\">5<img src=\"data:image/svg+xml;base64,PHN2ZyB4bWxucz0iaHR0cDovL3d3dy53My5vcmcvMjAwMC9zdmciIHdpZHRoPSIxMyIgaGVpZ2h0PSIxMiI+PHBhdGggZmlsbD0iI0ZGRiIgZD0iTTYuNSA5LjQzOWwtMy42NzQgMi4yMy45NC00LjI2LTMuMjEtMi44ODMgNC4yNTQtLjQwNEw2LjUuMTEybDEuNjkgNC4wMSA0LjI1NC40MDQtMy4yMSAyLjg4Mi45NCA0LjI2eiIvPjwvc3ZnPg==\" class=\"_1wB99o\"/></div><p class=\"_2-N8zT\">Just wow!</p></div><div class=\"row\"><div class=\"t-ZTKy\"><div><div class=\"\">Awesome and nice for students and all. The favorite things is its comes with Windows and office home and student precious.</div><span class=\"_1H-bmy\"><span>READ MORE</span></span></div></div></div><div class=\"_2nMSwX _3oLIki\"><div class=\"_21YjFX _2A07HP\" style=\"background-image:url(https://rukminim1.flixcart.com/blobio/124/124/imr-202103/blobio-imr-202103_1160a428fabe42269d5d47166c4b1516.jpg?q=90), url(data:image/svg+xml;base64,PHN2ZyB3aWR0aD0iMjIiIGhlaWdodD0iMTgiIHhtbG5zPSJodHRwOi8vd3d3LnczLm9yZy8yMDAwL3N2ZyI+PGcgZmlsbD0iIzlEOUQ5RCIgZmlsbC1ydWxlPSJub256ZXJvIj48cGF0aCBkPSJNMjAgMEgyQzEgMCAwIDEgMCAydjE0YzAgMS4xLjkgMiAyIDJoMThjMSAwIDItMSAyLTJWMmMwLTEtMS0yLTItMnptMCAxNS45MmMtLjAyLjAzLS4wNi4wNi0uMDguMDhIMlYyLjA4TDIuMDggMmgxNy44M2MuMDMuMDIuMDYuMDYuMDguMDh2MTMuODRIMjB6Ii8+PHBhdGggZD0iTTEwIDEyLjUxTDcuNSA5LjUgNCAxNGgxNGwtNC41LTZ6Ii8+PC9nPjwvc3ZnPg==);width:62px;height:62px\"></div></div><div class=\"row _3n8db9\"><div class=\"row\"><p class=\"_2sc7ZR _2V5EHH\">Anoop Mathew</p><svg width=\"14\" height=\"14\" viewBox=\"0 0 12 12\" xmlns=\"http://www.w3.org/2000/svg\" class=\"_2a1p_T\"><g><circle cx=\"6\" cy=\"6\" r=\"6\" fill=\"#878787\"></circle><path stroke=\"#FFF\" stroke-width=\"1.5\" d=\"M3 6l2 2 4-4\" fill=\"#878787\"></path></g></svg><p id=\"review-277157f9-da90-4a81-aaee-28703614d7fe\" class=\"_2mcZGG\"><span>Certified Buyer</span><span>, Kattappana</span></p><div></div><p class=\"_2sc7ZR\">Mar, 2021</p></div><div class=\"_1e9_Zu\"><div class=\"row\"><div class=\"_27aTsS\"><div class=\"_1LmwT9\"><svg width=\"20\" height=\"15\" xmlns=\"http://www.w3.org/2000/svg\" class=\"skCrcq\"><path fill=\"#fff\" class=\"_1LIt4y\" d=\"M9.58.006c-.41.043-.794.32-1.01.728-.277.557-2.334 4.693-2.74 5.1-.41.407-.944.6-1.544.6v8.572h7.5c.45 0 .835-.28 1.007-.665 0 0 2.207-6.234 2.207-6.834 0-.6-.47-1.072-1.07-1.072h-3.216c-.6 0-1.07-.535-1.07-1.07 0-.537.835-3.387 1.006-3.944.17-.557-.107-1.157-.664-1.35-.15-.043-.257-.086-.407-.064zM0 6.434v8.572h2.143V6.434H0z\" fill-rule=\"evenodd\"></path></svg><span class=\"_3c3Px5\">88</span></div><div class=\"_1LmwT9 pkR4jH\"><svg width=\"20\" height=\"15\" xmlns=\"http://www.w3.org/2000/svg\" class=\"skCrcq pkR4jH\"><path fill=\"#fff\" class=\"_1LIt4y\" d=\"M9.58.006c-.41.043-.794.32-1.01.728-.277.557-2.334 4.693-2.74 5.1-.41.407-.944.6-1.544.6v8.572h7.5c.45 0 .835-.28 1.007-.665 0 0 2.207-6.234 2.207-6.834 0-.6-.47-1.072-1.07-1.072h-3.216c-.6 0-1.07-.535-1.07-1.07 0-.537.835-3.387 1.006-3.944.17-.557-.107-1.157-.664-1.35-.15-.043-.257-.086-.407-.064zM0 6.434v8.572h2.143V6.434H0z\" fill-rule=\"evenodd\"></path></svg><span class=\"_3c3Px5\">4</span></div></div><div class=\"_2bmov8\"><svg width=\"6\" height=\"11\" viewBox=\"0 0 16 27\" xmlns=\"http://www.w3.org/2000/svg\" class=\"_2UvOBb\"><path d=\"M16 23.207L6.11 13.161 16 3.093 12.955 0 0 13.161l12.955 13.161z\" fill=\"#fff\" class=\"_2aPE6f\"></path></svg><div class=\"_3E8aIl _38dCuf\"><div class=\"_3XCI6U\"><a href=\"/reviews/COMFZHZFZFFBJBHH:11?reviewId=277157f9-da90-4a81-aaee-28703614d7fe\"><span>Permalink</span></a></div><div class=\"_3XCI6U _2b2z-j\"><span>Report Abuse</span></div></div></div></div></div></div></div></div></div></div><div class=\"_1AtVbE col-12-12\"><div class=\"_27M-vq\"><div class=\"col\"><div class=\"col _2wzgFH K0kLPL\"><div class=\"row\"><div class=\"_3LWZlK _1BLPMq\">3<img src=\"data:image/svg+xml;base64,PHN2ZyB4bWxucz0iaHR0cDovL3d3dy53My5vcmcvMjAwMC9zdmciIHdpZHRoPSIxMyIgaGVpZ2h0PSIxMiI+PHBhdGggZmlsbD0iI0ZGRiIgZD0iTTYuNSA5LjQzOWwtMy42NzQgMi4yMy45NC00LjI2LTMuMjEtMi44ODMgNC4yNTQtLjQwNEw2LjUuMTEybDEuNjkgNC4wMSA0LjI1NC40MDQtMy4yMSAyLjg4Mi45NCA0LjI2eiIvPjwvc3ZnPg==\" class=\"_1wB99o\"/></div><p class=\"_2-N8zT\">Good</p></div><div class=\"row\"><div class=\"t-ZTKy\"><div><div class=\"\">Do not expect much :<br/>1)Very slow takes a lot of time just open a browser.<br/>2)Design is good  <br/>3)Battery backup ok.<br/>if you want to do basic editing and some gaming then go for atleast 8 GB ram and 4 core processor .</div><span class=\"_1H-bmy\"><span>READ MORE</span></span></div></div></div><div class=\"_2nMSwX _3oLIki\"><div class=\"_21YjFX _2A07HP\" style=\"background-image:url(https://rukminim1.flixcart.com/blobio/124/124/imr-202104/blobio-imr-202104_93955492db044b48920e88c9119f6e67.jpg?q=90), url(data:image/svg+xml;base64,PHN2ZyB3aWR0aD0iMjIiIGhlaWdodD0iMTgiIHhtbG5zPSJodHRwOi8vd3d3LnczLm9yZy8yMDAwL3N2ZyI+PGcgZmlsbD0iIzlEOUQ5RCIgZmlsbC1ydWxlPSJub256ZXJvIj48cGF0aCBkPSJNMjAgMEgyQzEgMCAwIDEgMCAydjE0YzAgMS4xLjkgMiAyIDJoMThjMSAwIDItMSAyLTJWMmMwLTEtMS0yLTItMnptMCAxNS45MmMtLjAyLjAzLS4wNi4wNi0uMDguMDhIMlYyLjA4TDIuMDggMmgxNy44M2MuMDMuMDIuMDYuMDYuMDguMDh2MTMuODRIMjB6Ii8+PHBhdGggZD0iTTEwIDEyLjUxTDcuNSA5LjUgNCAxNGgxNGwtNC41LTZ6Ii8+PC9nPjwvc3ZnPg==);width:62px;height:62px\"></div><div class=\"_21YjFX _2A07HP\" style=\"background-image:url(https://rukminim1.flixcart.com/blobio/124/124/imr-202104/blobio-imr-202104_a84d39f759b74debaa99e8e931e7daa0.jpg?q=90), url(data:image/svg+xml;base64,PHN2ZyB3aWR0aD0iMjIiIGhlaWdodD0iMTgiIHhtbG5zPSJodHRwOi8vd3d3LnczLm9yZy8yMDAwL3N2ZyI+PGcgZmlsbD0iIzlEOUQ5RCIgZmlsbC1ydWxlPSJub256ZXJvIj48cGF0aCBkPSJNMjAgMEgyQzEgMCAwIDEgMCAydjE0YzAgMS4xLjkgMiAyIDJoMThjMSAwIDItMSAyLTJWMmMwLTEtMS0yLTItMnptMCAxNS45MmMtLjAyLjAzLS4wNi4wNi0uMDguMDhIMlYyLjA4TDIuMDggMmgxNy44M2MuMDMuMDIuMDYuMDYuMDguMDh2MTMuODRIMjB6Ii8+PHBhdGggZD0iTTEwIDEyLjUxTDcuNSA5LjUgNCAxNGgxNGwtNC41LTZ6Ii8+PC9nPjwvc3ZnPg==);width:62px;height:62px\"></div><div class=\"_21YjFX _2A07HP\" style=\"background-image:url(https://rukminim1.flixcart.com/blobio/124/124/imr-202104/blobio-imr-202104_4e0ae24648994569803ec32b2ff24d21.jpg?q=90), url(data:image/svg+xml;base64,PHN2ZyB3aWR0aD0iMjIiIGhlaWdodD0iMTgiIHhtbG5zPSJodHRwOi8vd3d3LnczLm9yZy8yMDAwL3N2ZyI+PGcgZmlsbD0iIzlEOUQ5RCIgZmlsbC1ydWxlPSJub256ZXJvIj48cGF0aCBkPSJNMjAgMEgyQzEgMCAwIDEgMCAydjE0YzAgMS4xLjkgMiAyIDJoMThjMSAwIDItMSAyLTJWMmMwLTEtMS0yLTItMnptMCAxNS45MmMtLjAyLjAzLS4wNi4wNi0uMDguMDhIMlYyLjA4TDIuMDggMmgxNy44M2MuMDMuMDIuMDYuMDYuMDguMDh2MTMuODRIMjB6Ii8+PHBhdGggZD0iTTEwIDEyLjUxTDcuNSA5LjUgNCAxNGgxNGwtNC41LTZ6Ii8+PC9nPjwvc3ZnPg==);width:62px;height:62px\"></div></div><div class=\"row _3n8db9\"><div class=\"row\"><p class=\"_2sc7ZR _2V5EHH\">Vivek Raturi</p><svg width=\"14\" height=\"14\" viewBox=\"0 0 12 12\" xmlns=\"http://www.w3.org/2000/svg\" class=\"_2a1p_T\"><g><circle cx=\"6\" cy=\"6\" r=\"6\" fill=\"#878787\"></circle><path stroke=\"#FFF\" stroke-width=\"1.5\" d=\"M3 6l2 2 4-4\" fill=\"#878787\"></path></g></svg><p id=\"review-89764dce-87e3-48b9-9196-d9b061f72e8f\" class=\"_2mcZGG\"><span>Certified Buyer</span><span>, Rishikesh</span></p><div></div><p class=\"_2sc7ZR\">Apr, 2021</p></div><div class=\"_1e9_Zu\"><div class=\"row\"><div class=\"_27aTsS\"><div class=\"_1LmwT9\"><svg width=\"20\" height=\"15\" xmlns=\"http://www.w3.org/2000/svg\" class=\"skCrcq\"><path fill=\"#fff\" class=\"_1LIt4y\" d=\"M9.58.006c-.41.043-.794.32-1.01.728-.277.557-2.334 4.693-2.74 5.1-.41.407-.944.6-1.544.6v8.572h7.5c.45 0 .835-.28 1.007-.665 0 0 2.207-6.234 2.207-6.834 0-.6-.47-1.072-1.07-1.072h-3.216c-.6 0-1.07-.535-1.07-1.07 0-.537.835-3.387 1.006-3.944.17-.557-.107-1.157-.664-1.35-.15-.043-.257-.086-.407-.064zM0 6.434v8.572h2.143V6.434H0z\" fill-rule=\"evenodd\"></path></svg><span class=\"_3c3Px5\">30</span></div><div class=\"_1LmwT9 pkR4jH\"><svg width=\"20\" height=\"15\" xmlns=\"http://www.w3.org/2000/svg\" class=\"skCrcq pkR4jH\"><path fill=\"#fff\" class=\"_1LIt4y\" d=\"M9.58.006c-.41.043-.794.32-1.01.728-.277.557-2.334 4.693-2.74 5.1-.41.407-.944.6-1.544.6v8.572h7.5c.45 0 .835-.28 1.007-.665 0 0 2.207-6.234 2.207-6.834 0-.6-.47-1.072-1.07-1.072h-3.216c-.6 0-1.07-.535-1.07-1.07 0-.537.835-3.387 1.006-3.944.17-.557-.107-1.157-.664-1.35-.15-.043-.257-.086-.407-.064zM0 6.434v8.572h2.143V6.434H0z\" fill-rule=\"evenodd\"></path></svg><span class=\"_3c3Px5\">0</span></div></div><div class=\"_2bmov8\"><svg width=\"6\" height=\"11\" viewBox=\"0 0 16 27\" xmlns=\"http://www.w3.org/2000/svg\" class=\"_2UvOBb\"><path d=\"M16 23.207L6.11 13.161 16 3.093 12.955 0 0 13.161l12.955 13.161z\" fill=\"#fff\" class=\"_2aPE6f\"></path></svg><div class=\"_3E8aIl _38dCuf\"><div class=\"_3XCI6U\"><a href=\"/reviews/COMFZHZFZFFBJBHH:68?reviewId=89764dce-87e3-48b9-9196-d9b061f72e8f\"><span>Permalink</span></a></div><div class=\"_3XCI6U _2b2z-j\"><span>Report Abuse</span></div></div></div></div></div></div></div></div></div></div><div class=\"_1AtVbE col-12-12\"><div class=\"_27M-vq\"><div class=\"col\"><div class=\"col _2wzgFH K0kLPL\"><div class=\"row\"><div class=\"_3LWZlK _1BLPMq\">4<img src=\"data:image/svg+xml;base64,PHN2ZyB4bWxucz0iaHR0cDovL3d3dy53My5vcmcvMjAwMC9zdmciIHdpZHRoPSIxMyIgaGVpZ2h0PSIxMiI+PHBhdGggZmlsbD0iI0ZGRiIgZD0iTTYuNSA5LjQzOWwtMy42NzQgMi4yMy45NC00LjI2LTMuMjEtMi44ODMgNC4yNTQtLjQwNEw2LjUuMTEybDEuNjkgNC4wMSA0LjI1NC40MDQtMy4yMSAyLjg4Mi45NCA0LjI2eiIvPjwvc3ZnPg==\" class=\"_1wB99o\"/></div><p class=\"_2-N8zT\">Wonderful</p></div><div class=\"row\"><div class=\"t-ZTKy\"><div><div class=\"\">Compare to i3, ryzen 3 is far better in performance with 4gb ram, full Battery charged still works more than 6 hrs... No heating problem.. Display only not bad quality, rest of them are worth for this amount</div><span class=\"_1H-bmy\"><span>READ MORE</span></span></div></div></div><div class=\"row _3n8db9\"><div class=\"row\"><p class=\"_2sc7ZR _2V5EHH\">Anand Amirtharaj</p><svg width=\"14\" height=\"14\" viewBox=\"0 0 12 12\" xmlns=\"http://www.w3.org/2000/svg\" class=\"_2a1p_T\"><g><circle cx=\"6\" cy=\"6\" r=\"6\" fill=\"#878787\"></circle><path stroke=\"#FFF\" stroke-width=\"1.5\" d=\"M3 6l2 2 4-4\" fill=\"#878787\"></path></g></svg><p id=\"review-d30b21bd-fd6a-4dee-8c47-2d752cc163d1\" class=\"_2mcZGG\"><span>Certified Buyer</span><span>, Salem</span></p><div></div><p class=\"_2sc7ZR\">Feb, 2021</p></div><div class=\"_1e9_Zu\"><div class=\"row\"><div class=\"_27aTsS\"><div class=\"_1LmwT9\"><svg width=\"20\" height=\"15\" xmlns=\"http://www.w3.org/2000/svg\" class=\"skCrcq\"><path fill=\"#fff\" class=\"_1LIt4y\" d=\"M9.58.006c-.41.043-.794.32-1.01.728-.277.557-2.334 4.693-2.74 5.1-.41.407-.944.6-1.544.6v8.572h7.5c.45 0 .835-.28 1.007-.665 0 0 2.207-6.234 2.207-6.834 0-.6-.47-1.072-1.07-1.072h-3.216c-.6 0-1.07-.535-1.07-1.07 0-.537.835-3.387 1.006-3.944.17-.557-.107-1.157-.664-1.35-.15-.043-.257-.086-.407-.064zM0 6.434v8.572h2.143V6.434H0z\" fill-rule=\"evenodd\"></path></svg><span class=\"_3c3Px5\">92</span></div><div class=\"_1LmwT9 pkR4jH\"><svg width=\"20\" height=\"15\" xmlns=\"http://www.w3.org/2000/svg\" class=\"skCrcq pkR4jH\"><path fill=\"#fff\" class=\"_1LIt4y\" d=\"M9.58.006c-.41.043-.794.32-1.01.728-.277.557-2.334 4.693-2.74 5.1-.41.407-.944.6-1.544.6v8.572h7.5c.45 0 .835-.28 1.007-.665 0 0 2.207-6.234 2.207-6.834 0-.6-.47-1.072-1.07-1.072h-3.216c-.6 0-1.07-.535-1.07-1.07 0-.537.835-3.387 1.006-3.944.17-.557-.107-1.157-.664-1.35-.15-.043-.257-.086-.407-.064zM0 6.434v8.572h2.143V6.434H0z\" fill-rule=\"evenodd\"></path></svg><span class=\"_3c3Px5\">15</span></div></div><div class=\"_2bmov8\"><svg width=\"6\" height=\"11\" viewBox=\"0 0 16 27\" xmlns=\"http://www.w3.org/2000/svg\" class=\"_2UvOBb\"><path d=\"M16 23.207L6.11 13.161 16 3.093 12.955 0 0 13.161l12.955 13.161z\" fill=\"#fff\" class=\"_2aPE6f\"></path></svg><div class=\"_3E8aIl _38dCuf\"><div class=\"_3XCI6U\"><a href=\"/reviews/COMFZHZFZFFBJBHH:1?reviewId=d30b21bd-fd6a-4dee-8c47-2d752cc163d1\"><span>Permalink</span></a></div><div class=\"_3XCI6U _2b2z-j\"><span>Report Abuse</span></div></div></div></div></div></div></div></div></div></div><div class=\"_1AtVbE col-12-12\"><div class=\"_27M-vq\"><div class=\"col\"><div class=\"col _2wzgFH K0kLPL\"><div class=\"row\"><div class=\"_3LWZlK _1BLPMq\">4<img src=\"data:image/svg+xml;base64,PHN2ZyB4bWxucz0iaHR0cDovL3d3dy53My5vcmcvMjAwMC9zdmciIHdpZHRoPSIxMyIgaGVpZ2h0PSIxMiI+PHBhdGggZmlsbD0iI0ZGRiIgZD0iTTYuNSA5LjQzOWwtMy42NzQgMi4yMy45NC00LjI2LTMuMjEtMi44ODMgNC4yNTQtLjQwNEw2LjUuMTEybDEuNjkgNC4wMSA0LjI1NC40MDQtMy4yMSAyLjg4Mi45NCA0LjI2eiIvPjwvc3ZnPg==\" class=\"_1wB99o\"/></div><p class=\"_2-N8zT\">Very Good</p></div><div class=\"row\"><div class=\"t-ZTKy\"><div><div class=\"\">Very nice product finishing is very good.</div><span class=\"_1H-bmy\"><span>READ MORE</span></span></div></div></div><div class=\"_2nMSwX _3oLIki\"><div class=\"_21YjFX _2A07HP\" style=\"background-image:url(https://rukminim1.flixcart.com/blobio/124/124/imr-202103/blobio-imr-202103_b25f606dc5d94c0faf77572889d58095.jpg?q=90), url(data:image/svg+xml;base64,PHN2ZyB3aWR0aD0iMjIiIGhlaWdodD0iMTgiIHhtbG5zPSJodHRwOi8vd3d3LnczLm9yZy8yMDAwL3N2ZyI+PGcgZmlsbD0iIzlEOUQ5RCIgZmlsbC1ydWxlPSJub256ZXJvIj48cGF0aCBkPSJNMjAgMEgyQzEgMCAwIDEgMCAydjE0YzAgMS4xLjkgMiAyIDJoMThjMSAwIDItMSAyLTJWMmMwLTEtMS0yLTItMnptMCAxNS45MmMtLjAyLjAzLS4wNi4wNi0uMDguMDhIMlYyLjA4TDIuMDggMmgxNy44M2MuMDMuMDIuMDYuMDYuMDguMDh2MTMuODRIMjB6Ii8+PHBhdGggZD0iTTEwIDEyLjUxTDcuNSA5LjUgNCAxNGgxNGwtNC41LTZ6Ii8+PC9nPjwvc3ZnPg==);width:62px;height:62px\"></div></div><div class=\"row _3n8db9\"><div class=\"row\"><p class=\"_2sc7ZR _2V5EHH\">Flipkart Customer</p><svg width=\"14\" height=\"14\" viewBox=\"0 0 12 12\" xmlns=\"http://www.w3.org/2000/svg\" class=\"_2a1p_T\"><g><circle cx=\"6\" cy=\"6\" r=\"6\" fill=\"#878787\"></circle><path stroke=\"#FFF\" stroke-width=\"1.5\" d=\"M3 6l2 2 4-4\" fill=\"#878787\"></path></g></svg><p id=\"review-0b0a3dde-4740-469e-ae8a-e5b617036966\" class=\"_2mcZGG\"><span>Certified Buyer</span><span>, Navi Mumbai</span></p><div></div><p class=\"_2sc7ZR\">Mar, 2021</p></div><div class=\"_1e9_Zu\"><div class=\"row\"><div class=\"_27aTsS\"><div class=\"_1LmwT9\"><svg width=\"20\" height=\"15\" xmlns=\"http://www.w3.org/2000/svg\" class=\"skCrcq\"><path fill=\"#fff\" class=\"_1LIt4y\" d=\"M9.58.006c-.41.043-.794.32-1.01.728-.277.557-2.334 4.693-2.74 5.1-.41.407-.944.6-1.544.6v8.572h7.5c.45 0 .835-.28 1.007-.665 0 0 2.207-6.234 2.207-6.834 0-.6-.47-1.072-1.07-1.072h-3.216c-.6 0-1.07-.535-1.07-1.07 0-.537.835-3.387 1.006-3.944.17-.557-.107-1.157-.664-1.35-.15-.043-.257-.086-.407-.064zM0 6.434v8.572h2.143V6.434H0z\" fill-rule=\"evenodd\"></path></svg><span class=\"_3c3Px5\">26</span></div><div class=\"_1LmwT9 pkR4jH\"><svg width=\"20\" height=\"15\" xmlns=\"http://www.w3.org/2000/svg\" class=\"skCrcq pkR4jH\"><path fill=\"#fff\" class=\"_1LIt4y\" d=\"M9.58.006c-.41.043-.794.32-1.01.728-.277.557-2.334 4.693-2.74 5.1-.41.407-.944.6-1.544.6v8.572h7.5c.45 0 .835-.28 1.007-.665 0 0 2.207-6.234 2.207-6.834 0-.6-.47-1.072-1.07-1.072h-3.216c-.6 0-1.07-.535-1.07-1.07 0-.537.835-3.387 1.006-3.944.17-.557-.107-1.157-.664-1.35-.15-.043-.257-.086-.407-.064zM0 6.434v8.572h2.143V6.434H0z\" fill-rule=\"evenodd\"></path></svg><span class=\"_3c3Px5\">3</span></div></div><div class=\"_2bmov8\"><svg width=\"6\" height=\"11\" viewBox=\"0 0 16 27\" xmlns=\"http://www.w3.org/2000/svg\" class=\"_2UvOBb\"><path d=\"M16 23.207L6.11 13.161 16 3.093 12.955 0 0 13.161l12.955 13.161z\" fill=\"#fff\" class=\"_2aPE6f\"></path></svg><div class=\"_3E8aIl _38dCuf\"><div class=\"_3XCI6U\"><a href=\"/reviews/COMFZHZFZFFBJBHH:20?reviewId=0b0a3dde-4740-469e-ae8a-e5b617036966\"><span>Permalink</span></a></div><div class=\"_3XCI6U _2b2z-j\"><span>Report Abuse</span></div></div></div></div></div></div></div></div></div></div><div class=\"_1AtVbE col-12-12\"><div class=\"_27M-vq\"><div class=\"col\"><div class=\"col _2wzgFH K0kLPL\"><div class=\"row\"><div class=\"_3LWZlK _1BLPMq\">4<img src=\"data:image/svg+xml;base64,PHN2ZyB4bWxucz0iaHR0cDovL3d3dy53My5vcmcvMjAwMC9zdmciIHdpZHRoPSIxMyIgaGVpZ2h0PSIxMiI+PHBhdGggZmlsbD0iI0ZGRiIgZD0iTTYuNSA5LjQzOWwtMy42NzQgMi4yMy45NC00LjI2LTMuMjEtMi44ODMgNC4yNTQtLjQwNEw2LjUuMTEybDEuNjkgNC4wMSA0LjI1NC40MDQtMy4yMSAyLjg4Mi45NCA0LjI2eiIvPjwvc3ZnPg==\" class=\"_1wB99o\"/></div><p class=\"_2-N8zT\">Nice product</p></div><div class=\"row\"><div class=\"t-ZTKy\"><div><div class=\"\">This laptop is very light weight and I am happy!! \\xf0\\x9f\\x99\\x82\\xf0\\x9f\\x99\\x82</div><span class=\"_1H-bmy\"><span>READ MORE</span></span></div></div></div><div class=\"_2nMSwX _3oLIki\"><div class=\"_21YjFX _2A07HP\" style=\"background-image:url(https://rukminim1.flixcart.com/blobio/124/124/imr-202106/blobio-imr-202106_0367b7696f3b403b8cc8d2af74297ed6.jpg?q=90), url(data:image/svg+xml;base64,PHN2ZyB3aWR0aD0iMjIiIGhlaWdodD0iMTgiIHhtbG5zPSJodHRwOi8vd3d3LnczLm9yZy8yMDAwL3N2ZyI+PGcgZmlsbD0iIzlEOUQ5RCIgZmlsbC1ydWxlPSJub256ZXJvIj48cGF0aCBkPSJNMjAgMEgyQzEgMCAwIDEgMCAydjE0YzAgMS4xLjkgMiAyIDJoMThjMSAwIDItMSAyLTJWMmMwLTEtMS0yLTItMnptMCAxNS45MmMtLjAyLjAzLS4wNi4wNi0uMDguMDhIMlYyLjA4TDIuMDggMmgxNy44M2MuMDMuMDIuMDYuMDYuMDguMDh2MTMuODRIMjB6Ii8+PHBhdGggZD0iTTEwIDEyLjUxTDcuNSA5LjUgNCAxNGgxNGwtNC41LTZ6Ii8+PC9nPjwvc3ZnPg==);width:62px;height:62px\"></div><div class=\"_21YjFX _2A07HP\" style=\"background-image:url(https://rukminim1.flixcart.com/blobio/124/124/imr-202106/blobio-imr-202106_70e7c1385fcd407192a9231fba5e8d9a.jpg?q=90), url(data:image/svg+xml;base64,PHN2ZyB3aWR0aD0iMjIiIGhlaWdodD0iMTgiIHhtbG5zPSJodHRwOi8vd3d3LnczLm9yZy8yMDAwL3N2ZyI+PGcgZmlsbD0iIzlEOUQ5RCIgZmlsbC1ydWxlPSJub256ZXJvIj48cGF0aCBkPSJNMjAgMEgyQzEgMCAwIDEgMCAydjE0YzAgMS4xLjkgMiAyIDJoMThjMSAwIDItMSAyLTJWMmMwLTEtMS0yLTItMnptMCAxNS45MmMtLjAyLjAzLS4wNi4wNi0uMDguMDhIMlYyLjA4TDIuMDggMmgxNy44M2MuMDMuMDIuMDYuMDYuMDguMDh2MTMuODRIMjB6Ii8+PHBhdGggZD0iTTEwIDEyLjUxTDcuNSA5LjUgNCAxNGgxNGwtNC41LTZ6Ii8+PC9nPjwvc3ZnPg==);width:62px;height:62px\"></div></div><div class=\"row _3n8db9\"><div class=\"row\"><p class=\"_2sc7ZR _2V5EHH\">Shivani  Pankaj</p><svg width=\"14\" height=\"14\" viewBox=\"0 0 12 12\" xmlns=\"http://www.w3.org/2000/svg\" class=\"_2a1p_T\"><g><circle cx=\"6\" cy=\"6\" r=\"6\" fill=\"#878787\"></circle><path stroke=\"#FFF\" stroke-width=\"1.5\" d=\"M3 6l2 2 4-4\" fill=\"#878787\"></path></g></svg><p id=\"review-f1ed4758-77e6-4dd8-88c2-83cf1d33f8ed\" class=\"_2mcZGG\"><span>Certified Buyer</span><span>, Chandauli</span></p><div></div><p class=\"_2sc7ZR\">Jun, 2021</p></div><div class=\"_1e9_Zu\"><div class=\"row\"><div class=\"_27aTsS\"><div class=\"_1LmwT9\"><svg width=\"20\" height=\"15\" xmlns=\"http://www.w3.org/2000/svg\" class=\"skCrcq\"><path fill=\"#fff\" class=\"_1LIt4y\" d=\"M9.58.006c-.41.043-.794.32-1.01.728-.277.557-2.334 4.693-2.74 5.1-.41.407-.944.6-1.544.6v8.572h7.5c.45 0 .835-.28 1.007-.665 0 0 2.207-6.234 2.207-6.834 0-.6-.47-1.072-1.07-1.072h-3.216c-.6 0-1.07-.535-1.07-1.07 0-.537.835-3.387 1.006-3.944.17-.557-.107-1.157-.664-1.35-.15-.043-.257-.086-.407-.064zM0 6.434v8.572h2.143V6.434H0z\" fill-rule=\"evenodd\"></path></svg><span class=\"_3c3Px5\">10</span></div><div class=\"_1LmwT9 pkR4jH\"><svg width=\"20\" height=\"15\" xmlns=\"http://www.w3.org/2000/svg\" class=\"skCrcq pkR4jH\"><path fill=\"#fff\" class=\"_1LIt4y\" d=\"M9.58.006c-.41.043-.794.32-1.01.728-.277.557-2.334 4.693-2.74 5.1-.41.407-.944.6-1.544.6v8.572h7.5c.45 0 .835-.28 1.007-.665 0 0 2.207-6.234 2.207-6.834 0-.6-.47-1.072-1.07-1.072h-3.216c-.6 0-1.07-.535-1.07-1.07 0-.537.835-3.387 1.006-3.944.17-.557-.107-1.157-.664-1.35-.15-.043-.257-.086-.407-.064zM0 6.434v8.572h2.143V6.434H0z\" fill-rule=\"evenodd\"></path></svg><span class=\"_3c3Px5\">0</span></div></div><div class=\"_2bmov8\"><svg width=\"6\" height=\"11\" viewBox=\"0 0 16 27\" xmlns=\"http://www.w3.org/2000/svg\" class=\"_2UvOBb\"><path d=\"M16 23.207L6.11 13.161 16 3.093 12.955 0 0 13.161l12.955 13.161z\" fill=\"#fff\" class=\"_2aPE6f\"></path></svg><div class=\"_3E8aIl _38dCuf\"><div class=\"_3XCI6U\"><a href=\"/reviews/COMFZHZFZFFBJBHH:115?reviewId=f1ed4758-77e6-4dd8-88c2-83cf1d33f8ed\"><span>Permalink</span></a></div><div class=\"_3XCI6U _2b2z-j\"><span>Report Abuse</span></div></div></div></div></div></div></div></div></div></div><div class=\"_1AtVbE col-12-12\"><div><div class=\"_2MImiq _1Qnn1K\"><span>Page 1 of 22</span><nav class=\"yFHi8N\"><a class=\"ge-49M _2Kfbh8\" href=\"/hp-15s-ryzen-3-dual-core-3250u-4-gb-1-tb-hdd-windows-10-home-15s-gr0006au-thin-light-laptop/product-reviews/itmdbb2d234797b6?pid=COMFZHZFZFFBJBHH&amp;lid=LSTCOMFZHZFZFFBJBHH7WNMPE&amp;marketplace=FLIPKART&amp;page=1\">1</a><a class=\"ge-49M\" href=\"/hp-15s-ryzen-3-dual-core-3250u-4-gb-1-tb-hdd-windows-10-home-15s-gr0006au-thin-light-laptop/product-reviews/itmdbb2d234797b6?pid=COMFZHZFZFFBJBHH&amp;lid=LSTCOMFZHZFZFFBJBHH7WNMPE&amp;marketplace=FLIPKART&amp;page=2\">2</a><a class=\"ge-49M\" href=\"/hp-15s-ryzen-3-dual-core-3250u-4-gb-1-tb-hdd-windows-10-home-15s-gr0006au-thin-light-laptop/product-reviews/itmdbb2d234797b6?pid=COMFZHZFZFFBJBHH&amp;lid=LSTCOMFZHZFZFFBJBHH7WNMPE&amp;marketplace=FLIPKART&amp;page=3\">3</a><a class=\"ge-49M\" href=\"/hp-15s-ryzen-3-dual-core-3250u-4-gb-1-tb-hdd-windows-10-home-15s-gr0006au-thin-light-laptop/product-reviews/itmdbb2d234797b6?pid=COMFZHZFZFFBJBHH&amp;lid=LSTCOMFZHZFZFFBJBHH7WNMPE&amp;marketplace=FLIPKART&amp;page=4\">4</a><a class=\"ge-49M\" href=\"/hp-15s-ryzen-3-dual-core-3250u-4-gb-1-tb-hdd-windows-10-home-15s-gr0006au-thin-light-laptop/product-reviews/itmdbb2d234797b6?pid=COMFZHZFZFFBJBHH&amp;lid=LSTCOMFZHZFZFFBJBHH7WNMPE&amp;marketplace=FLIPKART&amp;page=5\">5</a><a class=\"ge-49M\" href=\"/hp-15s-ryzen-3-dual-core-3250u-4-gb-1-tb-hdd-windows-10-home-15s-gr0006au-thin-light-laptop/product-reviews/itmdbb2d234797b6?pid=COMFZHZFZFFBJBHH&amp;lid=LSTCOMFZHZFZFFBJBHH7WNMPE&amp;marketplace=FLIPKART&amp;page=6\">6</a><a class=\"ge-49M\" href=\"/hp-15s-ryzen-3-dual-core-3250u-4-gb-1-tb-hdd-windows-10-home-15s-gr0006au-thin-light-laptop/product-reviews/itmdbb2d234797b6?pid=COMFZHZFZFFBJBHH&amp;lid=LSTCOMFZHZFZFFBJBHH7WNMPE&amp;marketplace=FLIPKART&amp;page=7\">7</a><a class=\"ge-49M\" href=\"/hp-15s-ryzen-3-dual-core-3250u-4-gb-1-tb-hdd-windows-10-home-15s-gr0006au-thin-light-laptop/product-reviews/itmdbb2d234797b6?pid=COMFZHZFZFFBJBHH&amp;lid=LSTCOMFZHZFZFFBJBHH7WNMPE&amp;marketplace=FLIPKART&amp;page=8\">8</a><a class=\"ge-49M\" href=\"/hp-15s-ryzen-3-dual-core-3250u-4-gb-1-tb-hdd-windows-10-home-15s-gr0006au-thin-light-laptop/product-reviews/itmdbb2d234797b6?pid=COMFZHZFZFFBJBHH&amp;lid=LSTCOMFZHZFZFFBJBHH7WNMPE&amp;marketplace=FLIPKART&amp;page=9\">9</a><a class=\"ge-49M\" href=\"/hp-15s-ryzen-3-dual-core-3250u-4-gb-1-tb-hdd-windows-10-home-15s-gr0006au-thin-light-laptop/product-reviews/itmdbb2d234797b6?pid=COMFZHZFZFFBJBHH&amp;lid=LSTCOMFZHZFZFFBJBHH7WNMPE&amp;marketplace=FLIPKART&amp;page=10\">10</a><a class=\"_1LKTO3\" href=\"/hp-15s-ryzen-3-dual-core-3250u-4-gb-1-tb-hdd-windows-10-home-15s-gr0006au-thin-light-laptop/product-reviews/itmdbb2d234797b6?pid=COMFZHZFZFFBJBHH&amp;lid=LSTCOMFZHZFZFFBJBHH7WNMPE&amp;marketplace=FLIPKART&amp;page=2\"><span>Next</span></a></nav><span class=\"_22Tduf\"></span></div></div></div></div></div><div class=\"_39SDPR\"></div></div></div><footer class=\"_3voSl0\"><div class=\"_3rc_xQ\"><div class=\"row\"><div class=\"col gu12 _8Qljeg\"></div></div><div><div class=\"_2WErco row\"><div class=\"_2Brcj4\"><div class=\"_3-dnWo\">ABOUT</div><a href=\"/helpcentre?otracker=undefined_footer_navlinks\" class=\"_1arVWX\">Contact Us</a><a href=\"/about-us?otracker=undefined_footer_navlinks\" class=\"_1arVWX\">About Us</a><a href=\"https://www.flipkartcareers.com/?otracker=undefined_footer_navlinks\" class=\"_1arVWX\">Careers</a><a href=\"http://stories.flipkart.com/?otracker=undefined_footer_navlinks\" class=\"_1arVWX\">Flipkart Stories</a><a href=\"/s/press?otracker=undefined_footer_navlinks\" class=\"_1arVWX\">Press</a><a href=\"https://www.flipkartwholesale.com/?otracker=undefined_footer_navlinks\" target=\"_blank\" class=\"_1arVWX\" rel=\"noopener noreferrer\">Flipkart Wholesale</a><a href=\"/corporate-information\" class=\"_1arVWX\">Corporate Information</a></div><div class=\"_2Brcj4\"><div class=\"_3-dnWo\">HELP</div><a href=\"/pages/payments\" class=\"_1arVWX\">Payments</a><a href=\"/pages/shipping\" class=\"_1arVWX\">Shipping</a><a href=\"/helpcentre?catalog=55c9c6edb000002e002c1701&amp;view=CATALOG\" class=\"_1arVWX\">Cancellation &amp; Returns</a><a href=\"/helpcentre?catalog=55c9c8e2b0000023002c1702&amp;view=CATALOG\" class=\"_1arVWX\">FAQ</a><a href=\"https://seller.flipkart.com/fiv?otracker=undefined_footer_navlinks\" class=\"_1arVWX\">Report Infringement</a></div><div class=\"_2Brcj4\"><div class=\"_3-dnWo\">CONSUMER POLICY</div><a href=\"/pages/returnpolicy?otracker=undefined_footer_navlinks\" class=\"_1arVWX\">Return Policy</a><a href=\"/pages/terms?otracker=undefined_footer_navlinks\" class=\"_1arVWX\">Terms Of Use</a><a href=\"/pages/paymentsecurity?otracker=undefined_footer_navlinks\" class=\"_1arVWX\">Security</a><a href=\"/pages/privacypolicy?otracker=undefined_footer_navlinks\" class=\"_1arVWX\">Privacy</a><a href=\"/sitemap?otracker=undefined_footer_navlinks\" class=\"_1arVWX\">Sitemap</a><a href=\"/pages/grievance-redressal-mechanism?otracker=undefined_footer_navlinks\" class=\"_1arVWX\">Grievance Redressal</a><a href=\"/pages/ewaste-compliance-tnc?otracker=undefined_footer_navlinks\" class=\"_1arVWX\">EPR Compliance</a></div><div class=\"_2Brcj4\"><div class=\"_3-dnWo\">SOCIAL</div><a href=\"https://www.facebook.com/flipkart\" class=\"_1arVWX\">Facebook</a><a href=\"https://www.twitter.com/flipkart\" class=\"_1arVWX\">Twitter</a><a href=\"https://www.youtube.com/flipkart\" class=\"_1arVWX\">YouTube</a></div><div class=\"_2Brcj4 address\"><div class=\"_3JHi0r\"><div class=\"_3-dnWo\"><span>Mail Us:</span></div><div class=\"_1U1qnR\"><div class=\"_1LJS6T\"><div class=\"_2NKhZn _1U1qnR\"><p>Flipkart Internet Private Limited, </p>\\n<p> Buildings Alyssa, Begonia &amp; </p>\\n<p> Clove Embassy Tech Village, </p>\\n<p> Outer Ring Road, Devarabeesanahalli Village, </p>\\n<p> Bengaluru, 560103, </p>\\n<p> Karnataka, India</p>\\n</div></div></div></div></div><div class=\"_2Brcj4 address\"><div class=\"_3IT4e6\"><div class=\"_3-dnWo\"><span>Registered Office Address:</span></div><div class=\"_1U1qnR\"><div class=\"_1LJS6T\"><div class=\"_2NKhZn _1U1qnR\"><p>Flipkart Internet Private Limited, </p>\\n<p> Buildings Alyssa, Begonia &amp; </p>\\n<p> Clove Embassy Tech Village, </p>\\n<p> Outer Ring Road, Devarabeesanahalli Village, </p>\\n<p> Bengaluru, 560103, </p>\\n<p> Karnataka, India </p>\\n<p> CIN : U51109KA2012PTC066107 </p>\\n<p> Telephone: <a href=\"tel:044-45614700\">044-45614700</a></p>\\n</div></div></div></div></div></div><div><div class=\"_2uz0vJ\"><div><img src=\"data:image/svg+xml;base64,PHN2ZyB4bWxucz0iaHR0cDovL3d3dy53My5vcmcvMjAwMC9zdmciIHdpZHRoPSIxNiIgaGVpZ2h0PSIxNSIgdmlld0JveD0iMCAwIDE2IDE1Ij4KICAgIDxkZWZzPgogICAgICAgIDxsaW5lYXJHcmFkaWVudCBpZD0iYSIgeDE9IjAlIiB4Mj0iODYuODc2JSIgeTE9IjAlIiB5Mj0iODAuMjAyJSI+CiAgICAgICAgICAgIDxzdG9wIG9mZnNldD0iMCUiIHN0b3AtY29sb3I9IiNGRkQ4MDAiLz4KICAgICAgICAgICAgPHN0b3Agb2Zmc2V0PSIxMDAlIiBzdG9wLWNvbG9yPSIjRkZBRjAwIi8+CiAgICAgICAgPC9saW5lYXJHcmFkaWVudD4KICAgIDwvZGVmcz4KICAgIDxnIGZpbGw9Im5vbmUiIGZpbGwtcnVsZT0iZXZlbm9kZCI+CiAgICAgICAgPHBhdGggZD0iTS0yLTJoMjB2MjBILTJ6Ii8+CiAgICAgICAgPHBhdGggZmlsbD0idXJsKCNhKSIgZmlsbC1ydWxlPSJub256ZXJvIiBkPSJNMTUuOTMgNS42MTRoLTIuOTQ4VjQuMTRjMC0uODE4LS42NTUtMS40NzMtMS40NzMtMS40NzNIOC41NmMtLjgxNyAwLTEuNDczLjY1NS0xLjQ3MyAxLjQ3M3YxLjQ3NEg0LjE0Yy0uODE4IDAtMS40NjYuNjU2LTEuNDY2IDEuNDc0bC0uMDA3IDguMTA1YzAgLjgxOC42NTUgMS40NzQgMS40NzMgMS40NzRoMTEuNzljLjgxOCAwIDEuNDc0LS42NTYgMS40NzQtMS40NzRWNy4wODhjMC0uODE4LS42NTYtMS40NzQtMS40NzQtMS40NzR6bS00LjQyMSAwSDguNTZWNC4xNGgyLjk0OHYxLjQ3NHoiIHRyYW5zZm9ybT0idHJhbnNsYXRlKC0yIC0yKSIvPgogICAgPC9nPgo8L3N2Zz4K\"/><a href=\"https://seller.flipkart.com/?utm_source=fkwebsite&amp;utm_medium=websitedirect\"><span class=\"hDTmm5\">Become a Seller</span></a></div><div><img src=\"data:image/svg+xml;base64,PHN2ZyB4bWxucz0iaHR0cDovL3d3dy53My5vcmcvMjAwMC9zdmciIHdpZHRoPSIxNSIgaGVpZ2h0PSIxNSIgdmlld0JveD0iMCAwIDE1IDE1Ij4KICAgIDxkZWZzPgogICAgICAgIDxsaW5lYXJHcmFkaWVudCBpZD0iYSIgeDE9IjAlIiB4Mj0iODYuODc2JSIgeTE9IjAlIiB5Mj0iODAuMjAyJSI+CiAgICAgICAgICAgIDxzdG9wIG9mZnNldD0iMCUiIHN0b3AtY29sb3I9IiNGRkQ4MDAiLz4KICAgICAgICAgICAgPHN0b3Agb2Zmc2V0PSIxMDAlIiBzdG9wLWNvbG9yPSIjRkZBRjAwIi8+CiAgICAgICAgPC9saW5lYXJHcmFkaWVudD4KICAgIDwvZGVmcz4KICAgIDxnIGZpbGw9Im5vbmUiIGZpbGwtcnVsZT0iZXZlbm9kZCI+CiAgICAgICAgPHBhdGggZD0iTS0zLTNoMjB2MjBILTN6Ii8+CiAgICAgICAgPHBhdGggZmlsbD0idXJsKCNhKSIgZmlsbC1ydWxlPSJub256ZXJvIiBkPSJNMTAuNDkyIDNDNi4zNTMgMyAzIDYuMzYgMyAxMC41YzAgNC4xNCAzLjM1MyA3LjUgNy40OTIgNy41QzE0LjY0IDE4IDE4IDE0LjY0IDE4IDEwLjUgMTggNi4zNiAxNC42NCAzIDEwLjQ5MiAzem0zLjE4IDEyTDEwLjUgMTMuMDg4IDcuMzI3IDE1bC44NC0zLjYwN0w1LjM3IDguOTdsMy42OS0uMzE1TDEwLjUgNS4yNWwxLjQ0IDMuMzk4IDMuNjkuMzE1LTIuNzk4IDIuNDIyLjg0IDMuNjE1eiIgdHJhbnNmb3JtPSJ0cmFuc2xhdGUoLTMgLTMpIi8+CiAgICA8L2c+Cjwvc3ZnPgo=\"/><a href=\"https://brands.flipkart.com\"><span class=\"hDTmm5\">Advertise</span></a></div><div><img src=\"data:image/svg+xml;base64,PHN2ZyB4bWxucz0iaHR0cDovL3d3dy53My5vcmcvMjAwMC9zdmciIHdpZHRoPSIxOCIgaGVpZ2h0PSIxNyIgdmlld0JveD0iMCAwIDE4IDE3Ij4KICAgIDxkZWZzPgogICAgICAgIDxsaW5lYXJHcmFkaWVudCBpZD0iYSIgeDE9IjAlIiB4Mj0iODYuODc2JSIgeTE9IjAlIiB5Mj0iODAuMjAyJSI+CiAgICAgICAgICAgIDxzdG9wIG9mZnNldD0iMCUiIHN0b3AtY29sb3I9IiNGRkQ4MDAiLz4KICAgICAgICAgICAgPHN0b3Agb2Zmc2V0PSIxMDAlIiBzdG9wLWNvbG9yPSIjRkZBRjAwIi8+CiAgICAgICAgPC9saW5lYXJHcmFkaWVudD4KICAgIDwvZGVmcz4KICAgIDxnIGZpbGw9Im5vbmUiIGZpbGwtcnVsZT0iZXZlbm9kZCI+CiAgICAgICAgPHBhdGggZD0iTS0xLTFoMjB2MjBILTF6Ii8+CiAgICAgICAgPHBhdGggZmlsbD0idXJsKCNhKSIgZmlsbC1ydWxlPSJub256ZXJvIiBkPSJNMTYuNjY3IDVIMTQuODVjLjA5Mi0uMjU4LjE1LS41NDIuMTUtLjgzM2EyLjQ5NyAyLjQ5NyAwIDAgMC00LjU4My0xLjM3NUwxMCAzLjM1bC0uNDE3LS41NjdBMi41MSAyLjUxIDAgMCAwIDcuNSAxLjY2N2EyLjQ5NyAyLjQ5NyAwIDAgMC0yLjUgMi41YzAgLjI5MS4wNTguNTc1LjE1LjgzM0gzLjMzM2MtLjkyNSAwLTEuNjU4Ljc0Mi0xLjY1OCAxLjY2N2wtLjAwOCA5LjE2NkExLjY2IDEuNjYgMCAwIDAgMy4zMzMgMTcuNWgxMy4zMzRhMS42NiAxLjY2IDAgMCAwIDEuNjY2LTEuNjY3VjYuNjY3QTEuNjYgMS42NiAwIDAgMCAxNi42NjcgNXptMCA2LjY2N0gzLjMzM3YtNWg0LjIzNEw1LjgzMyA5LjAyNWwxLjM1Ljk3NSAxLjk4NC0yLjdMMTAgNi4xNjdsLjgzMyAxLjEzMyAxLjk4NCAyLjcgMS4zNS0uOTc1LTEuNzM0LTIuMzU4aDQuMjM0djV6IiB0cmFuc2Zvcm09InRyYW5zbGF0ZSgtMSAtMSkiLz4KICAgIDwvZz4KPC9zdmc+Cg==\"/><a href=\"/the-gift-card-store?otracker=undefined_footer_footer_navlinks\"><span class=\"hDTmm5\">Gift Cards</span></a></div><div><img src=\"data:image/svg+xml;base64,PHN2ZyB4bWxucz0iaHR0cDovL3d3dy53My5vcmcvMjAwMC9zdmciIHdpZHRoPSIxNSIgaGVpZ2h0PSIxNSIgdmlld0JveD0iMCAwIDE1IDE1Ij4KICAgIDxkZWZzPgogICAgICAgIDxsaW5lYXJHcmFkaWVudCBpZD0iYSIgeDE9IjAlIiB4Mj0iODYuODc2JSIgeTE9IjAlIiB5Mj0iODAuMjAyJSI+CiAgICAgICAgICAgIDxzdG9wIG9mZnNldD0iMCUiIHN0b3AtY29sb3I9IiNGRkQ4MDAiLz4KICAgICAgICAgICAgPHN0b3Agb2Zmc2V0PSIxMDAlIiBzdG9wLWNvbG9yPSIjRkZBRjAwIi8+CiAgICAgICAgPC9saW5lYXJHcmFkaWVudD4KICAgIDwvZGVmcz4KICAgIDxnIGZpbGw9Im5vbmUiIGZpbGwtcnVsZT0iZXZlbm9kZCI+CiAgICAgICAgPHBhdGggZD0iTS0yLTNoMjB2MjBILTJ6Ii8+CiAgICAgICAgPHBhdGggZmlsbD0idXJsKCNhKSIgZmlsbC1ydWxlPSJub256ZXJvIiBkPSJNOS41IDNDNS4zNiAzIDIgNi4zNiAyIDEwLjUgMiAxNC42NCA1LjM2IDE4IDkuNSAxOGM0LjE0IDAgNy41LTMuMzYgNy41LTcuNUMxNyA2LjM2IDEzLjY0IDMgOS41IDN6bS43NSAxMi43NWgtMS41di0xLjVoMS41djEuNXptMS41NTMtNS44MTNsLS42NzYuNjljLS41NC41NDgtLjg3Ny45OTgtLjg3NyAyLjEyM2gtMS41di0uMzc1YzAtLjgyNS4zMzgtMS41NzUuODc3LTIuMTIzbC45My0uOTQ1Yy4yNzgtLjI3LjQ0My0uNjQ1LjQ0My0xLjA1NyAwLS44MjUtLjY3NS0xLjUtMS41LTEuNVM4IDcuNDI1IDggOC4yNUg2LjVhMyAzIDAgMSAxIDYgMGMwIC42Ni0uMjcgMS4yNi0uNjk3IDEuNjg4eiIgdHJhbnNmb3JtPSJ0cmFuc2xhdGUoLTIgLTMpIi8+CiAgICA8L2c+Cjwvc3ZnPgo=\"/><a href=\"/helpcentre?otracker=undefined_footer_footer_navlinks\"><span class=\"hDTmm5\">Help Center</span></a></div><span class=\"z3ht-w\">\\xc2\\xa9 2007-<!-- -->2023<!-- --> <span>Flipkart.com</span></span><img src=\"//static-assets-web.flixcart.com/fk-p-linchpin-web/fk-cp-zion/img/payment-method_69e7ec.svg\"/></div></div></div></div></footer><div class=\"_1EcK2J _38JCdA\"><div class=\"bra6U8\"><svg width=\"16\" height=\"27\" viewBox=\"0 0 16 27\" xmlns=\"http://www.w3.org/2000/svg\" class=\"_2TdLiZ\"><path d=\"M16 23.207L6.11 13.161 16 3.093 12.955 0 0 13.161l12.955 13.161z\" fill=\"#fff\" class=\"_3ZKfA2\"></path></svg><span>Back to top</span></div></div></div></div> <script type=\"application/ld+json\" nonce=\"7163311636887418669\" id=\"jsonLD\">{}</script> <script type=\"application/ld+json\" nonce=\"7163311636887418669\" id=\"jsonLD\">{}</script><script type=\"application/ld+json\" nonce=\"7163311636887418669\">{\\n    \"@context\": \"http://schema.org\",\\n    \"@type\": \"WebSite\",\\n    \"url\": \"http://www.flipkart.com/\",\\n    \"potentialAction\": [{\\n        \"@type\": \"SearchAction\",\\n        \"target\": \"http://www.flipkart.com/search?q={search_term_string}\",\\n        \"query-input\": \"required name=search_term_string\"\\n        },{\\n        \"@type\": \"SearchAction\",\\n        \"target\": \"android-app://com.flipkart.android/flipkart/de_sq_seg_-search.flipkart.com-_{search_term_string}\",\\n        \"query-input\": \"required name=search_term_string\"\\n    }]\\n}</script><script nonce=\"7163311636887418669\" id=\"is_script\">window.__INITIAL_STATE__ = {};</script> <link data-chunk=\"NavMenu\" rel=\"stylesheet\" href=\"//static-assets-web.flixcart.com/fk-p-linchpin-web/fk-cp-zion/css/NavMenu.chunk.10ffe7.css\"> <script id=\"__LOADABLE_REQUIRED_CHUNKS__\" type=\"application/json\">[121]</script><script id=\"__LOADABLE_REQUIRED_CHUNKS___ext\" type=\"application/json\">{\"namedChunks\":[\"NavMenu\"]}</script>\\n<script async data-chunk=\"NavMenu\" src=\"//static-assets-web.flixcart.com/fk-p-linchpin-web/fk-cp-zion/js/NavMenu.chunk.2bd3e676.js\"></script><script nonce=\"7163311636887418669\">window.omniture={tpv:[],tl:[]};window.omniture.trackPageView=function(){window.omniture.tpv.push(arguments)};window.omniture.trackLink=function(){window.omniture.tl.push(arguments)}\\n\\n    if(window.location.host === \\'www.flipkart.com\\' || /\\\\.store\\\\.flipkart\\\\.com/i.test(window.location.host)){\\n        window.s_account = \"flipkart-prd\"; //omniture account id\\n    }else{\\n        window.s_account = \"flipkart-prd-test\";\\n    }\\n    window.s_isDesktop = true;</script><script nonce=\"7163311636887418669\">function isMobile(){\\n\\t\\tif (!!(navigator.userAgentData && navigator.userAgentData.mobile) || navigator.userAgent.indexOf(\"Mobile\") !== -1){\\n\\t\\t\\treturn true;\\n\\t\\t}\\n\\t\\telse {\\n\\t\\t\\treturn false;\\n\\t\\t}\\n\\t}\\n\\n\\tif (\\'serviceWorker\\' in navigator && !isMobile()) {\\n\\t\\tnavigator.serviceWorker.register(\\'/sw.js\\').then(function(registration) {\\n\\t\\t\\tconsole.log(\\'ServiceWorker registration successful with scope: \\', registration.scope);\\n\\t\\t\\tnavigator.onLine && navigator.serviceWorker.controller && navigator.serviceWorker.controller.postMessage(\\'BANDWIDTH_COMPUTE\\');\\n\\t\\t\\tnavigator.serviceWorker.addEventListener(\\'message\\', function (event) {\\n\\t\\t\\t\\ttry {\\n\\t\\t\\t\\t\\tconst bandwidthData = JSON.parse(event.data);\\n\\t\\t\\t\\t\\tif (bandwidthData && bandwidthData.data) {\\n\\t\\t\\t\\t\\t\\twindow.bandwidth = bandwidthData.data.downlink + \\'_\\' + bandwidthData.data.computeMethod + \\'_\\' + bandwidthData.data.effectiveType + \\'_\\' + bandwidthData.data.type;\\n\\t\\t\\t\\t\\t}\\n\\t\\t\\t\\t}catch(err) {\\n\\t\\t\\t\\t\\tconsole.error(\\'JSON.parse failed:\\', err);\\n\\t\\t\\t\\t}\\n\\t\\t\\t});\\n\\t\\t})\\n\\t\\t.catch(function(err) {\\n\\t\\t\\tconsole.error(\\'ServiceWorker registration failed: \\', err);\\n\\t\\t});\\n\\t} else if(\\'serviceWorker\\' in navigator && isMobile()){\\n        navigator.serviceWorker.getRegistration().then(function(registration) {\\n            var serviceWorkerUnregistered=false;\\n            if(registration) {\\n                registration.unregister();\\n                serviceWorkerUnregistered=true;\\n            }\\n            serviceWorkerUnregistered && window.location.reload();\\n        });\\n    }</script> <script src=\"///www/linchpin/batman-returns/omni/omni16.js\" defer=\"defer\" async nonce=\"7163311636887418669\" id=\"omni_script\"></script>   <script nonce=\"7163311636887418669\">window._pxAppId = \\'PXgNtTli3A\\';</script><script nonce=\"7163311636887418669\" src=\"///px/gNtTli3A/init.js\" async></script></body></html>'\n"
     ]
    }
   ],
   "source": [
    "url=\"https://www.flipkart.com/hp-15s-ryzen-3-dual-core-3250u-4-gb-1-tb-hdd-windows-10-home-15s-gr0006au-thin-light-laptop/product-reviews/itmdbb2d234797b6?pid=COMFZHZFZFFBJBHH&lid=LSTCOMFZHZFZFFBJBHH7WNMPE&marketplace=FLIPKART\"\n",
    "r=requests.get(url)\n",
    "\n",
    "htmlcontain=r.content\n",
    "print(htmlcontain)"
   ]
  },
  {
   "cell_type": "code",
   "execution_count": 4,
   "metadata": {},
   "outputs": [
    {
     "name": "stdout",
     "output_type": "stream",
     "text": [
      "<!DOCTYPE html>\n",
      "<html lang=\"en\">\n",
      " <head>\n",
      "  <link href=\"https://rukminim1.flixcart.com\" rel=\"preconnect\"/>\n",
      "  <link href=\"//static-assets-web.flixcart.com/fk-p-linchpin-web/fk-cp-zion/css/app_modules.chunk.905c37.css\" rel=\"stylesheet\"/>\n",
      "  <link href=\"//static-assets-web.flixcart.com/fk-p-linchpin-web/fk-cp-zion/css/app.chunk.4fb0ab.css\" rel=\"stylesheet\"/>\n",
      "  <meta content=\"text/html; charset=utf-8\" http-equiv=\"Content-type\"/>\n",
      "  <meta content=\"IE=Edge\" http-equiv=\"X-UA-Compatible\"/>\n",
      "  <meta content=\"102988293558\" property=\"fb:page_id\"/>\n",
      "  <meta content=\"658873552,624500995,100000233612389\" property=\"fb:admins\"/>\n",
      "  <meta content=\"noodp\" name=\"robots\"/>\n",
      "  <link href=\"https:///www/promos/new/20150528-140547-favicon-retina.ico\" rel=\"shortcut icon\"/>\n",
      "  <link href=\"/osdd.xml?v=2\" rel=\"search\" type=\"application/opensearchdescription+xml\"/>\n",
      "  <meta content=\"website\" property=\"og:type\"/>\n",
      "  <meta content=\"Flipkart.com\" name=\"og_site_name\" property=\"og:site_name\"/>\n",
      "  <link href=\"/apple-touch-icon-57x57.png\" rel=\"apple-touch-icon\" sizes=\"57x57\"/>\n",
      "  <link href=\"/apple-touch-icon-72x72.png\" rel=\"apple-touch-icon\" sizes=\"72x72\"/>\n",
      "  <link href=\"/apple-touch-icon-114x114.png\" rel=\"apple-touch-icon\" sizes=\"114x114\"/>\n",
      "  <link href=\"/apple-touch-icon-144x144.png\" rel=\"apple-touch-icon\" sizes=\"144x144\"/>\n",
      "  <link href=\"/apple-touch-icon-57x57.png\" rel=\"apple-touch-icon\"/>\n",
      "  <meta content=\"app\" name=\"twitter:card\"/>\n",
      "  <meta content=\"@flipkart\" name=\"twitter:site\"/>\n",
      "  <meta content=\"@flipkart\" name=\"twitter:creator\"/>\n",
      "  <meta content=\"Hp 15s Ryzen 3 Dual Core 3250u 4 Gb 1 Tb Hdd Windows 10 Home 15s Gr0006au Thin Light Laptop Reviews: Latest Review of Hp 15s Ryzen 3 Dual Core 3250u 4 Gb 1 Tb Hdd Windows 10 Home 15s Gr0006au Thin Light Laptop | Price in India | Flipkart.com\" name=\"twitter:title\"/>\n",
      "  <meta content=\"Shop for electronics, apparels &amp; more using our Flipkart app Free shipping &amp; COD.\" name=\"twitter:description\"/>\n",
      "  <meta content=\"in\" name=\"twitter:app:country\"/>\n",
      "  <meta content=\"Flipkart\" name=\"al:ios:app_name\"/>\n",
      "  <meta content=\"742044692\" name=\"al:ios:app_store_id\"/>\n",
      "  <meta content=\"Flipkart\" name=\"twitter:app:name:iphone\"/>\n",
      "  <meta content=\"742044692\" name=\"twitter:app:id:iphone\"/>\n",
      "  <meta content=\"http://dl.flipkart.com/dl/home?\" name=\"twitter:app:url:iphone\"/>\n",
      "  <meta content=\"Flipkart\" name=\"twitter:app:name:ipad\"/>\n",
      "  <meta content=\"742044692\" name=\"twitter:app:id:ipad\"/>\n",
      "  <meta content=\"http://dl.flipkart.com/dl/home?\" name=\"twitter:app:url:ipad\"/>\n",
      "  <meta content=\"Flipkart\" name=\"twitter:app:name:googleplay\"/>\n",
      "  <meta content=\"com.flipkart.android\" name=\"twitter:app:id:googleplay\"/>\n",
      "  <meta content=\"http://dl.flipkart.com/dl/home?\" name=\"twitter:app:url:googleplay\"/>\n",
      "  <style>\n",
      "   #container {\n",
      "\t\t\theight: 100%;\n",
      "\t\t}\n",
      "  </style>\n",
      "  <link href=\"///fk-cp-zion/css/AllReviewsPage.chunk.9b07d6.css\" rel=\"stylesheet\"/>\n",
      "  <title>\n",
      "   Hp 15s Ryzen 3 Dual Core 3250u 4 Gb 1 Tb Hdd Windows 10 Home 15s Gr0006au Thin Light Laptop Reviews: Latest Review of Hp 15s Ryzen 3 Dual Core 3250u 4 Gb 1 Tb Hdd Windows 10 Home 15s Gr0006au Thin Light Laptop | Price in India | Flipkart.com\n",
      "  </title>\n",
      "  <meta content=\"Hp 15s Ryzen 3 Dual Core 3250u 4 Gb 1 Tb Hdd Windows 10 Home 15s Gr0006au Thin Light Laptop Reviews: Latest Review of Hp 15s Ryzen 3 Dual Core 3250u 4 Gb 1 Tb Hdd Windows 10 Home 15s Gr0006au Thin Light Laptop | Price in India | Flipkart.com\" name=\"og_title\" property=\"og:title\">\n",
      "   <meta content=\"Hp 15s Ryzen 3 Dual Core 3250u 4 Gb 1 Tb Hdd Windows 10 Home 15s Gr0006au Thin Light Laptop Reviews\" name=\"Keywords\">\n",
      "    <meta content=\"Read Latest Reviews of Hp 15s Ryzen 3 Dual Core 3250u 4 Gb 1 Tb Hdd Windows 10 Home 15s Gr0006au Thin Light Laptop on Flipkart.com. Find genuine customer reviews and ratings. Buy Hp 15s Ryzen 3 Dual Core 3250u 4 Gb 1 Tb Hdd Windows 10 Home 15s Gr0006au Thin Light Laptop at best prices on Flipkart.com.\" name=\"Description\">\n",
      "     <meta content=\"Read Latest Reviews of Hp 15s Ryzen 3 Dual Core 3250u 4 Gb 1 Tb Hdd Windows 10 Home 15s Gr0006au Thin Light Laptop on Flipkart.com. Find genuine customer reviews and ratings. Buy Hp 15s Ryzen 3 Dual Core 3250u 4 Gb 1 Tb Hdd Windows 10 Home 15s Gr0006au Thin Light Laptop at best prices on Flipkart.com.\" property=\"og:description\">\n",
      "      <link href=\"http://www.flipkart.com/hp-15s-ryzen-3-dual-core-3250u-4-gb-1-tb-hdd-windows-10-home-15s-gr0006au-thin-light-laptop/product-reviews/itmdbb2d234797b6?pid=COMFZHZFZFFBJBHH\" rel=\"canonical\"/>\n",
      "      <meta content=\"http://www.flipkart.com/hp-15s-ryzen-3-dual-core-3250u-4-gb-1-tb-hdd-windows-10-home-15s-gr0006au-thin-light-laptop/product-reviews/itmdbb2d234797b6?pid=COMFZHZFZFFBJBHH\" name=\"og_url\" property=\"og:url\">\n",
      "       <meta content=\"F4EEB3A0AFFDD385992A06E6920C0AC3\" name=\"msvalidate.01\">\n",
      "        <!--[if IE 9 ]>\n",
      "\t<script nonce=\"7163311636887418669\">\n",
      "\t\twindow.browserVersion = 'IE9';\n",
      "\t\tdocument.documentElement.className += ' ie9';\n",
      "\t</script>\n",
      "\t<![endif]-->\n",
      "        <!--[if !IE]><!-->\n",
      "        <script nonce=\"7163311636887418669\">\n",
      "         if (/*@cc_on!@*/false) {\n",
      "\t\t\twindow.browserVersion = 'IE10';\n",
      "\t\t\tdocument.documentElement.className += ' ie10';\n",
      "\t\t}\n",
      "        </script>\n",
      "        <!--<![endif]-->\n",
      "        <script nonce=\"7163311636887418669\">\n",
      "         !function(){if(\"PerformancePaintTiming\" in window){var e=window.__perf={e:[]};e.o=new PerformanceObserver(function(n){e.e=e.e.concat(n.getEntries())});try{e.o.observe({entryTypes:[\"paint\"]})}catch(e){}}}();\n",
      "\n",
      "\t\tif (requestAnimationFrame && performance && performance.mark) {\n",
      "\t\t\trequestAnimationFrame(function () {\n",
      "\t\t\t\twindow.first_paint = performance.now();\n",
      "\t\t\t\tperformance.mark(\"first_paint\");\n",
      "\t\t\t});\n",
      "\t\t}\n",
      "\n",
      "        // web-vitals polyfill for FID\n",
      "        !function(n,e){var t,o,i,c=[],f={passive:!0,capture:!0},r=new Date,a=\"pointerup\",u=\"pointercancel\";function p(n,c){t||(t=c,o=n,i=new Date,w(e),s())}function s(){o>=0&&o<i-r&&(c.forEach(function(n){n(o,t)}),c=[])}function l(t){if(t.cancelable){var o=(t.timeStamp>1e12?new Date:performance.now())-t.timeStamp;\"pointerdown\"==t.type?function(t,o){function i(){p(t,o),r()}function c(){r()}function r(){e(a,i,f),e(u,c,f)}n(a,i,f),n(u,c,f)}(o,t):p(o,t)}}function w(n){[\"click\",\"mousedown\",\"keydown\",\"touchstart\",\"pointerdown\"].forEach(function(e){n(e,l,f)})}w(n),self.perfMetrics=self.perfMetrics||{},self.perfMetrics.onFirstInputDelay=function(n){c.push(n),s()}}(addEventListener,removeEventListener);\n",
      "        </script>\n",
      "        <script async=\"\" src=\"https://www.googletagmanager.com/gtag/js?id=AW-594691041\">\n",
      "        </script>\n",
      "        <script nonce=\"7163311636887418669\">\n",
      "         window.dataLayer = window.dataLayer || [];\n",
      "\t\tfunction gtag(){dataLayer.push(arguments)};\n",
      "\t\tgtag('js', new Date());\n",
      "        </script>\n",
      "       </meta>\n",
      "      </meta>\n",
      "     </meta>\n",
      "    </meta>\n",
      "   </meta>\n",
      "  </meta>\n",
      " </head>\n",
      " <body>\n",
      "  <div id=\"container\">\n",
      "   <div>\n",
      "    <div class=\"_1kfTjk\">\n",
      "     <div class=\"_1rH5Jn\">\n",
      "      <div class=\"_1TmfNK\">\n",
      "      </div>\n",
      "      <div class=\"_2Xfa2_\">\n",
      "       <div class=\"_3_C9Hx\">\n",
      "        <div class=\"_3qX0zy\">\n",
      "         <a href=\"/\">\n",
      "          <img alt=\"Flipkart\" class=\"_2xm1JU\" src=\"//static-assets-web.flixcart.com/fk-p-linchpin-web/fk-cp-zion/img/flipkart-plus_8d85f4.png\" title=\"Flipkart\" width=\"75\"/>\n",
      "         </a>\n",
      "         <a class=\"_21ljIi\" href=\"/plus\">\n",
      "          Explore\n",
      "          <!-- -->\n",
      "          <span class=\"_2FVHGh\">\n",
      "           Plus\n",
      "          </span>\n",
      "          <img src=\"//static-assets-web.flixcart.com/fk-p-linchpin-web/fk-cp-zion/img/plus_aef861.png\" width=\"10\"/>\n",
      "         </a>\n",
      "        </div>\n",
      "       </div>\n",
      "       <div class=\"_1cmsER\">\n",
      "        <form action=\"/search\" class=\"_2M8cLY header-form-search\" method=\"GET\">\n",
      "         <div class=\"col-12-12 _2oO9oE\">\n",
      "          <div class=\"_3OO5Xc\">\n",
      "           <input autocomplete=\"off\" class=\"_3704LK\" name=\"q\" placeholder=\"Search for products, brands and more\" title=\"Search for products, brands and more\" type=\"text\" value=\"\"/>\n",
      "          </div>\n",
      "          <button class=\"L0Z3Pu\" type=\"submit\">\n",
      "           <svg class=\"\" height=\"20\" viewbox=\"0 0 17 18\" width=\"20\" xmlns=\"http://www.w3.org/2000/svg\">\n",
      "            <g fill=\"#2874F1\" fill-rule=\"evenodd\">\n",
      "             <path class=\"_34RNph\" d=\"m11.618 9.897l4.225 4.212c.092.092.101.232.02.313l-1.465 1.46c-.081.081-.221.072-.314-.02l-4.216-4.203\">\n",
      "             </path>\n",
      "             <path class=\"_34RNph\" d=\"m6.486 10.901c-2.42 0-4.381-1.956-4.381-4.368 0-2.413 1.961-4.369 4.381-4.369 2.42 0 4.381 1.956 4.381 4.369 0 2.413-1.961 4.368-4.381 4.368m0-10.835c-3.582 0-6.486 2.895-6.486 6.467 0 3.572 2.904 6.467 6.486 6.467 3.582 0 6.486-2.895 6.486-6.467 0-3.572-2.904-6.467-6.486-6.467\">\n",
      "             </path>\n",
      "            </g>\n",
      "           </svg>\n",
      "          </button>\n",
      "          <input name=\"otracker\" type=\"hidden\" value=\"search\"/>\n",
      "          <input name=\"otracker1\" type=\"hidden\" value=\"search\"/>\n",
      "          <input name=\"marketplace\" type=\"hidden\" value=\"FLIPKART\"/>\n",
      "          <input name=\"as-show\" type=\"hidden\" value=\"off\"/>\n",
      "          <input name=\"as\" type=\"hidden\" value=\"off\"/>\n",
      "         </div>\n",
      "         <ul class=\"col-12-12 _1MRYA1\">\n",
      "         </ul>\n",
      "        </form>\n",
      "       </div>\n",
      "       <div class=\"go_DOp _2errNR\">\n",
      "        <div class=\"_28p97w\">\n",
      "         <div class=\"_1psGvi _3BvnxG\">\n",
      "          <div>\n",
      "           <a class=\"_1_3w1N\" href=\"/account/login?ret=/hp-15s-ryzen-3-dual-core-3250u-4-gb-1-tb-hdd-windows-10-home-15s-gr0006au-thin-light-laptop/product-reviews/itmdbb2d234797b6%3Fpid%3DCOMFZHZFZFFBJBHH%26lid%3DLSTCOMFZHZFZFFBJBHH7WNMPE%26marketplace%3DFLIPKART\">\n",
      "            Login\n",
      "           </a>\n",
      "          </div>\n",
      "         </div>\n",
      "        </div>\n",
      "       </div>\n",
      "       <div class=\"go_DOp\">\n",
      "        <a class=\"_3-PJz-\" href=\"https://seller.flipkart.com/sell-online/?utm_source=fkwebsite&amp;utm_medium=websitedirect\">\n",
      "         <span>\n",
      "          Become a Seller\n",
      "         </span>\n",
      "        </a>\n",
      "       </div>\n",
      "       <div class=\"go_DOp\">\n",
      "        <div class=\"_28p97w\">\n",
      "         <div class=\"_1psGvi _3BvnxG\">\n",
      "          <div>\n",
      "           <div class=\"exehdJ\">\n",
      "            <!-- -->\n",
      "            More\n",
      "            <!-- -->\n",
      "           </div>\n",
      "          </div>\n",
      "         </div>\n",
      "         <svg class=\"zZ3yfL\" height=\"8\" viewbox=\"0 0 16 27\" width=\"4.7\" xmlns=\"http://www.w3.org/2000/svg\">\n",
      "          <path class=\"_2gTTdy\" d=\"M16 23.207L6.11 13.161 16 3.093 12.955 0 0 13.161l12.955 13.161z\" fill=\"#fff\">\n",
      "          </path>\n",
      "         </svg>\n",
      "        </div>\n",
      "       </div>\n",
      "       <div class=\"go_DOp\">\n",
      "        <div class=\"_1psGvi\">\n",
      "         <div class=\"YUhWwv\">\n",
      "          <a class=\"_3SkBxJ\" href=\"/viewcart?exploreMode=true&amp;preference=FLIPKART\">\n",
      "           <svg class=\"V3C5bO\" height=\"14\" viewbox=\"0 0 16 16\" width=\"14\" xmlns=\"http://www.w3.org/2000/svg\">\n",
      "            <path class=\"_1bS9ic\" d=\"M15.32 2.405H4.887C3 2.405 2.46.805 2.46.805L2.257.21C2.208.085 2.083 0 1.946 0H.336C.1 0-.064.24.024.46l.644 1.945L3.11 9.767c.047.137.175.23.32.23h8.418l-.493 1.958H3.768l.002.003c-.017 0-.033-.003-.05-.003-1.06 0-1.92.86-1.92 1.92s.86 1.92 1.92 1.92c.99 0 1.805-.75 1.91-1.712l5.55.076c.12.922.91 1.636 1.867 1.636 1.04 0 1.885-.844 1.885-1.885 0-.866-.584-1.593-1.38-1.814l2.423-8.832c.12-.433-.206-.86-.655-.86\" fill=\"#fff\">\n",
      "            </path>\n",
      "           </svg>\n",
      "           <span>\n",
      "            Cart\n",
      "           </span>\n",
      "          </a>\n",
      "         </div>\n",
      "        </div>\n",
      "       </div>\n",
      "      </div>\n",
      "      <div class=\"_1TmfNK\">\n",
      "      </div>\n",
      "     </div>\n",
      "     <div class=\"_1mUdNz\">\n",
      "     </div>\n",
      "    </div>\n",
      "    <div class=\"_331-kn\">\n",
      "    </div>\n",
      "    <div class=\"_2tsNFb\">\n",
      "     <div class=\"_6t1WkM _3HqJxg\">\n",
      "      <div class=\"_1YokD2 _2GoDe3 col-12-12\">\n",
      "       <div class=\"_1YokD2 _3Mn1Gg col-3-12\" style=\"border-right:1px solid #f0f0f0\">\n",
      "        <div class=\"_1AtVbE col-12-12\">\n",
      "         <div class=\"_4ddWXP _3BCh3_ _G-HdA\">\n",
      "          <a class=\"_2rpwqI\" href=\"/hp-15s-ryzen-3-dual-core-3250u-4-gb-1-tb-hdd-windows-10-home-15s-gr0006au-thin-light-laptop/p/itmdbb2d234797b6?pid=COMFZHZFZFFBJBHH&amp;fm=organic&amp;ppt=None&amp;ppn=None&amp;ssid=tkyymiyx340000001682344797706\" rel=\"noopener noreferrer\" target=\"_blank\" title=\"HP 15s Ryzen 3 Dual Core 3250U - (4 GB/1 TB HDD/Windows 10 Home) 15s-GR0006AU Thin and Light Laptop\">\n",
      "           <div class=\"_28_T72\">\n",
      "            <div>\n",
      "             <div class=\"CXW8mj\" style=\"height:246px;width:246px\">\n",
      "              <img alt=\"HP 15s Ryzen 3 Dual Core 3250U - (4 GB/1 TB HDD/Windows 10 Home) 15s-GR0006AU Thin and Light Laptop\" class=\"_396cs4\" loading=\"eager\" src=\"https://rukminim1.flixcart.com/image/312/312/kk76wsw0/computer/8/2/2/hp-original-imafzhsyh6qaydrz.jpeg?q=70\"/>\n",
      "             </div>\n",
      "            </div>\n",
      "           </div>\n",
      "          </a>\n",
      "          <div>\n",
      "           <div>\n",
      "            <a class=\"s1Q9rs _2qfgz2\" href=\"/hp-15s-ryzen-3-dual-core-3250u-4-gb-1-tb-hdd-windows-10-home-15s-gr0006au-thin-light-laptop/p/itmdbb2d234797b6?pid=COMFZHZFZFFBJBHH&amp;fm=organic&amp;ppt=None&amp;ppn=None&amp;ssid=tkyymiyx340000001682344797706\" rel=\"noopener noreferrer\" target=\"_blank\" title=\"HP 15s Ryzen 3 Dual Core 3250U - (4 GB/1 TB HDD/Windows 10 Home) 15s-GR0006AU Thin and Light Laptop\">\n",
      "             HP 15s Ryzen 3 Dual Core 3250U - (4 GB/1 TB HDD/Windows 10 Hom...\n",
      "            </a>\n",
      "           </div>\n",
      "           <div class=\"gUuXy-\">\n",
      "            <span class=\"_1lRcqv\" id=\"productRating_LSTCOMFZHZFZFFBJBHH7WNMPE_COMFZHZFZFFBJBHH_\">\n",
      "             <div class=\"_3LWZlK\">\n",
      "              3.8\n",
      "              <img class=\"_1wB99o\" src=\"data:image/svg+xml;base64,PHN2ZyB4bWxucz0iaHR0cDovL3d3dy53My5vcmcvMjAwMC9zdmciIHdpZHRoPSIxMyIgaGVpZ2h0PSIxMiI+PHBhdGggZmlsbD0iI0ZGRiIgZD0iTTYuNSA5LjQzOWwtMy42NzQgMi4yMy45NC00LjI2LTMuMjEtMi44ODMgNC4yNTQtLjQwNEw2LjUuMTEybDEuNjkgNC4wMSA0LjI1NC40MDQtMy4yMSAyLjg4Mi45NCA0LjI2eiIvPjwvc3ZnPg==\"/>\n",
      "             </div>\n",
      "            </span>\n",
      "            <span class=\"_2_R_DZ\">\n",
      "             <span>\n",
      "              <span>\n",
      "               1,609 Ratings\n",
      "              </span>\n",
      "              <span class=\"_13vcmD\">\n",
      "               &amp;\n",
      "              </span>\n",
      "              <span>\n",
      "               218 Reviews\n",
      "              </span>\n",
      "             </span>\n",
      "            </span>\n",
      "           </div>\n",
      "           <div class=\"_8VNy32 lnJjg0\">\n",
      "            <div class=\"_25b18c\">\n",
      "             <div class=\"_30jeq3\">\n",
      "              ₹32,990\n",
      "             </div>\n",
      "             <div class=\"_3I9_wc\">\n",
      "              ₹\n",
      "              <!-- -->\n",
      "              34,480\n",
      "             </div>\n",
      "             <div class=\"_3Ay6Sb\">\n",
      "              <span>\n",
      "               4% off\n",
      "              </span>\n",
      "             </div>\n",
      "            </div>\n",
      "           </div>\n",
      "          </div>\n",
      "         </div>\n",
      "        </div>\n",
      "        <div class=\"_1AtVbE col-12-12\" style=\"border-top:1px solid #f0f0f0\">\n",
      "         <div class=\"_1LsTqa\">\n",
      "          <div class=\"jEaykx\">\n",
      "           <span>\n",
      "            User Images\n",
      "           </span>\n",
      "          </div>\n",
      "          <div class=\"_2nMSwX _2ajiBF\">\n",
      "           <div class=\"_21YjFX _3NGqA1\" style=\"background-image:url(https://rukminim1.flixcart.com/blobio/140/140/imr-202103/blobio-imr-202103_27608966d1084865a889246c1c61951e.jpg?q=90), url(data:image/svg+xml;base64,PHN2ZyB3aWR0aD0iMjIiIGhlaWdodD0iMTgiIHhtbG5zPSJodHRwOi8vd3d3LnczLm9yZy8yMDAwL3N2ZyI+PGcgZmlsbD0iIzlEOUQ5RCIgZmlsbC1ydWxlPSJub256ZXJvIj48cGF0aCBkPSJNMjAgMEgyQzEgMCAwIDEgMCAydjE0YzAgMS4xLjkgMiAyIDJoMThjMSAwIDItMSAyLTJWMmMwLTEtMS0yLTItMnptMCAxNS45MmMtLjAyLjAzLS4wNi4wNi0uMDguMDhIMlYyLjA4TDIuMDggMmgxNy44M2MuMDMuMDIuMDYuMDYuMDguMDh2MTMuODRIMjB6Ii8+PHBhdGggZD0iTTEwIDEyLjUxTDcuNSA5LjUgNCAxNGgxNGwtNC41LTZ6Ii8+PC9nPjwvc3ZnPg==);width:70px;height:70px\">\n",
      "           </div>\n",
      "           <div class=\"_21YjFX _3NGqA1\" style=\"background-image:url(https://rukminim1.flixcart.com/blobio/140/140/imr-202103/blobio-imr-202103_fdd6cfde43ed4d52ae2f5d75c9318647.jpg?q=90), url(data:image/svg+xml;base64,PHN2ZyB3aWR0aD0iMjIiIGhlaWdodD0iMTgiIHhtbG5zPSJodHRwOi8vd3d3LnczLm9yZy8yMDAwL3N2ZyI+PGcgZmlsbD0iIzlEOUQ5RCIgZmlsbC1ydWxlPSJub256ZXJvIj48cGF0aCBkPSJNMjAgMEgyQzEgMCAwIDEgMCAydjE0YzAgMS4xLjkgMiAyIDJoMThjMSAwIDItMSAyLTJWMmMwLTEtMS0yLTItMnptMCAxNS45MmMtLjAyLjAzLS4wNi4wNi0uMDguMDhIMlYyLjA4TDIuMDggMmgxNy44M2MuMDMuMDIuMDYuMDYuMDguMDh2MTMuODRIMjB6Ii8+PHBhdGggZD0iTTEwIDEyLjUxTDcuNSA5LjUgNCAxNGgxNGwtNC41LTZ6Ii8+PC9nPjwvc3ZnPg==);width:70px;height:70px\">\n",
      "           </div>\n",
      "           <div class=\"_21YjFX _3NGqA1\" style=\"background-image:url(https://rukminim1.flixcart.com/blobio/140/140/imr-202104/blobio-imr-202104_1921e3b49e424ab6abfb24462c02d1c8.jpg?q=90), url(data:image/svg+xml;base64,PHN2ZyB3aWR0aD0iMjIiIGhlaWdodD0iMTgiIHhtbG5zPSJodHRwOi8vd3d3LnczLm9yZy8yMDAwL3N2ZyI+PGcgZmlsbD0iIzlEOUQ5RCIgZmlsbC1ydWxlPSJub256ZXJvIj48cGF0aCBkPSJNMjAgMEgyQzEgMCAwIDEgMCAydjE0YzAgMS4xLjkgMiAyIDJoMThjMSAwIDItMSAyLTJWMmMwLTEtMS0yLTItMnptMCAxNS45MmMtLjAyLjAzLS4wNi4wNi0uMDguMDhIMlYyLjA4TDIuMDggMmgxNy44M2MuMDMuMDIuMDYuMDYuMDguMDh2MTMuODRIMjB6Ii8+PHBhdGggZD0iTTEwIDEyLjUxTDcuNSA5LjUgNCAxNGgxNGwtNC41LTZ6Ii8+PC9nPjwvc3ZnPg==);width:70px;height:70px\">\n",
      "           </div>\n",
      "           <div class=\"_21YjFX _3NGqA1\" style=\"background-image:url(https://rukminim1.flixcart.com/blobio/140/140/imr-202104/blobio-imr-202104_a012684e75274c81923f60560eb6354b.jpg?q=90), url(data:image/svg+xml;base64,PHN2ZyB3aWR0aD0iMjIiIGhlaWdodD0iMTgiIHhtbG5zPSJodHRwOi8vd3d3LnczLm9yZy8yMDAwL3N2ZyI+PGcgZmlsbD0iIzlEOUQ5RCIgZmlsbC1ydWxlPSJub256ZXJvIj48cGF0aCBkPSJNMjAgMEgyQzEgMCAwIDEgMCAydjE0YzAgMS4xLjkgMiAyIDJoMThjMSAwIDItMSAyLTJWMmMwLTEtMS0yLTItMnptMCAxNS45MmMtLjAyLjAzLS4wNi4wNi0uMDguMDhIMlYyLjA4TDIuMDggMmgxNy44M2MuMDMuMDIuMDYuMDYuMDguMDh2MTMuODRIMjB6Ii8+PHBhdGggZD0iTTEwIDEyLjUxTDcuNSA5LjUgNCAxNGgxNGwtNC41LTZ6Ii8+PC9nPjwvc3ZnPg==);width:70px;height:70px\">\n",
      "           </div>\n",
      "           <div class=\"_21YjFX _3NGqA1\" style=\"background-image:url(https://rukminim1.flixcart.com/blobio/140/140/imr-202104/blobio-imr-202104_5ed4e0906678432fa30e5ad61a5e2e6c.jpg?q=90), url(data:image/svg+xml;base64,PHN2ZyB3aWR0aD0iMjIiIGhlaWdodD0iMTgiIHhtbG5zPSJodHRwOi8vd3d3LnczLm9yZy8yMDAwL3N2ZyI+PGcgZmlsbD0iIzlEOUQ5RCIgZmlsbC1ydWxlPSJub256ZXJvIj48cGF0aCBkPSJNMjAgMEgyQzEgMCAwIDEgMCAydjE0YzAgMS4xLjkgMiAyIDJoMThjMSAwIDItMSAyLTJWMmMwLTEtMS0yLTItMnptMCAxNS45MmMtLjAyLjAzLS4wNi4wNi0uMDguMDhIMlYyLjA4TDIuMDggMmgxNy44M2MuMDMuMDIuMDYuMDYuMDguMDh2MTMuODRIMjB6Ii8+PHBhdGggZD0iTTEwIDEyLjUxTDcuNSA5LjUgNCAxNGgxNGwtNC41LTZ6Ii8+PC9nPjwvc3ZnPg==);width:70px;height:70px\">\n",
      "           </div>\n",
      "           <div class=\"_21YjFX _3NGqA1\" style=\"background-image:url(https://rukminim1.flixcart.com/blobio/140/140/imr-202103/blobio-imr-202103_aa8be26824314b2bab4d33c4626faac3.jpg?q=90), url(data:image/svg+xml;base64,PHN2ZyB3aWR0aD0iMjIiIGhlaWdodD0iMTgiIHhtbG5zPSJodHRwOi8vd3d3LnczLm9yZy8yMDAwL3N2ZyI+PGcgZmlsbD0iIzlEOUQ5RCIgZmlsbC1ydWxlPSJub256ZXJvIj48cGF0aCBkPSJNMjAgMEgyQzEgMCAwIDEgMCAydjE0YzAgMS4xLjkgMiAyIDJoMThjMSAwIDItMSAyLTJWMmMwLTEtMS0yLTItMnptMCAxNS45MmMtLjAyLjAzLS4wNi4wNi0uMDguMDhIMlYyLjA4TDIuMDggMmgxNy44M2MuMDMuMDIuMDYuMDYuMDguMDh2MTMuODRIMjB6Ii8+PHBhdGggZD0iTTEwIDEyLjUxTDcuNSA5LjUgNCAxNGgxNGwtNC41LTZ6Ii8+PC9nPjwvc3ZnPg==);width:70px;height:70px\">\n",
      "           </div>\n",
      "           <div class=\"_21YjFX _3NGqA1\" style=\"background-image:url(https://rukminim1.flixcart.com/blobio/140/140/imr-202103/blobio-imr-202103_1160a428fabe42269d5d47166c4b1516.jpg?q=90), url(data:image/svg+xml;base64,PHN2ZyB3aWR0aD0iMjIiIGhlaWdodD0iMTgiIHhtbG5zPSJodHRwOi8vd3d3LnczLm9yZy8yMDAwL3N2ZyI+PGcgZmlsbD0iIzlEOUQ5RCIgZmlsbC1ydWxlPSJub256ZXJvIj48cGF0aCBkPSJNMjAgMEgyQzEgMCAwIDEgMCAydjE0YzAgMS4xLjkgMiAyIDJoMThjMSAwIDItMSAyLTJWMmMwLTEtMS0yLTItMnptMCAxNS45MmMtLjAyLjAzLS4wNi4wNi0uMDguMDhIMlYyLjA4TDIuMDggMmgxNy44M2MuMDMuMDIuMDYuMDYuMDguMDh2MTMuODRIMjB6Ii8+PHBhdGggZD0iTTEwIDEyLjUxTDcuNSA5LjUgNCAxNGgxNGwtNC41LTZ6Ii8+PC9nPjwvc3ZnPg==);width:70px;height:70px\">\n",
      "           </div>\n",
      "           <div class=\"_21YjFX _3NGqA1 RU6t0j\" style=\"background-image:url(https://rukminim1.flixcart.com/blobio/140/140/imr-202104/blobio-imr-202104_93955492db044b48920e88c9119f6e67.jpg?q=90), url(data:image/svg+xml;base64,PHN2ZyB3aWR0aD0iMjIiIGhlaWdodD0iMTgiIHhtbG5zPSJodHRwOi8vd3d3LnczLm9yZy8yMDAwL3N2ZyI+PGcgZmlsbD0iIzlEOUQ5RCIgZmlsbC1ydWxlPSJub256ZXJvIj48cGF0aCBkPSJNMjAgMEgyQzEgMCAwIDEgMCAydjE0YzAgMS4xLjkgMiAyIDJoMThjMSAwIDItMSAyLTJWMmMwLTEtMS0yLTItMnptMCAxNS45MmMtLjAyLjAzLS4wNi4wNi0uMDguMDhIMlYyLjA4TDIuMDggMmgxNy44M2MuMDMuMDIuMDYuMDYuMDguMDh2MTMuODRIMjB6Ii8+PHBhdGggZD0iTTEwIDEyLjUxTDcuNSA5LjUgNCAxNGgxNGwtNC41LTZ6Ii8+PC9nPjwvc3ZnPg==);width:70px;height:70px\">\n",
      "            <span class=\"_380ehC\">\n",
      "             +\n",
      "             <!-- -->\n",
      "             28\n",
      "            </span>\n",
      "           </div>\n",
      "          </div>\n",
      "         </div>\n",
      "        </div>\n",
      "       </div>\n",
      "       <div class=\"_1YokD2 _3Mn1Gg col-9-12\">\n",
      "        <div class=\"_1YokD2 _3Mn1Gg col-12-12\" style=\"border-bottom:1px solid #f0f0f0\">\n",
      "         <div class=\"_1YokD2 _2GoDe3 col-12-12\">\n",
      "          <div class=\"_1AtVbE col-10-12\">\n",
      "           <div class=\"_2s4DIt _1CDdy2\">\n",
      "            HP 15s Ryzen 3 Dual Core 3250U - (4 GB/1 TB HDD/Windows 10 Home) 15s-GR0006AU Thin and Light Laptop Reviews\n",
      "           </div>\n",
      "          </div>\n",
      "          <div class=\"_1AtVbE\" style=\"flex-grow:1;overflow:initital\">\n",
      "           <div class=\"gEkCyh\">\n",
      "            <div class=\"_3uXCGr\">\n",
      "             <div class=\"_2ECNXS\">\n",
      "              <div class=\"_1cpOwe tVKh2S\">\n",
      "               <select class=\"_1EDlbo tVKh2S\" name=\"sortFilter\">\n",
      "                <option selected=\"\" value=\"MOST_HELPFUL\">\n",
      "                 Most Helpful\n",
      "                </option>\n",
      "                <option value=\"MOST_RECENT\">\n",
      "                 Most Recent\n",
      "                </option>\n",
      "                <option value=\"POSITIVE_FIRST\">\n",
      "                 Positive First\n",
      "                </option>\n",
      "                <option value=\"NEGATIVE_FIRST\">\n",
      "                 Negative First\n",
      "                </option>\n",
      "               </select>\n",
      "               <span class=\"_2NY3xT _2VZJIQ\">\n",
      "               </span>\n",
      "              </div>\n",
      "             </div>\n",
      "            </div>\n",
      "           </div>\n",
      "          </div>\n",
      "         </div>\n",
      "         <div class=\"_1AtVbE col-12-12\">\n",
      "          <div class=\"_33iqLu\">\n",
      "           <div>\n",
      "            <a class=\"_203_Tp\" href=\"/hp-15s-ryzen-3-dual-core-3250u-4-gb-1-tb-hdd-windows-10-home-15s-gr0006au-thin-light-laptop/product-reviews/itmdbb2d234797b6?pid=COMFZHZFZFFBJBHH&amp;lid=LSTCOMFZHZFZFFBJBHH7WNMPE&amp;sortOrder=MOST_HELPFUL&amp;certifiedBuyer=false&amp;aid=overall\">\n",
      "             <span class=\"_1YKVER _203_Tp\">\n",
      "              Overall\n",
      "             </span>\n",
      "            </a>\n",
      "            <a class=\"\" href=\"/hp-15s-ryzen-3-dual-core-3250u-4-gb-1-tb-hdd-windows-10-home-15s-gr0006au-thin-light-laptop/product-reviews/itmdbb2d234797b6?pid=COMFZHZFZFFBJBHH&amp;lid=LSTCOMFZHZFZFFBJBHH7WNMPE&amp;sortOrder=MOST_HELPFUL&amp;certifiedBuyer=false&amp;aid=bb0d522c-0d71-4218-bf8d-59f4f6d9619b\">\n",
      "             <span class=\"_1YKVER\">\n",
      "              Performance\n",
      "             </span>\n",
      "            </a>\n",
      "            <a class=\"\" href=\"/hp-15s-ryzen-3-dual-core-3250u-4-gb-1-tb-hdd-windows-10-home-15s-gr0006au-thin-light-laptop/product-reviews/itmdbb2d234797b6?pid=COMFZHZFZFFBJBHH&amp;lid=LSTCOMFZHZFZFFBJBHH7WNMPE&amp;sortOrder=MOST_HELPFUL&amp;certifiedBuyer=false&amp;aid=f2b10aa8-b719-4f2e-b49e-38056d41a9a5\">\n",
      "             <span class=\"_1YKVER\">\n",
      "              Battery\n",
      "             </span>\n",
      "            </a>\n",
      "            <a class=\"\" href=\"/hp-15s-ryzen-3-dual-core-3250u-4-gb-1-tb-hdd-windows-10-home-15s-gr0006au-thin-light-laptop/product-reviews/itmdbb2d234797b6?pid=COMFZHZFZFFBJBHH&amp;lid=LSTCOMFZHZFZFFBJBHH7WNMPE&amp;sortOrder=MOST_HELPFUL&amp;certifiedBuyer=false&amp;aid=a785ae91-3171-460c-a347-e08ec6e4e5c9\">\n",
      "             <span class=\"_1YKVER\">\n",
      "              Design\n",
      "             </span>\n",
      "            </a>\n",
      "            <a class=\"\" href=\"/hp-15s-ryzen-3-dual-core-3250u-4-gb-1-tb-hdd-windows-10-home-15s-gr0006au-thin-light-laptop/product-reviews/itmdbb2d234797b6?pid=COMFZHZFZFFBJBHH&amp;lid=LSTCOMFZHZFZFFBJBHH7WNMPE&amp;sortOrder=MOST_HELPFUL&amp;certifiedBuyer=false&amp;aid=09d5f4d3-52b2-4a2a-a97d-c285003eb3a5\">\n",
      "             <span class=\"_1YKVER\">\n",
      "              Display\n",
      "             </span>\n",
      "            </a>\n",
      "            <a class=\"\" href=\"/hp-15s-ryzen-3-dual-core-3250u-4-gb-1-tb-hdd-windows-10-home-15s-gr0006au-thin-light-laptop/product-reviews/itmdbb2d234797b6?pid=COMFZHZFZFFBJBHH&amp;lid=LSTCOMFZHZFZFFBJBHH7WNMPE&amp;sortOrder=MOST_HELPFUL&amp;certifiedBuyer=false&amp;aid=41d28ac9-025c-45d9-a8c1-8fe347ceab25\">\n",
      "             <span class=\"_1YKVER\">\n",
      "              Value for Money\n",
      "             </span>\n",
      "            </a>\n",
      "           </div>\n",
      "          </div>\n",
      "         </div>\n",
      "        </div>\n",
      "        <div class=\"_1AtVbE col-12-12\">\n",
      "         <div class=\"row Bfvo5l\">\n",
      "          <div class=\"col-4-12 _17ETNY\">\n",
      "           <div class=\"col\">\n",
      "            <div class=\"row\">\n",
      "             <div class=\"col-12-12 _1azcI6\">\n",
      "              <div class=\"_2d4LTz\">\n",
      "               3.8\n",
      "              </div>\n",
      "              <div class=\"_2yxeXv\">\n",
      "               ★\n",
      "              </div>\n",
      "             </div>\n",
      "            </div>\n",
      "            <div class=\"row _2afbiS\">\n",
      "             <div class=\"col-12-12\">\n",
      "              <span>\n",
      "               1,609 Ratings &amp;\n",
      "              </span>\n",
      "             </div>\n",
      "            </div>\n",
      "            <div class=\"row _2afbiS\">\n",
      "             <div class=\"col-12-12\">\n",
      "              <span>\n",
      "               218 Reviews\n",
      "              </span>\n",
      "             </div>\n",
      "            </div>\n",
      "           </div>\n",
      "          </div>\n",
      "          <div class=\"col-8-12\">\n",
      "           <div class=\"_13sFCC miQW6D _2m9Pwo\">\n",
      "            <ul class=\"_2jr1F_\">\n",
      "             <li class=\"_28Xb_u\">\n",
      "              <div class=\"omG9iE\">\n",
      "               <span class=\"_26f_zl\">\n",
      "                5\n",
      "               </span>\n",
      "               <span class=\"_2xBWPJ\">\n",
      "                ★\n",
      "               </span>\n",
      "              </div>\n",
      "             </li>\n",
      "             <li class=\"_28Xb_u\">\n",
      "              <div class=\"omG9iE\">\n",
      "               <span class=\"_26f_zl\">\n",
      "                4\n",
      "               </span>\n",
      "               <span class=\"_2xBWPJ\">\n",
      "                ★\n",
      "               </span>\n",
      "              </div>\n",
      "             </li>\n",
      "             <li class=\"_28Xb_u\">\n",
      "              <div class=\"omG9iE\">\n",
      "               <span class=\"_26f_zl\">\n",
      "                3\n",
      "               </span>\n",
      "               <span class=\"_2xBWPJ\">\n",
      "                ★\n",
      "               </span>\n",
      "              </div>\n",
      "             </li>\n",
      "             <li class=\"_28Xb_u\">\n",
      "              <div class=\"omG9iE\">\n",
      "               <span class=\"_26f_zl\">\n",
      "                2\n",
      "               </span>\n",
      "               <span class=\"_2xBWPJ\">\n",
      "                ★\n",
      "               </span>\n",
      "              </div>\n",
      "             </li>\n",
      "             <li class=\"_28Xb_u\">\n",
      "              <div class=\"omG9iE\">\n",
      "               <span class=\"_26f_zl\">\n",
      "                1\n",
      "               </span>\n",
      "               <span class=\"_2xBWPJ\">\n",
      "                ★\n",
      "               </span>\n",
      "              </div>\n",
      "             </li>\n",
      "            </ul>\n",
      "            <ul class=\"_2Plkj9\">\n",
      "             <li class=\"_28Xb_u\">\n",
      "              <div>\n",
      "               <div class=\"_3UaKsS\">\n",
      "                <span class=\"EkB-Xt _1z2lGe\" style=\"width:100%\">\n",
      "                </span>\n",
      "               </div>\n",
      "              </div>\n",
      "             </li>\n",
      "             <li class=\"_28Xb_u\">\n",
      "              <div>\n",
      "               <div class=\"_3UaKsS\">\n",
      "                <span class=\"EkB-Xt _2fGXyl\" style=\"width:62.664714494875554%\">\n",
      "                </span>\n",
      "               </div>\n",
      "              </div>\n",
      "             </li>\n",
      "             <li class=\"_28Xb_u\">\n",
      "              <div>\n",
      "               <div class=\"_3UaKsS\">\n",
      "                <span class=\"EkB-Xt _1ia31G\" style=\"width:28.257686676427525%\">\n",
      "                </span>\n",
      "               </div>\n",
      "              </div>\n",
      "             </li>\n",
      "             <li class=\"_28Xb_u\">\n",
      "              <div>\n",
      "               <div class=\"_3UaKsS\">\n",
      "                <span class=\"EkB-Xt HnnP7O\" style=\"width:16.398243045387993%\">\n",
      "                </span>\n",
      "               </div>\n",
      "              </div>\n",
      "             </li>\n",
      "             <li class=\"_28Xb_u\">\n",
      "              <div>\n",
      "               <div class=\"_3UaKsS\">\n",
      "                <span class=\"EkB-Xt _2W5rgh\" style=\"width:28.257686676427525%\">\n",
      "                </span>\n",
      "               </div>\n",
      "              </div>\n",
      "             </li>\n",
      "            </ul>\n",
      "            <ul class=\"_36LmXx\">\n",
      "             <li class=\"_28Xb_u\">\n",
      "              <div class=\"_1uJVNT\">\n",
      "               683\n",
      "              </div>\n",
      "             </li>\n",
      "             <li class=\"_28Xb_u\">\n",
      "              <div class=\"_1uJVNT\">\n",
      "               428\n",
      "              </div>\n",
      "             </li>\n",
      "             <li class=\"_28Xb_u\">\n",
      "              <div class=\"_1uJVNT\">\n",
      "               193\n",
      "              </div>\n",
      "             </li>\n",
      "             <li class=\"_28Xb_u\">\n",
      "              <div class=\"_1uJVNT\">\n",
      "               112\n",
      "              </div>\n",
      "             </li>\n",
      "             <li class=\"_28Xb_u\">\n",
      "              <div class=\"_1uJVNT\">\n",
      "               193\n",
      "              </div>\n",
      "             </li>\n",
      "            </ul>\n",
      "           </div>\n",
      "          </div>\n",
      "         </div>\n",
      "        </div>\n",
      "        <div class=\"_1AtVbE col-12-12\">\n",
      "         <div class=\"_27M-vq\">\n",
      "          <div class=\"col\">\n",
      "           <div class=\"col _2wzgFH K0kLPL\">\n",
      "            <div class=\"row\">\n",
      "             <div class=\"_3LWZlK _1BLPMq\">\n",
      "              4\n",
      "              <img class=\"_1wB99o\" src=\"data:image/svg+xml;base64,PHN2ZyB4bWxucz0iaHR0cDovL3d3dy53My5vcmcvMjAwMC9zdmciIHdpZHRoPSIxMyIgaGVpZ2h0PSIxMiI+PHBhdGggZmlsbD0iI0ZGRiIgZD0iTTYuNSA5LjQzOWwtMy42NzQgMi4yMy45NC00LjI2LTMuMjEtMi44ODMgNC4yNTQtLjQwNEw2LjUuMTEybDEuNjkgNC4wMSA0LjI1NC40MDQtMy4yMSAyLjg4Mi45NCA0LjI2eiIvPjwvc3ZnPg==\"/>\n",
      "             </div>\n",
      "             <p class=\"_2-N8zT\">\n",
      "              Very Good\n",
      "             </p>\n",
      "            </div>\n",
      "            <div class=\"row\">\n",
      "             <div class=\"t-ZTKy\">\n",
      "              <div>\n",
      "               <div class=\"\">\n",
      "                Read carefully.. My Experience was complicated just because of boot time i.e. on/off time was too long until I didn't go for updates but once I have done all updates... I am telling you guys...Maska..hai.. Maska..\n",
      "                <br/>\n",
      "                <br/>\n",
      "                Superb performance.. and look wise i liked it very much. I use to play GT racing without any lag..\n",
      "                <br/>\n",
      "                <br/>\n",
      "                My daughter is also happy for her online studies.\n",
      "                <br/>\n",
      "                <br/>\n",
      "                My suggestion is that don't think twice just go for it with Flipkart.\n",
      "                <br/>\n",
      "                <br/>\n",
      "                Thanks flipkart for very safe and on time delivery.\n",
      "               </div>\n",
      "               <span class=\"_1H-bmy\">\n",
      "                <span>\n",
      "                 READ MORE\n",
      "                </span>\n",
      "               </span>\n",
      "              </div>\n",
      "             </div>\n",
      "            </div>\n",
      "            <div class=\"_2nMSwX _3oLIki\">\n",
      "             <div class=\"_21YjFX _2A07HP\" style=\"background-image:url(https://rukminim1.flixcart.com/blobio/124/124/imr-202103/blobio-imr-202103_27608966d1084865a889246c1c61951e.jpg?q=90), url(data:image/svg+xml;base64,PHN2ZyB3aWR0aD0iMjIiIGhlaWdodD0iMTgiIHhtbG5zPSJodHRwOi8vd3d3LnczLm9yZy8yMDAwL3N2ZyI+PGcgZmlsbD0iIzlEOUQ5RCIgZmlsbC1ydWxlPSJub256ZXJvIj48cGF0aCBkPSJNMjAgMEgyQzEgMCAwIDEgMCAydjE0YzAgMS4xLjkgMiAyIDJoMThjMSAwIDItMSAyLTJWMmMwLTEtMS0yLTItMnptMCAxNS45MmMtLjAyLjAzLS4wNi4wNi0uMDguMDhIMlYyLjA4TDIuMDggMmgxNy44M2MuMDMuMDIuMDYuMDYuMDguMDh2MTMuODRIMjB6Ii8+PHBhdGggZD0iTTEwIDEyLjUxTDcuNSA5LjUgNCAxNGgxNGwtNC41LTZ6Ii8+PC9nPjwvc3ZnPg==);width:62px;height:62px\">\n",
      "             </div>\n",
      "             <div class=\"_21YjFX _2A07HP\" style=\"background-image:url(https://rukminim1.flixcart.com/blobio/124/124/imr-202103/blobio-imr-202103_fdd6cfde43ed4d52ae2f5d75c9318647.jpg?q=90), url(data:image/svg+xml;base64,PHN2ZyB3aWR0aD0iMjIiIGhlaWdodD0iMTgiIHhtbG5zPSJodHRwOi8vd3d3LnczLm9yZy8yMDAwL3N2ZyI+PGcgZmlsbD0iIzlEOUQ5RCIgZmlsbC1ydWxlPSJub256ZXJvIj48cGF0aCBkPSJNMjAgMEgyQzEgMCAwIDEgMCAydjE0YzAgMS4xLjkgMiAyIDJoMThjMSAwIDItMSAyLTJWMmMwLTEtMS0yLTItMnptMCAxNS45MmMtLjAyLjAzLS4wNi4wNi0uMDguMDhIMlYyLjA4TDIuMDggMmgxNy44M2MuMDMuMDIuMDYuMDYuMDguMDh2MTMuODRIMjB6Ii8+PHBhdGggZD0iTTEwIDEyLjUxTDcuNSA5LjUgNCAxNGgxNGwtNC41LTZ6Ii8+PC9nPjwvc3ZnPg==);width:62px;height:62px\">\n",
      "             </div>\n",
      "            </div>\n",
      "            <div class=\"row _3n8db9\">\n",
      "             <div class=\"row\">\n",
      "              <p class=\"_2sc7ZR _2V5EHH\">\n",
      "               Vaibhav Bharati\n",
      "              </p>\n",
      "              <svg class=\"_2a1p_T\" height=\"14\" viewbox=\"0 0 12 12\" width=\"14\" xmlns=\"http://www.w3.org/2000/svg\">\n",
      "               <g>\n",
      "                <circle cx=\"6\" cy=\"6\" fill=\"#878787\" r=\"6\">\n",
      "                </circle>\n",
      "                <path d=\"M3 6l2 2 4-4\" fill=\"#878787\" stroke=\"#FFF\" stroke-width=\"1.5\">\n",
      "                </path>\n",
      "               </g>\n",
      "              </svg>\n",
      "              <p class=\"_2mcZGG\" id=\"review-f88a17d0-9709-4071-a85c-a648a6b84275\">\n",
      "               <span>\n",
      "                Certified Buyer\n",
      "               </span>\n",
      "               <span>\n",
      "                , Vasai Virar\n",
      "               </span>\n",
      "              </p>\n",
      "              <div>\n",
      "              </div>\n",
      "              <p class=\"_2sc7ZR\">\n",
      "               Mar, 2021\n",
      "              </p>\n",
      "             </div>\n",
      "             <div class=\"_1e9_Zu\">\n",
      "              <div class=\"row\">\n",
      "               <div class=\"_27aTsS\">\n",
      "                <div class=\"_1LmwT9\">\n",
      "                 <svg class=\"skCrcq\" height=\"15\" width=\"20\" xmlns=\"http://www.w3.org/2000/svg\">\n",
      "                  <path class=\"_1LIt4y\" d=\"M9.58.006c-.41.043-.794.32-1.01.728-.277.557-2.334 4.693-2.74 5.1-.41.407-.944.6-1.544.6v8.572h7.5c.45 0 .835-.28 1.007-.665 0 0 2.207-6.234 2.207-6.834 0-.6-.47-1.072-1.07-1.072h-3.216c-.6 0-1.07-.535-1.07-1.07 0-.537.835-3.387 1.006-3.944.17-.557-.107-1.157-.664-1.35-.15-.043-.257-.086-.407-.064zM0 6.434v8.572h2.143V6.434H0z\" fill=\"#fff\" fill-rule=\"evenodd\">\n",
      "                  </path>\n",
      "                 </svg>\n",
      "                 <span class=\"_3c3Px5\">\n",
      "                  315\n",
      "                 </span>\n",
      "                </div>\n",
      "                <div class=\"_1LmwT9 pkR4jH\">\n",
      "                 <svg class=\"skCrcq pkR4jH\" height=\"15\" width=\"20\" xmlns=\"http://www.w3.org/2000/svg\">\n",
      "                  <path class=\"_1LIt4y\" d=\"M9.58.006c-.41.043-.794.32-1.01.728-.277.557-2.334 4.693-2.74 5.1-.41.407-.944.6-1.544.6v8.572h7.5c.45 0 .835-.28 1.007-.665 0 0 2.207-6.234 2.207-6.834 0-.6-.47-1.072-1.07-1.072h-3.216c-.6 0-1.07-.535-1.07-1.07 0-.537.835-3.387 1.006-3.944.17-.557-.107-1.157-.664-1.35-.15-.043-.257-.086-.407-.064zM0 6.434v8.572h2.143V6.434H0z\" fill=\"#fff\" fill-rule=\"evenodd\">\n",
      "                  </path>\n",
      "                 </svg>\n",
      "                 <span class=\"_3c3Px5\">\n",
      "                  66\n",
      "                 </span>\n",
      "                </div>\n",
      "               </div>\n",
      "               <div class=\"_2bmov8\">\n",
      "                <svg class=\"_2UvOBb\" height=\"11\" viewbox=\"0 0 16 27\" width=\"6\" xmlns=\"http://www.w3.org/2000/svg\">\n",
      "                 <path class=\"_2aPE6f\" d=\"M16 23.207L6.11 13.161 16 3.093 12.955 0 0 13.161l12.955 13.161z\" fill=\"#fff\">\n",
      "                 </path>\n",
      "                </svg>\n",
      "                <div class=\"_3E8aIl _38dCuf\">\n",
      "                 <div class=\"_3XCI6U\">\n",
      "                  <a href=\"/reviews/COMFZHZFZFFBJBHH:14?reviewId=f88a17d0-9709-4071-a85c-a648a6b84275\">\n",
      "                   <span>\n",
      "                    Permalink\n",
      "                   </span>\n",
      "                  </a>\n",
      "                 </div>\n",
      "                 <div class=\"_3XCI6U _2b2z-j\">\n",
      "                  <span>\n",
      "                   Report Abuse\n",
      "                  </span>\n",
      "                 </div>\n",
      "                </div>\n",
      "               </div>\n",
      "              </div>\n",
      "             </div>\n",
      "            </div>\n",
      "           </div>\n",
      "          </div>\n",
      "         </div>\n",
      "        </div>\n",
      "        <div class=\"_1AtVbE col-12-12\">\n",
      "         <div class=\"_27M-vq\">\n",
      "          <div class=\"col\">\n",
      "           <div class=\"col _2wzgFH K0kLPL\">\n",
      "            <div class=\"row\">\n",
      "             <div class=\"_3LWZlK _1BLPMq\">\n",
      "              5\n",
      "              <img class=\"_1wB99o\" src=\"data:image/svg+xml;base64,PHN2ZyB4bWxucz0iaHR0cDovL3d3dy53My5vcmcvMjAwMC9zdmciIHdpZHRoPSIxMyIgaGVpZ2h0PSIxMiI+PHBhdGggZmlsbD0iI0ZGRiIgZD0iTTYuNSA5LjQzOWwtMy42NzQgMi4yMy45NC00LjI2LTMuMjEtMi44ODMgNC4yNTQtLjQwNEw2LjUuMTEybDEuNjkgNC4wMSA0LjI1NC40MDQtMy4yMSAyLjg4Mi45NCA0LjI2eiIvPjwvc3ZnPg==\"/>\n",
      "             </div>\n",
      "             <p class=\"_2-N8zT\">\n",
      "              Terrific\n",
      "             </p>\n",
      "            </div>\n",
      "            <div class=\"row\">\n",
      "             <div class=\"t-ZTKy\">\n",
      "              <div>\n",
      "               <div class=\"\">\n",
      "                #Price up to mark\n",
      "                <br/>\n",
      "                Its wonderful product for those ,who looking for  student and domestic work\n",
      "                <br/>\n",
      "                <br/>\n",
      "                1)Its just my dream lappi,(laptop)\n",
      "                <br/>\n",
      "                2)just go for laptop,its really awesome\n",
      "                <br/>\n",
      "                3)I just bought it for my project and bussiness work it's awesome\n",
      "                <br/>\n",
      "                4)one of the best product from HP\n",
      "                <br/>\n",
      "                5)just price is little high ,it have to be reduced\n",
      "                <br/>\n",
      "                6) I loved it\n",
      "                <br/>\n",
      "                7) I recommend it for u,💯💯❤️\n",
      "               </div>\n",
      "               <span class=\"_1H-bmy\">\n",
      "                <span>\n",
      "                 READ MORE\n",
      "                </span>\n",
      "               </span>\n",
      "              </div>\n",
      "             </div>\n",
      "            </div>\n",
      "            <div class=\"_2nMSwX _3oLIki\">\n",
      "             <div class=\"_21YjFX _2A07HP\" style=\"background-image:url(https://rukminim1.flixcart.com/blobio/124/124/imr-202104/blobio-imr-202104_1921e3b49e424ab6abfb24462c02d1c8.jpg?q=90), url(data:image/svg+xml;base64,PHN2ZyB3aWR0aD0iMjIiIGhlaWdodD0iMTgiIHhtbG5zPSJodHRwOi8vd3d3LnczLm9yZy8yMDAwL3N2ZyI+PGcgZmlsbD0iIzlEOUQ5RCIgZmlsbC1ydWxlPSJub256ZXJvIj48cGF0aCBkPSJNMjAgMEgyQzEgMCAwIDEgMCAydjE0YzAgMS4xLjkgMiAyIDJoMThjMSAwIDItMSAyLTJWMmMwLTEtMS0yLTItMnptMCAxNS45MmMtLjAyLjAzLS4wNi4wNi0uMDguMDhIMlYyLjA4TDIuMDggMmgxNy44M2MuMDMuMDIuMDYuMDYuMDguMDh2MTMuODRIMjB6Ii8+PHBhdGggZD0iTTEwIDEyLjUxTDcuNSA5LjUgNCAxNGgxNGwtNC41LTZ6Ii8+PC9nPjwvc3ZnPg==);width:62px;height:62px\">\n",
      "             </div>\n",
      "             <div class=\"_21YjFX _2A07HP\" style=\"background-image:url(https://rukminim1.flixcart.com/blobio/124/124/imr-202104/blobio-imr-202104_a012684e75274c81923f60560eb6354b.jpg?q=90), url(data:image/svg+xml;base64,PHN2ZyB3aWR0aD0iMjIiIGhlaWdodD0iMTgiIHhtbG5zPSJodHRwOi8vd3d3LnczLm9yZy8yMDAwL3N2ZyI+PGcgZmlsbD0iIzlEOUQ5RCIgZmlsbC1ydWxlPSJub256ZXJvIj48cGF0aCBkPSJNMjAgMEgyQzEgMCAwIDEgMCAydjE0YzAgMS4xLjkgMiAyIDJoMThjMSAwIDItMSAyLTJWMmMwLTEtMS0yLTItMnptMCAxNS45MmMtLjAyLjAzLS4wNi4wNi0uMDguMDhIMlYyLjA4TDIuMDggMmgxNy44M2MuMDMuMDIuMDYuMDYuMDguMDh2MTMuODRIMjB6Ii8+PHBhdGggZD0iTTEwIDEyLjUxTDcuNSA5LjUgNCAxNGgxNGwtNC41LTZ6Ii8+PC9nPjwvc3ZnPg==);width:62px;height:62px\">\n",
      "             </div>\n",
      "             <div class=\"_21YjFX _2A07HP\" style=\"background-image:url(https://rukminim1.flixcart.com/blobio/124/124/imr-202104/blobio-imr-202104_5ed4e0906678432fa30e5ad61a5e2e6c.jpg?q=90), url(data:image/svg+xml;base64,PHN2ZyB3aWR0aD0iMjIiIGhlaWdodD0iMTgiIHhtbG5zPSJodHRwOi8vd3d3LnczLm9yZy8yMDAwL3N2ZyI+PGcgZmlsbD0iIzlEOUQ5RCIgZmlsbC1ydWxlPSJub256ZXJvIj48cGF0aCBkPSJNMjAgMEgyQzEgMCAwIDEgMCAydjE0YzAgMS4xLjkgMiAyIDJoMThjMSAwIDItMSAyLTJWMmMwLTEtMS0yLTItMnptMCAxNS45MmMtLjAyLjAzLS4wNi4wNi0uMDguMDhIMlYyLjA4TDIuMDggMmgxNy44M2MuMDMuMDIuMDYuMDYuMDguMDh2MTMuODRIMjB6Ii8+PHBhdGggZD0iTTEwIDEyLjUxTDcuNSA5LjUgNCAxNGgxNGwtNC41LTZ6Ii8+PC9nPjwvc3ZnPg==);width:62px;height:62px\">\n",
      "             </div>\n",
      "            </div>\n",
      "            <div class=\"row _3n8db9\">\n",
      "             <div class=\"row\">\n",
      "              <p class=\"_2sc7ZR _2V5EHH\">\n",
      "               MD MATHIN ALI\n",
      "              </p>\n",
      "              <svg class=\"_2a1p_T\" height=\"14\" viewbox=\"0 0 12 12\" width=\"14\" xmlns=\"http://www.w3.org/2000/svg\">\n",
      "               <g>\n",
      "                <circle cx=\"6\" cy=\"6\" fill=\"#878787\" r=\"6\">\n",
      "                </circle>\n",
      "                <path d=\"M3 6l2 2 4-4\" fill=\"#878787\" stroke=\"#FFF\" stroke-width=\"1.5\">\n",
      "                </path>\n",
      "               </g>\n",
      "              </svg>\n",
      "              <p class=\"_2mcZGG\" id=\"review-79e454da-c1be-4dd7-9d1d-3a49e39dafe5\">\n",
      "               <span>\n",
      "                Certified Buyer\n",
      "               </span>\n",
      "               <span>\n",
      "                , Jogulamba District\n",
      "               </span>\n",
      "              </p>\n",
      "              <div>\n",
      "              </div>\n",
      "              <p class=\"_2sc7ZR\">\n",
      "               Apr, 2021\n",
      "              </p>\n",
      "             </div>\n",
      "             <div class=\"_1e9_Zu\">\n",
      "              <div class=\"row\">\n",
      "               <div class=\"_27aTsS\">\n",
      "                <div class=\"_1LmwT9\">\n",
      "                 <svg class=\"skCrcq\" height=\"15\" width=\"20\" xmlns=\"http://www.w3.org/2000/svg\">\n",
      "                  <path class=\"_1LIt4y\" d=\"M9.58.006c-.41.043-.794.32-1.01.728-.277.557-2.334 4.693-2.74 5.1-.41.407-.944.6-1.544.6v8.572h7.5c.45 0 .835-.28 1.007-.665 0 0 2.207-6.234 2.207-6.834 0-.6-.47-1.072-1.07-1.072h-3.216c-.6 0-1.07-.535-1.07-1.07 0-.537.835-3.387 1.006-3.944.17-.557-.107-1.157-.664-1.35-.15-.043-.257-.086-.407-.064zM0 6.434v8.572h2.143V6.434H0z\" fill=\"#fff\" fill-rule=\"evenodd\">\n",
      "                  </path>\n",
      "                 </svg>\n",
      "                 <span class=\"_3c3Px5\">\n",
      "                  74\n",
      "                 </span>\n",
      "                </div>\n",
      "                <div class=\"_1LmwT9 pkR4jH\">\n",
      "                 <svg class=\"skCrcq pkR4jH\" height=\"15\" width=\"20\" xmlns=\"http://www.w3.org/2000/svg\">\n",
      "                  <path class=\"_1LIt4y\" d=\"M9.58.006c-.41.043-.794.32-1.01.728-.277.557-2.334 4.693-2.74 5.1-.41.407-.944.6-1.544.6v8.572h7.5c.45 0 .835-.28 1.007-.665 0 0 2.207-6.234 2.207-6.834 0-.6-.47-1.072-1.07-1.072h-3.216c-.6 0-1.07-.535-1.07-1.07 0-.537.835-3.387 1.006-3.944.17-.557-.107-1.157-.664-1.35-.15-.043-.257-.086-.407-.064zM0 6.434v8.572h2.143V6.434H0z\" fill=\"#fff\" fill-rule=\"evenodd\">\n",
      "                  </path>\n",
      "                 </svg>\n",
      "                 <span class=\"_3c3Px5\">\n",
      "                  25\n",
      "                 </span>\n",
      "                </div>\n",
      "               </div>\n",
      "               <div class=\"_2bmov8\">\n",
      "                <svg class=\"_2UvOBb\" height=\"11\" viewbox=\"0 0 16 27\" width=\"6\" xmlns=\"http://www.w3.org/2000/svg\">\n",
      "                 <path class=\"_2aPE6f\" d=\"M16 23.207L6.11 13.161 16 3.093 12.955 0 0 13.161l12.955 13.161z\" fill=\"#fff\">\n",
      "                 </path>\n",
      "                </svg>\n",
      "                <div class=\"_3E8aIl _38dCuf\">\n",
      "                 <div class=\"_3XCI6U\">\n",
      "                  <a href=\"/reviews/COMFZHZFZFFBJBHH:57?reviewId=79e454da-c1be-4dd7-9d1d-3a49e39dafe5\">\n",
      "                   <span>\n",
      "                    Permalink\n",
      "                   </span>\n",
      "                  </a>\n",
      "                 </div>\n",
      "                 <div class=\"_3XCI6U _2b2z-j\">\n",
      "                  <span>\n",
      "                   Report Abuse\n",
      "                  </span>\n",
      "                 </div>\n",
      "                </div>\n",
      "               </div>\n",
      "              </div>\n",
      "             </div>\n",
      "            </div>\n",
      "           </div>\n",
      "          </div>\n",
      "         </div>\n",
      "        </div>\n",
      "        <div class=\"_1AtVbE col-12-12\">\n",
      "         <div class=\"_27M-vq\">\n",
      "          <div class=\"col\">\n",
      "           <div class=\"col _2wzgFH K0kLPL\">\n",
      "            <div class=\"row\">\n",
      "             <div class=\"_3LWZlK _1BLPMq\">\n",
      "              5\n",
      "              <img class=\"_1wB99o\" src=\"data:image/svg+xml;base64,PHN2ZyB4bWxucz0iaHR0cDovL3d3dy53My5vcmcvMjAwMC9zdmciIHdpZHRoPSIxMyIgaGVpZ2h0PSIxMiI+PHBhdGggZmlsbD0iI0ZGRiIgZD0iTTYuNSA5LjQzOWwtMy42NzQgMi4yMy45NC00LjI2LTMuMjEtMi44ODMgNC4yNTQtLjQwNEw2LjUuMTEybDEuNjkgNC4wMSA0LjI1NC40MDQtMy4yMSAyLjg4Mi45NCA0LjI2eiIvPjwvc3ZnPg==\"/>\n",
      "             </div>\n",
      "             <p class=\"_2-N8zT\">\n",
      "              Worth every penny\n",
      "             </p>\n",
      "            </div>\n",
      "            <div class=\"row\">\n",
      "             <div class=\"t-ZTKy\">\n",
      "              <div>\n",
      "               <div class=\"\">\n",
      "                Nice laptop and Ryzen 3 is a good processor for multi tasking... Design and color both are good. It's better to go with this HP laptop in this price segment...\n",
      "               </div>\n",
      "               <span class=\"_1H-bmy\">\n",
      "                <span>\n",
      "                 READ MORE\n",
      "                </span>\n",
      "               </span>\n",
      "              </div>\n",
      "             </div>\n",
      "            </div>\n",
      "            <div class=\"_2nMSwX _3oLIki\">\n",
      "             <div class=\"_21YjFX _2A07HP\" style=\"background-image:url(https://rukminim1.flixcart.com/blobio/124/124/imr-202103/blobio-imr-202103_aa8be26824314b2bab4d33c4626faac3.jpg?q=90), url(data:image/svg+xml;base64,PHN2ZyB3aWR0aD0iMjIiIGhlaWdodD0iMTgiIHhtbG5zPSJodHRwOi8vd3d3LnczLm9yZy8yMDAwL3N2ZyI+PGcgZmlsbD0iIzlEOUQ5RCIgZmlsbC1ydWxlPSJub256ZXJvIj48cGF0aCBkPSJNMjAgMEgyQzEgMCAwIDEgMCAydjE0YzAgMS4xLjkgMiAyIDJoMThjMSAwIDItMSAyLTJWMmMwLTEtMS0yLTItMnptMCAxNS45MmMtLjAyLjAzLS4wNi4wNi0uMDguMDhIMlYyLjA4TDIuMDggMmgxNy44M2MuMDMuMDIuMDYuMDYuMDguMDh2MTMuODRIMjB6Ii8+PHBhdGggZD0iTTEwIDEyLjUxTDcuNSA5LjUgNCAxNGgxNGwtNC41LTZ6Ii8+PC9nPjwvc3ZnPg==);width:62px;height:62px\">\n",
      "             </div>\n",
      "            </div>\n",
      "            <div class=\"row _3n8db9\">\n",
      "             <div class=\"row\">\n",
      "              <p class=\"_2sc7ZR _2V5EHH\">\n",
      "               Sayani  Banerjee\n",
      "              </p>\n",
      "              <svg class=\"_2a1p_T\" height=\"14\" viewbox=\"0 0 12 12\" width=\"14\" xmlns=\"http://www.w3.org/2000/svg\">\n",
      "               <g>\n",
      "                <circle cx=\"6\" cy=\"6\" fill=\"#878787\" r=\"6\">\n",
      "                </circle>\n",
      "                <path d=\"M3 6l2 2 4-4\" fill=\"#878787\" stroke=\"#FFF\" stroke-width=\"1.5\">\n",
      "                </path>\n",
      "               </g>\n",
      "              </svg>\n",
      "              <p class=\"_2mcZGG\" id=\"review-92aef6a6-9cfb-4412-b702-a9760dfb711e\">\n",
      "               <span>\n",
      "                Certified Buyer\n",
      "               </span>\n",
      "               <span>\n",
      "                , Kolkata\n",
      "               </span>\n",
      "              </p>\n",
      "              <div>\n",
      "              </div>\n",
      "              <p class=\"_2sc7ZR\">\n",
      "               Mar, 2021\n",
      "              </p>\n",
      "             </div>\n",
      "             <div class=\"_1e9_Zu\">\n",
      "              <div class=\"row\">\n",
      "               <div class=\"_27aTsS\">\n",
      "                <div class=\"_1LmwT9\">\n",
      "                 <svg class=\"skCrcq\" height=\"15\" width=\"20\" xmlns=\"http://www.w3.org/2000/svg\">\n",
      "                  <path class=\"_1LIt4y\" d=\"M9.58.006c-.41.043-.794.32-1.01.728-.277.557-2.334 4.693-2.74 5.1-.41.407-.944.6-1.544.6v8.572h7.5c.45 0 .835-.28 1.007-.665 0 0 2.207-6.234 2.207-6.834 0-.6-.47-1.072-1.07-1.072h-3.216c-.6 0-1.07-.535-1.07-1.07 0-.537.835-3.387 1.006-3.944.17-.557-.107-1.157-.664-1.35-.15-.043-.257-.086-.407-.064zM0 6.434v8.572h2.143V6.434H0z\" fill=\"#fff\" fill-rule=\"evenodd\">\n",
      "                  </path>\n",
      "                 </svg>\n",
      "                 <span class=\"_3c3Px5\">\n",
      "                  98\n",
      "                 </span>\n",
      "                </div>\n",
      "                <div class=\"_1LmwT9 pkR4jH\">\n",
      "                 <svg class=\"skCrcq pkR4jH\" height=\"15\" width=\"20\" xmlns=\"http://www.w3.org/2000/svg\">\n",
      "                  <path class=\"_1LIt4y\" d=\"M9.58.006c-.41.043-.794.32-1.01.728-.277.557-2.334 4.693-2.74 5.1-.41.407-.944.6-1.544.6v8.572h7.5c.45 0 .835-.28 1.007-.665 0 0 2.207-6.234 2.207-6.834 0-.6-.47-1.072-1.07-1.072h-3.216c-.6 0-1.07-.535-1.07-1.07 0-.537.835-3.387 1.006-3.944.17-.557-.107-1.157-.664-1.35-.15-.043-.257-.086-.407-.064zM0 6.434v8.572h2.143V6.434H0z\" fill=\"#fff\" fill-rule=\"evenodd\">\n",
      "                  </path>\n",
      "                 </svg>\n",
      "                 <span class=\"_3c3Px5\">\n",
      "                  24\n",
      "                 </span>\n",
      "                </div>\n",
      "               </div>\n",
      "               <div class=\"_2bmov8\">\n",
      "                <svg class=\"_2UvOBb\" height=\"11\" viewbox=\"0 0 16 27\" width=\"6\" xmlns=\"http://www.w3.org/2000/svg\">\n",
      "                 <path class=\"_2aPE6f\" d=\"M16 23.207L6.11 13.161 16 3.093 12.955 0 0 13.161l12.955 13.161z\" fill=\"#fff\">\n",
      "                 </path>\n",
      "                </svg>\n",
      "                <div class=\"_3E8aIl _38dCuf\">\n",
      "                 <div class=\"_3XCI6U\">\n",
      "                  <a href=\"/reviews/COMFZHZFZFFBJBHH:9?reviewId=92aef6a6-9cfb-4412-b702-a9760dfb711e\">\n",
      "                   <span>\n",
      "                    Permalink\n",
      "                   </span>\n",
      "                  </a>\n",
      "                 </div>\n",
      "                 <div class=\"_3XCI6U _2b2z-j\">\n",
      "                  <span>\n",
      "                   Report Abuse\n",
      "                  </span>\n",
      "                 </div>\n",
      "                </div>\n",
      "               </div>\n",
      "              </div>\n",
      "             </div>\n",
      "            </div>\n",
      "           </div>\n",
      "          </div>\n",
      "         </div>\n",
      "        </div>\n",
      "        <div class=\"_1AtVbE col-12-12\">\n",
      "         <div class=\"_27M-vq\">\n",
      "          <div class=\"col\">\n",
      "           <div class=\"col _2wzgFH K0kLPL\">\n",
      "            <div class=\"row\">\n",
      "             <div class=\"_3LWZlK _1BLPMq\">\n",
      "              3\n",
      "              <img class=\"_1wB99o\" src=\"data:image/svg+xml;base64,PHN2ZyB4bWxucz0iaHR0cDovL3d3dy53My5vcmcvMjAwMC9zdmciIHdpZHRoPSIxMyIgaGVpZ2h0PSIxMiI+PHBhdGggZmlsbD0iI0ZGRiIgZD0iTTYuNSA5LjQzOWwtMy42NzQgMi4yMy45NC00LjI2LTMuMjEtMi44ODMgNC4yNTQtLjQwNEw2LjUuMTEybDEuNjkgNC4wMSA0LjI1NC40MDQtMy4yMSAyLjg4Mi45NCA0LjI2eiIvPjwvc3ZnPg==\"/>\n",
      "             </div>\n",
      "             <p class=\"_2-N8zT\">\n",
      "              Fair\n",
      "             </p>\n",
      "            </div>\n",
      "            <div class=\"row\">\n",
      "             <div class=\"t-ZTKy\">\n",
      "              <div>\n",
      "               <div class=\"\">\n",
      "                This laptop needs to be upgraded to at least 8 gb memory for better performance as most of HP bloatware that comes with the windows build use almost 80% of ram all the time. Besides the built in vega gpu shares Ram as it does not have dedicated graphics memory. An SSD upgrade and booting the OS in there should do wonders to the disk I/O and overall performance. Out of the box, laptop is sluggish so 3 stars.\n",
      "               </div>\n",
      "               <span class=\"_1H-bmy\">\n",
      "                <span>\n",
      "                 READ MORE\n",
      "                </span>\n",
      "               </span>\n",
      "              </div>\n",
      "             </div>\n",
      "            </div>\n",
      "            <div class=\"row _3n8db9\">\n",
      "             <div class=\"row\">\n",
      "              <p class=\"_2sc7ZR _2V5EHH\">\n",
      "               Satyajit Swain\n",
      "              </p>\n",
      "              <svg class=\"_2a1p_T\" height=\"14\" viewbox=\"0 0 12 12\" width=\"14\" xmlns=\"http://www.w3.org/2000/svg\">\n",
      "               <g>\n",
      "                <circle cx=\"6\" cy=\"6\" fill=\"#878787\" r=\"6\">\n",
      "                </circle>\n",
      "                <path d=\"M3 6l2 2 4-4\" fill=\"#878787\" stroke=\"#FFF\" stroke-width=\"1.5\">\n",
      "                </path>\n",
      "               </g>\n",
      "              </svg>\n",
      "              <p class=\"_2mcZGG\" id=\"review-a5ae8c8c-0dc0-4397-a2d6-2d8fcfb8f901\">\n",
      "               <span>\n",
      "                Certified Buyer\n",
      "               </span>\n",
      "               <span>\n",
      "                , Cuttack\n",
      "               </span>\n",
      "              </p>\n",
      "              <div>\n",
      "              </div>\n",
      "              <p class=\"_2sc7ZR\">\n",
      "               Sep, 2021\n",
      "              </p>\n",
      "             </div>\n",
      "             <div class=\"_1e9_Zu\">\n",
      "              <div class=\"row\">\n",
      "               <div class=\"_27aTsS\">\n",
      "                <div class=\"_1LmwT9\">\n",
      "                 <svg class=\"skCrcq\" height=\"15\" width=\"20\" xmlns=\"http://www.w3.org/2000/svg\">\n",
      "                  <path class=\"_1LIt4y\" d=\"M9.58.006c-.41.043-.794.32-1.01.728-.277.557-2.334 4.693-2.74 5.1-.41.407-.944.6-1.544.6v8.572h7.5c.45 0 .835-.28 1.007-.665 0 0 2.207-6.234 2.207-6.834 0-.6-.47-1.072-1.07-1.072h-3.216c-.6 0-1.07-.535-1.07-1.07 0-.537.835-3.387 1.006-3.944.17-.557-.107-1.157-.664-1.35-.15-.043-.257-.086-.407-.064zM0 6.434v8.572h2.143V6.434H0z\" fill=\"#fff\" fill-rule=\"evenodd\">\n",
      "                  </path>\n",
      "                 </svg>\n",
      "                 <span class=\"_3c3Px5\">\n",
      "                  0\n",
      "                 </span>\n",
      "                </div>\n",
      "                <div class=\"_1LmwT9 pkR4jH\">\n",
      "                 <svg class=\"skCrcq pkR4jH\" height=\"15\" width=\"20\" xmlns=\"http://www.w3.org/2000/svg\">\n",
      "                  <path class=\"_1LIt4y\" d=\"M9.58.006c-.41.043-.794.32-1.01.728-.277.557-2.334 4.693-2.74 5.1-.41.407-.944.6-1.544.6v8.572h7.5c.45 0 .835-.28 1.007-.665 0 0 2.207-6.234 2.207-6.834 0-.6-.47-1.072-1.07-1.072h-3.216c-.6 0-1.07-.535-1.07-1.07 0-.537.835-3.387 1.006-3.944.17-.557-.107-1.157-.664-1.35-.15-.043-.257-.086-.407-.064zM0 6.434v8.572h2.143V6.434H0z\" fill=\"#fff\" fill-rule=\"evenodd\">\n",
      "                  </path>\n",
      "                 </svg>\n",
      "                 <span class=\"_3c3Px5\">\n",
      "                  0\n",
      "                 </span>\n",
      "                </div>\n",
      "               </div>\n",
      "               <div class=\"_2bmov8\">\n",
      "                <svg class=\"_2UvOBb\" height=\"11\" viewbox=\"0 0 16 27\" width=\"6\" xmlns=\"http://www.w3.org/2000/svg\">\n",
      "                 <path class=\"_2aPE6f\" d=\"M16 23.207L6.11 13.161 16 3.093 12.955 0 0 13.161l12.955 13.161z\" fill=\"#fff\">\n",
      "                 </path>\n",
      "                </svg>\n",
      "                <div class=\"_3E8aIl _38dCuf\">\n",
      "                 <div class=\"_3XCI6U\">\n",
      "                  <a href=\"/reviews/COMFZHZFZFFBJBHH:257?reviewId=a5ae8c8c-0dc0-4397-a2d6-2d8fcfb8f901\">\n",
      "                   <span>\n",
      "                    Permalink\n",
      "                   </span>\n",
      "                  </a>\n",
      "                 </div>\n",
      "                 <div class=\"_3XCI6U _2b2z-j\">\n",
      "                  <span>\n",
      "                   Report Abuse\n",
      "                  </span>\n",
      "                 </div>\n",
      "                </div>\n",
      "               </div>\n",
      "              </div>\n",
      "             </div>\n",
      "            </div>\n",
      "           </div>\n",
      "          </div>\n",
      "         </div>\n",
      "        </div>\n",
      "        <div class=\"_1AtVbE col-12-12\">\n",
      "         <div class=\"_27M-vq\">\n",
      "          <div class=\"col\">\n",
      "           <div class=\"col _2wzgFH K0kLPL\">\n",
      "            <div class=\"row\">\n",
      "             <div class=\"_3LWZlK _1BLPMq\">\n",
      "              3\n",
      "              <img class=\"_1wB99o\" src=\"data:image/svg+xml;base64,PHN2ZyB4bWxucz0iaHR0cDovL3d3dy53My5vcmcvMjAwMC9zdmciIHdpZHRoPSIxMyIgaGVpZ2h0PSIxMiI+PHBhdGggZmlsbD0iI0ZGRiIgZD0iTTYuNSA5LjQzOWwtMy42NzQgMi4yMy45NC00LjI2LTMuMjEtMi44ODMgNC4yNTQtLjQwNEw2LjUuMTEybDEuNjkgNC4wMSA0LjI1NC40MDQtMy4yMSAyLjg4Mi45NCA0LjI2eiIvPjwvc3ZnPg==\"/>\n",
      "             </div>\n",
      "             <p class=\"_2-N8zT\">\n",
      "              Fair\n",
      "             </p>\n",
      "            </div>\n",
      "            <div class=\"row\">\n",
      "             <div class=\"t-ZTKy\">\n",
      "              <div>\n",
      "               <div class=\"\">\n",
      "                HP Product is Good/Ok, but personally i will prefer Dell Laptop. Dell Laptop is best &amp; friendly for smooth process\n",
      "                <br/>\n",
      "                &amp; I thing i3 is better comparison to Rayzen 3.\n",
      "               </div>\n",
      "               <span class=\"_1H-bmy\">\n",
      "                <span>\n",
      "                 READ MORE\n",
      "                </span>\n",
      "               </span>\n",
      "              </div>\n",
      "             </div>\n",
      "            </div>\n",
      "            <div class=\"row _3n8db9\">\n",
      "             <div class=\"row\">\n",
      "              <p class=\"_2sc7ZR _2V5EHH\">\n",
      "               Vijay Singh  Shekhawat\n",
      "              </p>\n",
      "              <svg class=\"_2a1p_T\" height=\"14\" viewbox=\"0 0 12 12\" width=\"14\" xmlns=\"http://www.w3.org/2000/svg\">\n",
      "               <g>\n",
      "                <circle cx=\"6\" cy=\"6\" fill=\"#878787\" r=\"6\">\n",
      "                </circle>\n",
      "                <path d=\"M3 6l2 2 4-4\" fill=\"#878787\" stroke=\"#FFF\" stroke-width=\"1.5\">\n",
      "                </path>\n",
      "               </g>\n",
      "              </svg>\n",
      "              <p class=\"_2mcZGG\" id=\"review-dae711f8-4e05-4d95-9259-efbea3743480\">\n",
      "               <span>\n",
      "                Certified Buyer\n",
      "               </span>\n",
      "               <span>\n",
      "                , Jaipur\n",
      "               </span>\n",
      "              </p>\n",
      "              <div>\n",
      "              </div>\n",
      "              <p class=\"_2sc7ZR\">\n",
      "               May, 2021\n",
      "              </p>\n",
      "             </div>\n",
      "             <div class=\"_1e9_Zu\">\n",
      "              <div class=\"row\">\n",
      "               <div class=\"_27aTsS\">\n",
      "                <div class=\"_1LmwT9\">\n",
      "                 <svg class=\"skCrcq\" height=\"15\" width=\"20\" xmlns=\"http://www.w3.org/2000/svg\">\n",
      "                  <path class=\"_1LIt4y\" d=\"M9.58.006c-.41.043-.794.32-1.01.728-.277.557-2.334 4.693-2.74 5.1-.41.407-.944.6-1.544.6v8.572h7.5c.45 0 .835-.28 1.007-.665 0 0 2.207-6.234 2.207-6.834 0-.6-.47-1.072-1.07-1.072h-3.216c-.6 0-1.07-.535-1.07-1.07 0-.537.835-3.387 1.006-3.944.17-.557-.107-1.157-.664-1.35-.15-.043-.257-.086-.407-.064zM0 6.434v8.572h2.143V6.434H0z\" fill=\"#fff\" fill-rule=\"evenodd\">\n",
      "                  </path>\n",
      "                 </svg>\n",
      "                 <span class=\"_3c3Px5\">\n",
      "                  2\n",
      "                 </span>\n",
      "                </div>\n",
      "                <div class=\"_1LmwT9 pkR4jH\">\n",
      "                 <svg class=\"skCrcq pkR4jH\" height=\"15\" width=\"20\" xmlns=\"http://www.w3.org/2000/svg\">\n",
      "                  <path class=\"_1LIt4y\" d=\"M9.58.006c-.41.043-.794.32-1.01.728-.277.557-2.334 4.693-2.74 5.1-.41.407-.944.6-1.544.6v8.572h7.5c.45 0 .835-.28 1.007-.665 0 0 2.207-6.234 2.207-6.834 0-.6-.47-1.072-1.07-1.072h-3.216c-.6 0-1.07-.535-1.07-1.07 0-.537.835-3.387 1.006-3.944.17-.557-.107-1.157-.664-1.35-.15-.043-.257-.086-.407-.064zM0 6.434v8.572h2.143V6.434H0z\" fill=\"#fff\" fill-rule=\"evenodd\">\n",
      "                  </path>\n",
      "                 </svg>\n",
      "                 <span class=\"_3c3Px5\">\n",
      "                  16\n",
      "                 </span>\n",
      "                </div>\n",
      "               </div>\n",
      "               <div class=\"_2bmov8\">\n",
      "                <svg class=\"_2UvOBb\" height=\"11\" viewbox=\"0 0 16 27\" width=\"6\" xmlns=\"http://www.w3.org/2000/svg\">\n",
      "                 <path class=\"_2aPE6f\" d=\"M16 23.207L6.11 13.161 16 3.093 12.955 0 0 13.161l12.955 13.161z\" fill=\"#fff\">\n",
      "                 </path>\n",
      "                </svg>\n",
      "                <div class=\"_3E8aIl _38dCuf\">\n",
      "                 <div class=\"_3XCI6U\">\n",
      "                  <a href=\"/reviews/COMFZHZFZFFBJBHH:94?reviewId=dae711f8-4e05-4d95-9259-efbea3743480\">\n",
      "                   <span>\n",
      "                    Permalink\n",
      "                   </span>\n",
      "                  </a>\n",
      "                 </div>\n",
      "                 <div class=\"_3XCI6U _2b2z-j\">\n",
      "                  <span>\n",
      "                   Report Abuse\n",
      "                  </span>\n",
      "                 </div>\n",
      "                </div>\n",
      "               </div>\n",
      "              </div>\n",
      "             </div>\n",
      "            </div>\n",
      "           </div>\n",
      "          </div>\n",
      "         </div>\n",
      "        </div>\n",
      "        <div class=\"_1AtVbE col-12-12\">\n",
      "         <div class=\"_27M-vq\">\n",
      "          <div class=\"col\">\n",
      "           <div class=\"col _2wzgFH K0kLPL\">\n",
      "            <div class=\"row\">\n",
      "             <div class=\"_3LWZlK _1BLPMq\">\n",
      "              5\n",
      "              <img class=\"_1wB99o\" src=\"data:image/svg+xml;base64,PHN2ZyB4bWxucz0iaHR0cDovL3d3dy53My5vcmcvMjAwMC9zdmciIHdpZHRoPSIxMyIgaGVpZ2h0PSIxMiI+PHBhdGggZmlsbD0iI0ZGRiIgZD0iTTYuNSA5LjQzOWwtMy42NzQgMi4yMy45NC00LjI2LTMuMjEtMi44ODMgNC4yNTQtLjQwNEw2LjUuMTEybDEuNjkgNC4wMSA0LjI1NC40MDQtMy4yMSAyLjg4Mi45NCA0LjI2eiIvPjwvc3ZnPg==\"/>\n",
      "             </div>\n",
      "             <p class=\"_2-N8zT\">\n",
      "              Just wow!\n",
      "             </p>\n",
      "            </div>\n",
      "            <div class=\"row\">\n",
      "             <div class=\"t-ZTKy\">\n",
      "              <div>\n",
      "               <div class=\"\">\n",
      "                Awesome and nice for students and all. The favorite things is its comes with Windows and office home and student precious.\n",
      "               </div>\n",
      "               <span class=\"_1H-bmy\">\n",
      "                <span>\n",
      "                 READ MORE\n",
      "                </span>\n",
      "               </span>\n",
      "              </div>\n",
      "             </div>\n",
      "            </div>\n",
      "            <div class=\"_2nMSwX _3oLIki\">\n",
      "             <div class=\"_21YjFX _2A07HP\" style=\"background-image:url(https://rukminim1.flixcart.com/blobio/124/124/imr-202103/blobio-imr-202103_1160a428fabe42269d5d47166c4b1516.jpg?q=90), url(data:image/svg+xml;base64,PHN2ZyB3aWR0aD0iMjIiIGhlaWdodD0iMTgiIHhtbG5zPSJodHRwOi8vd3d3LnczLm9yZy8yMDAwL3N2ZyI+PGcgZmlsbD0iIzlEOUQ5RCIgZmlsbC1ydWxlPSJub256ZXJvIj48cGF0aCBkPSJNMjAgMEgyQzEgMCAwIDEgMCAydjE0YzAgMS4xLjkgMiAyIDJoMThjMSAwIDItMSAyLTJWMmMwLTEtMS0yLTItMnptMCAxNS45MmMtLjAyLjAzLS4wNi4wNi0uMDguMDhIMlYyLjA4TDIuMDggMmgxNy44M2MuMDMuMDIuMDYuMDYuMDguMDh2MTMuODRIMjB6Ii8+PHBhdGggZD0iTTEwIDEyLjUxTDcuNSA5LjUgNCAxNGgxNGwtNC41LTZ6Ii8+PC9nPjwvc3ZnPg==);width:62px;height:62px\">\n",
      "             </div>\n",
      "            </div>\n",
      "            <div class=\"row _3n8db9\">\n",
      "             <div class=\"row\">\n",
      "              <p class=\"_2sc7ZR _2V5EHH\">\n",
      "               Anoop Mathew\n",
      "              </p>\n",
      "              <svg class=\"_2a1p_T\" height=\"14\" viewbox=\"0 0 12 12\" width=\"14\" xmlns=\"http://www.w3.org/2000/svg\">\n",
      "               <g>\n",
      "                <circle cx=\"6\" cy=\"6\" fill=\"#878787\" r=\"6\">\n",
      "                </circle>\n",
      "                <path d=\"M3 6l2 2 4-4\" fill=\"#878787\" stroke=\"#FFF\" stroke-width=\"1.5\">\n",
      "                </path>\n",
      "               </g>\n",
      "              </svg>\n",
      "              <p class=\"_2mcZGG\" id=\"review-277157f9-da90-4a81-aaee-28703614d7fe\">\n",
      "               <span>\n",
      "                Certified Buyer\n",
      "               </span>\n",
      "               <span>\n",
      "                , Kattappana\n",
      "               </span>\n",
      "              </p>\n",
      "              <div>\n",
      "              </div>\n",
      "              <p class=\"_2sc7ZR\">\n",
      "               Mar, 2021\n",
      "              </p>\n",
      "             </div>\n",
      "             <div class=\"_1e9_Zu\">\n",
      "              <div class=\"row\">\n",
      "               <div class=\"_27aTsS\">\n",
      "                <div class=\"_1LmwT9\">\n",
      "                 <svg class=\"skCrcq\" height=\"15\" width=\"20\" xmlns=\"http://www.w3.org/2000/svg\">\n",
      "                  <path class=\"_1LIt4y\" d=\"M9.58.006c-.41.043-.794.32-1.01.728-.277.557-2.334 4.693-2.74 5.1-.41.407-.944.6-1.544.6v8.572h7.5c.45 0 .835-.28 1.007-.665 0 0 2.207-6.234 2.207-6.834 0-.6-.47-1.072-1.07-1.072h-3.216c-.6 0-1.07-.535-1.07-1.07 0-.537.835-3.387 1.006-3.944.17-.557-.107-1.157-.664-1.35-.15-.043-.257-.086-.407-.064zM0 6.434v8.572h2.143V6.434H0z\" fill=\"#fff\" fill-rule=\"evenodd\">\n",
      "                  </path>\n",
      "                 </svg>\n",
      "                 <span class=\"_3c3Px5\">\n",
      "                  88\n",
      "                 </span>\n",
      "                </div>\n",
      "                <div class=\"_1LmwT9 pkR4jH\">\n",
      "                 <svg class=\"skCrcq pkR4jH\" height=\"15\" width=\"20\" xmlns=\"http://www.w3.org/2000/svg\">\n",
      "                  <path class=\"_1LIt4y\" d=\"M9.58.006c-.41.043-.794.32-1.01.728-.277.557-2.334 4.693-2.74 5.1-.41.407-.944.6-1.544.6v8.572h7.5c.45 0 .835-.28 1.007-.665 0 0 2.207-6.234 2.207-6.834 0-.6-.47-1.072-1.07-1.072h-3.216c-.6 0-1.07-.535-1.07-1.07 0-.537.835-3.387 1.006-3.944.17-.557-.107-1.157-.664-1.35-.15-.043-.257-.086-.407-.064zM0 6.434v8.572h2.143V6.434H0z\" fill=\"#fff\" fill-rule=\"evenodd\">\n",
      "                  </path>\n",
      "                 </svg>\n",
      "                 <span class=\"_3c3Px5\">\n",
      "                  4\n",
      "                 </span>\n",
      "                </div>\n",
      "               </div>\n",
      "               <div class=\"_2bmov8\">\n",
      "                <svg class=\"_2UvOBb\" height=\"11\" viewbox=\"0 0 16 27\" width=\"6\" xmlns=\"http://www.w3.org/2000/svg\">\n",
      "                 <path class=\"_2aPE6f\" d=\"M16 23.207L6.11 13.161 16 3.093 12.955 0 0 13.161l12.955 13.161z\" fill=\"#fff\">\n",
      "                 </path>\n",
      "                </svg>\n",
      "                <div class=\"_3E8aIl _38dCuf\">\n",
      "                 <div class=\"_3XCI6U\">\n",
      "                  <a href=\"/reviews/COMFZHZFZFFBJBHH:11?reviewId=277157f9-da90-4a81-aaee-28703614d7fe\">\n",
      "                   <span>\n",
      "                    Permalink\n",
      "                   </span>\n",
      "                  </a>\n",
      "                 </div>\n",
      "                 <div class=\"_3XCI6U _2b2z-j\">\n",
      "                  <span>\n",
      "                   Report Abuse\n",
      "                  </span>\n",
      "                 </div>\n",
      "                </div>\n",
      "               </div>\n",
      "              </div>\n",
      "             </div>\n",
      "            </div>\n",
      "           </div>\n",
      "          </div>\n",
      "         </div>\n",
      "        </div>\n",
      "        <div class=\"_1AtVbE col-12-12\">\n",
      "         <div class=\"_27M-vq\">\n",
      "          <div class=\"col\">\n",
      "           <div class=\"col _2wzgFH K0kLPL\">\n",
      "            <div class=\"row\">\n",
      "             <div class=\"_3LWZlK _1BLPMq\">\n",
      "              3\n",
      "              <img class=\"_1wB99o\" src=\"data:image/svg+xml;base64,PHN2ZyB4bWxucz0iaHR0cDovL3d3dy53My5vcmcvMjAwMC9zdmciIHdpZHRoPSIxMyIgaGVpZ2h0PSIxMiI+PHBhdGggZmlsbD0iI0ZGRiIgZD0iTTYuNSA5LjQzOWwtMy42NzQgMi4yMy45NC00LjI2LTMuMjEtMi44ODMgNC4yNTQtLjQwNEw2LjUuMTEybDEuNjkgNC4wMSA0LjI1NC40MDQtMy4yMSAyLjg4Mi45NCA0LjI2eiIvPjwvc3ZnPg==\"/>\n",
      "             </div>\n",
      "             <p class=\"_2-N8zT\">\n",
      "              Good\n",
      "             </p>\n",
      "            </div>\n",
      "            <div class=\"row\">\n",
      "             <div class=\"t-ZTKy\">\n",
      "              <div>\n",
      "               <div class=\"\">\n",
      "                Do not expect much :\n",
      "                <br/>\n",
      "                1)Very slow takes a lot of time just open a browser.\n",
      "                <br/>\n",
      "                2)Design is good\n",
      "                <br/>\n",
      "                3)Battery backup ok.\n",
      "                <br/>\n",
      "                if you want to do basic editing and some gaming then go for atleast 8 GB ram and 4 core processor .\n",
      "               </div>\n",
      "               <span class=\"_1H-bmy\">\n",
      "                <span>\n",
      "                 READ MORE\n",
      "                </span>\n",
      "               </span>\n",
      "              </div>\n",
      "             </div>\n",
      "            </div>\n",
      "            <div class=\"_2nMSwX _3oLIki\">\n",
      "             <div class=\"_21YjFX _2A07HP\" style=\"background-image:url(https://rukminim1.flixcart.com/blobio/124/124/imr-202104/blobio-imr-202104_93955492db044b48920e88c9119f6e67.jpg?q=90), url(data:image/svg+xml;base64,PHN2ZyB3aWR0aD0iMjIiIGhlaWdodD0iMTgiIHhtbG5zPSJodHRwOi8vd3d3LnczLm9yZy8yMDAwL3N2ZyI+PGcgZmlsbD0iIzlEOUQ5RCIgZmlsbC1ydWxlPSJub256ZXJvIj48cGF0aCBkPSJNMjAgMEgyQzEgMCAwIDEgMCAydjE0YzAgMS4xLjkgMiAyIDJoMThjMSAwIDItMSAyLTJWMmMwLTEtMS0yLTItMnptMCAxNS45MmMtLjAyLjAzLS4wNi4wNi0uMDguMDhIMlYyLjA4TDIuMDggMmgxNy44M2MuMDMuMDIuMDYuMDYuMDguMDh2MTMuODRIMjB6Ii8+PHBhdGggZD0iTTEwIDEyLjUxTDcuNSA5LjUgNCAxNGgxNGwtNC41LTZ6Ii8+PC9nPjwvc3ZnPg==);width:62px;height:62px\">\n",
      "             </div>\n",
      "             <div class=\"_21YjFX _2A07HP\" style=\"background-image:url(https://rukminim1.flixcart.com/blobio/124/124/imr-202104/blobio-imr-202104_a84d39f759b74debaa99e8e931e7daa0.jpg?q=90), url(data:image/svg+xml;base64,PHN2ZyB3aWR0aD0iMjIiIGhlaWdodD0iMTgiIHhtbG5zPSJodHRwOi8vd3d3LnczLm9yZy8yMDAwL3N2ZyI+PGcgZmlsbD0iIzlEOUQ5RCIgZmlsbC1ydWxlPSJub256ZXJvIj48cGF0aCBkPSJNMjAgMEgyQzEgMCAwIDEgMCAydjE0YzAgMS4xLjkgMiAyIDJoMThjMSAwIDItMSAyLTJWMmMwLTEtMS0yLTItMnptMCAxNS45MmMtLjAyLjAzLS4wNi4wNi0uMDguMDhIMlYyLjA4TDIuMDggMmgxNy44M2MuMDMuMDIuMDYuMDYuMDguMDh2MTMuODRIMjB6Ii8+PHBhdGggZD0iTTEwIDEyLjUxTDcuNSA5LjUgNCAxNGgxNGwtNC41LTZ6Ii8+PC9nPjwvc3ZnPg==);width:62px;height:62px\">\n",
      "             </div>\n",
      "             <div class=\"_21YjFX _2A07HP\" style=\"background-image:url(https://rukminim1.flixcart.com/blobio/124/124/imr-202104/blobio-imr-202104_4e0ae24648994569803ec32b2ff24d21.jpg?q=90), url(data:image/svg+xml;base64,PHN2ZyB3aWR0aD0iMjIiIGhlaWdodD0iMTgiIHhtbG5zPSJodHRwOi8vd3d3LnczLm9yZy8yMDAwL3N2ZyI+PGcgZmlsbD0iIzlEOUQ5RCIgZmlsbC1ydWxlPSJub256ZXJvIj48cGF0aCBkPSJNMjAgMEgyQzEgMCAwIDEgMCAydjE0YzAgMS4xLjkgMiAyIDJoMThjMSAwIDItMSAyLTJWMmMwLTEtMS0yLTItMnptMCAxNS45MmMtLjAyLjAzLS4wNi4wNi0uMDguMDhIMlYyLjA4TDIuMDggMmgxNy44M2MuMDMuMDIuMDYuMDYuMDguMDh2MTMuODRIMjB6Ii8+PHBhdGggZD0iTTEwIDEyLjUxTDcuNSA5LjUgNCAxNGgxNGwtNC41LTZ6Ii8+PC9nPjwvc3ZnPg==);width:62px;height:62px\">\n",
      "             </div>\n",
      "            </div>\n",
      "            <div class=\"row _3n8db9\">\n",
      "             <div class=\"row\">\n",
      "              <p class=\"_2sc7ZR _2V5EHH\">\n",
      "               Vivek Raturi\n",
      "              </p>\n",
      "              <svg class=\"_2a1p_T\" height=\"14\" viewbox=\"0 0 12 12\" width=\"14\" xmlns=\"http://www.w3.org/2000/svg\">\n",
      "               <g>\n",
      "                <circle cx=\"6\" cy=\"6\" fill=\"#878787\" r=\"6\">\n",
      "                </circle>\n",
      "                <path d=\"M3 6l2 2 4-4\" fill=\"#878787\" stroke=\"#FFF\" stroke-width=\"1.5\">\n",
      "                </path>\n",
      "               </g>\n",
      "              </svg>\n",
      "              <p class=\"_2mcZGG\" id=\"review-89764dce-87e3-48b9-9196-d9b061f72e8f\">\n",
      "               <span>\n",
      "                Certified Buyer\n",
      "               </span>\n",
      "               <span>\n",
      "                , Rishikesh\n",
      "               </span>\n",
      "              </p>\n",
      "              <div>\n",
      "              </div>\n",
      "              <p class=\"_2sc7ZR\">\n",
      "               Apr, 2021\n",
      "              </p>\n",
      "             </div>\n",
      "             <div class=\"_1e9_Zu\">\n",
      "              <div class=\"row\">\n",
      "               <div class=\"_27aTsS\">\n",
      "                <div class=\"_1LmwT9\">\n",
      "                 <svg class=\"skCrcq\" height=\"15\" width=\"20\" xmlns=\"http://www.w3.org/2000/svg\">\n",
      "                  <path class=\"_1LIt4y\" d=\"M9.58.006c-.41.043-.794.32-1.01.728-.277.557-2.334 4.693-2.74 5.1-.41.407-.944.6-1.544.6v8.572h7.5c.45 0 .835-.28 1.007-.665 0 0 2.207-6.234 2.207-6.834 0-.6-.47-1.072-1.07-1.072h-3.216c-.6 0-1.07-.535-1.07-1.07 0-.537.835-3.387 1.006-3.944.17-.557-.107-1.157-.664-1.35-.15-.043-.257-.086-.407-.064zM0 6.434v8.572h2.143V6.434H0z\" fill=\"#fff\" fill-rule=\"evenodd\">\n",
      "                  </path>\n",
      "                 </svg>\n",
      "                 <span class=\"_3c3Px5\">\n",
      "                  30\n",
      "                 </span>\n",
      "                </div>\n",
      "                <div class=\"_1LmwT9 pkR4jH\">\n",
      "                 <svg class=\"skCrcq pkR4jH\" height=\"15\" width=\"20\" xmlns=\"http://www.w3.org/2000/svg\">\n",
      "                  <path class=\"_1LIt4y\" d=\"M9.58.006c-.41.043-.794.32-1.01.728-.277.557-2.334 4.693-2.74 5.1-.41.407-.944.6-1.544.6v8.572h7.5c.45 0 .835-.28 1.007-.665 0 0 2.207-6.234 2.207-6.834 0-.6-.47-1.072-1.07-1.072h-3.216c-.6 0-1.07-.535-1.07-1.07 0-.537.835-3.387 1.006-3.944.17-.557-.107-1.157-.664-1.35-.15-.043-.257-.086-.407-.064zM0 6.434v8.572h2.143V6.434H0z\" fill=\"#fff\" fill-rule=\"evenodd\">\n",
      "                  </path>\n",
      "                 </svg>\n",
      "                 <span class=\"_3c3Px5\">\n",
      "                  0\n",
      "                 </span>\n",
      "                </div>\n",
      "               </div>\n",
      "               <div class=\"_2bmov8\">\n",
      "                <svg class=\"_2UvOBb\" height=\"11\" viewbox=\"0 0 16 27\" width=\"6\" xmlns=\"http://www.w3.org/2000/svg\">\n",
      "                 <path class=\"_2aPE6f\" d=\"M16 23.207L6.11 13.161 16 3.093 12.955 0 0 13.161l12.955 13.161z\" fill=\"#fff\">\n",
      "                 </path>\n",
      "                </svg>\n",
      "                <div class=\"_3E8aIl _38dCuf\">\n",
      "                 <div class=\"_3XCI6U\">\n",
      "                  <a href=\"/reviews/COMFZHZFZFFBJBHH:68?reviewId=89764dce-87e3-48b9-9196-d9b061f72e8f\">\n",
      "                   <span>\n",
      "                    Permalink\n",
      "                   </span>\n",
      "                  </a>\n",
      "                 </div>\n",
      "                 <div class=\"_3XCI6U _2b2z-j\">\n",
      "                  <span>\n",
      "                   Report Abuse\n",
      "                  </span>\n",
      "                 </div>\n",
      "                </div>\n",
      "               </div>\n",
      "              </div>\n",
      "             </div>\n",
      "            </div>\n",
      "           </div>\n",
      "          </div>\n",
      "         </div>\n",
      "        </div>\n",
      "        <div class=\"_1AtVbE col-12-12\">\n",
      "         <div class=\"_27M-vq\">\n",
      "          <div class=\"col\">\n",
      "           <div class=\"col _2wzgFH K0kLPL\">\n",
      "            <div class=\"row\">\n",
      "             <div class=\"_3LWZlK _1BLPMq\">\n",
      "              4\n",
      "              <img class=\"_1wB99o\" src=\"data:image/svg+xml;base64,PHN2ZyB4bWxucz0iaHR0cDovL3d3dy53My5vcmcvMjAwMC9zdmciIHdpZHRoPSIxMyIgaGVpZ2h0PSIxMiI+PHBhdGggZmlsbD0iI0ZGRiIgZD0iTTYuNSA5LjQzOWwtMy42NzQgMi4yMy45NC00LjI2LTMuMjEtMi44ODMgNC4yNTQtLjQwNEw2LjUuMTEybDEuNjkgNC4wMSA0LjI1NC40MDQtMy4yMSAyLjg4Mi45NCA0LjI2eiIvPjwvc3ZnPg==\"/>\n",
      "             </div>\n",
      "             <p class=\"_2-N8zT\">\n",
      "              Wonderful\n",
      "             </p>\n",
      "            </div>\n",
      "            <div class=\"row\">\n",
      "             <div class=\"t-ZTKy\">\n",
      "              <div>\n",
      "               <div class=\"\">\n",
      "                Compare to i3, ryzen 3 is far better in performance with 4gb ram, full Battery charged still works more than 6 hrs... No heating problem.. Display only not bad quality, rest of them are worth for this amount\n",
      "               </div>\n",
      "               <span class=\"_1H-bmy\">\n",
      "                <span>\n",
      "                 READ MORE\n",
      "                </span>\n",
      "               </span>\n",
      "              </div>\n",
      "             </div>\n",
      "            </div>\n",
      "            <div class=\"row _3n8db9\">\n",
      "             <div class=\"row\">\n",
      "              <p class=\"_2sc7ZR _2V5EHH\">\n",
      "               Anand Amirtharaj\n",
      "              </p>\n",
      "              <svg class=\"_2a1p_T\" height=\"14\" viewbox=\"0 0 12 12\" width=\"14\" xmlns=\"http://www.w3.org/2000/svg\">\n",
      "               <g>\n",
      "                <circle cx=\"6\" cy=\"6\" fill=\"#878787\" r=\"6\">\n",
      "                </circle>\n",
      "                <path d=\"M3 6l2 2 4-4\" fill=\"#878787\" stroke=\"#FFF\" stroke-width=\"1.5\">\n",
      "                </path>\n",
      "               </g>\n",
      "              </svg>\n",
      "              <p class=\"_2mcZGG\" id=\"review-d30b21bd-fd6a-4dee-8c47-2d752cc163d1\">\n",
      "               <span>\n",
      "                Certified Buyer\n",
      "               </span>\n",
      "               <span>\n",
      "                , Salem\n",
      "               </span>\n",
      "              </p>\n",
      "              <div>\n",
      "              </div>\n",
      "              <p class=\"_2sc7ZR\">\n",
      "               Feb, 2021\n",
      "              </p>\n",
      "             </div>\n",
      "             <div class=\"_1e9_Zu\">\n",
      "              <div class=\"row\">\n",
      "               <div class=\"_27aTsS\">\n",
      "                <div class=\"_1LmwT9\">\n",
      "                 <svg class=\"skCrcq\" height=\"15\" width=\"20\" xmlns=\"http://www.w3.org/2000/svg\">\n",
      "                  <path class=\"_1LIt4y\" d=\"M9.58.006c-.41.043-.794.32-1.01.728-.277.557-2.334 4.693-2.74 5.1-.41.407-.944.6-1.544.6v8.572h7.5c.45 0 .835-.28 1.007-.665 0 0 2.207-6.234 2.207-6.834 0-.6-.47-1.072-1.07-1.072h-3.216c-.6 0-1.07-.535-1.07-1.07 0-.537.835-3.387 1.006-3.944.17-.557-.107-1.157-.664-1.35-.15-.043-.257-.086-.407-.064zM0 6.434v8.572h2.143V6.434H0z\" fill=\"#fff\" fill-rule=\"evenodd\">\n",
      "                  </path>\n",
      "                 </svg>\n",
      "                 <span class=\"_3c3Px5\">\n",
      "                  92\n",
      "                 </span>\n",
      "                </div>\n",
      "                <div class=\"_1LmwT9 pkR4jH\">\n",
      "                 <svg class=\"skCrcq pkR4jH\" height=\"15\" width=\"20\" xmlns=\"http://www.w3.org/2000/svg\">\n",
      "                  <path class=\"_1LIt4y\" d=\"M9.58.006c-.41.043-.794.32-1.01.728-.277.557-2.334 4.693-2.74 5.1-.41.407-.944.6-1.544.6v8.572h7.5c.45 0 .835-.28 1.007-.665 0 0 2.207-6.234 2.207-6.834 0-.6-.47-1.072-1.07-1.072h-3.216c-.6 0-1.07-.535-1.07-1.07 0-.537.835-3.387 1.006-3.944.17-.557-.107-1.157-.664-1.35-.15-.043-.257-.086-.407-.064zM0 6.434v8.572h2.143V6.434H0z\" fill=\"#fff\" fill-rule=\"evenodd\">\n",
      "                  </path>\n",
      "                 </svg>\n",
      "                 <span class=\"_3c3Px5\">\n",
      "                  15\n",
      "                 </span>\n",
      "                </div>\n",
      "               </div>\n",
      "               <div class=\"_2bmov8\">\n",
      "                <svg class=\"_2UvOBb\" height=\"11\" viewbox=\"0 0 16 27\" width=\"6\" xmlns=\"http://www.w3.org/2000/svg\">\n",
      "                 <path class=\"_2aPE6f\" d=\"M16 23.207L6.11 13.161 16 3.093 12.955 0 0 13.161l12.955 13.161z\" fill=\"#fff\">\n",
      "                 </path>\n",
      "                </svg>\n",
      "                <div class=\"_3E8aIl _38dCuf\">\n",
      "                 <div class=\"_3XCI6U\">\n",
      "                  <a href=\"/reviews/COMFZHZFZFFBJBHH:1?reviewId=d30b21bd-fd6a-4dee-8c47-2d752cc163d1\">\n",
      "                   <span>\n",
      "                    Permalink\n",
      "                   </span>\n",
      "                  </a>\n",
      "                 </div>\n",
      "                 <div class=\"_3XCI6U _2b2z-j\">\n",
      "                  <span>\n",
      "                   Report Abuse\n",
      "                  </span>\n",
      "                 </div>\n",
      "                </div>\n",
      "               </div>\n",
      "              </div>\n",
      "             </div>\n",
      "            </div>\n",
      "           </div>\n",
      "          </div>\n",
      "         </div>\n",
      "        </div>\n",
      "        <div class=\"_1AtVbE col-12-12\">\n",
      "         <div class=\"_27M-vq\">\n",
      "          <div class=\"col\">\n",
      "           <div class=\"col _2wzgFH K0kLPL\">\n",
      "            <div class=\"row\">\n",
      "             <div class=\"_3LWZlK _1BLPMq\">\n",
      "              4\n",
      "              <img class=\"_1wB99o\" src=\"data:image/svg+xml;base64,PHN2ZyB4bWxucz0iaHR0cDovL3d3dy53My5vcmcvMjAwMC9zdmciIHdpZHRoPSIxMyIgaGVpZ2h0PSIxMiI+PHBhdGggZmlsbD0iI0ZGRiIgZD0iTTYuNSA5LjQzOWwtMy42NzQgMi4yMy45NC00LjI2LTMuMjEtMi44ODMgNC4yNTQtLjQwNEw2LjUuMTEybDEuNjkgNC4wMSA0LjI1NC40MDQtMy4yMSAyLjg4Mi45NCA0LjI2eiIvPjwvc3ZnPg==\"/>\n",
      "             </div>\n",
      "             <p class=\"_2-N8zT\">\n",
      "              Very Good\n",
      "             </p>\n",
      "            </div>\n",
      "            <div class=\"row\">\n",
      "             <div class=\"t-ZTKy\">\n",
      "              <div>\n",
      "               <div class=\"\">\n",
      "                Very nice product finishing is very good.\n",
      "               </div>\n",
      "               <span class=\"_1H-bmy\">\n",
      "                <span>\n",
      "                 READ MORE\n",
      "                </span>\n",
      "               </span>\n",
      "              </div>\n",
      "             </div>\n",
      "            </div>\n",
      "            <div class=\"_2nMSwX _3oLIki\">\n",
      "             <div class=\"_21YjFX _2A07HP\" style=\"background-image:url(https://rukminim1.flixcart.com/blobio/124/124/imr-202103/blobio-imr-202103_b25f606dc5d94c0faf77572889d58095.jpg?q=90), url(data:image/svg+xml;base64,PHN2ZyB3aWR0aD0iMjIiIGhlaWdodD0iMTgiIHhtbG5zPSJodHRwOi8vd3d3LnczLm9yZy8yMDAwL3N2ZyI+PGcgZmlsbD0iIzlEOUQ5RCIgZmlsbC1ydWxlPSJub256ZXJvIj48cGF0aCBkPSJNMjAgMEgyQzEgMCAwIDEgMCAydjE0YzAgMS4xLjkgMiAyIDJoMThjMSAwIDItMSAyLTJWMmMwLTEtMS0yLTItMnptMCAxNS45MmMtLjAyLjAzLS4wNi4wNi0uMDguMDhIMlYyLjA4TDIuMDggMmgxNy44M2MuMDMuMDIuMDYuMDYuMDguMDh2MTMuODRIMjB6Ii8+PHBhdGggZD0iTTEwIDEyLjUxTDcuNSA5LjUgNCAxNGgxNGwtNC41LTZ6Ii8+PC9nPjwvc3ZnPg==);width:62px;height:62px\">\n",
      "             </div>\n",
      "            </div>\n",
      "            <div class=\"row _3n8db9\">\n",
      "             <div class=\"row\">\n",
      "              <p class=\"_2sc7ZR _2V5EHH\">\n",
      "               Flipkart Customer\n",
      "              </p>\n",
      "              <svg class=\"_2a1p_T\" height=\"14\" viewbox=\"0 0 12 12\" width=\"14\" xmlns=\"http://www.w3.org/2000/svg\">\n",
      "               <g>\n",
      "                <circle cx=\"6\" cy=\"6\" fill=\"#878787\" r=\"6\">\n",
      "                </circle>\n",
      "                <path d=\"M3 6l2 2 4-4\" fill=\"#878787\" stroke=\"#FFF\" stroke-width=\"1.5\">\n",
      "                </path>\n",
      "               </g>\n",
      "              </svg>\n",
      "              <p class=\"_2mcZGG\" id=\"review-0b0a3dde-4740-469e-ae8a-e5b617036966\">\n",
      "               <span>\n",
      "                Certified Buyer\n",
      "               </span>\n",
      "               <span>\n",
      "                , Navi Mumbai\n",
      "               </span>\n",
      "              </p>\n",
      "              <div>\n",
      "              </div>\n",
      "              <p class=\"_2sc7ZR\">\n",
      "               Mar, 2021\n",
      "              </p>\n",
      "             </div>\n",
      "             <div class=\"_1e9_Zu\">\n",
      "              <div class=\"row\">\n",
      "               <div class=\"_27aTsS\">\n",
      "                <div class=\"_1LmwT9\">\n",
      "                 <svg class=\"skCrcq\" height=\"15\" width=\"20\" xmlns=\"http://www.w3.org/2000/svg\">\n",
      "                  <path class=\"_1LIt4y\" d=\"M9.58.006c-.41.043-.794.32-1.01.728-.277.557-2.334 4.693-2.74 5.1-.41.407-.944.6-1.544.6v8.572h7.5c.45 0 .835-.28 1.007-.665 0 0 2.207-6.234 2.207-6.834 0-.6-.47-1.072-1.07-1.072h-3.216c-.6 0-1.07-.535-1.07-1.07 0-.537.835-3.387 1.006-3.944.17-.557-.107-1.157-.664-1.35-.15-.043-.257-.086-.407-.064zM0 6.434v8.572h2.143V6.434H0z\" fill=\"#fff\" fill-rule=\"evenodd\">\n",
      "                  </path>\n",
      "                 </svg>\n",
      "                 <span class=\"_3c3Px5\">\n",
      "                  26\n",
      "                 </span>\n",
      "                </div>\n",
      "                <div class=\"_1LmwT9 pkR4jH\">\n",
      "                 <svg class=\"skCrcq pkR4jH\" height=\"15\" width=\"20\" xmlns=\"http://www.w3.org/2000/svg\">\n",
      "                  <path class=\"_1LIt4y\" d=\"M9.58.006c-.41.043-.794.32-1.01.728-.277.557-2.334 4.693-2.74 5.1-.41.407-.944.6-1.544.6v8.572h7.5c.45 0 .835-.28 1.007-.665 0 0 2.207-6.234 2.207-6.834 0-.6-.47-1.072-1.07-1.072h-3.216c-.6 0-1.07-.535-1.07-1.07 0-.537.835-3.387 1.006-3.944.17-.557-.107-1.157-.664-1.35-.15-.043-.257-.086-.407-.064zM0 6.434v8.572h2.143V6.434H0z\" fill=\"#fff\" fill-rule=\"evenodd\">\n",
      "                  </path>\n",
      "                 </svg>\n",
      "                 <span class=\"_3c3Px5\">\n",
      "                  3\n",
      "                 </span>\n",
      "                </div>\n",
      "               </div>\n",
      "               <div class=\"_2bmov8\">\n",
      "                <svg class=\"_2UvOBb\" height=\"11\" viewbox=\"0 0 16 27\" width=\"6\" xmlns=\"http://www.w3.org/2000/svg\">\n",
      "                 <path class=\"_2aPE6f\" d=\"M16 23.207L6.11 13.161 16 3.093 12.955 0 0 13.161l12.955 13.161z\" fill=\"#fff\">\n",
      "                 </path>\n",
      "                </svg>\n",
      "                <div class=\"_3E8aIl _38dCuf\">\n",
      "                 <div class=\"_3XCI6U\">\n",
      "                  <a href=\"/reviews/COMFZHZFZFFBJBHH:20?reviewId=0b0a3dde-4740-469e-ae8a-e5b617036966\">\n",
      "                   <span>\n",
      "                    Permalink\n",
      "                   </span>\n",
      "                  </a>\n",
      "                 </div>\n",
      "                 <div class=\"_3XCI6U _2b2z-j\">\n",
      "                  <span>\n",
      "                   Report Abuse\n",
      "                  </span>\n",
      "                 </div>\n",
      "                </div>\n",
      "               </div>\n",
      "              </div>\n",
      "             </div>\n",
      "            </div>\n",
      "           </div>\n",
      "          </div>\n",
      "         </div>\n",
      "        </div>\n",
      "        <div class=\"_1AtVbE col-12-12\">\n",
      "         <div class=\"_27M-vq\">\n",
      "          <div class=\"col\">\n",
      "           <div class=\"col _2wzgFH K0kLPL\">\n",
      "            <div class=\"row\">\n",
      "             <div class=\"_3LWZlK _1BLPMq\">\n",
      "              4\n",
      "              <img class=\"_1wB99o\" src=\"data:image/svg+xml;base64,PHN2ZyB4bWxucz0iaHR0cDovL3d3dy53My5vcmcvMjAwMC9zdmciIHdpZHRoPSIxMyIgaGVpZ2h0PSIxMiI+PHBhdGggZmlsbD0iI0ZGRiIgZD0iTTYuNSA5LjQzOWwtMy42NzQgMi4yMy45NC00LjI2LTMuMjEtMi44ODMgNC4yNTQtLjQwNEw2LjUuMTEybDEuNjkgNC4wMSA0LjI1NC40MDQtMy4yMSAyLjg4Mi45NCA0LjI2eiIvPjwvc3ZnPg==\"/>\n",
      "             </div>\n",
      "             <p class=\"_2-N8zT\">\n",
      "              Nice product\n",
      "             </p>\n",
      "            </div>\n",
      "            <div class=\"row\">\n",
      "             <div class=\"t-ZTKy\">\n",
      "              <div>\n",
      "               <div class=\"\">\n",
      "                This laptop is very light weight and I am happy!! 🙂🙂\n",
      "               </div>\n",
      "               <span class=\"_1H-bmy\">\n",
      "                <span>\n",
      "                 READ MORE\n",
      "                </span>\n",
      "               </span>\n",
      "              </div>\n",
      "             </div>\n",
      "            </div>\n",
      "            <div class=\"_2nMSwX _3oLIki\">\n",
      "             <div class=\"_21YjFX _2A07HP\" style=\"background-image:url(https://rukminim1.flixcart.com/blobio/124/124/imr-202106/blobio-imr-202106_0367b7696f3b403b8cc8d2af74297ed6.jpg?q=90), url(data:image/svg+xml;base64,PHN2ZyB3aWR0aD0iMjIiIGhlaWdodD0iMTgiIHhtbG5zPSJodHRwOi8vd3d3LnczLm9yZy8yMDAwL3N2ZyI+PGcgZmlsbD0iIzlEOUQ5RCIgZmlsbC1ydWxlPSJub256ZXJvIj48cGF0aCBkPSJNMjAgMEgyQzEgMCAwIDEgMCAydjE0YzAgMS4xLjkgMiAyIDJoMThjMSAwIDItMSAyLTJWMmMwLTEtMS0yLTItMnptMCAxNS45MmMtLjAyLjAzLS4wNi4wNi0uMDguMDhIMlYyLjA4TDIuMDggMmgxNy44M2MuMDMuMDIuMDYuMDYuMDguMDh2MTMuODRIMjB6Ii8+PHBhdGggZD0iTTEwIDEyLjUxTDcuNSA5LjUgNCAxNGgxNGwtNC41LTZ6Ii8+PC9nPjwvc3ZnPg==);width:62px;height:62px\">\n",
      "             </div>\n",
      "             <div class=\"_21YjFX _2A07HP\" style=\"background-image:url(https://rukminim1.flixcart.com/blobio/124/124/imr-202106/blobio-imr-202106_70e7c1385fcd407192a9231fba5e8d9a.jpg?q=90), url(data:image/svg+xml;base64,PHN2ZyB3aWR0aD0iMjIiIGhlaWdodD0iMTgiIHhtbG5zPSJodHRwOi8vd3d3LnczLm9yZy8yMDAwL3N2ZyI+PGcgZmlsbD0iIzlEOUQ5RCIgZmlsbC1ydWxlPSJub256ZXJvIj48cGF0aCBkPSJNMjAgMEgyQzEgMCAwIDEgMCAydjE0YzAgMS4xLjkgMiAyIDJoMThjMSAwIDItMSAyLTJWMmMwLTEtMS0yLTItMnptMCAxNS45MmMtLjAyLjAzLS4wNi4wNi0uMDguMDhIMlYyLjA4TDIuMDggMmgxNy44M2MuMDMuMDIuMDYuMDYuMDguMDh2MTMuODRIMjB6Ii8+PHBhdGggZD0iTTEwIDEyLjUxTDcuNSA5LjUgNCAxNGgxNGwtNC41LTZ6Ii8+PC9nPjwvc3ZnPg==);width:62px;height:62px\">\n",
      "             </div>\n",
      "            </div>\n",
      "            <div class=\"row _3n8db9\">\n",
      "             <div class=\"row\">\n",
      "              <p class=\"_2sc7ZR _2V5EHH\">\n",
      "               Shivani  Pankaj\n",
      "              </p>\n",
      "              <svg class=\"_2a1p_T\" height=\"14\" viewbox=\"0 0 12 12\" width=\"14\" xmlns=\"http://www.w3.org/2000/svg\">\n",
      "               <g>\n",
      "                <circle cx=\"6\" cy=\"6\" fill=\"#878787\" r=\"6\">\n",
      "                </circle>\n",
      "                <path d=\"M3 6l2 2 4-4\" fill=\"#878787\" stroke=\"#FFF\" stroke-width=\"1.5\">\n",
      "                </path>\n",
      "               </g>\n",
      "              </svg>\n",
      "              <p class=\"_2mcZGG\" id=\"review-f1ed4758-77e6-4dd8-88c2-83cf1d33f8ed\">\n",
      "               <span>\n",
      "                Certified Buyer\n",
      "               </span>\n",
      "               <span>\n",
      "                , Chandauli\n",
      "               </span>\n",
      "              </p>\n",
      "              <div>\n",
      "              </div>\n",
      "              <p class=\"_2sc7ZR\">\n",
      "               Jun, 2021\n",
      "              </p>\n",
      "             </div>\n",
      "             <div class=\"_1e9_Zu\">\n",
      "              <div class=\"row\">\n",
      "               <div class=\"_27aTsS\">\n",
      "                <div class=\"_1LmwT9\">\n",
      "                 <svg class=\"skCrcq\" height=\"15\" width=\"20\" xmlns=\"http://www.w3.org/2000/svg\">\n",
      "                  <path class=\"_1LIt4y\" d=\"M9.58.006c-.41.043-.794.32-1.01.728-.277.557-2.334 4.693-2.74 5.1-.41.407-.944.6-1.544.6v8.572h7.5c.45 0 .835-.28 1.007-.665 0 0 2.207-6.234 2.207-6.834 0-.6-.47-1.072-1.07-1.072h-3.216c-.6 0-1.07-.535-1.07-1.07 0-.537.835-3.387 1.006-3.944.17-.557-.107-1.157-.664-1.35-.15-.043-.257-.086-.407-.064zM0 6.434v8.572h2.143V6.434H0z\" fill=\"#fff\" fill-rule=\"evenodd\">\n",
      "                  </path>\n",
      "                 </svg>\n",
      "                 <span class=\"_3c3Px5\">\n",
      "                  10\n",
      "                 </span>\n",
      "                </div>\n",
      "                <div class=\"_1LmwT9 pkR4jH\">\n",
      "                 <svg class=\"skCrcq pkR4jH\" height=\"15\" width=\"20\" xmlns=\"http://www.w3.org/2000/svg\">\n",
      "                  <path class=\"_1LIt4y\" d=\"M9.58.006c-.41.043-.794.32-1.01.728-.277.557-2.334 4.693-2.74 5.1-.41.407-.944.6-1.544.6v8.572h7.5c.45 0 .835-.28 1.007-.665 0 0 2.207-6.234 2.207-6.834 0-.6-.47-1.072-1.07-1.072h-3.216c-.6 0-1.07-.535-1.07-1.07 0-.537.835-3.387 1.006-3.944.17-.557-.107-1.157-.664-1.35-.15-.043-.257-.086-.407-.064zM0 6.434v8.572h2.143V6.434H0z\" fill=\"#fff\" fill-rule=\"evenodd\">\n",
      "                  </path>\n",
      "                 </svg>\n",
      "                 <span class=\"_3c3Px5\">\n",
      "                  0\n",
      "                 </span>\n",
      "                </div>\n",
      "               </div>\n",
      "               <div class=\"_2bmov8\">\n",
      "                <svg class=\"_2UvOBb\" height=\"11\" viewbox=\"0 0 16 27\" width=\"6\" xmlns=\"http://www.w3.org/2000/svg\">\n",
      "                 <path class=\"_2aPE6f\" d=\"M16 23.207L6.11 13.161 16 3.093 12.955 0 0 13.161l12.955 13.161z\" fill=\"#fff\">\n",
      "                 </path>\n",
      "                </svg>\n",
      "                <div class=\"_3E8aIl _38dCuf\">\n",
      "                 <div class=\"_3XCI6U\">\n",
      "                  <a href=\"/reviews/COMFZHZFZFFBJBHH:115?reviewId=f1ed4758-77e6-4dd8-88c2-83cf1d33f8ed\">\n",
      "                   <span>\n",
      "                    Permalink\n",
      "                   </span>\n",
      "                  </a>\n",
      "                 </div>\n",
      "                 <div class=\"_3XCI6U _2b2z-j\">\n",
      "                  <span>\n",
      "                   Report Abuse\n",
      "                  </span>\n",
      "                 </div>\n",
      "                </div>\n",
      "               </div>\n",
      "              </div>\n",
      "             </div>\n",
      "            </div>\n",
      "           </div>\n",
      "          </div>\n",
      "         </div>\n",
      "        </div>\n",
      "        <div class=\"_1AtVbE col-12-12\">\n",
      "         <div>\n",
      "          <div class=\"_2MImiq _1Qnn1K\">\n",
      "           <span>\n",
      "            Page 1 of 22\n",
      "           </span>\n",
      "           <nav class=\"yFHi8N\">\n",
      "            <a class=\"ge-49M _2Kfbh8\" href=\"/hp-15s-ryzen-3-dual-core-3250u-4-gb-1-tb-hdd-windows-10-home-15s-gr0006au-thin-light-laptop/product-reviews/itmdbb2d234797b6?pid=COMFZHZFZFFBJBHH&amp;lid=LSTCOMFZHZFZFFBJBHH7WNMPE&amp;marketplace=FLIPKART&amp;page=1\">\n",
      "             1\n",
      "            </a>\n",
      "            <a class=\"ge-49M\" href=\"/hp-15s-ryzen-3-dual-core-3250u-4-gb-1-tb-hdd-windows-10-home-15s-gr0006au-thin-light-laptop/product-reviews/itmdbb2d234797b6?pid=COMFZHZFZFFBJBHH&amp;lid=LSTCOMFZHZFZFFBJBHH7WNMPE&amp;marketplace=FLIPKART&amp;page=2\">\n",
      "             2\n",
      "            </a>\n",
      "            <a class=\"ge-49M\" href=\"/hp-15s-ryzen-3-dual-core-3250u-4-gb-1-tb-hdd-windows-10-home-15s-gr0006au-thin-light-laptop/product-reviews/itmdbb2d234797b6?pid=COMFZHZFZFFBJBHH&amp;lid=LSTCOMFZHZFZFFBJBHH7WNMPE&amp;marketplace=FLIPKART&amp;page=3\">\n",
      "             3\n",
      "            </a>\n",
      "            <a class=\"ge-49M\" href=\"/hp-15s-ryzen-3-dual-core-3250u-4-gb-1-tb-hdd-windows-10-home-15s-gr0006au-thin-light-laptop/product-reviews/itmdbb2d234797b6?pid=COMFZHZFZFFBJBHH&amp;lid=LSTCOMFZHZFZFFBJBHH7WNMPE&amp;marketplace=FLIPKART&amp;page=4\">\n",
      "             4\n",
      "            </a>\n",
      "            <a class=\"ge-49M\" href=\"/hp-15s-ryzen-3-dual-core-3250u-4-gb-1-tb-hdd-windows-10-home-15s-gr0006au-thin-light-laptop/product-reviews/itmdbb2d234797b6?pid=COMFZHZFZFFBJBHH&amp;lid=LSTCOMFZHZFZFFBJBHH7WNMPE&amp;marketplace=FLIPKART&amp;page=5\">\n",
      "             5\n",
      "            </a>\n",
      "            <a class=\"ge-49M\" href=\"/hp-15s-ryzen-3-dual-core-3250u-4-gb-1-tb-hdd-windows-10-home-15s-gr0006au-thin-light-laptop/product-reviews/itmdbb2d234797b6?pid=COMFZHZFZFFBJBHH&amp;lid=LSTCOMFZHZFZFFBJBHH7WNMPE&amp;marketplace=FLIPKART&amp;page=6\">\n",
      "             6\n",
      "            </a>\n",
      "            <a class=\"ge-49M\" href=\"/hp-15s-ryzen-3-dual-core-3250u-4-gb-1-tb-hdd-windows-10-home-15s-gr0006au-thin-light-laptop/product-reviews/itmdbb2d234797b6?pid=COMFZHZFZFFBJBHH&amp;lid=LSTCOMFZHZFZFFBJBHH7WNMPE&amp;marketplace=FLIPKART&amp;page=7\">\n",
      "             7\n",
      "            </a>\n",
      "            <a class=\"ge-49M\" href=\"/hp-15s-ryzen-3-dual-core-3250u-4-gb-1-tb-hdd-windows-10-home-15s-gr0006au-thin-light-laptop/product-reviews/itmdbb2d234797b6?pid=COMFZHZFZFFBJBHH&amp;lid=LSTCOMFZHZFZFFBJBHH7WNMPE&amp;marketplace=FLIPKART&amp;page=8\">\n",
      "             8\n",
      "            </a>\n",
      "            <a class=\"ge-49M\" href=\"/hp-15s-ryzen-3-dual-core-3250u-4-gb-1-tb-hdd-windows-10-home-15s-gr0006au-thin-light-laptop/product-reviews/itmdbb2d234797b6?pid=COMFZHZFZFFBJBHH&amp;lid=LSTCOMFZHZFZFFBJBHH7WNMPE&amp;marketplace=FLIPKART&amp;page=9\">\n",
      "             9\n",
      "            </a>\n",
      "            <a class=\"ge-49M\" href=\"/hp-15s-ryzen-3-dual-core-3250u-4-gb-1-tb-hdd-windows-10-home-15s-gr0006au-thin-light-laptop/product-reviews/itmdbb2d234797b6?pid=COMFZHZFZFFBJBHH&amp;lid=LSTCOMFZHZFZFFBJBHH7WNMPE&amp;marketplace=FLIPKART&amp;page=10\">\n",
      "             10\n",
      "            </a>\n",
      "            <a class=\"_1LKTO3\" href=\"/hp-15s-ryzen-3-dual-core-3250u-4-gb-1-tb-hdd-windows-10-home-15s-gr0006au-thin-light-laptop/product-reviews/itmdbb2d234797b6?pid=COMFZHZFZFFBJBHH&amp;lid=LSTCOMFZHZFZFFBJBHH7WNMPE&amp;marketplace=FLIPKART&amp;page=2\">\n",
      "             <span>\n",
      "              Next\n",
      "             </span>\n",
      "            </a>\n",
      "           </nav>\n",
      "           <span class=\"_22Tduf\">\n",
      "           </span>\n",
      "          </div>\n",
      "         </div>\n",
      "        </div>\n",
      "       </div>\n",
      "      </div>\n",
      "      <div class=\"_39SDPR\">\n",
      "      </div>\n",
      "     </div>\n",
      "    </div>\n",
      "    <footer class=\"_3voSl0\">\n",
      "     <div class=\"_3rc_xQ\">\n",
      "      <div class=\"row\">\n",
      "       <div class=\"col gu12 _8Qljeg\">\n",
      "       </div>\n",
      "      </div>\n",
      "      <div>\n",
      "       <div class=\"_2WErco row\">\n",
      "        <div class=\"_2Brcj4\">\n",
      "         <div class=\"_3-dnWo\">\n",
      "          ABOUT\n",
      "         </div>\n",
      "         <a class=\"_1arVWX\" href=\"/helpcentre?otracker=undefined_footer_navlinks\">\n",
      "          Contact Us\n",
      "         </a>\n",
      "         <a class=\"_1arVWX\" href=\"/about-us?otracker=undefined_footer_navlinks\">\n",
      "          About Us\n",
      "         </a>\n",
      "         <a class=\"_1arVWX\" href=\"https://www.flipkartcareers.com/?otracker=undefined_footer_navlinks\">\n",
      "          Careers\n",
      "         </a>\n",
      "         <a class=\"_1arVWX\" href=\"http://stories.flipkart.com/?otracker=undefined_footer_navlinks\">\n",
      "          Flipkart Stories\n",
      "         </a>\n",
      "         <a class=\"_1arVWX\" href=\"/s/press?otracker=undefined_footer_navlinks\">\n",
      "          Press\n",
      "         </a>\n",
      "         <a class=\"_1arVWX\" href=\"https://www.flipkartwholesale.com/?otracker=undefined_footer_navlinks\" rel=\"noopener noreferrer\" target=\"_blank\">\n",
      "          Flipkart Wholesale\n",
      "         </a>\n",
      "         <a class=\"_1arVWX\" href=\"/corporate-information\">\n",
      "          Corporate Information\n",
      "         </a>\n",
      "        </div>\n",
      "        <div class=\"_2Brcj4\">\n",
      "         <div class=\"_3-dnWo\">\n",
      "          HELP\n",
      "         </div>\n",
      "         <a class=\"_1arVWX\" href=\"/pages/payments\">\n",
      "          Payments\n",
      "         </a>\n",
      "         <a class=\"_1arVWX\" href=\"/pages/shipping\">\n",
      "          Shipping\n",
      "         </a>\n",
      "         <a class=\"_1arVWX\" href=\"/helpcentre?catalog=55c9c6edb000002e002c1701&amp;view=CATALOG\">\n",
      "          Cancellation &amp; Returns\n",
      "         </a>\n",
      "         <a class=\"_1arVWX\" href=\"/helpcentre?catalog=55c9c8e2b0000023002c1702&amp;view=CATALOG\">\n",
      "          FAQ\n",
      "         </a>\n",
      "         <a class=\"_1arVWX\" href=\"https://seller.flipkart.com/fiv?otracker=undefined_footer_navlinks\">\n",
      "          Report Infringement\n",
      "         </a>\n",
      "        </div>\n",
      "        <div class=\"_2Brcj4\">\n",
      "         <div class=\"_3-dnWo\">\n",
      "          CONSUMER POLICY\n",
      "         </div>\n",
      "         <a class=\"_1arVWX\" href=\"/pages/returnpolicy?otracker=undefined_footer_navlinks\">\n",
      "          Return Policy\n",
      "         </a>\n",
      "         <a class=\"_1arVWX\" href=\"/pages/terms?otracker=undefined_footer_navlinks\">\n",
      "          Terms Of Use\n",
      "         </a>\n",
      "         <a class=\"_1arVWX\" href=\"/pages/paymentsecurity?otracker=undefined_footer_navlinks\">\n",
      "          Security\n",
      "         </a>\n",
      "         <a class=\"_1arVWX\" href=\"/pages/privacypolicy?otracker=undefined_footer_navlinks\">\n",
      "          Privacy\n",
      "         </a>\n",
      "         <a class=\"_1arVWX\" href=\"/sitemap?otracker=undefined_footer_navlinks\">\n",
      "          Sitemap\n",
      "         </a>\n",
      "         <a class=\"_1arVWX\" href=\"/pages/grievance-redressal-mechanism?otracker=undefined_footer_navlinks\">\n",
      "          Grievance Redressal\n",
      "         </a>\n",
      "         <a class=\"_1arVWX\" href=\"/pages/ewaste-compliance-tnc?otracker=undefined_footer_navlinks\">\n",
      "          EPR Compliance\n",
      "         </a>\n",
      "        </div>\n",
      "        <div class=\"_2Brcj4\">\n",
      "         <div class=\"_3-dnWo\">\n",
      "          SOCIAL\n",
      "         </div>\n",
      "         <a class=\"_1arVWX\" href=\"https://www.facebook.com/flipkart\">\n",
      "          Facebook\n",
      "         </a>\n",
      "         <a class=\"_1arVWX\" href=\"https://www.twitter.com/flipkart\">\n",
      "          Twitter\n",
      "         </a>\n",
      "         <a class=\"_1arVWX\" href=\"https://www.youtube.com/flipkart\">\n",
      "          YouTube\n",
      "         </a>\n",
      "        </div>\n",
      "        <div class=\"_2Brcj4 address\">\n",
      "         <div class=\"_3JHi0r\">\n",
      "          <div class=\"_3-dnWo\">\n",
      "           <span>\n",
      "            Mail Us:\n",
      "           </span>\n",
      "          </div>\n",
      "          <div class=\"_1U1qnR\">\n",
      "           <div class=\"_1LJS6T\">\n",
      "            <div class=\"_2NKhZn _1U1qnR\">\n",
      "             <p>\n",
      "              Flipkart Internet Private Limited,\n",
      "             </p>\n",
      "             <p>\n",
      "              Buildings Alyssa, Begonia &amp;\n",
      "             </p>\n",
      "             <p>\n",
      "              Clove Embassy Tech Village,\n",
      "             </p>\n",
      "             <p>\n",
      "              Outer Ring Road, Devarabeesanahalli Village,\n",
      "             </p>\n",
      "             <p>\n",
      "              Bengaluru, 560103,\n",
      "             </p>\n",
      "             <p>\n",
      "              Karnataka, India\n",
      "             </p>\n",
      "            </div>\n",
      "           </div>\n",
      "          </div>\n",
      "         </div>\n",
      "        </div>\n",
      "        <div class=\"_2Brcj4 address\">\n",
      "         <div class=\"_3IT4e6\">\n",
      "          <div class=\"_3-dnWo\">\n",
      "           <span>\n",
      "            Registered Office Address:\n",
      "           </span>\n",
      "          </div>\n",
      "          <div class=\"_1U1qnR\">\n",
      "           <div class=\"_1LJS6T\">\n",
      "            <div class=\"_2NKhZn _1U1qnR\">\n",
      "             <p>\n",
      "              Flipkart Internet Private Limited,\n",
      "             </p>\n",
      "             <p>\n",
      "              Buildings Alyssa, Begonia &amp;\n",
      "             </p>\n",
      "             <p>\n",
      "              Clove Embassy Tech Village,\n",
      "             </p>\n",
      "             <p>\n",
      "              Outer Ring Road, Devarabeesanahalli Village,\n",
      "             </p>\n",
      "             <p>\n",
      "              Bengaluru, 560103,\n",
      "             </p>\n",
      "             <p>\n",
      "              Karnataka, India\n",
      "             </p>\n",
      "             <p>\n",
      "              CIN : U51109KA2012PTC066107\n",
      "             </p>\n",
      "             <p>\n",
      "              Telephone:\n",
      "              <a href=\"tel:044-45614700\">\n",
      "               044-45614700\n",
      "              </a>\n",
      "             </p>\n",
      "            </div>\n",
      "           </div>\n",
      "          </div>\n",
      "         </div>\n",
      "        </div>\n",
      "       </div>\n",
      "       <div>\n",
      "        <div class=\"_2uz0vJ\">\n",
      "         <div>\n",
      "          <img src=\"data:image/svg+xml;base64,PHN2ZyB4bWxucz0iaHR0cDovL3d3dy53My5vcmcvMjAwMC9zdmciIHdpZHRoPSIxNiIgaGVpZ2h0PSIxNSIgdmlld0JveD0iMCAwIDE2IDE1Ij4KICAgIDxkZWZzPgogICAgICAgIDxsaW5lYXJHcmFkaWVudCBpZD0iYSIgeDE9IjAlIiB4Mj0iODYuODc2JSIgeTE9IjAlIiB5Mj0iODAuMjAyJSI+CiAgICAgICAgICAgIDxzdG9wIG9mZnNldD0iMCUiIHN0b3AtY29sb3I9IiNGRkQ4MDAiLz4KICAgICAgICAgICAgPHN0b3Agb2Zmc2V0PSIxMDAlIiBzdG9wLWNvbG9yPSIjRkZBRjAwIi8+CiAgICAgICAgPC9saW5lYXJHcmFkaWVudD4KICAgIDwvZGVmcz4KICAgIDxnIGZpbGw9Im5vbmUiIGZpbGwtcnVsZT0iZXZlbm9kZCI+CiAgICAgICAgPHBhdGggZD0iTS0yLTJoMjB2MjBILTJ6Ii8+CiAgICAgICAgPHBhdGggZmlsbD0idXJsKCNhKSIgZmlsbC1ydWxlPSJub256ZXJvIiBkPSJNMTUuOTMgNS42MTRoLTIuOTQ4VjQuMTRjMC0uODE4LS42NTUtMS40NzMtMS40NzMtMS40NzNIOC41NmMtLjgxNyAwLTEuNDczLjY1NS0xLjQ3MyAxLjQ3M3YxLjQ3NEg0LjE0Yy0uODE4IDAtMS40NjYuNjU2LTEuNDY2IDEuNDc0bC0uMDA3IDguMTA1YzAgLjgxOC42NTUgMS40NzQgMS40NzMgMS40NzRoMTEuNzljLjgxOCAwIDEuNDc0LS42NTYgMS40NzQtMS40NzRWNy4wODhjMC0uODE4LS42NTYtMS40NzQtMS40NzQtMS40NzR6bS00LjQyMSAwSDguNTZWNC4xNGgyLjk0OHYxLjQ3NHoiIHRyYW5zZm9ybT0idHJhbnNsYXRlKC0yIC0yKSIvPgogICAgPC9nPgo8L3N2Zz4K\"/>\n",
      "          <a href=\"https://seller.flipkart.com/?utm_source=fkwebsite&amp;utm_medium=websitedirect\">\n",
      "           <span class=\"hDTmm5\">\n",
      "            Become a Seller\n",
      "           </span>\n",
      "          </a>\n",
      "         </div>\n",
      "         <div>\n",
      "          <img src=\"data:image/svg+xml;base64,PHN2ZyB4bWxucz0iaHR0cDovL3d3dy53My5vcmcvMjAwMC9zdmciIHdpZHRoPSIxNSIgaGVpZ2h0PSIxNSIgdmlld0JveD0iMCAwIDE1IDE1Ij4KICAgIDxkZWZzPgogICAgICAgIDxsaW5lYXJHcmFkaWVudCBpZD0iYSIgeDE9IjAlIiB4Mj0iODYuODc2JSIgeTE9IjAlIiB5Mj0iODAuMjAyJSI+CiAgICAgICAgICAgIDxzdG9wIG9mZnNldD0iMCUiIHN0b3AtY29sb3I9IiNGRkQ4MDAiLz4KICAgICAgICAgICAgPHN0b3Agb2Zmc2V0PSIxMDAlIiBzdG9wLWNvbG9yPSIjRkZBRjAwIi8+CiAgICAgICAgPC9saW5lYXJHcmFkaWVudD4KICAgIDwvZGVmcz4KICAgIDxnIGZpbGw9Im5vbmUiIGZpbGwtcnVsZT0iZXZlbm9kZCI+CiAgICAgICAgPHBhdGggZD0iTS0zLTNoMjB2MjBILTN6Ii8+CiAgICAgICAgPHBhdGggZmlsbD0idXJsKCNhKSIgZmlsbC1ydWxlPSJub256ZXJvIiBkPSJNMTAuNDkyIDNDNi4zNTMgMyAzIDYuMzYgMyAxMC41YzAgNC4xNCAzLjM1MyA3LjUgNy40OTIgNy41QzE0LjY0IDE4IDE4IDE0LjY0IDE4IDEwLjUgMTggNi4zNiAxNC42NCAzIDEwLjQ5MiAzem0zLjE4IDEyTDEwLjUgMTMuMDg4IDcuMzI3IDE1bC44NC0zLjYwN0w1LjM3IDguOTdsMy42OS0uMzE1TDEwLjUgNS4yNWwxLjQ0IDMuMzk4IDMuNjkuMzE1LTIuNzk4IDIuNDIyLjg0IDMuNjE1eiIgdHJhbnNmb3JtPSJ0cmFuc2xhdGUoLTMgLTMpIi8+CiAgICA8L2c+Cjwvc3ZnPgo=\"/>\n",
      "          <a href=\"https://brands.flipkart.com\">\n",
      "           <span class=\"hDTmm5\">\n",
      "            Advertise\n",
      "           </span>\n",
      "          </a>\n",
      "         </div>\n",
      "         <div>\n",
      "          <img src=\"data:image/svg+xml;base64,PHN2ZyB4bWxucz0iaHR0cDovL3d3dy53My5vcmcvMjAwMC9zdmciIHdpZHRoPSIxOCIgaGVpZ2h0PSIxNyIgdmlld0JveD0iMCAwIDE4IDE3Ij4KICAgIDxkZWZzPgogICAgICAgIDxsaW5lYXJHcmFkaWVudCBpZD0iYSIgeDE9IjAlIiB4Mj0iODYuODc2JSIgeTE9IjAlIiB5Mj0iODAuMjAyJSI+CiAgICAgICAgICAgIDxzdG9wIG9mZnNldD0iMCUiIHN0b3AtY29sb3I9IiNGRkQ4MDAiLz4KICAgICAgICAgICAgPHN0b3Agb2Zmc2V0PSIxMDAlIiBzdG9wLWNvbG9yPSIjRkZBRjAwIi8+CiAgICAgICAgPC9saW5lYXJHcmFkaWVudD4KICAgIDwvZGVmcz4KICAgIDxnIGZpbGw9Im5vbmUiIGZpbGwtcnVsZT0iZXZlbm9kZCI+CiAgICAgICAgPHBhdGggZD0iTS0xLTFoMjB2MjBILTF6Ii8+CiAgICAgICAgPHBhdGggZmlsbD0idXJsKCNhKSIgZmlsbC1ydWxlPSJub256ZXJvIiBkPSJNMTYuNjY3IDVIMTQuODVjLjA5Mi0uMjU4LjE1LS41NDIuMTUtLjgzM2EyLjQ5NyAyLjQ5NyAwIDAgMC00LjU4My0xLjM3NUwxMCAzLjM1bC0uNDE3LS41NjdBMi41MSAyLjUxIDAgMCAwIDcuNSAxLjY2N2EyLjQ5NyAyLjQ5NyAwIDAgMC0yLjUgMi41YzAgLjI5MS4wNTguNTc1LjE1LjgzM0gzLjMzM2MtLjkyNSAwLTEuNjU4Ljc0Mi0xLjY1OCAxLjY2N2wtLjAwOCA5LjE2NkExLjY2IDEuNjYgMCAwIDAgMy4zMzMgMTcuNWgxMy4zMzRhMS42NiAxLjY2IDAgMCAwIDEuNjY2LTEuNjY3VjYuNjY3QTEuNjYgMS42NiAwIDAgMCAxNi42NjcgNXptMCA2LjY2N0gzLjMzM3YtNWg0LjIzNEw1LjgzMyA5LjAyNWwxLjM1Ljk3NSAxLjk4NC0yLjdMMTAgNi4xNjdsLjgzMyAxLjEzMyAxLjk4NCAyLjcgMS4zNS0uOTc1LTEuNzM0LTIuMzU4aDQuMjM0djV6IiB0cmFuc2Zvcm09InRyYW5zbGF0ZSgtMSAtMSkiLz4KICAgIDwvZz4KPC9zdmc+Cg==\"/>\n",
      "          <a href=\"/the-gift-card-store?otracker=undefined_footer_footer_navlinks\">\n",
      "           <span class=\"hDTmm5\">\n",
      "            Gift Cards\n",
      "           </span>\n",
      "          </a>\n",
      "         </div>\n",
      "         <div>\n",
      "          <img src=\"data:image/svg+xml;base64,PHN2ZyB4bWxucz0iaHR0cDovL3d3dy53My5vcmcvMjAwMC9zdmciIHdpZHRoPSIxNSIgaGVpZ2h0PSIxNSIgdmlld0JveD0iMCAwIDE1IDE1Ij4KICAgIDxkZWZzPgogICAgICAgIDxsaW5lYXJHcmFkaWVudCBpZD0iYSIgeDE9IjAlIiB4Mj0iODYuODc2JSIgeTE9IjAlIiB5Mj0iODAuMjAyJSI+CiAgICAgICAgICAgIDxzdG9wIG9mZnNldD0iMCUiIHN0b3AtY29sb3I9IiNGRkQ4MDAiLz4KICAgICAgICAgICAgPHN0b3Agb2Zmc2V0PSIxMDAlIiBzdG9wLWNvbG9yPSIjRkZBRjAwIi8+CiAgICAgICAgPC9saW5lYXJHcmFkaWVudD4KICAgIDwvZGVmcz4KICAgIDxnIGZpbGw9Im5vbmUiIGZpbGwtcnVsZT0iZXZlbm9kZCI+CiAgICAgICAgPHBhdGggZD0iTS0yLTNoMjB2MjBILTJ6Ii8+CiAgICAgICAgPHBhdGggZmlsbD0idXJsKCNhKSIgZmlsbC1ydWxlPSJub256ZXJvIiBkPSJNOS41IDNDNS4zNiAzIDIgNi4zNiAyIDEwLjUgMiAxNC42NCA1LjM2IDE4IDkuNSAxOGM0LjE0IDAgNy41LTMuMzYgNy41LTcuNUMxNyA2LjM2IDEzLjY0IDMgOS41IDN6bS43NSAxMi43NWgtMS41di0xLjVoMS41djEuNXptMS41NTMtNS44MTNsLS42NzYuNjljLS41NC41NDgtLjg3Ny45OTgtLjg3NyAyLjEyM2gtMS41di0uMzc1YzAtLjgyNS4zMzgtMS41NzUuODc3LTIuMTIzbC45My0uOTQ1Yy4yNzgtLjI3LjQ0My0uNjQ1LjQ0My0xLjA1NyAwLS44MjUtLjY3NS0xLjUtMS41LTEuNVM4IDcuNDI1IDggOC4yNUg2LjVhMyAzIDAgMSAxIDYgMGMwIC42Ni0uMjcgMS4yNi0uNjk3IDEuNjg4eiIgdHJhbnNmb3JtPSJ0cmFuc2xhdGUoLTIgLTMpIi8+CiAgICA8L2c+Cjwvc3ZnPgo=\"/>\n",
      "          <a href=\"/helpcentre?otracker=undefined_footer_footer_navlinks\">\n",
      "           <span class=\"hDTmm5\">\n",
      "            Help Center\n",
      "           </span>\n",
      "          </a>\n",
      "         </div>\n",
      "         <span class=\"z3ht-w\">\n",
      "          © 2007-\n",
      "          <!-- -->\n",
      "          2023\n",
      "          <!-- -->\n",
      "          <span>\n",
      "           Flipkart.com\n",
      "          </span>\n",
      "         </span>\n",
      "         <img src=\"//static-assets-web.flixcart.com/fk-p-linchpin-web/fk-cp-zion/img/payment-method_69e7ec.svg\"/>\n",
      "        </div>\n",
      "       </div>\n",
      "      </div>\n",
      "     </div>\n",
      "    </footer>\n",
      "    <div class=\"_1EcK2J _38JCdA\">\n",
      "     <div class=\"bra6U8\">\n",
      "      <svg class=\"_2TdLiZ\" height=\"27\" viewbox=\"0 0 16 27\" width=\"16\" xmlns=\"http://www.w3.org/2000/svg\">\n",
      "       <path class=\"_3ZKfA2\" d=\"M16 23.207L6.11 13.161 16 3.093 12.955 0 0 13.161l12.955 13.161z\" fill=\"#fff\">\n",
      "       </path>\n",
      "      </svg>\n",
      "      <span>\n",
      "       Back to top\n",
      "      </span>\n",
      "     </div>\n",
      "    </div>\n",
      "   </div>\n",
      "  </div>\n",
      "  <script id=\"jsonLD\" nonce=\"7163311636887418669\" type=\"application/ld+json\">\n",
      "   {}\n",
      "  </script>\n",
      "  <script id=\"jsonLD\" nonce=\"7163311636887418669\" type=\"application/ld+json\">\n",
      "   {}\n",
      "  </script>\n",
      "  <script nonce=\"7163311636887418669\" type=\"application/ld+json\">\n",
      "   {\n",
      "    \"@context\": \"http://schema.org\",\n",
      "    \"@type\": \"WebSite\",\n",
      "    \"url\": \"http://www.flipkart.com/\",\n",
      "    \"potentialAction\": [{\n",
      "        \"@type\": \"SearchAction\",\n",
      "        \"target\": \"http://www.flipkart.com/search?q={search_term_string}\",\n",
      "        \"query-input\": \"required name=search_term_string\"\n",
      "        },{\n",
      "        \"@type\": \"SearchAction\",\n",
      "        \"target\": \"android-app://com.flipkart.android/flipkart/de_sq_seg_-search.flipkart.com-_{search_term_string}\",\n",
      "        \"query-input\": \"required name=search_term_string\"\n",
      "    }]\n",
      "}\n",
      "  </script>\n",
      "  <script id=\"is_script\" nonce=\"7163311636887418669\">\n",
      "   window.__INITIAL_STATE__ = {};\n",
      "  </script>\n",
      "  <link data-chunk=\"NavMenu\" href=\"//static-assets-web.flixcart.com/fk-p-linchpin-web/fk-cp-zion/css/NavMenu.chunk.10ffe7.css\" rel=\"stylesheet\"/>\n",
      "  <script id=\"__LOADABLE_REQUIRED_CHUNKS__\" type=\"application/json\">\n",
      "   [121]\n",
      "  </script>\n",
      "  <script id=\"__LOADABLE_REQUIRED_CHUNKS___ext\" type=\"application/json\">\n",
      "   {\"namedChunks\":[\"NavMenu\"]}\n",
      "  </script>\n",
      "  <script async=\"\" data-chunk=\"NavMenu\" src=\"//static-assets-web.flixcart.com/fk-p-linchpin-web/fk-cp-zion/js/NavMenu.chunk.2bd3e676.js\">\n",
      "  </script>\n",
      "  <script nonce=\"7163311636887418669\">\n",
      "   window.omniture={tpv:[],tl:[]};window.omniture.trackPageView=function(){window.omniture.tpv.push(arguments)};window.omniture.trackLink=function(){window.omniture.tl.push(arguments)}\n",
      "\n",
      "    if(window.location.host === 'www.flipkart.com' || /\\.store\\.flipkart\\.com/i.test(window.location.host)){\n",
      "        window.s_account = \"flipkart-prd\"; //omniture account id\n",
      "    }else{\n",
      "        window.s_account = \"flipkart-prd-test\";\n",
      "    }\n",
      "    window.s_isDesktop = true;\n",
      "  </script>\n",
      "  <script nonce=\"7163311636887418669\">\n",
      "   function isMobile(){\n",
      "\t\tif (!!(navigator.userAgentData && navigator.userAgentData.mobile) || navigator.userAgent.indexOf(\"Mobile\") !== -1){\n",
      "\t\t\treturn true;\n",
      "\t\t}\n",
      "\t\telse {\n",
      "\t\t\treturn false;\n",
      "\t\t}\n",
      "\t}\n",
      "\n",
      "\tif ('serviceWorker' in navigator && !isMobile()) {\n",
      "\t\tnavigator.serviceWorker.register('/sw.js').then(function(registration) {\n",
      "\t\t\tconsole.log('ServiceWorker registration successful with scope: ', registration.scope);\n",
      "\t\t\tnavigator.onLine && navigator.serviceWorker.controller && navigator.serviceWorker.controller.postMessage('BANDWIDTH_COMPUTE');\n",
      "\t\t\tnavigator.serviceWorker.addEventListener('message', function (event) {\n",
      "\t\t\t\ttry {\n",
      "\t\t\t\t\tconst bandwidthData = JSON.parse(event.data);\n",
      "\t\t\t\t\tif (bandwidthData && bandwidthData.data) {\n",
      "\t\t\t\t\t\twindow.bandwidth = bandwidthData.data.downlink + '_' + bandwidthData.data.computeMethod + '_' + bandwidthData.data.effectiveType + '_' + bandwidthData.data.type;\n",
      "\t\t\t\t\t}\n",
      "\t\t\t\t}catch(err) {\n",
      "\t\t\t\t\tconsole.error('JSON.parse failed:', err);\n",
      "\t\t\t\t}\n",
      "\t\t\t});\n",
      "\t\t})\n",
      "\t\t.catch(function(err) {\n",
      "\t\t\tconsole.error('ServiceWorker registration failed: ', err);\n",
      "\t\t});\n",
      "\t} else if('serviceWorker' in navigator && isMobile()){\n",
      "        navigator.serviceWorker.getRegistration().then(function(registration) {\n",
      "            var serviceWorkerUnregistered=false;\n",
      "            if(registration) {\n",
      "                registration.unregister();\n",
      "                serviceWorkerUnregistered=true;\n",
      "            }\n",
      "            serviceWorkerUnregistered && window.location.reload();\n",
      "        });\n",
      "    }\n",
      "  </script>\n",
      "  <script async=\"\" defer=\"defer\" id=\"omni_script\" nonce=\"7163311636887418669\" src=\"///www/linchpin/batman-returns/omni/omni16.js\">\n",
      "  </script>\n",
      "  <script nonce=\"7163311636887418669\">\n",
      "   window._pxAppId = 'PXgNtTli3A';\n",
      "  </script>\n",
      "  <script async=\"\" nonce=\"7163311636887418669\" src=\"///px/gNtTli3A/init.js\">\n",
      "  </script>\n",
      " </body>\n",
      "</html>\n"
     ]
    }
   ],
   "source": [
    "soup=bs(htmlcontain,\"html.parser\")\n",
    "print(soup.prettify())"
   ]
  },
  {
   "attachments": {},
   "cell_type": "markdown",
   "metadata": {},
   "source": [
    "### Title of the product "
   ]
  },
  {
   "cell_type": "code",
   "execution_count": 5,
   "metadata": {},
   "outputs": [
    {
     "name": "stdout",
     "output_type": "stream",
     "text": [
      "<title>Hp 15s Ryzen 3 Dual Core 3250u 4 Gb 1 Tb Hdd Windows 10 Home 15s Gr0006au Thin Light Laptop Reviews: Latest Review of Hp 15s Ryzen 3 Dual Core 3250u 4 Gb 1 Tb Hdd Windows 10 Home 15s Gr0006au Thin Light Laptop | Price in India | Flipkart.com</title>\n"
     ]
    }
   ],
   "source": [
    "title=soup.title\n",
    "print(title)"
   ]
  },
  {
   "cell_type": "code",
   "execution_count": 6,
   "metadata": {},
   "outputs": [
    {
     "name": "stdout",
     "output_type": "stream",
     "text": [
      "Hp 15s Ryzen 3 Dual Core 3250u 4 Gb 1 Tb Hdd Windows 10 Home 15s Gr0006au Thin Light Laptop Reviews: Latest Review of Hp 15s Ryzen 3 Dual Core 3250u 4 Gb 1 Tb Hdd Windows 10 Home 15s Gr0006au Thin Light Laptop | Price in India | Flipkart.com\n"
     ]
    }
   ],
   "source": [
    "print(title.string)"
   ]
  },
  {
   "cell_type": "code",
   "execution_count": 9,
   "metadata": {},
   "outputs": [
    {
     "name": "stdout",
     "output_type": "stream",
     "text": [
      "₹32,990\n"
     ]
    }
   ],
   "source": [
    "price=soup.find_all(\"div\",class_=\"_30jeq3\")\n",
    "print(price[0].string)"
   ]
  },
  {
   "cell_type": "code",
   "execution_count": 11,
   "metadata": {},
   "outputs": [
    {
     "name": "stdout",
     "output_type": "stream",
     "text": [
      "['₹32,990']\n"
     ]
    }
   ],
   "source": [
    "prod_price=[]\n",
    "\n",
    "for prices in range(0,len(price)):\n",
    "    prod_price.append(price[prices].get_text())\n",
    "print(prod_price)"
   ]
  },
  {
   "cell_type": "code",
   "execution_count": 13,
   "metadata": {},
   "outputs": [
    {
     "name": "stdout",
     "output_type": "stream",
     "text": [
      "[<p class=\"_2sc7ZR _2V5EHH\">Vaibhav Bharati</p>, <p class=\"_2sc7ZR _2V5EHH\">MD MATHIN ALI</p>, <p class=\"_2sc7ZR _2V5EHH\">Sayani  Banerjee </p>, <p class=\"_2sc7ZR _2V5EHH\">Satyajit Swain</p>, <p class=\"_2sc7ZR _2V5EHH\">Vijay Singh  Shekhawat</p>, <p class=\"_2sc7ZR _2V5EHH\">Anoop Mathew</p>, <p class=\"_2sc7ZR _2V5EHH\">Vivek Raturi</p>, <p class=\"_2sc7ZR _2V5EHH\">Anand Amirtharaj</p>, <p class=\"_2sc7ZR _2V5EHH\">Flipkart Customer</p>, <p class=\"_2sc7ZR _2V5EHH\">Shivani  Pankaj</p>]\n"
     ]
    }
   ],
   "source": [
    "cust_name=soup.find_all(\"p\",class_=\"_2sc7ZR _2V5EHH\")\n",
    "print(cust_name)"
   ]
  },
  {
   "cell_type": "code",
   "execution_count": 15,
   "metadata": {},
   "outputs": [
    {
     "name": "stdout",
     "output_type": "stream",
     "text": [
      "['Vaibhav Bharati', 'MD MATHIN ALI', 'Sayani  Banerjee ', 'Satyajit Swain', 'Vijay Singh  Shekhawat', 'Anoop Mathew', 'Vivek Raturi', 'Anand Amirtharaj', 'Flipkart Customer', 'Shivani  Pankaj']\n"
     ]
    }
   ],
   "source": [
    "cust_list=[]\n",
    "for i in range(0,len(cust_name)):\n",
    "    cust_list.append(cust_name[i].get_text())\n",
    "print(cust_list)"
   ]
  },
  {
   "cell_type": "code",
   "execution_count": 16,
   "metadata": {},
   "outputs": [
    {
     "name": "stdout",
     "output_type": "stream",
     "text": [
      "[<p class=\"_2-N8zT\">Very Good</p>, <p class=\"_2-N8zT\">Terrific</p>, <p class=\"_2-N8zT\">Worth every penny</p>, <p class=\"_2-N8zT\">Fair</p>, <p class=\"_2-N8zT\">Fair</p>, <p class=\"_2-N8zT\">Just wow!</p>, <p class=\"_2-N8zT\">Good</p>, <p class=\"_2-N8zT\">Wonderful</p>, <p class=\"_2-N8zT\">Very Good</p>, <p class=\"_2-N8zT\">Nice product</p>]\n"
     ]
    }
   ],
   "source": [
    "review_title=soup.find_all(\"p\",class_=\"_2-N8zT\")\n",
    "print(review_title)"
   ]
  },
  {
   "cell_type": "code",
   "execution_count": 17,
   "metadata": {},
   "outputs": [
    {
     "name": "stdout",
     "output_type": "stream",
     "text": [
      "['Very Good', 'Terrific', 'Worth every penny', 'Fair', 'Fair', 'Just wow!', 'Good', 'Wonderful', 'Very Good', 'Nice product']\n"
     ]
    }
   ],
   "source": [
    "review_list=[]\n",
    "for i in range(0,len(review_title)):\n",
    "    review_list.append(review_title[i].get_text())\n",
    "print(review_list)"
   ]
  },
  {
   "cell_type": "code",
   "execution_count": 18,
   "metadata": {},
   "outputs": [
    {
     "name": "stdout",
     "output_type": "stream",
     "text": [
      "Very Good\n",
      "Terrific\n",
      "Worth every penny\n",
      "Fair\n",
      "Fair\n",
      "Just wow!\n",
      "Good\n",
      "Wonderful\n",
      "Very Good\n",
      "Nice product\n"
     ]
    }
   ],
   "source": [
    "for i in review_list:\n",
    "    print(i)"
   ]
  },
  {
   "cell_type": "code",
   "execution_count": 20,
   "metadata": {},
   "outputs": [
    {
     "name": "stdout",
     "output_type": "stream",
     "text": [
      "[<div class=\"_3LWZlK _1BLPMq\">4<img class=\"_1wB99o\" src=\"data:image/svg+xml;base64,PHN2ZyB4bWxucz0iaHR0cDovL3d3dy53My5vcmcvMjAwMC9zdmciIHdpZHRoPSIxMyIgaGVpZ2h0PSIxMiI+PHBhdGggZmlsbD0iI0ZGRiIgZD0iTTYuNSA5LjQzOWwtMy42NzQgMi4yMy45NC00LjI2LTMuMjEtMi44ODMgNC4yNTQtLjQwNEw2LjUuMTEybDEuNjkgNC4wMSA0LjI1NC40MDQtMy4yMSAyLjg4Mi45NCA0LjI2eiIvPjwvc3ZnPg==\"/></div>, <div class=\"_3LWZlK _1BLPMq\">5<img class=\"_1wB99o\" src=\"data:image/svg+xml;base64,PHN2ZyB4bWxucz0iaHR0cDovL3d3dy53My5vcmcvMjAwMC9zdmciIHdpZHRoPSIxMyIgaGVpZ2h0PSIxMiI+PHBhdGggZmlsbD0iI0ZGRiIgZD0iTTYuNSA5LjQzOWwtMy42NzQgMi4yMy45NC00LjI2LTMuMjEtMi44ODMgNC4yNTQtLjQwNEw2LjUuMTEybDEuNjkgNC4wMSA0LjI1NC40MDQtMy4yMSAyLjg4Mi45NCA0LjI2eiIvPjwvc3ZnPg==\"/></div>, <div class=\"_3LWZlK _1BLPMq\">5<img class=\"_1wB99o\" src=\"data:image/svg+xml;base64,PHN2ZyB4bWxucz0iaHR0cDovL3d3dy53My5vcmcvMjAwMC9zdmciIHdpZHRoPSIxMyIgaGVpZ2h0PSIxMiI+PHBhdGggZmlsbD0iI0ZGRiIgZD0iTTYuNSA5LjQzOWwtMy42NzQgMi4yMy45NC00LjI2LTMuMjEtMi44ODMgNC4yNTQtLjQwNEw2LjUuMTEybDEuNjkgNC4wMSA0LjI1NC40MDQtMy4yMSAyLjg4Mi45NCA0LjI2eiIvPjwvc3ZnPg==\"/></div>, <div class=\"_3LWZlK _1BLPMq\">3<img class=\"_1wB99o\" src=\"data:image/svg+xml;base64,PHN2ZyB4bWxucz0iaHR0cDovL3d3dy53My5vcmcvMjAwMC9zdmciIHdpZHRoPSIxMyIgaGVpZ2h0PSIxMiI+PHBhdGggZmlsbD0iI0ZGRiIgZD0iTTYuNSA5LjQzOWwtMy42NzQgMi4yMy45NC00LjI2LTMuMjEtMi44ODMgNC4yNTQtLjQwNEw2LjUuMTEybDEuNjkgNC4wMSA0LjI1NC40MDQtMy4yMSAyLjg4Mi45NCA0LjI2eiIvPjwvc3ZnPg==\"/></div>, <div class=\"_3LWZlK _1BLPMq\">3<img class=\"_1wB99o\" src=\"data:image/svg+xml;base64,PHN2ZyB4bWxucz0iaHR0cDovL3d3dy53My5vcmcvMjAwMC9zdmciIHdpZHRoPSIxMyIgaGVpZ2h0PSIxMiI+PHBhdGggZmlsbD0iI0ZGRiIgZD0iTTYuNSA5LjQzOWwtMy42NzQgMi4yMy45NC00LjI2LTMuMjEtMi44ODMgNC4yNTQtLjQwNEw2LjUuMTEybDEuNjkgNC4wMSA0LjI1NC40MDQtMy4yMSAyLjg4Mi45NCA0LjI2eiIvPjwvc3ZnPg==\"/></div>, <div class=\"_3LWZlK _1BLPMq\">5<img class=\"_1wB99o\" src=\"data:image/svg+xml;base64,PHN2ZyB4bWxucz0iaHR0cDovL3d3dy53My5vcmcvMjAwMC9zdmciIHdpZHRoPSIxMyIgaGVpZ2h0PSIxMiI+PHBhdGggZmlsbD0iI0ZGRiIgZD0iTTYuNSA5LjQzOWwtMy42NzQgMi4yMy45NC00LjI2LTMuMjEtMi44ODMgNC4yNTQtLjQwNEw2LjUuMTEybDEuNjkgNC4wMSA0LjI1NC40MDQtMy4yMSAyLjg4Mi45NCA0LjI2eiIvPjwvc3ZnPg==\"/></div>, <div class=\"_3LWZlK _1BLPMq\">3<img class=\"_1wB99o\" src=\"data:image/svg+xml;base64,PHN2ZyB4bWxucz0iaHR0cDovL3d3dy53My5vcmcvMjAwMC9zdmciIHdpZHRoPSIxMyIgaGVpZ2h0PSIxMiI+PHBhdGggZmlsbD0iI0ZGRiIgZD0iTTYuNSA5LjQzOWwtMy42NzQgMi4yMy45NC00LjI2LTMuMjEtMi44ODMgNC4yNTQtLjQwNEw2LjUuMTEybDEuNjkgNC4wMSA0LjI1NC40MDQtMy4yMSAyLjg4Mi45NCA0LjI2eiIvPjwvc3ZnPg==\"/></div>, <div class=\"_3LWZlK _1BLPMq\">4<img class=\"_1wB99o\" src=\"data:image/svg+xml;base64,PHN2ZyB4bWxucz0iaHR0cDovL3d3dy53My5vcmcvMjAwMC9zdmciIHdpZHRoPSIxMyIgaGVpZ2h0PSIxMiI+PHBhdGggZmlsbD0iI0ZGRiIgZD0iTTYuNSA5LjQzOWwtMy42NzQgMi4yMy45NC00LjI2LTMuMjEtMi44ODMgNC4yNTQtLjQwNEw2LjUuMTEybDEuNjkgNC4wMSA0LjI1NC40MDQtMy4yMSAyLjg4Mi45NCA0LjI2eiIvPjwvc3ZnPg==\"/></div>, <div class=\"_3LWZlK _1BLPMq\">4<img class=\"_1wB99o\" src=\"data:image/svg+xml;base64,PHN2ZyB4bWxucz0iaHR0cDovL3d3dy53My5vcmcvMjAwMC9zdmciIHdpZHRoPSIxMyIgaGVpZ2h0PSIxMiI+PHBhdGggZmlsbD0iI0ZGRiIgZD0iTTYuNSA5LjQzOWwtMy42NzQgMi4yMy45NC00LjI2LTMuMjEtMi44ODMgNC4yNTQtLjQwNEw2LjUuMTEybDEuNjkgNC4wMSA0LjI1NC40MDQtMy4yMSAyLjg4Mi45NCA0LjI2eiIvPjwvc3ZnPg==\"/></div>, <div class=\"_3LWZlK _1BLPMq\">4<img class=\"_1wB99o\" src=\"data:image/svg+xml;base64,PHN2ZyB4bWxucz0iaHR0cDovL3d3dy53My5vcmcvMjAwMC9zdmciIHdpZHRoPSIxMyIgaGVpZ2h0PSIxMiI+PHBhdGggZmlsbD0iI0ZGRiIgZD0iTTYuNSA5LjQzOWwtMy42NzQgMi4yMy45NC00LjI2LTMuMjEtMi44ODMgNC4yNTQtLjQwNEw2LjUuMTEybDEuNjkgNC4wMSA0LjI1NC40MDQtMy4yMSAyLjg4Mi45NCA0LjI2eiIvPjwvc3ZnPg==\"/></div>]\n"
     ]
    }
   ],
   "source": [
    "star=soup.find_all(\"div\",class_=\"_3LWZlK _1BLPMq\")\n",
    "print(star)"
   ]
  },
  {
   "cell_type": "code",
   "execution_count": 21,
   "metadata": {},
   "outputs": [
    {
     "name": "stdout",
     "output_type": "stream",
     "text": [
      "['4', '5', '5', '3', '3', '5', '3', '4', '4', '4']\n"
     ]
    }
   ],
   "source": [
    "cust_star=[]\n",
    "for i in range(0,len(star)):\n",
    "    cust_star.append(star[i].get_text())\n",
    "print(cust_star)"
   ]
  },
  {
   "cell_type": "code",
   "execution_count": 22,
   "metadata": {},
   "outputs": [
    {
     "name": "stdout",
     "output_type": "stream",
     "text": [
      "[<div class=\"t-ZTKy\"><div><div class=\"\">Read carefully.. My Experience was complicated just because of boot time i.e. on/off time was too long until I didn't go for updates but once I have done all updates... I am telling you guys...Maska..hai.. Maska..<br/><br/>Superb performance.. and look wise i liked it very much. I use to play GT racing without any lag..<br/><br/>My daughter is also happy for her online studies.<br/><br/>My suggestion is that don't think twice just go for it with Flipkart.<br/><br/>Thanks flipkart for very safe and on time delivery.</div><span class=\"_1H-bmy\"><span>READ MORE</span></span></div></div>, <div class=\"t-ZTKy\"><div><div class=\"\">#Price up to mark<br/>Its wonderful product for those ,who looking for  student and domestic work<br/><br/>1)Its just my dream lappi,(laptop)<br/>2)just go for laptop,its really awesome<br/>3)I just bought it for my project and bussiness work it's awesome<br/>4)one of the best product from HP<br/>5)just price is little high ,it have to be reduced<br/>6) I loved it<br/>7) I recommend it for u,💯💯❤️</div><span class=\"_1H-bmy\"><span>READ MORE</span></span></div></div>, <div class=\"t-ZTKy\"><div><div class=\"\">Nice laptop and Ryzen 3 is a good processor for multi tasking... Design and color both are good. It's better to go with this HP laptop in this price segment...</div><span class=\"_1H-bmy\"><span>READ MORE</span></span></div></div>, <div class=\"t-ZTKy\"><div><div class=\"\">This laptop needs to be upgraded to at least 8 gb memory for better performance as most of HP bloatware that comes with the windows build use almost 80% of ram all the time. Besides the built in vega gpu shares Ram as it does not have dedicated graphics memory. An SSD upgrade and booting the OS in there should do wonders to the disk I/O and overall performance. Out of the box, laptop is sluggish so 3 stars.</div><span class=\"_1H-bmy\"><span>READ MORE</span></span></div></div>, <div class=\"t-ZTKy\"><div><div class=\"\">HP Product is Good/Ok, but personally i will prefer Dell Laptop. Dell Laptop is best &amp; friendly for smooth process<br/>&amp; I thing i3 is better comparison to Rayzen 3.</div><span class=\"_1H-bmy\"><span>READ MORE</span></span></div></div>, <div class=\"t-ZTKy\"><div><div class=\"\">Awesome and nice for students and all. The favorite things is its comes with Windows and office home and student precious.</div><span class=\"_1H-bmy\"><span>READ MORE</span></span></div></div>, <div class=\"t-ZTKy\"><div><div class=\"\">Do not expect much :<br/>1)Very slow takes a lot of time just open a browser.<br/>2)Design is good  <br/>3)Battery backup ok.<br/>if you want to do basic editing and some gaming then go for atleast 8 GB ram and 4 core processor .</div><span class=\"_1H-bmy\"><span>READ MORE</span></span></div></div>, <div class=\"t-ZTKy\"><div><div class=\"\">Compare to i3, ryzen 3 is far better in performance with 4gb ram, full Battery charged still works more than 6 hrs... No heating problem.. Display only not bad quality, rest of them are worth for this amount</div><span class=\"_1H-bmy\"><span>READ MORE</span></span></div></div>, <div class=\"t-ZTKy\"><div><div class=\"\">Very nice product finishing is very good.</div><span class=\"_1H-bmy\"><span>READ MORE</span></span></div></div>, <div class=\"t-ZTKy\"><div><div class=\"\">This laptop is very light weight and I am happy!! 🙂🙂</div><span class=\"_1H-bmy\"><span>READ MORE</span></span></div></div>]\n"
     ]
    }
   ],
   "source": [
    "cust_comt=soup.find_all(\"div\",class_=\"t-ZTKy\")\n",
    "print(cust_comt)"
   ]
  },
  {
   "cell_type": "code",
   "execution_count": 23,
   "metadata": {},
   "outputs": [
    {
     "name": "stdout",
     "output_type": "stream",
     "text": [
      "[\"Read carefully.. My Experience was complicated just because of boot time i.e. on/off time was too long until I didn't go for updates but once I have done all updates... I am telling you guys...Maska..hai.. Maska..Superb performance.. and look wise i liked it very much. I use to play GT racing without any lag..My daughter is also happy for her online studies.My suggestion is that don't think twice just go for it with Flipkart.Thanks flipkart for very safe and on time delivery.READ MORE\", \"#Price up to markIts wonderful product for those ,who looking for  student and domestic work1)Its just my dream lappi,(laptop)2)just go for laptop,its really awesome3)I just bought it for my project and bussiness work it's awesome4)one of the best product from HP5)just price is little high ,it have to be reduced6) I loved it7) I recommend it for u,💯💯❤️READ MORE\", \"Nice laptop and Ryzen 3 is a good processor for multi tasking... Design and color both are good. It's better to go with this HP laptop in this price segment...READ MORE\", 'This laptop needs to be upgraded to at least 8 gb memory for better performance as most of HP bloatware that comes with the windows build use almost 80% of ram all the time. Besides the built in vega gpu shares Ram as it does not have dedicated graphics memory. An SSD upgrade and booting the OS in there should do wonders to the disk I/O and overall performance. Out of the box, laptop is sluggish so 3 stars.READ MORE', 'HP Product is Good/Ok, but personally i will prefer Dell Laptop. Dell Laptop is best & friendly for smooth process& I thing i3 is better comparison to Rayzen 3.READ MORE', 'Awesome and nice for students and all. The favorite things is its comes with Windows and office home and student precious.READ MORE', 'Do not expect much :1)Very slow takes a lot of time just open a browser.2)Design is good  3)Battery backup ok.if you want to do basic editing and some gaming then go for atleast 8 GB ram and 4 core processor .READ MORE', 'Compare to i3, ryzen 3 is far better in performance with 4gb ram, full Battery charged still works more than 6 hrs... No heating problem.. Display only not bad quality, rest of them are worth for this amountREAD MORE', 'Very nice product finishing is very good.READ MORE', 'This laptop is very light weight and I am happy!! 🙂🙂READ MORE']\n"
     ]
    }
   ],
   "source": [
    "cust_comts=[]\n",
    "for i in range(0,len(cust_comt)):\n",
    "    cust_comts.append(cust_comt[i].get_text())\n",
    "print(cust_comts)"
   ]
  },
  {
   "cell_type": "code",
   "execution_count": 24,
   "metadata": {},
   "outputs": [
    {
     "name": "stdout",
     "output_type": "stream",
     "text": [
      "Read carefully.. My Experience was complicated just because of boot time i.e. on/off time was too long until I didn't go for updates but once I have done all updates... I am telling you guys...Maska..hai.. Maska..Superb performance.. and look wise i liked it very much. I use to play GT racing without any lag..My daughter is also happy for her online studies.My suggestion is that don't think twice just go for it with Flipkart.Thanks flipkart for very safe and on time delivery.READ MORE#Price up to markIts wonderful product for those ,who looking for  student and domestic work1)Its just my dream lappi,(laptop)2)just go for laptop,its really awesome3)I just bought it for my project and bussiness work it's awesome4)one of the best product from HP5)just price is little high ,it have to be reduced6) I loved it7) I recommend it for u,💯💯❤️READ MORENice laptop and Ryzen 3 is a good processor for multi tasking... Design and color both are good. It's better to go with this HP laptop in this price segment...READ MOREThis laptop needs to be upgraded to at least 8 gb memory for better performance as most of HP bloatware that comes with the windows build use almost 80% of ram all the time. Besides the built in vega gpu shares Ram as it does not have dedicated graphics memory. An SSD upgrade and booting the OS in there should do wonders to the disk I/O and overall performance. Out of the box, laptop is sluggish so 3 stars.READ MOREHP Product is Good/Ok, but personally i will prefer Dell Laptop. Dell Laptop is best & friendly for smooth process& I thing i3 is better comparison to Rayzen 3.READ MOREAwesome and nice for students and all. The favorite things is its comes with Windows and office home and student precious.READ MOREDo not expect much :1)Very slow takes a lot of time just open a browser.2)Design is good  3)Battery backup ok.if you want to do basic editing and some gaming then go for atleast 8 GB ram and 4 core processor .READ MORECompare to i3, ryzen 3 is far better in performance with 4gb ram, full Battery charged still works more than 6 hrs... No heating problem.. Display only not bad quality, rest of them are worth for this amountREAD MOREVery nice product finishing is very good.READ MOREThis laptop is very light weight and I am happy!! 🙂🙂READ MORE"
     ]
    }
   ],
   "source": [
    "for i in cust_comts:\n",
    "    print(i,end='')"
   ]
  },
  {
   "attachments": {},
   "cell_type": "markdown",
   "metadata": {},
   "source": [
    "## Applying Tabular data strcture"
   ]
  },
  {
   "cell_type": "code",
   "execution_count": 25,
   "metadata": {},
   "outputs": [],
   "source": [
    "import pandas as pd"
   ]
  },
  {
   "cell_type": "code",
   "execution_count": 28,
   "metadata": {},
   "outputs": [
    {
     "name": "stdout",
     "output_type": "stream",
     "text": [
      "                cust_name star       review_title  \\\n",
      "0         Vaibhav Bharati    4          Very Good   \n",
      "1           MD MATHIN ALI    5           Terrific   \n",
      "2       Sayani  Banerjee     5  Worth every penny   \n",
      "3          Satyajit Swain    3               Fair   \n",
      "4  Vijay Singh  Shekhawat    3               Fair   \n",
      "5            Anoop Mathew    5          Just wow!   \n",
      "6            Vivek Raturi    3               Good   \n",
      "7        Anand Amirtharaj    4          Wonderful   \n",
      "8       Flipkart Customer    4          Very Good   \n",
      "9         Shivani  Pankaj    4       Nice product   \n",
      "\n",
      "                                           cust_comt  \n",
      "0  Read carefully.. My Experience was complicated...  \n",
      "1  #Price up to markIts wonderful product for tho...  \n",
      "2  Nice laptop and Ryzen 3 is a good processor fo...  \n",
      "3  This laptop needs to be upgraded to at least 8...  \n",
      "4  HP Product is Good/Ok, but personally i will p...  \n",
      "5  Awesome and nice for students and all. The fav...  \n",
      "6  Do not expect much :1)Very slow takes a lot of...  \n",
      "7  Compare to i3, ryzen 3 is far better in perfor...  \n",
      "8  Very nice product finishing is very good.READ ...  \n",
      "9  This laptop is very light weight and I am happ...  \n"
     ]
    }
   ],
   "source": [
    "df=pd.DataFrame()\n",
    "df[\"cust_name\"]=cust_list\n",
    "df[\"star\"]=cust_star\n",
    "df[\"review_title\"]=review_list\n",
    "df[\"cust_comt\"]=cust_comts\n",
    "print(df)"
   ]
  },
  {
   "cell_type": "code",
   "execution_count": null,
   "metadata": {},
   "outputs": [],
   "source": []
  }
 ],
 "metadata": {
  "kernelspec": {
   "display_name": "Python 3",
   "language": "python",
   "name": "python3"
  },
  "language_info": {
   "codemirror_mode": {
    "name": "ipython",
    "version": 3
   },
   "file_extension": ".py",
   "mimetype": "text/x-python",
   "name": "python",
   "nbconvert_exporter": "python",
   "pygments_lexer": "ipython3",
   "version": "3.10.1"
  },
  "orig_nbformat": 4
 },
 "nbformat": 4,
 "nbformat_minor": 2
}
