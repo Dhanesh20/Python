{
 "cells": [
  {
   "attachments": {},
   "cell_type": "markdown",
   "metadata": {},
   "source": [
    "#### break statement"
   ]
  },
  {
   "cell_type": "code",
   "execution_count": 1,
   "metadata": {},
   "outputs": [
    {
     "name": "stdout",
     "output_type": "stream",
     "text": [
      "0\n",
      "1\n",
      "2\n",
      "3\n",
      "4\n",
      "Out of loop\n"
     ]
    }
   ],
   "source": [
    "num=0\n",
    "\n",
    "for num in range(10):\n",
    "    if num == 5:\n",
    "        break\n",
    "    print(num)\n",
    "print(\"Out of loop\")\n"
   ]
  },
  {
   "cell_type": "code",
   "execution_count": 3,
   "metadata": {},
   "outputs": [
    {
     "name": "stdout",
     "output_type": "stream",
     "text": [
      "0\n",
      "1\n",
      "2\n",
      "3\n",
      "4\n",
      "6\n",
      "7\n",
      "8\n",
      "9\n",
      "Out of loop\n"
     ]
    }
   ],
   "source": [
    "#continue statement\n",
    "num=0\n",
    "\n",
    "for num in range(10):\n",
    "    if num == 5:\n",
    "        continue #----------->skip the given condition step and continue afterwards\n",
    "    print(num)\n",
    "print(\"Out of loop\")\n"
   ]
  },
  {
   "cell_type": "code",
   "execution_count": 5,
   "metadata": {},
   "outputs": [
    {
     "name": "stdout",
     "output_type": "stream",
     "text": [
      "0\n",
      "1\n",
      "2\n",
      "3\n",
      "4\n",
      "5\n",
      "6\n",
      "7\n",
      "8\n",
      "9\n",
      "Out of loop\n"
     ]
    }
   ],
   "source": [
    "#pass statement\n",
    "num=0\n",
    "\n",
    "for num in range(10):\n",
    "    if num == 5:\n",
    "        pass\n",
    "    print(num)\n",
    "print(\"Out of loop\")\n"
   ]
  },
  {
   "attachments": {},
   "cell_type": "markdown",
   "metadata": {},
   "source": [
    "## Function"
   ]
  },
  {
   "cell_type": "code",
   "execution_count": 7,
   "metadata": {},
   "outputs": [
    {
     "name": "stdout",
     "output_type": "stream",
     "text": [
      "addition is 14\n"
     ]
    }
   ],
   "source": [
    "#Addition of two number\n",
    "def add_num(a,b):\n",
    "    sum=a+b\n",
    "    return sum\n",
    "num1=int(input(\"Enter first number: \"))\n",
    "num2=int(input(\"Enter second number: \"))\n",
    "print(\"addition is\",add_num(num1,num2))"
   ]
  },
  {
   "cell_type": "code",
   "execution_count": 11,
   "metadata": {},
   "outputs": [
    {
     "name": "stdout",
     "output_type": "stream",
     "text": [
      "151 is palindrome\n"
     ]
    }
   ],
   "source": [
    "def palindrome(n):\n",
    "    rev=0\n",
    "    rem=0\n",
    "    while(n!=0):\n",
    "        rem=n%10\n",
    "        rev=rev*10+rem\n",
    "        n=n//10\n",
    "    return rev\n",
    "num1=int(input(\"Enter a number\"))\n",
    "reverse=palindrome(num1)\n",
    "if num1==reverse:\n",
    "    print(num1,\"is palindrome\")\n",
    "else:\n",
    "    print(num1,\"is not palindrom\")"
   ]
  },
  {
   "cell_type": "code",
   "execution_count": 12,
   "metadata": {},
   "outputs": [
    {
     "name": "stdout",
     "output_type": "stream",
     "text": [
      "odd\n"
     ]
    }
   ],
   "source": [
    "def isevenodd(n):\n",
    "    if n%2==0:\n",
    "        return print(\"even\")\n",
    "    else:\n",
    "        return print(\"odd\")\n",
    "n=int(input())\n",
    "isevenodd(n)"
   ]
  },
  {
   "attachments": {},
   "cell_type": "markdown",
   "metadata": {},
   "source": [
    "### List Comprehension\n"
   ]
  },
  {
   "cell_type": "code",
   "execution_count": 14,
   "metadata": {},
   "outputs": [
    {
     "name": "stdout",
     "output_type": "stream",
     "text": [
      "[2, 3, 4, 5]\n"
     ]
    }
   ],
   "source": [
    "list1=[2,3,4,5]\n",
    "list2=[]\n",
    "list2=list1\n",
    "print(list2)"
   ]
  },
  {
   "attachments": {},
   "cell_type": "markdown",
   "metadata": {},
   "source": [
    "#### newlist=[expr(element) for element in oldlist if condition]"
   ]
  },
  {
   "cell_type": "code",
   "execution_count": 15,
   "metadata": {},
   "outputs": [
    {
     "name": "stdout",
     "output_type": "stream",
     "text": [
      "[1, 2, 3, 4, 5]\n"
     ]
    }
   ],
   "source": [
    "list1=[old_list for old_list in [1,2,3,4,5]]\n",
    "print(list1)"
   ]
  },
  {
   "cell_type": "code",
   "execution_count": 17,
   "metadata": {},
   "outputs": [
    {
     "name": "stdout",
     "output_type": "stream",
     "text": [
      "[1, 5, 6, 9, 7, 8]\n"
     ]
    }
   ],
   "source": [
    "n=int(input())\n",
    "digit=[int(n) for n in str(n)]\n",
    "print(list(digit))"
   ]
  },
  {
   "cell_type": "code",
   "execution_count": 18,
   "metadata": {},
   "outputs": [
    {
     "name": "stdout",
     "output_type": "stream",
     "text": [
      "[0, 2, 4, 6, 8, 10]\n"
     ]
    }
   ],
   "source": [
    "#list comprehension for even and odd\n",
    "list1=[i for i in range(11) if i%2==0]\n",
    "print(list1)"
   ]
  },
  {
   "cell_type": "code",
   "execution_count": 19,
   "metadata": {},
   "outputs": [
    {
     "name": "stdout",
     "output_type": "stream",
     "text": [
      "[4, 2, 6]\n"
     ]
    }
   ],
   "source": [
    "list1=[i for i in [1,4,2,5,6,7] if i%2==0]\n",
    "print(list1)"
   ]
  },
  {
   "cell_type": "code",
   "execution_count": 24,
   "metadata": {},
   "outputs": [
    {
     "data": {
      "text/plain": [
       "[[1, 2, 3], [1, 2, 3], [1, 2, 3]]"
      ]
     },
     "execution_count": 24,
     "metadata": {},
     "output_type": "execute_result"
    }
   ],
   "source": [
    "\n",
    "list2=[[j for j in [1,2,3]]for i in range(3)]\n",
    "list2"
   ]
  },
  {
   "cell_type": "code",
   "execution_count": 30,
   "metadata": {},
   "outputs": [
    {
     "name": "stdout",
     "output_type": "stream",
     "text": [
      "['w', 'e', 'l', 'c', 'o', 'm', 'e', ' ', 't', 'o', ' ', 'd', 'a', 't', 'a', ' ', 's', 'c', 'i', 'e', 'n', 'c', 'e']\n"
     ]
    }
   ],
   "source": [
    "list1=[]\n",
    "list2=[list1 for list1 in \"welcome to data science\"]\n",
    "print(list2)"
   ]
  },
  {
   "cell_type": "code",
   "execution_count": 4,
   "metadata": {},
   "outputs": [
    {
     "name": "stdout",
     "output_type": "stream",
     "text": [
      "24\n",
      "6\n",
      "135\n",
      "1.6666666666666667\n"
     ]
    }
   ],
   "source": [
    "def result(a,b):\n",
    "    print(a+b)\n",
    "    print(a-b)\n",
    "    print(a*b)\n",
    "    print(a/b)\n",
    "    \n",
    "\n",
    "result(15,9)"
   ]
  },
  {
   "cell_type": "code",
   "execution_count": 5,
   "metadata": {},
   "outputs": [
    {
     "name": "stdout",
     "output_type": "stream",
     "text": [
      "Sum is 14,Subtraction is -4,Multiplication is 45,Division is 0.5555555555555556\n"
     ]
    }
   ],
   "source": [
    "def result(a,b):\n",
    "    sum1=a+b\n",
    "    sub=a-b\n",
    "    mul=a*b\n",
    "    div=a/b\n",
    "\n",
    "    print(f\"Sum is {sum1},Subtraction is {sub},Multiplication is {mul},Division is {div}\")\n",
    "num1=int(input())\n",
    "num2=int(input())\n",
    "result(num1,num2)"
   ]
  },
  {
   "cell_type": "code",
   "execution_count": 20,
   "metadata": {},
   "outputs": [
    {
     "ename": "KeyboardInterrupt",
     "evalue": "",
     "output_type": "error",
     "traceback": [
      "\u001b[1;31m---------------------------------------------------------------------------\u001b[0m",
      "\u001b[1;31mKeyboardInterrupt\u001b[0m                         Traceback (most recent call last)",
      "\u001b[1;32mc:\\Users\\Admin\\Desktop\\python\\statements&function.ipynb Cell 20\u001b[0m in \u001b[0;36m<cell line: 10>\u001b[1;34m()\u001b[0m\n\u001b[0;32m      <a href='vscode-notebook-cell:/c%3A/Users/Admin/Desktop/python/statements%26function.ipynb#X25sZmlsZQ%3D%3D?line=7'>8</a>\u001b[0m         \u001b[39mprint\u001b[39m(\u001b[39mf\u001b[39m\u001b[39m\"\u001b[39m\u001b[39mlargest is \u001b[39m\u001b[39m{\u001b[39;00mc\u001b[39m}\u001b[39;00m\u001b[39m\"\u001b[39m)\n\u001b[0;32m      <a href='vscode-notebook-cell:/c%3A/Users/Admin/Desktop/python/statements%26function.ipynb#X25sZmlsZQ%3D%3D?line=8'>9</a>\u001b[0m num1\u001b[39m=\u001b[39m\u001b[39mint\u001b[39m(\u001b[39minput\u001b[39m())\n\u001b[1;32m---> <a href='vscode-notebook-cell:/c%3A/Users/Admin/Desktop/python/statements%26function.ipynb#X25sZmlsZQ%3D%3D?line=9'>10</a>\u001b[0m num2\u001b[39m=\u001b[39m\u001b[39mint\u001b[39;49m(\u001b[39minput\u001b[39m())\n\u001b[0;32m     <a href='vscode-notebook-cell:/c%3A/Users/Admin/Desktop/python/statements%26function.ipynb#X25sZmlsZQ%3D%3D?line=10'>11</a>\u001b[0m num3\u001b[39m=\u001b[39m\u001b[39mint\u001b[39m(\u001b[39minput\u001b[39m())\n\u001b[0;32m     <a href='vscode-notebook-cell:/c%3A/Users/Admin/Desktop/python/statements%26function.ipynb#X25sZmlsZQ%3D%3D?line=11'>12</a>\u001b[0m islargest(num1,num2,num3)\n",
      "\u001b[1;32mc:\\Users\\Admin\\Desktop\\python\\statements&function.ipynb Cell 20\u001b[0m in \u001b[0;36m<cell line: 10>\u001b[1;34m()\u001b[0m\n\u001b[0;32m      <a href='vscode-notebook-cell:/c%3A/Users/Admin/Desktop/python/statements%26function.ipynb#X25sZmlsZQ%3D%3D?line=7'>8</a>\u001b[0m         \u001b[39mprint\u001b[39m(\u001b[39mf\u001b[39m\u001b[39m\"\u001b[39m\u001b[39mlargest is \u001b[39m\u001b[39m{\u001b[39;00mc\u001b[39m}\u001b[39;00m\u001b[39m\"\u001b[39m)\n\u001b[0;32m      <a href='vscode-notebook-cell:/c%3A/Users/Admin/Desktop/python/statements%26function.ipynb#X25sZmlsZQ%3D%3D?line=8'>9</a>\u001b[0m num1\u001b[39m=\u001b[39m\u001b[39mint\u001b[39m(\u001b[39minput\u001b[39m())\n\u001b[1;32m---> <a href='vscode-notebook-cell:/c%3A/Users/Admin/Desktop/python/statements%26function.ipynb#X25sZmlsZQ%3D%3D?line=9'>10</a>\u001b[0m num2\u001b[39m=\u001b[39m\u001b[39mint\u001b[39;49m(\u001b[39minput\u001b[39m())\n\u001b[0;32m     <a href='vscode-notebook-cell:/c%3A/Users/Admin/Desktop/python/statements%26function.ipynb#X25sZmlsZQ%3D%3D?line=10'>11</a>\u001b[0m num3\u001b[39m=\u001b[39m\u001b[39mint\u001b[39m(\u001b[39minput\u001b[39m())\n\u001b[0;32m     <a href='vscode-notebook-cell:/c%3A/Users/Admin/Desktop/python/statements%26function.ipynb#X25sZmlsZQ%3D%3D?line=11'>12</a>\u001b[0m islargest(num1,num2,num3)\n",
      "File \u001b[1;32m_pydevd_bundle/pydevd_cython.pyx:1369\u001b[0m, in \u001b[0;36m_pydevd_bundle.pydevd_cython.SafeCallWrapper.__call__\u001b[1;34m()\u001b[0m\n",
      "File \u001b[1;32m_pydevd_bundle/pydevd_cython.pyx:661\u001b[0m, in \u001b[0;36m_pydevd_bundle.pydevd_cython.PyDBFrame.trace_dispatch\u001b[1;34m()\u001b[0m\n",
      "File \u001b[1;32m_pydevd_bundle/pydevd_cython.pyx:1294\u001b[0m, in \u001b[0;36m_pydevd_bundle.pydevd_cython.PyDBFrame.trace_dispatch\u001b[1;34m()\u001b[0m\n",
      "File \u001b[1;32m_pydevd_bundle/pydevd_cython.pyx:1256\u001b[0m, in \u001b[0;36m_pydevd_bundle.pydevd_cython.PyDBFrame.trace_dispatch\u001b[1;34m()\u001b[0m\n",
      "File \u001b[1;32m_pydevd_bundle/pydevd_cython.pyx:297\u001b[0m, in \u001b[0;36m_pydevd_bundle.pydevd_cython.PyDBFrame.do_wait_suspend\u001b[1;34m()\u001b[0m\n",
      "File \u001b[1;32mc:\\Users\\Admin\\AppData\\Local\\Programs\\Python\\Python310\\lib\\site-packages\\debugpy\\_vendored\\pydevd\\pydevd.py:2055\u001b[0m, in \u001b[0;36mPyDB.do_wait_suspend\u001b[1;34m(self, thread, frame, event, arg, exception_type)\u001b[0m\n\u001b[0;32m   2052\u001b[0m             from_this_thread\u001b[39m.\u001b[39mappend(frame_custom_thread_id)\n\u001b[0;32m   2054\u001b[0m     \u001b[39mwith\u001b[39;00m \u001b[39mself\u001b[39m\u001b[39m.\u001b[39m_threads_suspended_single_notification\u001b[39m.\u001b[39mnotify_thread_suspended(thread_id, stop_reason):\n\u001b[1;32m-> 2055\u001b[0m         keep_suspended \u001b[39m=\u001b[39m \u001b[39mself\u001b[39;49m\u001b[39m.\u001b[39;49m_do_wait_suspend(thread, frame, event, arg, suspend_type, from_this_thread, frames_tracker)\n\u001b[0;32m   2057\u001b[0m frames_list \u001b[39m=\u001b[39m \u001b[39mNone\u001b[39;00m\n\u001b[0;32m   2059\u001b[0m \u001b[39mif\u001b[39;00m keep_suspended:\n\u001b[0;32m   2060\u001b[0m     \u001b[39m# This means that we should pause again after a set next statement.\u001b[39;00m\n",
      "File \u001b[1;32mc:\\Users\\Admin\\AppData\\Local\\Programs\\Python\\Python310\\lib\\site-packages\\debugpy\\_vendored\\pydevd\\pydevd.py:2091\u001b[0m, in \u001b[0;36mPyDB._do_wait_suspend\u001b[1;34m(self, thread, frame, event, arg, suspend_type, from_this_thread, frames_tracker)\u001b[0m\n\u001b[0;32m   2088\u001b[0m         \u001b[39mself\u001b[39m\u001b[39m.\u001b[39m_call_input_hook()\n\u001b[0;32m   2090\u001b[0m     \u001b[39mself\u001b[39m\u001b[39m.\u001b[39mprocess_internal_commands()\n\u001b[1;32m-> 2091\u001b[0m     time\u001b[39m.\u001b[39;49msleep(\u001b[39m0.01\u001b[39;49m)\n\u001b[0;32m   2093\u001b[0m \u001b[39mself\u001b[39m\u001b[39m.\u001b[39mcancel_async_evaluation(get_current_thread_id(thread), \u001b[39mstr\u001b[39m(\u001b[39mid\u001b[39m(frame)))\n\u001b[0;32m   2095\u001b[0m \u001b[39m# process any stepping instructions\u001b[39;00m\n",
      "\u001b[1;31mKeyboardInterrupt\u001b[0m: "
     ]
    }
   ],
   "source": [
    "#find the largest value\n",
    "def islargest(a,b,c):\n",
    "    if (a>b and a>c) :\n",
    "        print(f\"largest is {a}\")\n",
    "    elif (b>a and b>c):\n",
    "        print(f\"largest is {b}\")\n",
    "    else:\n",
    "        print(f\"largest is {c}\")\n",
    "num1=int(input())\n",
    "num2=int(input())\n",
    "num3=int(input())\n",
    "islargest(num1,num2,num3)"
   ]
  },
  {
   "cell_type": "code",
   "execution_count": 24,
   "metadata": {},
   "outputs": [
    {
     "name": "stdout",
     "output_type": "stream",
     "text": [
      "2 \n",
      " 2\n"
     ]
    }
   ],
   "source": [
    "#Define a function to count no of vowels and consonants from strings\n",
    "\n",
    "def string(x):\n",
    "    v=0\n",
    "    cons=0\n",
    "    l1=[\"a\",\"e\",\"i\",\"o\",\"u\",\"A\",\"E\",\"I\",\"O\",\"U\"]\n",
    "\n",
    "    for i in range(len(x)):\n",
    "        if x[i] in l1:\n",
    "            v=v+1\n",
    "        else:\n",
    "            cons=cons+1\n",
    "    print(v,\"\\n\",cons)\n",
    "sen=input()\n",
    "string(sen)\n"
   ]
  },
  {
   "cell_type": "code",
   "execution_count": 25,
   "metadata": {},
   "outputs": [
    {
     "name": "stdout",
     "output_type": "stream",
     "text": [
      "2\n",
      "2\n"
     ]
    }
   ],
   "source": [
    "def count(val):\n",
    "    vow=0\n",
    "    con=0\n",
    "    for i in range(len(val)):\n",
    "        if val[i] in ['a','e','i','o','u']:\n",
    "            vow=vow+1\n",
    "        else:\n",
    "            con=con+1\n",
    "    print(vow)\n",
    "    print(con)\n",
    "x=input()\n",
    "count(x)"
   ]
  },
  {
   "cell_type": "code",
   "execution_count": 26,
   "metadata": {},
   "outputs": [
    {
     "name": "stdout",
     "output_type": "stream",
     "text": [
      "Hello\n"
     ]
    }
   ],
   "source": [
    "#function in variable\n",
    "def add():\n",
    "    print(\"Hello\")\n",
    "x=add\n",
    "x()"
   ]
  },
  {
   "cell_type": "code",
   "execution_count": 29,
   "metadata": {},
   "outputs": [
    {
     "name": "stdout",
     "output_type": "stream",
     "text": [
      "Student\n"
     ]
    },
    {
     "ename": "TypeError",
     "evalue": "display() takes 0 positional arguments but 1 was given",
     "output_type": "error",
     "traceback": [
      "\u001b[1;31m---------------------------------------------------------------------------\u001b[0m",
      "\u001b[1;31mTypeError\u001b[0m                                 Traceback (most recent call last)",
      "\u001b[1;32mc:\\Users\\Admin\\Desktop\\python\\statements&function.ipynb Cell 24\u001b[0m in \u001b[0;36m<cell line: 8>\u001b[1;34m()\u001b[0m\n\u001b[0;32m      <a href='vscode-notebook-cell:/c%3A/Users/Admin/Desktop/python/statements%26function.ipynb#X32sZmlsZQ%3D%3D?line=4'>5</a>\u001b[0m \u001b[39mdef\u001b[39;00m \u001b[39mmsg\u001b[39m():\n\u001b[0;32m      <a href='vscode-notebook-cell:/c%3A/Users/Admin/Desktop/python/statements%26function.ipynb#X32sZmlsZQ%3D%3D?line=5'>6</a>\u001b[0m     \u001b[39mprint\u001b[39m(\u001b[39m\"\u001b[39m\u001b[39mStudent\u001b[39m\u001b[39m\"\u001b[39m)\n\u001b[1;32m----> <a href='vscode-notebook-cell:/c%3A/Users/Admin/Desktop/python/statements%26function.ipynb#X32sZmlsZQ%3D%3D?line=7'>8</a>\u001b[0m display(msg())\n",
      "\u001b[1;31mTypeError\u001b[0m: display() takes 0 positional arguments but 1 was given"
     ]
    }
   ],
   "source": [
    "#pass function as parameter\n",
    "def display():\n",
    "    print(\"Hello\")\n",
    "    \n",
    "def msg():\n",
    "    print(\"Student\")\n",
    "    \n",
    "display(msg())"
   ]
  },
  {
   "cell_type": "code",
   "execution_count": 32,
   "metadata": {},
   "outputs": [
    {
     "name": "stdout",
     "output_type": "stream",
     "text": [
      "First\n",
      "Second\n"
     ]
    }
   ],
   "source": [
    "def first():\n",
    "    print(\"First\")\n",
    "    def second():\n",
    "        print(\"Second\")\n",
    "    return second\n",
    "x=first()\n",
    "x()"
   ]
  },
  {
   "cell_type": "code",
   "execution_count": 33,
   "metadata": {},
   "outputs": [
    {
     "name": "stdout",
     "output_type": "stream",
     "text": [
      "[1, 2, 34, 6, 7, 10]\n"
     ]
    }
   ],
   "source": [
    "#Write a program to remove the repetitive values from list\n",
    "num=[1,2,34,2,6,7,7,10,2,1]\n",
    "s1=set(num)\n",
    "l=list(s1)\n",
    "print(l)"
   ]
  },
  {
   "cell_type": "code",
   "execution_count": 4,
   "metadata": {},
   "outputs": [
    {
     "data": {
      "text/plain": [
       "200.96"
      ]
     },
     "execution_count": 4,
     "metadata": {},
     "output_type": "execute_result"
    }
   ],
   "source": [
    "def area(n):\n",
    "    a=n*n*3.14\n",
    "    return a\n",
    "area(8)\n"
   ]
  },
  {
   "attachments": {},
   "cell_type": "markdown",
   "metadata": {},
   "source": [
    "### Type of argument\n",
    "1. Required Positional argument\n",
    "2. Default argument\n",
    "3. Key-value pair of arguments\n",
    "4. Variable length arguments\n"
   ]
  },
  {
   "cell_type": "code",
   "execution_count": 1,
   "metadata": {},
   "outputs": [
    {
     "name": "stdout",
     "output_type": "stream",
     "text": [
      "22\n"
     ]
    }
   ],
   "source": [
    "#Positional argument\n",
    "def add(a,b):\n",
    "    sum=a+b\n",
    "    print(sum)\n",
    "add(10,12)"
   ]
  },
  {
   "cell_type": "code",
   "execution_count": 5,
   "metadata": {},
   "outputs": [
    {
     "name": "stdout",
     "output_type": "stream",
     "text": [
      "5\n",
      "15\n"
     ]
    }
   ],
   "source": [
    "#Default Argument\n",
    "\n",
    "def add(a=7,b=8):\n",
    "    sum=a+b\n",
    "    print(sum)\n",
    "add(2,3)\n",
    "add()\n"
   ]
  },
  {
   "cell_type": "code",
   "execution_count": 6,
   "metadata": {},
   "outputs": [
    {
     "name": "stdout",
     "output_type": "stream",
     "text": [
      "First name: Rashmi \n",
      " Last name: Rane\n"
     ]
    }
   ],
   "source": [
    "#Keyword Argument\n",
    "def display(fname,lname):\n",
    "    print(\"First name:\",fname,\"\\n\",\"Last name:\",lname)\n",
    "display(lname='Rane',fname='Rashmi')"
   ]
  },
  {
   "cell_type": "code",
   "execution_count": 8,
   "metadata": {},
   "outputs": [
    {
     "name": "stdout",
     "output_type": "stream",
     "text": [
      "Addition: 27\n",
      "Addition: 3\n"
     ]
    }
   ],
   "source": [
    "#variable length\n",
    "def find_sum(*num):\n",
    "    result=0\n",
    "    for i in num:\n",
    "        result=result+i\n",
    "    print(\"Addition:\", result)\n",
    "find_sum(4,9,6,8)\n",
    "find_sum(1,2)"
   ]
  },
  {
   "attachments": {},
   "cell_type": "markdown",
   "metadata": {},
   "source": [
    "### Built-in functions\n",
    "#### lambda"
   ]
  },
  {
   "cell_type": "code",
   "execution_count": 11,
   "metadata": {},
   "outputs": [
    {
     "name": "stdout",
     "output_type": "stream",
     "text": [
      "ECNEICS ATAD\n"
     ]
    }
   ],
   "source": [
    "#Lambda function\n",
    "\n",
    "str1=\"data science\"\n",
    "rev_str=lambda str:str.upper()[::-1]\n",
    "print(rev_str(str1))"
   ]
  },
  {
   "cell_type": "code",
   "execution_count": 12,
   "metadata": {},
   "outputs": [
    {
     "name": "stdout",
     "output_type": "stream",
     "text": [
      "9\n"
     ]
    }
   ],
   "source": [
    "max=lambda a,b:a if(a>b) else b\n",
    "print(max(3,9))"
   ]
  },
  {
   "cell_type": "code",
   "execution_count": 23,
   "metadata": {},
   "outputs": [
    {
     "name": "stdout",
     "output_type": "stream",
     "text": [
      "9\n"
     ]
    }
   ],
   "source": [
    "max=lambda a,b,c:a if(a>b)and(a>c) else b if(b>a)and(b>c) else c   \n",
    "print(max(3,6,9))"
   ]
  },
  {
   "cell_type": "code",
   "execution_count": 3,
   "metadata": {},
   "outputs": [
    {
     "name": "stdout",
     "output_type": "stream",
     "text": [
      "[1, 2, 'data', 2, 20]\n",
      "20\n"
     ]
    }
   ],
   "source": [
    "#Program to find maximum value from heterogeneous list\n",
    "def max_val(list_val):\n",
    "    max_val=max(list_val,key=lambda i:(isinstance(i,int),i))\n",
    "    return (max_val)\n",
    "list_val=[1,2,'data',2,20]\n",
    "print(list_val)\n",
    "print(max_val(list_val))\n"
   ]
  },
  {
   "attachments": {},
   "cell_type": "markdown",
   "metadata": {},
   "source": [
    "#### Filter function"
   ]
  },
  {
   "cell_type": "code",
   "execution_count": 3,
   "metadata": {},
   "outputs": [
    {
     "name": "stdout",
     "output_type": "stream",
     "text": [
      "['Delhi', 'Mumbai', 'Jaipur', 'Jammu']\n"
     ]
    }
   ],
   "source": [
    "cities=[\"Delhi\",\"\",\"Mumbai\",\"\",\"Jaipur\",\"\",\"\",\"Jammu\"]\n",
    "x=list(filter(None,cities))\n",
    "print(x)\n"
   ]
  },
  {
   "cell_type": "code",
   "execution_count": 9,
   "metadata": {},
   "outputs": [
    {
     "name": "stdout",
     "output_type": "stream",
     "text": [
      "(18, 24, 34)\n"
     ]
    }
   ],
   "source": [
    "age=[5,12,18,24,34]\n",
    "# def myage(x):\n",
    "#     if x>=18:\n",
    "#         return True\n",
    "#     else:\n",
    "#         return False \n",
    "driving_wale=tuple(filter(lambda x:x>=18,age ))\n",
    "print(driving_wale)"
   ]
  },
  {
   "cell_type": "code",
   "execution_count": 10,
   "metadata": {},
   "outputs": [
    {
     "name": "stdout",
     "output_type": "stream",
     "text": [
      "(6, 8, 9)\n"
     ]
    }
   ],
   "source": [
    "def filterdata(x):\n",
    "    if x>5:\n",
    "        return x\n",
    "res=filter(filterdata,(1,2,5,6,3,8,9))\n",
    "print(tuple(res))"
   ]
  },
  {
   "cell_type": "code",
   "execution_count": 12,
   "metadata": {},
   "outputs": [
    {
     "name": "stdout",
     "output_type": "stream",
     "text": [
      "[1, 6] \n",
      " [1, True]\n"
     ]
    }
   ],
   "source": [
    "res1=filter(None,(1,0,6))\n",
    "res2=filter(None,(1,0,True,False))\n",
    "print(list(res1),\"\\n\",list(res2))"
   ]
  },
  {
   "cell_type": "code",
   "execution_count": 15,
   "metadata": {},
   "outputs": [
    {
     "name": "stdout",
     "output_type": "stream",
     "text": [
      "(3, 9, 6, 12, 15)\n"
     ]
    }
   ],
   "source": [
    "#Only function can pass in filter no conditions filter(func,iterable datatype)\n",
    "\n",
    "t1=(3,5,8,9,6,12,15)\n",
    "t2=filter(lambda x:x%3==0,t1)\n",
    "print(tuple(t2))"
   ]
  },
  {
   "cell_type": "code",
   "execution_count": 19,
   "metadata": {},
   "outputs": [
    {
     "name": "stdout",
     "output_type": "stream",
     "text": [
      "[2, 4, 20, 22, 40, 42]\n"
     ]
    }
   ],
   "source": [
    "num=[2,4,3,11,19,20,22,40,65,42]\n",
    "t2=filter(lambda x:x%2==0,num)\n",
    "print(list(t2))"
   ]
  },
  {
   "attachments": {},
   "cell_type": "markdown",
   "metadata": {},
   "source": [
    "### Map Function\n",
    "\n",
    "Only function can pass in map no conditions map(func,iterable datatype)"
   ]
  },
  {
   "cell_type": "code",
   "execution_count": 24,
   "metadata": {},
   "outputs": [
    {
     "name": "stdout",
     "output_type": "stream",
     "text": [
      "[576, 1089, 2500]\n"
     ]
    }
   ],
   "source": [
    "age=[5,12,17,24,33,50]\n",
    "\n",
    "# def myfunc(x):\n",
    "#     if x<=18:\n",
    "#         return False\n",
    "#     else:\n",
    "#         return True\n",
    "# def myfunc1(x):\n",
    "#     return x*x\n",
    "\n",
    "emp=filter(lambda x: x>=18,age)\n",
    "squares=list(map(lambda x:x*x,emp))\n",
    "print(squares)"
   ]
  },
  {
   "cell_type": "code",
   "execution_count": 30,
   "metadata": {},
   "outputs": [
    {
     "name": "stdout",
     "output_type": "stream",
     "text": [
      "[576, 1089, 2500]\n"
     ]
    }
   ],
   "source": [
    "print(list(map(lambda x:x*x,list(filter(lambda x: x>=18,age)))))"
   ]
  },
  {
   "cell_type": "code",
   "execution_count": 32,
   "metadata": {},
   "outputs": [
    {
     "name": "stdout",
     "output_type": "stream",
     "text": [
      "[12.56, 28.26, 50.24, 78.5]\n"
     ]
    }
   ],
   "source": [
    "print(list(map(lambda x:x*x*3.14,[2,3,4,5])))"
   ]
  },
  {
   "attachments": {},
   "cell_type": "markdown",
   "metadata": {},
   "source": [
    "### Zip function\n",
    "Zip function is used to combine or join data from different data sets"
   ]
  },
  {
   "cell_type": "code",
   "execution_count": 36,
   "metadata": {},
   "outputs": [
    {
     "name": "stdout",
     "output_type": "stream",
     "text": [
      "[(1, 'a'), (2, 'b'), (3, 'c'), (4, 'd')]\n"
     ]
    }
   ],
   "source": [
    "x=[1,2,3,4]\n",
    "y=[\"a\",\"b\",\"c\",\"d\"]\n",
    "i=list(zip(x,y))\n",
    "print(i)\n",
    "# for i,j in zip(x,y):\n",
    "#     print(i,j)"
   ]
  },
  {
   "cell_type": "code",
   "execution_count": 38,
   "metadata": {},
   "outputs": [
    {
     "name": "stdout",
     "output_type": "stream",
     "text": [
      "{1: 'a', 2: 'b', 3: 'c', 4: 'd'}\n"
     ]
    }
   ],
   "source": [
    "x=[1,2,3,4,5,7,9]\n",
    "y=[\"a\",\"b\",\"c\",\"d\"]\n",
    "i=dict(zip(x,y))\n",
    "print(i)"
   ]
  },
  {
   "cell_type": "code",
   "execution_count": 39,
   "metadata": {},
   "outputs": [
    {
     "name": "stdout",
     "output_type": "stream",
     "text": [
      "{'reliance': 2175, 'infosys': 1127, 'TCS': 2750}\n"
     ]
    }
   ],
   "source": [
    "stock=[\"reliance\",\"infosys\",\"TCS\"]\n",
    "price=[2175,1127,2750]\n",
    "new_dict={stock:price for stock,price in zip(stock,price)}\n",
    "print(new_dict)"
   ]
  },
  {
   "cell_type": "code",
   "execution_count": 1,
   "metadata": {},
   "outputs": [
    {
     "name": "stdout",
     "output_type": "stream",
     "text": [
      "Player:Sachin   Score:100\n",
      "Player:Sehwag   Score:75\n",
      "Player:Rohit   Score:100\n",
      "Player:Raina   Score:80\n"
     ]
    }
   ],
   "source": [
    "players=[\"Sachin\",\"Sehwag\",\"Rohit\",\"Raina\"]\n",
    "scores=[100,75,100,80]\n",
    "for p,sc in zip(players,scores):\n",
    "    print(\"Player:%s   Score:%d\"%(p,sc))"
   ]
  },
  {
   "attachments": {},
   "cell_type": "markdown",
   "metadata": {},
   "source": [
    "### Reduce Function"
   ]
  },
  {
   "cell_type": "code",
   "execution_count": 2,
   "metadata": {},
   "outputs": [
    {
     "name": "stdout",
     "output_type": "stream",
     "text": [
      "24\n"
     ]
    }
   ],
   "source": [
    "import functools\n",
    "\n",
    "\n",
    "num=[1,2,3,5,6,7]\n",
    "print(functools.reduce(lambda a,b:a+b,num))"
   ]
  },
  {
   "cell_type": "code",
   "execution_count": 8,
   "metadata": {},
   "outputs": [
    {
     "name": "stdout",
     "output_type": "stream",
     "text": [
      "7\n",
      "7\n"
     ]
    }
   ],
   "source": [
    "num=[1,2,3,5,6,7]\n",
    "print(functools.reduce(lambda a,b:a if a>b else b,num))\n",
    "print(functools.reduce(lambda a,b:max(a,b),num))"
   ]
  },
  {
   "cell_type": "code",
   "execution_count": 19,
   "metadata": {},
   "outputs": [
    {
     "name": "stdout",
     "output_type": "stream",
     "text": [
      "The sum of the numbers in list 41\n",
      "5040\n",
      "Today is Wednesday\n",
      "-39\n",
      "1\n",
      "(<built-in function add>, [1, 4, 7, 9, 20])\n"
     ]
    }
   ],
   "source": [
    "#reduce function with operator function\n",
    "import operator\n",
    "num1=[1,4,7,9,20]\n",
    "print(\"The sum of the numbers in list\",end=\" \")\n",
    "\n",
    "print(functools.reduce(operator.add,num1))\n",
    "print(functools.reduce(operator.mul,num1))\n",
    "print(functools.reduce(operator.concat,[\"Today \",\"is \",\"Wednesday\"]))\n",
    "print(functools.reduce(operator.sub,num1))\n",
    "print(functools.reduce(operator.mod,num))\n"
   ]
  },
  {
   "cell_type": "code",
   "execution_count": 26,
   "metadata": {},
   "outputs": [
    {
     "name": "stdout",
     "output_type": "stream",
     "text": [
      "Python\n"
     ]
    }
   ],
   "source": [
    "name=\"python\"\n",
    "n1=name.upper()\n",
    "print(n1[0]+name[1:])"
   ]
  },
  {
   "cell_type": "code",
   "execution_count": 40,
   "metadata": {},
   "outputs": [
    {
     "name": "stdout",
     "output_type": "stream",
     "text": [
      "This Is Pyhton Module "
     ]
    }
   ],
   "source": [
    "s=\"this is pyhton module\"\n",
    "list1=s.split()\n",
    "for i in list1:\n",
    "    z=i[0].upper()+i[1:]\n",
    "    print(z,end=\" \")\n",
    "\n",
    "\n",
    "\n"
   ]
  },
  {
   "attachments": {},
   "cell_type": "markdown",
   "metadata": {},
   "source": [
    "### CLASSESS OOP "
   ]
  },
  {
   "cell_type": "code",
   "execution_count": 7,
   "metadata": {},
   "outputs": [
    {
     "name": "stdout",
     "output_type": "stream",
     "text": [
      "I am  Dhanesh\n",
      "My department is  IT\n",
      "I am  Dhanesh\n",
      "My department is  IT\n"
     ]
    }
   ],
   "source": [
    "class Employee:\n",
    "    ename=\"Dhanesh\"\n",
    "    dept=\"IT\"\n",
    "    \n",
    "    def emp_info(self):\n",
    "        print(\"I am \",self.ename)\n",
    "        print(\"My department is \",self.dept)\n",
    "e1=Employee() # object creation\n",
    "e1.emp_info()\n",
    "# Employee.emp_info(self=e1)\n"
   ]
  },
  {
   "cell_type": "code",
   "execution_count": 10,
   "metadata": {},
   "outputs": [
    {
     "name": "stdout",
     "output_type": "stream",
     "text": [
      "Enter two number:\n",
      "10\n",
      " addtion of two number \n"
     ]
    }
   ],
   "source": [
    "class calc:\n",
    "    def add(self,a,b):\n",
    "        ''' addtion of two number '''\n",
    "        return a+b\n",
    "print(\"Enter two number:\")\n",
    "first=int(input())\n",
    "second=int(input())\n",
    "c1=calc()\n",
    "res=c1.add(first,second)\n",
    "print(res)\n",
    "print(c1.add.__doc__)"
   ]
  },
  {
   "cell_type": "code",
   "execution_count": 11,
   "metadata": {},
   "outputs": [
    {
     "name": "stdout",
     "output_type": "stream",
     "text": [
      "Enter two number:\n",
      "14 \n",
      " -4 \n",
      " 45\n",
      " addtion of two number \n"
     ]
    }
   ],
   "source": [
    "class calc:\n",
    "    def add(self,a,b):\n",
    "        ''' addtion of two number '''\n",
    "        return a+b\n",
    "    def sub(self,a,b):\n",
    "        '''subtraction of two number '''\n",
    "        return a-b\n",
    "    def mul(self,a,b):\n",
    "        '''multiply two number '''\n",
    "        return a*b\n",
    "print(\"Enter two number:\")\n",
    "first=int(input())\n",
    "second=int(input())\n",
    "c1=calc()\n",
    "res=c1.add(first,second)\n",
    "res1=c1.sub(first,second)\n",
    "res2=c1.mul(first,second)\n",
    "print(res,\"\\n\",res1,\"\\n\",res2)\n",
    "print(c1.add.__doc__)"
   ]
  },
  {
   "cell_type": "code",
   "execution_count": 15,
   "metadata": {},
   "outputs": [
    {
     "name": "stdout",
     "output_type": "stream",
     "text": [
      "Dhanesh \n",
      " 45\n",
      "Rahul \n",
      " 89\n",
      "Dfsf \n",
      " 456\n"
     ]
    }
   ],
   "source": [
    "class Student:\n",
    "    def __init__(self):\n",
    "        self.sname=input(\"Enter the name of student\")\n",
    "        self.rollno=int(input(\"Enter roll no\"))\n",
    "        self.display()\n",
    "    def display(self):\n",
    "        print(self.sname,\"\\n\",self.rollno)\n",
    "s1=Student()\n",
    "s2=Student()\n",
    "s3=Student()\n",
    "\n"
   ]
  },
  {
   "cell_type": "code",
   "execution_count": 4,
   "metadata": {},
   "outputs": [
    {
     "name": "stdout",
     "output_type": "stream",
     "text": [
      "This is parent class\n",
      "This is child class\n"
     ]
    }
   ],
   "source": [
    "# Single Inheritance\n",
    "class parents: \n",
    "    def info(self):\n",
    "        print(\"This is parent class\")\n",
    "class child (parents):\n",
    "    def child_info(self):\n",
    "        print(\"This is child class\")\n",
    "s1=child()\n",
    "s1.info()\n",
    "s1.child_info()\n",
    "\n",
    "        "
   ]
  },
  {
   "cell_type": "code",
   "execution_count": 12,
   "metadata": {},
   "outputs": [
    {
     "name": "stdout",
     "output_type": "stream",
     "text": [
      "The area is :  45\n"
     ]
    }
   ],
   "source": [
    "class parents: \n",
    "    def info(self):\n",
    "        self.l=int(input())\n",
    "        self.b=int(input())\n",
    "class child (parents):\n",
    "    def child_info(self):\n",
    "        a=self.l*self.b\n",
    "        print(\"The area is : \",a)\n",
    "       \n",
    "s1=child()\n",
    "s1.info()\n",
    "s1.child_info()\n"
   ]
  },
  {
   "cell_type": "code",
   "execution_count": 13,
   "metadata": {},
   "outputs": [
    {
     "name": "stdout",
     "output_type": "stream",
     "text": [
      "Area of rectangle:  45\n"
     ]
    }
   ],
   "source": [
    "class rectangle:\n",
    "    def __init__(self,le,br):\n",
    "        self.le = le\n",
    "        self.br = br\n",
    "class area(rectangle):\n",
    "    def area(self):\n",
    "        rect_area=le*br\n",
    "        return rect_area\n",
    "le=int(input(\"Enter the Length: \"))\n",
    "br=int(input(\"Enter the breadth: \"))\n",
    "a1=area(le,br)\n",
    "print(\"Area of rectangle: \",a1.area())"
   ]
  },
  {
   "cell_type": "code",
   "execution_count": 21,
   "metadata": {},
   "outputs": [
    {
     "name": "stdout",
     "output_type": "stream",
     "text": [
      "black\n",
      "black-brown\n",
      "straight\n",
      "I am child class\n",
      "I am mother class\n",
      "I am father class\n"
     ]
    }
   ],
   "source": [
    "# Multiple Inheritance\n",
    "class father:\n",
    "    eyes=\"black\"\n",
    "    def dad_info(self):\n",
    "        return \"I am father class\"\n",
    "    \n",
    "class mother:\n",
    "    eyes=\"brown\"\n",
    "    hair=\"black-brown\"\n",
    "    nose=\"straight\"\n",
    "\n",
    "    def mother_info(self):\n",
    "        return \"I am mother class\"\n",
    "class child(father,mother):\n",
    "    def info(self):\n",
    "        return \"I am child class\"\n",
    "    \n",
    "c1=child()\n",
    "print(c1.eyes)\n",
    "print(c1.hair)\n",
    "print(c1.nose)\n",
    "print(c1.info())\n",
    "print(c1.mother_info())\n",
    "print(c1.dad_info())"
   ]
  },
  {
   "cell_type": "code",
   "execution_count": 3,
   "metadata": {},
   "outputs": [
    {
     "name": "stdout",
     "output_type": "stream",
     "text": [
      "Dhanesh is having 60000 and living in Dombivli\n",
      "Income 390000.0\n"
     ]
    }
   ],
   "source": [
    "#Multilevel Inheritance\n",
    "class Emp:\n",
    "    name = \"Dhanesh\"\n",
    "    sal=60000\n",
    "    city='Dombivli'\n",
    "\n",
    "    def info(self):\n",
    "        print(f\"{self.name} is having {self.sal} and living in {self.city}\")\n",
    "class Edu_tax_info(Emp):\n",
    "    deg='MCA'\n",
    "    grade='A+'\n",
    "    tax=6.5\n",
    "class sal_calc(Edu_tax_info):\n",
    "    def annual_inc(self):\n",
    "        tot_sal = self.sal*self.tax\n",
    "        return tot_sal\n",
    "s1=sal_calc()\n",
    "s1.info()\n",
    "print(\"Income\",s1.annual_inc())"
   ]
  },
  {
   "cell_type": "code",
   "execution_count": 14,
   "metadata": {},
   "outputs": [
    {
     "name": "stdout",
     "output_type": "stream",
     "text": [
      "25 \n",
      " 78.5\n"
     ]
    }
   ],
   "source": [
    "class circle:\n",
    "    r=int(input(\"Enter the radius\"))\n",
    "class rectangle:\n",
    "    l=int(input(\"Enter the length of the rectangle\"))\n",
    "    b=int(input(\"Enter the breadth of the rectangle\"))\n",
    "class area(circle,rectangle):\n",
    "    def whole(self):\n",
    "        area1=self.l*self.b\n",
    "        area2=self.r*self.r*3.14\n",
    "        return print(area1,\"\\n\",area2)\n",
    "a1=area()\n",
    "a1.whole()"
   ]
  },
  {
   "cell_type": "code",
   "execution_count": 15,
   "metadata": {},
   "outputs": [
    {
     "name": "stdout",
     "output_type": "stream",
     "text": [
      "The Addition is 14\n",
      "The Multiplication is 45\n"
     ]
    }
   ],
   "source": [
    "# Hierarchical Inheritance\n",
    "class A: \n",
    "    num1=int(input())\n",
    "    num2=int(input())\n",
    "class B(A):\n",
    "    def mult(self):\n",
    "        mult1=self.num1*self.num2\n",
    "        return mult1\n",
    "class C(A):\n",
    "    def add(self):\n",
    "        add1=self.num1+self.num2\n",
    "        return add1\n",
    "c1=C()\n",
    "b1=B()\n",
    "print(f\"The Addition is {c1.add()}\")\n",
    "print(f\"The Multiplication is {b1.mult()}\")"
   ]
  },
  {
   "cell_type": "code",
   "execution_count": 18,
   "metadata": {},
   "outputs": [
    {
     "name": "stdout",
     "output_type": "stream",
     "text": [
      "I am parent\n",
      "back in my days\n",
      "I am child\n"
     ]
    }
   ],
   "source": [
    "# Super() Function\n",
    "class parent:\n",
    "    def __init__(self):\n",
    "        self.p_attri=\"I am parent\"\n",
    "    def p_method(self):\n",
    "        print(\"back in my days\")\n",
    "class child(parent):\n",
    "    def __init__(self):\n",
    "        super().__init__()\n",
    "        self.c_attri=\"I am child\"\n",
    "c1=child()\n",
    "print(c1.p_attri)\n",
    "c1.p_method()\n",
    "print(c1.c_attri)\n"
   ]
  },
  {
   "attachments": {},
   "cell_type": "markdown",
   "metadata": {},
   "source": [
    "### Operator Overloading"
   ]
  },
  {
   "cell_type": "code",
   "execution_count": 5,
   "metadata": {},
   "outputs": [
    {
     "name": "stdout",
     "output_type": "stream",
     "text": [
      "3 \n",
      " DataScience\n"
     ]
    }
   ],
   "source": [
    "class A:\n",
    "    def __init__(self,a):\n",
    "        self.a=a\n",
    "    def __add__(self,other):\n",
    "        return self.a+other.a\n",
    "a1=A(1)\n",
    "a2=A(2)\n",
    "a3=\"Data\"\n",
    "a4=\"Science\"\n",
    "print(a1+a2,\"\\n\",a3+a4) "
   ]
  },
  {
   "cell_type": "code",
   "execution_count": 7,
   "metadata": {},
   "outputs": [
    {
     "name": "stdout",
     "output_type": "stream",
     "text": [
      "(9, 5)\n"
     ]
    }
   ],
   "source": [
    "class Numbers: \n",
    "    def __init__(self,a,b):\n",
    "        self.a = a\n",
    "        self.b = b\n",
    "    def __add__(self,o):\n",
    "        return self.a+o.a,self.b+o.b\n",
    "n1=Numbers(1,2)\n",
    "n2=Numbers(8,3)\n",
    "\n",
    "res=n1+n2\n",
    "print(res)"
   ]
  },
  {
   "cell_type": "code",
   "execution_count": 8,
   "metadata": {},
   "outputs": [
    {
     "name": "stdout",
     "output_type": "stream",
     "text": [
      "C2 is greater\n"
     ]
    }
   ],
   "source": [
    "class check:\n",
    "    def __init__(self,x):\n",
    "        self.x=x\n",
    "    def __gt__(s,o):\n",
    "        if (s.x>o.x):\n",
    "            return True\n",
    "        else:\n",
    "            return False\n",
    "c1=check(10)\n",
    "c2=check(20)\n",
    "if (c1>c2):\n",
    "    print(\"C1 is greater\")\n",
    "else:\n",
    "    print(\"C2 is greater\")"
   ]
  },
  {
   "cell_type": "code",
   "execution_count": 9,
   "metadata": {},
   "outputs": [
    {
     "name": "stdout",
     "output_type": "stream",
     "text": [
      "The Zen of Python, by Tim Peters\n",
      "\n",
      "Beautiful is better than ugly.\n",
      "Explicit is better than implicit.\n",
      "Simple is better than complex.\n",
      "Complex is better than complicated.\n",
      "Flat is better than nested.\n",
      "Sparse is better than dense.\n",
      "Readability counts.\n",
      "Special cases aren't special enough to break the rules.\n",
      "Although practicality beats purity.\n",
      "Errors should never pass silently.\n",
      "Unless explicitly silenced.\n",
      "In the face of ambiguity, refuse the temptation to guess.\n",
      "There should be one-- and preferably only one --obvious way to do it.\n",
      "Although that way may not be obvious at first unless you're Dutch.\n",
      "Now is better than never.\n",
      "Although never is often better than *right* now.\n",
      "If the implementation is hard to explain, it's a bad idea.\n",
      "If the implementation is easy to explain, it may be a good idea.\n",
      "Namespaces are one honking great idea -- let's do more of those!\n",
      "{'A': 'N', 'B': 'O', 'C': 'P', 'D': 'Q', 'E': 'R', 'F': 'S', 'G': 'T', 'H': 'U', 'I': 'V', 'J': 'W', 'K': 'X', 'L': 'Y', 'M': 'Z', 'N': 'A', 'O': 'B', 'P': 'C', 'Q': 'D', 'R': 'E', 'S': 'F', 'T': 'G', 'U': 'H', 'V': 'I', 'W': 'J', 'X': 'K', 'Y': 'L', 'Z': 'M', 'a': 'n', 'b': 'o', 'c': 'p', 'd': 'q', 'e': 'r', 'f': 's', 'g': 't', 'h': 'u', 'i': 'v', 'j': 'w', 'k': 'x', 'l': 'y', 'm': 'z', 'n': 'a', 'o': 'b', 'p': 'c', 'q': 'd', 'r': 'e', 's': 'f', 't': 'g', 'u': 'h', 'v': 'i', 'w': 'j', 'x': 'k', 'y': 'l', 'z': 'm'}\n"
     ]
    }
   ],
   "source": [
    "import this\n",
    "print(this.d)"
   ]
  },
  {
   "cell_type": "code",
   "execution_count": 24,
   "metadata": {},
   "outputs": [],
   "source": [
    "# file handling\n",
    "file=open(\"demo.txt\", \"w\")\n",
    "file.write(\"\"\"The Zen of Python, by Tim Peters\n",
    "\n",
    "Beautiful is better than ugly.\n",
    "Explicit is better than implicit.\n",
    "Simple is better than complex.\n",
    "Complex is better than complicated.\n",
    "Flat is better than nested.\n",
    "Sparse is better than dense.\n",
    "Readability counts.\n",
    "Special cases aren't special enough to break the rules.\n",
    "Although practicality beats purity.\n",
    "Errors should never pass silently.\n",
    "Unless explicitly silenced.\n",
    "In the face of ambiguity, refuse the temptation to guess.\n",
    "There should be one-- and preferably only one --obvious way to do it.\n",
    "Although that way may not be obvious at first unless you're Dutch.\n",
    "Now is better than never.\n",
    "Although never is often better than *right* now.\n",
    "If the implementation is hard to explain, it's a bad idea.\n",
    "If the implementation is easy to explain, it may be a good idea.\n",
    "Namespaces are one honking great idea -- let's do more of those!\"\"\")\n",
    "file.close()"
   ]
  },
  {
   "cell_type": "code",
   "execution_count": 43,
   "metadata": {},
   "outputs": [
    {
     "name": "stdout",
     "output_type": "stream",
     "text": [
      "This is python lang\n",
      "This is a data science\n",
      "Today's topic is File Handling\n"
     ]
    }
   ],
   "source": [
    "import shutil\n",
    "file=open(\"demo1.txt\",\"w\")\n",
    "file.write(\"This is python lang\\n\")\n",
    "file=open(\"demo1.txt\",\"a\")\n",
    "file.write(\"This is a data science\\nToday's topic is File Handling\")\n",
    "file=open(\"demo1.txt\",\"r\")\n",
    "w=file.read()\n",
    "print(w)\n",
    "file.close()\n",
    "# shutil.copy(\"demo1.txt\",\"test.txt\")"
   ]
  },
  {
   "cell_type": "code",
   "execution_count": null,
   "metadata": {},
   "outputs": [],
   "source": []
  },
  {
   "cell_type": "code",
   "execution_count": null,
   "metadata": {},
   "outputs": [],
   "source": []
  }
 ],
 "metadata": {
  "kernelspec": {
   "display_name": "Python 3",
   "language": "python",
   "name": "python3"
  },
  "language_info": {
   "codemirror_mode": {
    "name": "ipython",
    "version": 3
   },
   "file_extension": ".py",
   "mimetype": "text/x-python",
   "name": "python",
   "nbconvert_exporter": "python",
   "pygments_lexer": "ipython3",
   "version": "3.10.1"
  },
  "orig_nbformat": 4
 },
 "nbformat": 4,
 "nbformat_minor": 2
}
